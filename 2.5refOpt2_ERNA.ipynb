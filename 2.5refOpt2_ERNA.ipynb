{
 "cells": [
  {
   "cell_type": "markdown",
   "metadata": {},
   "source": [
    "# Optimize denovo reference\n",
    "    This script uses scripts provided by dDocent to de novo assembly in CD-HIT\n",
    "    https://www.ddocent.com/assembly/\n",
    "    \n",
    "    Run dDocent first with basic commands. Use individuals retained from filtering to make assembly\n",
    "    \n",
    "## REDONE on 12/20/2022  \n",
    "\n",
    "This is after most analyses. Want to be more strict about clustering simularity. Want to thoughtfully select individuals based off what is known"
   ]
  },
  {
   "cell_type": "markdown",
   "metadata": {},
   "source": [
    "## For reference throughout this notebook:\n",
    "\n",
    "**All unformatted text part of Trevor's original workflow.  Seth's annotations follow these rules**:  \n",
    "+ *this text* = conceptual explanation of code<br>\n",
    "+ <span style=\"color:purple\">**this text**</span> = logical `code` explanation<br>\n",
    "+ <span style=\"color:tomato\">*this text*</span> = questions, uncertainties, parenthetical comments<br>\n",
    "&nbsp;<br>\n",
    "\n",
    "With that defined let's create a new section to talk about organization in this notebook...\n",
    "<hr>\n",
    "<hr>\n",
    "    \n",
    "## Sections:\n",
    "\n",
    "1. Exploring file contents and formatting to run `RefOpt.sh`\n",
    "2. Building slurm scripts to parallel run `RefOpt.sh`\n",
    "3. Interpreting `RefOpt` output for determing optimal c parameter\n",
    "4. Building slurm scripts to parallel run `MapOpt.sh`\n",
    "5. Compare k parameters from `MapOpt` to create optimal assembly from full dataset"
   ]
  },
  {
   "cell_type": "markdown",
   "metadata": {},
   "source": [
    "### 1.1 Import packages"
   ]
  },
  {
   "cell_type": "code",
   "execution_count": 1,
   "metadata": {
    "ExecuteTime": {}
   },
   "outputs": [],
   "source": [
    "import sys\n",
    "import ipyparallel as ipp\n",
    "import os\n",
    "from os import environ\n",
    "import gzip\n",
    "import warnings\n",
    "import pandas as pd\n",
    "import numpy as np\n",
    "import scipy as sp\n",
    "import glob\n",
    "import re\n",
    "import random"
   ]
  },
  {
   "cell_type": "markdown",
   "metadata": {},
   "source": [
    "*Just defining directory where we are working and checking with `pwd`*"
   ]
  },
  {
   "cell_type": "code",
   "execution_count": 2,
   "metadata": {
    "ExecuteTime": {}
   },
   "outputs": [],
   "source": [
    "root = \"/data/gpfs/assoc/denovo/tfaske/rabbit/full/REDO\""
   ]
  },
  {
   "cell_type": "code",
   "execution_count": 3,
   "metadata": {
    "ExecuteTime": {}
   },
   "outputs": [
    {
     "name": "stdout",
     "output_type": "stream",
     "text": [
      "/data/gpfs/assoc/denovo/tfaske/rabbit/full/REDO\n"
     ]
    }
   ],
   "source": [
    "cd $root"
   ]
  },
  {
   "cell_type": "code",
   "execution_count": 4,
   "metadata": {
    "ExecuteTime": {}
   },
   "outputs": [
    {
     "data": {
      "text/plain": [
       "'/data/gpfs/assoc/denovo/tfaske/rabbit/full/REDO'"
      ]
     },
     "execution_count": 4,
     "metadata": {},
     "output_type": "execute_result"
    }
   ],
   "source": [
    "pwd"
   ]
  },
  {
   "cell_type": "markdown",
   "metadata": {},
   "source": [
    "### 1.2 Make assembly refopt dir and assign fastq dir"
   ]
  },
  {
   "cell_type": "markdown",
   "metadata": {},
   "source": [
    "*directory itself is called 'assembly' while 'assembly_dir' is variable name presumably to avoid some variable/function confusion*"
   ]
  },
  {
   "cell_type": "code",
   "execution_count": 5,
   "metadata": {},
   "outputs": [
    {
     "name": "stdout",
     "output_type": "stream",
     "text": [
      "mkdir: cannot create directory ‘assembly’: File exists\r\n"
     ]
    }
   ],
   "source": [
    "!mkdir assembly"
   ]
  },
  {
   "cell_type": "code",
   "execution_count": 6,
   "metadata": {},
   "outputs": [],
   "source": [
    "!mkdir assembly/refOpt2"
   ]
  },
  {
   "cell_type": "code",
   "execution_count": 7,
   "metadata": {},
   "outputs": [],
   "source": [
    "assembly_dir = os.path.join(root,'assembly')"
   ]
  },
  {
   "cell_type": "code",
   "execution_count": 8,
   "metadata": {},
   "outputs": [],
   "source": [
    "refOpt_dir = os.path.join(assembly_dir,'refOpt2')"
   ]
  },
  {
   "cell_type": "code",
   "execution_count": 9,
   "metadata": {},
   "outputs": [],
   "source": [
    "fq_dir = '/data/gpfs/assoc/denovo/tfaske/rabbit/full/demult/fastq'"
   ]
  },
  {
   "cell_type": "markdown",
   "metadata": {},
   "source": [
    "### 1.5 Sample random fastq for optimizer  \n",
    "\n",
    "using pca_df.csv from old analyses, select individuals. Do it in R, easier for me.\n",
    "\n",
    "Select XXXX individuals. equal porportions of groups. "
   ]
  },
  {
   "cell_type": "markdown",
   "metadata": {},
   "source": [
    "*Idea here is to reduce the data we are initializing `RefOpt` and `MapOpt` on for efficiency purposes.  These test runs are just to determine optimal c, k1, and k2 parameters to build a final assembly for mapping.  Both scripts are huge alignment processes and would take way too long to run on full dataset.  Using 1 individual from eqach population with the most reads is a nice compromise. The final assembly will use **full** dataset.*"
   ]
  },
  {
   "cell_type": "code",
   "execution_count": 10,
   "metadata": {},
   "outputs": [
    {
     "name": "stdout",
     "output_type": "stream",
     "text": [
      "/data/gpfs/assoc/denovo/tfaske/rabbit/full/REDO\n"
     ]
    }
   ],
   "source": [
    "cd $root"
   ]
  },
  {
   "cell_type": "code",
   "execution_count": 11,
   "metadata": {},
   "outputs": [],
   "source": [
    "%load_ext rpy2.ipython"
   ]
  },
  {
   "cell_type": "code",
   "execution_count": 12,
   "metadata": {},
   "outputs": [
    {
     "name": "stdout",
     "output_type": "stream",
     "text": [
      "[1] 585  24\n"
     ]
    }
   ],
   "source": [
    "%%R \n",
    "\n",
    "setwd('/data/gpfs/assoc/denovo/tfaske/rabbit/full/REDO')\n",
    "\n",
    "pca_df <- read.csv('data/pca_df.csv')\n",
    "\n",
    "dim(pca_df)\n",
    "#print(table(paste0(pca_df$Variety,'_',pca_df$Color))"
   ]
  },
  {
   "cell_type": "code",
   "execution_count": 14,
   "metadata": {},
   "outputs": [
    {
     "name": "stdout",
     "output_type": "stream",
     "text": [
      "[1] 75 24\n",
      "[1] 435  24\n",
      "\n",
      " green   grey hybrid \n",
      "    71    263    101 \n"
     ]
    }
   ],
   "source": [
    "%%R\n",
    "\n",
    "pca_known <- pca_df[-which(is.na(pca_df$Ssp)),]\n",
    "group <- c('arenaria','bigelovii','graveolens','iridis','juncea','mohavensis','nana','nitida','turbinata')\n",
    "\n",
    "\n",
    "pca_group <- pca_known[which(pca_known$Variety %in% group),]\n",
    "pca_nongroup <- pca_known[-which(pca_known$Variety %in% group),]\n",
    "\n",
    "print(dim(pca_group))\n",
    "print(dim(pca_nongroup))\n",
    "\n",
    "table(pca_nongroup$Color)\n",
    "\n",
    "#pca_known <- pca_df[-which(is.na(pca_df$Ssp)),]\n",
    "#pca_known$Variety <- as.character(pca_known$Variety)\n",
    "#pca_known$Color <- as.character(pca_known$Color)\n",
    "#dim(pca_known)\n",
    "#table(pca_known$Variety)\n",
    "#pca_known$var_col <- as.character(paste0(pca_known$Variety,'_',pca_known$Color))\n",
    "#table(pca_known$var_col)"
   ]
  },
  {
   "cell_type": "markdown",
   "metadata": {},
   "source": [
    "### Select equal groups: 75 group, 71 green, 101 hybrid, 263 grey"
   ]
  },
  {
   "cell_type": "code",
   "execution_count": 21,
   "metadata": {},
   "outputs": [
    {
     "name": "stdout",
     "output_type": "stream",
     "text": [
      "[1]  3.00  2.84  4.04 10.52\n",
      " [1] \"EN_SJ_11\" \"EN_JT_4\"  \"EN_RS_1\"  \"EN_NI_5\"  \"EN_CI_4\"  \"EN_EW_12\"\n",
      " [7] \"EN_DT_5\"  \"EN_BC_8\"  \"EN_AH_15\" \"EN_GO_4\"  \"EN_WA_3\"  \"EN_UO_3\" \n",
      "[13] \"EN_OO_6\"  \"EN_OO_5\"  \"EN_RH_1\"  \"EN_HO_4\"  \"EN_BM_21\" \"EN_BV_30\"\n",
      "[19] \"EN_DC_7\"  \"EN_PL_22\" \"EN_DH_25\" \"EN_PL_17\" \"EN_BM_19\" \"EN_PL_5\" \n",
      "[25] \"EN_DH_19\"\n"
     ]
    }
   ],
   "source": [
    "%%R\n",
    "\n",
    "numbers <- c(75,71,101,263)/25\n",
    "print(numbers)\n",
    "\n",
    "keep_group <- sample(pca_group$All,5)\n",
    "keep_green <- sample(pca_nongroup$All[which(pca_nongroup$Color == 'green')],6)\n",
    "keep_hyb <- sample(pca_nongroup$All[which(pca_nongroup$Color == 'hybrid')],4)       \n",
    "keep_grey <- sample(pca_nongroup$All[which(pca_nongroup$Color == 'grey')],10)  \n",
    "\n",
    "keep_fq <- c(keep_group,keep_green,keep_hyb,keep_grey)\n",
    "keep_fq"
   ]
  },
  {
   "cell_type": "code",
   "execution_count": 23,
   "metadata": {},
   "outputs": [],
   "source": [
    "%%R\n",
    "#keep_fq\n",
    "### mv keep_fq to refOpt\n",
    "\n",
    "fq_dir <- '/data/gpfs/assoc/denovo/tfaske/rabbit/full/demult/fastq/'\n",
    "refOpt_dir <- '/data/gpfs/assoc/denovo/tfaske/rabbit/full/REDO/assembly/refOpt2/'\n",
    "\n",
    "#cp_cmd <- array(NA,dim=length(keep_fq))\n",
    "for (i in 1:length(keep_fq)){\n",
    "    #cp_cmd[i] <- paste0('cp ',fq_dir,keep_fq[i],'.F.fq.gz ',refOpt_dir)\n",
    "    cmd <- paste0('cp ',fq_dir,keep_fq[i],'.F.fq.gz ',refOpt_dir)\n",
    "    system(cmd)\n",
    "}\n",
    "#cp_cmd"
   ]
  },
  {
   "cell_type": "code",
   "execution_count": 24,
   "metadata": {},
   "outputs": [
    {
     "name": "stdout",
     "output_type": "stream",
     "text": [
      "25\r\n"
     ]
    }
   ],
   "source": [
    "!ls {refOpt_dir}/*gz | wc -l "
   ]
  },
  {
   "cell_type": "markdown",
   "metadata": {
    "ExecuteTime": {}
   },
   "source": [
    "# 2. Make a slurm script to run ReferenceOpt.sh   \n",
    "\n",
    "ReferenceOpt.sh minK1 maxK1 minK2 maxK2 Assembly_Type Processors  \n",
    "    \n",
    "#### NOTE: must run dDocent to at least trim first "
   ]
  },
  {
   "cell_type": "markdown",
   "metadata": {},
   "source": [
    "### Understanding ReferenceOpt.sh (in process of transferring notes)\n",
    "\n",
    "Much of the details can't be found here: http://www.ddocent.com/assembly/<br>\n",
    "This script is written by Jon Puritz to determine what c parameter is optimal for reference assembly.  The steps below are repeatedly iteratively with all c values 0.80-0.98 and 0.02 increments.  Each of these c parameters are also run with each combination of k1 and k2 parameters based on a set min-max range (here we use 4-10 for both).  k1 indicates the minimum number of times a contig must occur *within* an inidividual to be used in clustering while k2 indicates minimum number of individuals a contig must occur in to be included.  c parameter used to set cluster similarity threshold.  Output is designed to identify point of inflection where data is goes from reliable to erroneous.  k parameter ranges simply used to ensure that interpretation of inflection point isn't biased by k pairing. The workflow generally follows:  \n",
    "+ Read trimming\n",
    "+ Initial clustering with low similarity via `CD-HIT`\n",
    "    + Original script may have called for 80% which is very loose but is intended to do initial rough grouping to reduce downstream complexity.  <span style=\"color:tomato\">Need to check this script as it may have been modified by Trevor to use different parameters at clustering steps</span>\n",
    "+ Clustering with `rainbow`\n",
    "+ Mapping of forward reads with `bwa`\n",
    "    + If using paired-end reads, adds additional step to compare clustering of `CD-HIT` with reverse reads.  If clustered accurately, clustering of reverse and forward reads should agree"
   ]
  },
  {
   "cell_type": "code",
   "execution_count": 25,
   "metadata": {},
   "outputs": [],
   "source": [
    "refOpt = '/data/gpfs/assoc/denovo/src/refOpt/./ReferenceOpt.sh'\n",
    "refOpt_dir = os.path.join(assembly_dir,'refOpt2')"
   ]
  },
  {
   "cell_type": "code",
   "execution_count": 26,
   "metadata": {},
   "outputs": [
    {
     "name": "stdout",
     "output_type": "stream",
     "text": [
      "/data/gpfs/assoc/denovo/tfaske/rabbit/full/REDO/assembly/refOpt2\n"
     ]
    }
   ],
   "source": [
    "cd $refOpt_dir"
   ]
  },
  {
   "cell_type": "code",
   "execution_count": 27,
   "metadata": {},
   "outputs": [],
   "source": [
    "### select options\n",
    "account = 'cpu-s5-denovo-0'\n",
    "partition = 'cpu-core-0'\n",
    "jobname = 'ERNA_refOpt'\n",
    "time = '4-00:00:00' #time limit 4 days\n",
    "minK1 = 4\n",
    "maxK1 = 10\n",
    "minK2 = 4\n",
    "maxK2 = 10\n",
    "Type = 'SE' \n",
    "cpus = 64\n",
    "mem_cpu = 2500\n",
    "email = 'tfaske@nevada.unr.edu'"
   ]
  },
  {
   "cell_type": "code",
   "execution_count": 28,
   "metadata": {
    "ExecuteTime": {}
   },
   "outputs": [],
   "source": [
    "def write_refOpt_sh(account,partition,cpus,mem_cpu,email,refOpt,minK1,maxK1,minK2,maxK2,Type):\n",
    "    with open(\"run_refOpt2.sh\", \"w\") as o:\n",
    "        o.write(\"\"\"#!/usr/bin/env bash\n",
    "#SBATCH --account=%s\n",
    "#SBATCH --partition=%s\n",
    "#SBATCH --ntasks 1\n",
    "#SBATCH --cpus-per-task %d\n",
    "#SBATCH --mem-per-cpu=%d\n",
    "#SBATCH --job-name %s\n",
    "#SBATCH --output output_refOpt.txt\n",
    "#SBATCH --mail-type=END\n",
    "#SBATCH --mail-user=%s\\n\\n\"\"\" % (account,partition,int(cpus),int(mem_cpu),jobname,email))\n",
    "\n",
    "        #ReferenceOpt.sh minK1 maxK1 minK2 maxK2 Assembly_Type Processors\n",
    "        o.write(\"%s %d %d %d %d %s %d\" % (refOpt,minK1,maxK1,minK2,maxK2,Type,cpus))"
   ]
  },
  {
   "cell_type": "code",
   "execution_count": 29,
   "metadata": {},
   "outputs": [],
   "source": [
    "write_refOpt_sh(account,partition,cpus,mem_cpu,email,refOpt,minK1,maxK1,minK2,maxK2,Type)"
   ]
  },
  {
   "cell_type": "markdown",
   "metadata": {},
   "source": [
    "# run refOpt.sh in slurm\n",
    "    cd /data/gpfs/assoc/denovo/ERNA/assembly/refOpt\n",
    "    source activate ddocent_env\n",
    "    sbatch run_refOpt.sh"
   ]
  },
  {
   "cell_type": "markdown",
   "metadata": {},
   "source": [
    "# Visualize kopt from refOpt"
   ]
  },
  {
   "cell_type": "code",
   "execution_count": 53,
   "metadata": {},
   "outputs": [
    {
     "name": "stdout",
     "output_type": "stream",
     "text": [
      "/data/gpfs/assoc/denovo/tfaske/rabbit/full/REDO/assembly/refOpt2\n"
     ]
    }
   ],
   "source": [
    "cd $refOpt_dir"
   ]
  },
  {
   "cell_type": "code",
   "execution_count": 54,
   "metadata": {},
   "outputs": [
    {
     "name": "stdout",
     "output_type": "stream",
     "text": [
      "The top three most common number of contigs\r\n",
      "X\tContig number\r\n",
      "2\t7642\r\n",
      "2\t7402\r\n",
      "2\t4184\r\n",
      "The top three most common number of contigs (with values rounded)\r\n",
      "X\tContig number\r\n",
      "11\t3500\r\n",
      "11\t2600\r\n",
      "10\t4000\r\n"
     ]
    }
   ],
   "source": [
    "!tail output_refOpt.txt"
   ]
  },
  {
   "cell_type": "code",
   "execution_count": 55,
   "metadata": {},
   "outputs": [
    {
     "name": "stdout",
     "output_type": "stream",
     "text": [
      "The rpy2.ipython extension is already loaded. To reload it, use:\n",
      "  %reload_ext rpy2.ipython\n"
     ]
    }
   ],
   "source": [
    "%load_ext rpy2.ipython"
   ]
  },
  {
   "cell_type": "code",
   "execution_count": 56,
   "metadata": {},
   "outputs": [
    {
     "name": "stderr",
     "output_type": "stream",
     "text": [
      "R[write to console]: Use suppressPackageStartupMessages() to eliminate package startup\n",
      "messages\n",
      "\n"
     ]
    },
    {
     "name": "stdout",
     "output_type": "stream",
     "text": [
      "\n",
      "── Column specification ────────────────────────────────────────────────────────\n",
      "cols(\n",
      "  k1 = col_double(),\n",
      "  k2 = col_double(),\n",
      "  c = col_double(),\n",
      "  contig = col_double()\n",
      ")\n",
      "\n"
     ]
    },
    {
     "data": {
      "image/png": "[encoded data removed]"
     },
     "metadata": {},
     "output_type": "display_data"
    }
   ],
   "source": [
    "%%R\n",
    "library(readr)\n",
    "library(ggplot2)\n",
    "\n",
    "kopt <- read_table2('kopt.data',col_names = c('k1','k2','c','contig'))\n",
    "kopt$k <- paste0(kopt$k1,'_',kopt$k2)\n",
    "\n",
    "ggplot(data=kopt,aes(x=c,y=contig,colour=k)) + \n",
    "  geom_line() "
   ]
  },
  {
   "cell_type": "markdown",
   "metadata": {},
   "source": [
    "c = .94 is the winner!, look where it starts to tick up"
   ]
  },
  {
   "cell_type": "markdown",
   "metadata": {},
   "source": [
    "# MapOpt now!!!\n",
    "    This script assembles references across cutoff values and then maps 20 random samples and evaluates mappings to the reference, along with number of contigs and coverage.\n",
    "    \n",
    "    Moves fastq files from refOpt, runs dDocent to get trimmed files\n",
    "    \n",
    "    choose mapOpt sim from kopt above: 94 add (e.g. 92,94,96)"
   ]
  },
  {
   "cell_type": "code",
   "execution_count": 30,
   "metadata": {},
   "outputs": [
    {
     "name": "stdout",
     "output_type": "stream",
     "text": [
      "/data/gpfs/assoc/denovo/tfaske/rabbit/full/REDO/assembly\n"
     ]
    }
   ],
   "source": [
    "cd $assembly_dir"
   ]
  },
  {
   "cell_type": "code",
   "execution_count": 31,
   "metadata": {},
   "outputs": [],
   "source": [
    "!mkdir mapOpt2"
   ]
  },
  {
   "cell_type": "code",
   "execution_count": 33,
   "metadata": {},
   "outputs": [],
   "source": [
    "mapOpt_dir = os.path.join(assembly_dir,'mapOpt2')\n",
    "assert mapOpt_dir"
   ]
  },
  {
   "cell_type": "code",
   "execution_count": 41,
   "metadata": {},
   "outputs": [],
   "source": [
    "sim_val = [90,92,94,96]"
   ]
  },
  {
   "cell_type": "code",
   "execution_count": 42,
   "metadata": {},
   "outputs": [
    {
     "name": "stdout",
     "output_type": "stream",
     "text": [
      "mkdir: cannot create directory ‘mapOpt2/mapOpt92’: File exists\n",
      "mkdir: cannot create directory ‘mapOpt2/mapOpt94’: File exists\n",
      "mkdir: cannot create directory ‘mapOpt2/mapOpt96’: File exists\n"
     ]
    }
   ],
   "source": [
    "for sim in sim_val:\n",
    "    mapsim = \"mapOpt2/mapOpt%d\" % (sim)\n",
    "    !mkdir $mapsim"
   ]
  },
  {
   "cell_type": "code",
   "execution_count": 43,
   "metadata": {},
   "outputs": [
    {
     "data": {
      "text/plain": [
       "(50,\n",
       " '/data/gpfs/assoc/denovo/tfaske/rabbit/full/REDO/assembly/refOpt2/EN_OO_5.F.fq.gz')"
      ]
     },
     "execution_count": 43,
     "metadata": {},
     "output_type": "execute_result"
    }
   ],
   "source": [
    "### cp fastq from refOpt\n",
    "fq_files = !find $refOpt_dir -name '*fq.gz'\n",
    "fq_files = [os.path.abspath(x) for x in fq_files]\n",
    "len(fq_files),fq_files[0]"
   ]
  },
  {
   "cell_type": "code",
   "execution_count": 44,
   "metadata": {},
   "outputs": [],
   "source": [
    "for fq in fq_files:   \n",
    "    for sim in sim_val:\n",
    "        mapsim = \"mapOpt2/mapOpt%d\" % (sim)\n",
    "        !cp $fq $mapsim"
   ]
  },
  {
   "cell_type": "code",
   "execution_count": 45,
   "metadata": {},
   "outputs": [],
   "source": [
    "for sim in sim_val:\n",
    "    mapsim = \"mapOpt2/mapOpt%d\" % (sim)\n",
    "    logfiles = os.path.join(refOpt_dir,'logfiles')\n",
    "    !cp -r $logfiles $mapsim"
   ]
  },
  {
   "cell_type": "code",
   "execution_count": 46,
   "metadata": {},
   "outputs": [],
   "source": [
    "src_dir = '/data/gpfs/assoc/denovo/src/refOpt/./'\n",
    "mapOpt_sh = []\n",
    "for sim in sim_val:\n",
    "    sh = src_dir + \"Map%d.sh\"%(sim)\n",
    "    mapOpt_sh.append(sh)"
   ]
  },
  {
   "cell_type": "code",
   "execution_count": 47,
   "metadata": {},
   "outputs": [
    {
     "data": {
      "text/plain": [
       "(4,\n",
       " ['/data/gpfs/assoc/denovo/src/refOpt/./Map90.sh',\n",
       "  '/data/gpfs/assoc/denovo/src/refOpt/./Map92.sh',\n",
       "  '/data/gpfs/assoc/denovo/src/refOpt/./Map94.sh',\n",
       "  '/data/gpfs/assoc/denovo/src/refOpt/./Map96.sh'])"
      ]
     },
     "execution_count": 47,
     "metadata": {},
     "output_type": "execute_result"
    }
   ],
   "source": [
    "len(mapOpt_sh), mapOpt_sh"
   ]
  },
  {
   "cell_type": "code",
   "execution_count": 48,
   "metadata": {},
   "outputs": [],
   "source": [
    "### select slurm options\n",
    "account = 'cpu-s5-denovo-0'\n",
    "partition = 'cpu-core-0'\n",
    "time = '1-00:00:00' #time limit 1 days\n",
    "cpus = 16\n",
    "mem_cpu = 9000\n",
    "\n",
    "#RefMapOpt minK1 maxK1 minK2 maxK2 cluster_similarity Assembly_Type Num_of_Processors\n",
    "minK1 = 4\n",
    "maxK1 = 10\n",
    "minK2 = 4\n",
    "maxK2 = 10\n",
    "Type = 'SE' "
   ]
  },
  {
   "cell_type": "code",
   "execution_count": 49,
   "metadata": {},
   "outputs": [
    {
     "name": "stdout",
     "output_type": "stream",
     "text": [
      "/data/gpfs/assoc/denovo/tfaske/rabbit/full/REDO/assembly/mapOpt2\n"
     ]
    }
   ],
   "source": [
    "cd $mapOpt_dir"
   ]
  },
  {
   "cell_type": "code",
   "execution_count": 50,
   "metadata": {},
   "outputs": [],
   "source": [
    "def write_mapOpt_sh(account,partition,time,cpus,mem_cpu,sim,email,mapOpt_dir,\n",
    "                    mapOpt_sh,sim_val,minK1,maxK1,minK2,maxK2,Type):\n",
    "    for i in range(0,len(mapOpt_sh)):\n",
    "        sh = mapOpt_sh[i]\n",
    "        sim = sim_val[i]\n",
    "        with open(\"mapOpt%d/run_mapOpt%d.sh\" % (sim,sim), \"w\") as o:\n",
    "            o.write(\"\"\"#!/usr/bin/env bash\n",
    "#SBATCH --account=%s\n",
    "#SBATCH --partition=%s\n",
    "#SBATCH --time=%s\n",
    "#SBATCH --ntasks 1\n",
    "#SBATCH --cpus-per-task %d\n",
    "#SBATCH --mem-per-cpu=%d\n",
    "#SBATCH --job-name mapOpt%d\n",
    "#SBATCH --output output_mapOpt%d.txt\n",
    "#SBATCH --mail-type=END\n",
    "#SBATCH --mail-user=%s\n",
    "\n",
    "cd %s/mapOpt%d\\n\\n\"\"\" % (account,partition,time,int(cpus),int(mem_cpu),sim,sim,email,mapOpt_dir,sim))\n",
    "\n",
    "        #RefMapOpt minK1 maxK1 minK2 maxK2 cluster_similarity Assembly_Type Num_of_Processors\n",
    "            o.write(\"\"\"%s %d %d %d %d 0.%d %s %d\"\"\"% (sh,minK1,maxK1,minK2,maxK2,sim,Type,cpus))"
   ]
  },
  {
   "cell_type": "code",
   "execution_count": 51,
   "metadata": {},
   "outputs": [],
   "source": [
    "write_mapOpt_sh(account,partition,time,cpus,mem_cpu,sim,email,mapOpt_dir,\n",
    "                    mapOpt_sh,sim_val,minK1,maxK1,minK2,maxK2,Type)"
   ]
  },
  {
   "cell_type": "code",
   "execution_count": 52,
   "metadata": {},
   "outputs": [
    {
     "data": {
      "text/plain": [
       "['/data/gpfs/assoc/denovo/tfaske/rabbit/full/REDO/assembly/mapOpt2/mapOpt94/run_mapOpt94.sh',\n",
       " '/data/gpfs/assoc/denovo/tfaske/rabbit/full/REDO/assembly/mapOpt2/mapOpt96/run_mapOpt96.sh',\n",
       " '/data/gpfs/assoc/denovo/tfaske/rabbit/full/REDO/assembly/mapOpt2/mapOpt90/run_mapOpt90.sh',\n",
       " '/data/gpfs/assoc/denovo/tfaske/rabbit/full/REDO/assembly/mapOpt2/mapOpt92/run_mapOpt92.sh']"
      ]
     },
     "execution_count": 52,
     "metadata": {},
     "output_type": "execute_result"
    }
   ],
   "source": [
    "mapShells = !find $mapOpt_dir -name 'run_map*.sh'\n",
    "mapShells"
   ]
  },
  {
   "cell_type": "code",
   "execution_count": 83,
   "metadata": {},
   "outputs": [],
   "source": [
    "def write_sbatch_mapOpt(mapShells):\n",
    "         with open(\"sbatch_mapOpt.sh\", \"w\") as o:\n",
    "            o.write(\"\"\"#!/usr/bin/env bash \\n\"\"\")\n",
    "            for sh in mapShells:\n",
    "                o.write(\"\"\"sbatch %s\\n\"\"\" % (sh))"
   ]
  },
  {
   "cell_type": "code",
   "execution_count": 84,
   "metadata": {},
   "outputs": [],
   "source": [
    "write_sbatch_mapOpt(mapShells)"
   ]
  },
  {
   "cell_type": "code",
   "execution_count": null,
   "metadata": {},
   "outputs": [],
   "source": []
  },
  {
   "cell_type": "markdown",
   "metadata": {},
   "source": [
    "# Run all mapOpt*sh ()\n",
    "    cd /data/gpfs/assoc/denovo/PHHA/assembly/mapOpt\n",
    "    source activate ddocent_env\n",
    "    bash sbatch_mapOpt.sh"
   ]
  },
  {
   "cell_type": "markdown",
   "metadata": {},
   "source": [
    "# Read in mapping results and make decision"
   ]
  },
  {
   "cell_type": "code",
   "execution_count": 60,
   "metadata": {},
   "outputs": [
    {
     "name": "stdout",
     "output_type": "stream",
     "text": [
      "/data/gpfs/assoc/denovo/tfaske/rabbit/full/REDO/assembly/mapOpt2\n"
     ]
    }
   ],
   "source": [
    "cd $mapOpt_dir"
   ]
  },
  {
   "cell_type": "code",
   "execution_count": 61,
   "metadata": {},
   "outputs": [
    {
     "data": {
      "text/plain": [
       "['./mapOpt94/mapping94.results',\n",
       " './mapOpt96/mapping96.results',\n",
       " './mapOpt90/mapping90.results',\n",
       " './mapOpt92/mapping92.results']"
      ]
     },
     "execution_count": 61,
     "metadata": {},
     "output_type": "execute_result"
    }
   ],
   "source": [
    "mapResults = !find  -name 'mapping*results'\n",
    "mapResults"
   ]
  },
  {
   "cell_type": "code",
   "execution_count": 62,
   "metadata": {},
   "outputs": [
    {
     "name": "stdout",
     "output_type": "stream",
     "text": [
      "./mapOpt94/mapping94.results\n",
      "Cov\tNon0Cov\tContigs\tMeanContigsMapped\tK1\tK2\tSUM Mapped\tSUM Properly\tMean Mapped\tMean Properly\tMisMatched\n",
      "47.5191\t52.4749\t31728\t28724.7\t4\t4\t28646942\t0\t1.50773e+06\t0\t0\n",
      "66.433\t71.4755\t21906\t20357.1\t4\t5\t27651620\t0\t1.45535e+06\t0\t0\n",
      "89.5717\t94.9381\t15755\t14867.4\t4\t6\t26814539\t0\t1.41129e+06\t0\t0\n",
      "119.407\t125.167\t11426\t10903.9\t4\t7\t25924777\t0\t1.36446e+06\t0\t0\n",
      "154.696\t161.02\t8552\t8221.05\t4\t8\t25139238\t0\t1.32312e+06\t0\t0\n",
      "201.042\t208.233\t6379\t6164.79\t4\t9\t24370299\t0\t1.28265e+06\t0\t0\n",
      "259.912\t268.52\t4762\t4616.63\t4\t10\t23521212\t0\t1.23796e+06\t0\t0\n",
      "66.2327\t71.4474\t22094\t20463.1\t5\t4\t27804821\t0\t1.46341e+06\t0\t0\n",
      "92.8642\t98.2037\t15243\t14404.7\t5\t5\t26896825\t0\t1.41562e+06\t0\t0\n",
      "125.894\t131.489\t10894\t10426.6\t5\t6\t26060592\t0\t1.37161e+06\t0\t0\n",
      "163.196\t169.134\t8142\t7855.16\t5\t7\t25249192\t0\t1.3289e+06\t0\t0\n",
      "210.212\t216.774\t6127\t5942.21\t5\t8\t24475405\t0\t1.28818e+06\t0\t0\n",
      "266.49\t273.909\t4706\t4581.26\t5\t9\t23832994\t0\t1.25437e+06\t0\t0\n",
      "337.288\t346.267\t3591\t3501.53\t5\t10\t23019204\t0\t1.21154e+06\t0\t0\n",
      "87.5661\t93.2249\t16314\t15305.9\t6\t4\t27144169\t0\t1.42864e+06\t0\t0\n",
      "122.356\t127.922\t11263\t10763.2\t6\t5\t26186186\t0\t1.37822e+06\t0\t0\n",
      "161.595\t167.348\t8267\t7977.63\t6\t6\t25385222\t0\t1.33606e+06\t0\t0\n",
      "206.454\t212.467\t6284\t6104.42\t6\t7\t24653742\t0\t1.29757e+06\t0\t0\n",
      "259.59\t266.254\t4847\t4726.11\t6\t8\t23911365\t0\t1.25849e+06\t0\t0\n",
      "324.6\t332.199\t3766\t3681.37\t6\t9\t23232609\t0\t1.22277e+06\t0\t0\n",
      "400.256\t409.097\t2965\t2903.53\t6\t10\t22556010\t0\t1.18716e+06\t0\t0\n",
      "111.043\t117.076\t12552\t11890.6\t7\t4\t26484557\t0\t1.39392e+06\t0\t0\n",
      "151.485\t157.432\t8925\t8580.11\t7\t5\t25691026\t0\t1.35216e+06\t0\t0\n",
      "196.065\t202.219\t6686\t6479.11\t7\t6\t24910615\t0\t1311085\t0\t0\n",
      "247.521\t254.063\t5150\t5016.53\t7\t7\t24224600\t0\t1.27498e+06\t0\t0\n",
      "308.572\t315.709\t4023\t3932.74\t7\t8\t23592209\t0\t1.2417e+06\t0\t0\n",
      "375.336\t383.374\t3212\t3146.05\t7\t9\t22913125\t0\t1.20595e+06\t0\t0\n",
      "455.934\t465.437\t2559\t2508.53\t7\t10\t22176616\t0\t1.16719e+06\t0\t0\n",
      "134.497\t140.928\t10178\t9701.53\t8\t4\t26011913\t0\t1.36905e+06\t0\t0\n",
      "179.547\t185.872\t7398\t7140.42\t8\t5\t25240830\t0\t1.32846e+06\t0\t0\n",
      "230.183\t236.758\t5595\t5437.42\t8\t6\t24473979\t0\t1.2881e+06\t0\t0\n",
      "288.52\t295.563\t4357\t4252.89\t8\t7\t23890013\t0\t1.25737e+06\t0\t0\n",
      "353.218\t361.024\t3469\t3394.63\t8\t8\t23287661\t0\t1.22567e+06\t0\t0\n",
      "425.294\t434.006\t2801\t2746.05\t8\t9\t22641799\t0\t1.19167e+06\t0\t0\n",
      "506.962\t517.322\t2269\t2225.21\t8\t10\t21865268\t0\t1.1508e+06\t0\t0\n",
      "157.306\t164.032\t8556\t8196.37\t9\t4\t25575241\t0\t1.34607e+06\t0\t0\n",
      "207.575\t214.134\t6303\t6105.68\t9\t5\t24862437\t0\t1.30855e+06\t0\t0\n",
      "262.758\t269.73\t4820\t4693.89\t9\t6\t24068400\t0\t1.26676e+06\t0\t0\n",
      "325.52\t333.037\t3802\t3715.95\t9\t7\t23521071\t0\t1.23795e+06\t0\t0\n",
      "396.456\t404.365\t3032\t2973.32\t9\t8\t22846595\t0\t1.20245e+06\t0\t0\n",
      "468.443\t477.648\t2499\t2452\t9\t9\t22251047\t0\t1.17111e+06\t0\t0\n",
      "554.328\t565.133\t2040\t2002.42\t9\t10\t21496281\t0\t1.13138e+06\t0\t0\n",
      "181.538\t188.571\t7334\t7053\t10\t4\t25300095\t0\t1.33158e+06\t0\t0\n",
      "236.097\t243.042\t5473\t5313.32\t10\t5\t24555461\t0\t1.29239e+06\t0\t0\n",
      "294.506\t301.907\t4260\t4154.21\t10\t6\t23842923\t0\t1.25489e+06\t0\t0\n",
      "359.959\t367.767\t3404\t3331.53\t10\t7\t23287541\t0\t1.22566e+06\t0\t0\n",
      "436.318\t444.903\t2723\t2671.16\t10\t8\t22582092\t0\t1.18853e+06\t0\t0\n",
      "517.296\t527.304\t2236\t2194.58\t10\t9\t21986619\t0\t1.15719e+06\t0\t0\n",
      "596.735\t607.988\t1870\t1836.68\t10\t10\t21213322\t0\t1.11649e+06\t0\t0\n",
      "\n",
      "\n",
      "./mapOpt96/mapping96.results\n",
      "Cov\tNon0Cov\tContigs\tMeanContigsMapped\tK1\tK2\tSUM Mapped\tSUM Properly\tMean Mapped\tMean Properly\tMisMatched\n",
      "38.6995\t43.3511\t36316\t32406.4\t4\t4\t25298076\t0\t1.40545e+06\t0\t0\n",
      "54.6379\t59.3206\t24868\t22898.4\t4\t5\t24458237\t0\t1.35879e+06\t0\t0\n",
      "73.9584\t78.9492\t17838\t16711.1\t4\t6\t23748201\t0\t1.31934e+06\t0\t0\n",
      "98.9636\t104.275\t12989\t12331.6\t4\t7\t23139681\t0\t1.28554e+06\t0\t0\n",
      "128.143\t134.013\t9762\t9339.33\t4\t8\t22519053\t0\t1.25106e+06\t0\t0\n",
      "165.4\t172.007\t7329\t7054.5\t4\t9\t21822905\t0\t1.21238e+06\t0\t0\n",
      "212.768\t220.567\t5517\t5329.72\t4\t10\t21132947\t0\t1.17405e+06\t0\t0\n",
      "53.553\t58.4354\t25460\t23307.5\t5\t4\t24543215\t0\t1.36351e+06\t0\t0\n",
      "75.7517\t80.6763\t17453\t16374.4\t5\t5\t23799062\t0\t1.32217e+06\t0\t0\n",
      "102\t107.111\t12570\t11964.6\t5\t6\t23080391\t0\t1.28224e+06\t0\t0\n",
      "132.985\t138.392\t9401\t9032.39\t5\t7\t22505835\t0\t1.25032e+06\t0\t0\n",
      "171.068\t176.946\t7096\t6860.44\t5\t8\t21853198\t0\t1.21407e+06\t0\t0\n",
      "216.255\t222.893\t5454\t5294.5\t5\t9\t21234109\t0\t1.17967e+06\t0\t0\n",
      "272.399\t280.357\t4191\t4075.83\t5\t10\t20554126\t0\t1.1419e+06\t0\t0\n",
      "70.2964\t75.6406\t19010\t17644.1\t6\t4\t24055267\t0\t1.3364e+06\t0\t0\n",
      "98.7866\t103.979\t13051\t12387.4\t6\t5\t23208528\t0\t1.28936e+06\t0\t0\n",
      "130.265\t135.52\t9602\t9223.17\t6\t6\t22516914\t0\t1.25094e+06\t0\t0\n",
      "167.489\t172.949\t7301\t7068\t6\t7\t22014074\t0\t1.223e+06\t0\t0\n",
      "211.926\t217.923\t5610\t5455.5\t6\t8\t21404138\t0\t1.18912e+06\t0\t0\n",
      "263.539\t270.303\t4374\t4265.78\t6\t9\t20753669\t0\t1.15298e+06\t0\t0\n",
      "324.326\t332.253\t3465\t3385.06\t6\t10\t20234071\t0\t1.12412e+06\t0\t0\n",
      "88.6087\t94.2952\t14737\t13829.5\t7\t4\t23506462\t0\t1.30591e+06\t0\t0\n",
      "121.49\t127.002\t10441\t9977.78\t7\t5\t22834696\t0\t1.26859e+06\t0\t0\n",
      "157.11\t162.596\t7822\t7553.22\t7\t6\t22123227\t0\t1.22907e+06\t0\t0\n",
      "199.373\t205.22\t6010\t5837.39\t7\t7\t21571803\t0\t1.19843e+06\t0\t0\n",
      "249.346\t255.596\t4686\t4571.83\t7\t8\t21036292\t0\t1.16868e+06\t0\t0\n",
      "303.371\t310.405\t3739\t3655.67\t7\t9\t20422912\t0\t1.13461e+06\t0\t0\n",
      "371.056\t379.522\t2985\t2920.33\t7\t10\t19943521\t0\t1.10797e+06\t0\t0\n",
      "106.37\t112.418\t12064\t11399.5\t8\t4\t23100339\t0\t1.28335e+06\t0\t0\n",
      "143.48\t149.206\t8690\t8349.06\t8\t5\t22445796\t0\t1.24699e+06\t0\t0\n",
      "183.554\t189.39\t6579\t6372.61\t8\t6\t21740137\t0\t1.20779e+06\t0\t0\n",
      "230.443\t236.601\t5111\t4976.94\t8\t7\t21204455\t0\t1.17803e+06\t0\t0\n",
      "283.935\t290.711\t4050\t3955.89\t8\t8\t20703980\t0\t1.15022e+06\t0\t0\n",
      "345.113\t352.613\t3261\t3192.89\t8\t9\t20263651\t0\t1.12576e+06\t0\t0\n",
      "414.361\t423.244\t2642\t2588.17\t8\t10\t19712792\t0\t1.09516e+06\t0\t0\n",
      "123.715\t129.925\t10174\t9676.17\t9\t4\t22658329\t0\t1.2588e+06\t0\t0\n",
      "165.188\t171.09\t7431\t7169.11\t9\t5\t22098124\t0\t1.22767e+06\t0\t0\n",
      "208.404\t214.56\t5683\t5517.56\t9\t6\t21322225\t0\t1.18457e+06\t0\t0\n",
      "260.065\t266.583\t4459\t4349.28\t9\t7\t20877999\t0\t1.15989e+06\t0\t0\n",
      "319.906\t326.666\t3528\t3455.39\t9\t8\t20321048\t0\t1.12895e+06\t0\t0\n",
      "379.992\t387.673\t2898\t2841.56\t9\t9\t19828761\t0\t1.1016e+06\t0\t0\n",
      "448.71\t457.857\t2379\t2332.89\t9\t10\t19222751\t0\t1.06793e+06\t0\t0\n",
      "\n",
      "\n",
      "./mapOpt90/mapping90.results\n",
      "Cov\tNon0Cov\tContigs\tMeanContigsMapped\tK1\tK2\tSUM Mapped\tSUM Properly\tMean Mapped\tMean Properly\tMisMatched\n",
      "55.8039\t61.2111\t28120\t25662.2\t4\t4\t28246716\t0\t1569262\t0\t0\n",
      "77.022\t82.4128\t19561\t18299.6\t4\t5\t27120675\t0\t1.5067e+06\t0\t0\n",
      "103.44\t109.049\t14079\t13371.1\t4\t6\t26215883\t0\t1.45644e+06\t0\t0\n",
      "137.527\t143.491\t10211\t9800\t4\t7\t25279619\t0\t1.40442e+06\t0\t0\n",
      "179.028\t185.624\t7583\t7324.72\t4\t8\t24439427\t0\t1.35775e+06\t0\t0\n",
      "234.087\t241.675\t5618\t5452.28\t4\t9\t23676034\t0\t1.31534e+06\t0\t0\n",
      "305.515\t314.803\t4142\t4029.83\t4\t10\t22783453\t0\t1.26575e+06\t0\t0\n",
      "77.7425\t83.223\t19511\t18228.4\t5\t4\t27304409\t0\t1.51691e+06\t0\t0\n",
      "108.058\t113.511\t13515\t12869.6\t5\t5\t26289293\t0\t1.46052e+06\t0\t0\n",
      "146.503\t152.089\t9643\t9293.83\t5\t6\t25431696\t0\t1412872\t0\t0\n",
      "189.909\t195.791\t7191\t6980.06\t5\t7\t24584796\t0\t1365822\t0\t0\n",
      "244.678\t251.214\t5387\t5251.28\t5\t8\t23729903\t0\t1.31833e+06\t0\t0\n",
      "313.569\t321.055\t4090\t4000\t5\t9\t23090568\t0\t1.28281e+06\t0\t0\n",
      "400.365\t409.577\t3084\t3019.89\t5\t10\t22232289\t0\t1.23513e+06\t0\t0\n",
      "103.603\t109.407\t14314\t13550.9\t6\t4\t26695265\t0\t1.48307e+06\t0\t0\n",
      "143.905\t149.429\t9877\t9510.89\t6\t5\t25586793\t0\t1.42149e+06\t0\t0\n",
      "189.358\t194.829\t7243\t7040.67\t6\t6\t24690768\t0\t1.37171e+06\t0\t0\n",
      "242.294\t248.044\t5498\t5372.83\t6\t7\t23982705\t0\t1.33237e+06\t0\t0\n",
      "306.108\t312.307\t4213\t4132.5\t6\t8\t23218918\t0\t1.28994e+06\t0\t0\n",
      "386.185\t393.347\t3240\t3184.17\t6\t9\t22529250\t0\t1251625\t0\t0\n",
      "478.036\t486.6\t2528\t2487\t6\t10\t21761176\t0\t1.20895e+06\t0\t0\n",
      "132.471\t138.473\t10905\t10427.9\t7\t4\t26005029\t0\t1.44472e+06\t0\t0\n",
      "178.787\t184.423\t7786\t7546.67\t7\t5\t25059795\t0\t1.39221e+06\t0\t0\n",
      "231.485\t237.229\t5824\t5684.22\t7\t6\t24271184\t0\t1.3484e+06\t0\t0\n",
      "290.283\t296.215\t4492\t4404.17\t7\t7\t23476318\t0\t1.30424e+06\t0\t0\n",
      "365.275\t371.684\t3472\t3414.72\t7\t8\t22834819\t0\t1.2686e+06\t0\t0\n",
      "446.376\t453.698\t2754\t2712.11\t7\t9\t22135784\t0\t1.22977e+06\t0\t0\n",
      "539.036\t548.248\t2200\t2165.44\t7\t10\t21355509\t0\t1.18642e+06\t0\t0\n",
      "161.112\t167.425\t8817\t8480.28\t8\t4\t25572376\t0\t1.42069e+06\t0\t0\n",
      "212.782\t218.582\t6438\t6266.39\t8\t5\t24661909\t0\t1.37011e+06\t0\t0\n",
      "271.567\t277.465\t4874\t4771.56\t8\t6\t23829984\t0\t1323888\t0\t0\n",
      "341.143\t347.411\t3771\t3704.83\t8\t7\t23162242\t0\t1.28679e+06\t0\t0\n",
      "418.257\t424.991\t2988\t2942.61\t8\t8\t22503067\t0\t1.25017e+06\t0\t0\n",
      "503.901\t511.691\t2407\t2372.39\t8\t9\t21841089\t0\t1.21339e+06\t0\t0\n",
      "592.592\t602.428\t1966\t1935.89\t8\t10\t20981327\t0\t1.16563e+06\t0\t0\n",
      "188.475\t194.87\t7402\t7156.83\t9\t4\t25114996\t0\t1.39528e+06\t0\t0\n",
      "245.504\t251.44\t5483\t5353.67\t9\t5\t24234152\t0\t1.34634e+06\t0\t0\n",
      "311.129\t317.505\t4184\t4101.17\t9\t6\t23437352\t0\t1.30208e+06\t0\t0\n",
      "386.465\t393.053\t3281\t3227.56\t9\t7\t22830786\t0\t1268377\t0\t0\n",
      "469.669\t476.721\t2610\t2573\t9\t8\t22073485\t0\t1.2263e+06\t0\t0\n",
      "554.129\t562.416\t2152\t2121.94\t9\t9\t21474708\t0\t1.19304e+06\t0\t0\n",
      "645.523\t656.115\t1774\t1747\t9\t10\t20624456\t0\t1.1458e+06\t0\t0\n",
      "217.081\t223.61\t6332\t6145.06\t10\t4\t24745911\t0\t1.37477e+06\t0\t0\n",
      "281.34\t287.552\t4726\t4624.17\t10\t5\t23938085\t0\t1.32989e+06\t0\t0\n",
      "349.663\t356.308\t3683\t3615.28\t10\t6\t23186868\t0\t1.28816e+06\t0\t0\n",
      "429.348\t436.317\t2923\t2877.67\t10\t7\t22597455\t0\t1.25541e+06\t0\t0\n",
      "517.887\t525.627\t2340\t2307\t10\t8\t21822722\t0\t1.21237e+06\t0\t0\n",
      "611.209\t620.477\t1925\t1897.67\t10\t9\t21189388\t0\t1.17719e+06\t0\t0\n",
      "699.428\t711.191\t1620\t1594.67\t10\t10\t20407906\t0\t1.13377e+06\t0\t0\n"
     ]
    },
    {
     "name": "stdout",
     "output_type": "stream",
     "text": [
      "\n",
      "\n",
      "./mapOpt92/mapping92.results\n",
      "Cov\tNon0Cov\tContigs\tMeanContigsMapped\tK1\tK2\tSUM Mapped\tSUM Properly\tMean Mapped\tMean Properly\tMisMatched\n",
      "51.3531\t56.6801\t29950\t27134.2\t4\t4\t30761562\t0\t1.53808e+06\t0\t0\n",
      "71.5027\t76.9755\t20691\t19220.9\t4\t5\t29590665\t0\t1.47953e+06\t0\t0\n",
      "96.0151\t101.834\t14884\t14038.6\t4\t6\t28583710\t0\t1.42919e+06\t0\t0\n",
      "128.136\t134.429\t10791\t10291.1\t4\t7\t27656866\t0\t1.38284e+06\t0\t0\n",
      "166.255\t173.23\t8040\t7721.55\t4\t8\t26737163\t0\t1.33686e+06\t0\t0\n",
      "216.697\t224.656\t5973\t5767.9\t4\t9\t25890943\t0\t1.29455e+06\t0\t0\n",
      "281.926\t291.667\t4431\t4290.4\t4\t10\t24989928\t0\t1.2495e+06\t0\t0\n",
      "71.7226\t77.299\t20799\t19283.5\t5\t4\t29836624\t0\t1.49183e+06\t0\t0\n",
      "100.094\t105.798\t14361\t13579.5\t5\t5\t28750947\t0\t1.43755e+06\t0\t0\n",
      "135.273\t141.256\t10273\t9835.35\t5\t6\t27795885\t0\t1.38979e+06\t0\t0\n",
      "176.379\t182.796\t7642\t7373.6\t5\t7\t26961218\t0\t1.34806e+06\t0\t0\n",
      "227.56\t234.743\t5731\t5556.8\t5\t8\t26087435\t0\t1.30437e+06\t0\t0\n",
      "289.747\t297.939\t4376\t4258.65\t5\t9\t25364466\t0\t1.26822e+06\t0\t0\n",
      "368.706\t378.706\t3316\t3232.15\t5\t10\t24459944\t0\t1.223e+06\t0\t0\n",
      "94.6635\t100.67\t15349\t14418.2\t6\t4\t29061697\t0\t1.45308e+06\t0\t0\n",
      "132.572\t138.533\t10578\t10115\t6\t5\t28049608\t0\t1.40248e+06\t0\t0\n",
      "174.352\t180.487\t7753\t7485.5\t6\t6\t27038449\t0\t1.35192e+06\t0\t0\n",
      "223.924\t230.416\t5873\t5706.25\t6\t7\t26306566\t0\t1.31533e+06\t0\t0\n",
      "283.028\t290.258\t4509\t4397.45\t6\t8\t25529116\t0\t1.27646e+06\t0\t0\n",
      "355.162\t363.442\t3485\t3407.25\t6\t9\t24761869\t0\t1.23809e+06\t0\t0\n",
      "439.41\t449.123\t2722\t2665.7\t6\t10\t23930296\t0\t1.19651e+06\t0\t0\n",
      "121.161\t127.587\t11737\t11133.5\t7\t4\t28443852\t0\t1.42219e+06\t0\t0\n",
      "164.81\t171.095\t8344\t8031.05\t7\t5\t27506772\t0\t1.37534e+06\t0\t0\n",
      "213.286\t219.862\t6237\t6047.85\t7\t6\t26609508\t0\t1.33048e+06\t0\t0\n",
      "268.83\t275.741\t4808\t4686.95\t7\t7\t25856120\t0\t1292806\t0\t0\n",
      "336.722\t344.343\t3723\t3641.5\t7\t8\t25079027\t0\t1.25395e+06\t0\t0\n",
      "410.755\t419.452\t2958\t2898.1\t7\t9\t24308449\t0\t1.21542e+06\t0\t0\n",
      "499.883\t510.42\t2348\t2301.3\t7\t10\t23484516\t0\t1.17423e+06\t0\t0\n",
      "146.85\t153.633\t9507\t9076.9\t8\t4\t27925023\t0\t1.39625e+06\t0\t0\n",
      "195.401\t202.009\t6916\t6684.8\t8\t5\t27031698\t0\t1.35158e+06\t0\t0\n",
      "250.373\t257.3\t5226\t5083.45\t8\t6\t26174033\t0\t1.3087e+06\t0\t0\n",
      "313.202\t320.609\t4062\t3968.05\t8\t7\t25450759\t0\t1.27254e+06\t0\t0\n",
      "384.541\t392.703\t3211\t3144.95\t8\t8\t24702890\t0\t1.23514e+06\t0\t0\n",
      "463.165\t472.384\t2587\t2537.7\t8\t9\t23973399\t0\t1.19867e+06\t0\t0\n",
      "549.599\t561.226\t2100\t2058.05\t8\t10\t23094133\t0\t1.15471e+06\t0\t0\n",
      "171.724\t178.703\t7990\t7670.6\t9\t4\t27444934\t0\t1.37225e+06\t0\t0\n",
      "225.717\t232.525\t5887\t5711.4\t9\t5\t26580396\t0\t1.32902e+06\t0\t0\n",
      "285.957\t293.277\t4493\t4379.6\t9\t6\t25701840\t0\t1285092\t0\t0\n",
      "353.853\t361.716\t3534\t3457.1\t9\t7\t25017387\t0\t1.25087e+06\t0\t0\n",
      "431.245\t439.639\t2806\t2753.05\t9\t8\t24210097\t0\t1.2105e+06\t0\t0\n",
      "509.642\t519.371\t2310\t2267.85\t9\t9\t23555646\t0\t1.17778e+06\t0\t0\n",
      "597.658\t609.952\t1894\t1857.2\t9\t10\t22651239\t0\t1.13256e+06\t0\t0\n",
      "197.992\t205.254\t6838\t6589.85\t10\t4\t27081391\t0\t1.35407e+06\t0\t0\n",
      "257.319\t264.395\t5094\t4955.25\t10\t5\t26220775\t0\t1.31104e+06\t0\t0\n",
      "320.662\t328.404\t3962\t3867.55\t10\t6\t25415635\t0\t1.27078e+06\t0\t0\n",
      "391.978\t400.19\t3156\t3091.25\t10\t7\t24749495\t0\t1.23747e+06\t0\t0\n",
      "474.654\t483.656\t2519\t2472.9\t10\t8\t23922573\t0\t1.19613e+06\t0\t0\n",
      "562.711\t573.456\t2065\t2027.35\t10\t9\t23251234\t0\t1.16256e+06\t0\t0\n",
      "646.665\t660.029\t1730\t1696.3\t10\t10\t22387555\t0\t1.11938e+06\t0\t0\n",
      "\n",
      "\n"
     ]
    }
   ],
   "source": [
    "for mR in mapResults:\n",
    "    print(mR)\n",
    "    !cat $mR\n",
    "    print('\\n')"
   ]
  },
  {
   "cell_type": "code",
   "execution_count": 63,
   "metadata": {},
   "outputs": [
    {
     "name": "stderr",
     "output_type": "stream",
     "text": [
      "R[write to console]: data.table 1.14.2 using 32 threads (see ?getDTthreads).  Latest news: r-datatable.com\n",
      "\n"
     ]
    },
    {
     "name": "stdout",
     "output_type": "stream",
     "text": [
      "\n",
      "── Column specification ────────────────────────────────────────────────────────\n",
      "cols(\n",
      "  Cov = col_double(),\n",
      "  Non0Cov = col_double(),\n",
      "  Contigs = col_double(),\n",
      "  MeanContigsMapped = col_double(),\n",
      "  K1 = col_double(),\n",
      "  K2 = col_double(),\n",
      "  SUM = col_double(),\n",
      "  Mapped = col_double(),\n",
      "  SUM_1 = col_double(),\n",
      "  Properly = col_double(),\n",
      "  Mean = col_double(),\n",
      "  Mapped_1 = col_character(),\n",
      "  Mean_1 = col_character(),\n",
      "  Properly_1 = col_character(),\n",
      "  MisMatched = col_character()\n",
      ")\n",
      "\n"
     ]
    },
    {
     "name": "stderr",
     "output_type": "stream",
     "text": [
      "R[write to console]: Warning:\n",
      "R[write to console]:  49 parsing failures.\n",
      "row col   expected     actual                         file\n",
      "  1  -- 15 columns 11 columns 'mapOpt92/mapping92.results'\n",
      "  2  -- 15 columns 11 columns 'mapOpt92/mapping92.results'\n",
      "  3  -- 15 columns 11 columns 'mapOpt92/mapping92.results'\n",
      "  4  -- 15 columns 11 columns 'mapOpt92/mapping92.results'\n",
      "  5  -- 15 columns 11 columns 'mapOpt92/mapping92.results'\n",
      "... ... .......... .......... ............................\n",
      "See problems(...) for more details.\n",
      "\n",
      "\n"
     ]
    },
    {
     "name": "stdout",
     "output_type": "stream",
     "text": [
      "\n",
      "── Column specification ────────────────────────────────────────────────────────\n",
      "cols(\n",
      "  Cov = col_double(),\n",
      "  Non0Cov = col_double(),\n",
      "  Contigs = col_double(),\n",
      "  MeanContigsMapped = col_double(),\n",
      "  K1 = col_double(),\n",
      "  K2 = col_double(),\n",
      "  SUM = col_double(),\n",
      "  Mapped = col_double(),\n",
      "  SUM_1 = col_double(),\n",
      "  Properly = col_double(),\n",
      "  Mean = col_double(),\n",
      "  Mapped_1 = col_character(),\n",
      "  Mean_1 = col_character(),\n",
      "  Properly_1 = col_character(),\n",
      "  MisMatched = col_character()\n",
      ")\n",
      "\n"
     ]
    },
    {
     "name": "stderr",
     "output_type": "stream",
     "text": [
      "R[write to console]: Warning:\n",
      "R[write to console]:  49 parsing failures.\n",
      "row col   expected     actual                         file\n",
      "  1  -- 15 columns 11 columns 'mapOpt94/mapping94.results'\n",
      "  2  -- 15 columns 11 columns 'mapOpt94/mapping94.results'\n",
      "  3  -- 15 columns 11 columns 'mapOpt94/mapping94.results'\n",
      "  4  -- 15 columns 11 columns 'mapOpt94/mapping94.results'\n",
      "  5  -- 15 columns 11 columns 'mapOpt94/mapping94.results'\n",
      "... ... .......... .......... ............................\n",
      "See problems(...) for more details.\n",
      "\n",
      "\n"
     ]
    },
    {
     "name": "stdout",
     "output_type": "stream",
     "text": [
      "\n",
      "── Column specification ────────────────────────────────────────────────────────\n",
      "cols(\n",
      "  Cov = col_double(),\n",
      "  Non0Cov = col_double(),\n",
      "  Contigs = col_double(),\n",
      "  MeanContigsMapped = col_double(),\n",
      "  K1 = col_double(),\n",
      "  K2 = col_double(),\n",
      "  SUM = col_double(),\n",
      "  Mapped = col_double(),\n",
      "  SUM_1 = col_double(),\n",
      "  Properly = col_double(),\n",
      "  Mean = col_double(),\n",
      "  Mapped_1 = col_character(),\n",
      "  Mean_1 = col_character(),\n",
      "  Properly_1 = col_character(),\n",
      "  MisMatched = col_character()\n",
      ")\n",
      "\n"
     ]
    },
    {
     "name": "stderr",
     "output_type": "stream",
     "text": [
      "R[write to console]: Warning:\n",
      "R[write to console]:  49 parsing failures.\n",
      "row col   expected     actual                         file\n",
      "  1  -- 15 columns 11 columns 'mapOpt96/mapping96.results'\n",
      "  2  -- 15 columns 11 columns 'mapOpt96/mapping96.results'\n",
      "  3  -- 15 columns 11 columns 'mapOpt96/mapping96.results'\n",
      "  4  -- 15 columns 11 columns 'mapOpt96/mapping96.results'\n",
      "  5  -- 15 columns 11 columns 'mapOpt96/mapping96.results'\n",
      "... ... .......... .......... ............................\n",
      "See problems(...) for more details.\n",
      "\n",
      "\n"
     ]
    },
    {
     "name": "stdout",
     "output_type": "stream",
     "text": [
      "        Cov  Non0Cov Contigs MeanContigsMapped K1 K2      SUM Mapped   SUM_1\n",
      "1:  57.6300  62.4873   30371          27953.20  4  4 31506079      0 1750340\n",
      "2:  81.5139  86.7423   20613          19332.70  4  5 30245906      0 1680330\n",
      "3: 111.5040 117.4640   14448          13689.70  4  6 29000310      0 1611130\n",
      "4: 150.3840 157.3680   10324           9849.44  4  7 27948893      0 1552720\n",
      "5: 200.6040 208.8080    7427           7124.44  4  8 26821577      0 1490090\n",
      "6: 266.3970 276.6210    5338           5134.39  4  9 25601309      0 1422290\n",
      "   Properly Mean Mapped_1 Mean_1 Properly_1 MisMatched   k sim     ratio\n",
      "1:        0    0     <NA>   <NA>       <NA>       <NA> 4_4  92 0.8342381\n",
      "2:        0    0     <NA>   <NA>       <NA>       <NA> 4_5  92 0.9767031\n",
      "3:        0    0     <NA>   <NA>       <NA>       <NA> 4_6  92 1.0731808\n",
      "4:        0    0     <NA>   <NA>       <NA>       <NA> 4_7  92 1.2010952\n",
      "5:        0    0     <NA>   <NA>       <NA>       <NA> 4_8  92 1.6278578\n",
      "6:        0    0     <NA>   <NA>       <NA>       <NA> 4_9  92 0.2883444\n"
     ]
    }
   ],
   "source": [
    "%%R \n",
    "library(readr)\n",
    "library(data.table)\n",
    "setwd('/data/gpfs/assoc/denovo/tfaske/rabbit/full/REDO/assembly/mapOpt')\n",
    "\n",
    "mapping92 <- read_table2('mapOpt92/mapping92.results')\n",
    "mapping92$k <- paste0(mapping92$K1,'_',mapping92$K2)\n",
    "mapping92$sim <- '92'\n",
    "mapping92$ratio <- abs( scale(mapping92$SUM_1) / (scale(mapping92$MeanContigsMapped) / scale(mapping92$Cov) ) ) \n",
    "\n",
    "\n",
    "mapping94 <- read_table2('mapOpt94/mapping94.results')\n",
    "mapping94$k <- paste0(mapping94$K1,'_',mapping94$K2)\n",
    "mapping94$sim <- '94'\n",
    "mapping94$ratio <- abs( scale(mapping94$SUM_1) / (scale(mapping94$MeanContigsMapped) / scale(mapping94$Cov) ) ) \n",
    "\n",
    "mapping96 <- read_table2('mapOpt96/mapping96.results')\n",
    "mapping96$k <- paste0(mapping96$K1,'_',mapping96$K2)\n",
    "mapping96$sim <- '96'\n",
    "mapping96$ratio <- abs( scale(mapping96$SUM_1) / (scale(mapping96$MeanContigsMapped) / scale(mapping96$Cov) ) )\n",
    "\n",
    "#print(mapping92)\n",
    "#print(mapping94)\n",
    "#print(mapping96)\n",
    "\n",
    "#map_df\n",
    "map_df <- rbindlist(list(mapping92,mapping94,mapping96))\n",
    "head(map_df)"
   ]
  },
  {
   "cell_type": "code",
   "execution_count": 64,
   "metadata": {},
   "outputs": [
    {
     "data": {
      "image/png": "[encoded data removed]"
     },
     "metadata": {},
     "output_type": "display_data"
    }
   ],
   "source": [
    "%%R\n",
    "ggplot(data=map_df,aes(x=k,y=ratio,color=as.factor(sim))) + \n",
    "    geom_line(aes(group=as.factor(sim))) + theme_bw()"
   ]
  },
  {
   "cell_type": "code",
   "execution_count": 65,
   "metadata": {},
   "outputs": [
    {
     "name": "stdout",
     "output_type": "stream",
     "text": [
      "              Cov           Non0Cov           Contigs MeanContigsMapped \n",
      "     2.989131e+02      3.065234e+02      7.274401e+03      6.971201e+03 \n",
      "               K1                K2               SUM             SUM_1 \n",
      "     7.000000e+00      7.000000e+00      2.542996e+07      1.413615e+06 \n"
     ]
    }
   ],
   "source": [
    "%%R \n",
    "colMeans(map_df[,c(1:7,9)])"
   ]
  },
  {
   "cell_type": "code",
   "execution_count": 66,
   "metadata": {},
   "outputs": [
    {
     "data": {
      "image/png": "[encoded data removed]"
     },
     "metadata": {},
     "output_type": "display_data"
    }
   ],
   "source": [
    "%%R\n",
    "map_top <- map_df[which(map_df$ratio > quantile(map_df$ratio,probs=.75)),]\n",
    "\n",
    "#SUM Properly\n",
    "ggplot(data=map_top,aes(x=k,y=ratio,color=as.factor(sim))) + \n",
    "    geom_line(aes(group=as.factor(sim))) + theme_bw()"
   ]
  },
  {
   "cell_type": "code",
   "execution_count": 93,
   "metadata": {},
   "outputs": [
    {
     "name": "stdout",
     "output_type": "stream",
     "text": [
      " [1] \"Cov\"               \"Non0Cov\"           \"Contigs\"          \n",
      " [4] \"MeanContigsMapped\" \"K1\"                \"K2\"               \n",
      " [7] \"SUM\"               \"Mapped\"            \"SUM_1\"            \n",
      "[10] \"Properly\"          \"Mean\"              \"Mapped_1\"         \n",
      "[13] \"Mean_1\"            \"Properly_1\"        \"MisMatched\"       \n",
      "[16] \"k\"                 \"sim\"               \"ratio\"            \n"
     ]
    }
   ],
   "source": [
    "%%R\n",
    "names(map_df)"
   ]
  },
  {
   "cell_type": "code",
   "execution_count": 68,
   "metadata": {},
   "outputs": [
    {
     "name": "stdout",
     "output_type": "stream",
     "text": [
      "         Cov  Non0Cov Contigs MeanContigsMapped K1 K2      SUM   SUM_1 sim\n",
      " 1:  81.7934  86.8310   20685          19445.70  5  4 30455609 1691980  92\n",
      " 2: 116.4660 121.9070   13948          13299.90  5  5 29242397 1624580  92\n",
      " 3: 159.3760 165.3380    9793           9422.78  5  6 28096817 1560930  92\n",
      " 4: 233.3140 239.1320    6511           6344.72  8  5 27348156 1519342  92\n",
      " 5:  75.9010  80.8343   21863          20489.20  5  4 28211481 1659500  94\n",
      " 6: 107.6810 113.0080   14773          14050.40  5  5 27044878 1590880  94\n",
      " 7: 147.6980 153.5550   10395           9980.59  5  6 26103008 1535470  94\n",
      " 8: 211.8920 217.9320    7014           6811.24  8  5 25269189 1486420  94\n",
      " 9:  63.6802  67.8607   24921          23343.70  5  4 30153731 1587040  96\n",
      "10:  90.8298  95.1894   16817          16018.70  5  5 29023937 1527580  96\n",
      "11: 123.9620 128.6580   11904          11450.30  5  6 28039690 1475770  96\n",
      "12: 175.5850 180.3480    8170           7945.53  8  5 27259451 1434710  96\n",
      "         ratio\n",
      " 1:   1.015322\n",
      " 2:   1.198557\n",
      " 3:   1.401472\n",
      " 4: 410.467781\n",
      " 5:   1.032675\n",
      " 6:   1.195595\n",
      " 7:   1.459881\n",
      " 8:  37.642345\n",
      " 9:   1.005439\n",
      "10:   1.176212\n",
      "11:   1.400185\n",
      "12:  12.425326\n"
     ]
    }
   ],
   "source": [
    "%%R\n",
    "map_df[which(map_df$k %in% c('5_4','5_5','5_6','8_5')),c(1:7,9,17,18)]"
   ]
  },
  {
   "cell_type": "markdown",
   "metadata": {},
   "source": [
    "# Map results \n",
    "    sim=92 K1=8 k2=5 WINNER    \n",
    "    remake reference in fastq using these parameters. Move reference.fasta to assembly dir"
   ]
  },
  {
   "cell_type": "code",
   "execution_count": null,
   "metadata": {},
   "outputs": [],
   "source": []
  }
 ],
 "metadata": {
  "kernelspec": {
   "display_name": "Python 3 (ipykernel)",
   "language": "python",
   "name": "python3"
  },
  "language_info": {
   "codemirror_mode": {
    "name": "ipython",
    "version": 3
   },
   "file_extension": ".py",
   "mimetype": "text/x-python",
   "name": "python",
   "nbconvert_exporter": "python",
   "pygments_lexer": "ipython3",
   "version": "3.11.0"
  }
 },
 "nbformat": 4,
 "nbformat_minor": 1
}
