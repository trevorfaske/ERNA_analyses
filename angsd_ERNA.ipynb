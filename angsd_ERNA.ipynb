{
 "cells": [
  {
   "cell_type": "markdown",
   "metadata": {},
   "source": [
    "## ANGSD\n",
    "\n",
    "See **angsdWrap_ngsF** for installation\n",
    "\n",
    "**NOTE**: Should run this first to set up all files"
   ]
  },
  {
   "cell_type": "code",
   "execution_count": 1,
   "metadata": {},
   "outputs": [],
   "source": [
    "import sys\n",
    "import ipyparallel as ipp\n",
    "import os, time\n",
    "import pandas as pd"
   ]
  },
  {
   "cell_type": "code",
   "execution_count": 2,
   "metadata": {},
   "outputs": [],
   "source": [
    "root = '/data/gpfs/assoc/denovo/PHHA/'"
   ]
  },
  {
   "cell_type": "code",
   "execution_count": 3,
   "metadata": {},
   "outputs": [
    {
     "name": "stdout",
     "output_type": "stream",
     "text": [
      "/data/gpfs/assoc/denovo/PHHA\n"
     ]
    }
   ],
   "source": [
    "cd $root"
   ]
  },
  {
   "cell_type": "code",
   "execution_count": 4,
   "metadata": {},
   "outputs": [],
   "source": [
    "!mkdir angsd"
   ]
  },
  {
   "cell_type": "code",
   "execution_count": 5,
   "metadata": {},
   "outputs": [],
   "source": [
    "analysis_dir = os.path.join(root,'angsd')"
   ]
  },
  {
   "cell_type": "code",
   "execution_count": 6,
   "metadata": {},
   "outputs": [],
   "source": [
    "bam_dir = os.path.join(analysis_dir,'bam_files')"
   ]
  },
  {
   "cell_type": "code",
   "execution_count": 7,
   "metadata": {},
   "outputs": [
    {
     "name": "stdout",
     "output_type": "stream",
     "text": [
      "/data/gpfs/assoc/denovo/PHHA/angsd\n"
     ]
    }
   ],
   "source": [
    "cd $analysis_dir"
   ]
  },
  {
   "cell_type": "code",
   "execution_count": 8,
   "metadata": {},
   "outputs": [],
   "source": [
    "!mkdir diversity"
   ]
  },
  {
   "cell_type": "markdown",
   "metadata": {},
   "source": [
    "# Calculating nt diversity (pi)   \n",
    "\n",
    "Move Pop_ID_Sum over to this directory  \n",
    "must split vcf by each population  "
   ]
  },
  {
   "cell_type": "code",
   "execution_count": 9,
   "metadata": {},
   "outputs": [
    {
     "data": {
      "text/html": [
       "<div>\n",
       "<style scoped>\n",
       "    .dataframe tbody tr th:only-of-type {\n",
       "        vertical-align: middle;\n",
       "    }\n",
       "\n",
       "    .dataframe tbody tr th {\n",
       "        vertical-align: top;\n",
       "    }\n",
       "\n",
       "    .dataframe thead th {\n",
       "        text-align: right;\n",
       "    }\n",
       "</style>\n",
       "<table border=\"1\" class=\"dataframe\">\n",
       "  <thead>\n",
       "    <tr style=\"text-align: right;\">\n",
       "      <th></th>\n",
       "      <th>Pop</th>\n",
       "      <th>ID</th>\n",
       "      <th>All</th>\n",
       "      <th>Site</th>\n",
       "      <th>Latitude</th>\n",
       "      <th>Longitude</th>\n",
       "    </tr>\n",
       "  </thead>\n",
       "  <tbody>\n",
       "    <tr>\n",
       "      <th>0</th>\n",
       "      <td>AS</td>\n",
       "      <td>10</td>\n",
       "      <td>PH_AS_10</td>\n",
       "      <td>Asotin</td>\n",
       "      <td>46.2621</td>\n",
       "      <td>-117.2985</td>\n",
       "    </tr>\n",
       "    <tr>\n",
       "      <th>1</th>\n",
       "      <td>AS</td>\n",
       "      <td>11</td>\n",
       "      <td>PH_AS_11</td>\n",
       "      <td>Asotin</td>\n",
       "      <td>46.2621</td>\n",
       "      <td>-117.2985</td>\n",
       "    </tr>\n",
       "    <tr>\n",
       "      <th>2</th>\n",
       "      <td>AS</td>\n",
       "      <td>12</td>\n",
       "      <td>PH_AS_12</td>\n",
       "      <td>Asotin</td>\n",
       "      <td>46.2621</td>\n",
       "      <td>-117.2985</td>\n",
       "    </tr>\n",
       "    <tr>\n",
       "      <th>3</th>\n",
       "      <td>AS</td>\n",
       "      <td>1</td>\n",
       "      <td>PH_AS_1</td>\n",
       "      <td>Asotin</td>\n",
       "      <td>46.2621</td>\n",
       "      <td>-117.2985</td>\n",
       "    </tr>\n",
       "    <tr>\n",
       "      <th>4</th>\n",
       "      <td>AS</td>\n",
       "      <td>2</td>\n",
       "      <td>PH_AS_2</td>\n",
       "      <td>Asotin</td>\n",
       "      <td>46.2621</td>\n",
       "      <td>-117.2985</td>\n",
       "    </tr>\n",
       "  </tbody>\n",
       "</table>\n",
       "</div>"
      ],
      "text/plain": [
       "  Pop  ID       All    Site  Latitude  Longitude\n",
       "0  AS  10  PH_AS_10  Asotin   46.2621  -117.2985\n",
       "1  AS  11  PH_AS_11  Asotin   46.2621  -117.2985\n",
       "2  AS  12  PH_AS_12  Asotin   46.2621  -117.2985\n",
       "3  AS   1   PH_AS_1  Asotin   46.2621  -117.2985\n",
       "4  AS   2   PH_AS_2  Asotin   46.2621  -117.2985"
      ]
     },
     "execution_count": 9,
     "metadata": {},
     "output_type": "execute_result"
    }
   ],
   "source": [
    "Pop_ID = pd.read_csv(os.path.join(analysis_dir, \"Pop_ID_Sum.csv\"), sep=\",\")\n",
    "Pop_ID.head()"
   ]
  },
  {
   "cell_type": "code",
   "execution_count": 10,
   "metadata": {},
   "outputs": [
    {
     "data": {
      "text/html": [
       "<div>\n",
       "<style scoped>\n",
       "    .dataframe tbody tr th:only-of-type {\n",
       "        vertical-align: middle;\n",
       "    }\n",
       "\n",
       "    .dataframe tbody tr th {\n",
       "        vertical-align: top;\n",
       "    }\n",
       "\n",
       "    .dataframe thead th {\n",
       "        text-align: right;\n",
       "    }\n",
       "</style>\n",
       "<table border=\"1\" class=\"dataframe\">\n",
       "  <thead>\n",
       "    <tr style=\"text-align: right;\">\n",
       "      <th></th>\n",
       "      <th>Pop</th>\n",
       "      <th>ID</th>\n",
       "      <th>All</th>\n",
       "      <th>Site</th>\n",
       "      <th>Latitude</th>\n",
       "      <th>Longitude</th>\n",
       "      <th>Bam</th>\n",
       "    </tr>\n",
       "  </thead>\n",
       "  <tbody>\n",
       "    <tr>\n",
       "      <th>0</th>\n",
       "      <td>AS</td>\n",
       "      <td>10</td>\n",
       "      <td>PH_AS_10</td>\n",
       "      <td>Asotin</td>\n",
       "      <td>46.2621</td>\n",
       "      <td>-117.2985</td>\n",
       "      <td>/data/gpfs/assoc/denovo/PHHA/angsd/bam_files/P...</td>\n",
       "    </tr>\n",
       "    <tr>\n",
       "      <th>1</th>\n",
       "      <td>AS</td>\n",
       "      <td>11</td>\n",
       "      <td>PH_AS_11</td>\n",
       "      <td>Asotin</td>\n",
       "      <td>46.2621</td>\n",
       "      <td>-117.2985</td>\n",
       "      <td>/data/gpfs/assoc/denovo/PHHA/angsd/bam_files/P...</td>\n",
       "    </tr>\n",
       "    <tr>\n",
       "      <th>2</th>\n",
       "      <td>AS</td>\n",
       "      <td>12</td>\n",
       "      <td>PH_AS_12</td>\n",
       "      <td>Asotin</td>\n",
       "      <td>46.2621</td>\n",
       "      <td>-117.2985</td>\n",
       "      <td>/data/gpfs/assoc/denovo/PHHA/angsd/bam_files/P...</td>\n",
       "    </tr>\n",
       "    <tr>\n",
       "      <th>3</th>\n",
       "      <td>AS</td>\n",
       "      <td>1</td>\n",
       "      <td>PH_AS_1</td>\n",
       "      <td>Asotin</td>\n",
       "      <td>46.2621</td>\n",
       "      <td>-117.2985</td>\n",
       "      <td>/data/gpfs/assoc/denovo/PHHA/angsd/bam_files/P...</td>\n",
       "    </tr>\n",
       "    <tr>\n",
       "      <th>4</th>\n",
       "      <td>AS</td>\n",
       "      <td>2</td>\n",
       "      <td>PH_AS_2</td>\n",
       "      <td>Asotin</td>\n",
       "      <td>46.2621</td>\n",
       "      <td>-117.2985</td>\n",
       "      <td>/data/gpfs/assoc/denovo/PHHA/angsd/bam_files/P...</td>\n",
       "    </tr>\n",
       "  </tbody>\n",
       "</table>\n",
       "</div>"
      ],
      "text/plain": [
       "  Pop  ID       All    Site  Latitude  Longitude  \\\n",
       "0  AS  10  PH_AS_10  Asotin   46.2621  -117.2985   \n",
       "1  AS  11  PH_AS_11  Asotin   46.2621  -117.2985   \n",
       "2  AS  12  PH_AS_12  Asotin   46.2621  -117.2985   \n",
       "3  AS   1   PH_AS_1  Asotin   46.2621  -117.2985   \n",
       "4  AS   2   PH_AS_2  Asotin   46.2621  -117.2985   \n",
       "\n",
       "                                                 Bam  \n",
       "0  /data/gpfs/assoc/denovo/PHHA/angsd/bam_files/P...  \n",
       "1  /data/gpfs/assoc/denovo/PHHA/angsd/bam_files/P...  \n",
       "2  /data/gpfs/assoc/denovo/PHHA/angsd/bam_files/P...  \n",
       "3  /data/gpfs/assoc/denovo/PHHA/angsd/bam_files/P...  \n",
       "4  /data/gpfs/assoc/denovo/PHHA/angsd/bam_files/P...  "
      ]
     },
     "execution_count": 10,
     "metadata": {},
     "output_type": "execute_result"
    }
   ],
   "source": [
    "Bam = []\n",
    "for i in range(0,len(Pop_ID)):\n",
    "    name = [bam_dir,\"/\",Pop_ID.All.loc[i],\"_sorted.bam\"]\n",
    "    #print(name)\n",
    "    Bam.append(\"\".join(name))\n",
    "Pop_ID['Bam'] = Bam\n",
    "Pop_ID.head()\n",
    "#print(len(Bam),len(Pop_ID_df))"
   ]
  },
  {
   "cell_type": "code",
   "execution_count": 11,
   "metadata": {},
   "outputs": [],
   "source": [
    "pops = Pop_ID.Pop.unique()\n",
    "for i in range(0,len(pops)):\n",
    "    pop = str(pops[i])\n",
    "    names = Pop_ID[(Pop_ID.Pop == pop)].Bam\n",
    "    #print(names)\n",
    "    pop_file = analysis_dir + \"/diversity/\"+ pop + \"_bam_name.txt\"\n",
    "    #print(pop_file)\n",
    "    names.to_csv(path_or_buf=pop_file,sep='\\n',header=False,index=False)"
   ]
  },
  {
   "cell_type": "markdown",
   "metadata": {},
   "source": [
    "# Get sfs.idx #"
   ]
  },
  {
   "cell_type": "code",
   "execution_count": 24,
   "metadata": {},
   "outputs": [
    {
     "name": "stdout",
     "output_type": "stream",
     "text": [
      "/usr/bin/sh: line 0: source: activate: file not found\r\n"
     ]
    }
   ],
   "source": [
    "!source activate angsdWrap"
   ]
  },
  {
   "cell_type": "code",
   "execution_count": 25,
   "metadata": {},
   "outputs": [],
   "source": [
    "div_dir = os.path.join(analysis_dir,'diversity')"
   ]
  },
  {
   "cell_type": "code",
   "execution_count": 26,
   "metadata": {},
   "outputs": [
    {
     "name": "stdout",
     "output_type": "stream",
     "text": [
      "/data/gpfs/assoc/denovo/tfaske/piper/PIRE/angsd/diversity\n"
     ]
    }
   ],
   "source": [
    "cd $div_dir"
   ]
  },
  {
   "cell_type": "code",
   "execution_count": 27,
   "metadata": {},
   "outputs": [],
   "source": [
    "#create output dir\n",
    "!mkdir output"
   ]
  },
  {
   "cell_type": "code",
   "execution_count": 29,
   "metadata": {},
   "outputs": [
    {
     "data": {
      "text/plain": [
       "'/data/gpfs/assoc/denovo/tfaske/piper/PIRE/assembly/reference.fasta'"
      ]
     },
     "execution_count": 29,
     "metadata": {},
     "output_type": "execute_result"
    }
   ],
   "source": [
    "assembly =  '/data/gpfs/assoc/denovo/PHHA/assembly/reference.fasta'\n",
    "assembly"
   ]
  },
  {
   "cell_type": "code",
   "execution_count": 30,
   "metadata": {},
   "outputs": [],
   "source": [
    "ntasks = 1\n",
    "cpus = 16\n",
    "time = '3-00:00:00'\n",
    "mem_cpu = 2500\n",
    "email = 'tfaske@nevada.unr.edu'\n",
    "account = 'cpu-s5-denovo-0'\n",
    "part = 'cpu-core-0'"
   ]
  },
  {
   "cell_type": "code",
   "execution_count": 33,
   "metadata": {},
   "outputs": [],
   "source": [
    "def write_angsd_sh(account,part,ntasks,cpus,time,mem_cpu,email,div_dir,assembly,Pop_ID):\n",
    "    with open(\"run_angsd.sh\", \"w\") as o:\n",
    "        o.write(\"\"\"#!/usr/bin/env bash\n",
    "#SBATCH --account=%s\n",
    "#SBATCH --partition=%s\n",
    "#SBATCH --time=%s\n",
    "#SBATCH --ntasks %d\n",
    "#SBATCH --cpus-per-task %d\n",
    "#SBATCH --mem-per-cpu=%d\n",
    "#SBATCH --job-name angsd\n",
    "#SBATCH --output output_angsd.txt\n",
    "#SBATCH --mail-type=END\n",
    "#SBATCH --mail-user=%s\n",
    "\n",
    "\"\"\" % (account,part,time,ntasks,cpus,mem_cpu,email))\n",
    "        \n",
    "        pops = Pop_ID.Pop.unique()\n",
    "        for i in range(0,len(pops)):\n",
    "            pop = str(pops[i])\n",
    "            bam_file = os.path.join(div_dir,''.join([pop,'_bam_name.txt']))\n",
    "            o.write(\"angsd -bam %s -doSaf 1 -anc %s -GL 1 -P %s -out output/%s\\n\\n\" % (bam_file,assembly,cpus,pop))\n",
    "        \n",
    "        \n",
    "        "
   ]
  },
  {
   "cell_type": "code",
   "execution_count": 34,
   "metadata": {},
   "outputs": [],
   "source": [
    "write_angsd_sh(account,part,ntasks,cpus,time,mem_cpu,email,div_dir,assembly,Pop_ID)"
   ]
  },
  {
   "cell_type": "markdown",
   "metadata": {},
   "source": [
    "### in terminal  \n",
    "cd /data/gpfs/assoc/denovo/PHHA/angsd/diversity  \n",
    "source activate angsdWrap  \n",
    "sbatch run_angsd.sh  "
   ]
  },
  {
   "cell_type": "markdown",
   "metadata": {},
   "source": [
    "# Make real sfs"
   ]
  },
  {
   "cell_type": "code",
   "execution_count": 41,
   "metadata": {},
   "outputs": [],
   "source": [
    "ntasks = 1\n",
    "cpus = 16\n",
    "time = '3-00:00:00'\n",
    "mem_cpu = 2500\n",
    "email = 'tfaske@nevada.unr.edu'\n",
    "account = 'cpu-s5-denovo-0'\n",
    "part = 'cpu-core-0'"
   ]
  },
  {
   "cell_type": "code",
   "execution_count": 51,
   "metadata": {},
   "outputs": [],
   "source": [
    "def write_realSFS_sh(account,part,ntasks,cpus,time,mem_cpu,email,Pop_ID):\n",
    "    with open(\"run_realSFS.sh\", \"w\") as o:\n",
    "        o.write(\"\"\"#!/usr/bin/env bash\n",
    "#SBATCH --account=%s\n",
    "#SBATCH --partition=%s\n",
    "#SBATCH --time=%s\n",
    "#SBATCH --ntasks %d\n",
    "#SBATCH --cpus-per-task %d\n",
    "#SBATCH --mem-per-cpu=%d\n",
    "#SBATCH --job-name realSFS\n",
    "#SBATCH --output output_realSFS.txt\n",
    "#SBATCH --mail-type=END\n",
    "#SBATCH --mail-user=%s\\n\\n\n",
    "\"\"\" % (account,part,time,ntasks,cpus,mem_cpu,email))\n",
    "        \n",
    "        pops = Pop_ID.Pop.unique()\n",
    "        for i in range(0,len(pops)):\n",
    "            pop = str(pops[i])\n",
    "            o.write(\"realSFS output/%s.saf.idx -P %s > output/%s.sfs\\n\\n\" % (pop,cpus,pop))"
   ]
  },
  {
   "cell_type": "code",
   "execution_count": 52,
   "metadata": {},
   "outputs": [],
   "source": [
    "write_realSFS_sh(account,part,ntasks,cpus,time,mem_cpu,email,Pop_ID)"
   ]
  },
  {
   "cell_type": "markdown",
   "metadata": {},
   "source": [
    "#### in terminal  \n",
    "cd /data/gpfs/assoc/denovo/PHHA/angsd/diversity  \n",
    "source activate angsdWrap  \n",
    "sbatch run_realSFS.sh"
   ]
  },
  {
   "cell_type": "markdown",
   "metadata": {},
   "source": [
    "# do theta"
   ]
  },
  {
   "cell_type": "code",
   "execution_count": 53,
   "metadata": {},
   "outputs": [],
   "source": [
    "def write_doTheta_sh(account,part,ntasks,cpus,time,mem_cpu,email,assembly,Pop_ID):\n",
    "    with open(\"run_doTheta.sh\", \"w\") as o:\n",
    "        o.write(\"\"\"#!/usr/bin/env bash\n",
    "#SBATCH --account=%s\n",
    "#SBATCH --partition=%s\n",
    "#SBATCH --time=%s\n",
    "#SBATCH --ntasks %d\n",
    "#SBATCH --cpus-per-task %d\n",
    "#SBATCH --mem-per-cpu=%d\n",
    "#SBATCH --job-name doTheta\n",
    "#SBATCH --output output_doTheta.txt\n",
    "#SBATCH --mail-type=END\n",
    "#SBATCH --mail-user=%s\\n\\n\n",
    "\"\"\" % (account,part,time,ntasks,cpus,mem_cpu,email))\n",
    "        \n",
    "        pops = Pop_ID.Pop.unique()\n",
    "        for i in range(0,len(pops)):\n",
    "            pop = str(pops[i])\n",
    "            o.write(\"angsd -bam %s_bam_name.txt -out output/%s -doThetas 1 -doSaf 1 -pest output/%s.sfs -anc %s -GL 1\\n\\n\" % (pop,pop,pop,assembly))\n",
    "        \n",
    "        "
   ]
  },
  {
   "cell_type": "code",
   "execution_count": 54,
   "metadata": {},
   "outputs": [],
   "source": [
    "write_doTheta_sh(account,part,ntasks,cpus,time,mem_cpu,email,assembly,Pop_ID)"
   ]
  },
  {
   "cell_type": "markdown",
   "metadata": {},
   "source": [
    "#### in terminal  \n",
    "cd /data/gpfs/assoc/denovo/PHHA/angsd/diversity  \n",
    "source activate angsdWrap  \n",
    "sbatch run_doTheta.sh"
   ]
  },
  {
   "cell_type": "markdown",
   "metadata": {},
   "source": [
    "# do stat"
   ]
  },
  {
   "cell_type": "code",
   "execution_count": 64,
   "metadata": {},
   "outputs": [],
   "source": [
    "### do stat controls \n",
    "win = 10000\n",
    "step = 10000"
   ]
  },
  {
   "cell_type": "code",
   "execution_count": 65,
   "metadata": {},
   "outputs": [],
   "source": [
    "def write_doStat_sh(account,part,ntasks,cpus,time,mem_cpu,email,Pop_ID,win,step):\n",
    "    with open(\"run_doStat.sh\", \"w\") as o:\n",
    "        o.write(\"\"\"#!/usr/bin/env bash\n",
    "#SBATCH --account=%s\n",
    "#SBATCH --partition=%s\n",
    "#SBATCH --time=%s\n",
    "#SBATCH --ntasks %d\n",
    "#SBATCH --cpus-per-task %d\n",
    "#SBATCH --mem-per-cpu=%d\n",
    "#SBATCH --job-name doStat\n",
    "#SBATCH --output output_doStat.txt\n",
    "#SBATCH --mail-type=END\n",
    "#SBATCH --mail-user=%s\\n\\n\n",
    "\"\"\" % (account,part,time,ntasks,cpus,mem_cpu,email))\n",
    "        \n",
    "        pops = Pop_ID.Pop.unique()\n",
    "        for i in range(0,len(pops)):\n",
    "            pop = str(pops[i])\n",
    "            o.write(\"thetaStat do_stat output/%s.thetas.idx -win %d -step %d \\n\\n\" % (pop,win,step))\n",
    "        \n",
    "        "
   ]
  },
  {
   "cell_type": "code",
   "execution_count": 66,
   "metadata": {},
   "outputs": [],
   "source": [
    "write_doStat_sh(account,part,ntasks,cpus,time,mem_cpu,email,Pop_ID,win,step)"
   ]
  },
  {
   "cell_type": "markdown",
   "metadata": {},
   "source": [
    "#### in terminal  \n",
    "cd /data/gpfs/assoc/denovo/PHHA/angsd/diversity  \n",
    "source activate angsdWrap  \n",
    "sbatch run_doStat.sh"
   ]
  },
  {
   "cell_type": "markdown",
   "metadata": {},
   "source": [
    "# thetaOut"
   ]
  },
  {
   "cell_type": "code",
   "execution_count": 67,
   "metadata": {},
   "outputs": [],
   "source": [
    "def write_thetaOut_sh(account,part,ntasks,cpus,time,mem_cpu,email,Pop_ID):\n",
    "    with open(\"run_thetaOut.sh\", \"w\") as o:\n",
    "        o.write(\"\"\"#!/usr/bin/env bash\n",
    "#SBATCH --account=%s\n",
    "#SBATCH --partition=%s\n",
    "#SBATCH --time=%s\n",
    "#SBATCH --ntasks %d\n",
    "#SBATCH --cpus-per-task %d\n",
    "#SBATCH --mem-per-cpu=%d\n",
    "#SBATCH --job-name thetaOut\n",
    "#SBATCH --output output_thetaOut.txt\n",
    "#SBATCH --mail-type=END\n",
    "#SBATCH --mail-user=%s\\n\\n\n",
    "\"\"\" % (account,part,time,ntasks,cpus,mem_cpu,email))\n",
    "        \n",
    "        pops = Pop_ID.Pop.unique()\n",
    "        for i in range(0,len(pops)):\n",
    "            pop = str(pops[i])\n",
    "            o.write(\"thetaStat print output/%s.thetas.idx > output/%s.theta_out\\n\\n\" % (pop,pop))\n",
    "        \n",
    "        "
   ]
  },
  {
   "cell_type": "code",
   "execution_count": 68,
   "metadata": {},
   "outputs": [],
   "source": [
    "write_thetaOut_sh(account,part,ntasks,cpus,time,mem_cpu,email,Pop_ID)"
   ]
  },
  {
   "cell_type": "markdown",
   "metadata": {},
   "source": [
    "#### in terminal  \n",
    "cd /data/gpfs/assoc/denovo/PHHA/angsd/diversity  \n",
    "source activate angsdWrap  \n",
    "sbatch run_thetaOut.sh"
   ]
  },
  {
   "cell_type": "markdown",
   "metadata": {},
   "source": [
    "# OLD PI with VCF"
   ]
  },
  {
   "cell_type": "code",
   "execution_count": 10,
   "metadata": {},
   "outputs": [],
   "source": [
    "def get_pi(filedir, prefix):\n",
    "    pi_file = !ls {filedir}/{prefix}.sites.pi\n",
    "    pi_df = pd.read_csv(pi_file[0], sep=\"\\t\")\n",
    "    pi = pi_df.PI.mean()\n",
    "    #print(pi)\n",
    "    return pi"
   ]
  },
  {
   "cell_type": "code",
   "execution_count": 11,
   "metadata": {},
   "outputs": [
    {
     "data": {
      "text/html": [
       "<div>\n",
       "<style scoped>\n",
       "    .dataframe tbody tr th:only-of-type {\n",
       "        vertical-align: middle;\n",
       "    }\n",
       "\n",
       "    .dataframe tbody tr th {\n",
       "        vertical-align: top;\n",
       "    }\n",
       "\n",
       "    .dataframe thead th {\n",
       "        text-align: right;\n",
       "    }\n",
       "</style>\n",
       "<table border=\"1\" class=\"dataframe\">\n",
       "  <thead>\n",
       "    <tr style=\"text-align: right;\">\n",
       "      <th></th>\n",
       "      <th>Pop</th>\n",
       "      <th>pi</th>\n",
       "    </tr>\n",
       "  </thead>\n",
       "  <tbody>\n",
       "    <tr>\n",
       "      <th>0</th>\n",
       "      <td>AS</td>\n",
       "      <td>0.264486</td>\n",
       "    </tr>\n",
       "    <tr>\n",
       "      <th>1</th>\n",
       "      <td>BM</td>\n",
       "      <td>0.278885</td>\n",
       "    </tr>\n",
       "    <tr>\n",
       "      <th>2</th>\n",
       "      <td>BV</td>\n",
       "      <td>0.277280</td>\n",
       "    </tr>\n",
       "    <tr>\n",
       "      <th>3</th>\n",
       "      <td>DC</td>\n",
       "      <td>0.272952</td>\n",
       "    </tr>\n",
       "    <tr>\n",
       "      <th>4</th>\n",
       "      <td>DH</td>\n",
       "      <td>0.275095</td>\n",
       "    </tr>\n",
       "  </tbody>\n",
       "</table>\n",
       "</div>"
      ],
      "text/plain": [
       "  Pop        pi\n",
       "0  AS  0.264486\n",
       "1  BM  0.278885\n",
       "2  BV  0.277280\n",
       "3  DC  0.272952\n",
       "4  DH  0.275095"
      ]
     },
     "execution_count": 11,
     "metadata": {},
     "output_type": "execute_result"
    }
   ],
   "source": [
    "pi_array=[]\n",
    "pops = Pop_ID_df.Pop.unique()\n",
    "for i in range(0,len(pops)):\n",
    "    pop = pops[i]\n",
    "    pi = get_pi(analysis_dir,pop)\n",
    "    pi_array.append(pi)\n",
    "pop_pi = {'Pop':pops,'pi':pi_array}\n",
    "pop_pi_df = pd.DataFrame(pop_pi)\n",
    "pop_pi_df.head()"
   ]
  },
  {
   "cell_type": "code",
   "execution_count": 12,
   "metadata": {},
   "outputs": [],
   "source": [
    "pop_pi_file = os.path.join(analysis_dir,'pop_pi.csv')\n",
    "pop_pi_df.to_csv(path_or_buf=pop_pi_file,index=False)"
   ]
  },
  {
   "cell_type": "markdown",
   "metadata": {
    "collapsed": true
   },
   "source": [
    "# test"
   ]
  },
  {
   "cell_type": "code",
   "execution_count": 19,
   "metadata": {},
   "outputs": [],
   "source": [
    "SS_theta = pd.read_csv(os.path.join(analysis_dir, \"SS.theta_out\"), sep=\"\\t\")"
   ]
  },
  {
   "cell_type": "code",
   "execution_count": 20,
   "metadata": {},
   "outputs": [
    {
     "data": {
      "text/html": [
       "<div>\n",
       "<style scoped>\n",
       "    .dataframe tbody tr th:only-of-type {\n",
       "        vertical-align: middle;\n",
       "    }\n",
       "\n",
       "    .dataframe tbody tr th {\n",
       "        vertical-align: top;\n",
       "    }\n",
       "\n",
       "    .dataframe thead th {\n",
       "        text-align: right;\n",
       "    }\n",
       "</style>\n",
       "<table border=\"1\" class=\"dataframe\">\n",
       "  <thead>\n",
       "    <tr style=\"text-align: right;\">\n",
       "      <th></th>\n",
       "      <th>#Chromo</th>\n",
       "      <th>Pos</th>\n",
       "      <th>Watterson</th>\n",
       "      <th>Pairwise</th>\n",
       "      <th>thetaSingleton</th>\n",
       "      <th>thetaH</th>\n",
       "      <th>thetaL</th>\n",
       "    </tr>\n",
       "  </thead>\n",
       "  <tbody>\n",
       "    <tr>\n",
       "      <th>0</th>\n",
       "      <td>dDocent_Contig_6</td>\n",
       "      <td>2</td>\n",
       "      <td>-inf</td>\n",
       "      <td>-72.711815</td>\n",
       "      <td>-102.585783</td>\n",
       "      <td>-74.791252</td>\n",
       "      <td>-73.287178</td>\n",
       "    </tr>\n",
       "    <tr>\n",
       "      <th>1</th>\n",
       "      <td>dDocent_Contig_6</td>\n",
       "      <td>3</td>\n",
       "      <td>-inf</td>\n",
       "      <td>-72.103607</td>\n",
       "      <td>-103.278930</td>\n",
       "      <td>-74.183044</td>\n",
       "      <td>-72.678970</td>\n",
       "    </tr>\n",
       "    <tr>\n",
       "      <th>2</th>\n",
       "      <td>dDocent_Contig_6</td>\n",
       "      <td>4</td>\n",
       "      <td>-inf</td>\n",
       "      <td>-71.733322</td>\n",
       "      <td>-103.278930</td>\n",
       "      <td>-73.812759</td>\n",
       "      <td>-72.308685</td>\n",
       "    </tr>\n",
       "    <tr>\n",
       "      <th>3</th>\n",
       "      <td>dDocent_Contig_6</td>\n",
       "      <td>5</td>\n",
       "      <td>-inf</td>\n",
       "      <td>-72.286049</td>\n",
       "      <td>-103.278930</td>\n",
       "      <td>-74.365486</td>\n",
       "      <td>-72.861412</td>\n",
       "    </tr>\n",
       "    <tr>\n",
       "      <th>4</th>\n",
       "      <td>dDocent_Contig_6</td>\n",
       "      <td>6</td>\n",
       "      <td>-inf</td>\n",
       "      <td>-72.545708</td>\n",
       "      <td>-103.278930</td>\n",
       "      <td>-74.625145</td>\n",
       "      <td>-73.121071</td>\n",
       "    </tr>\n",
       "  </tbody>\n",
       "</table>\n",
       "</div>"
      ],
      "text/plain": [
       "            #Chromo  Pos  Watterson   Pairwise  thetaSingleton     thetaH  \\\n",
       "0  dDocent_Contig_6    2       -inf -72.711815     -102.585783 -74.791252   \n",
       "1  dDocent_Contig_6    3       -inf -72.103607     -103.278930 -74.183044   \n",
       "2  dDocent_Contig_6    4       -inf -71.733322     -103.278930 -73.812759   \n",
       "3  dDocent_Contig_6    5       -inf -72.286049     -103.278930 -74.365486   \n",
       "4  dDocent_Contig_6    6       -inf -72.545708     -103.278930 -74.625145   \n",
       "\n",
       "      thetaL  \n",
       "0 -73.287178  \n",
       "1 -72.678970  \n",
       "2 -72.308685  \n",
       "3 -72.861412  \n",
       "4 -73.121071  "
      ]
     },
     "execution_count": 20,
     "metadata": {},
     "output_type": "execute_result"
    }
   ],
   "source": [
    "SS_theta.head()"
   ]
  },
  {
   "cell_type": "code",
   "execution_count": 36,
   "metadata": {},
   "outputs": [
    {
     "data": {
      "text/plain": [
       "0.019512152172408606"
      ]
     },
     "execution_count": 36,
     "metadata": {},
     "output_type": "execute_result"
    }
   ],
   "source": [
    "np.mean(np.exp(SS_theta.Pairwise))"
   ]
  },
  {
   "cell_type": "code",
   "execution_count": 37,
   "metadata": {},
   "outputs": [],
   "source": [
    "josh = pd.read_csv('/working/jahner/desert_bigQ/sam_sai/DB_254_angsd.theta_out',sep='\\t')"
   ]
  },
  {
   "cell_type": "code",
   "execution_count": 40,
   "metadata": {},
   "outputs": [
    {
     "data": {
      "text/plain": [
       "0.0007926749313000031"
      ]
     },
     "execution_count": 40,
     "metadata": {},
     "output_type": "execute_result"
    }
   ],
   "source": [
    "np.mean(np.exp(josh.Pairwise))"
   ]
  },
  {
   "cell_type": "code",
   "execution_count": null,
   "metadata": {},
   "outputs": [],
   "source": []
  }
 ],
 "metadata": {
  "kernelspec": {
   "display_name": "Python 3",
   "language": "python",
   "name": "python3"
  },
  "language_info": {
   "codemirror_mode": {
    "name": "ipython",
    "version": 3
   },
   "file_extension": ".py",
   "mimetype": "text/x-python",
   "name": "python",
   "nbconvert_exporter": "python",
   "pygments_lexer": "ipython3",
   "version": "3.6.7"
  }
 },
 "nbformat": 4,
 "nbformat_minor": 1
}
