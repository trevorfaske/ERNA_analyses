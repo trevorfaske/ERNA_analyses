{
 "cells": [
  {
   "cell_type": "markdown",
   "metadata": {},
   "source": [
    "\n",
    "# Entropy from ancestry coefficients (q) and genotype probabilities (gprob)  \n",
    "\n",
    "Does everything to run entropy and creates slurm files to submit\n",
    "\n",
    "Goal is 4 chains k=2-X (you decide)\n",
    "\n",
    "**Create conda env just for entropy**  \n",
    "`conda create -n entropy`  \n",
    "`conda activate entropy`  \n",
    "`conda install popgen-entropy`  \n",
    "\n",
    "\n",
    "## SUBSET2: \n",
    "\n",
    "#### This is a subset of individuals decided by ERNA_analyses"
   ]
  },
  {
   "cell_type": "code",
   "execution_count": 1,
   "metadata": {
    "ExecuteTime": {}
   },
   "outputs": [],
   "source": [
    "import sys\n",
    "import ipyparallel as ipp\n",
    "import os\n",
    "from os import environ\n",
    "import gzip\n",
    "import warnings\n",
    "import pandas as pd\n",
    "import numpy as np\n",
    "import scipy as sp\n",
    "import glob\n",
    "import re\n",
    "import random"
   ]
  },
  {
   "cell_type": "code",
   "execution_count": 2,
   "metadata": {},
   "outputs": [],
   "source": [
    "root = \"/data/gpfs/assoc/denovo/tfaske/rabbit/full/REDO/\""
   ]
  },
  {
   "cell_type": "code",
   "execution_count": 3,
   "metadata": {},
   "outputs": [
    {
     "name": "stdout",
     "output_type": "stream",
     "text": [
      "/data/gpfs/assoc/denovo/tfaske/rabbit/full/REDO\n"
     ]
    }
   ],
   "source": [
    "cd $root"
   ]
  },
  {
   "cell_type": "code",
   "execution_count": 4,
   "metadata": {},
   "outputs": [
    {
     "name": "stdout",
     "output_type": "stream",
     "text": [
      "mkdir: cannot create directory ‘entropy_sub2’: File exists\r\n"
     ]
    }
   ],
   "source": [
    "!mkdir entropy_sub2"
   ]
  },
  {
   "cell_type": "code",
   "execution_count": 5,
   "metadata": {},
   "outputs": [],
   "source": [
    "ent_dir =os.path.join(root,'entropy_sub2')\n",
    "assert ent_dir"
   ]
  },
  {
   "cell_type": "code",
   "execution_count": 6,
   "metadata": {},
   "outputs": [
    {
     "name": "stdout",
     "output_type": "stream",
     "text": [
      "/data/gpfs/assoc/denovo/tfaske/rabbit/full/REDO/entropy_sub2\n"
     ]
    }
   ],
   "source": [
    "cd $ent_dir"
   ]
  },
  {
   "cell_type": "markdown",
   "metadata": {},
   "source": [
    "#### Subset vcf file by Pop_ID_sub.csv"
   ]
  },
  {
   "cell_type": "code",
   "execution_count": 7,
   "metadata": {},
   "outputs": [],
   "source": [
    "%load_ext rpy2.ipython"
   ]
  },
  {
   "cell_type": "code",
   "execution_count": 9,
   "metadata": {
    "scrolled": true
   },
   "outputs": [
    {
     "name": "stdout",
     "output_type": "stream",
     "text": [
      "[1] 228\n",
      "\n",
      "   arenaria   bigelovii  graveolens   hololueca      iridis      juncea \n",
      "          5           8          11          71           6          11 \n",
      "latisquamea  mohavensis        nana      nitida   oreophila salicifolia \n",
      "          6           5           5           6          28          22 \n",
      "   speciosa   turbinata \n",
      "         33          11 \n"
     ]
    }
   ],
   "source": [
    "%%R\n",
    "require(readr)\n",
    "require(MASS)\n",
    "require(LEA)\n",
    "require(tidyverse)\n",
    "require(ggsci)\n",
    "\n",
    "source('/data/gpfs/assoc/denovo/src/R/Imports.R')\n",
    "\n",
    "setwd('/data/gpfs/assoc/denovo/tfaske/rabbit/full/REDO/entropy_sub2')\n",
    "\n",
    "Pop_ID_sub <- read.csv('Pop_ID_sub.csv')\n",
    "print(nrow(Pop_ID_sub))\n",
    "print(table(as.character(Pop_ID_sub$Variety)))"
   ]
  },
  {
   "cell_type": "code",
   "execution_count": 10,
   "metadata": {},
   "outputs": [],
   "source": [
    "%%R \n",
    "# write file with individuals to keep \n",
    "keep_sub <- data.frame(INDV=as.character(Pop_ID_sub$All))\n",
    "write.table(keep_sub,'keep_sub.txt',row.names=FALSE,quote=FALSE)"
   ]
  },
  {
   "cell_type": "code",
   "execution_count": 11,
   "metadata": {},
   "outputs": [],
   "source": [
    "!cp ../SNPcall/filtering/good_snps.recode.vcf.gz ."
   ]
  },
  {
   "cell_type": "markdown",
   "metadata": {},
   "source": [
    "#### Filter vcf to keep only subset individuals AND same MAF (0.02) / missing data (0.7)"
   ]
  },
  {
   "cell_type": "code",
   "execution_count": 12,
   "metadata": {},
   "outputs": [
    {
     "name": "stdout",
     "output_type": "stream",
     "text": [
      "\n",
      "VCFtools - 0.1.16\n",
      "(C) Adam Auton and Anthony Marcketta 2009\n",
      "\n",
      "Parameters as interpreted:\n",
      "\t--gzvcf good_snps.recode.vcf.gz\n",
      "\t--keep keep_sub.txt\n",
      "\t--recode-INFO-all\n",
      "\t--maf 0.02\n",
      "\t--max-missing 0.7\n",
      "\t--out ERNA_sub\n",
      "\t--recode\n",
      "\n",
      "Using zlib version: 1.2.11\n",
      "Warning: Expected at least 2 parts in INFO entry: ID=AC,Number=A,Type=Integer,Description=\"Allele count in genotypes for each ALT allele, in the same order as listed\">\n",
      "Warning: Expected at least 2 parts in INFO entry: ID=DP4,Number=4,Type=Integer,Description=\"Number of high-quality ref-forward , ref-reverse, alt-forward and alt-reverse bases\">\n",
      "Warning: Expected at least 2 parts in INFO entry: ID=DP4,Number=4,Type=Integer,Description=\"Number of high-quality ref-forward , ref-reverse, alt-forward and alt-reverse bases\">\n",
      "Keeping individuals in 'keep' list\n",
      "After filtering, kept 228 out of 586 Individuals\n",
      "Outputting VCF file...\n",
      "After filtering, kept 19724 out of a possible 22917 Sites\n",
      "Run Time = 13.00 seconds\n"
     ]
    }
   ],
   "source": [
    "!vcftools --gzvcf 'good_snps.recode.vcf.gz' \\\n",
    "--max-missing 0.7 \\\n",
    "--maf 0.02 \\\n",
    "--recode \\\n",
    "--recode-INFO-all \\\n",
    "--keep 'keep_sub.txt' \\\n",
    "--out 'ERNA_sub'"
   ]
  },
  {
   "cell_type": "code",
   "execution_count": 13,
   "metadata": {},
   "outputs": [],
   "source": [
    "vcf_sub = 'ERNA_sub.recode.vcf'\n",
    "vcf_sub_gz = vcf_sub + \".gz\"\n",
    "!bgzip -c $vcf_sub > $vcf_sub_gz\n",
    "!tabix $vcf_sub_gz"
   ]
  },
  {
   "cell_type": "code",
   "execution_count": 14,
   "metadata": {},
   "outputs": [],
   "source": [
    "!rm 'ERNA_sub.log'\n",
    "!rm 'ERNA_sub.recode.vcf.gz.tbi'"
   ]
  },
  {
   "cell_type": "code",
   "execution_count": 15,
   "metadata": {},
   "outputs": [
    {
     "name": "stdout",
     "output_type": "stream",
     "text": [
      "\n",
      "VCFtools - 0.1.16\n",
      "(C) Adam Auton and Anthony Marcketta 2009\n",
      "\n",
      "Parameters as interpreted:\n",
      "\t--gzvcf ERNA_sub.recode.vcf.gz\n",
      "\t--012\n",
      "\t--out ERNA_sub.recode.vcf.gz\n",
      "\n",
      "Using zlib version: 1.2.11\n",
      "Warning: Expected at least 2 parts in INFO entry: ID=AC,Number=A,Type=Integer,Description=\"Allele count in genotypes for each ALT allele, in the same order as listed\">\n",
      "Warning: Expected at least 2 parts in INFO entry: ID=DP4,Number=4,Type=Integer,Description=\"Number of high-quality ref-forward , ref-reverse, alt-forward and alt-reverse bases\">\n",
      "Warning: Expected at least 2 parts in INFO entry: ID=DP4,Number=4,Type=Integer,Description=\"Number of high-quality ref-forward , ref-reverse, alt-forward and alt-reverse bases\">\n",
      "After filtering, kept 228 out of 228 Individuals\n",
      "Writing 012 matrix files ... Done.\n",
      "After filtering, kept 19724 out of a possible 19724 Sites\n",
      "Run Time = 2.00 seconds\n"
     ]
    }
   ],
   "source": [
    "!vcftools --gzvcf 'ERNA_sub.recode.vcf.gz' \\\n",
    "--012 \\\n",
    "--out 'ERNA_sub.recode.vcf.gz'"
   ]
  },
  {
   "cell_type": "markdown",
   "metadata": {},
   "source": [
    "### Create mgpl & pntest files with associated dir "
   ]
  },
  {
   "cell_type": "markdown",
   "metadata": {},
   "source": [
    "#### copy good_snps.recode.vcf.gz from filtering"
   ]
  },
  {
   "cell_type": "code",
   "execution_count": 16,
   "metadata": {},
   "outputs": [
    {
     "data": {
      "text/plain": [
       "'ERNA_sub.recode.vcf'"
      ]
     },
     "execution_count": 16,
     "metadata": {},
     "output_type": "execute_result"
    }
   ],
   "source": [
    "vcf = 'ERNA_sub.recode.vcf'\n",
    "vcf"
   ]
  },
  {
   "cell_type": "code",
   "execution_count": 17,
   "metadata": {},
   "outputs": [],
   "source": [
    "perl_mpgl = '/data/gpfs/assoc/denovo/src/perl_scripts/vcf2mpgl_universal.pl'\n",
    "perl_mean = '/data/gpfs/assoc/denovo/src/perl_scripts/gl2genest_universal.pl'"
   ]
  },
  {
   "cell_type": "code",
   "execution_count": 18,
   "metadata": {},
   "outputs": [
    {
     "name": "stdout",
     "output_type": "stream",
     "text": [
      "Number of loci: 19724; number of individuals 228\r\n"
     ]
    }
   ],
   "source": [
    "!perl $perl_mpgl $vcf"
   ]
  },
  {
   "cell_type": "code",
   "execution_count": 19,
   "metadata": {},
   "outputs": [],
   "source": [
    "mpgl = 'ERNA_sub.recode.mpgl'"
   ]
  },
  {
   "cell_type": "code",
   "execution_count": 20,
   "metadata": {},
   "outputs": [],
   "source": [
    "!perl $perl_mean $mpgl mean"
   ]
  },
  {
   "cell_type": "markdown",
   "metadata": {},
   "source": [
    "### Create ldak files in R"
   ]
  },
  {
   "cell_type": "code",
   "execution_count": 21,
   "metadata": {},
   "outputs": [
    {
     "name": "stdout",
     "output_type": "stream",
     "text": [
      "[1] 19724   228\n"
     ]
    }
   ],
   "source": [
    "%%R\n",
    "g <- read.table(\"pntest_mean_ERNA_sub.recode.txt\", header=F)\n",
    "dim(g)"
   ]
  },
  {
   "cell_type": "code",
   "execution_count": 22,
   "metadata": {},
   "outputs": [
    {
     "name": "stdout",
     "output_type": "stream",
     "text": [
      "Joining, by = c(\"Pop\", \"ID\", \"All\")\n"
     ]
    }
   ],
   "source": [
    "%%R\n",
    "\n",
    "#create Pop_ID file \n",
    "\n",
    "indv<-read.table(\"ERNA_sub.recode.vcf.gz.012.indv\",sep=\"\\t\")\n",
    "\n",
    "Pop_ID <- data.frame(Pop=rep(NA,times=nrow(indv)),\n",
    "                     ID=NA,\n",
    "                     All=NA)\n",
    "for (i in 1:nrow(indv)){\n",
    "    name_list <-unlist(strsplit(as.character(indv$V1[i]),\"_\"))\n",
    "    Pop_ID$Pop[i] <- name_list[2]\n",
    "    Pop_ID$ID[i] <- as.integer(name_list[3])\n",
    "    Pop_ID$All[i] <- as.character(indv$V1[i])\n",
    "}\n",
    "#print(head(Pop_ID))\n",
    "#print(length(unique(Pop_ID$Pop)))\n",
    "\n",
    "### merge with Pop_ID_sub\n",
    "Pop_ID_sub <- left_join(Pop_ID,Pop_ID_sub[,1:10])"
   ]
  },
  {
   "cell_type": "code",
   "execution_count": 23,
   "metadata": {},
   "outputs": [
    {
     "name": "stdout",
     "output_type": "stream",
     "text": [
      "    PC1     PC2     PC3     PC4     PC5 \n",
      "0.06467 0.05184 0.04512 0.02768 0.01961 \n"
     ]
    }
   ],
   "source": [
    "%%R\n",
    "pca_df <- PCA_entropy(t(g))"
   ]
  },
  {
   "cell_type": "code",
   "execution_count": 24,
   "metadata": {},
   "outputs": [
    {
     "data": {
      "image/png": "[encoded data removed]"
     },
     "metadata": {},
     "output_type": "display_data"
    }
   ],
   "source": [
    "%%R\n",
    "\n",
    "### check pntest_mean PCA looks okay\n",
    "pca_df <- cbind(pca_df[,1:10],Pop_ID_sub)\n",
    "\n",
    "\n",
    "ggplot(data = pca_df, aes(x=PC1,y=PC2,fill=as.character(Variety))) +\n",
    "  geom_point(pch=21,colour='black',size = 4) + \n",
    "  xlab(paste(\"PC\",1,\" (\",0.07233*100,\"%)\",sep=\"\")) + \n",
    "  ylab(paste(\"PC\",2,\" (\",0.05319*100,\"%)\",sep=\"\")) +\n",
    "  scale_fill_d3(palette='category20') +\n",
    "  theme_bw() + \n",
    "  theme(#legend.position = 'none',\n",
    "        axis.text = element_text(size=13),\n",
    "        axis.title = element_text(size = 16, colour=\"black\",\n",
    "                                  face = \"bold\",vjust = 1),\n",
    "        panel.border = element_rect(size = 1.5, colour = \"black\"),\n",
    "        legend.text = element_text(size = 11),\n",
    "        legend.title = element_text(size = 13, face = \"bold\"),\n",
    "        panel.grid.major = element_blank(),\n",
    "        panel.grid.minor = element_blank())\n"
   ]
  },
  {
   "cell_type": "code",
   "execution_count": 25,
   "metadata": {},
   "outputs": [],
   "source": [
    "%%R\n",
    "#######################################################################################\n",
    "                                    #### LDA ####\n",
    "#######################################################################################\n",
    "\n",
    "k2<-kmeans(pca_df[,1:5],2,iter.max=10,nstart=10,algorithm=\"Hartigan-Wong\")\n",
    "k3<-kmeans(pca_df[,1:5],3,iter.max=10,nstart=10,algorithm=\"Hartigan-Wong\")\n",
    "k4<-kmeans(pca_df[,1:5],4,iter.max=10,nstart=10,algorithm=\"Hartigan-Wong\")\n",
    "k5<-kmeans(pca_df[,1:5],5,iter.max=10,nstart=10,algorithm=\"Hartigan-Wong\")\n",
    "k6<-kmeans(pca_df[,1:5],6,iter.max=10,nstart=10,algorithm=\"Hartigan-Wong\")\n",
    "k7<-kmeans(pca_df[,1:5],7,iter.max=10,nstart=10,algorithm=\"Hartigan-Wong\")\n",
    "k8<-kmeans(pca_df[,1:5],8,iter.max=10,nstart=10,algorithm=\"Hartigan-Wong\")\n",
    "k9<-kmeans(pca_df[,1:5],9,iter.max=10,nstart=10,algorithm=\"Hartigan-Wong\")\n",
    "k10<-kmeans(pca_df[,1:5],10,iter.max=10,nstart=10,algorithm=\"Hartigan-Wong\")\n",
    "k11<-kmeans(pca_df[,1:5],11,iter.max=10,nstart=10,algorithm=\"Hartigan-Wong\")\n",
    "\n",
    "ldak2<-lda(x=pca_df[,1:5],grouping=k2$cluster,CV=TRUE)\n",
    "ldak3<-lda(x=pca_df[,1:5],grouping=k3$cluster,CV=TRUE)\n",
    "ldak4<-lda(x=pca_df[,1:5],grouping=k4$cluster,CV=TRUE)\n",
    "ldak5<-lda(x=pca_df[,1:5],grouping=k5$cluster,CV=TRUE)\n",
    "ldak6<-lda(x=pca_df[,1:5],grouping=k6$cluster,CV=TRUE)\n",
    "ldak7<-lda(x=pca_df[,1:5],grouping=k7$cluster,CV=TRUE)\n",
    "ldak8<-lda(x=pca_df[,1:5],grouping=k8$cluster,CV=TRUE)\n",
    "ldak9<-lda(x=pca_df[,1:5],grouping=k9$cluster,CV=TRUE)\n",
    "ldak10<-lda(x=pca_df[,1:5],grouping=k10$cluster,CV=TRUE)\n",
    "ldak11<-lda(x=pca_df[,1:5],grouping=k11$cluster,CV=TRUE)\n",
    "\n",
    "write.table(round(ldak2$posterior,5),file=\"ldak2.txt\",quote=F,row.names=F,col.names=F)\n",
    "write.table(round(ldak3$posterior,5),file=\"ldak3.txt\",quote=F,row.names=F,col.names=F)\n",
    "write.table(round(ldak4$posterior,5),file=\"ldak4.txt\",quote=F,row.names=F,col.names=F)\n",
    "write.table(round(ldak5$posterior,5),file=\"ldak5.txt\",quote=F,row.names=F,col.names=F)\n",
    "write.table(round(ldak6$posterior,5),file=\"ldak6.txt\",quote=F,row.names=F,col.names=F)                                      \n",
    "write.table(round(ldak7$posterior,5),file=\"ldak7.txt\",quote=F,row.names=F,col.names=F)\n",
    "write.table(round(ldak8$posterior,5),file=\"ldak8.txt\",quote=F,row.names=F,col.names=F)\n",
    "write.table(round(ldak9$posterior,5),file=\"ldak9.txt\",quote=F,row.names=F,col.names=F)\n",
    "write.table(round(ldak10$posterior,5),file=\"ldak10.txt\",quote=F,row.names=F,col.names=F)\n",
    "write.table(round(ldak11$posterior,5),file=\"ldak11.txt\",quote=F,row.names=F,col.names=F)\n"
   ]
  },
  {
   "cell_type": "code",
   "execution_count": 26,
   "metadata": {},
   "outputs": [],
   "source": [
    "%%R\n",
    "######### create entropy header ####\n",
    "\n",
    "Pop_ID_list <- paste(Pop_ID$Pop,Pop_ID$ID,sep='_')\n",
    "\n",
    "Header <- data.frame(dims = NA,Pop_ID_list)\n",
    "\n",
    "dim(g)\n",
    "\n",
    "df <- t(Header)\n",
    "dims <- paste(dim(g)[2],dim(g)[1],sep = \" \")\n",
    "\n",
    "df[1,1] <- dims\n",
    "\n",
    "write.table(df,'entropy_header.txt',sep = \" \",na =\"\",\n",
    "            quote = FALSE,row.names = FALSE,col.names = FALSE)"
   ]
  },
  {
   "cell_type": "code",
   "execution_count": 27,
   "metadata": {},
   "outputs": [
    {
     "name": "stdout",
     "output_type": "stream",
     "text": [
      "228 19724                                                                                                                                                                                                                                   \r\n",
      "AR_2 AR_3 AR_4 AR_5 AR_6 AS_19 AS_22 AS_24 AS_28 AS_29 AS_30 BC_10 BC_11 BC_12 BC_1 BC_2 BC_3 BC_4 BC_5 BC_6 BC_7 BC_8 BC_9 BH_1 BH_2 BH_3 BH_4 BH_5 BH_6 BO_1 BO_2 BO_3 BO_4 BO_5 BO_6 BT_1 BT_2 BT_3 BT_4 BT_5 BT_6 BV_19 BV_20 BV_24 BV_26 BV_27 BV_28 CH_2 CH_3 CH_4 CH_5 CH_6 CH_7 CI_1 CI_2 CI_3 CI_4 CI_5 CN_1 CN_2 CN_4 CN_5 CN_6 CO_1 CO_2 CO_3 CO_4 CO_5 DC_11 DC_12 DC_15 DC_1 DC_5 DC_8 EW_11 EW_12 EW_3 EW_4 EW_7 EW_9 GB_17 GB_18 GB_20 GB_21 GB_23 GB_30 HL_1 HL_2 HL_3 HL_4 HL_5 HO_10 HO_15 HO_1 HO_4 HO_6 HO_7 IO_1 IO_2 IO_3 IO_4 IO_5 JO_2 JO_3 JO_4 JO_5 JO_6 JT_1 JT_2 JT_3 JT_4 JT_5 JT_6 LA_1 LA_2 LA_3 LA_4 LA_5 LA_6 LO_1 LO_2 LO_3 LO_4 LO_5 LR_1 LR_2 LR_3 LR_4 LR_5 LR_6 LT_4 LT_5 LT_6 LV_16 LV_17 LV_18 LV_25 LV_26 LV_27 MD_11 MD_13 MD_15 MD_2 MD_3 MD_9 NH_2 NH_3 NH_4 NH_5 NH_6 NI_1 NI_2 NI_3 NI_4 NI_5 NI_6 NO_1 NO_2 NO_3 NO_4 NO_5 NT_1 NT_2 NT_3 NT_4 NT_5 OO_1 OO_2 OO_3 OO_4 OO_5 OO_6 OT_1 OT_2 OT_3 OT_4 PT_10 PT_12 PT_13 PT_4 PT_5 PT_8 PW_13 PW_15 PW_2 PW_3 PW_5 PW_7 RH_1 RH_2 RH_3 RH_4 RH_5 RH_6 RS_1 RS_2 RS_4 RS_5 RS_6 RS_7 ST_10 ST_11 ST_12 ST_7 ST_8 ST_9 SS_12 SS_14 SS_15 SS_2 SS_7 SS_8 TO_1 TO_2 TO_3 TO_4 TO_5 TO_6 UT_1 UT_2 UT_3 UT_4 UT_5 YL_1 YL_3 YL_4 YL_5 YL_6\r\n"
     ]
    }
   ],
   "source": [
    "!head entropy_header.txt"
   ]
  },
  {
   "cell_type": "code",
   "execution_count": 28,
   "metadata": {},
   "outputs": [],
   "source": [
    "!cat entropy_header.txt ERNA_sub.recode.mpgl > entropy.mpgl"
   ]
  },
  {
   "cell_type": "code",
   "execution_count": 29,
   "metadata": {},
   "outputs": [
    {
     "name": "stdout",
     "output_type": "stream",
     "text": [
      "/data/gpfs/assoc/denovo/tfaske/rabbit/full/REDO/entropy_sub2\n"
     ]
    }
   ],
   "source": [
    "cd $ent_dir"
   ]
  },
  {
   "cell_type": "code",
   "execution_count": 30,
   "metadata": {},
   "outputs": [],
   "source": [
    "!mkdir shdir"
   ]
  },
  {
   "cell_type": "code",
   "execution_count": 31,
   "metadata": {},
   "outputs": [],
   "source": [
    "### select slurm options\n",
    "account = 'cpu-s5-denovo-0'\n",
    "partition = 'cpu-core-0'\n",
    "time = '14-00:00:00' #time limit 4\n",
    "cpus = 4 #to prevent hammering one node\n",
    "mem_cpu = 8000\n",
    "email = 'tfaske@nevada.unr.edu'\n",
    "\n",
    "#entropy settings\n",
    "l = 60000\n",
    "b = 10000\n",
    "num_k = [2,3,4,5,6,7,8,9]\n",
    "chains = 4"
   ]
  },
  {
   "cell_type": "markdown",
   "metadata": {},
   "source": [
    "**Note:** Random seed needs to be created for each chain. Most programs use the clock as the seed, which is typically fine but since the clock on the HPC only goes to minutes and we are running everything at the same time, all the seeds are the same. Giving you the same exact seed. "
   ]
  },
  {
   "cell_type": "code",
   "execution_count": 32,
   "metadata": {},
   "outputs": [],
   "source": [
    "def write_entropy_sh(account,partition,time,cpus,mem_cpu,email,l,b,num_k,chains):\n",
    "    for k in num_k:\n",
    "        for c in range(1,chains+1):\n",
    "            jobname = 'k%d_c%d' % (k,c)\n",
    "            seed = random.randint(1000,9999) #default is clock so messes up if submitted same time \n",
    "            with open(\"shdir/run_entropy_%s.sh\" % (jobname), \"w\") as o:\n",
    "                o.write(\"\"\"#!/usr/bin/env bash\n",
    "#SBATCH --account=%s\n",
    "#SBATCH --partition=%s\n",
    "#SBATCH --time=%s\n",
    "#SBATCH --ntasks 1\n",
    "#SBATCH --cpus-per-task %d\n",
    "#SBATCH --mem-per-cpu=%d\n",
    "#SBATCH --job-name ent_%s\n",
    "#SBATCH --output output_%s.txt\n",
    "#SBATCH --mail-type=END\n",
    "#SBATCH --mail-user=%s\\n\\n\"\"\" % (account,partition,time,cpus,mem_cpu,jobname,jobname,email))\n",
    "        \n",
    "                o.write(\"entropy -i ../entropy.mpgl -o ../entropy_%s.hdf5 -r %d -n 2 -l %d -b %d -t 10 -s 50 -e .01 -k %d -q ../ldak%d.txt -m 1 -w 0\"\n",
    "                        % (jobname,seed,l,b,k,k))\n",
    "    "
   ]
  },
  {
   "cell_type": "code",
   "execution_count": 33,
   "metadata": {},
   "outputs": [],
   "source": [
    "write_entropy_sh(account,partition,time,cpus,mem_cpu,email,l,b,num_k,chains)"
   ]
  },
  {
   "cell_type": "code",
   "execution_count": 34,
   "metadata": {},
   "outputs": [
    {
     "data": {
      "text/plain": [
       "['/data/gpfs/assoc/denovo/tfaske/rabbit/full/REDO/entropy_sub2/shdir/run_entropy_k2_c1.sh',\n",
       " '/data/gpfs/assoc/denovo/tfaske/rabbit/full/REDO/entropy_sub2/shdir/run_entropy_k2_c2.sh',\n",
       " '/data/gpfs/assoc/denovo/tfaske/rabbit/full/REDO/entropy_sub2/shdir/run_entropy_k2_c3.sh',\n",
       " '/data/gpfs/assoc/denovo/tfaske/rabbit/full/REDO/entropy_sub2/shdir/run_entropy_k2_c4.sh',\n",
       " '/data/gpfs/assoc/denovo/tfaske/rabbit/full/REDO/entropy_sub2/shdir/run_entropy_k3_c1.sh',\n",
       " '/data/gpfs/assoc/denovo/tfaske/rabbit/full/REDO/entropy_sub2/shdir/run_entropy_k3_c2.sh',\n",
       " '/data/gpfs/assoc/denovo/tfaske/rabbit/full/REDO/entropy_sub2/shdir/run_entropy_k3_c3.sh',\n",
       " '/data/gpfs/assoc/denovo/tfaske/rabbit/full/REDO/entropy_sub2/shdir/run_entropy_k3_c4.sh',\n",
       " '/data/gpfs/assoc/denovo/tfaske/rabbit/full/REDO/entropy_sub2/shdir/run_entropy_k4_c1.sh',\n",
       " '/data/gpfs/assoc/denovo/tfaske/rabbit/full/REDO/entropy_sub2/shdir/run_entropy_k4_c2.sh',\n",
       " '/data/gpfs/assoc/denovo/tfaske/rabbit/full/REDO/entropy_sub2/shdir/run_entropy_k4_c3.sh',\n",
       " '/data/gpfs/assoc/denovo/tfaske/rabbit/full/REDO/entropy_sub2/shdir/run_entropy_k4_c4.sh',\n",
       " '/data/gpfs/assoc/denovo/tfaske/rabbit/full/REDO/entropy_sub2/shdir/run_entropy_k5_c1.sh',\n",
       " '/data/gpfs/assoc/denovo/tfaske/rabbit/full/REDO/entropy_sub2/shdir/run_entropy_k5_c2.sh',\n",
       " '/data/gpfs/assoc/denovo/tfaske/rabbit/full/REDO/entropy_sub2/shdir/run_entropy_k5_c3.sh',\n",
       " '/data/gpfs/assoc/denovo/tfaske/rabbit/full/REDO/entropy_sub2/shdir/run_entropy_k5_c4.sh',\n",
       " '/data/gpfs/assoc/denovo/tfaske/rabbit/full/REDO/entropy_sub2/shdir/run_entropy_k6_c1.sh',\n",
       " '/data/gpfs/assoc/denovo/tfaske/rabbit/full/REDO/entropy_sub2/shdir/run_entropy_k6_c2.sh',\n",
       " '/data/gpfs/assoc/denovo/tfaske/rabbit/full/REDO/entropy_sub2/shdir/run_entropy_k6_c3.sh',\n",
       " '/data/gpfs/assoc/denovo/tfaske/rabbit/full/REDO/entropy_sub2/shdir/run_entropy_k6_c4.sh',\n",
       " '/data/gpfs/assoc/denovo/tfaske/rabbit/full/REDO/entropy_sub2/shdir/run_entropy_k7_c1.sh',\n",
       " '/data/gpfs/assoc/denovo/tfaske/rabbit/full/REDO/entropy_sub2/shdir/run_entropy_k7_c2.sh',\n",
       " '/data/gpfs/assoc/denovo/tfaske/rabbit/full/REDO/entropy_sub2/shdir/run_entropy_k7_c3.sh',\n",
       " '/data/gpfs/assoc/denovo/tfaske/rabbit/full/REDO/entropy_sub2/shdir/run_entropy_k7_c4.sh',\n",
       " '/data/gpfs/assoc/denovo/tfaske/rabbit/full/REDO/entropy_sub2/shdir/run_entropy_k8_c1.sh',\n",
       " '/data/gpfs/assoc/denovo/tfaske/rabbit/full/REDO/entropy_sub2/shdir/run_entropy_k8_c2.sh',\n",
       " '/data/gpfs/assoc/denovo/tfaske/rabbit/full/REDO/entropy_sub2/shdir/run_entropy_k8_c3.sh',\n",
       " '/data/gpfs/assoc/denovo/tfaske/rabbit/full/REDO/entropy_sub2/shdir/run_entropy_k8_c4.sh',\n",
       " '/data/gpfs/assoc/denovo/tfaske/rabbit/full/REDO/entropy_sub2/shdir/run_entropy_k9_c1.sh',\n",
       " '/data/gpfs/assoc/denovo/tfaske/rabbit/full/REDO/entropy_sub2/shdir/run_entropy_k9_c2.sh',\n",
       " '/data/gpfs/assoc/denovo/tfaske/rabbit/full/REDO/entropy_sub2/shdir/run_entropy_k9_c3.sh',\n",
       " '/data/gpfs/assoc/denovo/tfaske/rabbit/full/REDO/entropy_sub2/shdir/run_entropy_k9_c4.sh']"
      ]
     },
     "execution_count": 34,
     "metadata": {},
     "output_type": "execute_result"
    }
   ],
   "source": [
    "entShells = !find $ent_dir -name 'run_entropy*.sh'\n",
    "entShells = entShells.sort()\n",
    "entShells"
   ]
  },
  {
   "cell_type": "code",
   "execution_count": 35,
   "metadata": {},
   "outputs": [],
   "source": [
    "def write_sbatch_entShells(entShells):\n",
    "         with open(\"shdir/sbatch_entropy.sh\", \"w\") as o:\n",
    "            o.write(\"\"\"#!/usr/bin/env bash \\n\"\"\")\n",
    "            for sh in entShells:\n",
    "                o.write(\"\"\"sbatch %s\\n\"\"\" % (sh))"
   ]
  },
  {
   "cell_type": "code",
   "execution_count": 36,
   "metadata": {},
   "outputs": [],
   "source": [
    "write_sbatch_entShells(entShells)"
   ]
  },
  {
   "cell_type": "markdown",
   "metadata": {},
   "source": [
    "# Run all entropy*sh\n",
    "    cd /data/gpfs/assoc/denovo/tfaske/rabbit/full/REDO/entropy/shdir\n",
    "    source activate entropy\n",
    "    bash sbatch_entropy.sh"
   ]
  },
  {
   "cell_type": "markdown",
   "metadata": {},
   "source": [
    "# Use estpost to get DIC, q, and gprob"
   ]
  },
  {
   "cell_type": "code",
   "execution_count": 37,
   "metadata": {},
   "outputs": [],
   "source": [
    "np.set_printoptions(precision=8) # increases float print option\n",
    "#pd.set_option(\"precision\", 8)"
   ]
  },
  {
   "cell_type": "code",
   "execution_count": 38,
   "metadata": {},
   "outputs": [
    {
     "name": "stdout",
     "output_type": "stream",
     "text": [
      "/data/gpfs/assoc/denovo/tfaske/rabbit/full/REDO/entropy_sub2\n"
     ]
    }
   ],
   "source": [
    "cd $ent_dir"
   ]
  },
  {
   "cell_type": "code",
   "execution_count": 39,
   "metadata": {},
   "outputs": [],
   "source": [
    "hdf5_files = !find . -name '*hdf5'\n",
    "hdf5_files = hdf5_files.sort()\n",
    "#hdf5_files"
   ]
  },
  {
   "cell_type": "code",
   "execution_count": 40,
   "metadata": {},
   "outputs": [],
   "source": [
    "estpost = '/data/gpfs/home/tfaske/g/anaconda3/envs/entropy/bin/estpost.entropy'"
   ]
  },
  {
   "cell_type": "code",
   "execution_count": 41,
   "metadata": {},
   "outputs": [],
   "source": [
    "#make DIC\n",
    "for i in range(0,len(hdf5_files)):\n",
    "    f = hdf5_files[i]\n",
    "    k = f.split('_')[1] #set this \n",
    "    c = f.split('_')[2].split('.hdf5')[0]\n",
    "    #print(k,c)\n",
    "    dic = \"DIC_%s_%s.txt\" % (k,c)\n",
    "    !$estpost $f -s 3 -p deviance > $dic"
   ]
  },
  {
   "cell_type": "code",
   "execution_count": 42,
   "metadata": {},
   "outputs": [
    {
     "data": {
      "text/plain": [
       "(32, './DIC_k2_c4.txt')"
      ]
     },
     "execution_count": 42,
     "metadata": {},
     "output_type": "execute_result"
    }
   ],
   "source": [
    "dic_files = !find . -name 'DIC*'\n",
    "len(dic_files),dic_files[0]"
   ]
  },
  {
   "cell_type": "code",
   "execution_count": 43,
   "metadata": {},
   "outputs": [
    {
     "name": "stdout",
     "output_type": "stream",
     "text": [
      "file = ./entropy_k2_c4.hdf5\n",
      "parameter dimensions for deviance: samples = 5000, chains = 1\n",
      "Model deviance: 7401388.47\n",
      "Effective number of parameters: 3593059.78\n",
      "Model DIC: 10994448.25\n",
      "\n",
      "\n",
      "file = ./entropy_k7_c2.hdf5\n",
      "parameter dimensions for deviance: samples = 5000, chains = 1\n",
      "Model deviance: 6362655.73\n",
      "Effective number of parameters: 5826211.62\n",
      "Model DIC: 12188867.35\n",
      "\n",
      "\n",
      "file = ./entropy_k2_c1.hdf5\n",
      "parameter dimensions for deviance: samples = 5000, chains = 1\n",
      "Model deviance: 7401239.80\n",
      "Effective number of parameters: 3619357.04\n",
      "Model DIC: 11020596.84\n",
      "\n",
      "\n",
      "file = ./entropy_k6_c1.hdf5\n",
      "parameter dimensions for deviance: samples = 5000, chains = 1\n",
      "Model deviance: 6446061.98\n",
      "Effective number of parameters: 5650481.31\n",
      "Model DIC: 12096543.29\n",
      "\n",
      "\n",
      "file = ./entropy_k3_c2.hdf5\n",
      "parameter dimensions for deviance: samples = 5000, chains = 1\n",
      "Model deviance: 7024561.34\n",
      "Effective number of parameters: 4050216.31\n",
      "Model DIC: 11074777.65\n",
      "\n",
      "\n",
      "file = ./entropy_k4_c4.hdf5\n",
      "parameter dimensions for deviance: samples = 5000, chains = 1\n",
      "Model deviance: 6706027.82\n",
      "Effective number of parameters: 4722781.14\n",
      "Model DIC: 11428808.96\n",
      "\n",
      "\n",
      "file = ./entropy_k4_c2.hdf5\n",
      "parameter dimensions for deviance: samples = 5000, chains = 1\n",
      "Model deviance: 6705946.05\n",
      "Effective number of parameters: 4596065.18\n",
      "Model DIC: 11302011.23\n",
      "\n",
      "\n",
      "file = ./entropy_k7_c1.hdf5\n",
      "parameter dimensions for deviance: samples = 5000, chains = 1\n",
      "Model deviance: 6363359.72\n",
      "Effective number of parameters: 6316378.58\n",
      "Model DIC: 12679738.31\n",
      "\n",
      "\n",
      "file = ./entropy_k7_c4.hdf5\n",
      "parameter dimensions for deviance: samples = 5000, chains = 1\n",
      "Model deviance: 6363940.33\n",
      "Effective number of parameters: 6316769.85\n",
      "Model DIC: 12680710.18\n",
      "\n",
      "\n",
      "file = ./entropy_k5_c2.hdf5\n",
      "parameter dimensions for deviance: samples = 5000, chains = 1\n",
      "Model deviance: 6600883.45\n",
      "Effective number of parameters: 6444759.30\n",
      "Model DIC: 13045642.74\n",
      "\n",
      "\n",
      "file = ./entropy_k6_c2.hdf5\n",
      "parameter dimensions for deviance: samples = 5000, chains = 1\n",
      "Model deviance: 6445461.11\n",
      "Effective number of parameters: 5711484.55\n",
      "Model DIC: 12156945.65\n",
      "\n",
      "\n",
      "file = ./entropy_k4_c3.hdf5\n",
      "parameter dimensions for deviance: samples = 5000, chains = 1\n",
      "Model deviance: 6705543.63\n",
      "Effective number of parameters: 4844169.04\n",
      "Model DIC: 11549712.67\n",
      "\n",
      "\n",
      "file = ./entropy_k7_c3.hdf5\n",
      "parameter dimensions for deviance: samples = 5000, chains = 1\n",
      "Model deviance: 6363481.84\n",
      "Effective number of parameters: 5958890.89\n",
      "Model DIC: 12322372.73\n",
      "\n",
      "\n",
      "file = ./entropy_k3_c1.hdf5\n",
      "parameter dimensions for deviance: samples = 5000, chains = 1\n",
      "Model deviance: 7024703.48\n",
      "Effective number of parameters: 4073473.11\n",
      "Model DIC: 11098176.59\n",
      "\n",
      "\n",
      "file = ./entropy_k2_c2.hdf5\n",
      "parameter dimensions for deviance: samples = 5000, chains = 1\n",
      "Model deviance: 7401515.58\n",
      "Effective number of parameters: 3794786.98\n",
      "Model DIC: 11196302.56\n",
      "\n",
      "\n",
      "file = ./entropy_k5_c4.hdf5\n",
      "parameter dimensions for deviance: samples = 5000, chains = 1\n",
      "Model deviance: 6602005.54\n",
      "Effective number of parameters: 5418340.33\n",
      "Model DIC: 12020345.87\n",
      "\n",
      "\n",
      "file = ./entropy_k8_c4.hdf5\n",
      "parameter dimensions for deviance: samples = 5000, chains = 1\n",
      "Model deviance: 6213918.29\n",
      "Effective number of parameters: 8465773.49\n",
      "Model DIC: 14679691.78\n",
      "\n",
      "\n",
      "file = ./entropy_k6_c3.hdf5\n",
      "parameter dimensions for deviance: samples = 5000, chains = 1\n",
      "Model deviance: 6446387.35\n",
      "Effective number of parameters: 5389864.26\n",
      "Model DIC: 11836251.61\n",
      "\n",
      "\n",
      "file = ./entropy_k8_c3.hdf5\n",
      "parameter dimensions for deviance: samples = 5000, chains = 1\n",
      "Model deviance: 6213033.21\n",
      "Effective number of parameters: 8510348.10\n",
      "Model DIC: 14723381.31\n",
      "\n",
      "\n",
      "file = ./entropy_k8_c1.hdf5\n",
      "parameter dimensions for deviance: samples = 5000, chains = 1\n",
      "Model deviance: 6213350.68\n",
      "Effective number of parameters: 8915929.30\n",
      "Model DIC: 15129279.99\n",
      "\n",
      "\n",
      "file = ./entropy_k4_c1.hdf5\n",
      "parameter dimensions for deviance: samples = 5000, chains = 1\n",
      "Model deviance: 6705626.29\n",
      "Effective number of parameters: 4338372.42\n",
      "Model DIC: 11043998.71\n",
      "\n",
      "\n",
      "file = ./entropy_k2_c3.hdf5\n",
      "parameter dimensions for deviance: samples = 5000, chains = 1\n",
      "Model deviance: 7401403.33\n",
      "Effective number of parameters: 3774869.44\n",
      "Model DIC: 11176272.77\n",
      "\n",
      "\n",
      "file = ./entropy_k8_c2.hdf5\n",
      "parameter dimensions for deviance: samples = 5000, chains = 1\n",
      "Model deviance: 6214418.36\n",
      "Effective number of parameters: 8196769.25\n",
      "Model DIC: 14411187.62\n",
      "\n",
      "\n",
      "file = ./entropy_k9_c3.hdf5\n",
      "parameter dimensions for deviance: samples = 5000, chains = 1\n",
      "Model deviance: 6143254.27\n",
      "Effective number of parameters: 8577450.80\n",
      "Model DIC: 14720705.07\n",
      "\n",
      "\n",
      "file = ./entropy_k9_c2.hdf5\n",
      "parameter dimensions for deviance: samples = 5000, chains = 1\n",
      "Model deviance: 6142617.91\n",
      "Effective number of parameters: 11559965.55\n",
      "Model DIC: 17702583.46\n",
      "\n",
      "\n",
      "file = ./entropy_k6_c4.hdf5\n",
      "parameter dimensions for deviance: samples = 5000, chains = 1\n",
      "Model deviance: 6446230.69\n",
      "Effective number of parameters: 5194104.99\n",
      "Model DIC: 11640335.67\n",
      "\n",
      "\n",
      "file = ./entropy_k3_c4.hdf5\n",
      "parameter dimensions for deviance: samples = 5000, chains = 1\n",
      "Model deviance: 7024500.58\n",
      "Effective number of parameters: 4114979.16\n",
      "Model DIC: 11139479.73\n",
      "\n",
      "\n",
      "file = ./entropy_k9_c1.hdf5\n",
      "parameter dimensions for deviance: samples = 5000, chains = 1\n",
      "Model deviance: 6143903.09\n",
      "Effective number of parameters: 9475127.97\n",
      "Model DIC: 15619031.07\n",
      "\n",
      "\n",
      "file = ./entropy_k5_c1.hdf5\n",
      "parameter dimensions for deviance: samples = 5000, chains = 1\n",
      "Model deviance: 6601170.55\n",
      "Effective number of parameters: 6108798.61\n",
      "Model DIC: 12709969.16\n",
      "\n",
      "\n",
      "file = ./entropy_k3_c3.hdf5\n",
      "parameter dimensions for deviance: samples = 5000, chains = 1\n",
      "Model deviance: 7024325.81\n",
      "Effective number of parameters: 4087486.36\n",
      "Model DIC: 11111812.17\n",
      "\n",
      "\n",
      "file = ./entropy_k5_c3.hdf5\n",
      "parameter dimensions for deviance: samples = 5000, chains = 1\n",
      "Model deviance: 6601083.66\n",
      "Effective number of parameters: 5868910.63\n",
      "Model DIC: 12469994.29\n",
      "\n",
      "\n",
      "file = ./entropy_k9_c4.hdf5\n",
      "parameter dimensions for deviance: samples = 5000, chains = 1\n",
      "Model deviance: 6142397.37\n",
      "Effective number of parameters: 10216305.17\n",
      "Model DIC: 16358702.53\n",
      "\n",
      "\n"
     ]
    }
   ],
   "source": [
    "for d in dic_files:\n",
    "    !cat $d\n",
    "    print('\\n')"
   ]
  },
  {
   "cell_type": "code",
   "execution_count": 44,
   "metadata": {},
   "outputs": [
    {
     "data": {
      "text/html": [
       "<div>\n",
       "<style scoped>\n",
       "    .dataframe tbody tr th:only-of-type {\n",
       "        vertical-align: middle;\n",
       "    }\n",
       "\n",
       "    .dataframe tbody tr th {\n",
       "        vertical-align: top;\n",
       "    }\n",
       "\n",
       "    .dataframe thead th {\n",
       "        text-align: right;\n",
       "    }\n",
       "</style>\n",
       "<table border=\"1\" class=\"dataframe\">\n",
       "  <thead>\n",
       "    <tr style=\"text-align: right;\">\n",
       "      <th></th>\n",
       "      <th>k</th>\n",
       "      <th>DIC</th>\n",
       "      <th>chain</th>\n",
       "    </tr>\n",
       "  </thead>\n",
       "  <tbody>\n",
       "    <tr>\n",
       "      <th>0</th>\n",
       "      <td>2</td>\n",
       "      <td>10994448.25</td>\n",
       "      <td>4</td>\n",
       "    </tr>\n",
       "    <tr>\n",
       "      <th>1</th>\n",
       "      <td>7</td>\n",
       "      <td>12188867.35</td>\n",
       "      <td>2</td>\n",
       "    </tr>\n",
       "    <tr>\n",
       "      <th>2</th>\n",
       "      <td>2</td>\n",
       "      <td>11020596.84</td>\n",
       "      <td>1</td>\n",
       "    </tr>\n",
       "    <tr>\n",
       "      <th>3</th>\n",
       "      <td>6</td>\n",
       "      <td>12096543.29</td>\n",
       "      <td>1</td>\n",
       "    </tr>\n",
       "    <tr>\n",
       "      <th>4</th>\n",
       "      <td>3</td>\n",
       "      <td>11074777.65</td>\n",
       "      <td>2</td>\n",
       "    </tr>\n",
       "  </tbody>\n",
       "</table>\n",
       "</div>"
      ],
      "text/plain": [
       "   k          DIC chain\n",
       "0  2  10994448.25     4\n",
       "1  7  12188867.35     2\n",
       "2  2  11020596.84     1\n",
       "3  6  12096543.29     1\n",
       "4  3  11074777.65     2"
      ]
     },
     "execution_count": 44,
     "metadata": {},
     "output_type": "execute_result"
    }
   ],
   "source": [
    "dic_list = []\n",
    "for d in dic_files:\n",
    "    k = d.split('_k')[1].split('_')[0] #set this \n",
    "    c = d.split('_c')[1].split('.txt')[0]\n",
    "    #print(k,c)\n",
    "    \n",
    "    dic = !grep 'DIC' $d\n",
    "    dic = float(re.search('(\\d+.\\d+)',str(dic)).group(0))\n",
    "    #print(dic)\n",
    "    \n",
    "    dic_list.append([k,dic,c])\n",
    "dic_df = pd.DataFrame(dic_list,columns=['k','DIC','chain'])\n",
    "dic_df.head()"
   ]
  },
  {
   "cell_type": "code",
   "execution_count": 45,
   "metadata": {},
   "outputs": [],
   "source": [
    "dic_df.to_csv('dic_list.csv')"
   ]
  },
  {
   "cell_type": "code",
   "execution_count": 46,
   "metadata": {},
   "outputs": [],
   "source": [
    "dic_sum = dic_df.groupby('k').describe().DIC"
   ]
  },
  {
   "cell_type": "code",
   "execution_count": 47,
   "metadata": {},
   "outputs": [
    {
     "data": {
      "text/html": [
       "<div>\n",
       "<style scoped>\n",
       "    .dataframe tbody tr th:only-of-type {\n",
       "        vertical-align: middle;\n",
       "    }\n",
       "\n",
       "    .dataframe tbody tr th {\n",
       "        vertical-align: top;\n",
       "    }\n",
       "\n",
       "    .dataframe thead th {\n",
       "        text-align: right;\n",
       "    }\n",
       "</style>\n",
       "<table border=\"1\" class=\"dataframe\">\n",
       "  <thead>\n",
       "    <tr style=\"text-align: right;\">\n",
       "      <th></th>\n",
       "      <th>count</th>\n",
       "      <th>mean</th>\n",
       "      <th>std</th>\n",
       "      <th>min</th>\n",
       "      <th>25%</th>\n",
       "      <th>50%</th>\n",
       "      <th>75%</th>\n",
       "      <th>max</th>\n",
       "    </tr>\n",
       "    <tr>\n",
       "      <th>k</th>\n",
       "      <th></th>\n",
       "      <th></th>\n",
       "      <th></th>\n",
       "      <th></th>\n",
       "      <th></th>\n",
       "      <th></th>\n",
       "      <th></th>\n",
       "      <th></th>\n",
       "    </tr>\n",
       "  </thead>\n",
       "  <tbody>\n",
       "    <tr>\n",
       "      <th>2</th>\n",
       "      <td>4.0</td>\n",
       "      <td>1.109691e+07</td>\n",
       "      <td>1.040824e+05</td>\n",
       "      <td>10994448.25</td>\n",
       "      <td>1.101406e+07</td>\n",
       "      <td>1.109843e+07</td>\n",
       "      <td>1.118128e+07</td>\n",
       "      <td>11196302.56</td>\n",
       "    </tr>\n",
       "    <tr>\n",
       "      <th>3</th>\n",
       "      <td>4.0</td>\n",
       "      <td>1.110606e+07</td>\n",
       "      <td>2.702283e+04</td>\n",
       "      <td>11074777.65</td>\n",
       "      <td>1.109233e+07</td>\n",
       "      <td>1.110499e+07</td>\n",
       "      <td>1.111873e+07</td>\n",
       "      <td>11139479.73</td>\n",
       "    </tr>\n",
       "    <tr>\n",
       "      <th>4</th>\n",
       "      <td>4.0</td>\n",
       "      <td>1.133113e+07</td>\n",
       "      <td>2.164962e+05</td>\n",
       "      <td>11043998.71</td>\n",
       "      <td>1.123751e+07</td>\n",
       "      <td>1.136541e+07</td>\n",
       "      <td>1.145903e+07</td>\n",
       "      <td>11549712.67</td>\n",
       "    </tr>\n",
       "    <tr>\n",
       "      <th>6</th>\n",
       "      <td>4.0</td>\n",
       "      <td>1.193252e+07</td>\n",
       "      <td>2.393810e+05</td>\n",
       "      <td>11640335.67</td>\n",
       "      <td>1.178727e+07</td>\n",
       "      <td>1.196640e+07</td>\n",
       "      <td>1.211164e+07</td>\n",
       "      <td>12156945.65</td>\n",
       "    </tr>\n",
       "    <tr>\n",
       "      <th>7</th>\n",
       "      <td>4.0</td>\n",
       "      <td>1.246792e+07</td>\n",
       "      <td>2.511315e+05</td>\n",
       "      <td>12188867.35</td>\n",
       "      <td>1.228900e+07</td>\n",
       "      <td>1.250106e+07</td>\n",
       "      <td>1.267998e+07</td>\n",
       "      <td>12680710.18</td>\n",
       "    </tr>\n",
       "    <tr>\n",
       "      <th>5</th>\n",
       "      <td>4.0</td>\n",
       "      <td>1.256149e+07</td>\n",
       "      <td>4.311451e+05</td>\n",
       "      <td>12020345.87</td>\n",
       "      <td>1.235758e+07</td>\n",
       "      <td>1.258998e+07</td>\n",
       "      <td>1.279389e+07</td>\n",
       "      <td>13045642.74</td>\n",
       "    </tr>\n",
       "    <tr>\n",
       "      <th>8</th>\n",
       "      <td>4.0</td>\n",
       "      <td>1.473589e+07</td>\n",
       "      <td>2.963680e+05</td>\n",
       "      <td>14411187.62</td>\n",
       "      <td>1.461257e+07</td>\n",
       "      <td>1.470154e+07</td>\n",
       "      <td>1.482486e+07</td>\n",
       "      <td>15129279.99</td>\n",
       "    </tr>\n",
       "    <tr>\n",
       "      <th>9</th>\n",
       "      <td>4.0</td>\n",
       "      <td>1.610026e+07</td>\n",
       "      <td>1.260818e+06</td>\n",
       "      <td>14720705.07</td>\n",
       "      <td>1.539445e+07</td>\n",
       "      <td>1.598887e+07</td>\n",
       "      <td>1.669467e+07</td>\n",
       "      <td>17702583.46</td>\n",
       "    </tr>\n",
       "  </tbody>\n",
       "</table>\n",
       "</div>"
      ],
      "text/plain": [
       "   count          mean           std          min           25%           50%  \\\n",
       "k                                                                               \n",
       "2    4.0  1.109691e+07  1.040824e+05  10994448.25  1.101406e+07  1.109843e+07   \n",
       "3    4.0  1.110606e+07  2.702283e+04  11074777.65  1.109233e+07  1.110499e+07   \n",
       "4    4.0  1.133113e+07  2.164962e+05  11043998.71  1.123751e+07  1.136541e+07   \n",
       "6    4.0  1.193252e+07  2.393810e+05  11640335.67  1.178727e+07  1.196640e+07   \n",
       "7    4.0  1.246792e+07  2.511315e+05  12188867.35  1.228900e+07  1.250106e+07   \n",
       "5    4.0  1.256149e+07  4.311451e+05  12020345.87  1.235758e+07  1.258998e+07   \n",
       "8    4.0  1.473589e+07  2.963680e+05  14411187.62  1.461257e+07  1.470154e+07   \n",
       "9    4.0  1.610026e+07  1.260818e+06  14720705.07  1.539445e+07  1.598887e+07   \n",
       "\n",
       "            75%          max  \n",
       "k                             \n",
       "2  1.118128e+07  11196302.56  \n",
       "3  1.111873e+07  11139479.73  \n",
       "4  1.145903e+07  11549712.67  \n",
       "6  1.211164e+07  12156945.65  \n",
       "7  1.267998e+07  12680710.18  \n",
       "5  1.279389e+07  13045642.74  \n",
       "8  1.482486e+07  15129279.99  \n",
       "9  1.669467e+07  17702583.46  "
      ]
     },
     "execution_count": 47,
     "metadata": {},
     "output_type": "execute_result"
    }
   ],
   "source": [
    "dic_sum.sort_values('mean')"
   ]
  },
  {
   "cell_type": "code",
   "execution_count": 48,
   "metadata": {},
   "outputs": [],
   "source": [
    "dic_sum.to_csv('dic_sum.csv')"
   ]
  },
  {
   "cell_type": "markdown",
   "metadata": {},
   "source": [
    "### Get gprob and q for each k, and mcmc metrics"
   ]
  },
  {
   "cell_type": "code",
   "execution_count": 49,
   "metadata": {},
   "outputs": [
    {
     "name": "stdout",
     "output_type": "stream",
     "text": [
      "file = entropy_k2_c1.hdf5\n",
      "file = entropy_k2_c2.hdf5\n",
      "file = entropy_k2_c3.hdf5\n",
      "file = entropy_k2_c4.hdf5\n",
      "parameter dimensions for q: ind = 228, populations = 2, samples = 5000, chains = 4\n",
      "file = entropy_k3_c1.hdf5\n",
      "file = entropy_k3_c2.hdf5\n",
      "file = entropy_k3_c3.hdf5\n",
      "file = entropy_k3_c4.hdf5\n",
      "parameter dimensions for q: ind = 228, populations = 3, samples = 5000, chains = 4\n",
      "file = entropy_k4_c1.hdf5\n",
      "file = entropy_k4_c2.hdf5\n",
      "file = entropy_k4_c3.hdf5\n",
      "file = entropy_k4_c4.hdf5\n",
      "parameter dimensions for q: ind = 228, populations = 4, samples = 5000, chains = 4\n",
      "file = entropy_k5_c1.hdf5\n",
      "file = entropy_k5_c2.hdf5\n",
      "file = entropy_k5_c3.hdf5\n",
      "file = entropy_k5_c4.hdf5\n",
      "parameter dimensions for q: ind = 228, populations = 5, samples = 5000, chains = 4\n",
      "file = entropy_k6_c1.hdf5\n",
      "file = entropy_k6_c2.hdf5\n",
      "file = entropy_k6_c3.hdf5\n",
      "file = entropy_k6_c4.hdf5\n",
      "parameter dimensions for q: ind = 228, populations = 6, samples = 5000, chains = 4\n"
     ]
    }
   ],
   "source": [
    "# ancestry coeffecients \n",
    "!$estpost *k2*.hdf5 -p q -s 0 -o q2.txt\n",
    "\n",
    "!$estpost *k3*.hdf5 -p q -s 0 -o q3.txt\n",
    "\n",
    "!$estpost *k4*.hdf5 -p q -s 0 -o q4.txt\n",
    "\n",
    "!$estpost *k5*.hdf5 -p q -s 0 -o q5.txt\n",
    "\n",
    "!$estpost *k6*.hdf5 -p q -s 0 -o q6.txt\n",
    "\n",
    "#!$estpost *k7*.hdf5 -p q -s 0 -o q7.txt\n",
    "\n",
    "#!$estpost *k8*.hdf5 -p q -s 0 -o q8.txt\n",
    "\n",
    "#!$estpost *k9*.hdf5 -p q -s 0 -o q9.txt"
   ]
  },
  {
   "cell_type": "code",
   "execution_count": 50,
   "metadata": {},
   "outputs": [
    {
     "name": "stdout",
     "output_type": "stream",
     "text": [
      "file = entropy_k2_c1.hdf5\n",
      "file = entropy_k2_c2.hdf5\n",
      "file = entropy_k2_c3.hdf5\n",
      "file = entropy_k2_c4.hdf5\n",
      "parameter dimensions for q: ind = 228, populations = 2, samples = 5000, chains = 4\n",
      "file = entropy_k3_c1.hdf5\n",
      "file = entropy_k3_c2.hdf5\n",
      "file = entropy_k3_c3.hdf5\n",
      "file = entropy_k3_c4.hdf5\n",
      "parameter dimensions for q: ind = 228, populations = 3, samples = 5000, chains = 4\n",
      "file = entropy_k4_c1.hdf5\n",
      "file = entropy_k4_c2.hdf5\n",
      "file = entropy_k4_c3.hdf5\n",
      "file = entropy_k4_c4.hdf5\n",
      "parameter dimensions for q: ind = 228, populations = 4, samples = 5000, chains = 4\n",
      "file = entropy_k5_c1.hdf5\n",
      "file = entropy_k5_c2.hdf5\n",
      "file = entropy_k5_c3.hdf5\n",
      "file = entropy_k5_c4.hdf5\n",
      "parameter dimensions for q: ind = 228, populations = 5, samples = 5000, chains = 4\n",
      "file = entropy_k6_c1.hdf5\n",
      "file = entropy_k6_c2.hdf5\n",
      "file = entropy_k6_c3.hdf5\n",
      "file = entropy_k6_c4.hdf5\n",
      "parameter dimensions for q: ind = 228, populations = 6, samples = 5000, chains = 4\n"
     ]
    }
   ],
   "source": [
    "#MCMC diagnostics\n",
    "!$estpost *k2*.hdf5 -p q -s 4 -o MCMC_k2.txt\n",
    "\n",
    "!$estpost *k3*.hdf5 -p q -s 4 -o MCMC_k3.txt\n",
    "\n",
    "!$estpost *k4*.hdf5 -p q -s 4 -o MCMC_k4.txt\n",
    "\n",
    "!$estpost *k5*.hdf5 -p q -s 4 -o MCMC_k5.txt\n",
    "\n",
    "!$estpost *k6*.hdf5 -p q -s 4 -o MCMC_k6.txt\n",
    "\n",
    "#!$estpost *k7*.hdf5 -p q -s 4 -o MCMC_k7.txt\n",
    "\n",
    "#!$estpost *k8*.hdf5 -p q -s 4 -o MCMC_k8.txt\n",
    "\n",
    "#!$estpost *k9*.hdf5 -p q -s 4 -o MCMC_k9.txt"
   ]
  },
  {
   "cell_type": "markdown",
   "metadata": {},
   "source": [
    "### make slurm script to make gprob file\n",
    "\n",
    "    use all k and chains to make gprob"
   ]
  },
  {
   "cell_type": "code",
   "execution_count": 51,
   "metadata": {},
   "outputs": [
    {
     "name": "stdout",
     "output_type": "stream",
     "text": [
      "/data/gpfs/assoc/denovo/tfaske/rabbit/full/REDO/entropy_sub2\n"
     ]
    }
   ],
   "source": [
    "cd $ent_dir"
   ]
  },
  {
   "cell_type": "code",
   "execution_count": 52,
   "metadata": {},
   "outputs": [],
   "source": [
    "### select slurm options\n",
    "account = 'cpu-s5-denovo-0'\n",
    "partition = 'cpu-core-0'\n",
    "time = '1-00:00:00' #time limit 4\n",
    "cpus = 2 #to prevent hammering one node\n",
    "mem_cpu = 6000\n",
    "email = 'tfaske@nevada.unr.edu'\n",
    "\n",
    "### select k \n",
    "num_k = [2,3,4,5,6]"
   ]
  },
  {
   "cell_type": "code",
   "execution_count": 53,
   "metadata": {},
   "outputs": [],
   "source": [
    "def write_gprob_k_sh(account,partition,time,cpus,mem_cpu,email,estpost,num_k):\n",
    "    for k in num_k:\n",
    "        with open(\"shdir/run_gprob_k%d.sh\" % (k), \"w\") as o:\n",
    "            o.write(\"\"\"#!/usr/bin/env bash\n",
    "#SBATCH --account=%s\n",
    "#SBATCH --partition=%s\n",
    "#SBATCH --time=%s\n",
    "#SBATCH --ntasks 1\n",
    "#SBATCH --cpus-per-task %d\n",
    "#SBATCH --mem-per-cpu=%d\n",
    "#SBATCH --job-name gprob_k%d\n",
    "#SBATCH --output output_gprob_k%d.txt\n",
    "#SBATCH --mail-type=END\n",
    "#SBATCH --mail-user=%s\\n\\n\"\"\" % (account,partition,time,cpus,mem_cpu,k,k,email))\n",
    "        \n",
    "            o.write(\"%s ../*k%d*.hdf5 -p gprob -s 0 -o ../gprob%d.txt\" % (estpost,k,k))"
   ]
  },
  {
   "cell_type": "code",
   "execution_count": 54,
   "metadata": {},
   "outputs": [],
   "source": [
    "write_gprob_k_sh(account,partition,time,cpus,mem_cpu,email,estpost,num_k)"
   ]
  },
  {
   "cell_type": "code",
   "execution_count": 55,
   "metadata": {},
   "outputs": [
    {
     "data": {
      "text/plain": [
       "['/data/gpfs/assoc/denovo/tfaske/rabbit/full/REDO/entropy_sub2/shdir/run_gprob_k2.sh',\n",
       " '/data/gpfs/assoc/denovo/tfaske/rabbit/full/REDO/entropy_sub2/shdir/run_gprob_k3.sh',\n",
       " '/data/gpfs/assoc/denovo/tfaske/rabbit/full/REDO/entropy_sub2/shdir/run_gprob_k4.sh',\n",
       " '/data/gpfs/assoc/denovo/tfaske/rabbit/full/REDO/entropy_sub2/shdir/run_gprob_k5.sh',\n",
       " '/data/gpfs/assoc/denovo/tfaske/rabbit/full/REDO/entropy_sub2/shdir/run_gprob_k6.sh']"
      ]
     },
     "execution_count": 55,
     "metadata": {},
     "output_type": "execute_result"
    }
   ],
   "source": [
    "gprobShells = !find $ent_dir -name 'run_gprob*.sh'\n",
    "gprobShells = gprobShells.sort()\n",
    "gprobShells"
   ]
  },
  {
   "cell_type": "code",
   "execution_count": 56,
   "metadata": {},
   "outputs": [],
   "source": [
    "def write_sbatch_gprobShells(gprobShells):\n",
    "    with open(\"shdir/sbatch_gprob.sh\", \"w\") as o:\n",
    "        o.write(\"\"\"#!/usr/bin/env bash \\n\"\"\")\n",
    "        for sh in gprobShells:\n",
    "            o.write(\"\"\"sbatch %s\\n\"\"\" % (sh))"
   ]
  },
  {
   "cell_type": "code",
   "execution_count": 57,
   "metadata": {},
   "outputs": [],
   "source": [
    "write_sbatch_gprobShells(gprobShells)"
   ]
  },
  {
   "cell_type": "markdown",
   "metadata": {},
   "source": [
    "### gprob all \n",
    "\n",
    "select only the ks you want. Will not work on ~7 ks with all the chains. It dies. \n",
    "\n",
    "Run 2,3,4,5,6 together"
   ]
  },
  {
   "cell_type": "code",
   "execution_count": 58,
   "metadata": {},
   "outputs": [
    {
     "data": {
      "text/plain": [
       "['../entropy_k2_c1.hdf5',\n",
       " '../entropy_k2_c2.hdf5',\n",
       " '../entropy_k2_c3.hdf5',\n",
       " '../entropy_k2_c4.hdf5',\n",
       " '../entropy_k3_c1.hdf5',\n",
       " '../entropy_k3_c2.hdf5',\n",
       " '../entropy_k3_c3.hdf5',\n",
       " '../entropy_k3_c4.hdf5',\n",
       " '../entropy_k4_c1.hdf5',\n",
       " '../entropy_k4_c2.hdf5',\n",
       " '../entropy_k4_c3.hdf5',\n",
       " '../entropy_k4_c4.hdf5',\n",
       " '../entropy_k5_c1.hdf5',\n",
       " '../entropy_k5_c2.hdf5',\n",
       " '../entropy_k5_c3.hdf5',\n",
       " '../entropy_k5_c4.hdf5',\n",
       " '../entropy_k6_c1.hdf5',\n",
       " '../entropy_k6_c2.hdf5',\n",
       " '../entropy_k6_c3.hdf5',\n",
       " '../entropy_k6_c4.hdf5']"
      ]
     },
     "execution_count": 58,
     "metadata": {},
     "output_type": "execute_result"
    }
   ],
   "source": [
    "hdf5_files = []\n",
    "num_k = [2,3,4,5,6]\n",
    "num_c = 4\n",
    "for k in num_k:\n",
    "    for c in range(1,num_c+1):\n",
    "        f = '../entropy_k' + str(k) + '_c' + str(c) + '.hdf5'\n",
    "        hdf5_files.append(f)\n",
    "hdf5_files"
   ]
  },
  {
   "cell_type": "code",
   "execution_count": 59,
   "metadata": {},
   "outputs": [
    {
     "data": {
      "text/plain": [
       "'/data/gpfs/home/tfaske/g/anaconda3/envs/entropy/bin/estpost.entropy ../entropy_k2_c1.hdf5 ../entropy_k2_c2.hdf5 ../entropy_k2_c3.hdf5 ../entropy_k2_c4.hdf5 ../entropy_k3_c1.hdf5 ../entropy_k3_c2.hdf5 ../entropy_k3_c3.hdf5 ../entropy_k3_c4.hdf5 ../entropy_k4_c1.hdf5 ../entropy_k4_c2.hdf5 ../entropy_k4_c3.hdf5 ../entropy_k4_c4.hdf5 ../entropy_k5_c1.hdf5 ../entropy_k5_c2.hdf5 ../entropy_k5_c3.hdf5 ../entropy_k5_c4.hdf5 ../entropy_k6_c1.hdf5 ../entropy_k6_c2.hdf5 ../entropy_k6_c3.hdf5 ../entropy_k6_c4.hdf5 -p gprob -s 0 -o ../gprobAll.txt'"
      ]
     },
     "execution_count": 59,
     "metadata": {},
     "output_type": "execute_result"
    }
   ],
   "source": [
    "gprob_cmd = estpost + ' ' + ' '.join(hdf5_files) + ' -p gprob -s 0 -o ../gprobAll.txt'\n",
    "gprob_cmd"
   ]
  },
  {
   "cell_type": "code",
   "execution_count": 60,
   "metadata": {},
   "outputs": [],
   "source": [
    "### select slurm options\n",
    "account = 'cpu-s5-denovo-0'\n",
    "partition = 'cpu-core-0'\n",
    "time = '1-00:00:00' #time limit 4\n",
    "cpus = 1 #to prevent hammering one node\n",
    "mem_cpu = 100000\n",
    "email = 'tfaske@nevada.unr.edu'"
   ]
  },
  {
   "cell_type": "code",
   "execution_count": 61,
   "metadata": {},
   "outputs": [],
   "source": [
    "def write_gprob_all_sh(account,partition,time,cpus,mem_cpu,email,estpost,gprob_cmd):\n",
    "        with open(\"shdir/run_gprobAll.sh\", \"w\") as o:\n",
    "            o.write(\"\"\"#!/usr/bin/env bash\n",
    "#SBATCH --account=%s\n",
    "#SBATCH --partition=%s\n",
    "#SBATCH --time=%s\n",
    "#SBATCH --ntasks 1\n",
    "#SBATCH --cpus-per-task %d\n",
    "#SBATCH --mem-per-cpu=%d\n",
    "#SBATCH --job-name gprobAll\n",
    "#SBATCH --output output_gprobAll.txt\n",
    "#SBATCH --mail-type=END\n",
    "#SBATCH --mail-user=%s\n",
    "\n",
    "%s\"\"\" % (account,partition,time,cpus,mem_cpu,email,gprob_cmd))"
   ]
  },
  {
   "cell_type": "code",
   "execution_count": 62,
   "metadata": {},
   "outputs": [],
   "source": [
    "write_gprob_all_sh(account,partition,time,cpus,mem_cpu,email,estpost,gprob_cmd)"
   ]
  },
  {
   "cell_type": "markdown",
   "metadata": {},
   "source": [
    "## Run gprob sh \n",
    "\n",
    "    cd /data/gpfs/assoc/denovo/PHHA/entropy\n",
    "    source activate entropy\n",
    "    sbatch run_gprob.sh"
   ]
  }
 ],
 "metadata": {
  "kernelspec": {
   "display_name": "Python 3 (ipykernel)",
   "language": "python",
   "name": "python3"
  },
  "language_info": {
   "codemirror_mode": {
    "name": "ipython",
    "version": 3
   },
   "file_extension": ".py",
   "mimetype": "text/x-python",
   "name": "python",
   "nbconvert_exporter": "python",
   "pygments_lexer": "ipython3",
   "version": "3.11.0"
  }
 },
 "nbformat": 4,
 "nbformat_minor": 2
}
