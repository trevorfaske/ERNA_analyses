{
 "cells": [
  {
   "cell_type": "markdown",
   "metadata": {},
   "source": [
    "# Mapping using bwa-mem\n",
    "\n",
    "Was considering using bwa-mem2 (https://github.com/bwa-mem2/bwa-mem2). It's much faster but needs much more memory. We don't have a speed problem so not needed\n",
    "\n",
    "use preferred conda env  \n",
    "**Packages needed**: bwa-mem, samtools"
   ]
  },
  {
   "cell_type": "code",
   "execution_count": 31,
   "metadata": {
    "ExecuteTime": {}
   },
   "outputs": [],
   "source": [
    "import sys\n",
    "import ipyparallel as ipp\n",
    "import os\n",
    "from os import environ\n",
    "import gzip\n",
    "import warnings\n",
    "import pandas as pd\n",
    "import numpy as np\n",
    "import scipy as sp\n",
    "import glob\n",
    "import re\n",
    "import random"
   ]
  },
  {
   "cell_type": "code",
   "execution_count": 32,
   "metadata": {
    "ExecuteTime": {}
   },
   "outputs": [],
   "source": [
    "root = \"/data/gpfs/assoc/denovo/tfaske/rabbit/full/REDO\""
   ]
  },
  {
   "cell_type": "code",
   "execution_count": 33,
   "metadata": {
    "ExecuteTime": {}
   },
   "outputs": [
    {
     "name": "stdout",
     "output_type": "stream",
     "text": [
      "/data/gpfs/assoc/denovo/tfaske/rabbit/full/REDO\n"
     ]
    }
   ],
   "source": [
    "cd $root"
   ]
  },
  {
   "cell_type": "code",
   "execution_count": 34,
   "metadata": {},
   "outputs": [],
   "source": [
    "fq_dir = '/data/gpfs/assoc/denovo/tfaske/rabbit/full/demult/fastq'"
   ]
  },
  {
   "cell_type": "code",
   "execution_count": 35,
   "metadata": {
    "ExecuteTime": {}
   },
   "outputs": [
    {
     "data": {
      "text/plain": [
       "'/data/gpfs/assoc/denovo/tfaske/rabbit/full/REDO'"
      ]
     },
     "execution_count": 35,
     "metadata": {},
     "output_type": "execute_result"
    }
   ],
   "source": [
    "pwd"
   ]
  },
  {
   "cell_type": "markdown",
   "metadata": {},
   "source": [
    "## Assembly\n",
    "\n",
    "with dDocent c=.92, k1=8, k2=5"
   ]
  },
  {
   "cell_type": "code",
   "execution_count": 36,
   "metadata": {
    "ExecuteTime": {}
   },
   "outputs": [],
   "source": [
    "assembly = os.path.join(root,\"assembly/reference.fasta\")"
   ]
  },
  {
   "cell_type": "code",
   "execution_count": 37,
   "metadata": {},
   "outputs": [],
   "source": [
    "!samtools faidx $assembly"
   ]
  },
  {
   "cell_type": "markdown",
   "metadata": {},
   "source": [
    "## Actual Mapping \n",
    " "
   ]
  },
  {
   "cell_type": "code",
   "execution_count": 38,
   "metadata": {
    "ExecuteTime": {}
   },
   "outputs": [],
   "source": [
    "fastq_files = []\n",
    "files = !find $fq_dir -name '*fq.gz'\n",
    "files = [os.path.abspath(x) for x in files]\n",
    "for x in files:\n",
    "    fastq_files.append(x)\n",
    "fastq_files = sorted(fastq_files)"
   ]
  },
  {
   "cell_type": "code",
   "execution_count": 39,
   "metadata": {
    "ExecuteTime": {}
   },
   "outputs": [
    {
     "data": {
      "text/plain": [
       "(608,\n",
       " '/data/gpfs/assoc/denovo/tfaske/rabbit/full/demult/fastq/EN_AH_1.F.fq.gz')"
      ]
     },
     "execution_count": 39,
     "metadata": {},
     "output_type": "execute_result"
    }
   ],
   "source": [
    "len(fastq_files),fastq_files[0]"
   ]
  },
  {
   "cell_type": "code",
   "execution_count": 40,
   "metadata": {},
   "outputs": [
    {
     "name": "stdout",
     "output_type": "stream",
     "text": [
      "/data/gpfs/assoc/denovo/tfaske/rabbit/full/REDO\n"
     ]
    }
   ],
   "source": [
    "cd $root"
   ]
  },
  {
   "cell_type": "code",
   "execution_count": 41,
   "metadata": {
    "ExecuteTime": {}
   },
   "outputs": [],
   "source": [
    "# -k INT minimum seed length [19]\n",
    "# -w INT band width for banded alignment [100]\n",
    "# -r FLOAT look for internal seeds inside a seed longer than {-k} * FLOAT [1.5]\n",
    "# -T INT minimum score to output [30]\n",
    "# -R STR read group header line such as '@RG\\tID:foo\\tSM:bar' [null]\n",
    "\n",
    "#@lview.remote()\n",
    "def run_bwamem(args):\n",
    "    import os, multiprocessing, socket\n",
    "    cpus = 1\n",
    "    assembly, fq, outdir = args\n",
    "    ID = fq.split('/')[10] ### need to change this to match your ID \n",
    "    ID = ID.split('.F.')[0] ### This too \n",
    "    sam = os.path.join(outdir, \"{}.sam\".format(os.path.basename(ID)))\n",
    "    bam = sam.replace('.sam','.bam')\n",
    "    bam_sorted = \"%s_sorted.bam\" % bam.replace(\".bam\", \"\")\n",
    "    bwa_cmd = r\"bwa mem -k 20 -w 100 -r 1.3 -T 30 -R '@RG\\tID:%s\\tLB:%s\\tSM:%s\\tPL:ILLUMINA' %s %s > %s\" % (ID,ID,ID,assembly,fq,sam)\n",
    "    s2b_cmd =  \"samtools view -b %s -o %s\\n\\nsamtools sort -@ %s %s -o %s\\n\\nsamtools index %s\\n\\n\" % (sam,bam,cpus,bam,bam_sorted,bam_sorted)                                                              \n",
    "    return  bwa_cmd,s2b_cmd "
   ]
  },
  {
   "cell_type": "code",
   "execution_count": 42,
   "metadata": {},
   "outputs": [
    {
     "name": "stdout",
     "output_type": "stream",
     "text": [
      "mkdir: cannot create directory ‘SNPcall’: File exists\r\n"
     ]
    }
   ],
   "source": [
    "!mkdir SNPcall"
   ]
  },
  {
   "cell_type": "code",
   "execution_count": 43,
   "metadata": {},
   "outputs": [
    {
     "name": "stdout",
     "output_type": "stream",
     "text": [
      "mkdir: cannot create directory ‘SNPcall/bwa’: File exists\r\n"
     ]
    }
   ],
   "source": [
    "!mkdir SNPcall/bwa"
   ]
  },
  {
   "cell_type": "code",
   "execution_count": 44,
   "metadata": {},
   "outputs": [
    {
     "name": "stdout",
     "output_type": "stream",
     "text": [
      "mkdir: cannot create directory ‘SNPcall/bwa/shdir’: File exists\r\n"
     ]
    }
   ],
   "source": [
    "!mkdir SNPcall/bwa/shdir"
   ]
  },
  {
   "cell_type": "code",
   "execution_count": 45,
   "metadata": {},
   "outputs": [],
   "source": [
    "bwa_dir = os.path.join(root,\"SNPcall/bwa/\")\n",
    "assert(bwa_dir)"
   ]
  },
  {
   "cell_type": "code",
   "execution_count": 46,
   "metadata": {},
   "outputs": [],
   "source": [
    "### creates a list of commands for bwa-mem for each fastq file\n",
    "res_bwa = []\n",
    "res_s2b = []\n",
    "for f in fastq_files:\n",
    "    r1,r2 = run_bwamem((assembly, f, bwa_dir))\n",
    "    res_bwa.append(r1)\n",
    "    res_s2b.append(r2)"
   ]
  },
  {
   "cell_type": "code",
   "execution_count": 47,
   "metadata": {},
   "outputs": [
    {
     "data": {
      "text/plain": [
       "(608,\n",
       " \"bwa mem -k 20 -w 100 -r 1.3 -T 30 -R '@RG\\\\tID:EN_AH_1\\\\tLB:EN_AH_1\\\\tSM:EN_AH_1\\\\tPL:ILLUMINA' /data/gpfs/assoc/denovo/tfaske/rabbit/full/REDO/assembly/reference.fasta /data/gpfs/assoc/denovo/tfaske/rabbit/full/demult/fastq/EN_AH_1.F.fq.gz > /data/gpfs/assoc/denovo/tfaske/rabbit/full/REDO/SNPcall/bwa/EN_AH_1.sam\")"
      ]
     },
     "execution_count": 47,
     "metadata": {},
     "output_type": "execute_result"
    }
   ],
   "source": [
    "len(res_bwa),res_bwa[0]"
   ]
  },
  {
   "cell_type": "code",
   "execution_count": 48,
   "metadata": {},
   "outputs": [
    {
     "data": {
      "text/plain": [
       "(608,\n",
       " 'samtools view -b /data/gpfs/assoc/denovo/tfaske/rabbit/full/REDO/SNPcall/bwa/EN_AH_1.sam -o /data/gpfs/assoc/denovo/tfaske/rabbit/full/REDO/SNPcall/bwa/EN_AH_1.bam\\n\\nsamtools sort -@ 1 /data/gpfs/assoc/denovo/tfaske/rabbit/full/REDO/SNPcall/bwa/EN_AH_1.bam -o /data/gpfs/assoc/denovo/tfaske/rabbit/full/REDO/SNPcall/bwa/EN_AH_1_sorted.bam\\n\\nsamtools index /data/gpfs/assoc/denovo/tfaske/rabbit/full/REDO/SNPcall/bwa/EN_AH_1_sorted.bam\\n\\n')"
      ]
     },
     "execution_count": 48,
     "metadata": {},
     "output_type": "execute_result"
    }
   ],
   "source": [
    "len(res_s2b),res_s2b[0]"
   ]
  },
  {
   "cell_type": "code",
   "execution_count": 49,
   "metadata": {},
   "outputs": [
    {
     "name": "stdout",
     "output_type": "stream",
     "text": [
      "/data/gpfs/assoc/denovo/tfaske/rabbit/full/REDO/SNPcall/bwa\n"
     ]
    }
   ],
   "source": [
    "cd $bwa_dir"
   ]
  },
  {
   "cell_type": "markdown",
   "metadata": {},
   "source": [
    "#### Below selects options for slurm submission and is a function for creating a slurm script per fastq"
   ]
  },
  {
   "cell_type": "code",
   "execution_count": 50,
   "metadata": {},
   "outputs": [],
   "source": [
    "fq_ID = [fq.split('/')[10].split('.F.')[0] for fq in fastq_files]"
   ]
  },
  {
   "cell_type": "code",
   "execution_count": 51,
   "metadata": {},
   "outputs": [
    {
     "data": {
      "text/plain": [
       "(608, 'EN_AH_1')"
      ]
     },
     "execution_count": 51,
     "metadata": {},
     "output_type": "execute_result"
    }
   ],
   "source": [
    "len(fq_ID), fq_ID[0]"
   ]
  },
  {
   "cell_type": "code",
   "execution_count": 52,
   "metadata": {},
   "outputs": [],
   "source": [
    "### select options for slurm submission\n",
    "account = 'cpu-s5-denovo-0'\n",
    "partition = 'cpu-core-0'\n",
    "jobname = 'bwa_ERNA'\n",
    "time = '1-00:00:00' #time limit 1 day\n",
    "cpus = 1\n",
    "mem_cpu = 10000\n",
    "email = 'tfaske@nevada.unr.edu'"
   ]
  },
  {
   "cell_type": "code",
   "execution_count": 53,
   "metadata": {},
   "outputs": [],
   "source": [
    "def write_bwamem_ind_sh(account,partition,time,jobname,cpus,mem_cpu,email,fq_ID,bwa_cmds,s2b_cmds):\n",
    "    #print(account)\n",
    "    #print(partition)\n",
    "    #print(cpus)\n",
    "    #print(email)\n",
    "    #print(cmds[0])\n",
    "    for i in range(0,len(bwa_cmds)):\n",
    "        with open(\"shdir/run_bwamem_%s.sh\" % (fq_ID[i]), \"w\") as o:\n",
    "            o.write(\"\"\"#!/usr/bin/env bash\n",
    "#SBATCH --account=%s\n",
    "#SBATCH --partition=%s\n",
    "#SBATCH --time=%s\n",
    "#SBATCH --ntasks 1\n",
    "#SBATCH --cpus-per-task %d\n",
    "#SBATCH --mem-per-cpu=%d\n",
    "#SBATCH --job-name %s_bwamem\n",
    "#SBATCH --output bwa/shdir/output_bwamem_%s.txt\n",
    "#SBATCH --mail-type=FAIL\n",
    "#SBATCH --mail-user=%s \\n\\n\n",
    "    \n",
    "%s \\n\\n\n",
    "%s \\n\"\"\" % (account,partition,time,int(cpus),int(mem_cpu),fq_ID[i],fq_ID[i],email,bwa_cmds[i],s2b_cmds[i]))"
   ]
  },
  {
   "cell_type": "code",
   "execution_count": 54,
   "metadata": {},
   "outputs": [],
   "source": [
    "write_bwamem_ind_sh(account,partition,time,jobname,cpus,mem_cpu,email,fq_ID,res_bwa,res_s2b)"
   ]
  },
  {
   "cell_type": "markdown",
   "metadata": {},
   "source": [
    "#### finds all bwa slurm scripts and writes bash script to sbatch them"
   ]
  },
  {
   "cell_type": "code",
   "execution_count": 55,
   "metadata": {},
   "outputs": [],
   "source": [
    "shbwa_files = []\n",
    "files = !find ./shdir -name '*.sh'\n",
    "files = [os.path.abspath(x) for x in files]\n",
    "for x in files:\n",
    "        shbwa_files.append(x)\n",
    "shbwa_files = sorted(shbwa_files)"
   ]
  },
  {
   "cell_type": "code",
   "execution_count": 56,
   "metadata": {},
   "outputs": [
    {
     "data": {
      "text/plain": [
       "(608,\n",
       " '/data/gpfs/assoc/denovo/tfaske/rabbit/full/REDO/SNPcall/bwa/shdir/run_bwamem_EN_AH_1.sh')"
      ]
     },
     "execution_count": 56,
     "metadata": {},
     "output_type": "execute_result"
    }
   ],
   "source": [
    "len(shbwa_files),shbwa_files[0]"
   ]
  },
  {
   "cell_type": "code",
   "execution_count": 57,
   "metadata": {},
   "outputs": [],
   "source": [
    "def write_bash_bwamem_sh(sh_files):\n",
    "    with open(\"SNPcall/run_bash_bwa.sh\", \"w\") as o:\n",
    "        o.write(\"\"\"#!/usr/bin/env bash \\n\\n\"\"\")\n",
    "        for f in sh_files:\n",
    "            o.write(\"sbatch %s \\n\" % (f))    "
   ]
  },
  {
   "cell_type": "code",
   "execution_count": 58,
   "metadata": {},
   "outputs": [
    {
     "name": "stdout",
     "output_type": "stream",
     "text": [
      "/data/gpfs/assoc/denovo/tfaske/rabbit/full/REDO\n"
     ]
    }
   ],
   "source": [
    "cd $root"
   ]
  },
  {
   "cell_type": "code",
   "execution_count": 59,
   "metadata": {},
   "outputs": [],
   "source": [
    "write_bash_bwamem_sh(shbwa_files)"
   ]
  },
  {
   "cell_type": "markdown",
   "metadata": {},
   "source": [
    "# Run run_bash_bwamem_sh locally\n",
    "    cd /data/gpfs/assoc/denovo/PHHA/SNPcall \n",
    "    source activate py36\n",
    "    bash run_bash_bwa.sh\n",
    "    \n",
    "## Remove sam files and unsorted bams\n",
    "\n",
    "       whatever, run in terminal. Move sorted bams, rm bam, mv back"
   ]
  },
  {
   "cell_type": "markdown",
   "metadata": {},
   "source": [
    "# Calculates coverage from bam_files (slowwwww)\n",
    "\n",
    "also outputs a file called \"bam_coverage.csv\" in the bam folder"
   ]
  },
  {
   "cell_type": "code",
   "execution_count": 60,
   "metadata": {},
   "outputs": [],
   "source": [
    "samtools = \"samtools\""
   ]
  },
  {
   "cell_type": "code",
   "execution_count": 61,
   "metadata": {},
   "outputs": [
    {
     "name": "stdout",
     "output_type": "stream",
     "text": [
      "/data/gpfs/assoc/denovo/tfaske/rabbit/full/REDO/SNPcall/bwa\n"
     ]
    }
   ],
   "source": [
    "cd $bwa_dir"
   ]
  },
  {
   "cell_type": "code",
   "execution_count": 62,
   "metadata": {},
   "outputs": [
    {
     "data": {
      "text/plain": [
       "(608, 608)"
      ]
     },
     "execution_count": 62,
     "metadata": {},
     "output_type": "execute_result"
    }
   ],
   "source": [
    "bam_files = []\n",
    "files = !find . -type f -name '*sorted.bam'\n",
    "files = [os.path.abspath(x) for x in files if 'bam' in x]\n",
    "for x in files:\n",
    "    bam_files.append(x)\n",
    "bam_files = sorted(bam_files)\n",
    "\n",
    "len(bam_files), len(fastq_files)"
   ]
  },
  {
   "cell_type": "code",
   "execution_count": 63,
   "metadata": {},
   "outputs": [
    {
     "data": {
      "text/plain": [
       "(608,\n",
       " '/data/gpfs/assoc/denovo/tfaske/rabbit/full/REDO/SNPcall/bwa/EN_AH_10_sorted.bam')"
      ]
     },
     "execution_count": 63,
     "metadata": {},
     "output_type": "execute_result"
    }
   ],
   "source": [
    "len(bam_files), bam_files[0]"
   ]
  },
  {
   "cell_type": "code",
   "execution_count": 65,
   "metadata": {},
   "outputs": [
    {
     "name": "stdout",
     "output_type": "stream",
     "text": [
      "33.4799924581908 EN_AH_10_sorted.bam 0\n",
      "31.248327703434796 EN_AH_11_sorted.bam 1\n",
      "36.36597352866205 EN_AH_12_sorted.bam 2\n",
      "34.191136760141525 EN_AH_13_sorted.bam 3\n",
      "22.804208145103292 EN_AH_14_sorted.bam 4\n",
      "28.562291769019577 EN_AH_15_sorted.bam 5\n",
      "26.799940367505656 EN_AH_1_sorted.bam 6\n",
      "27.76155006674202 EN_AH_2_sorted.bam 7\n",
      "24.255642599921444 EN_AH_3_sorted.bam 8\n",
      "26.395131855271522 EN_AH_4_sorted.bam 9\n",
      "22.57259840011183 EN_AH_5_sorted.bam 10\n",
      "38.23904014004204 EN_AH_6_sorted.bam 11\n",
      "35.936595234391106 EN_AH_7_sorted.bam 12\n",
      "33.12567852690226 EN_AH_8_sorted.bam 13\n",
      "41.662919243376066 EN_AH_9_sorted.bam 14\n",
      "42.39765857100225 EN_AR_2_sorted.bam 15\n",
      "48.21704278396774 EN_AR_3_sorted.bam 16\n",
      "31.460433825019116 EN_AR_4_sorted.bam 17\n",
      "39.031409975459354 EN_AR_5_sorted.bam 18\n",
      "38.32397484072061 EN_AR_6_sorted.bam 19\n",
      "32.42031419086576 EN_AS_16_sorted.bam 20\n",
      "30.81671032169083 EN_AS_17_sorted.bam 21\n",
      "19.201975388934283 EN_AS_18_sorted.bam 22\n",
      "35.831036381442146 EN_AS_19_sorted.bam 23\n",
      "34.24495134220264 EN_AS_20_sorted.bam 24\n",
      "30.383875210328373 EN_AS_21_sorted.bam 25\n",
      "23.84196378322134 EN_AS_22_sorted.bam 26\n",
      "29.881652937479316 EN_AS_23_sorted.bam 27\n",
      "30.858314492157778 EN_AS_24_sorted.bam 28\n",
      "42.31670541282511 EN_AS_25_sorted.bam 29\n",
      "34.62240773251227 EN_AS_26_sorted.bam 30\n",
      "37.6368525193913 EN_AS_27_sorted.bam 31\n",
      "31.86927806768762 EN_AS_28_sorted.bam 32\n",
      "30.258934302144812 EN_AS_29_sorted.bam 33\n",
      "28.85842438519972 EN_AS_30_sorted.bam 34\n",
      "36.53644779614397 EN_BC_10_sorted.bam 35\n",
      "35.86599566229499 EN_BC_11_sorted.bam 36\n",
      "36.14820225398247 EN_BC_12_sorted.bam 37\n",
      "35.22817121674622 EN_BC_13_sorted.bam 38\n",
      "25.397773447196805 EN_BC_1_sorted.bam 39\n",
      "36.96802307795847 EN_BC_2_sorted.bam 40\n",
      "33.30714852529309 EN_BC_3_sorted.bam 41\n",
      "35.01132242433538 EN_BC_4_sorted.bam 42\n",
      "31.750859530491372 EN_BC_5_sorted.bam 43\n",
      "30.337960713623715 EN_BC_6_sorted.bam 44\n",
      "32.991904266319715 EN_BC_7_sorted.bam 45\n",
      "21.904278618516383 EN_BC_8_sorted.bam 46\n",
      "36.19192869731189 EN_BC_9_sorted.bam 47\n",
      "35.305052958477305 EN_BH_1_sorted.bam 48\n",
      "33.81523330059503 EN_BH_2_sorted.bam 49\n",
      "33.917163419453246 EN_BH_3_sorted.bam 50\n",
      "34.50867974596197 EN_BH_4_sorted.bam 51\n",
      "34.06757859264246 EN_BH_5_sorted.bam 52\n",
      "30.815110577531375 EN_BH_6_sorted.bam 53\n",
      "31.1797378346138 EN_BL_1_sorted.bam 54\n",
      "36.633618227505416 EN_BL_2_sorted.bam 55\n",
      "32.35051401347462 EN_BL_3_sorted.bam 56\n",
      "32.07963504708164 EN_BL_4_sorted.bam 57\n",
      "35.885352016842845 EN_BL_5_sorted.bam 58\n",
      "32.65706423401832 EN_BL_6_sorted.bam 59\n",
      "25.662600706681904 EN_BM_16_sorted.bam 60\n",
      "1.7169337145433403 EN_BM_17_sorted.bam 61\n",
      "37.40308242305574 EN_BM_18_sorted.bam 62\n",
      "33.66195176339462 EN_BM_19_sorted.bam 63\n",
      "30.63941614603782 EN_BM_20_sorted.bam 64\n",
      "30.990560282972083 EN_BM_21_sorted.bam 65\n",
      "28.022080748708333 EN_BM_22_sorted.bam 66\n",
      "23.677846202604485 EN_BM_23_sorted.bam 67\n",
      "24.275279014598503 EN_BM_24_sorted.bam 68\n",
      "33.35637093228468 EN_BM_25_sorted.bam 69\n",
      "36.16228511436009 EN_BM_26_sorted.bam 70\n",
      "21.031468737592224 EN_BM_27_sorted.bam 71\n",
      "34.68809732106316 EN_BM_28_sorted.bam 72\n",
      "32.64516024031053 EN_BM_29_sorted.bam 73\n",
      "27.974612823958115 EN_BM_30_sorted.bam 74\n",
      "25.450481228318818 EN_BO_1_sorted.bam 75\n",
      "28.74691252658341 EN_BO_2_sorted.bam 76\n",
      "32.72994506053834 EN_BO_3_sorted.bam 77\n",
      "25.690919635486917 EN_BO_4_sorted.bam 78\n",
      "36.204333973425264 EN_BO_5_sorted.bam 79\n",
      "31.475631168283968 EN_BO_6_sorted.bam 80\n",
      "31.847482486690865 EN_BT_1_sorted.bam 81\n",
      "44.179133333968394 EN_BT_2_sorted.bam 82\n",
      "9.655933079037059 EN_BT_3_sorted.bam 83\n",
      "30.370249754981213 EN_BT_4_sorted.bam 84\n",
      "30.867800288875205 EN_BT_5_sorted.bam 85\n",
      "30.69894720013069 EN_BT_6_sorted.bam 86\n",
      "32.20329410847702 EN_BV_16_sorted.bam 87\n",
      "35.14072444676457 EN_BV_17_sorted.bam 88\n",
      "35.853423323524765 EN_BV_18_sorted.bam 89\n",
      "34.93039405678723 EN_BV_19_sorted.bam 90\n",
      "38.34651448105059 EN_BV_20_sorted.bam 91\n",
      "36.6126690776713 EN_BV_21_sorted.bam 92\n",
      "32.61703020126063 EN_BV_22_sorted.bam 93\n",
      "37.665928841848405 EN_BV_23_sorted.bam 94\n",
      "35.25043458915363 EN_BV_24_sorted.bam 95\n",
      "34.847826433850024 EN_BV_25_sorted.bam 96\n",
      "30.880565236183834 EN_BV_26_sorted.bam 97\n",
      "39.17361634848664 EN_BV_27_sorted.bam 98\n",
      "30.546727377532513 EN_BV_28_sorted.bam 99\n",
      "23.398529601023842 EN_BV_29_sorted.bam 100\n",
      "30.941534276560695 EN_BV_30_sorted.bam 101\n",
      "28.713162416052302 EN_CC_1_sorted.bam 102\n",
      "36.40569647540503 EN_CC_2_sorted.bam 103\n",
      "31.918563781410842 EN_CC_4_sorted.bam 104\n",
      "28.549414547820653 EN_CH_1_sorted.bam 105\n",
      "29.271957325877263 EN_CH_2_sorted.bam 106\n",
      "30.413450480772696 EN_CH_3_sorted.bam 107\n",
      "28.156907081426652 EN_CH_4_sorted.bam 108\n",
      "31.32903021973921 EN_CH_5_sorted.bam 109\n",
      "26.553952118264394 EN_CH_6_sorted.bam 110\n",
      "26.70893090619417 EN_CH_7_sorted.bam 111\n",
      "35.46766385321275 EN_CI_1_sorted.bam 112\n",
      "29.530827638787034 EN_CI_2_sorted.bam 113\n",
      "33.89039059174391 EN_CI_3_sorted.bam 114\n",
      "33.34974175586289 EN_CI_4_sorted.bam 115\n",
      "33.72977717470791 EN_CI_5_sorted.bam 116\n",
      "29.52952483961978 EN_CL_1_sorted.bam 117\n",
      "30.958174685981145 EN_CL_2_sorted.bam 118\n",
      "32.477450195975166 EN_CL_3_sorted.bam 119\n",
      "26.13125384829539 EN_CL_4_sorted.bam 120\n",
      "28.124474168172576 EN_CL_5_sorted.bam 121\n",
      "33.40670877860437 EN_CL_6_sorted.bam 122\n",
      "26.303986750011262 EN_CN_1_sorted.bam 123\n",
      "24.402539993208617 EN_CN_2_sorted.bam 124\n",
      "33.164030172335224 EN_CN_4_sorted.bam 125\n",
      "32.236072455347696 EN_CN_5_sorted.bam 126\n",
      "34.51147688542679 EN_CN_6_sorted.bam 127\n",
      "39.90011628988743 EN_CO_1_sorted.bam 128\n",
      "17.367272318429023 EN_CO_2_sorted.bam 129\n",
      "29.31678380767128 EN_CO_3_sorted.bam 130\n",
      "30.75707945673215 EN_CO_4_sorted.bam 131\n",
      "30.285312013514773 EN_CO_5_sorted.bam 132\n",
      "27.592070188472675 EN_CS_1_sorted.bam 133\n",
      "32.5247399971571 EN_CS_2_sorted.bam 134\n",
      "37.842272018855404 EN_CS_3_sorted.bam 135\n",
      "31.585290079490093 EN_CS_4_sorted.bam 136\n",
      "29.486291624971514 EN_CS_5_sorted.bam 137\n",
      "32.61964239892069 EN_CS_6_sorted.bam 138\n",
      "38.33680296144837 EN_CT_1_sorted.bam 139\n",
      "35.878111207901995 EN_CT_2_sorted.bam 140\n",
      "35.85960569526752 EN_CT_3_sorted.bam 141\n",
      "35.48836162822502 EN_CT_4_sorted.bam 142\n",
      "37.42053724748271 EN_CT_5_sorted.bam 143\n",
      "35.79407612362136 EN_CT_6_sorted.bam 144\n",
      "32.388852873757294 EN_CV_1_sorted.bam 145\n",
      "22.402447796318583 EN_CV_2_sorted.bam 146\n",
      "25.036891779442037 EN_CV_3_sorted.bam 147\n",
      "19.855374312224097 EN_CV_4_sorted.bam 148\n",
      "23.40422591435187 EN_CV_5_sorted.bam 149\n",
      "23.489949559810317 EN_CV_6_sorted.bam 150\n",
      "29.072482263613907 EN_DC_10_sorted.bam 151\n",
      "36.02854561430014 EN_DC_11_sorted.bam 152\n",
      "27.958249639214994 EN_DC_12_sorted.bam 153\n",
      "33.07398454440609 EN_DC_13_sorted.bam 154\n",
      "33.582668451838344 EN_DC_14_sorted.bam 155\n",
      "33.55115244220341 EN_DC_15_sorted.bam 156\n",
      "33.39002283293635 EN_DC_1_sorted.bam 157\n",
      "19.280134895117442 EN_DC_2_sorted.bam 158\n",
      "19.72149588070159 EN_DC_3_sorted.bam 159\n",
      "28.63612555832535 EN_DC_4_sorted.bam 160\n",
      "28.599054958297657 EN_DC_5_sorted.bam 161\n",
      "32.77850356671741 EN_DC_6_sorted.bam 162\n",
      "37.665148217419905 EN_DC_7_sorted.bam 163\n",
      "26.59518925081394 EN_DC_8_sorted.bam 164\n",
      "32.151904214676335 EN_DC_9_sorted.bam 165\n",
      "28.380718739727715 EN_DH_13_sorted.bam 166\n",
      "32.82616474807331 EN_DH_14_sorted.bam 167\n",
      "29.17756484274676 EN_DH_15_sorted.bam 168\n",
      "30.555638782778505 EN_DH_16_sorted.bam 169\n",
      "28.96617117353031 EN_DH_17_sorted.bam 170\n",
      "27.23370955687483 EN_DH_18_sorted.bam 171\n",
      "29.05529759659192 EN_DH_19_sorted.bam 172\n",
      "30.441001517663373 EN_DH_20_sorted.bam 173\n",
      "30.250841528605687 EN_DH_21_sorted.bam 174\n",
      "36.635451815939966 EN_DH_22_sorted.bam 175\n",
      "27.173918453841775 EN_DH_23_sorted.bam 176\n",
      "19.180952341075272 EN_DH_24_sorted.bam 177\n",
      "29.6951017762858 EN_DH_25_sorted.bam 178\n",
      "26.6610033234445 EN_DH_26_sorted.bam 179\n",
      "42.54128753313301 EN_DH_28_sorted.bam 180\n",
      "20.936409223254532 EN_DM_1_sorted.bam 181\n",
      "9.303372265992566 EN_DM_2_sorted.bam 182\n",
      "19.51824890362542 EN_DM_3_sorted.bam 183\n",
      "22.416609340692236 EN_DM_4_sorted.bam 184\n",
      "23.014187623912644 EN_DM_5_sorted.bam 185\n",
      "14.375012614288403 EN_DT_1_sorted.bam 186\n",
      "27.814419773152586 EN_DT_2_sorted.bam 187\n",
      "24.80020447500124 EN_DT_3_sorted.bam 188\n",
      "21.53865758546155 EN_DT_4_sorted.bam 189\n",
      "15.646320967944613 EN_DT_5_sorted.bam 190\n",
      "23.484102060762886 EN_DT_6_sorted.bam 191\n",
      "34.561766153081905 EN_EW_11_sorted.bam 192\n",
      "35.1586221738715 EN_EW_12_sorted.bam 193\n",
      "25.92008844203407 EN_EW_13_sorted.bam 194\n",
      "31.92518021900705 EN_EW_14_sorted.bam 195\n",
      "32.59591930967909 EN_EW_15_sorted.bam 196\n",
      "27.59278660769565 EN_EW_16_sorted.bam 197\n",
      "31.6374175404048 EN_EW_1_sorted.bam 198\n"
     ]
    },
    {
     "name": "stdout",
     "output_type": "stream",
     "text": [
      "30.251329866273394 EN_EW_2_sorted.bam 199\n",
      "25.957277286451134 EN_EW_3_sorted.bam 200\n",
      "27.698711267474664 EN_EW_4_sorted.bam 201\n",
      "29.439172308184077 EN_EW_5_sorted.bam 202\n",
      "34.40160588853456 EN_EW_6_sorted.bam 203\n",
      "22.591372029944125 EN_EW_7_sorted.bam 204\n",
      "24.49227657391473 EN_EW_8_sorted.bam 205\n",
      "35.07383204381866 EN_EW_9_sorted.bam 206\n",
      "32.22218783146182 EN_FR_10_sorted.bam 207\n",
      "29.21566376822173 EN_FR_11_sorted.bam 208\n",
      "29.224281467053785 EN_FR_12_sorted.bam 209\n",
      "26.51556384861324 EN_FR_13_sorted.bam 210\n",
      "22.74245347373556 EN_FR_14_sorted.bam 211\n",
      "28.190352707492416 EN_FR_15_sorted.bam 212\n",
      "29.89832019123266 EN_FR_1_sorted.bam 213\n",
      "33.32201465093356 EN_FR_2_sorted.bam 214\n",
      "28.601015437751478 EN_FR_3_sorted.bam 215\n",
      "22.169666263547334 EN_FR_4_sorted.bam 216\n",
      "33.467829352485516 EN_FR_5_sorted.bam 217\n",
      "30.237601697001043 EN_FR_6_sorted.bam 218\n",
      "37.09181725852599 EN_FR_7_sorted.bam 219\n",
      "32.85162599212972 EN_FR_8_sorted.bam 220\n",
      "36.69213725909926 EN_FR_9_sorted.bam 221\n",
      "37.46220072487513 EN_GB_16_sorted.bam 222\n",
      "14.246477121507379 EN_GB_17_sorted.bam 223\n",
      "26.733640626445048 EN_GB_18_sorted.bam 224\n",
      "35.15121229440004 EN_GB_19_sorted.bam 225\n",
      "29.795202674648106 EN_GB_20_sorted.bam 226\n",
      "29.405171415233767 EN_GB_21_sorted.bam 227\n",
      "30.679070834334226 EN_GB_22_sorted.bam 228\n",
      "18.87659339202047 EN_GB_23_sorted.bam 229\n",
      "33.18406146179087 EN_GB_24_sorted.bam 230\n",
      "34.34095903640698 EN_GB_25_sorted.bam 231\n",
      "35.758930786756686 EN_GB_26_sorted.bam 232\n",
      "26.4941745111708 EN_GB_27_sorted.bam 233\n",
      "34.728137936953736 EN_GB_28_sorted.bam 234\n",
      "41.16933020775271 EN_GB_29_sorted.bam 235\n",
      "24.472332956309998 EN_GB_30_sorted.bam 236\n",
      "38.92643168003187 EN_GO_1_sorted.bam 237\n",
      "35.18484285380073 EN_GO_2_sorted.bam 238\n",
      "37.083993763971094 EN_GO_3_sorted.bam 239\n",
      "19.105421987255284 EN_GO_4_sorted.bam 240\n",
      "33.5912844820383 EN_GO_5_sorted.bam 241\n",
      "22.25918032613703 EN_GO_6_sorted.bam 242\n",
      "22.97649342409822 EN_HL_1_sorted.bam 243\n",
      "30.949567079278292 EN_HL_2_sorted.bam 244\n",
      "30.19586682982202 EN_HL_3_sorted.bam 245\n",
      "30.85654527433024 EN_HL_4_sorted.bam 246\n",
      "27.268934731997664 EN_HL_5_sorted.bam 247\n",
      "34.577751613864166 EN_HO_10_sorted.bam 248\n",
      "32.509276436775856 EN_HO_11_sorted.bam 249\n",
      "35.95003339450194 EN_HO_12_sorted.bam 250\n",
      "31.698679261976064 EN_HO_13_sorted.bam 251\n",
      "34.41280177700053 EN_HO_14_sorted.bam 252\n",
      "35.22244363696911 EN_HO_15_sorted.bam 253\n",
      "12.885710079368486 EN_HO_1_sorted.bam 254\n",
      "24.913187130312554 EN_HO_2_sorted.bam 255\n",
      "28.094593518432923 EN_HO_3_sorted.bam 256\n",
      "37.13174033109699 EN_HO_4_sorted.bam 257\n",
      "32.41332499335879 EN_HO_5_sorted.bam 258\n",
      "34.664312445686676 EN_HO_6_sorted.bam 259\n",
      "36.28023922008958 EN_HO_7_sorted.bam 260\n",
      "40.10956654556112 EN_HO_8_sorted.bam 261\n",
      "36.77498332629611 EN_HO_9_sorted.bam 262\n",
      "23.10952299256545 EN_HW_1_sorted.bam 263\n",
      "33.485209419261416 EN_HW_2_sorted.bam 264\n",
      "39.85111252475487 EN_HW_3_sorted.bam 265\n",
      "39.723677581231144 EN_HW_4_sorted.bam 266\n",
      "27.806265633363147 EN_HW_5_sorted.bam 267\n",
      "32.71518203095427 EN_IH_1_sorted.bam 268\n",
      "28.841751027926943 EN_IH_2_sorted.bam 269\n",
      "22.625951376781842 EN_IH_3_sorted.bam 270\n",
      "22.66548111672408 EN_IH_4_sorted.bam 271\n",
      "28.065757319802316 EN_IH_5_sorted.bam 272\n",
      "39.32048852376798 EN_IO_1_sorted.bam 273\n",
      "35.69950378622844 EN_IO_2_sorted.bam 274\n",
      "29.293147454565243 EN_IO_3_sorted.bam 275\n",
      "35.486913957387166 EN_IO_4_sorted.bam 276\n",
      "33.44308064231786 EN_IO_5_sorted.bam 277\n",
      "34.163647339883305 EN_IT_1_sorted.bam 278\n",
      "22.654514037561633 EN_IT_2_sorted.bam 279\n",
      "27.560637762593885 EN_IT_3_sorted.bam 280\n",
      "37.14811446677003 EN_IT_4_sorted.bam 281\n",
      "33.825605402312725 EN_IT_5_sorted.bam 282\n",
      "37.02200099845775 EN_JC_10_sorted.bam 283\n",
      "34.94439380966848 EN_JC_11_sorted.bam 284\n",
      "37.5345473924243 EN_JC_12_sorted.bam 285\n",
      "36.305854413244774 EN_JC_13_sorted.bam 286\n",
      "32.56286884088663 EN_JC_14_sorted.bam 287\n",
      "16.22944164418284 EN_JC_15_sorted.bam 288\n",
      "35.070290444528474 EN_JC_1_sorted.bam 289\n",
      "20.480673031258235 EN_JC_2_sorted.bam 290\n",
      "30.68633209922647 EN_JC_3_sorted.bam 291\n",
      "31.813873790288465 EN_JC_4_sorted.bam 292\n",
      "38.54798924262093 EN_JC_5_sorted.bam 293\n",
      "35.2639799442609 EN_JC_6_sorted.bam 294\n",
      "32.856627655693075 EN_JC_7_sorted.bam 295\n",
      "35.073139739831426 EN_JC_8_sorted.bam 296\n",
      "38.90483421319861 EN_JC_9_sorted.bam 297\n",
      "27.023923528578994 EN_JO_2_sorted.bam 298\n",
      "33.69257980849861 EN_JO_3_sorted.bam 299\n",
      "34.10208601792299 EN_JO_4_sorted.bam 300\n",
      "36.02176080923077 EN_JO_5_sorted.bam 301\n",
      "22.744329025737013 EN_JO_6_sorted.bam 302\n",
      "26.712970316318007 EN_JT_1_sorted.bam 303\n",
      "38.52979889626622 EN_JT_2_sorted.bam 304\n",
      "33.210068838907866 EN_JT_3_sorted.bam 305\n",
      "29.33874734137666 EN_JT_4_sorted.bam 306\n",
      "35.566991760956675 EN_JT_5_sorted.bam 307\n",
      "27.270613828475035 EN_JT_6_sorted.bam 308\n",
      "29.24329441464184 EN_LA_1_sorted.bam 309\n",
      "22.009528030603565 EN_LA_2_sorted.bam 310\n",
      "37.82895217138369 EN_LA_3_sorted.bam 311\n",
      "33.46524735170586 EN_LA_4_sorted.bam 312\n",
      "34.04203157531624 EN_LA_5_sorted.bam 313\n",
      "30.398687171899443 EN_LA_6_sorted.bam 314\n",
      "38.78004465398355 EN_LO_1_sorted.bam 315\n",
      "36.98313402801837 EN_LO_2_sorted.bam 316\n",
      "36.02330158426227 EN_LO_3_sorted.bam 317\n",
      "18.425318909585602 EN_LO_4_sorted.bam 318\n",
      "34.531034619355694 EN_LO_5_sorted.bam 319\n",
      "57.243866372936594 EN_LO_6_sorted.bam 320\n",
      "34.51027754044594 EN_LR_1_sorted.bam 321\n",
      "23.320623430482883 EN_LR_2_sorted.bam 322\n",
      "32.74615046169913 EN_LR_3_sorted.bam 323\n",
      "33.286365512661746 EN_LR_4_sorted.bam 324\n",
      "38.60756008671723 EN_LR_5_sorted.bam 325\n",
      "22.834300604274283 EN_LR_6_sorted.bam 326\n",
      "21.3750293314095 EN_LR_7_sorted.bam 327\n",
      "30.097230861893618 EN_LT_3_sorted.bam 328\n",
      "34.62376808280375 EN_LT_4_sorted.bam 329\n",
      "32.13374957774467 EN_LT_5_sorted.bam 330\n",
      "37.579263000827794 EN_LT_6_sorted.bam 331\n",
      "33.971478214209256 EN_LV_16_sorted.bam 332\n",
      "30.450689198524785 EN_LV_17_sorted.bam 333\n",
      "29.883810403593532 EN_LV_18_sorted.bam 334\n",
      "31.640558312281637 EN_LV_19_sorted.bam 335\n",
      "37.99767684880679 EN_LV_20_sorted.bam 336\n",
      "22.648562300968308 EN_LV_21_sorted.bam 337\n",
      "34.34903027280667 EN_LV_22_sorted.bam 338\n",
      "31.072028236575598 EN_LV_23_sorted.bam 339\n",
      "38.03985495846378 EN_LV_24_sorted.bam 340\n",
      "32.690899022292484 EN_LV_25_sorted.bam 341\n",
      "13.506081686272836 EN_LV_26_sorted.bam 342\n",
      "26.149269644178187 EN_LV_27_sorted.bam 343\n",
      "30.485047021607677 EN_LV_28_sorted.bam 344\n",
      "18.63037059054343 EN_LV_29_sorted.bam 345\n",
      "38.18683419999021 EN_LV_30_sorted.bam 346\n",
      "32.52237384637845 EN_MC_1_sorted.bam 347\n",
      "33.23955138314641 EN_MC_2_sorted.bam 348\n",
      "23.274917690357242 EN_MC_3_sorted.bam 349\n",
      "23.290448725084314 EN_MC_4_sorted.bam 350\n",
      "27.078500208036896 EN_MC_5_sorted.bam 351\n",
      "34.450250754363225 EN_MC_6_sorted.bam 352\n",
      "23.969784096993806 EN_MC_7_sorted.bam 353\n",
      "28.260089375951488 EN_MD_10_sorted.bam 354\n",
      "36.221442377010405 EN_MD_11_sorted.bam 355\n",
      "36.79008108438042 EN_MD_12_sorted.bam 356\n",
      "32.25452338157792 EN_MD_13_sorted.bam 357\n",
      "33.949634890486415 EN_MD_14_sorted.bam 358\n",
      "39.809546447324294 EN_MD_15_sorted.bam 359\n",
      "36.45678978050025 EN_MD_1_sorted.bam 360\n",
      "32.082763805480035 EN_MD_2_sorted.bam 361\n",
      "28.14050411306534 EN_MD_3_sorted.bam 362\n",
      "30.43740946412312 EN_MD_4_sorted.bam 363\n",
      "33.40981320209142 EN_MD_5_sorted.bam 364\n",
      "35.72918099097699 EN_MD_6_sorted.bam 365\n",
      "29.275504742659603 EN_MD_7_sorted.bam 366\n",
      "31.64132347134007 EN_MD_8_sorted.bam 367\n",
      "28.733374563983922 EN_MD_9_sorted.bam 368\n",
      "59.362665892143596 EN_MR_1_sorted.bam 369\n",
      "38.72677635091158 EN_MR_2_sorted.bam 370\n",
      "32.79074640292237 EN_MR_3_sorted.bam 371\n",
      "37.06482182442164 EN_MR_4_sorted.bam 372\n",
      "23.18962061036185 EN_MR_5_sorted.bam 373\n",
      "46.783109515764174 EN_MR_6_sorted.bam 374\n",
      "21.341016363586924 EN_NH_2_sorted.bam 375\n",
      "21.531418109714377 EN_NH_3_sorted.bam 376\n",
      "21.940748006640458 EN_NH_4_sorted.bam 377\n",
      "17.38165896685597 EN_NH_5_sorted.bam 378\n",
      "33.63547351081192 EN_NH_6_sorted.bam 379\n",
      "38.16273928164071 EN_NI_1_sorted.bam 380\n",
      "17.343557613654077 EN_NI_2_sorted.bam 381\n",
      "38.421516803241715 EN_NI_3_sorted.bam 382\n",
      "29.84422606723548 EN_NI_4_sorted.bam 383\n",
      "27.56064972279148 EN_NI_5_sorted.bam 384\n",
      "34.7767118553368 EN_NI_6_sorted.bam 385\n",
      "19.438460935767857 EN_NN_1_sorted.bam 386\n",
      "19.912743644302978 EN_NN_2_sorted.bam 387\n",
      "33.34425744602594 EN_NN_3_sorted.bam 388\n",
      "13.22429152150097 EN_NN_4_sorted.bam 389\n",
      "27.425713179013524 EN_NN_5_sorted.bam 390\n",
      "32.29897269900482 EN_NN_6_sorted.bam 391\n",
      "22.867120397194515 EN_NN_7_sorted.bam 392\n",
      "28.387810595583563 EN_NN_8_sorted.bam 393\n",
      "34.988458232969606 EN_NO_1_sorted.bam 394\n",
      "23.176987728401702 EN_NO_2_sorted.bam 395\n"
     ]
    },
    {
     "name": "stdout",
     "output_type": "stream",
     "text": [
      "26.065631609234366 EN_NO_3_sorted.bam 396\n",
      "19.663610668865047 EN_NO_4_sorted.bam 397\n",
      "33.217558658689384 EN_NO_5_sorted.bam 398\n",
      "21.909351977350912 EN_NT_1_sorted.bam 399\n",
      "36.18274583255291 EN_NT_2_sorted.bam 400\n",
      "28.344817939340192 EN_NT_3_sorted.bam 401\n",
      "29.02504899749151 EN_NT_4_sorted.bam 402\n",
      "37.18881008920318 EN_NT_5_sorted.bam 403\n",
      "20.350236574785235 EN_NV_1_sorted.bam 404\n",
      "20.00422135068441 EN_NV_2_sorted.bam 405\n",
      "36.74594708373559 EN_NV_3_sorted.bam 406\n",
      "17.13570824463191 EN_NV_4_sorted.bam 407\n",
      "10.14602100080356 EN_NV_5_sorted.bam 408\n",
      "33.31840281751638 EN_NV_6_sorted.bam 409\n",
      "32.76603948083883 EN_OO_1_sorted.bam 410\n",
      "36.781102843428876 EN_OO_2_sorted.bam 411\n",
      "18.038845574134434 EN_OO_3_sorted.bam 412\n",
      "37.4155784977542 EN_OO_4_sorted.bam 413\n",
      "23.34474535132579 EN_OO_5_sorted.bam 414\n",
      "24.231587002601316 EN_OO_6_sorted.bam 415\n",
      "27.620238657090802 EN_OT_1_sorted.bam 416\n",
      "18.55310477930792 EN_OT_2_sorted.bam 417\n",
      "46.14884550209451 EN_OT_3_sorted.bam 418\n",
      "10.19312144481839 EN_OT_4_sorted.bam 419\n",
      "16.0223105322531 EN_PB_1_sorted.bam 420\n",
      "26.97652698264575 EN_PB_2_sorted.bam 421\n",
      "34.038606448224996 EN_PB_3_sorted.bam 422\n",
      "24.336516012931533 EN_PB_4_sorted.bam 423\n",
      "31.445352099564854 EN_PB_5_sorted.bam 424\n",
      "21.579421270090666 EN_PB_6_sorted.bam 425\n",
      "11.571630534345914 EN_PL_16_sorted.bam 426\n",
      "30.279981839817378 EN_PL_17_sorted.bam 427\n",
      "29.75515086994653 EN_PL_18_sorted.bam 428\n",
      "57.847094962429075 EN_PL_19_sorted.bam 429\n",
      "31.146208843891795 EN_PL_1_sorted.bam 430\n",
      "34.72521893477659 EN_PL_20_sorted.bam 431\n",
      "31.061763211301034 EN_PL_21_sorted.bam 432\n",
      "35.54657591951135 EN_PL_22_sorted.bam 433\n",
      "24.985131567404125 EN_PL_23_sorted.bam 434\n",
      "32.49973537255969 EN_PL_24_sorted.bam 435\n",
      "38.39861963054067 EN_PL_25_sorted.bam 436\n",
      "36.75764556846208 EN_PL_26_sorted.bam 437\n",
      "36.8779745799721 EN_PL_27_sorted.bam 438\n",
      "39.47736602634465 EN_PL_3_sorted.bam 439\n",
      "31.221611028930166 EN_PL_5_sorted.bam 440\n",
      "31.5980303665259 EN_PT_10_sorted.bam 441\n",
      "14.189563788854784 EN_PT_11_sorted.bam 442\n",
      "31.46590562567599 EN_PT_12_sorted.bam 443\n",
      "43.26944321021612 EN_PT_13_sorted.bam 444\n",
      "33.53239802642172 EN_PT_14_sorted.bam 445\n",
      "30.887512066576363 EN_PT_15_sorted.bam 446\n",
      "34.89737637721051 EN_PT_1_sorted.bam 447\n",
      "33.98717874252678 EN_PT_2_sorted.bam 448\n",
      "30.4967933141191 EN_PT_3_sorted.bam 449\n",
      "20.741329477761713 EN_PT_4_sorted.bam 450\n",
      "32.614860363812895 EN_PT_5_sorted.bam 451\n",
      "34.21474095522963 EN_PT_6_sorted.bam 452\n",
      "28.985183059354654 EN_PT_7_sorted.bam 453\n",
      "31.281318624631293 EN_PT_8_sorted.bam 454\n",
      "34.944429353067 EN_PT_9_sorted.bam 455\n",
      "25.381245733281887 EN_PW_10_sorted.bam 456\n",
      "26.7278280823204 EN_PW_11_sorted.bam 457\n",
      "17.40318553966311 EN_PW_12_sorted.bam 458\n",
      "22.175958046501158 EN_PW_13_sorted.bam 459\n",
      "22.320995858353356 EN_PW_14_sorted.bam 460\n",
      "24.987314649153568 EN_PW_15_sorted.bam 461\n",
      "23.45833896436966 EN_PW_1_sorted.bam 462\n",
      "33.233063985063474 EN_PW_2_sorted.bam 463\n",
      "30.918239032059468 EN_PW_3_sorted.bam 464\n",
      "24.453858032789036 EN_PW_4_sorted.bam 465\n",
      "28.720506207530406 EN_PW_5_sorted.bam 466\n",
      "4.759301270966104 EN_PW_6_sorted.bam 467\n",
      "39.58386171984037 EN_PW_7_sorted.bam 468\n",
      "29.40018192166911 EN_PW_8_sorted.bam 469\n",
      "44.680326453807865 EN_PW_9_sorted.bam 470\n",
      "34.65330051022276 EN_RH_1_sorted.bam 471\n",
      "32.107506251980915 EN_RH_2_sorted.bam 472\n",
      "22.308318159563875 EN_RH_3_sorted.bam 473\n",
      "41.33123385930317 EN_RH_4_sorted.bam 474\n",
      "29.21133620861947 EN_RH_5_sorted.bam 475\n",
      "18.743027284538762 EN_RH_6_sorted.bam 476\n",
      "36.69140267164254 EN_RH_7_sorted.bam 477\n",
      "36.530644223808345 EN_RL_1_sorted.bam 478\n",
      "32.917457235666134 EN_RL_2_sorted.bam 479\n",
      "32.267164446606785 EN_RL_3_sorted.bam 480\n",
      "15.996314018014708 EN_RL_4_sorted.bam 481\n",
      "34.55000236383064 EN_RL_5_sorted.bam 482\n",
      "25.650247421294026 EN_RL_6_sorted.bam 483\n",
      "28.177546838577328 EN_RO_1_sorted.bam 484\n",
      "28.489498276452785 EN_RO_2_sorted.bam 485\n",
      "26.087960494878878 EN_RO_3_sorted.bam 486\n",
      "34.29691368873872 EN_RO_4_sorted.bam 487\n",
      "36.605782778154804 EN_RO_5_sorted.bam 488\n",
      "19.432300632046505 EN_RO_6_sorted.bam 489\n",
      "36.324955771852764 EN_RS_1_sorted.bam 490\n",
      "33.67956731376319 EN_RS_2_sorted.bam 491\n",
      "26.507304140044674 EN_RS_4_sorted.bam 492\n",
      "39.82651412213171 EN_RS_5_sorted.bam 493\n",
      "24.035789322348478 EN_RS_6_sorted.bam 494\n",
      "30.019124803065043 EN_RS_7_sorted.bam 495\n",
      "33.70022274359446 EN_RT_1_sorted.bam 496\n",
      "18.59271879623597 EN_RT_2_sorted.bam 497\n",
      "30.72869421873317 EN_SC_10_sorted.bam 498\n",
      "39.626983202317795 EN_SC_11_sorted.bam 499\n",
      "37.77666096185017 EN_SC_12_sorted.bam 500\n",
      "33.933423293116135 EN_SC_13_sorted.bam 501\n",
      "28.697271266763984 EN_SC_14_sorted.bam 502\n",
      "33.33748712295097 EN_SC_15_sorted.bam 503\n",
      "22.75337258291882 EN_SC_1_sorted.bam 504\n",
      "22.12535952655904 EN_SC_2_sorted.bam 505\n",
      "20.32465532428542 EN_SC_3_sorted.bam 506\n",
      "15.48809443554572 EN_SC_4_sorted.bam 507\n",
      "32.461575127263764 EN_SC_5_sorted.bam 508\n",
      "20.42315988025046 EN_SC_6_sorted.bam 509\n",
      "25.360568306818628 EN_SC_7_sorted.bam 510\n",
      "13.025694283150505 EN_SC_8_sorted.bam 511\n",
      "31.027770216983175 EN_SC_9_sorted.bam 512\n",
      "38.148773017455916 EN_SH_1_sorted.bam 513\n",
      "31.918072473731844 EN_SH_2_sorted.bam 514\n",
      "25.517588070413556 EN_SH_3_sorted.bam 515\n",
      "37.00812485817881 EN_SH_4_sorted.bam 516\n",
      "21.089395613990256 EN_SH_5_sorted.bam 517\n",
      "38.47672717696123 EN_SJ_10_sorted.bam 518\n",
      "25.290615032153788 EN_SJ_11_sorted.bam 519\n",
      "34.37091859973202 EN_SJ_12_sorted.bam 520\n",
      "32.172926395798804 EN_SJ_1_sorted.bam 521\n",
      "33.119549566331145 EN_SJ_2_sorted.bam 522\n",
      "33.17630090457181 EN_SJ_3_sorted.bam 523\n",
      "28.401440770182017 EN_SJ_4_sorted.bam 524\n",
      "33.45891892111789 EN_SJ_5_sorted.bam 525\n",
      "31.86357655651707 EN_SJ_6_sorted.bam 526\n",
      "35.05705882735636 EN_SJ_7_sorted.bam 527\n",
      "36.30300145264064 EN_SJ_8_sorted.bam 528\n",
      "39.51908318196569 EN_SJ_9_sorted.bam 529\n",
      "31.38080864739415 EN_SL_1_sorted.bam 530\n",
      "27.744991294848674 EN_SL_2_sorted.bam 531\n",
      "21.478389372126156 EN_SL_3_sorted.bam 532\n",
      "32.97130373275124 EN_SL_4_sorted.bam 533\n",
      "41.32003787809578 EN_SL_5_sorted.bam 534\n",
      "32.39624887478088 EN_SL_6_sorted.bam 535\n",
      "27.231654842468934 EN_SS_10_sorted.bam 536\n",
      "21.29956123497355 EN_SS_11_sorted.bam 537\n",
      "29.127516658192963 EN_SS_12_sorted.bam 538\n",
      "20.25472981732782 EN_SS_13_sorted.bam 539\n",
      "22.924599158304762 EN_SS_14_sorted.bam 540\n",
      "30.345755295190855 EN_SS_15_sorted.bam 541\n",
      "6.3883320374725026 EN_SS_1_sorted.bam 542\n",
      "23.250022416883642 EN_SS_2_sorted.bam 543\n",
      "40.395971077712815 EN_SS_3_sorted.bam 544\n",
      "23.23788650842499 EN_SS_4_sorted.bam 545\n",
      "17.2586010610001 EN_SS_5_sorted.bam 546\n",
      "27.487049848935918 EN_SS_6_sorted.bam 547\n",
      "23.839670010741873 EN_SS_7_sorted.bam 548\n",
      "23.23581894746623 EN_SS_8_sorted.bam 549\n",
      "30.114885606543396 EN_SS_9_sorted.bam 550\n",
      "23.68921972204639 EN_TO_1_sorted.bam 551\n",
      "25.831695965311372 EN_TO_2_sorted.bam 552\n",
      "21.240943728416184 EN_TO_3_sorted.bam 553\n",
      "30.367668787231104 EN_TO_4_sorted.bam 554\n",
      "26.89448583724067 EN_TO_5_sorted.bam 555\n",
      "33.875093269082804 EN_TO_6_sorted.bam 556\n",
      "33.02865019918021 EN_TU_1_sorted.bam 557\n",
      "21.190541811700808 EN_TU_2_sorted.bam 558\n",
      "25.104535192652353 EN_TU_3_sorted.bam 559\n",
      "35.796400292834264 EN_TU_4_sorted.bam 560\n",
      "27.883818035443895 EN_TU_5_sorted.bam 561\n",
      "29.294322481022274 EN_TU_6_sorted.bam 562\n",
      "30.86831629847588 EN_TU_7_sorted.bam 563\n",
      "28.31087345430552 EN_UN_1_sorted.bam 564\n",
      "27.336790465697792 EN_UN_2_sorted.bam 565\n",
      "29.68920628078866 EN_UO_1_sorted.bam 566\n",
      "27.294412068836326 EN_UO_3_sorted.bam 567\n",
      "34.286021661484476 EN_UO_4_sorted.bam 568\n",
      "29.348008250920365 EN_UO_5_sorted.bam 569\n",
      "34.006680775804845 EN_UT_1_sorted.bam 570\n",
      "32.53443833201943 EN_UT_2_sorted.bam 571\n",
      "28.562912790914762 EN_UT_3_sorted.bam 572\n",
      "36.63177306579237 EN_UT_4_sorted.bam 573\n",
      "29.319789231035447 EN_UT_5_sorted.bam 574\n",
      "35.02205555724114 EN_VI_1_sorted.bam 575\n",
      "26.115185254352344 EN_VI_2_sorted.bam 576\n",
      "36.158178933108225 EN_VI_3_sorted.bam 577\n",
      "31.690511019927108 EN_VI_4_sorted.bam 578\n",
      "32.25240494562406 EN_VI_5_sorted.bam 579\n",
      "6.916515064909369 EN_VI_6_sorted.bam 580\n",
      "31.280894436931987 EN_VM_10_sorted.bam 581\n",
      "32.44606013848227 EN_VM_11_sorted.bam 582\n",
      "32.67242604019694 EN_VM_12_sorted.bam 583\n",
      "28.611481875788996 EN_VM_13_sorted.bam 584\n",
      "37.32308034397716 EN_VM_14_sorted.bam 585\n",
      "26.469960685983224 EN_VM_15_sorted.bam 586\n",
      "35.55047714341184 EN_VM_1_sorted.bam 587\n",
      "35.215542977280386 EN_VM_2_sorted.bam 588\n",
      "37.520716185593244 EN_VM_3_sorted.bam 589\n",
      "33.36521182218825 EN_VM_4_sorted.bam 590\n",
      "33.89360542775651 EN_VM_5_sorted.bam 591\n",
      "32.430277400845696 EN_VM_6_sorted.bam 592\n"
     ]
    },
    {
     "name": "stdout",
     "output_type": "stream",
     "text": [
      "27.038930189804063 EN_VM_7_sorted.bam 593\n",
      "21.139383965217664 EN_VM_8_sorted.bam 594\n",
      "28.275166313976694 EN_VM_9_sorted.bam 595\n",
      "12.296250379522975 EN_WA_1_sorted.bam 596\n",
      "4.943331198256089 EN_WA_2_sorted.bam 597\n",
      "18.676913630289874 EN_WA_3_sorted.bam 598\n",
      "2.002800879221823 EN_WA_4_sorted.bam 599\n",
      "7.764350400736191 EN_WA_5_sorted.bam 600\n",
      "14.574201521814029 EN_WA_6_sorted.bam 601\n",
      "12.446266083374285 EN_YL_1_sorted.bam 602\n",
      "7.586398902529729 EN_YL_2_sorted.bam 603\n",
      "32.01855606478844 EN_YL_3_sorted.bam 604\n",
      "33.81392000447143 EN_YL_4_sorted.bam 605\n",
      "25.803814325478104 EN_YL_5_sorted.bam 606\n",
      "23.708791837822357 EN_YL_6_sorted.bam 607\n"
     ]
    },
    {
     "ename": "TypeError",
     "evalue": "DataFrame.__init__() got an unexpected keyword argument 'bam'",
     "output_type": "error",
     "traceback": [
      "\u001b[0;31m---------------------------------------------------------------------------\u001b[0m",
      "\u001b[0;31mTypeError\u001b[0m                                 Traceback (most recent call last)",
      "Cell \u001b[0;32mIn[65], line 16\u001b[0m\n\u001b[1;32m     14\u001b[0m     cov_list\u001b[38;5;241m.\u001b[39mappend(coverage)\n\u001b[1;32m     15\u001b[0m     \u001b[38;5;28mprint\u001b[39m(coverage,name,i)\n\u001b[0;32m---> 16\u001b[0m cov_df \u001b[38;5;241m=\u001b[39m \u001b[43mpd\u001b[49m\u001b[38;5;241;43m.\u001b[39;49m\u001b[43mDataFrame\u001b[49m\u001b[43m(\u001b[49m\u001b[43mbam\u001b[49m\u001b[38;5;241;43m=\u001b[39;49m\u001b[43mbam_names\u001b[49m\u001b[43m,\u001b[49m\u001b[43mcoverage\u001b[49m\u001b[38;5;241;43m=\u001b[39;49m\u001b[43mcov_list\u001b[49m\u001b[43m)\u001b[49m\n\u001b[1;32m     17\u001b[0m cov_df\u001b[38;5;241m.\u001b[39mhead()\n",
      "\u001b[0;31mTypeError\u001b[0m: DataFrame.__init__() got an unexpected keyword argument 'bam'"
     ]
    }
   ],
   "source": [
    "bam_names = []\n",
    "cov_list = []\n",
    "for i in range(0,len(bam_files)):\n",
    "    bam = bam_files[i]\n",
    "    #print(bam)\n",
    "    b = bam.split('/')[11] #set this \n",
    "    #print (b)\n",
    "    !$samtools depth -a $b > $'cov.txt'\n",
    "    cov = pd.read_csv('cov.txt', sep=\"\\t\",header=None)\n",
    "    coverage = sum(cov.iloc[:,2])/len(cov.index)\n",
    "    name = b.split('.F')[0]\n",
    "    #print(name)\n",
    "    bam_names.append(name)\n",
    "    cov_list.append(coverage)\n",
    "    print(coverage,name,i)\n",
    "cov_df = pd.DataFrame(bam=bam_names,coverage=cov_list)\n",
    "cov_df.head()"
   ]
  },
  {
   "cell_type": "code",
   "execution_count": 73,
   "metadata": {},
   "outputs": [
    {
     "name": "stdout",
     "output_type": "stream",
     "text": [
      "608\n"
     ]
    },
    {
     "data": {
      "text/html": [
       "<div>\n",
       "<style scoped>\n",
       "    .dataframe tbody tr th:only-of-type {\n",
       "        vertical-align: middle;\n",
       "    }\n",
       "\n",
       "    .dataframe tbody tr th {\n",
       "        vertical-align: top;\n",
       "    }\n",
       "\n",
       "    .dataframe thead th {\n",
       "        text-align: right;\n",
       "    }\n",
       "</style>\n",
       "<table border=\"1\" class=\"dataframe\">\n",
       "  <thead>\n",
       "    <tr style=\"text-align: right;\">\n",
       "      <th></th>\n",
       "      <th>bam</th>\n",
       "      <th>coverage</th>\n",
       "    </tr>\n",
       "  </thead>\n",
       "  <tbody>\n",
       "    <tr>\n",
       "      <th>0</th>\n",
       "      <td>EN_AH_10_sorted.bam</td>\n",
       "      <td>33.479992</td>\n",
       "    </tr>\n",
       "    <tr>\n",
       "      <th>1</th>\n",
       "      <td>EN_AH_11_sorted.bam</td>\n",
       "      <td>31.248328</td>\n",
       "    </tr>\n",
       "    <tr>\n",
       "      <th>2</th>\n",
       "      <td>EN_AH_12_sorted.bam</td>\n",
       "      <td>36.365974</td>\n",
       "    </tr>\n",
       "    <tr>\n",
       "      <th>3</th>\n",
       "      <td>EN_AH_13_sorted.bam</td>\n",
       "      <td>34.191137</td>\n",
       "    </tr>\n",
       "    <tr>\n",
       "      <th>4</th>\n",
       "      <td>EN_AH_14_sorted.bam</td>\n",
       "      <td>22.804208</td>\n",
       "    </tr>\n",
       "  </tbody>\n",
       "</table>\n",
       "</div>"
      ],
      "text/plain": [
       "                   bam   coverage\n",
       "0  EN_AH_10_sorted.bam  33.479992\n",
       "1  EN_AH_11_sorted.bam  31.248328\n",
       "2  EN_AH_12_sorted.bam  36.365974\n",
       "3  EN_AH_13_sorted.bam  34.191137\n",
       "4  EN_AH_14_sorted.bam  22.804208"
      ]
     },
     "execution_count": 73,
     "metadata": {},
     "output_type": "execute_result"
    }
   ],
   "source": [
    "cov_dict = {\"bam\":bam_names,'coverage':cov_list}\n",
    "cov_df = pd.DataFrame(cov_dict)\n",
    "cov_df.head()"
   ]
  },
  {
   "cell_type": "code",
   "execution_count": 74,
   "metadata": {},
   "outputs": [],
   "source": [
    "cov_out = os.path.join(bwa_dir,'bam_coverage.csv')\n",
    "cov_df.to_csv(path_or_buf=cov_out)"
   ]
  },
  {
   "cell_type": "code",
   "execution_count": 75,
   "metadata": {
    "scrolled": true
   },
   "outputs": [
    {
     "data": {
      "text/plain": [
       "count    608.000000\n",
       "mean      29.982901\n",
       "std        7.270156\n",
       "min        1.716934\n",
       "25%       26.127237\n",
       "50%       31.109119\n",
       "75%       34.631151\n",
       "max       59.362666\n",
       "Name: coverage, dtype: float64"
      ]
     },
     "execution_count": 75,
     "metadata": {},
     "output_type": "execute_result"
    }
   ],
   "source": [
    "cov_df.coverage.describe()\n"
   ]
  },
  {
   "cell_type": "code",
   "execution_count": 76,
   "metadata": {},
   "outputs": [
    {
     "data": {
      "text/plain": [
       "608"
      ]
     },
     "execution_count": 76,
     "metadata": {},
     "output_type": "execute_result"
    }
   ],
   "source": [
    "len(cov_df.coverage)"
   ]
  },
  {
   "cell_type": "markdown",
   "metadata": {},
   "source": [
    "# Keep bam files over some specificed amount of coverage"
   ]
  },
  {
   "cell_type": "code",
   "execution_count": 78,
   "metadata": {},
   "outputs": [
    {
     "data": {
      "text/plain": [
       "(600, 600, 604)"
      ]
     },
     "execution_count": 78,
     "metadata": {},
     "output_type": "execute_result"
    }
   ],
   "source": [
    "len(cov_df[cov_df.coverage > 9]),len(cov_df[cov_df.coverage >= 8]),len(cov_df[cov_df.coverage >= 5])"
   ]
  },
  {
   "cell_type": "code",
   "execution_count": 79,
   "metadata": {},
   "outputs": [
    {
     "data": {
      "text/plain": [
       "(600, 'EN_AH_10_sorted.bam')"
      ]
     },
     "execution_count": 79,
     "metadata": {},
     "output_type": "execute_result"
    }
   ],
   "source": [
    "good_bam = cov_df.bam[cov_df.coverage >= 9]\n",
    "good_bam = good_bam.tolist()\n",
    "len(good_bam),good_bam[0]"
   ]
  },
  {
   "cell_type": "code",
   "execution_count": 80,
   "metadata": {},
   "outputs": [
    {
     "data": {
      "text/plain": [
       "(600,\n",
       " '/data/gpfs/assoc/denovo/tfaske/rabbit/full/REDO/SNPcall/bwa/EN_AH_11_sorted.bam')"
      ]
     },
     "execution_count": 80,
     "metadata": {},
     "output_type": "execute_result"
    }
   ],
   "source": [
    "good_bam_files = []\n",
    "for i in range(0,len(good_bam)):\n",
    "    bam = bwa_dir + good_bam[i]\n",
    "    good_bam_files.append(bam)\n",
    "len(good_bam_files), good_bam_files[1]"
   ]
  },
  {
   "cell_type": "code",
   "execution_count": 81,
   "metadata": {},
   "outputs": [],
   "source": [
    "snp_dir = os.path.join(root,'SNPcall')"
   ]
  },
  {
   "cell_type": "code",
   "execution_count": 82,
   "metadata": {},
   "outputs": [
    {
     "name": "stdout",
     "output_type": "stream",
     "text": [
      "/data/gpfs/assoc/denovo/tfaske/rabbit/full/REDO/SNPcall\n"
     ]
    }
   ],
   "source": [
    "cd $snp_dir"
   ]
  },
  {
   "cell_type": "code",
   "execution_count": 83,
   "metadata": {},
   "outputs": [],
   "source": [
    "!mkdir 'good_bams'"
   ]
  },
  {
   "cell_type": "code",
   "execution_count": 84,
   "metadata": {},
   "outputs": [],
   "source": [
    "good_bam_dir = os.path.join(snp_dir,'good_bams')\n",
    "assert good_bam_dir"
   ]
  },
  {
   "cell_type": "markdown",
   "metadata": {},
   "source": [
    "#### Move files instead of copy to save space. DO NOT DELETE"
   ]
  },
  {
   "cell_type": "code",
   "execution_count": 89,
   "metadata": {},
   "outputs": [],
   "source": [
    "for i in range(0,len(good_bam_files)):\n",
    "    good_bam = str(good_bam_files[i])\n",
    "    !mv $good_bam $good_bam_dir"
   ]
  },
  {
   "cell_type": "code",
   "execution_count": 90,
   "metadata": {},
   "outputs": [
    {
     "name": "stdout",
     "output_type": "stream",
     "text": [
      "/data/gpfs/assoc/denovo/tfaske/rabbit/full/REDO/SNPcall/good_bams\n"
     ]
    }
   ],
   "source": [
    "cd $good_bam_dir"
   ]
  },
  {
   "cell_type": "code",
   "execution_count": 91,
   "metadata": {},
   "outputs": [],
   "source": [
    "good_bam_cp_files = []\n",
    "files = !find . -type f -name '*sorted.bam'\n",
    "files = [os.path.abspath(x) for x in files if 'bam' in x]\n",
    "for x in files:\n",
    "    good_bam_cp_files.append(x)\n",
    "good_bam_cp_files = sorted(good_bam_files)"
   ]
  },
  {
   "cell_type": "code",
   "execution_count": 92,
   "metadata": {
    "scrolled": true
   },
   "outputs": [
    {
     "data": {
      "text/plain": [
       "(600,\n",
       " '/data/gpfs/assoc/denovo/tfaske/rabbit/full/REDO/SNPcall/bwa/EN_AH_10_sorted.bam')"
      ]
     },
     "execution_count": 92,
     "metadata": {},
     "output_type": "execute_result"
    }
   ],
   "source": [
    "len(good_bam_cp_files),good_bam_cp_files[0]"
   ]
  },
  {
   "cell_type": "markdown",
   "metadata": {},
   "source": [
    "### Continue on to 4snpcalling"
   ]
  },
  {
   "cell_type": "code",
   "execution_count": null,
   "metadata": {},
   "outputs": [],
   "source": []
  }
 ],
 "metadata": {
  "kernelspec": {
   "display_name": "Python 3 (ipykernel)",
   "language": "python",
   "name": "python3"
  },
  "language_info": {
   "codemirror_mode": {
    "name": "ipython",
    "version": 3
   },
   "file_extension": ".py",
   "mimetype": "text/x-python",
   "name": "python",
   "nbconvert_exporter": "python",
   "pygments_lexer": "ipython3",
   "version": "3.11.0"
  }
 },
 "nbformat": 4,
 "nbformat_minor": 1
}
