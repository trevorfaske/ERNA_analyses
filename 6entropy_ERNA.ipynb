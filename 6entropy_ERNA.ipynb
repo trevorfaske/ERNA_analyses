{
 "cells": [
  {
   "cell_type": "markdown",
   "metadata": {},
   "source": [
    "# DO NOT RERUN or change yet. still working on this. \n",
    "\n",
    "# Entropy from ancestry coefficients (q) and genotype probabilities (gprob)  \n",
    "\n",
    "Does everything to run entropy and creates slurm files to submit\n",
    "\n",
    "Goal is 4 chains k=2-X (you decide)\n",
    "\n",
    "**Create conda env just for entropy**  \n",
    "`conda create -n entropy`  \n",
    "`conda activate entropy`  \n",
    "`conda install popgen-entropy`  "
   ]
  },
  {
   "cell_type": "code",
   "execution_count": 1,
   "metadata": {
    "ExecuteTime": {}
   },
   "outputs": [],
   "source": [
    "import sys\n",
    "import ipyparallel as ipp\n",
    "import os\n",
    "from os import environ\n",
    "import gzip\n",
    "import warnings\n",
    "import pandas as pd\n",
    "import numpy as np\n",
    "import scipy as sp\n",
    "import glob\n",
    "import re\n",
    "import random"
   ]
  },
  {
   "cell_type": "code",
   "execution_count": 2,
   "metadata": {},
   "outputs": [],
   "source": [
    "root = \"/data/gpfs/assoc/denovo/PHHA/\""
   ]
  },
  {
   "cell_type": "code",
   "execution_count": 3,
   "metadata": {},
   "outputs": [
    {
     "name": "stdout",
     "output_type": "stream",
     "text": [
      "/data/gpfs/assoc/denovo/PHHA\n"
     ]
    }
   ],
   "source": [
    "cd $root"
   ]
  },
  {
   "cell_type": "markdown",
   "metadata": {},
   "source": [
    "### Create mgpl & pntest files with associated dir "
   ]
  },
  {
   "cell_type": "code",
   "execution_count": 4,
   "metadata": {},
   "outputs": [],
   "source": [
    "!mkdir entropy_tf"
   ]
  },
  {
   "cell_type": "code",
   "execution_count": 5,
   "metadata": {},
   "outputs": [],
   "source": [
    "ent_dir =os.path.join(root,'entropy_tf')\n",
    "assert ent_dir"
   ]
  },
  {
   "cell_type": "code",
   "execution_count": 6,
   "metadata": {},
   "outputs": [
    {
     "name": "stdout",
     "output_type": "stream",
     "text": [
      "/data/gpfs/assoc/denovo/PHHA/entropy_tf\n"
     ]
    }
   ],
   "source": [
    "cd $ent_dir"
   ]
  },
  {
   "cell_type": "markdown",
   "metadata": {},
   "source": [
    "#### copy good_snps.recode.vcf.gz from filtering"
   ]
  },
  {
   "cell_type": "code",
   "execution_count": 7,
   "metadata": {},
   "outputs": [],
   "source": [
    "!cp ../SNPcall_tf/filtering/good_snps.recode.vcf.gz ."
   ]
  },
  {
   "cell_type": "code",
   "execution_count": 8,
   "metadata": {},
   "outputs": [],
   "source": [
    "!gunzip 'good_snps.recode.vcf.gz'"
   ]
  },
  {
   "cell_type": "code",
   "execution_count": 9,
   "metadata": {},
   "outputs": [
    {
     "data": {
      "text/plain": [
       "'good_snps.recode.vcf'"
      ]
     },
     "execution_count": 9,
     "metadata": {},
     "output_type": "execute_result"
    }
   ],
   "source": [
    "vcf = 'good_snps.recode.vcf'\n",
    "vcf"
   ]
  },
  {
   "cell_type": "code",
   "execution_count": 10,
   "metadata": {},
   "outputs": [],
   "source": [
    "perl_mpgl = '/data/gpfs/assoc/denovo/src/perl_scripts/vcf2mpgl_universal.pl'\n",
    "perl_mean = '/data/gpfs/assoc/denovo/src/perl_scripts/gl2genest_universal.pl'"
   ]
  },
  {
   "cell_type": "code",
   "execution_count": 11,
   "metadata": {},
   "outputs": [
    {
     "name": "stdout",
     "output_type": "stream",
     "text": [
      "Number of loci: 31652; number of individuals 245\r\n"
     ]
    }
   ],
   "source": [
    "!perl $perl_mpgl $vcf"
   ]
  },
  {
   "cell_type": "code",
   "execution_count": 12,
   "metadata": {},
   "outputs": [],
   "source": [
    "mpgl = 'good_snps.recode.mpgl'"
   ]
  },
  {
   "cell_type": "code",
   "execution_count": 13,
   "metadata": {},
   "outputs": [],
   "source": [
    "!perl $perl_mean $mpgl mean"
   ]
  },
  {
   "cell_type": "markdown",
   "metadata": {},
   "source": [
    "### Create ldak files in R"
   ]
  },
  {
   "cell_type": "code",
   "execution_count": 14,
   "metadata": {},
   "outputs": [],
   "source": [
    "%load_ext rpy2.ipython"
   ]
  },
  {
   "cell_type": "code",
   "execution_count": 16,
   "metadata": {},
   "outputs": [
    {
     "name": "stderr",
     "output_type": "stream",
     "text": [
      "R[write to console]: Loading required package: LEA\n",
      "\n"
     ]
    }
   ],
   "source": [
    "%%R\n",
    "require(readr)\n",
    "require(MASS)\n",
    "require(LEA)\n",
    "require(ggplot2)\n",
    "\n",
    "source('/data/gpfs/assoc/denovo/src/R/Imports.R')\n",
    "\n",
    "setwd('/data/gpfs/assoc/denovo/PHHA/entropy_tf')"
   ]
  },
  {
   "cell_type": "code",
   "execution_count": 18,
   "metadata": {},
   "outputs": [
    {
     "name": "stdout",
     "output_type": "stream",
     "text": [
      "  Pop ID      All\n",
      "1  AS 10 PH_AS_10\n",
      "2  AS 11 PH_AS_11\n",
      "3  AS 12 PH_AS_12\n",
      "4  AS  1  PH_AS_1\n",
      "5  AS  2  PH_AS_2\n",
      "6  AS  3  PH_AS_3\n",
      "[1] 26\n"
     ]
    }
   ],
   "source": [
    "%%R\n",
    "#create Pop_ID file \n",
    "\n",
    "indv<-read.table(\"../SNPcall_tf/filtering/good_snps.recode.vcf.gz.012.indv\",sep=\"\\t\")\n",
    "\n",
    "Pop_ID <- data.frame(Pop=rep(NA,times=nrow(indv)),\n",
    "                     ID=NA,\n",
    "                     All=NA)\n",
    "for (i in 1:nrow(indv)){\n",
    "    name_list <-unlist(strsplit(as.character(indv$V1[i]),\"_\"))\n",
    "    Pop_ID$Pop[i] <- name_list[2]\n",
    "    Pop_ID$ID[i] <- name_list[3]\n",
    "    Pop_ID$All[i] <- as.character(indv$V1[i])\n",
    "}\n",
    "print(head(Pop_ID))\n",
    "print(length(unique(Pop_ID$Pop)))\n",
    "write.csv(Pop_ID,'Pop_ID.csv',row.names=F)"
   ]
  },
  {
   "cell_type": "code",
   "execution_count": 19,
   "metadata": {},
   "outputs": [
    {
     "name": "stdout",
     "output_type": "stream",
     "text": [
      "[1] 31652   245\n"
     ]
    }
   ],
   "source": [
    "%%R\n",
    "g <- read.table(\"pntest_mean_good_snps.recode.txt\", header=F)\n",
    "dim(g)"
   ]
  },
  {
   "cell_type": "code",
   "execution_count": 20,
   "metadata": {},
   "outputs": [
    {
     "name": "stdout",
     "output_type": "stream",
     "text": [
      "    PC1     PC2     PC3     PC4     PC5 \n",
      "0.04176 0.02802 0.02326 0.01952 0.01620 \n"
     ]
    }
   ],
   "source": [
    "%%R\n",
    "Pop_ID <- read.csv(\"Pop_ID.csv\")\n",
    "pca_df <- PCA_entropy(t(g))"
   ]
  },
  {
   "cell_type": "code",
   "execution_count": 23,
   "metadata": {},
   "outputs": [
    {
     "data": {
      "image/png": "[encoded data removed]"
     },
     "metadata": {},
     "output_type": "display_data"
    }
   ],
   "source": [
    "%%R\n",
    "\n",
    "### check pntest_mean PCA looks okay\n",
    "pca_df <- cbind(pca_df[,1:10],Pop_ID)\n",
    "\n",
    "\n",
    "#colors gotten from using hard (force vector) setting: http://medialab.github.io/iwanthue/\n",
    "col26 <- c(\"#74ca36\",\"#4849cd\",\"#309500\",\"#cd5be0\",\"#02d69d\",\"#7a2ba4\",\n",
    "           \"#91d878\",\"#9d7dff\",\"#ffb040\",\"#026ae6\",\"#d54708\",\"#0088fc\",\n",
    "           \"#a46c00\",\"#a3b0ff\",\"#ff864b\",\"#0077b2\",\"#8e3707\",\"#e3a8ff\",\n",
    "           \"#008d6e\",\"#ff83e6\",\"#78a97f\",\"#b20056\",\"#f5b996\",\"#7e3a6a\",\n",
    "           \"#ff6d7d\",\"#7f4139\")\n",
    "ggplot(data = pca_df, aes(x=PC1,y=PC2,fill=as.character(Pop))) +\n",
    "  geom_point(pch=21,colour='black',size = 4) + \n",
    "  xlab(paste(\"PC\",1,\" (\",0.04176*100,\"%)\",sep=\"\")) + \n",
    "  ylab(paste(\"PC\",2,\" (\",0.02802*100,\"%)\",sep=\"\")) +\n",
    "  scale_fill_manual(name = 'Population:',values = col26) +\n",
    "  theme_bw() + \n",
    "  theme(#legend.position = 'none',\n",
    "        axis.text = element_text(size=13),\n",
    "        axis.title = element_text(size = 16, colour=\"black\",\n",
    "                                  face = \"bold\",vjust = 1),\n",
    "        panel.border = element_rect(size = 1.5, colour = \"black\"),\n",
    "        legend.text = element_text(size = 11),\n",
    "        legend.title = element_text(size = 13, face = \"bold\"),\n",
    "        panel.grid.major = element_blank(),\n",
    "        panel.grid.minor = element_blank())"
   ]
  },
  {
   "cell_type": "code",
   "execution_count": 24,
   "metadata": {},
   "outputs": [],
   "source": [
    "%%R\n",
    "#######################################################################################\n",
    "                                    #### LDA ####\n",
    "#######################################################################################\n",
    "\n",
    "k2<-kmeans(pca_df[,1:5],2,iter.max=10,nstart=10,algorithm=\"Hartigan-Wong\")\n",
    "k3<-kmeans(pca_df[,1:5],3,iter.max=10,nstart=10,algorithm=\"Hartigan-Wong\")\n",
    "k4<-kmeans(pca_df[,1:5],4,iter.max=10,nstart=10,algorithm=\"Hartigan-Wong\")\n",
    "k5<-kmeans(pca_df[,1:5],5,iter.max=10,nstart=10,algorithm=\"Hartigan-Wong\")\n",
    "k6<-kmeans(pca_df[,1:5],6,iter.max=10,nstart=10,algorithm=\"Hartigan-Wong\")\n",
    "k7<-kmeans(pca_df[,1:5],7,iter.max=10,nstart=10,algorithm=\"Hartigan-Wong\")\n",
    "k8<-kmeans(pca_df[,1:5],8,iter.max=10,nstart=10,algorithm=\"Hartigan-Wong\")\n",
    "k9<-kmeans(pca_df[,1:5],9,iter.max=10,nstart=10,algorithm=\"Hartigan-Wong\")\n",
    "k10<-kmeans(pca_df[,1:5],10,iter.max=10,nstart=10,algorithm=\"Hartigan-Wong\")\n",
    "k11<-kmeans(pca_df[,1:5],11,iter.max=10,nstart=10,algorithm=\"Hartigan-Wong\")\n",
    "\n",
    "ldak2<-lda(x=pca_df[,1:5],grouping=k2$cluster,CV=TRUE)\n",
    "ldak3<-lda(x=pca_df[,1:5],grouping=k3$cluster,CV=TRUE)\n",
    "ldak4<-lda(x=pca_df[,1:5],grouping=k4$cluster,CV=TRUE)\n",
    "ldak5<-lda(x=pca_df[,1:5],grouping=k5$cluster,CV=TRUE)\n",
    "ldak6<-lda(x=pca_df[,1:5],grouping=k6$cluster,CV=TRUE)\n",
    "ldak7<-lda(x=pca_df[,1:5],grouping=k7$cluster,CV=TRUE)\n",
    "ldak8<-lda(x=pca_df[,1:5],grouping=k8$cluster,CV=TRUE)\n",
    "ldak9<-lda(x=pca_df[,1:5],grouping=k9$cluster,CV=TRUE)\n",
    "ldak10<-lda(x=pca_df[,1:5],grouping=k10$cluster,CV=TRUE)\n",
    "ldak11<-lda(x=pca_df[,1:5],grouping=k11$cluster,CV=TRUE)\n",
    "\n",
    "write.table(round(ldak2$posterior,5),file=\"ldak2.txt\",quote=F,row.names=F,col.names=F)\n",
    "write.table(round(ldak3$posterior,5),file=\"ldak3.txt\",quote=F,row.names=F,col.names=F)\n",
    "write.table(round(ldak4$posterior,5),file=\"ldak4.txt\",quote=F,row.names=F,col.names=F)\n",
    "write.table(round(ldak5$posterior,5),file=\"ldak5.txt\",quote=F,row.names=F,col.names=F)\n",
    "write.table(round(ldak6$posterior,5),file=\"ldak6.txt\",quote=F,row.names=F,col.names=F)                                      \n",
    "write.table(round(ldak7$posterior,5),file=\"ldak7.txt\",quote=F,row.names=F,col.names=F)\n",
    "write.table(round(ldak8$posterior,5),file=\"ldak8.txt\",quote=F,row.names=F,col.names=F)\n",
    "write.table(round(ldak9$posterior,5),file=\"ldak9.txt\",quote=F,row.names=F,col.names=F)\n",
    "write.table(round(ldak10$posterior,5),file=\"ldak10.txt\",quote=F,row.names=F,col.names=F)\n",
    "write.table(round(ldak11$posterior,5),file=\"ldak11.txt\",quote=F,row.names=F,col.names=F)\n"
   ]
  },
  {
   "cell_type": "code",
   "execution_count": 25,
   "metadata": {},
   "outputs": [],
   "source": [
    "%%R\n",
    "######### create entropy header ####\n",
    "\n",
    "Pop_ID_list <- paste(Pop_ID$Pop,Pop_ID$ID,sep='_')\n",
    "\n",
    "Header <- data.frame(dims = NA,Pop_ID_list)\n",
    "\n",
    "dim(g)\n",
    "\n",
    "df <- t(Header)\n",
    "dims <- paste(dim(g)[2],dim(g)[1],sep = \" \")\n",
    "\n",
    "df[1,1] <- dims\n",
    "\n",
    "write.table(df,'entropy_header.txt',sep = \" \",na =\"\",\n",
    "            quote = FALSE,row.names = FALSE,col.names = FALSE)"
   ]
  },
  {
   "cell_type": "code",
   "execution_count": 26,
   "metadata": {},
   "outputs": [
    {
     "name": "stdout",
     "output_type": "stream",
     "text": [
      "245 31652                                                                                                                                                                                                                                                    \r\n",
      "AS_10 AS_11 AS_12 AS_1 AS_2 AS_3 AS_4 AS_5 AS_6 AS_7 AS_8 AS_9 BA_10 BA_1 BA_2 BA_3 BA_4 BA_5 BA_7 BA_9 BB_10 BB_1 BB_2 BB_3 BB_4 BB_5 BB_6 BB_7 BB_8 BB_9 BC_10 BC_11 BC_1 BC_2 BC_3 BC_4 BC_5 BC_6 BC_7 BC_8 BC_9 CA_10 CA_12 CA_1 CA_2 CA_3 CA_4 CA_6 CA_7 CA_8 CR_10 CR_11 CR_12 CR_1 CR_2 CR_3 CR_4 CR_5 CR_6 CR_7 CR_8 CR_9 DA_2 DA_5 DA_6 DA_7 DA_8 FC_10 FC_11 FC_12 FC_1 FC_2 FC_4 FC_6 FC_8 FC_9 FV_10 FV_11 FV_12 FV_1 FV_2 FV_4 FV_5 FV_6 FV_7 FV_8 FV_9 GB_10 GB_11 GB_12 GB_1 GB_5 GB_6 GB_8 GB_9 KC_10 KC_11 KC_1 KC_2 KC_3 KC_4 KC_5 KC_6 KC_7 KC_8 KC_9 MC_10 MC_11 MC_12 MC_5 MC_6 MC_7 MC_8 MC_9 ML_10 ML_11 ML_12 ML_1 ML_2 ML_3 ML_4 ML_5 ML_6 ML_8 OF_10 OF_11 OF_12 OF_3 OF_4 OF_5 OF_6 OF_7 PC_10 PC_11 PC_12 PC_1 PC_2 PC_3 PC_4 PC_5 PC_6 PC_7 PC_8 PC_9 PM_10 PM_11 PM_12 PM_1 PM_2 PM_3 PM_4 PM_6 PM_7 PM_8 PM_9 PR_11 PR_12 PR_1 PR_2 PR_3 PR_4 PR_5 PR_6 PR_8 PT_12 PT_2 PT_9 SB_10 SB_1 SB_2 SB_3 SB_4 SB_6 SB_7 SB_9 SC_10 SC_11 SC_12 SC_1 SC_2 SC_3 SC_7 SC_8 SC_9 SH_10 SH_1 SH_2 SH_3 SH_5 SH_6 SH_7 SL_10 SL_11 SL_12 SL_1 SL_2 SL_3 SL_4 SL_6 SL_7 SL_8 SL_9 TB_10 TB_12 TB_1 TB_2 TB_3 TB_4 TB_6 TB_7 TB_8 TB_9 WC_10 WC_11 WC_1 WC_2 WC_3 WC_5 WC_6 WC_7 WC_8 WC_9 WF_10 WF_11 WF_12 WF_1 WF_2 WF_3 WF_4 WF_5 WF_6 WF_8 WF_9 WH_10 WH_11 WH_12 WH_1 WH_2 WH_3 WH_4 WH_5 WH_6 WH_7 WH_8 WH_9\r\n"
     ]
    }
   ],
   "source": [
    "!head entropy_header.txt"
   ]
  },
  {
   "cell_type": "code",
   "execution_count": 27,
   "metadata": {},
   "outputs": [],
   "source": [
    "!cat entropy_header.txt good_snps.recode.mpgl > entropy.mpgl"
   ]
  },
  {
   "cell_type": "code",
   "execution_count": 28,
   "metadata": {},
   "outputs": [
    {
     "name": "stdout",
     "output_type": "stream",
     "text": [
      "/data/gpfs/assoc/denovo/PHHA/entropy_tf\n"
     ]
    }
   ],
   "source": [
    "cd $ent_dir"
   ]
  },
  {
   "cell_type": "code",
   "execution_count": 29,
   "metadata": {},
   "outputs": [],
   "source": [
    "!mkdir shdir"
   ]
  },
  {
   "cell_type": "code",
   "execution_count": 30,
   "metadata": {},
   "outputs": [],
   "source": [
    "### select slurm options\n",
    "account = 'cpu-s5-denovo-0'\n",
    "partition = 'cpu-core-0'\n",
    "time = '8-00:00:00' #time limit 4\n",
    "cpus = 4 #to prevent hammering one node\n",
    "mem_cpu = 8000\n",
    "email = 'tfaske@nevada.unr.edu'\n",
    "\n",
    "#entropy settings\n",
    "l = 60000\n",
    "b = 10000\n",
    "num_k = [2,3,4,5,6,7,8,9]\n",
    "chains = 4"
   ]
  },
  {
   "cell_type": "markdown",
   "metadata": {},
   "source": [
    "**Note:** Random seed needs to be created for each chain. Most programs use the clock as the seed, which is typically fine but since the clock on the HPC only goes to minutes and we are running everything at the same time, all the seeds are the same. Giving you the same exact seed. "
   ]
  },
  {
   "cell_type": "code",
   "execution_count": 31,
   "metadata": {},
   "outputs": [],
   "source": [
    "def write_entropy_sh(account,partition,time,cpus,mem_cpu,email,l,b,num_k,chains):\n",
    "    for k in num_k:\n",
    "        for c in range(1,chains+1):\n",
    "            jobname = 'k%d_c%d' % (k,c)\n",
    "            seed = random.randint(1000,9999) #default is clock so messes up if submitted same time \n",
    "            with open(\"shdir/run_entropy_%s.sh\" % (jobname), \"w\") as o:\n",
    "                o.write(\"\"\"#!/usr/bin/env bash\n",
    "#SBATCH --account=%s\n",
    "#SBATCH --partition=%s\n",
    "#SBATCH --time=%s\n",
    "#SBATCH --ntasks 1\n",
    "#SBATCH --cpus-per-task %d\n",
    "#SBATCH --mem-per-cpu=%d\n",
    "#SBATCH --job-name ent_%s\n",
    "#SBATCH --output output_%s.txt\n",
    "#SBATCH --mail-type=END\n",
    "#SBATCH --mail-user=%s\\n\\n\"\"\" % (account,partition,time,cpus,mem_cpu,jobname,jobname,email))\n",
    "        \n",
    "                o.write(\"entropy -i ../entropy.mpgl -o ../entropy_%s.hdf5 -r %d -n 2 -l %d -b %d -t 10 -s 50 -e .01 -k %d -q ../ldak%d.txt -m 1 -w 0\"\n",
    "                        % (jobname,seed,l,b,k,k))\n",
    "    "
   ]
  },
  {
   "cell_type": "code",
   "execution_count": 32,
   "metadata": {},
   "outputs": [],
   "source": [
    "write_entropy_sh(account,partition,time,cpus,mem_cpu,email,l,b,num_k,chains)"
   ]
  },
  {
   "cell_type": "code",
   "execution_count": 33,
   "metadata": {},
   "outputs": [
    {
     "data": {
      "text/plain": [
       "['/data/gpfs/assoc/denovo/PHHA/entropy_tf/shdir/run_entropy_k2_c1.sh',\n",
       " '/data/gpfs/assoc/denovo/PHHA/entropy_tf/shdir/run_entropy_k2_c2.sh',\n",
       " '/data/gpfs/assoc/denovo/PHHA/entropy_tf/shdir/run_entropy_k2_c3.sh',\n",
       " '/data/gpfs/assoc/denovo/PHHA/entropy_tf/shdir/run_entropy_k2_c4.sh',\n",
       " '/data/gpfs/assoc/denovo/PHHA/entropy_tf/shdir/run_entropy_k3_c1.sh',\n",
       " '/data/gpfs/assoc/denovo/PHHA/entropy_tf/shdir/run_entropy_k3_c2.sh',\n",
       " '/data/gpfs/assoc/denovo/PHHA/entropy_tf/shdir/run_entropy_k3_c3.sh',\n",
       " '/data/gpfs/assoc/denovo/PHHA/entropy_tf/shdir/run_entropy_k3_c4.sh',\n",
       " '/data/gpfs/assoc/denovo/PHHA/entropy_tf/shdir/run_entropy_k4_c1.sh',\n",
       " '/data/gpfs/assoc/denovo/PHHA/entropy_tf/shdir/run_entropy_k4_c2.sh',\n",
       " '/data/gpfs/assoc/denovo/PHHA/entropy_tf/shdir/run_entropy_k4_c3.sh',\n",
       " '/data/gpfs/assoc/denovo/PHHA/entropy_tf/shdir/run_entropy_k4_c4.sh',\n",
       " '/data/gpfs/assoc/denovo/PHHA/entropy_tf/shdir/run_entropy_k5_c1.sh',\n",
       " '/data/gpfs/assoc/denovo/PHHA/entropy_tf/shdir/run_entropy_k5_c2.sh',\n",
       " '/data/gpfs/assoc/denovo/PHHA/entropy_tf/shdir/run_entropy_k5_c3.sh',\n",
       " '/data/gpfs/assoc/denovo/PHHA/entropy_tf/shdir/run_entropy_k5_c4.sh',\n",
       " '/data/gpfs/assoc/denovo/PHHA/entropy_tf/shdir/run_entropy_k6_c1.sh',\n",
       " '/data/gpfs/assoc/denovo/PHHA/entropy_tf/shdir/run_entropy_k6_c2.sh',\n",
       " '/data/gpfs/assoc/denovo/PHHA/entropy_tf/shdir/run_entropy_k6_c3.sh',\n",
       " '/data/gpfs/assoc/denovo/PHHA/entropy_tf/shdir/run_entropy_k6_c4.sh',\n",
       " '/data/gpfs/assoc/denovo/PHHA/entropy_tf/shdir/run_entropy_k7_c1.sh',\n",
       " '/data/gpfs/assoc/denovo/PHHA/entropy_tf/shdir/run_entropy_k7_c2.sh',\n",
       " '/data/gpfs/assoc/denovo/PHHA/entropy_tf/shdir/run_entropy_k7_c3.sh',\n",
       " '/data/gpfs/assoc/denovo/PHHA/entropy_tf/shdir/run_entropy_k7_c4.sh',\n",
       " '/data/gpfs/assoc/denovo/PHHA/entropy_tf/shdir/run_entropy_k8_c1.sh',\n",
       " '/data/gpfs/assoc/denovo/PHHA/entropy_tf/shdir/run_entropy_k8_c2.sh',\n",
       " '/data/gpfs/assoc/denovo/PHHA/entropy_tf/shdir/run_entropy_k8_c3.sh',\n",
       " '/data/gpfs/assoc/denovo/PHHA/entropy_tf/shdir/run_entropy_k8_c4.sh',\n",
       " '/data/gpfs/assoc/denovo/PHHA/entropy_tf/shdir/run_entropy_k9_c1.sh',\n",
       " '/data/gpfs/assoc/denovo/PHHA/entropy_tf/shdir/run_entropy_k9_c2.sh',\n",
       " '/data/gpfs/assoc/denovo/PHHA/entropy_tf/shdir/run_entropy_k9_c3.sh',\n",
       " '/data/gpfs/assoc/denovo/PHHA/entropy_tf/shdir/run_entropy_k9_c4.sh']"
      ]
     },
     "execution_count": 33,
     "metadata": {},
     "output_type": "execute_result"
    }
   ],
   "source": [
    "entShells = !find $ent_dir -name 'run_entropy*.sh'\n",
    "entShells = entShells.sort()\n",
    "entShells"
   ]
  },
  {
   "cell_type": "code",
   "execution_count": 34,
   "metadata": {},
   "outputs": [],
   "source": [
    "def write_sbatch_entShells(entShells):\n",
    "         with open(\"shdir/sbatch_entropy.sh\", \"w\") as o:\n",
    "            o.write(\"\"\"#!/usr/bin/env bash \\n\"\"\")\n",
    "            for sh in entShells:\n",
    "                o.write(\"\"\"sbatch %s\\n\"\"\" % (sh))"
   ]
  },
  {
   "cell_type": "code",
   "execution_count": 35,
   "metadata": {},
   "outputs": [],
   "source": [
    "write_sbatch_entShells(entShells)"
   ]
  },
  {
   "cell_type": "markdown",
   "metadata": {},
   "source": [
    "# Run all entropy*sh\n",
    "    cd /data/gpfs/home/tfaske/d/milkweed/entropy/shdir\n",
    "    source activate entropy\n",
    "    bash sbatch_entropy.sh"
   ]
  },
  {
   "cell_type": "markdown",
   "metadata": {},
   "source": [
    "# Use estpost to get DIC, q, and gprob"
   ]
  },
  {
   "cell_type": "code",
   "execution_count": 47,
   "metadata": {},
   "outputs": [],
   "source": [
    "np.set_printoptions(precision=8) # increases float print option\n",
    "pd.set_option(\"precision\", 8)"
   ]
  },
  {
   "cell_type": "code",
   "execution_count": 48,
   "metadata": {},
   "outputs": [
    {
     "name": "stdout",
     "output_type": "stream",
     "text": [
      "/data/gpfs/assoc/denovo/PHHA/entropy_tf\n"
     ]
    }
   ],
   "source": [
    "cd $ent_dir"
   ]
  },
  {
   "cell_type": "code",
   "execution_count": 49,
   "metadata": {},
   "outputs": [
    {
     "data": {
      "text/plain": [
       "['./entropy_k2_c1.hdf5',\n",
       " './entropy_k2_c2.hdf5',\n",
       " './entropy_k2_c3.hdf5',\n",
       " './entropy_k2_c4.hdf5',\n",
       " './entropy_k3_c1.hdf5',\n",
       " './entropy_k3_c2.hdf5',\n",
       " './entropy_k3_c3.hdf5',\n",
       " './entropy_k3_c4.hdf5',\n",
       " './entropy_k4_c1.hdf5',\n",
       " './entropy_k4_c2.hdf5',\n",
       " './entropy_k4_c3.hdf5',\n",
       " './entropy_k4_c4.hdf5',\n",
       " './entropy_k5_c1.hdf5',\n",
       " './entropy_k5_c2.hdf5',\n",
       " './entropy_k5_c3.hdf5',\n",
       " './entropy_k5_c4.hdf5',\n",
       " './entropy_k6_c1.hdf5',\n",
       " './entropy_k6_c2.hdf5',\n",
       " './entropy_k6_c3.hdf5',\n",
       " './entropy_k6_c4.hdf5',\n",
       " './entropy_k7_c1.hdf5',\n",
       " './entropy_k7_c2.hdf5',\n",
       " './entropy_k7_c3.hdf5',\n",
       " './entropy_k7_c4.hdf5',\n",
       " './entropy_k8_c1.hdf5',\n",
       " './entropy_k8_c2.hdf5',\n",
       " './entropy_k8_c3.hdf5',\n",
       " './entropy_k8_c4.hdf5',\n",
       " './entropy_k9_c1.hdf5',\n",
       " './entropy_k9_c2.hdf5',\n",
       " './entropy_k9_c3.hdf5',\n",
       " './entropy_k9_c4.hdf5']"
      ]
     },
     "execution_count": 49,
     "metadata": {},
     "output_type": "execute_result"
    }
   ],
   "source": [
    "hdf5_files = !find . -name '*hdf5'\n",
    "hdf5_files = hdf5_files.sort()\n",
    "hdf5_files"
   ]
  },
  {
   "cell_type": "code",
   "execution_count": 50,
   "metadata": {},
   "outputs": [],
   "source": [
    "estpost = '/data/gpfs/home/tfaske/g/anaconda3/envs/entropy/bin/estpost.entropy'"
   ]
  },
  {
   "cell_type": "code",
   "execution_count": 51,
   "metadata": {},
   "outputs": [],
   "source": [
    "#make DIC\n",
    "for i in range(0,len(hdf5_files)):\n",
    "    f = hdf5_files[i]\n",
    "    k = f.split('_')[1] #set this \n",
    "    c = f.split('_')[2].split('.hdf5')[0]\n",
    "    #print(k,c)\n",
    "    dic = \"DIC_%s_%s.txt\" % (k,c)\n",
    "    !$estpost $f -s 3 -p deviance > $dic"
   ]
  },
  {
   "cell_type": "code",
   "execution_count": 52,
   "metadata": {},
   "outputs": [
    {
     "data": {
      "text/plain": [
       "['./DIC_k2_c4.txt',\n",
       " './DIC_k7_c2.txt',\n",
       " './DIC_k2_c1.txt',\n",
       " './DIC_k6_c1.txt',\n",
       " './DIC_k3_c2.txt',\n",
       " './DIC_k4_c4.txt',\n",
       " './DIC_k4_c2.txt',\n",
       " './DIC_k7_c1.txt',\n",
       " './DIC_k7_c4.txt',\n",
       " './DIC_k5_c2.txt',\n",
       " './DIC_k6_c2.txt',\n",
       " './DIC_k4_c3.txt',\n",
       " './DIC_k7_c3.txt',\n",
       " './DIC_k3_c1.txt',\n",
       " './DIC_k2_c2.txt',\n",
       " './DIC_k5_c4.txt',\n",
       " './DIC_k8_c4.txt',\n",
       " './DIC_k6_c3.txt',\n",
       " './DIC_k8_c3.txt',\n",
       " './DIC_k8_c1.txt',\n",
       " './DIC_k4_c1.txt',\n",
       " './DIC_k2_c3.txt',\n",
       " './DIC_k8_c2.txt',\n",
       " './DIC_k9_c3.txt',\n",
       " './DIC_k9_c2.txt',\n",
       " './DIC_k6_c4.txt',\n",
       " './DIC_k3_c4.txt',\n",
       " './DIC_k9_c1.txt',\n",
       " './DIC_k5_c1.txt',\n",
       " './DIC_k3_c3.txt',\n",
       " './DIC_k5_c3.txt',\n",
       " './DIC_k9_c4.txt']"
      ]
     },
     "execution_count": 52,
     "metadata": {},
     "output_type": "execute_result"
    }
   ],
   "source": [
    "dic_files = !find . -name 'DIC*'\n",
    "dic_files"
   ]
  },
  {
   "cell_type": "code",
   "execution_count": 53,
   "metadata": {},
   "outputs": [
    {
     "name": "stdout",
     "output_type": "stream",
     "text": [
      "file = ./entropy_k2_c4.hdf5\n",
      "parameter dimensions for deviance: samples = 5000, chains = 1\n",
      "Model deviance: 11458252.40\n",
      "Effective number of parameters: 9305543.01\n",
      "Model DIC: 20763795.41\n",
      "\n",
      "\n",
      "file = ./entropy_k7_c2.hdf5\n",
      "parameter dimensions for deviance: samples = 5000, chains = 1\n",
      "Model deviance: 10407941.47\n",
      "Effective number of parameters: 23026081.36\n",
      "Model DIC: 33434022.83\n",
      "\n",
      "\n",
      "file = ./entropy_k2_c1.hdf5\n",
      "parameter dimensions for deviance: samples = 5000, chains = 1\n",
      "Model deviance: 11458907.23\n",
      "Effective number of parameters: 8617003.97\n",
      "Model DIC: 20075911.20\n",
      "\n",
      "\n",
      "file = ./entropy_k6_c1.hdf5\n",
      "parameter dimensions for deviance: samples = 5000, chains = 1\n",
      "Model deviance: 10544115.67\n",
      "Effective number of parameters: 13100007.87\n",
      "Model DIC: 23644123.55\n",
      "\n",
      "\n",
      "file = ./entropy_k3_c2.hdf5\n",
      "parameter dimensions for deviance: samples = 5000, chains = 1\n",
      "Model deviance: 11106780.05\n",
      "Effective number of parameters: 365354740.38\n",
      "Model DIC: 376461520.43\n",
      "\n",
      "\n",
      "file = ./entropy_k4_c4.hdf5\n",
      "parameter dimensions for deviance: samples = 5000, chains = 1\n",
      "Model deviance: 10845620.91\n",
      "Effective number of parameters: 13416037.10\n",
      "Model DIC: 24261658.01\n",
      "\n",
      "\n",
      "file = ./entropy_k4_c2.hdf5\n",
      "parameter dimensions for deviance: samples = 5000, chains = 1\n",
      "Model deviance: 10846125.38\n",
      "Effective number of parameters: 14860153.55\n",
      "Model DIC: 25706278.93\n",
      "\n",
      "\n",
      "file = ./entropy_k7_c1.hdf5\n",
      "parameter dimensions for deviance: samples = 5000, chains = 1\n",
      "Model deviance: 10407416.48\n",
      "Effective number of parameters: 15933382.56\n",
      "Model DIC: 26340799.04\n",
      "\n",
      "\n",
      "file = ./entropy_k7_c4.hdf5\n",
      "parameter dimensions for deviance: samples = 5000, chains = 1\n",
      "Model deviance: 10406334.45\n",
      "Effective number of parameters: 14071597.30\n",
      "Model DIC: 24477931.74\n",
      "\n",
      "\n",
      "file = ./entropy_k5_c2.hdf5\n",
      "parameter dimensions for deviance: samples = 5000, chains = 1\n",
      "Model deviance: 10636845.30\n",
      "Effective number of parameters: 13252316.03\n",
      "Model DIC: 23889161.34\n",
      "\n",
      "\n",
      "file = ./entropy_k6_c2.hdf5\n",
      "parameter dimensions for deviance: samples = 5000, chains = 1\n",
      "Model deviance: 10544176.45\n",
      "Effective number of parameters: 12043615.23\n",
      "Model DIC: 22587791.68\n",
      "\n",
      "\n",
      "file = ./entropy_k4_c3.hdf5\n",
      "parameter dimensions for deviance: samples = 5000, chains = 1\n",
      "Model deviance: 10845731.30\n",
      "Effective number of parameters: 14570981.63\n",
      "Model DIC: 25416712.93\n",
      "\n",
      "\n",
      "file = ./entropy_k7_c3.hdf5\n",
      "parameter dimensions for deviance: samples = 5000, chains = 1\n",
      "Model deviance: 10409029.48\n",
      "Effective number of parameters: 12864296.70\n",
      "Model DIC: 23273326.17\n",
      "\n",
      "\n",
      "file = ./entropy_k3_c1.hdf5\n",
      "parameter dimensions for deviance: samples = 5000, chains = 1\n",
      "Model deviance: 11111322.17\n",
      "Effective number of parameters: 268394400.01\n",
      "Model DIC: 279505722.19\n",
      "\n",
      "\n",
      "file = ./entropy_k2_c2.hdf5\n",
      "parameter dimensions for deviance: samples = 5000, chains = 1\n",
      "Model deviance: 11458429.73\n",
      "Effective number of parameters: 10317825.57\n",
      "Model DIC: 21776255.30\n",
      "\n",
      "\n",
      "file = ./entropy_k5_c4.hdf5\n",
      "parameter dimensions for deviance: samples = 5000, chains = 1\n",
      "Model deviance: 10637377.83\n",
      "Effective number of parameters: 12754964.67\n",
      "Model DIC: 23392342.49\n",
      "\n",
      "\n",
      "file = ./entropy_k8_c4.hdf5\n",
      "parameter dimensions for deviance: samples = 5000, chains = 1\n",
      "Model deviance: 10293595.92\n",
      "Effective number of parameters: 15719621.18\n",
      "Model DIC: 26013217.10\n",
      "\n",
      "\n",
      "file = ./entropy_k6_c3.hdf5\n",
      "parameter dimensions for deviance: samples = 5000, chains = 1\n",
      "Model deviance: 10543336.13\n",
      "Effective number of parameters: 15190241.08\n",
      "Model DIC: 25733577.20\n",
      "\n",
      "\n",
      "file = ./entropy_k8_c3.hdf5\n",
      "parameter dimensions for deviance: samples = 5000, chains = 1\n",
      "Model deviance: 10294184.69\n",
      "Effective number of parameters: 14330296.53\n",
      "Model DIC: 24624481.22\n",
      "\n",
      "\n",
      "file = ./entropy_k8_c1.hdf5\n",
      "parameter dimensions for deviance: samples = 5000, chains = 1\n",
      "Model deviance: 10293827.83\n",
      "Effective number of parameters: 14068478.35\n",
      "Model DIC: 24362306.18\n",
      "\n",
      "\n",
      "file = ./entropy_k4_c1.hdf5\n",
      "parameter dimensions for deviance: samples = 5000, chains = 1\n",
      "Model deviance: 10845810.14\n",
      "Effective number of parameters: 13069337.56\n",
      "Model DIC: 23915147.70\n",
      "\n",
      "\n",
      "file = ./entropy_k2_c3.hdf5\n",
      "parameter dimensions for deviance: samples = 5000, chains = 1\n",
      "Model deviance: 11458693.97\n",
      "Effective number of parameters: 9338922.92\n",
      "Model DIC: 20797616.89\n",
      "\n",
      "\n",
      "file = ./entropy_k8_c2.hdf5\n",
      "parameter dimensions for deviance: samples = 5000, chains = 1\n",
      "Model deviance: 10294238.60\n",
      "Effective number of parameters: 14222952.74\n",
      "Model DIC: 24517191.34\n",
      "\n",
      "\n",
      "file = ./entropy_k9_c3.hdf5\n",
      "parameter dimensions for deviance: samples = 5000, chains = 1\n",
      "Model deviance: 10206781.59\n",
      "Effective number of parameters: 17898139.61\n",
      "Model DIC: 28104921.20\n",
      "\n",
      "\n",
      "file = ./entropy_k9_c2.hdf5\n",
      "parameter dimensions for deviance: samples = 5000, chains = 1\n",
      "Model deviance: 10207203.10\n",
      "Effective number of parameters: 20579867.50\n",
      "Model DIC: 30787070.60\n",
      "\n",
      "\n",
      "file = ./entropy_k6_c4.hdf5\n",
      "parameter dimensions for deviance: samples = 5000, chains = 1\n",
      "Model deviance: 10543536.82\n",
      "Effective number of parameters: 15018977.93\n",
      "Model DIC: 25562514.75\n",
      "\n",
      "\n",
      "file = ./entropy_k3_c4.hdf5\n",
      "parameter dimensions for deviance: samples = 5000, chains = 1\n",
      "Model deviance: 11110181.61\n",
      "Effective number of parameters: 283220741.25\n",
      "Model DIC: 294330922.86\n",
      "\n",
      "\n",
      "file = ./entropy_k9_c1.hdf5\n",
      "parameter dimensions for deviance: samples = 5000, chains = 1\n",
      "Model deviance: 10204835.30\n",
      "Effective number of parameters: 14427269.84\n",
      "Model DIC: 24632105.14\n",
      "\n",
      "\n",
      "file = ./entropy_k5_c1.hdf5\n",
      "parameter dimensions for deviance: samples = 5000, chains = 1\n",
      "Model deviance: 10636091.85\n",
      "Effective number of parameters: 14116332.50\n",
      "Model DIC: 24752424.35\n",
      "\n",
      "\n",
      "file = ./entropy_k3_c3.hdf5\n",
      "parameter dimensions for deviance: samples = 5000, chains = 1\n",
      "Model deviance: 11108309.41\n",
      "Effective number of parameters: 301725568.35\n",
      "Model DIC: 312833877.77\n",
      "\n",
      "\n",
      "file = ./entropy_k5_c3.hdf5\n",
      "parameter dimensions for deviance: samples = 5000, chains = 1\n",
      "Model deviance: 10635401.43\n",
      "Effective number of parameters: 14110383.42\n",
      "Model DIC: 24745784.85\n",
      "\n",
      "\n",
      "file = ./entropy_k9_c4.hdf5\n",
      "parameter dimensions for deviance: samples = 5000, chains = 1\n",
      "Model deviance: 10205879.81\n",
      "Effective number of parameters: 19027784.31\n",
      "Model DIC: 29233664.12\n",
      "\n",
      "\n"
     ]
    }
   ],
   "source": [
    "for d in dic_files:\n",
    "    !cat $d\n",
    "    print('\\n')"
   ]
  },
  {
   "cell_type": "code",
   "execution_count": 54,
   "metadata": {},
   "outputs": [
    {
     "data": {
      "text/html": [
       "<div>\n",
       "<style scoped>\n",
       "    .dataframe tbody tr th:only-of-type {\n",
       "        vertical-align: middle;\n",
       "    }\n",
       "\n",
       "    .dataframe tbody tr th {\n",
       "        vertical-align: top;\n",
       "    }\n",
       "\n",
       "    .dataframe thead th {\n",
       "        text-align: right;\n",
       "    }\n",
       "</style>\n",
       "<table border=\"1\" class=\"dataframe\">\n",
       "  <thead>\n",
       "    <tr style=\"text-align: right;\">\n",
       "      <th></th>\n",
       "      <th>k</th>\n",
       "      <th>DIC</th>\n",
       "      <th>chain</th>\n",
       "    </tr>\n",
       "  </thead>\n",
       "  <tbody>\n",
       "    <tr>\n",
       "      <th>0</th>\n",
       "      <td>2</td>\n",
       "      <td>2.07637954e+07</td>\n",
       "      <td>4</td>\n",
       "    </tr>\n",
       "    <tr>\n",
       "      <th>1</th>\n",
       "      <td>7</td>\n",
       "      <td>3.34340228e+07</td>\n",
       "      <td>2</td>\n",
       "    </tr>\n",
       "    <tr>\n",
       "      <th>2</th>\n",
       "      <td>2</td>\n",
       "      <td>2.00759112e+07</td>\n",
       "      <td>1</td>\n",
       "    </tr>\n",
       "    <tr>\n",
       "      <th>3</th>\n",
       "      <td>6</td>\n",
       "      <td>2.36441236e+07</td>\n",
       "      <td>1</td>\n",
       "    </tr>\n",
       "    <tr>\n",
       "      <th>4</th>\n",
       "      <td>3</td>\n",
       "      <td>3.76461520e+08</td>\n",
       "      <td>2</td>\n",
       "    </tr>\n",
       "  </tbody>\n",
       "</table>\n",
       "</div>"
      ],
      "text/plain": [
       "   k             DIC chain\n",
       "0  2  2.07637954e+07     4\n",
       "1  7  3.34340228e+07     2\n",
       "2  2  2.00759112e+07     1\n",
       "3  6  2.36441236e+07     1\n",
       "4  3  3.76461520e+08     2"
      ]
     },
     "execution_count": 54,
     "metadata": {},
     "output_type": "execute_result"
    }
   ],
   "source": [
    "dic_list = []\n",
    "for d in dic_files:\n",
    "    k = d.split('_k')[1].split('_')[0] #set this \n",
    "    c = d.split('_c')[1].split('.txt')[0]\n",
    "    #print(k,c)\n",
    "    \n",
    "    dic = !grep 'DIC' $d\n",
    "    dic = float(re.search('(\\d+.\\d+)',str(dic)).group(0))\n",
    "    #print(dic)\n",
    "    \n",
    "    dic_list.append([k,dic,c])\n",
    "dic_df = pd.DataFrame(dic_list,columns=['k','DIC','chain'])\n",
    "dic_df.head()"
   ]
  },
  {
   "cell_type": "code",
   "execution_count": 55,
   "metadata": {},
   "outputs": [],
   "source": [
    "dic_df.to_csv('dic_list.csv')"
   ]
  },
  {
   "cell_type": "code",
   "execution_count": 56,
   "metadata": {},
   "outputs": [],
   "source": [
    "dic_sum = dic_df.groupby('k').describe().DIC"
   ]
  },
  {
   "cell_type": "code",
   "execution_count": 57,
   "metadata": {},
   "outputs": [
    {
     "data": {
      "text/html": [
       "<div>\n",
       "<style scoped>\n",
       "    .dataframe tbody tr th:only-of-type {\n",
       "        vertical-align: middle;\n",
       "    }\n",
       "\n",
       "    .dataframe tbody tr th {\n",
       "        vertical-align: top;\n",
       "    }\n",
       "\n",
       "    .dataframe thead th {\n",
       "        text-align: right;\n",
       "    }\n",
       "</style>\n",
       "<table border=\"1\" class=\"dataframe\">\n",
       "  <thead>\n",
       "    <tr style=\"text-align: right;\">\n",
       "      <th></th>\n",
       "      <th>count</th>\n",
       "      <th>mean</th>\n",
       "      <th>std</th>\n",
       "      <th>min</th>\n",
       "      <th>25%</th>\n",
       "      <th>50%</th>\n",
       "      <th>75%</th>\n",
       "      <th>max</th>\n",
       "    </tr>\n",
       "    <tr>\n",
       "      <th>k</th>\n",
       "      <th></th>\n",
       "      <th></th>\n",
       "      <th></th>\n",
       "      <th></th>\n",
       "      <th></th>\n",
       "      <th></th>\n",
       "      <th></th>\n",
       "      <th></th>\n",
       "    </tr>\n",
       "  </thead>\n",
       "  <tbody>\n",
       "    <tr>\n",
       "      <th>2</th>\n",
       "      <td>4.0</td>\n",
       "      <td>2.08533947e+07</td>\n",
       "      <td>6.99354816e+05</td>\n",
       "      <td>20075911.20</td>\n",
       "      <td>2.05918244e+07</td>\n",
       "      <td>20780706.150</td>\n",
       "      <td>2.10422765e+07</td>\n",
       "      <td>2.17762553e+07</td>\n",
       "    </tr>\n",
       "    <tr>\n",
       "      <th>5</th>\n",
       "      <td>4.0</td>\n",
       "      <td>2.41949283e+07</td>\n",
       "      <td>6.71287867e+05</td>\n",
       "      <td>23392342.49</td>\n",
       "      <td>2.37649566e+07</td>\n",
       "      <td>24317473.095</td>\n",
       "      <td>2.47474447e+07</td>\n",
       "      <td>2.47524244e+07</td>\n",
       "    </tr>\n",
       "    <tr>\n",
       "      <th>6</th>\n",
       "      <td>4.0</td>\n",
       "      <td>2.43820018e+07</td>\n",
       "      <td>1.52578080e+06</td>\n",
       "      <td>22587791.68</td>\n",
       "      <td>2.33800406e+07</td>\n",
       "      <td>24603319.150</td>\n",
       "      <td>2.56052804e+07</td>\n",
       "      <td>2.57335772e+07</td>\n",
       "    </tr>\n",
       "    <tr>\n",
       "      <th>4</th>\n",
       "      <td>4.0</td>\n",
       "      <td>2.48249494e+07</td>\n",
       "      <td>8.70241756e+05</td>\n",
       "      <td>23915147.70</td>\n",
       "      <td>2.41750304e+07</td>\n",
       "      <td>24839185.470</td>\n",
       "      <td>2.54891044e+07</td>\n",
       "      <td>2.57062789e+07</td>\n",
       "    </tr>\n",
       "    <tr>\n",
       "      <th>8</th>\n",
       "      <td>4.0</td>\n",
       "      <td>2.48792990e+07</td>\n",
       "      <td>7.63567481e+05</td>\n",
       "      <td>24362306.18</td>\n",
       "      <td>2.44784700e+07</td>\n",
       "      <td>24570836.280</td>\n",
       "      <td>2.49716652e+07</td>\n",
       "      <td>2.60132171e+07</td>\n",
       "    </tr>\n",
       "    <tr>\n",
       "      <th>7</th>\n",
       "      <td>4.0</td>\n",
       "      <td>2.68815199e+07</td>\n",
       "      <td>4.54693933e+06</td>\n",
       "      <td>23273326.17</td>\n",
       "      <td>2.41767803e+07</td>\n",
       "      <td>25409365.390</td>\n",
       "      <td>2.81141050e+07</td>\n",
       "      <td>3.34340228e+07</td>\n",
       "    </tr>\n",
       "    <tr>\n",
       "      <th>9</th>\n",
       "      <td>4.0</td>\n",
       "      <td>2.81894403e+07</td>\n",
       "      <td>2.61405582e+06</td>\n",
       "      <td>24632105.14</td>\n",
       "      <td>2.72367172e+07</td>\n",
       "      <td>28669292.660</td>\n",
       "      <td>2.96220157e+07</td>\n",
       "      <td>3.07870706e+07</td>\n",
       "    </tr>\n",
       "    <tr>\n",
       "      <th>3</th>\n",
       "      <td>4.0</td>\n",
       "      <td>3.15783011e+08</td>\n",
       "      <td>4.26880649e+07</td>\n",
       "      <td>279505722.19</td>\n",
       "      <td>2.90624623e+08</td>\n",
       "      <td>303582400.315</td>\n",
       "      <td>3.28740788e+08</td>\n",
       "      <td>3.76461520e+08</td>\n",
       "    </tr>\n",
       "  </tbody>\n",
       "</table>\n",
       "</div>"
      ],
      "text/plain": [
       "   count            mean             std           min             25%  \\\n",
       "k                                                                        \n",
       "2    4.0  2.08533947e+07  6.99354816e+05   20075911.20  2.05918244e+07   \n",
       "5    4.0  2.41949283e+07  6.71287867e+05   23392342.49  2.37649566e+07   \n",
       "6    4.0  2.43820018e+07  1.52578080e+06   22587791.68  2.33800406e+07   \n",
       "4    4.0  2.48249494e+07  8.70241756e+05   23915147.70  2.41750304e+07   \n",
       "8    4.0  2.48792990e+07  7.63567481e+05   24362306.18  2.44784700e+07   \n",
       "7    4.0  2.68815199e+07  4.54693933e+06   23273326.17  2.41767803e+07   \n",
       "9    4.0  2.81894403e+07  2.61405582e+06   24632105.14  2.72367172e+07   \n",
       "3    4.0  3.15783011e+08  4.26880649e+07  279505722.19  2.90624623e+08   \n",
       "\n",
       "             50%             75%             max  \n",
       "k                                                 \n",
       "2   20780706.150  2.10422765e+07  2.17762553e+07  \n",
       "5   24317473.095  2.47474447e+07  2.47524244e+07  \n",
       "6   24603319.150  2.56052804e+07  2.57335772e+07  \n",
       "4   24839185.470  2.54891044e+07  2.57062789e+07  \n",
       "8   24570836.280  2.49716652e+07  2.60132171e+07  \n",
       "7   25409365.390  2.81141050e+07  3.34340228e+07  \n",
       "9   28669292.660  2.96220157e+07  3.07870706e+07  \n",
       "3  303582400.315  3.28740788e+08  3.76461520e+08  "
      ]
     },
     "execution_count": 57,
     "metadata": {},
     "output_type": "execute_result"
    }
   ],
   "source": [
    "dic_sum.sort_values('mean')"
   ]
  },
  {
   "cell_type": "code",
   "execution_count": 58,
   "metadata": {},
   "outputs": [],
   "source": [
    "dic_sum.to_csv('dic_sum.csv')"
   ]
  },
  {
   "cell_type": "markdown",
   "metadata": {},
   "source": [
    "### Get gprob and q for each k, and mcmc metrics"
   ]
  },
  {
   "cell_type": "code",
   "execution_count": 59,
   "metadata": {},
   "outputs": [
    {
     "name": "stdout",
     "output_type": "stream",
     "text": [
      "file = entropy_k2_c1.hdf5\n",
      "file = entropy_k2_c2.hdf5\n",
      "file = entropy_k2_c3.hdf5\n",
      "file = entropy_k2_c4.hdf5\n",
      "parameter dimensions for q: ind = 245, populations = 2, samples = 5000, chains = 4\n",
      "file = entropy_k3_c1.hdf5\n",
      "file = entropy_k3_c2.hdf5\n",
      "file = entropy_k3_c3.hdf5\n",
      "file = entropy_k3_c4.hdf5\n",
      "parameter dimensions for q: ind = 245, populations = 3, samples = 5000, chains = 4\n",
      "file = entropy_k4_c1.hdf5\n",
      "file = entropy_k4_c2.hdf5\n",
      "file = entropy_k4_c3.hdf5\n",
      "file = entropy_k4_c4.hdf5\n",
      "parameter dimensions for q: ind = 245, populations = 4, samples = 5000, chains = 4\n",
      "file = entropy_k5_c1.hdf5\n",
      "file = entropy_k5_c2.hdf5\n",
      "file = entropy_k5_c3.hdf5\n",
      "file = entropy_k5_c4.hdf5\n",
      "parameter dimensions for q: ind = 245, populations = 5, samples = 5000, chains = 4\n",
      "file = entropy_k6_c1.hdf5\n",
      "file = entropy_k6_c2.hdf5\n",
      "file = entropy_k6_c3.hdf5\n",
      "file = entropy_k6_c4.hdf5\n",
      "parameter dimensions for q: ind = 245, populations = 6, samples = 5000, chains = 4\n",
      "file = entropy_k7_c1.hdf5\n",
      "file = entropy_k7_c2.hdf5\n",
      "file = entropy_k7_c3.hdf5\n",
      "file = entropy_k7_c4.hdf5\n",
      "parameter dimensions for q: ind = 245, populations = 7, samples = 5000, chains = 4\n",
      "file = entropy_k8_c1.hdf5\n",
      "file = entropy_k8_c2.hdf5\n",
      "file = entropy_k8_c3.hdf5\n",
      "file = entropy_k8_c4.hdf5\n",
      "parameter dimensions for q: ind = 245, populations = 8, samples = 5000, chains = 4\n",
      "file = entropy_k9_c1.hdf5\n",
      "file = entropy_k9_c2.hdf5\n",
      "file = entropy_k9_c3.hdf5\n",
      "file = entropy_k9_c4.hdf5\n",
      "parameter dimensions for q: ind = 245, populations = 9, samples = 5000, chains = 4\n"
     ]
    }
   ],
   "source": [
    "# ancestry coeffecients \n",
    "!$estpost *k2*.hdf5 -p q -s 0 -o q2.txt\n",
    "\n",
    "!$estpost *k3*.hdf5 -p q -s 0 -o q3.txt\n",
    "\n",
    "!$estpost *k4*.hdf5 -p q -s 0 -o q4.txt\n",
    "\n",
    "!$estpost *k5*.hdf5 -p q -s 0 -o q5.txt\n",
    "\n",
    "!$estpost *k6*.hdf5 -p q -s 0 -o q6.txt\n",
    "\n",
    "!$estpost *k7*.hdf5 -p q -s 0 -o q7.txt\n",
    "\n",
    "!$estpost *k8*.hdf5 -p q -s 0 -o q8.txt\n",
    "\n",
    "!$estpost *k9*.hdf5 -p q -s 0 -o q9.txt"
   ]
  },
  {
   "cell_type": "code",
   "execution_count": 60,
   "metadata": {},
   "outputs": [
    {
     "name": "stdout",
     "output_type": "stream",
     "text": [
      "file = entropy_k2_c1.hdf5\n",
      "file = entropy_k2_c2.hdf5\n",
      "file = entropy_k2_c3.hdf5\n",
      "file = entropy_k2_c4.hdf5\n",
      "parameter dimensions for q: ind = 245, populations = 2, samples = 5000, chains = 4\n",
      "file = entropy_k3_c1.hdf5\n",
      "file = entropy_k3_c2.hdf5\n",
      "file = entropy_k3_c3.hdf5\n",
      "file = entropy_k3_c4.hdf5\n",
      "parameter dimensions for q: ind = 245, populations = 3, samples = 5000, chains = 4\n",
      "file = entropy_k4_c1.hdf5\n",
      "file = entropy_k4_c2.hdf5\n",
      "file = entropy_k4_c3.hdf5\n",
      "file = entropy_k4_c4.hdf5\n",
      "parameter dimensions for q: ind = 245, populations = 4, samples = 5000, chains = 4\n",
      "file = entropy_k5_c1.hdf5\n",
      "file = entropy_k5_c2.hdf5\n",
      "file = entropy_k5_c3.hdf5\n",
      "file = entropy_k5_c4.hdf5\n",
      "parameter dimensions for q: ind = 245, populations = 5, samples = 5000, chains = 4\n",
      "file = entropy_k6_c1.hdf5\n",
      "file = entropy_k6_c2.hdf5\n",
      "file = entropy_k6_c3.hdf5\n",
      "file = entropy_k6_c4.hdf5\n",
      "parameter dimensions for q: ind = 245, populations = 6, samples = 5000, chains = 4\n",
      "file = entropy_k7_c1.hdf5\n",
      "file = entropy_k7_c2.hdf5\n",
      "file = entropy_k7_c3.hdf5\n",
      "file = entropy_k7_c4.hdf5\n",
      "parameter dimensions for q: ind = 245, populations = 7, samples = 5000, chains = 4\n",
      "file = entropy_k8_c1.hdf5\n",
      "file = entropy_k8_c2.hdf5\n",
      "file = entropy_k8_c3.hdf5\n",
      "file = entropy_k8_c4.hdf5\n",
      "parameter dimensions for q: ind = 245, populations = 8, samples = 5000, chains = 4\n",
      "file = entropy_k9_c1.hdf5\n",
      "file = entropy_k9_c2.hdf5\n",
      "file = entropy_k9_c3.hdf5\n",
      "file = entropy_k9_c4.hdf5\n",
      "parameter dimensions for q: ind = 245, populations = 9, samples = 5000, chains = 4\n"
     ]
    }
   ],
   "source": [
    "#MCMC diagnostics\n",
    "!$estpost *k2*.hdf5 -p q -s 4 -o MCMC_k2.txt\n",
    "\n",
    "!$estpost *k3*.hdf5 -p q -s 4 -o MCMC_k3.txt\n",
    "\n",
    "!$estpost *k4*.hdf5 -p q -s 4 -o MCMC_k4.txt\n",
    "\n",
    "!$estpost *k5*.hdf5 -p q -s 4 -o MCMC_k5.txt\n",
    "\n",
    "!$estpost *k6*.hdf5 -p q -s 4 -o MCMC_k6.txt\n",
    "\n",
    "!$estpost *k7*.hdf5 -p q -s 4 -o MCMC_k7.txt\n",
    "\n",
    "!$estpost *k8*.hdf5 -p q -s 4 -o MCMC_k8.txt\n",
    "\n",
    "!$estpost *k9*.hdf5 -p q -s 4 -o MCMC_k9.txt"
   ]
  },
  {
   "cell_type": "markdown",
   "metadata": {},
   "source": [
    "### make slurm script to make gprob file\n",
    "\n",
    "    use all k and chains to make gprob"
   ]
  },
  {
   "cell_type": "code",
   "execution_count": 61,
   "metadata": {},
   "outputs": [
    {
     "name": "stdout",
     "output_type": "stream",
     "text": [
      "/data/gpfs/assoc/denovo/PHHA/entropy_tf\n"
     ]
    }
   ],
   "source": [
    "cd $ent_dir"
   ]
  },
  {
   "cell_type": "code",
   "execution_count": 73,
   "metadata": {},
   "outputs": [],
   "source": [
    "### select slurm options\n",
    "account = 'cpu-s5-denovo-0'\n",
    "partition = 'cpu-core-0'\n",
    "time = '1-00:00:00' #time limit 4\n",
    "cpus = 2 #to prevent hammering one node\n",
    "mem_cpu = 6000\n",
    "email = 'tfaske@nevada.unr.edu'\n",
    "\n",
    "### select k \n",
    "num_k = [2,3,4,6,7,8,9]"
   ]
  },
  {
   "cell_type": "code",
   "execution_count": 74,
   "metadata": {},
   "outputs": [],
   "source": [
    "def write_gprob_k_sh(account,partition,time,cpus,mem_cpu,email,estpost,num_k):\n",
    "    for k in num_k:\n",
    "        with open(\"shdir/run_gprob_k%d.sh\" % (k), \"w\") as o:\n",
    "            o.write(\"\"\"#!/usr/bin/env bash\n",
    "#SBATCH --account=%s\n",
    "#SBATCH --partition=%s\n",
    "#SBATCH --time=%s\n",
    "#SBATCH --ntasks 1\n",
    "#SBATCH --cpus-per-task %d\n",
    "#SBATCH --mem-per-cpu=%d\n",
    "#SBATCH --job-name gprob_k%d\n",
    "#SBATCH --output output_gprob_k%d.txt\n",
    "#SBATCH --mail-type=END\n",
    "#SBATCH --mail-user=%s\\n\\n\"\"\" % (account,partition,time,cpus,mem_cpu,k,k,email))\n",
    "        \n",
    "            o.write(\"%s ../*k%d*.hdf5 -p gprob -s 0 -o ../gprob%d.txt\" % (estpost,k,k))"
   ]
  },
  {
   "cell_type": "code",
   "execution_count": 75,
   "metadata": {},
   "outputs": [],
   "source": [
    "write_gprob_k_sh(account,partition,time,cpus,mem_cpu,email,estpost,num_k)"
   ]
  },
  {
   "cell_type": "code",
   "execution_count": 76,
   "metadata": {},
   "outputs": [
    {
     "data": {
      "text/plain": [
       "['/data/gpfs/assoc/denovo/PHHA/entropy_tf/shdir/run_gprobAll.sh',\n",
       " '/data/gpfs/assoc/denovo/PHHA/entropy_tf/shdir/run_gprob_k10.sh',\n",
       " '/data/gpfs/assoc/denovo/PHHA/entropy_tf/shdir/run_gprob_k11.sh',\n",
       " '/data/gpfs/assoc/denovo/PHHA/entropy_tf/shdir/run_gprob_k2.sh',\n",
       " '/data/gpfs/assoc/denovo/PHHA/entropy_tf/shdir/run_gprob_k3.sh',\n",
       " '/data/gpfs/assoc/denovo/PHHA/entropy_tf/shdir/run_gprob_k4.sh',\n",
       " '/data/gpfs/assoc/denovo/PHHA/entropy_tf/shdir/run_gprob_k6.sh',\n",
       " '/data/gpfs/assoc/denovo/PHHA/entropy_tf/shdir/run_gprob_k7.sh',\n",
       " '/data/gpfs/assoc/denovo/PHHA/entropy_tf/shdir/run_gprob_k8.sh',\n",
       " '/data/gpfs/assoc/denovo/PHHA/entropy_tf/shdir/run_gprob_k9.sh']"
      ]
     },
     "execution_count": 76,
     "metadata": {},
     "output_type": "execute_result"
    }
   ],
   "source": [
    "gprobShells = !find $ent_dir -name 'run_gprob*.sh'\n",
    "gprobShells = gprobShells.sort()\n",
    "gprobShells"
   ]
  },
  {
   "cell_type": "code",
   "execution_count": 77,
   "metadata": {},
   "outputs": [],
   "source": [
    "def write_sbatch_gprobShells(gprobShells):\n",
    "    with open(\"shdir/sbatch_gprob.sh\", \"w\") as o:\n",
    "        o.write(\"\"\"#!/usr/bin/env bash \\n\"\"\")\n",
    "        for sh in gprobShells:\n",
    "            o.write(\"\"\"sbatch %s\\n\"\"\" % (sh))"
   ]
  },
  {
   "cell_type": "code",
   "execution_count": 78,
   "metadata": {},
   "outputs": [],
   "source": [
    "write_sbatch_gprobShells(gprobShells)"
   ]
  },
  {
   "cell_type": "markdown",
   "metadata": {},
   "source": [
    "### gprob all \n",
    "\n",
    "select only the ks you want. Will not work on ~7 ks with all the chains. It dies. \n",
    "\n",
    "For PHHA, ignore k=3 and do rest"
   ]
  },
  {
   "cell_type": "code",
   "execution_count": 81,
   "metadata": {},
   "outputs": [
    {
     "data": {
      "text/plain": [
       "['../entropy_k2_c1.hdf5',\n",
       " '../entropy_k2_c2.hdf5',\n",
       " '../entropy_k2_c3.hdf5',\n",
       " '../entropy_k2_c4.hdf5',\n",
       " '../entropy_k4_c1.hdf5',\n",
       " '../entropy_k4_c2.hdf5',\n",
       " '../entropy_k4_c3.hdf5',\n",
       " '../entropy_k4_c4.hdf5',\n",
       " '../entropy_k6_c1.hdf5',\n",
       " '../entropy_k6_c2.hdf5',\n",
       " '../entropy_k6_c3.hdf5',\n",
       " '../entropy_k6_c4.hdf5',\n",
       " '../entropy_k7_c1.hdf5',\n",
       " '../entropy_k7_c2.hdf5',\n",
       " '../entropy_k7_c3.hdf5',\n",
       " '../entropy_k7_c4.hdf5',\n",
       " '../entropy_k8_c1.hdf5',\n",
       " '../entropy_k8_c2.hdf5',\n",
       " '../entropy_k8_c3.hdf5',\n",
       " '../entropy_k8_c4.hdf5',\n",
       " '../entropy_k9_c1.hdf5',\n",
       " '../entropy_k9_c2.hdf5',\n",
       " '../entropy_k9_c3.hdf5',\n",
       " '../entropy_k9_c4.hdf5']"
      ]
     },
     "execution_count": 81,
     "metadata": {},
     "output_type": "execute_result"
    }
   ],
   "source": [
    "hdf5_files = []\n",
    "num_k = [2,4,6,7,8,9]\n",
    "num_c = 4\n",
    "for k in num_k:\n",
    "    for c in range(1,num_c+1):\n",
    "        f = '../entropy_k' + str(k) + '_c' + str(c) + '.hdf5'\n",
    "        hdf5_files.append(f)\n",
    "hdf5_files"
   ]
  },
  {
   "cell_type": "code",
   "execution_count": 82,
   "metadata": {},
   "outputs": [
    {
     "data": {
      "text/plain": [
       "'/data/gpfs/home/tfaske/g/anaconda3/envs/entropy/bin/estpost.entropy ../entropy_k2_c1.hdf5 ../entropy_k2_c2.hdf5 ../entropy_k2_c3.hdf5 ../entropy_k2_c4.hdf5 ../entropy_k4_c1.hdf5 ../entropy_k4_c2.hdf5 ../entropy_k4_c3.hdf5 ../entropy_k4_c4.hdf5 ../entropy_k6_c1.hdf5 ../entropy_k6_c2.hdf5 ../entropy_k6_c3.hdf5 ../entropy_k6_c4.hdf5 ../entropy_k7_c1.hdf5 ../entropy_k7_c2.hdf5 ../entropy_k7_c3.hdf5 ../entropy_k7_c4.hdf5 ../entropy_k8_c1.hdf5 ../entropy_k8_c2.hdf5 ../entropy_k8_c3.hdf5 ../entropy_k8_c4.hdf5 ../entropy_k9_c1.hdf5 ../entropy_k9_c2.hdf5 ../entropy_k9_c3.hdf5 ../entropy_k9_c4.hdf5 -p gprob -s 0 -o ../gprobAll.txt'"
      ]
     },
     "execution_count": 82,
     "metadata": {},
     "output_type": "execute_result"
    }
   ],
   "source": [
    "gprob_cmd = estpost + ' ' + ' '.join(hdf5_files) + ' -p gprob -s 0 -o ../gprobAll.txt'\n",
    "gprob_cmd"
   ]
  },
  {
   "cell_type": "code",
   "execution_count": 83,
   "metadata": {},
   "outputs": [],
   "source": [
    "### select slurm options\n",
    "account = 'cpu-s5-denovo-0'\n",
    "partition = 'cpu-core-0'\n",
    "time = '1-00:00:00' #time limit 4\n",
    "cpus = 1 #to prevent hammering one node\n",
    "mem_cpu = 100000\n",
    "email = 'tfaske@nevada.unr.edu'"
   ]
  },
  {
   "cell_type": "code",
   "execution_count": 84,
   "metadata": {},
   "outputs": [],
   "source": [
    "def write_gprob_all_sh(account,partition,time,cpus,mem_cpu,email,estpost,gprob_cmd):\n",
    "        with open(\"shdir/run_gprobAll.sh\", \"w\") as o:\n",
    "            o.write(\"\"\"#!/usr/bin/env bash\n",
    "#SBATCH --account=%s\n",
    "#SBATCH --partition=%s\n",
    "#SBATCH --time=%s\n",
    "#SBATCH --ntasks 1\n",
    "#SBATCH --cpus-per-task %d\n",
    "#SBATCH --mem-per-cpu=%d\n",
    "#SBATCH --job-name gprobAll\n",
    "#SBATCH --output output_gprobAll.txt\n",
    "#SBATCH --mail-type=END\n",
    "#SBATCH --mail-user=%s\n",
    "\n",
    "%s\"\"\" % (account,partition,time,cpus,mem_cpu,email,gprob_cmd))"
   ]
  },
  {
   "cell_type": "code",
   "execution_count": 85,
   "metadata": {},
   "outputs": [],
   "source": [
    "write_gprob_all_sh(account,partition,time,cpus,mem_cpu,email,estpost,gprob_cmd)"
   ]
  },
  {
   "cell_type": "markdown",
   "metadata": {},
   "source": [
    "## Run gprob sh \n",
    "\n",
    "    cd /data/gpfs/assoc/denovo/PHHA/entropy\n",
    "    source activate entropy\n",
    "    sbatch run_gprob.sh"
   ]
  }
 ],
 "metadata": {
  "kernelspec": {
   "display_name": "Python 3",
   "language": "python",
   "name": "python3"
  },
  "language_info": {
   "codemirror_mode": {
    "name": "ipython",
    "version": 3
   },
   "file_extension": ".py",
   "mimetype": "text/x-python",
   "name": "python",
   "nbconvert_exporter": "python",
   "pygments_lexer": "ipython3",
   "version": "3.6.7"
  }
 },
 "nbformat": 4,
 "nbformat_minor": 2
}
