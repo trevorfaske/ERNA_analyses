{
 "cells": [
  {
   "cell_type": "markdown",
   "metadata": {},
   "source": [
    "\n",
    "# Entropy from ancestry coefficients (q) and genotype probabilities (gprob)  \n",
    "\n",
    "Does everything to run entropy and creates slurm files to submit\n",
    "\n",
    "Goal is 4 chains k=2-X (you decide)\n",
    "\n",
    "**Create conda env just for entropy**  \n",
    "`conda create -n entropy`  \n",
    "`conda activate entropy`  \n",
    "`conda install popgen-entropy`  \n",
    "\n",
    "\n",
    "## SUBSET: \n",
    "\n",
    "#### This is a subset of individuals decided by ERNA_012 rarifies varieties and populations "
   ]
  },
  {
   "cell_type": "code",
   "execution_count": 97,
   "metadata": {
    "ExecuteTime": {}
   },
   "outputs": [],
   "source": [
    "import sys\n",
    "import ipyparallel as ipp\n",
    "import os\n",
    "from os import environ\n",
    "import gzip\n",
    "import warnings\n",
    "import pandas as pd\n",
    "import numpy as np\n",
    "import scipy as sp\n",
    "import glob\n",
    "import re\n",
    "import random"
   ]
  },
  {
   "cell_type": "code",
   "execution_count": 98,
   "metadata": {},
   "outputs": [],
   "source": [
    "root = \"/data/gpfs/assoc/denovo/tfaske/rabbit/full/REDO/\""
   ]
  },
  {
   "cell_type": "code",
   "execution_count": 99,
   "metadata": {},
   "outputs": [
    {
     "name": "stdout",
     "output_type": "stream",
     "text": [
      "/data/gpfs/assoc/denovo/tfaske/rabbit/full/REDO\n"
     ]
    }
   ],
   "source": [
    "cd $root"
   ]
  },
  {
   "cell_type": "code",
   "execution_count": 100,
   "metadata": {},
   "outputs": [
    {
     "name": "stdout",
     "output_type": "stream",
     "text": [
      "mkdir: cannot create directory ‘entropy_sub’: File exists\r\n"
     ]
    }
   ],
   "source": [
    "!mkdir entropy_sub"
   ]
  },
  {
   "cell_type": "code",
   "execution_count": 101,
   "metadata": {},
   "outputs": [],
   "source": [
    "ent_dir =os.path.join(root,'entropy_sub')\n",
    "assert ent_dir"
   ]
  },
  {
   "cell_type": "code",
   "execution_count": 102,
   "metadata": {},
   "outputs": [
    {
     "name": "stdout",
     "output_type": "stream",
     "text": [
      "/data/gpfs/assoc/denovo/tfaske/rabbit/full/REDO/entropy_sub\n"
     ]
    }
   ],
   "source": [
    "cd $ent_dir"
   ]
  },
  {
   "cell_type": "markdown",
   "metadata": {},
   "source": [
    "#### Subset vcf file by Pop_ID_sub.csv"
   ]
  },
  {
   "cell_type": "code",
   "execution_count": 103,
   "metadata": {},
   "outputs": [
    {
     "name": "stdout",
     "output_type": "stream",
     "text": [
      "The rpy2.ipython extension is already loaded. To reload it, use:\n",
      "  %reload_ext rpy2.ipython\n"
     ]
    }
   ],
   "source": [
    "%load_ext rpy2.ipython"
   ]
  },
  {
   "cell_type": "code",
   "execution_count": 104,
   "metadata": {
    "scrolled": true
   },
   "outputs": [
    {
     "name": "stdout",
     "output_type": "stream",
     "text": [
      "[1] 160\n",
      "\n",
      "   arenaria   bigelovii  graveolens   hololueca      iridis      juncea \n",
      "          5           8          11          24           6          11 \n",
      "latisquamea  mohavensis        nana      nitida   oreophila salicifolia \n",
      "          6           5           5           6          18          22 \n",
      "   speciosa   turbinata \n",
      "         22          11 \n"
     ]
    }
   ],
   "source": [
    "%%R\n",
    "require(readr)\n",
    "require(MASS)\n",
    "require(LEA)\n",
    "require(tidyverse)\n",
    "require(ggsci)\n",
    "\n",
    "source('/data/gpfs/assoc/denovo/src/R/Imports.R')\n",
    "\n",
    "setwd('/data/gpfs/assoc/denovo/tfaske/rabbit/full/REDO/entropy_sub')\n",
    "\n",
    "Pop_ID_sub <- read.csv('Pop_ID_sub.csv')\n",
    "print(nrow(Pop_ID_sub))\n",
    "print(table(as.character(Pop_ID_sub$Variety)))"
   ]
  },
  {
   "cell_type": "code",
   "execution_count": 105,
   "metadata": {},
   "outputs": [],
   "source": [
    "%%R \n",
    "# write file with individuals to keep \n",
    "keep_sub <- data.frame(INDV=as.character(Pop_ID_sub$All))\n",
    "write.table(keep_sub,'keep_sub.txt',row.names=FALSE,quote=FALSE)"
   ]
  },
  {
   "cell_type": "code",
   "execution_count": 106,
   "metadata": {},
   "outputs": [],
   "source": [
    "!cp ../SNPcall/filtering/good_snps.recode.vcf.gz ."
   ]
  },
  {
   "cell_type": "markdown",
   "metadata": {},
   "source": [
    "#### Filter vcf to keep only subset individuals AND same MAF (0.02) / missing data (0.7)"
   ]
  },
  {
   "cell_type": "code",
   "execution_count": 107,
   "metadata": {},
   "outputs": [
    {
     "name": "stdout",
     "output_type": "stream",
     "text": [
      "\n",
      "VCFtools - 0.1.16\n",
      "(C) Adam Auton and Anthony Marcketta 2009\n",
      "\n",
      "Parameters as interpreted:\n",
      "\t--gzvcf good_snps.recode.vcf.gz\n",
      "\t--keep keep_sub.txt\n",
      "\t--recode-INFO-all\n",
      "\t--maf 0.02\n",
      "\t--max-missing 0.7\n",
      "\t--out ERNA_sub\n",
      "\t--recode\n",
      "\n",
      "Using zlib version: 1.2.11\n",
      "Warning: Expected at least 2 parts in INFO entry: ID=AC,Number=A,Type=Integer,Description=\"Allele count in genotypes for each ALT allele, in the same order as listed\">\n",
      "Warning: Expected at least 2 parts in INFO entry: ID=DP4,Number=4,Type=Integer,Description=\"Number of high-quality ref-forward , ref-reverse, alt-forward and alt-reverse bases\">\n",
      "Warning: Expected at least 2 parts in INFO entry: ID=DP4,Number=4,Type=Integer,Description=\"Number of high-quality ref-forward , ref-reverse, alt-forward and alt-reverse bases\">\n",
      "Keeping individuals in 'keep' list\n",
      "After filtering, kept 160 out of 586 Individuals\n",
      "Outputting VCF file...\n",
      "After filtering, kept 18592 out of a possible 22917 Sites\n",
      "Run Time = 11.00 seconds\n"
     ]
    }
   ],
   "source": [
    "!vcftools --gzvcf 'good_snps.recode.vcf.gz' \\\n",
    "--max-missing 0.7 \\\n",
    "--maf 0.02 \\\n",
    "--recode \\\n",
    "--recode-INFO-all \\\n",
    "--keep 'keep_sub.txt' \\\n",
    "--out 'ERNA_sub'"
   ]
  },
  {
   "cell_type": "code",
   "execution_count": 108,
   "metadata": {},
   "outputs": [],
   "source": [
    "vcf_sub = 'ERNA_sub.recode.vcf'\n",
    "vcf_sub_gz = vcf_sub + \".gz\"\n",
    "!bgzip -c $vcf_sub > $vcf_sub_gz\n",
    "!tabix $vcf_sub_gz"
   ]
  },
  {
   "cell_type": "code",
   "execution_count": 109,
   "metadata": {},
   "outputs": [],
   "source": [
    "!rm 'ERNA_sub.log'\n",
    "!rm 'ERNA_sub.recode.vcf.gz.tbi'"
   ]
  },
  {
   "cell_type": "code",
   "execution_count": 110,
   "metadata": {},
   "outputs": [
    {
     "name": "stdout",
     "output_type": "stream",
     "text": [
      "\n",
      "VCFtools - 0.1.16\n",
      "(C) Adam Auton and Anthony Marcketta 2009\n",
      "\n",
      "Parameters as interpreted:\n",
      "\t--gzvcf ERNA_sub.recode.vcf.gz\n",
      "\t--012\n",
      "\t--out ERNA_sub.recode.vcf.gz\n",
      "\n",
      "Using zlib version: 1.2.11\n",
      "Warning: Expected at least 2 parts in INFO entry: ID=AC,Number=A,Type=Integer,Description=\"Allele count in genotypes for each ALT allele, in the same order as listed\">\n",
      "Warning: Expected at least 2 parts in INFO entry: ID=DP4,Number=4,Type=Integer,Description=\"Number of high-quality ref-forward , ref-reverse, alt-forward and alt-reverse bases\">\n",
      "Warning: Expected at least 2 parts in INFO entry: ID=DP4,Number=4,Type=Integer,Description=\"Number of high-quality ref-forward , ref-reverse, alt-forward and alt-reverse bases\">\n",
      "After filtering, kept 160 out of 160 Individuals\n",
      "Writing 012 matrix files ... Done.\n",
      "After filtering, kept 18592 out of a possible 18592 Sites\n",
      "Run Time = 2.00 seconds\n"
     ]
    }
   ],
   "source": [
    "!vcftools --gzvcf 'ERNA_sub.recode.vcf.gz' \\\n",
    "--012 \\\n",
    "--out 'ERNA_sub.recode.vcf.gz'"
   ]
  },
  {
   "cell_type": "markdown",
   "metadata": {},
   "source": [
    "### Create mgpl & pntest files with associated dir "
   ]
  },
  {
   "cell_type": "markdown",
   "metadata": {},
   "source": [
    "#### copy good_snps.recode.vcf.gz from filtering"
   ]
  },
  {
   "cell_type": "code",
   "execution_count": 111,
   "metadata": {},
   "outputs": [
    {
     "data": {
      "text/plain": [
       "'ERNA_sub.recode.vcf'"
      ]
     },
     "execution_count": 111,
     "metadata": {},
     "output_type": "execute_result"
    }
   ],
   "source": [
    "vcf = 'ERNA_sub.recode.vcf'\n",
    "vcf"
   ]
  },
  {
   "cell_type": "code",
   "execution_count": 112,
   "metadata": {},
   "outputs": [],
   "source": [
    "perl_mpgl = '/data/gpfs/assoc/denovo/src/perl_scripts/vcf2mpgl_universal.pl'\n",
    "perl_mean = '/data/gpfs/assoc/denovo/src/perl_scripts/gl2genest_universal.pl'"
   ]
  },
  {
   "cell_type": "code",
   "execution_count": 113,
   "metadata": {},
   "outputs": [
    {
     "name": "stdout",
     "output_type": "stream",
     "text": [
      "Number of loci: 18592; number of individuals 160\r\n"
     ]
    }
   ],
   "source": [
    "!perl $perl_mpgl $vcf"
   ]
  },
  {
   "cell_type": "code",
   "execution_count": 114,
   "metadata": {},
   "outputs": [],
   "source": [
    "mpgl = 'ERNA_sub.recode.mpgl'"
   ]
  },
  {
   "cell_type": "code",
   "execution_count": 115,
   "metadata": {},
   "outputs": [],
   "source": [
    "!perl $perl_mean $mpgl mean"
   ]
  },
  {
   "cell_type": "markdown",
   "metadata": {},
   "source": [
    "### Create ldak files in R"
   ]
  },
  {
   "cell_type": "code",
   "execution_count": 116,
   "metadata": {},
   "outputs": [
    {
     "name": "stdout",
     "output_type": "stream",
     "text": [
      "[1] 18592   160\n"
     ]
    }
   ],
   "source": [
    "%%R\n",
    "g <- read.table(\"pntest_mean_ERNA_sub.recode.txt\", header=F)\n",
    "dim(g)"
   ]
  },
  {
   "cell_type": "code",
   "execution_count": 117,
   "metadata": {},
   "outputs": [
    {
     "name": "stdout",
     "output_type": "stream",
     "text": [
      "Joining, by = c(\"Pop\", \"ID\", \"All\")\n"
     ]
    }
   ],
   "source": [
    "%%R\n",
    "\n",
    "#create Pop_ID file \n",
    "\n",
    "indv<-read.table(\"ERNA_sub.recode.vcf.gz.012.indv\",sep=\"\\t\")\n",
    "\n",
    "Pop_ID <- data.frame(Pop=rep(NA,times=nrow(indv)),\n",
    "                     ID=NA,\n",
    "                     All=NA)\n",
    "for (i in 1:nrow(indv)){\n",
    "    name_list <-unlist(strsplit(as.character(indv$V1[i]),\"_\"))\n",
    "    Pop_ID$Pop[i] <- name_list[2]\n",
    "    Pop_ID$ID[i] <- as.integer(name_list[3])\n",
    "    Pop_ID$All[i] <- as.character(indv$V1[i])\n",
    "}\n",
    "#print(head(Pop_ID))\n",
    "#print(length(unique(Pop_ID$Pop)))\n",
    "\n",
    "### merge with Pop_ID_sub\n",
    "Pop_ID_sub <- left_join(Pop_ID,Pop_ID_sub[,1:10])"
   ]
  },
  {
   "cell_type": "code",
   "execution_count": 118,
   "metadata": {},
   "outputs": [
    {
     "name": "stdout",
     "output_type": "stream",
     "text": [
      "    PC1     PC2     PC3     PC4     PC5 \n",
      "0.07233 0.05319 0.04972 0.03875 0.02333 \n"
     ]
    }
   ],
   "source": [
    "%%R\n",
    "pca_df <- PCA_entropy(t(g))"
   ]
  },
  {
   "cell_type": "code",
   "execution_count": 120,
   "metadata": {},
   "outputs": [
    {
     "data": {
      "image/png": "[encoded data removed]"
     },
     "metadata": {},
     "output_type": "display_data"
    }
   ],
   "source": [
    "%%R\n",
    "\n",
    "### check pntest_mean PCA looks okay\n",
    "pca_df <- cbind(pca_df[,1:10],Pop_ID_sub)\n",
    "\n",
    "\n",
    "ggplot(data = pca_df, aes(x=PC1,y=PC2,fill=as.character(Variety))) +\n",
    "  geom_point(pch=21,colour='black',size = 4) + \n",
    "  xlab(paste(\"PC\",1,\" (\",0.07233*100,\"%)\",sep=\"\")) + \n",
    "  ylab(paste(\"PC\",2,\" (\",0.05319*100,\"%)\",sep=\"\")) +\n",
    "  scale_fill_d3(palette='category20') +\n",
    "  theme_bw() + \n",
    "  theme(#legend.position = 'none',\n",
    "        axis.text = element_text(size=13),\n",
    "        axis.title = element_text(size = 16, colour=\"black\",\n",
    "                                  face = \"bold\",vjust = 1),\n",
    "        panel.border = element_rect(size = 1.5, colour = \"black\"),\n",
    "        legend.text = element_text(size = 11),\n",
    "        legend.title = element_text(size = 13, face = \"bold\"),\n",
    "        panel.grid.major = element_blank(),\n",
    "        panel.grid.minor = element_blank())\n"
   ]
  },
  {
   "cell_type": "code",
   "execution_count": 121,
   "metadata": {},
   "outputs": [],
   "source": [
    "%%R\n",
    "#######################################################################################\n",
    "                                    #### LDA ####\n",
    "#######################################################################################\n",
    "\n",
    "k2<-kmeans(pca_df[,1:5],2,iter.max=10,nstart=10,algorithm=\"Hartigan-Wong\")\n",
    "k3<-kmeans(pca_df[,1:5],3,iter.max=10,nstart=10,algorithm=\"Hartigan-Wong\")\n",
    "k4<-kmeans(pca_df[,1:5],4,iter.max=10,nstart=10,algorithm=\"Hartigan-Wong\")\n",
    "k5<-kmeans(pca_df[,1:5],5,iter.max=10,nstart=10,algorithm=\"Hartigan-Wong\")\n",
    "k6<-kmeans(pca_df[,1:5],6,iter.max=10,nstart=10,algorithm=\"Hartigan-Wong\")\n",
    "k7<-kmeans(pca_df[,1:5],7,iter.max=10,nstart=10,algorithm=\"Hartigan-Wong\")\n",
    "k8<-kmeans(pca_df[,1:5],8,iter.max=10,nstart=10,algorithm=\"Hartigan-Wong\")\n",
    "k9<-kmeans(pca_df[,1:5],9,iter.max=10,nstart=10,algorithm=\"Hartigan-Wong\")\n",
    "k10<-kmeans(pca_df[,1:5],10,iter.max=10,nstart=10,algorithm=\"Hartigan-Wong\")\n",
    "k11<-kmeans(pca_df[,1:5],11,iter.max=10,nstart=10,algorithm=\"Hartigan-Wong\")\n",
    "\n",
    "ldak2<-lda(x=pca_df[,1:5],grouping=k2$cluster,CV=TRUE)\n",
    "ldak3<-lda(x=pca_df[,1:5],grouping=k3$cluster,CV=TRUE)\n",
    "ldak4<-lda(x=pca_df[,1:5],grouping=k4$cluster,CV=TRUE)\n",
    "ldak5<-lda(x=pca_df[,1:5],grouping=k5$cluster,CV=TRUE)\n",
    "ldak6<-lda(x=pca_df[,1:5],grouping=k6$cluster,CV=TRUE)\n",
    "ldak7<-lda(x=pca_df[,1:5],grouping=k7$cluster,CV=TRUE)\n",
    "ldak8<-lda(x=pca_df[,1:5],grouping=k8$cluster,CV=TRUE)\n",
    "ldak9<-lda(x=pca_df[,1:5],grouping=k9$cluster,CV=TRUE)\n",
    "ldak10<-lda(x=pca_df[,1:5],grouping=k10$cluster,CV=TRUE)\n",
    "ldak11<-lda(x=pca_df[,1:5],grouping=k11$cluster,CV=TRUE)\n",
    "\n",
    "write.table(round(ldak2$posterior,5),file=\"ldak2.txt\",quote=F,row.names=F,col.names=F)\n",
    "write.table(round(ldak3$posterior,5),file=\"ldak3.txt\",quote=F,row.names=F,col.names=F)\n",
    "write.table(round(ldak4$posterior,5),file=\"ldak4.txt\",quote=F,row.names=F,col.names=F)\n",
    "write.table(round(ldak5$posterior,5),file=\"ldak5.txt\",quote=F,row.names=F,col.names=F)\n",
    "write.table(round(ldak6$posterior,5),file=\"ldak6.txt\",quote=F,row.names=F,col.names=F)                                      \n",
    "write.table(round(ldak7$posterior,5),file=\"ldak7.txt\",quote=F,row.names=F,col.names=F)\n",
    "write.table(round(ldak8$posterior,5),file=\"ldak8.txt\",quote=F,row.names=F,col.names=F)\n",
    "write.table(round(ldak9$posterior,5),file=\"ldak9.txt\",quote=F,row.names=F,col.names=F)\n",
    "write.table(round(ldak10$posterior,5),file=\"ldak10.txt\",quote=F,row.names=F,col.names=F)\n",
    "write.table(round(ldak11$posterior,5),file=\"ldak11.txt\",quote=F,row.names=F,col.names=F)\n"
   ]
  },
  {
   "cell_type": "code",
   "execution_count": 122,
   "metadata": {},
   "outputs": [],
   "source": [
    "%%R\n",
    "######### create entropy header ####\n",
    "\n",
    "Pop_ID_list <- paste(Pop_ID$Pop,Pop_ID$ID,sep='_')\n",
    "\n",
    "Header <- data.frame(dims = NA,Pop_ID_list)\n",
    "\n",
    "dim(g)\n",
    "\n",
    "df <- t(Header)\n",
    "dims <- paste(dim(g)[2],dim(g)[1],sep = \" \")\n",
    "\n",
    "df[1,1] <- dims\n",
    "\n",
    "write.table(df,'entropy_header.txt',sep = \" \",na =\"\",\n",
    "            quote = FALSE,row.names = FALSE,col.names = FALSE)"
   ]
  },
  {
   "cell_type": "code",
   "execution_count": 123,
   "metadata": {},
   "outputs": [
    {
     "name": "stdout",
     "output_type": "stream",
     "text": [
      "160 18592                                                                                                                                                               \r\n",
      "AR_2 AR_3 AR_4 AR_5 AR_6 AS_18 AS_20 AS_23 AS_24 AS_28 AS_30 BO_1 BO_2 BO_3 BO_4 BO_5 BO_6 CH_1 CH_2 CH_3 CH_4 CH_6 CH_7 CI_1 CI_2 CI_3 CI_4 CI_5 CL_1 CL_2 CL_3 CL_4 CL_5 CL_6 CN_1 CN_2 CN_4 CN_5 CN_6 CO_1 CO_2 CO_3 CO_4 CO_5 CT_1 CT_2 CT_3 CT_4 CT_5 CT_6 DH_16 DH_17 DH_19 DH_20 DH_23 DH_28 EW_1 EW_2 EW_4 EW_5 EW_6 EW_8 IO_1 IO_2 IO_3 IO_4 IO_5 JO_2 JO_3 JO_4 JO_5 JO_6 JT_1 JT_2 JT_3 JT_4 JT_5 JT_6 LA_1 LA_2 LA_3 LA_4 LA_5 LA_6 LO_1 LO_2 LO_3 LO_4 LO_5 LT_4 LT_5 LT_6 NH_2 NH_3 NH_4 NH_5 NH_6 NI_1 NI_2 NI_3 NI_4 NI_5 NI_6 NT_1 NT_2 NT_3 NT_4 NT_5 OT_1 OT_2 OT_3 OT_4 PW_15 PW_1 PW_3 PW_4 PW_5 PW_9 RL_1 RL_2 RL_3 RL_4 RL_5 RL_6 RS_1 RS_2 RS_4 RS_5 RS_6 RS_7 RT_1 RT_2 SJ_10 SJ_12 SJ_1 SJ_2 SJ_8 SJ_9 SS_10 SS_12 SS_15 SS_3 SS_5 SS_9 TO_1 TO_2 TO_3 TO_4 TO_5 TO_6 UT_1 UT_2 UT_3 UT_4 UT_5 VI_1 VI_2 VI_3 VI_4 VI_5\r\n"
     ]
    }
   ],
   "source": [
    "!head entropy_header.txt"
   ]
  },
  {
   "cell_type": "code",
   "execution_count": 124,
   "metadata": {},
   "outputs": [],
   "source": [
    "!cat entropy_header.txt ERNA_sub.recode.mpgl > entropy.mpgl"
   ]
  },
  {
   "cell_type": "code",
   "execution_count": 125,
   "metadata": {},
   "outputs": [
    {
     "name": "stdout",
     "output_type": "stream",
     "text": [
      "/data/gpfs/assoc/denovo/tfaske/rabbit/full/REDO/entropy_sub\n"
     ]
    }
   ],
   "source": [
    "cd $ent_dir"
   ]
  },
  {
   "cell_type": "code",
   "execution_count": 126,
   "metadata": {},
   "outputs": [],
   "source": [
    "!mkdir shdir"
   ]
  },
  {
   "cell_type": "code",
   "execution_count": 127,
   "metadata": {},
   "outputs": [],
   "source": [
    "### select slurm options\n",
    "account = 'cpu-s5-denovo-0'\n",
    "partition = 'cpu-core-0'\n",
    "time = '14-00:00:00' #time limit 4\n",
    "cpus = 4 #to prevent hammering one node\n",
    "mem_cpu = 8000\n",
    "email = 'tfaske@nevada.unr.edu'\n",
    "\n",
    "#entropy settings\n",
    "l = 60000\n",
    "b = 10000\n",
    "num_k = [2,3,4,5,6,7,8,9]\n",
    "chains = 4"
   ]
  },
  {
   "cell_type": "markdown",
   "metadata": {},
   "source": [
    "**Note:** Random seed needs to be created for each chain. Most programs use the clock as the seed, which is typically fine but since the clock on the HPC only goes to minutes and we are running everything at the same time, all the seeds are the same. Giving you the same exact seed. "
   ]
  },
  {
   "cell_type": "code",
   "execution_count": 128,
   "metadata": {},
   "outputs": [],
   "source": [
    "def write_entropy_sh(account,partition,time,cpus,mem_cpu,email,l,b,num_k,chains):\n",
    "    for k in num_k:\n",
    "        for c in range(1,chains+1):\n",
    "            jobname = 'k%d_c%d' % (k,c)\n",
    "            seed = random.randint(1000,9999) #default is clock so messes up if submitted same time \n",
    "            with open(\"shdir/run_entropy_%s.sh\" % (jobname), \"w\") as o:\n",
    "                o.write(\"\"\"#!/usr/bin/env bash\n",
    "#SBATCH --account=%s\n",
    "#SBATCH --partition=%s\n",
    "#SBATCH --time=%s\n",
    "#SBATCH --ntasks 1\n",
    "#SBATCH --cpus-per-task %d\n",
    "#SBATCH --mem-per-cpu=%d\n",
    "#SBATCH --job-name ent_%s\n",
    "#SBATCH --output output_%s.txt\n",
    "#SBATCH --mail-type=END\n",
    "#SBATCH --mail-user=%s\\n\\n\"\"\" % (account,partition,time,cpus,mem_cpu,jobname,jobname,email))\n",
    "        \n",
    "                o.write(\"entropy -i ../entropy.mpgl -o ../entropy_%s.hdf5 -r %d -n 2 -l %d -b %d -t 10 -s 50 -e .01 -k %d -q ../ldak%d.txt -m 1 -w 0\"\n",
    "                        % (jobname,seed,l,b,k,k))\n",
    "    "
   ]
  },
  {
   "cell_type": "code",
   "execution_count": 129,
   "metadata": {},
   "outputs": [],
   "source": [
    "write_entropy_sh(account,partition,time,cpus,mem_cpu,email,l,b,num_k,chains)"
   ]
  },
  {
   "cell_type": "code",
   "execution_count": 130,
   "metadata": {},
   "outputs": [
    {
     "data": {
      "text/plain": [
       "['/data/gpfs/assoc/denovo/tfaske/rabbit/full/REDO/entropy_sub/shdir/run_entropy_k2_c1.sh',\n",
       " '/data/gpfs/assoc/denovo/tfaske/rabbit/full/REDO/entropy_sub/shdir/run_entropy_k2_c2.sh',\n",
       " '/data/gpfs/assoc/denovo/tfaske/rabbit/full/REDO/entropy_sub/shdir/run_entropy_k2_c3.sh',\n",
       " '/data/gpfs/assoc/denovo/tfaske/rabbit/full/REDO/entropy_sub/shdir/run_entropy_k2_c4.sh',\n",
       " '/data/gpfs/assoc/denovo/tfaske/rabbit/full/REDO/entropy_sub/shdir/run_entropy_k3_c1.sh',\n",
       " '/data/gpfs/assoc/denovo/tfaske/rabbit/full/REDO/entropy_sub/shdir/run_entropy_k3_c2.sh',\n",
       " '/data/gpfs/assoc/denovo/tfaske/rabbit/full/REDO/entropy_sub/shdir/run_entropy_k3_c3.sh',\n",
       " '/data/gpfs/assoc/denovo/tfaske/rabbit/full/REDO/entropy_sub/shdir/run_entropy_k3_c4.sh',\n",
       " '/data/gpfs/assoc/denovo/tfaske/rabbit/full/REDO/entropy_sub/shdir/run_entropy_k4_c1.sh',\n",
       " '/data/gpfs/assoc/denovo/tfaske/rabbit/full/REDO/entropy_sub/shdir/run_entropy_k4_c2.sh',\n",
       " '/data/gpfs/assoc/denovo/tfaske/rabbit/full/REDO/entropy_sub/shdir/run_entropy_k4_c3.sh',\n",
       " '/data/gpfs/assoc/denovo/tfaske/rabbit/full/REDO/entropy_sub/shdir/run_entropy_k4_c4.sh',\n",
       " '/data/gpfs/assoc/denovo/tfaske/rabbit/full/REDO/entropy_sub/shdir/run_entropy_k5_c1.sh',\n",
       " '/data/gpfs/assoc/denovo/tfaske/rabbit/full/REDO/entropy_sub/shdir/run_entropy_k5_c2.sh',\n",
       " '/data/gpfs/assoc/denovo/tfaske/rabbit/full/REDO/entropy_sub/shdir/run_entropy_k5_c3.sh',\n",
       " '/data/gpfs/assoc/denovo/tfaske/rabbit/full/REDO/entropy_sub/shdir/run_entropy_k5_c4.sh',\n",
       " '/data/gpfs/assoc/denovo/tfaske/rabbit/full/REDO/entropy_sub/shdir/run_entropy_k6_c1.sh',\n",
       " '/data/gpfs/assoc/denovo/tfaske/rabbit/full/REDO/entropy_sub/shdir/run_entropy_k6_c2.sh',\n",
       " '/data/gpfs/assoc/denovo/tfaske/rabbit/full/REDO/entropy_sub/shdir/run_entropy_k6_c3.sh',\n",
       " '/data/gpfs/assoc/denovo/tfaske/rabbit/full/REDO/entropy_sub/shdir/run_entropy_k6_c4.sh',\n",
       " '/data/gpfs/assoc/denovo/tfaske/rabbit/full/REDO/entropy_sub/shdir/run_entropy_k7_c1.sh',\n",
       " '/data/gpfs/assoc/denovo/tfaske/rabbit/full/REDO/entropy_sub/shdir/run_entropy_k7_c2.sh',\n",
       " '/data/gpfs/assoc/denovo/tfaske/rabbit/full/REDO/entropy_sub/shdir/run_entropy_k7_c3.sh',\n",
       " '/data/gpfs/assoc/denovo/tfaske/rabbit/full/REDO/entropy_sub/shdir/run_entropy_k7_c4.sh',\n",
       " '/data/gpfs/assoc/denovo/tfaske/rabbit/full/REDO/entropy_sub/shdir/run_entropy_k8_c1.sh',\n",
       " '/data/gpfs/assoc/denovo/tfaske/rabbit/full/REDO/entropy_sub/shdir/run_entropy_k8_c2.sh',\n",
       " '/data/gpfs/assoc/denovo/tfaske/rabbit/full/REDO/entropy_sub/shdir/run_entropy_k8_c3.sh',\n",
       " '/data/gpfs/assoc/denovo/tfaske/rabbit/full/REDO/entropy_sub/shdir/run_entropy_k8_c4.sh',\n",
       " '/data/gpfs/assoc/denovo/tfaske/rabbit/full/REDO/entropy_sub/shdir/run_entropy_k9_c1.sh',\n",
       " '/data/gpfs/assoc/denovo/tfaske/rabbit/full/REDO/entropy_sub/shdir/run_entropy_k9_c2.sh',\n",
       " '/data/gpfs/assoc/denovo/tfaske/rabbit/full/REDO/entropy_sub/shdir/run_entropy_k9_c3.sh',\n",
       " '/data/gpfs/assoc/denovo/tfaske/rabbit/full/REDO/entropy_sub/shdir/run_entropy_k9_c4.sh']"
      ]
     },
     "execution_count": 130,
     "metadata": {},
     "output_type": "execute_result"
    }
   ],
   "source": [
    "entShells = !find $ent_dir -name 'run_entropy*.sh'\n",
    "entShells = entShells.sort()\n",
    "entShells"
   ]
  },
  {
   "cell_type": "code",
   "execution_count": 131,
   "metadata": {},
   "outputs": [],
   "source": [
    "def write_sbatch_entShells(entShells):\n",
    "         with open(\"shdir/sbatch_entropy.sh\", \"w\") as o:\n",
    "            o.write(\"\"\"#!/usr/bin/env bash \\n\"\"\")\n",
    "            for sh in entShells:\n",
    "                o.write(\"\"\"sbatch %s\\n\"\"\" % (sh))"
   ]
  },
  {
   "cell_type": "code",
   "execution_count": 132,
   "metadata": {},
   "outputs": [],
   "source": [
    "write_sbatch_entShells(entShells)"
   ]
  },
  {
   "cell_type": "markdown",
   "metadata": {},
   "source": [
    "# Run all entropy*sh\n",
    "    cd /data/gpfs/assoc/denovo/tfaske/rabbit/full/REDO/entropy/shdir\n",
    "    source activate entropy\n",
    "    bash sbatch_entropy.sh"
   ]
  },
  {
   "cell_type": "markdown",
   "metadata": {},
   "source": [
    "# Use estpost to get DIC, q, and gprob"
   ]
  },
  {
   "cell_type": "code",
   "execution_count": 45,
   "metadata": {},
   "outputs": [],
   "source": [
    "np.set_printoptions(precision=8) # increases float print option\n",
    "#pd.set_option(\"precision\", 8)"
   ]
  },
  {
   "cell_type": "code",
   "execution_count": 133,
   "metadata": {},
   "outputs": [
    {
     "name": "stdout",
     "output_type": "stream",
     "text": [
      "/data/gpfs/assoc/denovo/tfaske/rabbit/full/REDO/entropy_sub\n"
     ]
    }
   ],
   "source": [
    "cd $ent_dir"
   ]
  },
  {
   "cell_type": "code",
   "execution_count": 134,
   "metadata": {},
   "outputs": [],
   "source": [
    "hdf5_files = !find . -name '*hdf5'\n",
    "hdf5_files = hdf5_files.sort()\n",
    "#hdf5_files"
   ]
  },
  {
   "cell_type": "code",
   "execution_count": 135,
   "metadata": {},
   "outputs": [],
   "source": [
    "estpost = '/data/gpfs/home/tfaske/g/anaconda3/envs/entropy/bin/estpost.entropy'"
   ]
  },
  {
   "cell_type": "code",
   "execution_count": 136,
   "metadata": {},
   "outputs": [],
   "source": [
    "#make DIC\n",
    "for i in range(0,len(hdf5_files)):\n",
    "    f = hdf5_files[i]\n",
    "    k = f.split('_')[1] #set this \n",
    "    c = f.split('_')[2].split('.hdf5')[0]\n",
    "    #print(k,c)\n",
    "    dic = \"DIC_%s_%s.txt\" % (k,c)\n",
    "    !$estpost $f -s 3 -p deviance > $dic"
   ]
  },
  {
   "cell_type": "code",
   "execution_count": 137,
   "metadata": {},
   "outputs": [
    {
     "data": {
      "text/plain": [
       "(32, './DIC_k2_c4.txt')"
      ]
     },
     "execution_count": 137,
     "metadata": {},
     "output_type": "execute_result"
    }
   ],
   "source": [
    "dic_files = !find . -name 'DIC*'\n",
    "len(dic_files),dic_files[0]"
   ]
  },
  {
   "cell_type": "code",
   "execution_count": 138,
   "metadata": {},
   "outputs": [
    {
     "name": "stdout",
     "output_type": "stream",
     "text": [
      "file = ./entropy_k2_c4.hdf5\n",
      "parameter dimensions for deviance: samples = 5000, chains = 1\n",
      "Model deviance: 4936449.58\n",
      "Effective number of parameters: 2651068.15\n",
      "Model DIC: 7587517.73\n",
      "\n",
      "\n",
      "file = ./entropy_k7_c2.hdf5\n",
      "parameter dimensions for deviance: samples = 5000, chains = 1\n",
      "Model deviance: 4189320.77\n",
      "Effective number of parameters: 3304980.34\n",
      "Model DIC: 7494301.11\n",
      "\n",
      "\n",
      "file = ./entropy_k2_c1.hdf5\n",
      "parameter dimensions for deviance: samples = 5000, chains = 1\n",
      "Model deviance: 4936629.28\n",
      "Effective number of parameters: 2513141.99\n",
      "Model DIC: 7449771.27\n",
      "\n",
      "\n",
      "file = ./entropy_k6_c1.hdf5\n",
      "parameter dimensions for deviance: samples = 5000, chains = 1\n",
      "Model deviance: 4233513.37\n",
      "Effective number of parameters: 3400545.26\n",
      "Model DIC: 7634058.64\n",
      "\n",
      "\n",
      "file = ./entropy_k3_c2.hdf5\n",
      "parameter dimensions for deviance: samples = 5000, chains = 1\n",
      "Model deviance: 4681686.03\n",
      "Effective number of parameters: 2509182.02\n",
      "Model DIC: 7190868.05\n",
      "\n",
      "\n",
      "file = ./entropy_k4_c4.hdf5\n",
      "parameter dimensions for deviance: samples = 5000, chains = 1\n",
      "Model deviance: 4456022.22\n",
      "Effective number of parameters: 2593558.06\n",
      "Model DIC: 7049580.28\n",
      "\n",
      "\n",
      "file = ./entropy_k4_c2.hdf5\n",
      "parameter dimensions for deviance: samples = 5000, chains = 1\n",
      "Model deviance: 4455739.65\n",
      "Effective number of parameters: 2705589.91\n",
      "Model DIC: 7161329.56\n",
      "\n",
      "\n",
      "file = ./entropy_k7_c1.hdf5\n",
      "parameter dimensions for deviance: samples = 5000, chains = 1\n",
      "Model deviance: 4189606.69\n",
      "Effective number of parameters: 3287395.10\n",
      "Model DIC: 7477001.80\n",
      "\n",
      "\n",
      "file = ./entropy_k7_c4.hdf5\n",
      "parameter dimensions for deviance: samples = 5000, chains = 1\n",
      "Model deviance: 4190171.68\n",
      "Effective number of parameters: 3807286.17\n",
      "Model DIC: 7997457.85\n",
      "\n",
      "\n",
      "file = ./entropy_k5_c2.hdf5\n",
      "parameter dimensions for deviance: samples = 5000, chains = 1\n",
      "Model deviance: 4297629.57\n",
      "Effective number of parameters: 3015625.36\n",
      "Model DIC: 7313254.93\n",
      "\n",
      "\n",
      "file = ./entropy_k6_c2.hdf5\n",
      "parameter dimensions for deviance: samples = 5000, chains = 1\n",
      "Model deviance: 4233449.88\n",
      "Effective number of parameters: 3124447.33\n",
      "Model DIC: 7357897.21\n",
      "\n",
      "\n",
      "file = ./entropy_k4_c3.hdf5\n",
      "parameter dimensions for deviance: samples = 5000, chains = 1\n",
      "Model deviance: 4455971.53\n",
      "Effective number of parameters: 2513049.45\n",
      "Model DIC: 6969020.98\n",
      "\n",
      "\n",
      "file = ./entropy_k7_c3.hdf5\n",
      "parameter dimensions for deviance: samples = 5000, chains = 1\n",
      "Model deviance: 4189284.80\n",
      "Effective number of parameters: 3500613.07\n",
      "Model DIC: 7689897.87\n",
      "\n",
      "\n",
      "file = ./entropy_k3_c1.hdf5\n",
      "parameter dimensions for deviance: samples = 5000, chains = 1\n",
      "Model deviance: 4681509.71\n",
      "Effective number of parameters: 2652329.32\n",
      "Model DIC: 7333839.03\n",
      "\n",
      "\n",
      "file = ./entropy_k2_c2.hdf5\n",
      "parameter dimensions for deviance: samples = 5000, chains = 1\n",
      "Model deviance: 4936526.84\n",
      "Effective number of parameters: 2673289.60\n",
      "Model DIC: 7609816.44\n",
      "\n",
      "\n",
      "file = ./entropy_k5_c4.hdf5\n",
      "parameter dimensions for deviance: samples = 5000, chains = 1\n",
      "Model deviance: 4297867.02\n",
      "Effective number of parameters: 2930310.18\n",
      "Model DIC: 7228177.20\n",
      "\n",
      "\n",
      "file = ./entropy_k8_c4.hdf5\n",
      "parameter dimensions for deviance: samples = 5000, chains = 1\n",
      "Model deviance: 4084039.75\n",
      "Effective number of parameters: 4267610.84\n",
      "Model DIC: 8351650.59\n",
      "\n",
      "\n",
      "file = ./entropy_k6_c3.hdf5\n",
      "parameter dimensions for deviance: samples = 5000, chains = 1\n",
      "Model deviance: 4233327.36\n",
      "Effective number of parameters: 3186235.45\n",
      "Model DIC: 7419562.81\n",
      "\n",
      "\n",
      "file = ./entropy_k8_c3.hdf5\n",
      "parameter dimensions for deviance: samples = 5000, chains = 1\n",
      "Model deviance: 4084041.07\n",
      "Effective number of parameters: 4637607.71\n",
      "Model DIC: 8721648.79\n",
      "\n",
      "\n",
      "file = ./entropy_k8_c1.hdf5\n",
      "parameter dimensions for deviance: samples = 5000, chains = 1\n",
      "Model deviance: 4083861.97\n",
      "Effective number of parameters: 4311336.27\n",
      "Model DIC: 8395198.24\n",
      "\n",
      "\n",
      "file = ./entropy_k4_c1.hdf5\n",
      "parameter dimensions for deviance: samples = 5000, chains = 1\n",
      "Model deviance: 4455657.24\n",
      "Effective number of parameters: 2706784.18\n",
      "Model DIC: 7162441.42\n",
      "\n",
      "\n",
      "file = ./entropy_k2_c3.hdf5\n",
      "parameter dimensions for deviance: samples = 5000, chains = 1\n",
      "Model deviance: 4936418.73\n",
      "Effective number of parameters: 2522100.82\n",
      "Model DIC: 7458519.55\n",
      "\n",
      "\n",
      "file = ./entropy_k8_c2.hdf5\n",
      "parameter dimensions for deviance: samples = 5000, chains = 1\n",
      "Model deviance: 4084970.05\n",
      "Effective number of parameters: 4322036.77\n",
      "Model DIC: 8407006.82\n",
      "\n",
      "\n",
      "file = ./entropy_k9_c3.hdf5\n",
      "parameter dimensions for deviance: samples = 5000, chains = 1\n",
      "Model deviance: 4054190.41\n",
      "Effective number of parameters: 5165851.24\n",
      "Model DIC: 9220041.65\n",
      "\n",
      "\n",
      "file = ./entropy_k9_c2.hdf5\n",
      "parameter dimensions for deviance: samples = 5000, chains = 1\n",
      "Model deviance: 4054734.02\n",
      "Effective number of parameters: 4139142.89\n",
      "Model DIC: 8193876.91\n",
      "\n",
      "\n",
      "file = ./entropy_k6_c4.hdf5\n",
      "parameter dimensions for deviance: samples = 5000, chains = 1\n",
      "Model deviance: 4233919.31\n",
      "Effective number of parameters: 3244599.32\n",
      "Model DIC: 7478518.62\n",
      "\n",
      "\n",
      "file = ./entropy_k3_c4.hdf5\n",
      "parameter dimensions for deviance: samples = 5000, chains = 1\n",
      "Model deviance: 4681933.67\n",
      "Effective number of parameters: 2371307.05\n",
      "Model DIC: 7053240.72\n",
      "\n",
      "\n",
      "file = ./entropy_k9_c1.hdf5\n",
      "parameter dimensions for deviance: samples = 5000, chains = 1\n",
      "Model deviance: 4055368.71\n",
      "Effective number of parameters: 4364773.87\n",
      "Model DIC: 8420142.58\n",
      "\n",
      "\n",
      "file = ./entropy_k5_c1.hdf5\n",
      "parameter dimensions for deviance: samples = 5000, chains = 1\n",
      "Model deviance: 4298090.84\n",
      "Effective number of parameters: 2823864.80\n",
      "Model DIC: 7121955.64\n",
      "\n",
      "\n",
      "file = ./entropy_k3_c3.hdf5\n",
      "parameter dimensions for deviance: samples = 5000, chains = 1\n",
      "Model deviance: 4681743.04\n",
      "Effective number of parameters: 2505652.72\n",
      "Model DIC: 7187395.76\n",
      "\n",
      "\n",
      "file = ./entropy_k5_c3.hdf5\n",
      "parameter dimensions for deviance: samples = 5000, chains = 1\n",
      "Model deviance: 4297438.56\n",
      "Effective number of parameters: 2791847.14\n",
      "Model DIC: 7089285.70\n",
      "\n",
      "\n",
      "file = ./entropy_k9_c4.hdf5\n",
      "parameter dimensions for deviance: samples = 5000, chains = 1\n",
      "Model deviance: 4054880.54\n",
      "Effective number of parameters: 4626164.99\n",
      "Model DIC: 8681045.53\n",
      "\n",
      "\n"
     ]
    }
   ],
   "source": [
    "for d in dic_files:\n",
    "    !cat $d\n",
    "    print('\\n')"
   ]
  },
  {
   "cell_type": "code",
   "execution_count": 139,
   "metadata": {},
   "outputs": [
    {
     "data": {
      "text/html": [
       "<div>\n",
       "<style scoped>\n",
       "    .dataframe tbody tr th:only-of-type {\n",
       "        vertical-align: middle;\n",
       "    }\n",
       "\n",
       "    .dataframe tbody tr th {\n",
       "        vertical-align: top;\n",
       "    }\n",
       "\n",
       "    .dataframe thead th {\n",
       "        text-align: right;\n",
       "    }\n",
       "</style>\n",
       "<table border=\"1\" class=\"dataframe\">\n",
       "  <thead>\n",
       "    <tr style=\"text-align: right;\">\n",
       "      <th></th>\n",
       "      <th>k</th>\n",
       "      <th>DIC</th>\n",
       "      <th>chain</th>\n",
       "    </tr>\n",
       "  </thead>\n",
       "  <tbody>\n",
       "    <tr>\n",
       "      <th>0</th>\n",
       "      <td>2</td>\n",
       "      <td>7587517.73</td>\n",
       "      <td>4</td>\n",
       "    </tr>\n",
       "    <tr>\n",
       "      <th>1</th>\n",
       "      <td>7</td>\n",
       "      <td>7494301.11</td>\n",
       "      <td>2</td>\n",
       "    </tr>\n",
       "    <tr>\n",
       "      <th>2</th>\n",
       "      <td>2</td>\n",
       "      <td>7449771.27</td>\n",
       "      <td>1</td>\n",
       "    </tr>\n",
       "    <tr>\n",
       "      <th>3</th>\n",
       "      <td>6</td>\n",
       "      <td>7634058.64</td>\n",
       "      <td>1</td>\n",
       "    </tr>\n",
       "    <tr>\n",
       "      <th>4</th>\n",
       "      <td>3</td>\n",
       "      <td>7190868.05</td>\n",
       "      <td>2</td>\n",
       "    </tr>\n",
       "  </tbody>\n",
       "</table>\n",
       "</div>"
      ],
      "text/plain": [
       "   k         DIC chain\n",
       "0  2  7587517.73     4\n",
       "1  7  7494301.11     2\n",
       "2  2  7449771.27     1\n",
       "3  6  7634058.64     1\n",
       "4  3  7190868.05     2"
      ]
     },
     "execution_count": 139,
     "metadata": {},
     "output_type": "execute_result"
    }
   ],
   "source": [
    "dic_list = []\n",
    "for d in dic_files:\n",
    "    k = d.split('_k')[1].split('_')[0] #set this \n",
    "    c = d.split('_c')[1].split('.txt')[0]\n",
    "    #print(k,c)\n",
    "    \n",
    "    dic = !grep 'DIC' $d\n",
    "    dic = float(re.search('(\\d+.\\d+)',str(dic)).group(0))\n",
    "    #print(dic)\n",
    "    \n",
    "    dic_list.append([k,dic,c])\n",
    "dic_df = pd.DataFrame(dic_list,columns=['k','DIC','chain'])\n",
    "dic_df.head()"
   ]
  },
  {
   "cell_type": "code",
   "execution_count": 140,
   "metadata": {},
   "outputs": [],
   "source": [
    "dic_df.to_csv('dic_list.csv')"
   ]
  },
  {
   "cell_type": "code",
   "execution_count": 141,
   "metadata": {},
   "outputs": [],
   "source": [
    "dic_sum = dic_df.groupby('k').describe().DIC"
   ]
  },
  {
   "cell_type": "code",
   "execution_count": 142,
   "metadata": {},
   "outputs": [
    {
     "data": {
      "text/html": [
       "<div>\n",
       "<style scoped>\n",
       "    .dataframe tbody tr th:only-of-type {\n",
       "        vertical-align: middle;\n",
       "    }\n",
       "\n",
       "    .dataframe tbody tr th {\n",
       "        vertical-align: top;\n",
       "    }\n",
       "\n",
       "    .dataframe thead th {\n",
       "        text-align: right;\n",
       "    }\n",
       "</style>\n",
       "<table border=\"1\" class=\"dataframe\">\n",
       "  <thead>\n",
       "    <tr style=\"text-align: right;\">\n",
       "      <th></th>\n",
       "      <th>count</th>\n",
       "      <th>mean</th>\n",
       "      <th>std</th>\n",
       "      <th>min</th>\n",
       "      <th>25%</th>\n",
       "      <th>50%</th>\n",
       "      <th>75%</th>\n",
       "      <th>max</th>\n",
       "    </tr>\n",
       "    <tr>\n",
       "      <th>k</th>\n",
       "      <th></th>\n",
       "      <th></th>\n",
       "      <th></th>\n",
       "      <th></th>\n",
       "      <th></th>\n",
       "      <th></th>\n",
       "      <th></th>\n",
       "      <th></th>\n",
       "    </tr>\n",
       "  </thead>\n",
       "  <tbody>\n",
       "    <tr>\n",
       "      <th>4</th>\n",
       "      <td>4.0</td>\n",
       "      <td>7.085593e+06</td>\n",
       "      <td>94034.848196</td>\n",
       "      <td>6969020.98</td>\n",
       "      <td>7.029440e+06</td>\n",
       "      <td>7105454.920</td>\n",
       "      <td>7.161608e+06</td>\n",
       "      <td>7162441.42</td>\n",
       "    </tr>\n",
       "    <tr>\n",
       "      <th>5</th>\n",
       "      <td>4.0</td>\n",
       "      <td>7.188168e+06</td>\n",
       "      <td>102321.815874</td>\n",
       "      <td>7089285.70</td>\n",
       "      <td>7.113788e+06</td>\n",
       "      <td>7175066.420</td>\n",
       "      <td>7.249447e+06</td>\n",
       "      <td>7313254.93</td>\n",
       "    </tr>\n",
       "    <tr>\n",
       "      <th>3</th>\n",
       "      <td>4.0</td>\n",
       "      <td>7.191336e+06</td>\n",
       "      <td>114590.814620</td>\n",
       "      <td>7053240.72</td>\n",
       "      <td>7.153857e+06</td>\n",
       "      <td>7189131.905</td>\n",
       "      <td>7.226611e+06</td>\n",
       "      <td>7333839.03</td>\n",
       "    </tr>\n",
       "    <tr>\n",
       "      <th>6</th>\n",
       "      <td>4.0</td>\n",
       "      <td>7.472509e+06</td>\n",
       "      <td>118425.170690</td>\n",
       "      <td>7357897.21</td>\n",
       "      <td>7.404146e+06</td>\n",
       "      <td>7449040.715</td>\n",
       "      <td>7.517404e+06</td>\n",
       "      <td>7634058.64</td>\n",
       "    </tr>\n",
       "    <tr>\n",
       "      <th>2</th>\n",
       "      <td>4.0</td>\n",
       "      <td>7.526406e+06</td>\n",
       "      <td>84010.707611</td>\n",
       "      <td>7449771.27</td>\n",
       "      <td>7.456332e+06</td>\n",
       "      <td>7523018.640</td>\n",
       "      <td>7.593092e+06</td>\n",
       "      <td>7609816.44</td>\n",
       "    </tr>\n",
       "    <tr>\n",
       "      <th>7</th>\n",
       "      <td>4.0</td>\n",
       "      <td>7.664665e+06</td>\n",
       "      <td>241956.683719</td>\n",
       "      <td>7477001.80</td>\n",
       "      <td>7.489976e+06</td>\n",
       "      <td>7592099.490</td>\n",
       "      <td>7.766788e+06</td>\n",
       "      <td>7997457.85</td>\n",
       "    </tr>\n",
       "    <tr>\n",
       "      <th>8</th>\n",
       "      <td>4.0</td>\n",
       "      <td>8.468876e+06</td>\n",
       "      <td>170188.217244</td>\n",
       "      <td>8351650.59</td>\n",
       "      <td>8.384311e+06</td>\n",
       "      <td>8401102.530</td>\n",
       "      <td>8.485667e+06</td>\n",
       "      <td>8721648.79</td>\n",
       "    </tr>\n",
       "    <tr>\n",
       "      <th>9</th>\n",
       "      <td>4.0</td>\n",
       "      <td>8.628777e+06</td>\n",
       "      <td>441585.135264</td>\n",
       "      <td>8193876.91</td>\n",
       "      <td>8.363576e+06</td>\n",
       "      <td>8550594.055</td>\n",
       "      <td>8.815795e+06</td>\n",
       "      <td>9220041.65</td>\n",
       "    </tr>\n",
       "  </tbody>\n",
       "</table>\n",
       "</div>"
      ],
      "text/plain": [
       "   count          mean            std         min           25%          50%  \\\n",
       "k                                                                              \n",
       "4    4.0  7.085593e+06   94034.848196  6969020.98  7.029440e+06  7105454.920   \n",
       "5    4.0  7.188168e+06  102321.815874  7089285.70  7.113788e+06  7175066.420   \n",
       "3    4.0  7.191336e+06  114590.814620  7053240.72  7.153857e+06  7189131.905   \n",
       "6    4.0  7.472509e+06  118425.170690  7357897.21  7.404146e+06  7449040.715   \n",
       "2    4.0  7.526406e+06   84010.707611  7449771.27  7.456332e+06  7523018.640   \n",
       "7    4.0  7.664665e+06  241956.683719  7477001.80  7.489976e+06  7592099.490   \n",
       "8    4.0  8.468876e+06  170188.217244  8351650.59  8.384311e+06  8401102.530   \n",
       "9    4.0  8.628777e+06  441585.135264  8193876.91  8.363576e+06  8550594.055   \n",
       "\n",
       "            75%         max  \n",
       "k                            \n",
       "4  7.161608e+06  7162441.42  \n",
       "5  7.249447e+06  7313254.93  \n",
       "3  7.226611e+06  7333839.03  \n",
       "6  7.517404e+06  7634058.64  \n",
       "2  7.593092e+06  7609816.44  \n",
       "7  7.766788e+06  7997457.85  \n",
       "8  8.485667e+06  8721648.79  \n",
       "9  8.815795e+06  9220041.65  "
      ]
     },
     "execution_count": 142,
     "metadata": {},
     "output_type": "execute_result"
    }
   ],
   "source": [
    "dic_sum.sort_values('mean')"
   ]
  },
  {
   "cell_type": "code",
   "execution_count": 143,
   "metadata": {},
   "outputs": [],
   "source": [
    "dic_sum.to_csv('dic_sum.csv')"
   ]
  },
  {
   "cell_type": "markdown",
   "metadata": {},
   "source": [
    "### Get gprob and q for each k, and mcmc metrics"
   ]
  },
  {
   "cell_type": "code",
   "execution_count": 144,
   "metadata": {},
   "outputs": [
    {
     "name": "stdout",
     "output_type": "stream",
     "text": [
      "file = entropy_k2_c1.hdf5\n",
      "file = entropy_k2_c2.hdf5\n",
      "file = entropy_k2_c3.hdf5\n",
      "file = entropy_k2_c4.hdf5\n",
      "parameter dimensions for q: ind = 160, populations = 2, samples = 5000, chains = 4\n",
      "file = entropy_k3_c1.hdf5\n",
      "file = entropy_k3_c2.hdf5\n",
      "file = entropy_k3_c3.hdf5\n",
      "file = entropy_k3_c4.hdf5\n",
      "parameter dimensions for q: ind = 160, populations = 3, samples = 5000, chains = 4\n",
      "file = entropy_k4_c1.hdf5\n",
      "file = entropy_k4_c2.hdf5\n",
      "file = entropy_k4_c3.hdf5\n",
      "file = entropy_k4_c4.hdf5\n",
      "parameter dimensions for q: ind = 160, populations = 4, samples = 5000, chains = 4\n",
      "file = entropy_k5_c1.hdf5\n",
      "file = entropy_k5_c2.hdf5\n",
      "file = entropy_k5_c3.hdf5\n",
      "file = entropy_k5_c4.hdf5\n",
      "parameter dimensions for q: ind = 160, populations = 5, samples = 5000, chains = 4\n",
      "file = entropy_k6_c1.hdf5\n",
      "file = entropy_k6_c2.hdf5\n",
      "file = entropy_k6_c3.hdf5\n",
      "file = entropy_k6_c4.hdf5\n",
      "parameter dimensions for q: ind = 160, populations = 6, samples = 5000, chains = 4\n"
     ]
    }
   ],
   "source": [
    "# ancestry coeffecients \n",
    "!$estpost *k2*.hdf5 -p q -s 0 -o q2.txt\n",
    "\n",
    "!$estpost *k3*.hdf5 -p q -s 0 -o q3.txt\n",
    "\n",
    "!$estpost *k4*.hdf5 -p q -s 0 -o q4.txt\n",
    "\n",
    "!$estpost *k5*.hdf5 -p q -s 0 -o q5.txt\n",
    "\n",
    "!$estpost *k6*.hdf5 -p q -s 0 -o q6.txt\n",
    "\n",
    "#!$estpost *k7*.hdf5 -p q -s 0 -o q7.txt\n",
    "\n",
    "#!$estpost *k8*.hdf5 -p q -s 0 -o q8.txt\n",
    "\n",
    "#!$estpost *k9*.hdf5 -p q -s 0 -o q9.txt"
   ]
  },
  {
   "cell_type": "code",
   "execution_count": 145,
   "metadata": {},
   "outputs": [
    {
     "name": "stdout",
     "output_type": "stream",
     "text": [
      "file = entropy_k2_c1.hdf5\n",
      "file = entropy_k2_c2.hdf5\n",
      "file = entropy_k2_c3.hdf5\n",
      "file = entropy_k2_c4.hdf5\n",
      "parameter dimensions for q: ind = 160, populations = 2, samples = 5000, chains = 4\n",
      "file = entropy_k3_c1.hdf5\n",
      "file = entropy_k3_c2.hdf5\n",
      "file = entropy_k3_c3.hdf5\n",
      "file = entropy_k3_c4.hdf5\n",
      "parameter dimensions for q: ind = 160, populations = 3, samples = 5000, chains = 4\n",
      "file = entropy_k4_c1.hdf5\n",
      "file = entropy_k4_c2.hdf5\n",
      "file = entropy_k4_c3.hdf5\n",
      "file = entropy_k4_c4.hdf5\n",
      "parameter dimensions for q: ind = 160, populations = 4, samples = 5000, chains = 4\n",
      "file = entropy_k5_c1.hdf5\n",
      "file = entropy_k5_c2.hdf5\n",
      "file = entropy_k5_c3.hdf5\n",
      "file = entropy_k5_c4.hdf5\n",
      "parameter dimensions for q: ind = 160, populations = 5, samples = 5000, chains = 4\n",
      "file = entropy_k6_c1.hdf5\n",
      "file = entropy_k6_c2.hdf5\n",
      "file = entropy_k6_c3.hdf5\n",
      "file = entropy_k6_c4.hdf5\n",
      "parameter dimensions for q: ind = 160, populations = 6, samples = 5000, chains = 4\n"
     ]
    }
   ],
   "source": [
    "#MCMC diagnostics\n",
    "!$estpost *k2*.hdf5 -p q -s 4 -o MCMC_k2.txt\n",
    "\n",
    "!$estpost *k3*.hdf5 -p q -s 4 -o MCMC_k3.txt\n",
    "\n",
    "!$estpost *k4*.hdf5 -p q -s 4 -o MCMC_k4.txt\n",
    "\n",
    "!$estpost *k5*.hdf5 -p q -s 4 -o MCMC_k5.txt\n",
    "\n",
    "!$estpost *k6*.hdf5 -p q -s 4 -o MCMC_k6.txt\n",
    "\n",
    "#!$estpost *k7*.hdf5 -p q -s 4 -o MCMC_k7.txt\n",
    "\n",
    "#!$estpost *k8*.hdf5 -p q -s 4 -o MCMC_k8.txt\n",
    "\n",
    "#!$estpost *k9*.hdf5 -p q -s 4 -o MCMC_k9.txt"
   ]
  },
  {
   "cell_type": "markdown",
   "metadata": {},
   "source": [
    "### make slurm script to make gprob file\n",
    "\n",
    "    use all k and chains to make gprob"
   ]
  },
  {
   "cell_type": "code",
   "execution_count": 58,
   "metadata": {},
   "outputs": [
    {
     "name": "stdout",
     "output_type": "stream",
     "text": [
      "/data/gpfs/assoc/denovo/tfaske/rabbit/full/REDO/entropy_sub\n"
     ]
    }
   ],
   "source": [
    "cd $ent_dir"
   ]
  },
  {
   "cell_type": "code",
   "execution_count": 146,
   "metadata": {},
   "outputs": [],
   "source": [
    "### select slurm options\n",
    "account = 'cpu-s5-denovo-0'\n",
    "partition = 'cpu-core-0'\n",
    "time = '1-00:00:00' #time limit 4\n",
    "cpus = 2 #to prevent hammering one node\n",
    "mem_cpu = 6000\n",
    "email = 'tfaske@nevada.unr.edu'\n",
    "\n",
    "### select k \n",
    "num_k = [2,3,4,5,6]"
   ]
  },
  {
   "cell_type": "code",
   "execution_count": 147,
   "metadata": {},
   "outputs": [],
   "source": [
    "def write_gprob_k_sh(account,partition,time,cpus,mem_cpu,email,estpost,num_k):\n",
    "    for k in num_k:\n",
    "        with open(\"shdir/run_gprob_k%d.sh\" % (k), \"w\") as o:\n",
    "            o.write(\"\"\"#!/usr/bin/env bash\n",
    "#SBATCH --account=%s\n",
    "#SBATCH --partition=%s\n",
    "#SBATCH --time=%s\n",
    "#SBATCH --ntasks 1\n",
    "#SBATCH --cpus-per-task %d\n",
    "#SBATCH --mem-per-cpu=%d\n",
    "#SBATCH --job-name gprob_k%d\n",
    "#SBATCH --output output_gprob_k%d.txt\n",
    "#SBATCH --mail-type=END\n",
    "#SBATCH --mail-user=%s\\n\\n\"\"\" % (account,partition,time,cpus,mem_cpu,k,k,email))\n",
    "        \n",
    "            o.write(\"%s ../*k%d*.hdf5 -p gprob -s 0 -o ../gprob%d.txt\" % (estpost,k,k))"
   ]
  },
  {
   "cell_type": "code",
   "execution_count": 148,
   "metadata": {},
   "outputs": [],
   "source": [
    "write_gprob_k_sh(account,partition,time,cpus,mem_cpu,email,estpost,num_k)"
   ]
  },
  {
   "cell_type": "code",
   "execution_count": 149,
   "metadata": {},
   "outputs": [
    {
     "data": {
      "text/plain": [
       "['/data/gpfs/assoc/denovo/tfaske/rabbit/full/REDO/entropy_sub/shdir/run_gprob_k2.sh',\n",
       " '/data/gpfs/assoc/denovo/tfaske/rabbit/full/REDO/entropy_sub/shdir/run_gprob_k3.sh',\n",
       " '/data/gpfs/assoc/denovo/tfaske/rabbit/full/REDO/entropy_sub/shdir/run_gprob_k4.sh',\n",
       " '/data/gpfs/assoc/denovo/tfaske/rabbit/full/REDO/entropy_sub/shdir/run_gprob_k5.sh',\n",
       " '/data/gpfs/assoc/denovo/tfaske/rabbit/full/REDO/entropy_sub/shdir/run_gprob_k6.sh']"
      ]
     },
     "execution_count": 149,
     "metadata": {},
     "output_type": "execute_result"
    }
   ],
   "source": [
    "gprobShells = !find $ent_dir -name 'run_gprob*.sh'\n",
    "gprobShells = gprobShells.sort()\n",
    "gprobShells"
   ]
  },
  {
   "cell_type": "code",
   "execution_count": 150,
   "metadata": {},
   "outputs": [],
   "source": [
    "def write_sbatch_gprobShells(gprobShells):\n",
    "    with open(\"shdir/sbatch_gprob.sh\", \"w\") as o:\n",
    "        o.write(\"\"\"#!/usr/bin/env bash \\n\"\"\")\n",
    "        for sh in gprobShells:\n",
    "            o.write(\"\"\"sbatch %s\\n\"\"\" % (sh))"
   ]
  },
  {
   "cell_type": "code",
   "execution_count": 151,
   "metadata": {},
   "outputs": [],
   "source": [
    "write_sbatch_gprobShells(gprobShells)"
   ]
  },
  {
   "cell_type": "markdown",
   "metadata": {},
   "source": [
    "### gprob all \n",
    "\n",
    "select only the ks you want. Will not work on ~7 ks with all the chains. It dies. \n",
    "\n",
    "Run 2,3,4,5,6 together"
   ]
  },
  {
   "cell_type": "code",
   "execution_count": 152,
   "metadata": {},
   "outputs": [
    {
     "data": {
      "text/plain": [
       "['../entropy_k2_c1.hdf5',\n",
       " '../entropy_k2_c2.hdf5',\n",
       " '../entropy_k2_c3.hdf5',\n",
       " '../entropy_k2_c4.hdf5',\n",
       " '../entropy_k3_c1.hdf5',\n",
       " '../entropy_k3_c2.hdf5',\n",
       " '../entropy_k3_c3.hdf5',\n",
       " '../entropy_k3_c4.hdf5',\n",
       " '../entropy_k4_c1.hdf5',\n",
       " '../entropy_k4_c2.hdf5',\n",
       " '../entropy_k4_c3.hdf5',\n",
       " '../entropy_k4_c4.hdf5',\n",
       " '../entropy_k5_c1.hdf5',\n",
       " '../entropy_k5_c2.hdf5',\n",
       " '../entropy_k5_c3.hdf5',\n",
       " '../entropy_k5_c4.hdf5',\n",
       " '../entropy_k6_c1.hdf5',\n",
       " '../entropy_k6_c2.hdf5',\n",
       " '../entropy_k6_c3.hdf5',\n",
       " '../entropy_k6_c4.hdf5']"
      ]
     },
     "execution_count": 152,
     "metadata": {},
     "output_type": "execute_result"
    }
   ],
   "source": [
    "hdf5_files = []\n",
    "num_k = [2,3,4,5,6]\n",
    "num_c = 4\n",
    "for k in num_k:\n",
    "    for c in range(1,num_c+1):\n",
    "        f = '../entropy_k' + str(k) + '_c' + str(c) + '.hdf5'\n",
    "        hdf5_files.append(f)\n",
    "hdf5_files"
   ]
  },
  {
   "cell_type": "code",
   "execution_count": 153,
   "metadata": {},
   "outputs": [
    {
     "data": {
      "text/plain": [
       "'/data/gpfs/home/tfaske/g/anaconda3/envs/entropy/bin/estpost.entropy ../entropy_k2_c1.hdf5 ../entropy_k2_c2.hdf5 ../entropy_k2_c3.hdf5 ../entropy_k2_c4.hdf5 ../entropy_k3_c1.hdf5 ../entropy_k3_c2.hdf5 ../entropy_k3_c3.hdf5 ../entropy_k3_c4.hdf5 ../entropy_k4_c1.hdf5 ../entropy_k4_c2.hdf5 ../entropy_k4_c3.hdf5 ../entropy_k4_c4.hdf5 ../entropy_k5_c1.hdf5 ../entropy_k5_c2.hdf5 ../entropy_k5_c3.hdf5 ../entropy_k5_c4.hdf5 ../entropy_k6_c1.hdf5 ../entropy_k6_c2.hdf5 ../entropy_k6_c3.hdf5 ../entropy_k6_c4.hdf5 -p gprob -s 0 -o ../gprobAll.txt'"
      ]
     },
     "execution_count": 153,
     "metadata": {},
     "output_type": "execute_result"
    }
   ],
   "source": [
    "gprob_cmd = estpost + ' ' + ' '.join(hdf5_files) + ' -p gprob -s 0 -o ../gprobAll.txt'\n",
    "gprob_cmd"
   ]
  },
  {
   "cell_type": "code",
   "execution_count": 154,
   "metadata": {},
   "outputs": [],
   "source": [
    "### select slurm options\n",
    "account = 'cpu-s5-denovo-0'\n",
    "partition = 'cpu-core-0'\n",
    "time = '1-00:00:00' #time limit 4\n",
    "cpus = 1 #to prevent hammering one node\n",
    "mem_cpu = 100000\n",
    "email = 'tfaske@nevada.unr.edu'"
   ]
  },
  {
   "cell_type": "code",
   "execution_count": 155,
   "metadata": {},
   "outputs": [],
   "source": [
    "def write_gprob_all_sh(account,partition,time,cpus,mem_cpu,email,estpost,gprob_cmd):\n",
    "        with open(\"shdir/run_gprobAll.sh\", \"w\") as o:\n",
    "            o.write(\"\"\"#!/usr/bin/env bash\n",
    "#SBATCH --account=%s\n",
    "#SBATCH --partition=%s\n",
    "#SBATCH --time=%s\n",
    "#SBATCH --ntasks 1\n",
    "#SBATCH --cpus-per-task %d\n",
    "#SBATCH --mem-per-cpu=%d\n",
    "#SBATCH --job-name gprobAll\n",
    "#SBATCH --output output_gprobAll.txt\n",
    "#SBATCH --mail-type=END\n",
    "#SBATCH --mail-user=%s\n",
    "\n",
    "%s\"\"\" % (account,partition,time,cpus,mem_cpu,email,gprob_cmd))"
   ]
  },
  {
   "cell_type": "code",
   "execution_count": 156,
   "metadata": {},
   "outputs": [],
   "source": [
    "write_gprob_all_sh(account,partition,time,cpus,mem_cpu,email,estpost,gprob_cmd)"
   ]
  },
  {
   "cell_type": "markdown",
   "metadata": {},
   "source": [
    "## Run gprob sh \n",
    "\n",
    "    cd /data/gpfs/assoc/denovo/PHHA/entropy\n",
    "    source activate entropy\n",
    "    sbatch run_gprob.sh"
   ]
  }
 ],
 "metadata": {
  "kernelspec": {
   "display_name": "Python 3 (ipykernel)",
   "language": "python",
   "name": "python3"
  },
  "language_info": {
   "codemirror_mode": {
    "name": "ipython",
    "version": 3
   },
   "file_extension": ".py",
   "mimetype": "text/x-python",
   "name": "python",
   "nbconvert_exporter": "python",
   "pygments_lexer": "ipython3",
   "version": "3.11.0"
  }
 },
 "nbformat": 4,
 "nbformat_minor": 2
}
