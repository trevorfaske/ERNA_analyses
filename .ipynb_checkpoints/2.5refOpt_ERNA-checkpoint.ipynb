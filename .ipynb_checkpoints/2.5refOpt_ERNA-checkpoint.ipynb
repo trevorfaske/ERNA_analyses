{
 "cells": [
  {
   "cell_type": "markdown",
   "metadata": {},
   "source": [
    "# Optimize denovo reference\n",
    "    This script uses scripts provided by dDocent to de novo assembly in CD-HIT\n",
    "    https://www.ddocent.com/assembly/\n",
    "    \n",
    "    Run dDocent first with basic commands. Use individuals retained from filtering to make assembly\n",
    "    \n",
    "## REDONE on 12/20/2022  \n",
    "\n",
    "This is after most analyses. Want to be more strict about clustering simularity. Want to thoughtfully select individuals based off what is known"
   ]
  },
  {
   "cell_type": "markdown",
   "metadata": {},
   "source": [
    "## For reference throughout this notebook:\n",
    "\n",
    "**All unformatted text part of Trevor's original workflow.  Seth's annotations follow these rules**:  \n",
    "+ *this text* = conceptual explanation of code<br>\n",
    "+ <span style=\"color:purple\">**this text**</span> = logical `code` explanation<br>\n",
    "+ <span style=\"color:tomato\">*this text*</span> = questions, uncertainties, parenthetical comments<br>\n",
    "&nbsp;<br>\n",
    "\n",
    "With that defined let's create a new section to talk about organization in this notebook...\n",
    "<hr>\n",
    "<hr>\n",
    "    \n",
    "## Sections:\n",
    "\n",
    "1. Exploring file contents and formatting to run `RefOpt.sh`\n",
    "2. Building slurm scripts to parallel run `RefOpt.sh`\n",
    "3. Interpreting `RefOpt` output for determing optimal c parameter\n",
    "4. Building slurm scripts to parallel run `MapOpt.sh`\n",
    "5. Compare k parameters from `MapOpt` to create optimal assembly from full dataset"
   ]
  },
  {
   "cell_type": "markdown",
   "metadata": {},
   "source": [
    "### 1.1 Import packages"
   ]
  },
  {
   "cell_type": "code",
   "execution_count": 2,
   "metadata": {
    "ExecuteTime": {}
   },
   "outputs": [],
   "source": [
    "import sys\n",
    "import ipyparallel as ipp\n",
    "import os\n",
    "from os import environ\n",
    "import gzip\n",
    "import warnings\n",
    "import pandas as pd\n",
    "import numpy as np\n",
    "import scipy as sp\n",
    "import glob\n",
    "import re\n",
    "import random"
   ]
  },
  {
   "cell_type": "markdown",
   "metadata": {},
   "source": [
    "*Just defining directory where we are working and checking with `pwd`*"
   ]
  },
  {
   "cell_type": "code",
   "execution_count": 32,
   "metadata": {
    "ExecuteTime": {}
   },
   "outputs": [],
   "source": [
    "root = \"/data/gpfs/assoc/denovo/tfaske/rabbit/full/REDO\""
   ]
  },
  {
   "cell_type": "code",
   "execution_count": 33,
   "metadata": {
    "ExecuteTime": {}
   },
   "outputs": [
    {
     "name": "stdout",
     "output_type": "stream",
     "text": [
      "/data/gpfs/assoc/denovo/tfaske/rabbit/full/REDO\n"
     ]
    }
   ],
   "source": [
    "cd $root"
   ]
  },
  {
   "cell_type": "code",
   "execution_count": 34,
   "metadata": {
    "ExecuteTime": {}
   },
   "outputs": [
    {
     "data": {
      "text/plain": [
       "'/data/gpfs/assoc/denovo/tfaske/rabbit/full/REDO'"
      ]
     },
     "execution_count": 34,
     "metadata": {},
     "output_type": "execute_result"
    }
   ],
   "source": [
    "pwd"
   ]
  },
  {
   "cell_type": "markdown",
   "metadata": {},
   "source": [
    "### 1.2 Make assembly refopt dir and assign fastq dir"
   ]
  },
  {
   "cell_type": "markdown",
   "metadata": {},
   "source": [
    "*directory itself is called 'assembly' while 'assembly_dir' is variable name presumably to avoid some variable/function confusion*"
   ]
  },
  {
   "cell_type": "code",
   "execution_count": 37,
   "metadata": {},
   "outputs": [
    {
     "name": "stdout",
     "output_type": "stream",
     "text": [
      "mkdir: cannot create directory ‘assembly’: File exists\r\n"
     ]
    }
   ],
   "source": [
    "!mkdir assembly"
   ]
  },
  {
   "cell_type": "code",
   "execution_count": 38,
   "metadata": {},
   "outputs": [],
   "source": [
    "!mkdir assembly/refOpt"
   ]
  },
  {
   "cell_type": "code",
   "execution_count": 39,
   "metadata": {},
   "outputs": [],
   "source": [
    "assembly_dir = os.path.join(root,'assembly')"
   ]
  },
  {
   "cell_type": "code",
   "execution_count": 40,
   "metadata": {},
   "outputs": [],
   "source": [
    "refOpt_dir = os.path.join(assembly_dir,'refOpt')"
   ]
  },
  {
   "cell_type": "code",
   "execution_count": 41,
   "metadata": {},
   "outputs": [],
   "source": [
    "fq_dir = '/data/gpfs/assoc/denovo/tfaske/rabbit/full/demult/fastq'"
   ]
  },
  {
   "cell_type": "markdown",
   "metadata": {},
   "source": [
    "### 1.5 Sample random fastq for optimizer  \n",
    "\n",
    "using pca_df.csv from old analyses, select individuals. Do it in R, easier for me.\n",
    "\n",
    "Select 25 individuals. One of each variety / lineage combo + three each hololueca_grey & oreophila_green"
   ]
  },
  {
   "cell_type": "markdown",
   "metadata": {},
   "source": [
    "*Idea here is to reduce the data we are initializing `RefOpt` and `MapOpt` on for efficiency purposes.  These test runs are just to determine optimal c, k1, and k2 parameters to build a final assembly for mapping.  Both scripts are huge alignment processes and would take way too long to run on full dataset.  Using 1 individual from eqach population with the most reads is a nice compromise. The final assembly will use **full** dataset.*"
   ]
  },
  {
   "cell_type": "code",
   "execution_count": 42,
   "metadata": {},
   "outputs": [
    {
     "name": "stdout",
     "output_type": "stream",
     "text": [
      "/data/gpfs/assoc/denovo/tfaske/rabbit/full/REDO\n"
     ]
    }
   ],
   "source": [
    "cd $root"
   ]
  },
  {
   "cell_type": "code",
   "execution_count": 43,
   "metadata": {},
   "outputs": [
    {
     "name": "stdout",
     "output_type": "stream",
     "text": [
      "The rpy2.ipython extension is already loaded. To reload it, use:\n",
      "  %reload_ext rpy2.ipython\n"
     ]
    }
   ],
   "source": [
    "%load_ext rpy2.ipython"
   ]
  },
  {
   "cell_type": "code",
   "execution_count": 44,
   "metadata": {},
   "outputs": [
    {
     "name": "stdout",
     "output_type": "stream",
     "text": [
      "[1] 585  24\n"
     ]
    }
   ],
   "source": [
    "%%R \n",
    "\n",
    "setwd('/data/gpfs/assoc/denovo/tfaske/rabbit/full/REDO')\n",
    "\n",
    "pca_df <- read.csv('data/pca_df.csv')\n",
    "\n",
    "dim(pca_df)\n",
    "#print(table(paste0(pca_df$Variety,'_',pca_df$Color))"
   ]
  },
  {
   "cell_type": "code",
   "execution_count": 46,
   "metadata": {},
   "outputs": [
    {
     "name": "stdout",
     "output_type": "stream",
     "text": [
      "\n",
      "    arenaria_green    bigelovii_green   graveolens_green     hololueca_grey \n",
      "                 5                  9                 11                219 \n",
      "  hololueca_hybrid       iridis_green      juncea_hybrid latisquamea_hybrid \n",
      "                30                  6                 11                  6 \n",
      " mohavensis_hybrid        nana_hybrid       nitida_green    oreophila_green \n",
      "                 5                  5                  6                 60 \n",
      "    oreophila_grey   oreophila_hybrid  salicifolia_green   salicifolia_grey \n",
      "                 4                 17                  8                 18 \n",
      "salicifolia_hybrid     speciosa_green      speciosa_grey    speciosa_hybrid \n",
      "                14                  3                 22                 34 \n",
      "   turbinata_green \n",
      "                17 \n"
     ]
    }
   ],
   "source": [
    "%%R\n",
    "\n",
    "pca_known <- pca_df[-which(is.na(pca_df$Ssp)),]\n",
    "pca_known$Variety <- as.character(pca_known$Variety)\n",
    "pca_known$Color <- as.character(pca_known$Color)\n",
    "#dim(pca_known)\n",
    "#table(pca_known$Variety)\n",
    "pca_known$var_col <- as.character(paste0(pca_known$Variety,'_',pca_known$Color))\n",
    "#table(pca_known$var_col)"
   ]
  },
  {
   "cell_type": "code",
   "execution_count": 50,
   "metadata": {},
   "outputs": [],
   "source": [
    "%%R\n",
    "\n",
    "#select individuals to keep\n",
    "more <- c('hololueca_grey','oreophila_green')\n",
    "keep_fq <- c()\n",
    "for (vc in unique(pca_known$var_col)){\n",
    "    #print(vc)\n",
    "    df <- pca_known[which(pca_known$var_col == vc),]\n",
    "    if (vc %in% more){\n",
    "        keep_vc <- sample(df$All,3)\n",
    "    }else{\n",
    "        keep_vc <- sample(df$All,1)\n",
    "    }\n",
    "    keep_fq <- c(keep_fq,keep_vc)\n",
    "}"
   ]
  },
  {
   "cell_type": "code",
   "execution_count": 56,
   "metadata": {},
   "outputs": [],
   "source": [
    "%%R\n",
    "#keep_fq\n",
    "### mv keep_fq to refOpt\n",
    "\n",
    "fq_dir <- '/data/gpfs/assoc/denovo/tfaske/rabbit/full/demult/fastq/'\n",
    "refOpt_dir <- '/data/gpfs/assoc/denovo/tfaske/rabbit/full/REDO/assembly/refOpt/'\n",
    "\n",
    "#cp_cmd <- array(NA,dim=length(keep_fq))\n",
    "for (i in 1:length(keep_fq)){\n",
    "    #cp_cmd[i] <- paste0('cp ',fq_dir,keep_fq[i],'.F.fq.gz ',refOpt_dir)\n",
    "    cmd <- paste0('cp ',fq_dir,keep_fq[i],'.F.fq.gz ',refOpt_dir)\n",
    "    system(cmd)\n",
    "}\n",
    "#cp_cmd"
   ]
  },
  {
   "cell_type": "code",
   "execution_count": 57,
   "metadata": {},
   "outputs": [
    {
     "name": "stdout",
     "output_type": "stream",
     "text": [
      "25\r\n"
     ]
    }
   ],
   "source": [
    "!ls {refOpt_dir}/*gz | wc -l "
   ]
  },
  {
   "cell_type": "markdown",
   "metadata": {
    "ExecuteTime": {}
   },
   "source": [
    "# 2. Make a slurm script to run ReferenceOpt.sh   \n",
    "\n",
    "ReferenceOpt.sh minK1 maxK1 minK2 maxK2 Assembly_Type Processors  \n",
    "    \n",
    "#### NOTE: must run dDocent to at least trim first "
   ]
  },
  {
   "cell_type": "markdown",
   "metadata": {},
   "source": [
    "### Understanding ReferenceOpt.sh (in process of transferring notes)\n",
    "\n",
    "Much of the details can't be found here: http://www.ddocent.com/assembly/<br>\n",
    "This script is written by Jon Puritz to determine what c parameter is optimal for reference assembly.  The steps below are repeatedly iteratively with all c values 0.80-0.98 and 0.02 increments.  Each of these c parameters are also run with each combination of k1 and k2 parameters based on a set min-max range (here we use 4-10 for both).  k1 indicates the minimum number of times a contig must occur *within* an inidividual to be used in clustering while k2 indicates minimum number of individuals a contig must occur in to be included.  c parameter used to set cluster similarity threshold.  Output is designed to identify point of inflection where data is goes from reliable to erroneous.  k parameter ranges simply used to ensure that interpretation of inflection point isn't biased by k pairing. The workflow generally follows:  \n",
    "+ Read trimming\n",
    "+ Initial clustering with low similarity via `CD-HIT`\n",
    "    + Original script may have called for 80% which is very loose but is intended to do initial rough grouping to reduce downstream complexity.  <span style=\"color:tomato\">Need to check this script as it may have been modified by Trevor to use different parameters at clustering steps</span>\n",
    "+ Clustering with `rainbow`\n",
    "+ Mapping of forward reads with `bwa`\n",
    "    + If using paired-end reads, adds additional step to compare clustering of `CD-HIT` with reverse reads.  If clustered accurately, clustering of reverse and forward reads should agree"
   ]
  },
  {
   "cell_type": "code",
   "execution_count": 58,
   "metadata": {},
   "outputs": [],
   "source": [
    "refOpt = '/data/gpfs/assoc/denovo/src/refOpt/./ReferenceOpt.sh'\n",
    "refOpt_dir = os.path.join(assembly_dir,'refOpt')"
   ]
  },
  {
   "cell_type": "code",
   "execution_count": 59,
   "metadata": {},
   "outputs": [
    {
     "name": "stdout",
     "output_type": "stream",
     "text": [
      "/data/gpfs/assoc/denovo/tfaske/rabbit/full/REDO/assembly/refOpt\n"
     ]
    }
   ],
   "source": [
    "cd $refOpt_dir"
   ]
  },
  {
   "cell_type": "code",
   "execution_count": 60,
   "metadata": {},
   "outputs": [],
   "source": [
    "### select options\n",
    "account = 'cpu-s5-denovo-0'\n",
    "partition = 'cpu-core-0'\n",
    "jobname = 'ERNA_refOpt'\n",
    "time = '4-00:00:00' #time limit 4 days\n",
    "minK1 = 4\n",
    "maxK1 = 10\n",
    "minK2 = 4\n",
    "maxK2 = 10\n",
    "Type = 'SE' \n",
    "cpus = 64\n",
    "mem_cpu = 2500\n",
    "email = 'tfaske@nevada.unr.edu'"
   ]
  },
  {
   "cell_type": "code",
   "execution_count": 61,
   "metadata": {
    "ExecuteTime": {}
   },
   "outputs": [],
   "source": [
    "def write_refOpt_sh(account,partition,cpus,mem_cpu,email,refOpt,minK1,maxK1,minK2,maxK2,Type):\n",
    "    with open(\"run_refOpt.sh\", \"w\") as o:\n",
    "        o.write(\"\"\"#!/usr/bin/env bash\n",
    "#SBATCH --account=%s\n",
    "#SBATCH --partition=%s\n",
    "#SBATCH --ntasks 1\n",
    "#SBATCH --cpus-per-task %d\n",
    "#SBATCH --mem-per-cpu=%d\n",
    "#SBATCH --job-name %s\n",
    "#SBATCH --output output_refOpt.txt\n",
    "#SBATCH --mail-type=END\n",
    "#SBATCH --mail-user=%s\\n\\n\"\"\" % (account,partition,int(cpus),int(mem_cpu),jobname,email))\n",
    "\n",
    "        #ReferenceOpt.sh minK1 maxK1 minK2 maxK2 Assembly_Type Processors\n",
    "        o.write(\"%s %d %d %d %d %s %d\" % (refOpt,minK1,maxK1,minK2,maxK2,Type,cpus))"
   ]
  },
  {
   "cell_type": "code",
   "execution_count": 62,
   "metadata": {},
   "outputs": [],
   "source": [
    "write_refOpt_sh(account,partition,cpus,mem_cpu,email,refOpt,minK1,maxK1,minK2,maxK2,Type)"
   ]
  },
  {
   "cell_type": "markdown",
   "metadata": {},
   "source": [
    "# run refOpt.sh in slurm\n",
    "    cd /data/gpfs/assoc/denovo/ERNA/assembly/refOpt\n",
    "    source activate ddocent_env\n",
    "    sbatch run_refOpt.sh"
   ]
  },
  {
   "cell_type": "markdown",
   "metadata": {},
   "source": [
    "# Visualize kopt from refOpt"
   ]
  },
  {
   "cell_type": "code",
   "execution_count": 63,
   "metadata": {},
   "outputs": [
    {
     "name": "stdout",
     "output_type": "stream",
     "text": [
      "/data/gpfs/assoc/denovo/tfaske/rabbit/full/REDO/assembly/refOpt\n"
     ]
    }
   ],
   "source": [
    "cd $refOpt_dir"
   ]
  },
  {
   "cell_type": "code",
   "execution_count": 64,
   "metadata": {},
   "outputs": [
    {
     "name": "stdout",
     "output_type": "stream",
     "text": [
      "The top three most common number of contigs\r\n",
      "X\tContig number\r\n",
      "2\t5218\r\n",
      "2\t4459\r\n",
      "2\t4203\r\n",
      "The top three most common number of contigs (with values rounded)\r\n",
      "X\tContig number\r\n",
      "11\t3300\r\n",
      "11\t2400\r\n",
      "10\t2100\r\n"
     ]
    }
   ],
   "source": [
    "!tail output_refOpt.txt"
   ]
  },
  {
   "cell_type": "code",
   "execution_count": 65,
   "metadata": {},
   "outputs": [
    {
     "name": "stdout",
     "output_type": "stream",
     "text": [
      "The rpy2.ipython extension is already loaded. To reload it, use:\n",
      "  %reload_ext rpy2.ipython\n"
     ]
    }
   ],
   "source": [
    "%load_ext rpy2.ipython"
   ]
  },
  {
   "cell_type": "code",
   "execution_count": 66,
   "metadata": {},
   "outputs": [
    {
     "name": "stdout",
     "output_type": "stream",
     "text": [
      "\n",
      "── Column specification ────────────────────────────────────────────────────────\n",
      "cols(\n",
      "  k1 = col_double(),\n",
      "  k2 = col_double(),\n",
      "  c = col_double(),\n",
      "  contig = col_double()\n",
      ")\n",
      "\n"
     ]
    },
    {
     "data": {
      "image/png": "[encoded data removed]"
     },
     "metadata": {},
     "output_type": "display_data"
    }
   ],
   "source": [
    "%%R\n",
    "library(readr)\n",
    "library(ggplot2)\n",
    "\n",
    "kopt <- read_table2('kopt.data',col_names = c('k1','k2','c','contig'))\n",
    "kopt$k <- paste0(kopt$k1,'_',kopt$k2)\n",
    "\n",
    "ggplot(data=kopt,aes(x=c,y=contig,colour=k)) + \n",
    "  geom_line() "
   ]
  },
  {
   "cell_type": "markdown",
   "metadata": {},
   "source": [
    "c = .94 is the winner!, look where it starts to tick up"
   ]
  },
  {
   "cell_type": "markdown",
   "metadata": {},
   "source": [
    "# MapOpt now!!!\n",
    "    This script assembles references across cutoff values and then maps 20 random samples and evaluates mappings to the reference, along with number of contigs and coverage.\n",
    "    \n",
    "    Moves fastq files from refOpt, runs dDocent to get trimmed files\n",
    "    \n",
    "    choose mapOpt sim from kopt above: 94 add (e.g. 92,94,96)"
   ]
  },
  {
   "cell_type": "code",
   "execution_count": 67,
   "metadata": {},
   "outputs": [
    {
     "name": "stdout",
     "output_type": "stream",
     "text": [
      "/data/gpfs/assoc/denovo/tfaske/rabbit/full/REDO/assembly\n"
     ]
    }
   ],
   "source": [
    "cd $assembly_dir"
   ]
  },
  {
   "cell_type": "code",
   "execution_count": 61,
   "metadata": {},
   "outputs": [
    {
     "name": "stdout",
     "output_type": "stream",
     "text": [
      "mkdir: cannot create directory ‘mapOpt’: File exists\r\n"
     ]
    }
   ],
   "source": [
    "!mkdir mapOpt"
   ]
  },
  {
   "cell_type": "code",
   "execution_count": 79,
   "metadata": {},
   "outputs": [],
   "source": [
    "mapOpt_dir = os.path.join(assembly_dir,'mapOpt')\n",
    "assert mapOpt_dir"
   ]
  },
  {
   "cell_type": "code",
   "execution_count": 63,
   "metadata": {},
   "outputs": [],
   "source": [
    "sim_val = [92,94,96,98]"
   ]
  },
  {
   "cell_type": "code",
   "execution_count": 64,
   "metadata": {},
   "outputs": [],
   "source": [
    "for sim in sim_val:\n",
    "    mapsim = \"mapOpt/mapOpt%d\" % (sim)\n",
    "    !mkdir $mapsim"
   ]
  },
  {
   "cell_type": "code",
   "execution_count": 65,
   "metadata": {},
   "outputs": [
    {
     "data": {
      "text/plain": [
       "(52, '/data/gpfs/assoc/denovo/PHHA/assembly/refOpt/PH_DA_7.F.fq.gz')"
      ]
     },
     "execution_count": 65,
     "metadata": {},
     "output_type": "execute_result"
    }
   ],
   "source": [
    "### cp fastq from refOpt\n",
    "fq_files = !find $refOpt_dir -name '*fq.gz'\n",
    "fq_files = [os.path.abspath(x) for x in fq_files]\n",
    "len(fq_files),fq_files[0]"
   ]
  },
  {
   "cell_type": "code",
   "execution_count": 66,
   "metadata": {},
   "outputs": [],
   "source": [
    "for fq in fq_files:   \n",
    "    for sim in sim_val:\n",
    "        mapsim = \"mapOpt/mapOpt%d\" % (sim)\n",
    "        !cp $fq $mapsim"
   ]
  },
  {
   "cell_type": "code",
   "execution_count": 67,
   "metadata": {},
   "outputs": [],
   "source": [
    "for sim in sim_val:\n",
    "    mapsim = \"mapOpt/mapOpt%d\" % (sim)\n",
    "    logfiles = os.path.join(refOpt_dir,'logfiles')\n",
    "    !cp -r $logfiles $mapsim"
   ]
  },
  {
   "cell_type": "code",
   "execution_count": 68,
   "metadata": {},
   "outputs": [],
   "source": [
    "src_dir = '/data/gpfs/assoc/denovo/src/refOpt/./'\n",
    "mapOpt_sh = []\n",
    "for sim in sim_val:\n",
    "    sh = src_dir + \"Map%d.sh\"%(sim)\n",
    "    mapOpt_sh.append(sh)"
   ]
  },
  {
   "cell_type": "code",
   "execution_count": 69,
   "metadata": {},
   "outputs": [
    {
     "data": {
      "text/plain": [
       "(4,\n",
       " ['/data/gpfs/assoc/denovo/src/refOpt/./Map92.sh',\n",
       "  '/data/gpfs/assoc/denovo/src/refOpt/./Map94.sh',\n",
       "  '/data/gpfs/assoc/denovo/src/refOpt/./Map96.sh',\n",
       "  '/data/gpfs/assoc/denovo/src/refOpt/./Map98.sh'])"
      ]
     },
     "execution_count": 69,
     "metadata": {},
     "output_type": "execute_result"
    }
   ],
   "source": [
    "len(mapOpt_sh), mapOpt_sh"
   ]
  },
  {
   "cell_type": "code",
   "execution_count": 70,
   "metadata": {},
   "outputs": [],
   "source": [
    "### select slurm options\n",
    "account = 'cpu-s5-denovo-0'\n",
    "partition = 'cpu-core-0'\n",
    "time = '1-00:00:00' #time limit 4 days\n",
    "cpus = 16\n",
    "mem_cpu = 2500\n",
    "\n",
    "#RefMapOpt minK1 maxK1 minK2 maxK2 cluster_similarity Assembly_Type Num_of_Processors\n",
    "minK1 = 4\n",
    "maxK1 = 10\n",
    "minK2 = 4\n",
    "maxK2 = 10\n",
    "Type = 'SE' "
   ]
  },
  {
   "cell_type": "code",
   "execution_count": 71,
   "metadata": {},
   "outputs": [
    {
     "name": "stdout",
     "output_type": "stream",
     "text": [
      "/data/gpfs/assoc/denovo/PHHA/assembly/mapOpt\n"
     ]
    }
   ],
   "source": [
    "cd $mapOpt_dir"
   ]
  },
  {
   "cell_type": "code",
   "execution_count": 82,
   "metadata": {},
   "outputs": [],
   "source": [
    "def write_mapOpt_sh(account,partition,time,cpus,mem_cpu,sim,email,mapOpt_dir,\n",
    "                    mapOpt_sh,sim_val,minK1,maxK1,minK2,maxK2,Type):\n",
    "    for i in range(0,len(mapOpt_sh)):\n",
    "        sh = mapOpt_sh[i]\n",
    "        sim = sim_val[i]\n",
    "        with open(\"mapOpt%d/run_mapOpt%d.sh\" % (sim,sim), \"w\") as o:\n",
    "            o.write(\"\"\"#!/usr/bin/env bash\n",
    "#SBATCH --account=%s\n",
    "#SBATCH --partition=%s\n",
    "#SBATCH --time=%s\n",
    "#SBATCH --ntasks 1\n",
    "#SBATCH --cpus-per-task %d\n",
    "#SBATCH --mem-per-cpu=%d\n",
    "#SBATCH --job-name mapOpt%d\n",
    "#SBATCH --output output_mapOpt%d.txt\n",
    "#SBATCH --mail-type=END\n",
    "#SBATCH --mail-user=%s\n",
    "\n",
    "cd %s/mapOpt%d\\n\\n\"\"\" % (account,partition,time,int(cpus),int(mem_cpu),sim,sim,email,mapOpt_dir,sim))\n",
    "\n",
    "        #RefMapOpt minK1 maxK1 minK2 maxK2 cluster_similarity Assembly_Type Num_of_Processors\n",
    "            o.write(\"\"\"%s %d %d %d %d 0.%d %s %d\"\"\"% (sh,minK1,maxK1,minK2,maxK2,sim,Type,cpus))"
   ]
  },
  {
   "cell_type": "code",
   "execution_count": 83,
   "metadata": {},
   "outputs": [],
   "source": [
    "write_mapOpt_sh(account,partition,time,cpus,mem_cpu,sim,email,mapOpt_dir,\n",
    "                    mapOpt_sh,sim_val,minK1,maxK1,minK2,maxK2,Type)"
   ]
  },
  {
   "cell_type": "code",
   "execution_count": 74,
   "metadata": {},
   "outputs": [
    {
     "data": {
      "text/plain": [
       "['/data/gpfs/assoc/denovo/PHHA/assembly/mapOpt/mapOpt94/run_mapOpt94.sh',\n",
       " '/data/gpfs/assoc/denovo/PHHA/assembly/mapOpt/mapOpt96/run_mapOpt96.sh',\n",
       " '/data/gpfs/assoc/denovo/PHHA/assembly/mapOpt/mapOpt92/run_mapOpt92.sh',\n",
       " '/data/gpfs/assoc/denovo/PHHA/assembly/mapOpt/mapOpt98/run_mapOpt98.sh']"
      ]
     },
     "execution_count": 74,
     "metadata": {},
     "output_type": "execute_result"
    }
   ],
   "source": [
    "mapShells = !find $mapOpt_dir -name 'run_map*.sh'\n",
    "mapShells"
   ]
  },
  {
   "cell_type": "code",
   "execution_count": 75,
   "metadata": {},
   "outputs": [],
   "source": [
    "def write_sbatch_mapOpt(mapShells):\n",
    "         with open(\"sbatch_mapOpt.sh\", \"w\") as o:\n",
    "            o.write(\"\"\"#!/usr/bin/env bash \\n\"\"\")\n",
    "            for sh in mapShells:\n",
    "                o.write(\"\"\"sbatch %s\\n\"\"\" % (sh))"
   ]
  },
  {
   "cell_type": "code",
   "execution_count": 76,
   "metadata": {},
   "outputs": [],
   "source": [
    "write_sbatch_mapOpt(mapShells)"
   ]
  },
  {
   "cell_type": "code",
   "execution_count": null,
   "metadata": {},
   "outputs": [],
   "source": []
  },
  {
   "cell_type": "markdown",
   "metadata": {},
   "source": [
    "# Run all mapOpt*sh ()\n",
    "    cd /data/gpfs/assoc/denovo/PHHA/assembly/mapOpt\n",
    "    source activate ddocent_env\n",
    "    bash sbatch_mapOpt.sh"
   ]
  },
  {
   "cell_type": "markdown",
   "metadata": {},
   "source": [
    "# Read in mapping results and make decision"
   ]
  },
  {
   "cell_type": "code",
   "execution_count": 84,
   "metadata": {},
   "outputs": [
    {
     "name": "stdout",
     "output_type": "stream",
     "text": [
      "/data/gpfs/assoc/denovo/PHHA\n"
     ]
    }
   ],
   "source": [
    "cd $root"
   ]
  },
  {
   "cell_type": "code",
   "execution_count": 85,
   "metadata": {},
   "outputs": [
    {
     "data": {
      "text/plain": [
       "['./assembly/mapOpt/mapOpt94/mapping94.results',\n",
       " './assembly/mapOpt/mapOpt96/mapping96.results',\n",
       " './assembly/mapOpt/mapOpt92/mapping92.results',\n",
       " './assembly/mapOpt/mapOpt98/mapping98.results']"
      ]
     },
     "execution_count": 85,
     "metadata": {},
     "output_type": "execute_result"
    }
   ],
   "source": [
    "mapResults = !find . -name 'mapping*results'\n",
    "mapResults"
   ]
  },
  {
   "cell_type": "code",
   "execution_count": 86,
   "metadata": {},
   "outputs": [
    {
     "name": "stdout",
     "output_type": "stream",
     "text": [
      "./assembly/mapOpt/mapOpt94/mapping94.results\n",
      "Cov\tNon0Cov\tContigs\tMeanContigsMapped\tK1\tK2\tSUM Mapped\tSUM Properly\tMean Mapped\tMean Properly\tMisMatched\n",
      "33.9488\t40.3313\t60545\t51111.9\t4\t4\t39053860\t0\t2.05547e+06\t0\t0\n",
      "43.221\t49.4885\t45232\t39592.1\t4\t5\t37145271\t0\t1.95501e+06\t0\t0\n",
      "53.5678\t59.964\t34882\t31218.3\t4\t6\t35503529\t0\t1.86861e+06\t0\t0\n",
      "65.5262\t72.1894\t27341\t24855.3\t4\t7\t34040724\t0\t1.79162e+06\t0\t0\n",
      "79.8347\t87.018\t21524\t19773.1\t4\t8\t32650384\t0\t1.71844e+06\t0\t0\n",
      "97.6282\t105.391\t16923\t15693.8\t4\t9\t31392976\t0\t1.65226e+06\t0\t0\n",
      "120.144\t128.9\t13268\t12378.6\t4\t10\t30289739\t0\t1.5942e+06\t0\t0\n",
      "42.9012\t49.4435\t45946\t39959.4\t5\t4\t37452492\t0\t1.97118e+06\t0\t0\n",
      "54.8918\t61.4604\t34109\t30519.6\t5\t5\t35574846\t0\t1.87236e+06\t0\t0\n",
      "69.0053\t75.838\t25901\t23602.6\t5\t6\t33960126\t0\t1.78738e+06\t0\t0\n",
      "85.1541\t92.339\t20146\t18602.7\t5\t7\t32596363\t0\t1.7156e+06\t0\t0\n",
      "104.06\t112.024\t15823\t14714.9\t5\t8\t31286255\t0\t1646645\t0\t0\n",
      "127.448\t136.193\t12455\t11666.8\t5\t9\t30162422\t0\t1.5875e+06\t0\t0\n",
      "156.993\t166.619\t9772\t9215.26\t5\t10\t29151505\t0\t1.53429e+06\t0\t0\n",
      "53.1653\t60.0354\t35560\t31552.6\t6\t4\t35921605\t0\t1.89061e+06\t0\t0\n",
      "68.8393\t75.9659\t26094\t23682.4\t6\t5\t34130884\t0\t1.79636e+06\t0\t0\n",
      "86.8664\t94.3043\t19751\t18217.3\t6\t6\t32599914\t0\t1.71578e+06\t0\t0\n",
      "107.354\t115.296\t15346\t14306.3\t6\t7\t31303541\t0\t1.64755e+06\t0\t0\n",
      "131.778\t140.53\t12016\t11279.4\t6\t8\t30088008\t0\t1.58358e+06\t0\t0\n",
      "162.005\t171.565\t9446\t8927.84\t6\t9\t29078710\t0\t1.53046e+06\t0\t0\n",
      "199.284\t210.424\t7425\t7037.74\t6\t10\t28117712\t0\t1.47988e+06\t0\t0\n",
      "65.0715\t72.4322\t27971\t25170.4\t7\t4\t34583443\t0\t1.82018e+06\t0\t0\n",
      "85.1118\t92.7666\t20314\t18663.8\t7\t5\t32851858\t0\t1.72905e+06\t0\t0\n",
      "107.383\t115.401\t15393\t14340.6\t7\t6\t31408010\t0\t1.65305e+06\t0\t0\n",
      "133.126\t141.828\t11973\t11251.3\t7\t7\t30286870\t0\t1.59405e+06\t0\t0\n",
      "162.702\t172.412\t9443\t8919.95\t7\t8\t29194651\t0\t1.53656e+06\t0\t0\n",
      "201.276\t212.031\t7375\t7006.74\t7\t9\t28207613\t0\t1.48461e+06\t0\t0\n",
      "246.527\t259.264\t5833\t5550.79\t7\t10\t27326541\t0\t1438239\t0\t0\n",
      "78.8621\t86.7112\t22264\t20277.7\t8\t4\t33361433\t0\t1.75586e+06\t0\t0\n",
      "103.197\t111.355\t16182\t15015.2\t8\t5\t31730674\t0\t1.67004e+06\t0\t0\n",
      "129.96\t138.66\t12305\t11545.8\t8\t6\t30386504\t0\t1.59929e+06\t0\t0\n",
      "162.113\t171.855\t9555\t9023.16\t8\t7\t29433939\t0\t1.54915e+06\t0\t0\n",
      "200.494\t211.245\t7458\t7084.89\t8\t8\t28414281\t0\t1.49549e+06\t0\t0\n",
      "246.829\t259.253\t5862\t5586.05\t8\t9\t27496014\t0\t1.44716e+06\t0\t0\n",
      "314.321\t317.011\t4463\t4428.53\t8\t10\t26659468\t0\t1.40313e+06\t0\t0\n",
      "94.3358\t102.636\t18013\t16578.3\t9\t4\t32287947\t0\t1.69937e+06\t0\t0\n",
      "123.537\t132.487\t13119\t12246.3\t9\t5\t30795285\t0\t1.6208e+06\t0\t0\n",
      "156.891\t166.767\t9934\t9354.89\t9\t6\t29615488\t0\t1.55871e+06\t0\t0\n",
      "195.627\t206.394\t7700\t7305.47\t9\t7\t28623906\t0\t1.50652e+06\t0\t0\n",
      "241.096\t253.423\t6056\t5766.63\t9\t8\t27746057\t0\t1.46032e+06\t0\t0\n",
      "309.617\t312.836\t4578\t4534.58\t9\t9\t26937006\t0\t1.41774e+06\t0\t0\n",
      "384.821\t387.724\t3574\t3549.95\t9\t10\t26138980\t0\t1.37574e+06\t0\t0\n",
      "111.141\t120.232\t14873\t13765.2\t10\t4\t31409194\t0\t1.65312e+06\t0\t0\n",
      "145.784\t155.446\t10825\t10163.2\t10\t5\t29986929\t0\t1.57826e+06\t0\t0\n",
      "192.392\t196.836\t7893\t7722.26\t10\t6\t28856093\t0\t1.51874e+06\t0\t0\n",
      "239.532\t243.69\t6137\t6038.16\t10\t7\t27934699\t0\t1.47025e+06\t0\t0\n",
      "298.463\t302.086\t4791\t4737.68\t10\t8\t27174485\t0\t1.43024e+06\t0\t0\n",
      "369.291\t372.756\t3760\t3727.95\t10\t9\t26389168\t0\t1.3889e+06\t0\t0\n",
      "457.994\t460.875\t2945\t2928.58\t10\t10\t25635732\t0\t1.34925e+06\t0\t0\n",
      "\n",
      "\n",
      "./assembly/mapOpt/mapOpt96/mapping96.results\n",
      "Cov\tNon0Cov\tContigs\tMeanContigsMapped\tK1\tK2\tSUM Mapped\tSUM Properly\tMean Mapped\tMean Properly\tMisMatched\n",
      "30.7738\t36.9612\t65683\t54886.9\t4\t4\t38405614\t0\t2.02135e+06\t0\t0\n",
      "39.7739\t45.8342\t48375\t42092.8\t4\t5\t36557897\t0\t1.9241e+06\t0\t0\n",
      "49.855\t55.9996\t36866\t32891.8\t4\t6\t34922043\t0\t1.838e+06\t0\t0\n",
      "61.4167\t67.7696\t28673\t26030.4\t4\t7\t33460166\t0\t1.76106e+06\t0\t0\n",
      "75.5027\t82.3612\t22430\t20592.5\t4\t8\t32178434\t0\t1.6936e+06\t0\t0\n",
      "92.6216\t100.011\t17593\t16313.1\t4\t9\t30962107\t0\t1.62958e+06\t0\t0\n",
      "114.41\t122.739\t13730\t12811.5\t4\t10\t29848404\t0\t1.57097e+06\t0\t0\n",
      "39.1153\t45.4793\t49427\t42632.1\t5\t4\t36734384\t0\t1.93339e+06\t0\t0\n",
      "50.8443\t57.1992\t36173\t32223.9\t5\t5\t34945604\t0\t1.83924e+06\t0\t0\n",
      "64.504\t71.0615\t27266\t24792.3\t5\t6\t33417767\t0\t1.75883e+06\t0\t0\n",
      "80.136\t87.0194\t21072\t19433.9\t5\t7\t32085391\t0\t1.6887e+06\t0\t0\n",
      "98.8061\t106.411\t16468\t15310.5\t5\t8\t30917519\t0\t1.62724e+06\t0\t0\n",
      "121.537\t129.87\t12910\t12094.6\t5\t9\t29814107\t0\t1.56916e+06\t0\t0\n",
      "149.85\t158.985\t10105\t9533.05\t5\t10\t28773211\t0\t1.51438e+06\t0\t0\n",
      "48.6375\t55.317\t38055\t33540.1\t6\t4\t35168021\t0\t1.85095e+06\t0\t0\n",
      "63.9514\t70.8528\t27575\t24934.7\t6\t5\t33506958\t0\t1.76352e+06\t0\t0\n",
      "81.4573\t88.6081\t20717\t19073.8\t6\t6\t32065033\t0\t1.68763e+06\t0\t0\n",
      "101.594\t109.192\t15985\t14892.7\t6\t7\t30857447\t0\t1.62408e+06\t0\t0\n",
      "125.229\t133.583\t12479\t11712.1\t6\t8\t29694187\t0\t1.56285e+06\t0\t0\n",
      "154.831\t163.941\t9768\t9234.47\t6\t9\t28738342\t0\t1.51254e+06\t0\t0\n",
      "190.256\t200.807\t7666\t7269.68\t6\t10\t27715155\t0\t1.45869e+06\t0\t0\n",
      "59.8143\t66.9726\t29793\t26663\t7\t4\t33860036\t0\t1.78211e+06\t0\t0\n",
      "79.2509\t86.6095\t21406\t19619.1\t7\t5\t32233938\t0\t1.69652e+06\t0\t0\n",
      "100.863\t108.55\t16128\t15006.2\t7\t6\t30909712\t0\t1.62683e+06\t0\t0\n",
      "125.892\t134.244\t12474\t11712.8\t7\t7\t29839609\t0\t1.57051e+06\t0\t0\n",
      "154.921\t164.189\t9789\t9246.26\t7\t8\t28816887\t0\t1.51668e+06\t0\t0\n",
      "192.759\t203.045\t7627\t7247.21\t7\t9\t27936996\t0\t1.47037e+06\t0\t0\n",
      "235.725\t247.819\t6030\t5740.47\t7\t10\t27011454\t0\t1.42166e+06\t0\t0\n",
      "72.7783\t80.4191\t23634\t21426.3\t8\t4\t32682169\t0\t1.72011e+06\t0\t0\n",
      "96.6233\t104.519\t17024\t15760.7\t8\t5\t31255244\t0\t1.64501e+06\t0\t0\n",
      "122.795\t131.2\t12868\t12059.2\t8\t6\t30024720\t0\t1.58025e+06\t0\t0\n",
      "153.742\t163.095\t9939\t9380.53\t8\t7\t29035768\t0\t1.5282e+06\t0\t0\n",
      "190.438\t200.627\t7752\t7365.79\t8\t8\t28052899\t0\t1.47647e+06\t0\t0\n",
      "235.191\t246.982\t6065\t5781\t8\t9\t27106672\t0\t1.42667e+06\t0\t0\n",
      "301.259\t304.167\t4617\t4576.58\t8\t10\t26433073\t0\t1.39121e+06\t0\t0\n",
      "87.4625\t95.5796\t19051\t17461.5\t9\t4\t31660372\t0\t1.66634e+06\t0\t0\n",
      "115.894\t124.578\t13773\t12829.7\t9\t5\t30330183\t0\t1.59633e+06\t0\t0\n",
      "147.924\t157.394\t10382\t9768.47\t9\t6\t29181999\t0\t1.53589e+06\t0\t0\n",
      "185.943\t196.234\t7999\t7587.89\t9\t7\t28263325\t0\t1.48754e+06\t0\t0\n",
      "229.499\t241.22\t6280\t5980.68\t9\t8\t27388133\t0\t1.44148e+06\t0\t0\n",
      "293.671\t297.06\t4749\t4699\t9\t9\t26503823\t0\t1.39494e+06\t0\t0\n",
      "367.251\t370.33\t3702\t3674.16\t9\t10\t25838706\t0\t1.35993e+06\t0\t0\n",
      "103.413\t112.265\t15698\t14481.8\t10\t4\t30846005\t0\t1.62347e+06\t0\t0\n",
      "137.343\t146.734\t11341\t10628.8\t10\t5\t29597134\t0\t1.55774e+06\t0\t0\n",
      "181.962\t186.63\t8248\t8050.53\t10\t6\t28519064\t0\t1.501e+06\t0\t0\n",
      "228.472\t232.818\t6384\t6271.63\t10\t7\t27717108\t0\t1.4588e+06\t0\t0\n",
      "282.596\t286.393\t4987\t4925.53\t10\t8\t26782221\t0\t1.40959e+06\t0\t0\n",
      "350.627\t354.281\t3909\t3871.95\t10\t9\t26048049\t0\t1.37095e+06\t0\t0\n",
      "436.521\t439.547\t3059\t3040.11\t10\t10\t25379311\t0\t1.33575e+06\t0\t0\n",
      "\n",
      "\n",
      "./assembly/mapOpt/mapOpt92/mapping92.results\n",
      "Cov\tNon0Cov\tContigs\tMeanContigsMapped\tK1\tK2\tSUM Mapped\tSUM Properly\tMean Mapped\tMean Properly\tMisMatched\n",
      "35.104\t41.255\t58406\t49827.9\t4\t4\t41006404\t0\t2.05032e+06\t0\t0\n",
      "44.3559\t50.3654\t43929\t38762.4\t4\t5\t38971119\t0\t1.94856e+06\t0\t0\n",
      "54.7123\t60.8642\t34002\t30613\t4\t6\t37207663\t0\t1.86038e+06\t0\t0\n",
      "66.67\t73.1023\t26735\t24414.2\t4\t7\t35649795\t0\t1.78249e+06\t0\t0\n",
      "81.0125\t87.9383\t21085\t19445.5\t4\t8\t34164568\t0\t1.70823e+06\t0\t0\n",
      "98.8171\t106.317\t16625\t15466.5\t4\t9\t32858661\t0\t1.64293e+06\t0\t0\n",
      "121.226\t129.706\t13050\t12206.4\t4\t10\t31642432\t0\t1.58212e+06\t0\t0\n",
      "44.0768\t50.3744\t44501\t39019.8\t5\t4\t39230110\t0\t1.96151e+06\t0\t0\n",
      "56.0386\t62.3512\t33224\t29908.5\t5\t5\t37237636\t0\t1.86188e+06\t0\t0\n",
      "70.081\t76.6679\t25316\t23171.3\t5\t6\t35484827\t0\t1.77424e+06\t0\t0\n",
      "86.1482\t93.0904\t19744\t18292.3\t5\t7\t34019941\t0\t1.701e+06\t0\t0\n",
      "104.982\t112.657\t15536\t14492.2\t5\t8\t32622194\t0\t1.63111e+06\t0\t0\n",
      "128.483\t136.901\t12240\t11497.3\t5\t9\t31455235\t0\t1.57276e+06\t0\t0\n",
      "157.876\t167.125\t9618\t9092.6\t5\t10\t30372255\t0\t1.51861e+06\t0\t0\n",
      "54.4004\t61.009\t34541\t30855.2\t6\t4\t37581997\t0\t1.8791e+06\t0\t0\n",
      "69.9454\t76.7763\t25483\t23248\t6\t5\t35649764\t0\t1.78249e+06\t0\t0\n",
      "87.8902\t95.0296\t19350\t17917.8\t6\t6\t34015266\t0\t1.70076e+06\t0\t0\n",
      "108.387\t116.027\t15054\t14077.9\t6\t7\t32635156\t0\t1.63176e+06\t0\t0\n",
      "132.808\t141.197\t11809\t11117.9\t6\t8\t31369323\t0\t1.56847e+06\t0\t0\n",
      "163.169\t172.383\t9283\t8794.2\t6\t9\t30297285\t0\t1.51486e+06\t0\t0\n",
      "200.245\t210.883\t7299\t6936.15\t6\t10\t29235824\t0\t1.46179e+06\t0\t0\n",
      "66.3522\t73.4553\t27234\t24638.4\t7\t4\t36142038\t0\t1.8071e+06\t0\t0\n",
      "86.1964\t93.5415\t19885\t18347.3\t7\t5\t34282021\t0\t1.7141e+06\t0\t0\n",
      "108.534\t116.215\t15093\t14111\t7\t6\t32764293\t0\t1.63821e+06\t0\t0\n",
      "134.372\t142.746\t11750\t11072.3\t7\t7\t31580152\t0\t1.57901e+06\t0\t0\n",
      "163.931\t173.207\t9274\t8785.2\t7\t8\t30409237\t0\t1.52046e+06\t0\t0\n",
      "202.787\t213.132\t7247\t6900.7\t7\t9\t29396010\t0\t1.4698e+06\t0\t0\n",
      "247.729\t259.845\t5736\t5472.7\t7\t10\t28424451\t0\t1.42122e+06\t0\t0\n",
      "80.2974\t87.892\t21706\t19858\t8\t4\t34860293\t0\t1.74301e+06\t0\t0\n",
      "104.507\t112.327\t15840\t14754.7\t8\t5\t33109761\t0\t1.65549e+06\t0\t0\n",
      "131.529\t139.87\t12062\t11354.9\t8\t6\t31732770\t0\t1.58664e+06\t0\t0\n",
      "162.938\t172.172\t9387\t8892.75\t8\t7\t30593181\t0\t1.52966e+06\t0\t0\n",
      "201.624\t211.759\t7327\t6982.4\t8\t8\t29549992\t0\t1.4775e+06\t0\t0\n",
      "247.559\t259.296\t5768\t5511.55\t8\t9\t28563383\t0\t1.42817e+06\t0\t0\n",
      "314.388\t317.119\t4399\t4364.4\t8\t10\t27666159\t0\t1.38331e+06\t0\t0\n",
      "95.8158\t103.848\t17607\t16267\t9\t4\t33742491\t0\t1.68712e+06\t0\t0\n",
      "125.013\t133.63\t12855\t12039.2\t9\t5\t32143289\t0\t1.60716e+06\t0\t0\n",
      "158.335\t167.742\t9747\t9209.2\t9\t6\t30868941\t0\t1.54345e+06\t0\t0\n",
      "197.264\t207.499\t7553\t7187.35\t9\t7\t29802599\t0\t1.49013e+06\t0\t0\n",
      "242.449\t253.979\t5943\t5678.2\t9\t8\t28822287\t0\t1.44111e+06\t0\t0\n",
      "309.906\t313.13\t4509\t4466.2\t9\t9\t27953527\t0\t1.39768e+06\t0\t0\n",
      "385.905\t388.838\t3516\t3492.05\t9\t10\t27144562\t0\t1.35723e+06\t0\t0\n",
      "112.792\t121.59\t14551\t13515.2\t10\t4\t32827060\t0\t1641353\t0\t0\n",
      "147.612\t156.85\t10607\t9993.2\t10\t5\t31317400\t0\t1565870\t0\t0\n",
      "193.651\t198.007\t7768\t7604.4\t10\t6\t30089456\t0\t1.50447e+06\t0\t0\n",
      "240.568\t244.673\t6044\t5948.4\t10\t7\t29084612\t0\t1.45423e+06\t0\t0\n",
      "298.526\t302.102\t4723\t4671.25\t10\t8\t28204715\t0\t1.41024e+06\t0\t0\n",
      "369.01\t372.552\t3708\t3675.75\t10\t9\t27373189\t0\t1.36866e+06\t0\t0\n",
      "458.825\t461.816\t2897\t2880.3\t10\t10\t26593483\t0\t1.32967e+06\t0\t0\n"
     ]
    },
    {
     "name": "stdout",
     "output_type": "stream",
     "text": [
      "\n",
      "\n",
      "./assembly/mapOpt/mapOpt98/mapping98.results\n",
      "Cov\tNon0Cov\tContigs\tMeanContigsMapped\tK1\tK2\tSUM Mapped\tSUM Properly\tMean Mapped\tMean Properly\tMisMatched\n",
      "21.382\t26.3231\t79261\t64652.6\t4\t4\t32200895\t0\t1.69478e+06\t0\t0\n",
      "30.2457\t35.298\t56980\t48919.6\t4\t5\t32745216\t0\t1.72343e+06\t0\t0\n",
      "39.2414\t44.3343\t42780\t37909.1\t4\t6\t31896894\t0\t1.67878e+06\t0\t0\n",
      "49.5239\t54.7175\t32839\t29743.7\t4\t7\t30900900\t0\t1.62636e+06\t0\t0\n",
      "61.3878\t66.8898\t25487\t23403.2\t4\t8\t29728384\t0\t1.56465e+06\t0\t0\n",
      "75.3396\t81.1266\t19948\t18531.6\t4\t9\t28556042\t0\t1.50295e+06\t0\t0\n",
      "92.7485\t99.1699\t15551\t14548.4\t4\t10\t27406075\t0\t1442425\t0\t0\n",
      "29.4721\t34.8834\t58922\t49888.4\t5\t4\t32995110\t0\t1.73658e+06\t0\t0\n",
      "39.9919\t45.3801\t42214\t37243.4\t5\t5\t32076936\t0\t1.68826e+06\t0\t0\n",
      "51.5581\t57.0046\t31411\t28431.2\t5\t6\t30771335\t0\t1.61954e+06\t0\t0\n",
      "64.9992\t70.5766\t24026\t22138.2\t5\t7\t29672990\t0\t1.56174e+06\t0\t0\n",
      "79.7481\t85.7712\t18770\t17458.3\t5\t8\t28442069\t0\t1496951\t0\t0\n",
      "97.7259\t104.134\t14700\t13798.9\t5\t9\t27296702\t0\t1.43667e+06\t0\t0\n",
      "119.746\t126.636\t11548\t10921.8\t5\t10\t26275903\t0\t1.38294e+06\t0\t0\n",
      "37.9707\t43.7663\t44862\t38970.3\t6\t4\t32366135\t0\t1.70348e+06\t0\t0\n",
      "50.7769\t56.5864\t31941\t28685.1\t6\t5\t30816426\t0\t1.62192e+06\t0\t0\n",
      "65.2642\t71.1632\t23833\t21868.9\t6\t6\t29554645\t0\t1.55551e+06\t0\t0\n",
      "82.1393\t88.1824\t18237\t16993.8\t6\t7\t28463065\t0\t1.49806e+06\t0\t0\n",
      "100.387\t106.89\t14291\t13425\t6\t8\t27259811\t0\t1.43473e+06\t0\t0\n",
      "123.832\t130.714\t11194\t10607\t6\t9\t26339707\t0\t1.3863e+06\t0\t0\n",
      "152.381\t160.274\t8827\t8393.95\t6\t10\t25559159\t0\t1.34522e+06\t0\t0\n",
      "46.8919\t53.0794\t34888\t30850.8\t7\t4\t31084213\t0\t1.63601e+06\t0\t0\n",
      "63.2006\t69.366\t24692\t22510.2\t7\t5\t29651630\t0\t1.56061e+06\t0\t0\n",
      "81.1862\t87.4826\t18541\t17212.6\t7\t6\t28601739\t0\t1.50535e+06\t0\t0\n",
      "101.051\t107.58\t14288\t13425.3\t7\t7\t27434383\t0\t1.44391e+06\t0\t0\n",
      "124.478\t131.5\t11217\t10620.3\t7\t8\t26531512\t0\t1.3964e+06\t0\t0\n",
      "153.059\t160.77\t8829\t8407.11\t7\t9\t25678724\t0\t1.35151e+06\t0\t0\n",
      "184.632\t193.365\t7054\t6736.68\t7\t10\t24748946\t0\t1.30258e+06\t0\t0\n",
      "57.0538\t63.5874\t27668\t24843.3\t8\t4\t29993806\t0\t1.57862e+06\t0\t0\n",
      "76.5267\t83.0589\t19745\t18200.3\t8\t5\t28710841\t0\t1.5111e+06\t0\t0\n",
      "97.9745\t104.69\t14874\t13923.9\t8\t6\t27690036\t0\t1.45737e+06\t0\t0\n",
      "123.207\t130.386\t11440\t10813.1\t8\t7\t26782545\t0\t1.40961e+06\t0\t0\n",
      "152.369\t160.071\t8958\t8528.42\t8\t8\t25936383\t0\t1.36507e+06\t0\t0\n",
      "185.63\t194.355\t7085\t6768.32\t8\t9\t24992132\t0\t1.31538e+06\t0\t0\n",
      "231.938\t233.924\t5473\t5427.53\t8\t10\t24122898\t0\t1.26963e+06\t0\t0\n",
      "68.73\t75.6557\t22322\t20289.9\t9\t4\t29150917\t0\t1.53426e+06\t0\t0\n",
      "92.0686\t99.2005\t16000\t14853.8\t9\t5\t27990595\t0\t1.47319e+06\t0\t0\n",
      "118.271\t125.691\t12002\t11295.4\t9\t6\t26972499\t0\t1.41961e+06\t0\t0\n",
      "149.658\t157.427\t9214\t8760.84\t9\t7\t26202948\t0\t1.3791e+06\t0\t0\n",
      "182.973\t191.708\t7291\t6959.95\t9\t8\t25350615\t0\t1.33424e+06\t0\t0\n",
      "229.542\t231.63\t5614\t5564.32\t9\t9\t24488729\t0\t1.28888e+06\t0\t0\n",
      "280.01\t281.925\t4451\t4421.79\t9\t10\t23685472\t0\t1.2466e+06\t0\t0\n",
      "80.7098\t88.1726\t18486\t16928.8\t10\t4\t28349558\t0\t1492082\t0\t0\n",
      "108.307\t115.853\t13239\t12379.3\t10\t5\t27245623\t0\t1.43398e+06\t0\t0\n",
      "143.796\t147.374\t9627\t9394.37\t10\t6\t26304836\t0\t1.38447e+06\t0\t0\n",
      "180.85\t183.886\t7453\t7331.11\t10\t7\t25613085\t0\t1.34806e+06\t0\t0\n",
      "222.229\t224.763\t5868\t5802.68\t10\t8\t24780993\t0\t1.30426e+06\t0\t0\n",
      "270.925\t273.094\t4655\t4618.84\t10\t9\t23967101\t0\t1.26143e+06\t0\t0\n",
      "327.062\t328.945\t3731\t3710.53\t10\t10\t23191297\t0\t1.22059e+06\t0\t0\n",
      "\n",
      "\n"
     ]
    }
   ],
   "source": [
    "for mR in mapResults:\n",
    "    print(mR)\n",
    "    !cat $mR\n",
    "    print('\\n')"
   ]
  },
  {
   "cell_type": "code",
   "execution_count": 90,
   "metadata": {},
   "outputs": [
    {
     "name": "stderr",
     "output_type": "stream",
     "text": [
      "R[write to console]: \n",
      "\u001b[36m──\u001b[39m \u001b[1mColumn specification\u001b[22m \u001b[36m─────────────────────────────────────\u001b[39m\n",
      "cols(\n",
      "  Cov = \u001b[32mcol_double()\u001b[39m,\n",
      "  Non0Cov = \u001b[32mcol_double()\u001b[39m,\n",
      "  Contigs = \u001b[32mcol_double()\u001b[39m,\n",
      "  MeanContigsMapped = \u001b[32mcol_double()\u001b[39m,\n",
      "  K1 = \u001b[32mcol_double()\u001b[39m,\n",
      "  K2 = \u001b[32mcol_double()\u001b[39m,\n",
      "  SUM = \u001b[32mcol_double()\u001b[39m,\n",
      "  Mapped = \u001b[32mcol_double()\u001b[39m,\n",
      "  SUM_1 = \u001b[32mcol_double()\u001b[39m,\n",
      "  Properly = \u001b[32mcol_double()\u001b[39m,\n",
      "  Mean = \u001b[32mcol_double()\u001b[39m,\n",
      "  Mapped_1 = \u001b[31mcol_character()\u001b[39m,\n",
      "  Mean_1 = \u001b[31mcol_character()\u001b[39m,\n",
      "  Properly_1 = \u001b[31mcol_character()\u001b[39m,\n",
      "  MisMatched = \u001b[31mcol_character()\u001b[39m\n",
      ")\n",
      "\n",
      "\n",
      "R[write to console]: Warning:\n",
      "R[write to console]:  49 parsing failures.\n",
      "row col   expected     actual                         file\n",
      "  1  -- 15 columns 11 columns 'mapOpt92/mapping92.results'\n",
      "  2  -- 15 columns 11 columns 'mapOpt92/mapping92.results'\n",
      "  3  -- 15 columns 11 columns 'mapOpt92/mapping92.results'\n",
      "  4  -- 15 columns 11 columns 'mapOpt92/mapping92.results'\n",
      "  5  -- 15 columns 11 columns 'mapOpt92/mapping92.results'\n",
      "... ... .......... .......... ............................\n",
      "See problems(...) for more details.\n",
      "\n",
      "\n",
      "R[write to console]: \n",
      "\u001b[36m──\u001b[39m \u001b[1mColumn specification\u001b[22m \u001b[36m─────────────────────────────────────\u001b[39m\n",
      "cols(\n",
      "  Cov = \u001b[32mcol_double()\u001b[39m,\n",
      "  Non0Cov = \u001b[32mcol_double()\u001b[39m,\n",
      "  Contigs = \u001b[32mcol_double()\u001b[39m,\n",
      "  MeanContigsMapped = \u001b[32mcol_double()\u001b[39m,\n",
      "  K1 = \u001b[32mcol_double()\u001b[39m,\n",
      "  K2 = \u001b[32mcol_double()\u001b[39m,\n",
      "  SUM = \u001b[32mcol_double()\u001b[39m,\n",
      "  Mapped = \u001b[32mcol_double()\u001b[39m,\n",
      "  SUM_1 = \u001b[32mcol_double()\u001b[39m,\n",
      "  Properly = \u001b[32mcol_double()\u001b[39m,\n",
      "  Mean = \u001b[32mcol_double()\u001b[39m,\n",
      "  Mapped_1 = \u001b[31mcol_character()\u001b[39m,\n",
      "  Mean_1 = \u001b[31mcol_character()\u001b[39m,\n",
      "  Properly_1 = \u001b[31mcol_character()\u001b[39m,\n",
      "  MisMatched = \u001b[31mcol_character()\u001b[39m\n",
      ")\n",
      "\n",
      "\n",
      "R[write to console]: Warning:\n",
      "R[write to console]:  49 parsing failures.\n",
      "row col   expected     actual                         file\n",
      "  1  -- 15 columns 11 columns 'mapOpt94/mapping94.results'\n",
      "  2  -- 15 columns 11 columns 'mapOpt94/mapping94.results'\n",
      "  3  -- 15 columns 11 columns 'mapOpt94/mapping94.results'\n",
      "  4  -- 15 columns 11 columns 'mapOpt94/mapping94.results'\n",
      "  5  -- 15 columns 11 columns 'mapOpt94/mapping94.results'\n",
      "... ... .......... .......... ............................\n",
      "See problems(...) for more details.\n",
      "\n",
      "\n",
      "R[write to console]: \n",
      "\u001b[36m──\u001b[39m \u001b[1mColumn specification\u001b[22m \u001b[36m─────────────────────────────────────\u001b[39m\n",
      "cols(\n",
      "  Cov = \u001b[32mcol_double()\u001b[39m,\n",
      "  Non0Cov = \u001b[32mcol_double()\u001b[39m,\n",
      "  Contigs = \u001b[32mcol_double()\u001b[39m,\n",
      "  MeanContigsMapped = \u001b[32mcol_double()\u001b[39m,\n",
      "  K1 = \u001b[32mcol_double()\u001b[39m,\n",
      "  K2 = \u001b[32mcol_double()\u001b[39m,\n",
      "  SUM = \u001b[32mcol_double()\u001b[39m,\n",
      "  Mapped = \u001b[32mcol_double()\u001b[39m,\n",
      "  SUM_1 = \u001b[32mcol_double()\u001b[39m,\n",
      "  Properly = \u001b[32mcol_double()\u001b[39m,\n",
      "  Mean = \u001b[32mcol_double()\u001b[39m,\n",
      "  Mapped_1 = \u001b[31mcol_character()\u001b[39m,\n",
      "  Mean_1 = \u001b[31mcol_character()\u001b[39m,\n",
      "  Properly_1 = \u001b[31mcol_character()\u001b[39m,\n",
      "  MisMatched = \u001b[31mcol_character()\u001b[39m\n",
      ")\n",
      "\n",
      "\n",
      "R[write to console]: Warning:\n",
      "R[write to console]:  49 parsing failures.\n",
      "row col   expected     actual                         file\n",
      "  1  -- 15 columns 11 columns 'mapOpt96/mapping96.results'\n",
      "  2  -- 15 columns 11 columns 'mapOpt96/mapping96.results'\n",
      "  3  -- 15 columns 11 columns 'mapOpt96/mapping96.results'\n",
      "  4  -- 15 columns 11 columns 'mapOpt96/mapping96.results'\n",
      "  5  -- 15 columns 11 columns 'mapOpt96/mapping96.results'\n",
      "... ... .......... .......... ............................\n",
      "See problems(...) for more details.\n",
      "\n",
      "\n",
      "R[write to console]: \n",
      "\u001b[36m──\u001b[39m \u001b[1mColumn specification\u001b[22m \u001b[36m─────────────────────────────────────\u001b[39m\n",
      "cols(\n",
      "  Cov = \u001b[32mcol_double()\u001b[39m,\n",
      "  Non0Cov = \u001b[32mcol_double()\u001b[39m,\n",
      "  Contigs = \u001b[32mcol_double()\u001b[39m,\n",
      "  MeanContigsMapped = \u001b[32mcol_double()\u001b[39m,\n",
      "  K1 = \u001b[32mcol_double()\u001b[39m,\n",
      "  K2 = \u001b[32mcol_double()\u001b[39m,\n",
      "  SUM = \u001b[32mcol_double()\u001b[39m,\n",
      "  Mapped = \u001b[32mcol_double()\u001b[39m,\n",
      "  SUM_1 = \u001b[32mcol_double()\u001b[39m,\n",
      "  Properly = \u001b[32mcol_double()\u001b[39m,\n",
      "  Mean = \u001b[32mcol_double()\u001b[39m,\n",
      "  Mapped_1 = \u001b[31mcol_character()\u001b[39m,\n",
      "  Mean_1 = \u001b[31mcol_character()\u001b[39m,\n",
      "  Properly_1 = \u001b[31mcol_character()\u001b[39m,\n",
      "  MisMatched = \u001b[31mcol_character()\u001b[39m\n",
      ")\n",
      "\n",
      "\n",
      "R[write to console]: Warning:\n",
      "R[write to console]:  49 parsing failures.\n",
      "row col   expected     actual                         file\n",
      "  1  -- 15 columns 11 columns 'mapOpt98/mapping98.results'\n",
      "  2  -- 15 columns 11 columns 'mapOpt98/mapping98.results'\n",
      "  3  -- 15 columns 11 columns 'mapOpt98/mapping98.results'\n",
      "  4  -- 15 columns 11 columns 'mapOpt98/mapping98.results'\n",
      "  5  -- 15 columns 11 columns 'mapOpt98/mapping98.results'\n",
      "... ... .......... .......... ............................\n",
      "See problems(...) for more details.\n",
      "\n",
      "\n"
     ]
    },
    {
     "name": "stdout",
     "output_type": "stream",
     "text": [
      "       Cov Non0Cov Contigs MeanContigsMapped K1 K2      SUM Mapped   SUM_1\n",
      "1: 21.3820 26.3231   79261           64652.6  4  4 32200895      0 1694780\n",
      "2: 30.2457 35.2980   56980           48919.6  4  5 32745216      0 1723430\n",
      "3: 39.2414 44.3343   42780           37909.1  4  6 31896894      0 1678780\n",
      "4: 49.5239 54.7175   32839           29743.7  4  7 30900900      0 1626360\n",
      "5: 61.3878 66.8898   25487           23403.2  4  8 29728384      0 1564650\n",
      "6: 75.3396 81.1266   19948           18531.6  4  9 28556042      0 1502950\n",
      "   Properly Mean Mapped_1 Mean_1 Properly_1 MisMatched   k sim     ratio\n",
      "1:        0    0     <NA>   <NA>       <NA>       <NA> 4_4  98 0.6084148\n",
      "2:        0    0     <NA>   <NA>       <NA>       <NA> 4_5  98 0.9363312\n",
      "3:        0    0     <NA>   <NA>       <NA>       <NA> 4_6  98 1.0736614\n",
      "4:        0    0     <NA>   <NA>       <NA>       <NA> 4_7  98 1.1847408\n",
      "5:        0    0     <NA>   <NA>       <NA>       <NA> 4_8  98 1.2980595\n",
      "6:        0    0     <NA>   <NA>       <NA>       <NA> 4_9  98 4.2968962\n"
     ]
    }
   ],
   "source": [
    "%%R \n",
    "library(readr)\n",
    "library(data.table)\n",
    "setwd('/data/gpfs/assoc/denovo/PHHA/assembly/mapOpt')\n",
    "\n",
    "mapping92 <- read_table2('mapOpt92/mapping92.results')\n",
    "mapping92$k <- paste0(mapping92$K1,'_',mapping92$K2)\n",
    "mapping92$sim <- '92'\n",
    "mapping92$ratio <- abs( scale(mapping92$SUM_1) / (scale(mapping92$MeanContigsMapped) / scale(mapping92$Cov) ) ) \n",
    "\n",
    "\n",
    "mapping94 <- read_table2('mapOpt94/mapping94.results')\n",
    "mapping94$k <- paste0(mapping94$K1,'_',mapping94$K2)\n",
    "mapping94$sim <- '94'\n",
    "mapping94$ratio <- abs( scale(mapping94$SUM_1) / (scale(mapping94$MeanContigsMapped) / scale(mapping94$Cov) ) ) \n",
    "\n",
    "mapping96 <- read_table2('mapOpt96/mapping96.results')\n",
    "mapping96$k <- paste0(mapping96$K1,'_',mapping96$K2)\n",
    "mapping96$sim <- '96'\n",
    "mapping96$ratio <- abs( scale(mapping96$SUM_1) / (scale(mapping96$MeanContigsMapped) / scale(mapping96$Cov) ) )\n",
    "\n",
    "mapping98 <- read_table2('mapOpt98/mapping98.results')\n",
    "mapping98$k <- paste0(mapping98$K1,'_',mapping98$K2)\n",
    "mapping98$sim <- '98'\n",
    "mapping98$ratio <- abs( scale(mapping98$SUM_1) / (scale(mapping98$MeanContigsMapped) / scale(mapping98$Cov) ) ) \n",
    "\n",
    "#print(mapping92)\n",
    "#print(mapping94)\n",
    "#print(mapping96)\n",
    "\n",
    "#map_df\n",
    "map_df <- rbindlist(list(mapping98,mapping92,mapping94,mapping96))\n",
    "head(map_df)"
   ]
  },
  {
   "cell_type": "code",
   "execution_count": 91,
   "metadata": {},
   "outputs": [
    {
     "data": {
      "image/png": "[encoded data removed]"
     },
     "metadata": {},
     "output_type": "display_data"
    }
   ],
   "source": [
    "%%R\n",
    "ggplot(data=map_df,aes(x=k,y=ratio,color=as.factor(sim))) + \n",
    "    geom_line(aes(group=as.factor(sim))) + theme_bw()"
   ]
  },
  {
   "cell_type": "code",
   "execution_count": 51,
   "metadata": {},
   "outputs": [
    {
     "name": "stdout",
     "output_type": "stream",
     "text": [
      "              Cov           Non0Cov           Contigs MeanContigsMapped \n",
      "     9.809895e+02      9.887925e+02      5.584474e+03      5.410035e+03 \n",
      "               K1                K2               SUM             SUM_1 \n",
      "     7.000000e+00      7.000000e+00      2.665343e+07      1.400922e+06 \n"
     ]
    }
   ],
   "source": [
    "%%R \n",
    "colMeans(map_df[,c(1:7,9)])"
   ]
  },
  {
   "cell_type": "code",
   "execution_count": 92,
   "metadata": {},
   "outputs": [
    {
     "data": {
      "image/png": "[encoded data removed]"
     },
     "metadata": {},
     "output_type": "display_data"
    }
   ],
   "source": [
    "%%R\n",
    "map_top <- map_df[which(map_df$ratio > quantile(map_df$ratio,probs=.75)),]\n",
    "\n",
    "#SUM Properly\n",
    "ggplot(data=map_top,aes(x=k,y=ratio,color=as.factor(sim))) + \n",
    "    geom_line(aes(group=as.factor(sim))) + theme_bw()"
   ]
  },
  {
   "cell_type": "code",
   "execution_count": 93,
   "metadata": {},
   "outputs": [
    {
     "name": "stdout",
     "output_type": "stream",
     "text": [
      " [1] \"Cov\"               \"Non0Cov\"           \"Contigs\"          \n",
      " [4] \"MeanContigsMapped\" \"K1\"                \"K2\"               \n",
      " [7] \"SUM\"               \"Mapped\"            \"SUM_1\"            \n",
      "[10] \"Properly\"          \"Mean\"              \"Mapped_1\"         \n",
      "[13] \"Mean_1\"            \"Properly_1\"        \"MisMatched\"       \n",
      "[16] \"k\"                 \"sim\"               \"ratio\"            \n"
     ]
    }
   ],
   "source": [
    "%%R\n",
    "names(map_df)"
   ]
  },
  {
   "cell_type": "code",
   "execution_count": 94,
   "metadata": {},
   "outputs": [
    {
     "name": "stdout",
     "output_type": "stream",
     "text": [
      "        Cov  Non0Cov Contigs MeanContigsMapped K1 K2      SUM   SUM_1 sim\n",
      "1:  76.5267  83.0589   19745           18200.3  8  5 28710841 1511100  98\n",
      "2: 104.5070 112.3270   15840           14754.7  8  5 33109761 1655490  92\n",
      "3: 103.1970 111.3550   16182           15015.2  8  5 31730674 1670040  94\n",
      "4:  96.6233 104.5190   17024           15760.7  8  5 31255244 1645010  96\n",
      "      ratio\n",
      "1: 22.85427\n",
      "2: 11.24839\n",
      "3: 13.03421\n",
      "4: 15.52691\n"
     ]
    }
   ],
   "source": [
    "%%R\n",
    "map_df[which(map_df$k %in% c('8_5')),c(1:7,9,17,18)]"
   ]
  },
  {
   "cell_type": "markdown",
   "metadata": {},
   "source": [
    "# Map results \n",
    "    sim=98 K1=8 k2=5 WINNER\n",
    "    \n",
    "    remake reference in fastq using these parameters. Move reference.fasta to assembly dir"
   ]
  },
  {
   "cell_type": "code",
   "execution_count": null,
   "metadata": {},
   "outputs": [],
   "source": []
  }
 ],
 "metadata": {
  "kernelspec": {
   "display_name": "Python 3 (ipykernel)",
   "language": "python",
   "name": "python3"
  },
  "language_info": {
   "codemirror_mode": {
    "name": "ipython",
    "version": 3
   },
   "file_extension": ".py",
   "mimetype": "text/x-python",
   "name": "python",
   "nbconvert_exporter": "python",
   "pygments_lexer": "ipython3",
   "version": "3.11.0"
  }
 },
 "nbformat": 4,
 "nbformat_minor": 1
}
