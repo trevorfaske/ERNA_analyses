{
 "cells": [
  {
   "cell_type": "markdown",
   "metadata": {},
   "source": [
    "# Optimize denovo reference\n",
    "    This script uses scripts provided by dDocent to de novo assembly in CD-HIT\n",
    "    https://www.ddocent.com/assembly/\n",
    "    \n",
    "    Run dDocent first with basic commands. Use individuals retained from filtering to make assembly\n",
    "    \n",
    "## REDONE on 12/20/2022  \n",
    "\n",
    "This is after most analyses. Want to be more strict about clustering simularity. Want to thoughtfully select individuals based off what is known"
   ]
  },
  {
   "cell_type": "markdown",
   "metadata": {},
   "source": [
    "## For reference throughout this notebook:\n",
    "\n",
    "**All unformatted text part of Trevor's original workflow.  Seth's annotations follow these rules**:  \n",
    "+ *this text* = conceptual explanation of code<br>\n",
    "+ <span style=\"color:purple\">**this text**</span> = logical `code` explanation<br>\n",
    "+ <span style=\"color:tomato\">*this text*</span> = questions, uncertainties, parenthetical comments<br>\n",
    "&nbsp;<br>\n",
    "\n",
    "With that defined let's create a new section to talk about organization in this notebook...\n",
    "<hr>\n",
    "<hr>\n",
    "    \n",
    "## Sections:\n",
    "\n",
    "1. Exploring file contents and formatting to run `RefOpt.sh`\n",
    "2. Building slurm scripts to parallel run `RefOpt.sh`\n",
    "3. Interpreting `RefOpt` output for determing optimal c parameter\n",
    "4. Building slurm scripts to parallel run `MapOpt.sh`\n",
    "5. Compare k parameters from `MapOpt` to create optimal assembly from full dataset"
   ]
  },
  {
   "cell_type": "markdown",
   "metadata": {},
   "source": [
    "### 1.1 Import packages"
   ]
  },
  {
   "cell_type": "code",
   "execution_count": 1,
   "metadata": {
    "ExecuteTime": {}
   },
   "outputs": [],
   "source": [
    "import sys\n",
    "import ipyparallel as ipp\n",
    "import os\n",
    "from os import environ\n",
    "import gzip\n",
    "import warnings\n",
    "import pandas as pd\n",
    "import numpy as np\n",
    "import scipy as sp\n",
    "import glob\n",
    "import re\n",
    "import random"
   ]
  },
  {
   "cell_type": "markdown",
   "metadata": {},
   "source": [
    "*Just defining directory where we are working and checking with `pwd`*"
   ]
  },
  {
   "cell_type": "code",
   "execution_count": 2,
   "metadata": {
    "ExecuteTime": {}
   },
   "outputs": [],
   "source": [
    "root = \"/data/gpfs/assoc/denovo/tfaske/rabbit/full/REDO\""
   ]
  },
  {
   "cell_type": "code",
   "execution_count": 3,
   "metadata": {
    "ExecuteTime": {}
   },
   "outputs": [
    {
     "name": "stdout",
     "output_type": "stream",
     "text": [
      "/data/gpfs/assoc/denovo/tfaske/rabbit/full/REDO\n"
     ]
    }
   ],
   "source": [
    "cd $root"
   ]
  },
  {
   "cell_type": "code",
   "execution_count": 4,
   "metadata": {
    "ExecuteTime": {}
   },
   "outputs": [
    {
     "data": {
      "text/plain": [
       "'/data/gpfs/assoc/denovo/tfaske/rabbit/full/REDO'"
      ]
     },
     "execution_count": 4,
     "metadata": {},
     "output_type": "execute_result"
    }
   ],
   "source": [
    "pwd"
   ]
  },
  {
   "cell_type": "markdown",
   "metadata": {},
   "source": [
    "### 1.2 Make assembly refopt dir and assign fastq dir"
   ]
  },
  {
   "cell_type": "markdown",
   "metadata": {},
   "source": [
    "*directory itself is called 'assembly' while 'assembly_dir' is variable name presumably to avoid some variable/function confusion*"
   ]
  },
  {
   "cell_type": "code",
   "execution_count": 5,
   "metadata": {},
   "outputs": [
    {
     "name": "stdout",
     "output_type": "stream",
     "text": [
      "mkdir: cannot create directory ‘assembly’: File exists\r\n"
     ]
    }
   ],
   "source": [
    "!mkdir assembly"
   ]
  },
  {
   "cell_type": "code",
   "execution_count": 6,
   "metadata": {},
   "outputs": [],
   "source": [
    "!mkdir assembly/refOpt2"
   ]
  },
  {
   "cell_type": "code",
   "execution_count": 7,
   "metadata": {},
   "outputs": [],
   "source": [
    "assembly_dir = os.path.join(root,'assembly')"
   ]
  },
  {
   "cell_type": "code",
   "execution_count": 8,
   "metadata": {},
   "outputs": [],
   "source": [
    "refOpt_dir = os.path.join(assembly_dir,'refOpt2')"
   ]
  },
  {
   "cell_type": "code",
   "execution_count": 9,
   "metadata": {},
   "outputs": [],
   "source": [
    "fq_dir = '/data/gpfs/assoc/denovo/tfaske/rabbit/full/demult/fastq'"
   ]
  },
  {
   "cell_type": "markdown",
   "metadata": {},
   "source": [
    "### 1.5 Sample random fastq for optimizer  \n",
    "\n",
    "using pca_df.csv from old analyses, select individuals. Do it in R, easier for me.\n",
    "\n",
    "Select XXXX individuals. equal porportions of groups. "
   ]
  },
  {
   "cell_type": "markdown",
   "metadata": {},
   "source": [
    "*Idea here is to reduce the data we are initializing `RefOpt` and `MapOpt` on for efficiency purposes.  These test runs are just to determine optimal c, k1, and k2 parameters to build a final assembly for mapping.  Both scripts are huge alignment processes and would take way too long to run on full dataset.  Using 1 individual from eqach population with the most reads is a nice compromise. The final assembly will use **full** dataset.*"
   ]
  },
  {
   "cell_type": "code",
   "execution_count": 42,
   "metadata": {},
   "outputs": [
    {
     "name": "stdout",
     "output_type": "stream",
     "text": [
      "/data/gpfs/assoc/denovo/tfaske/rabbit/full/REDO\n"
     ]
    }
   ],
   "source": [
    "cd $root"
   ]
  },
  {
   "cell_type": "code",
   "execution_count": 43,
   "metadata": {},
   "outputs": [
    {
     "name": "stdout",
     "output_type": "stream",
     "text": [
      "The rpy2.ipython extension is already loaded. To reload it, use:\n",
      "  %reload_ext rpy2.ipython\n"
     ]
    }
   ],
   "source": [
    "%load_ext rpy2.ipython"
   ]
  },
  {
   "cell_type": "code",
   "execution_count": 44,
   "metadata": {},
   "outputs": [
    {
     "name": "stdout",
     "output_type": "stream",
     "text": [
      "[1] 585  24\n"
     ]
    }
   ],
   "source": [
    "%%R \n",
    "\n",
    "setwd('/data/gpfs/assoc/denovo/tfaske/rabbit/full/REDO')\n",
    "\n",
    "pca_df <- read.csv('data/pca_df.csv')\n",
    "\n",
    "dim(pca_df)\n",
    "#print(table(paste0(pca_df$Variety,'_',pca_df$Color))"
   ]
  },
  {
   "cell_type": "code",
   "execution_count": 46,
   "metadata": {},
   "outputs": [
    {
     "name": "stdout",
     "output_type": "stream",
     "text": [
      "\n",
      "    arenaria_green    bigelovii_green   graveolens_green     hololueca_grey \n",
      "                 5                  9                 11                219 \n",
      "  hololueca_hybrid       iridis_green      juncea_hybrid latisquamea_hybrid \n",
      "                30                  6                 11                  6 \n",
      " mohavensis_hybrid        nana_hybrid       nitida_green    oreophila_green \n",
      "                 5                  5                  6                 60 \n",
      "    oreophila_grey   oreophila_hybrid  salicifolia_green   salicifolia_grey \n",
      "                 4                 17                  8                 18 \n",
      "salicifolia_hybrid     speciosa_green      speciosa_grey    speciosa_hybrid \n",
      "                14                  3                 22                 34 \n",
      "   turbinata_green \n",
      "                17 \n"
     ]
    }
   ],
   "source": [
    "%%R\n",
    "\n",
    "pca_known <- pca_df[-which(is.na(pca_df$Ssp)),]\n",
    "pca_known$Variety <- as.character(pca_known$Variety)\n",
    "pca_known$Color <- as.character(pca_known$Color)\n",
    "#dim(pca_known)\n",
    "#table(pca_known$Variety)\n",
    "pca_known$var_col <- as.character(paste0(pca_known$Variety,'_',pca_known$Color))\n",
    "#table(pca_known$var_col)"
   ]
  },
  {
   "cell_type": "code",
   "execution_count": 50,
   "metadata": {},
   "outputs": [],
   "source": [
    "%%R\n",
    "\n",
    "#select individuals to keep\n",
    "more <- c('hololueca_grey','oreophila_green')\n",
    "keep_fq <- c()\n",
    "for (vc in unique(pca_known$var_col)){\n",
    "    #print(vc)\n",
    "    df <- pca_known[which(pca_known$var_col == vc),]\n",
    "    if (vc %in% more){\n",
    "        keep_vc <- sample(df$All,3)\n",
    "    }else{\n",
    "        keep_vc <- sample(df$All,1)\n",
    "    }\n",
    "    keep_fq <- c(keep_fq,keep_vc)\n",
    "}"
   ]
  },
  {
   "cell_type": "code",
   "execution_count": 56,
   "metadata": {},
   "outputs": [],
   "source": [
    "%%R\n",
    "#keep_fq\n",
    "### mv keep_fq to refOpt\n",
    "\n",
    "fq_dir <- '/data/gpfs/assoc/denovo/tfaske/rabbit/full/demult/fastq/'\n",
    "refOpt_dir <- '/data/gpfs/assoc/denovo/tfaske/rabbit/full/REDO/assembly/refOpt/'\n",
    "\n",
    "#cp_cmd <- array(NA,dim=length(keep_fq))\n",
    "for (i in 1:length(keep_fq)){\n",
    "    #cp_cmd[i] <- paste0('cp ',fq_dir,keep_fq[i],'.F.fq.gz ',refOpt_dir)\n",
    "    cmd <- paste0('cp ',fq_dir,keep_fq[i],'.F.fq.gz ',refOpt_dir)\n",
    "    system(cmd)\n",
    "}\n",
    "#cp_cmd"
   ]
  },
  {
   "cell_type": "code",
   "execution_count": 57,
   "metadata": {},
   "outputs": [
    {
     "name": "stdout",
     "output_type": "stream",
     "text": [
      "25\r\n"
     ]
    }
   ],
   "source": [
    "!ls {refOpt_dir}/*gz | wc -l "
   ]
  },
  {
   "cell_type": "markdown",
   "metadata": {
    "ExecuteTime": {}
   },
   "source": [
    "# 2. Make a slurm script to run ReferenceOpt.sh   \n",
    "\n",
    "ReferenceOpt.sh minK1 maxK1 minK2 maxK2 Assembly_Type Processors  \n",
    "    \n",
    "#### NOTE: must run dDocent to at least trim first "
   ]
  },
  {
   "cell_type": "markdown",
   "metadata": {},
   "source": [
    "### Understanding ReferenceOpt.sh (in process of transferring notes)\n",
    "\n",
    "Much of the details can't be found here: http://www.ddocent.com/assembly/<br>\n",
    "This script is written by Jon Puritz to determine what c parameter is optimal for reference assembly.  The steps below are repeatedly iteratively with all c values 0.80-0.98 and 0.02 increments.  Each of these c parameters are also run with each combination of k1 and k2 parameters based on a set min-max range (here we use 4-10 for both).  k1 indicates the minimum number of times a contig must occur *within* an inidividual to be used in clustering while k2 indicates minimum number of individuals a contig must occur in to be included.  c parameter used to set cluster similarity threshold.  Output is designed to identify point of inflection where data is goes from reliable to erroneous.  k parameter ranges simply used to ensure that interpretation of inflection point isn't biased by k pairing. The workflow generally follows:  \n",
    "+ Read trimming\n",
    "+ Initial clustering with low similarity via `CD-HIT`\n",
    "    + Original script may have called for 80% which is very loose but is intended to do initial rough grouping to reduce downstream complexity.  <span style=\"color:tomato\">Need to check this script as it may have been modified by Trevor to use different parameters at clustering steps</span>\n",
    "+ Clustering with `rainbow`\n",
    "+ Mapping of forward reads with `bwa`\n",
    "    + If using paired-end reads, adds additional step to compare clustering of `CD-HIT` with reverse reads.  If clustered accurately, clustering of reverse and forward reads should agree"
   ]
  },
  {
   "cell_type": "code",
   "execution_count": 58,
   "metadata": {},
   "outputs": [],
   "source": [
    "refOpt = '/data/gpfs/assoc/denovo/src/refOpt/./ReferenceOpt.sh'\n",
    "refOpt_dir = os.path.join(assembly_dir,'refOpt')"
   ]
  },
  {
   "cell_type": "code",
   "execution_count": 59,
   "metadata": {},
   "outputs": [
    {
     "name": "stdout",
     "output_type": "stream",
     "text": [
      "/data/gpfs/assoc/denovo/tfaske/rabbit/full/REDO/assembly/refOpt\n"
     ]
    }
   ],
   "source": [
    "cd $refOpt_dir"
   ]
  },
  {
   "cell_type": "code",
   "execution_count": 60,
   "metadata": {},
   "outputs": [],
   "source": [
    "### select options\n",
    "account = 'cpu-s5-denovo-0'\n",
    "partition = 'cpu-core-0'\n",
    "jobname = 'ERNA_refOpt'\n",
    "time = '4-00:00:00' #time limit 4 days\n",
    "minK1 = 4\n",
    "maxK1 = 10\n",
    "minK2 = 4\n",
    "maxK2 = 10\n",
    "Type = 'SE' \n",
    "cpus = 64\n",
    "mem_cpu = 2500\n",
    "email = 'tfaske@nevada.unr.edu'"
   ]
  },
  {
   "cell_type": "code",
   "execution_count": 61,
   "metadata": {
    "ExecuteTime": {}
   },
   "outputs": [],
   "source": [
    "def write_refOpt_sh(account,partition,cpus,mem_cpu,email,refOpt,minK1,maxK1,minK2,maxK2,Type):\n",
    "    with open(\"run_refOpt.sh\", \"w\") as o:\n",
    "        o.write(\"\"\"#!/usr/bin/env bash\n",
    "#SBATCH --account=%s\n",
    "#SBATCH --partition=%s\n",
    "#SBATCH --ntasks 1\n",
    "#SBATCH --cpus-per-task %d\n",
    "#SBATCH --mem-per-cpu=%d\n",
    "#SBATCH --job-name %s\n",
    "#SBATCH --output output_refOpt.txt\n",
    "#SBATCH --mail-type=END\n",
    "#SBATCH --mail-user=%s\\n\\n\"\"\" % (account,partition,int(cpus),int(mem_cpu),jobname,email))\n",
    "\n",
    "        #ReferenceOpt.sh minK1 maxK1 minK2 maxK2 Assembly_Type Processors\n",
    "        o.write(\"%s %d %d %d %d %s %d\" % (refOpt,minK1,maxK1,minK2,maxK2,Type,cpus))"
   ]
  },
  {
   "cell_type": "code",
   "execution_count": 62,
   "metadata": {},
   "outputs": [],
   "source": [
    "write_refOpt_sh(account,partition,cpus,mem_cpu,email,refOpt,minK1,maxK1,minK2,maxK2,Type)"
   ]
  },
  {
   "cell_type": "markdown",
   "metadata": {},
   "source": [
    "# run refOpt.sh in slurm\n",
    "    cd /data/gpfs/assoc/denovo/ERNA/assembly/refOpt\n",
    "    source activate ddocent_env\n",
    "    sbatch run_refOpt.sh"
   ]
  },
  {
   "cell_type": "markdown",
   "metadata": {},
   "source": [
    "# Visualize kopt from refOpt"
   ]
  },
  {
   "cell_type": "code",
   "execution_count": 63,
   "metadata": {},
   "outputs": [
    {
     "name": "stdout",
     "output_type": "stream",
     "text": [
      "/data/gpfs/assoc/denovo/tfaske/rabbit/full/REDO/assembly/refOpt\n"
     ]
    }
   ],
   "source": [
    "cd $refOpt_dir"
   ]
  },
  {
   "cell_type": "code",
   "execution_count": 64,
   "metadata": {},
   "outputs": [
    {
     "name": "stdout",
     "output_type": "stream",
     "text": [
      "The top three most common number of contigs\r\n",
      "X\tContig number\r\n",
      "2\t5218\r\n",
      "2\t4459\r\n",
      "2\t4203\r\n",
      "The top three most common number of contigs (with values rounded)\r\n",
      "X\tContig number\r\n",
      "11\t3300\r\n",
      "11\t2400\r\n",
      "10\t2100\r\n"
     ]
    }
   ],
   "source": [
    "!tail output_refOpt.txt"
   ]
  },
  {
   "cell_type": "code",
   "execution_count": 65,
   "metadata": {},
   "outputs": [
    {
     "name": "stdout",
     "output_type": "stream",
     "text": [
      "The rpy2.ipython extension is already loaded. To reload it, use:\n",
      "  %reload_ext rpy2.ipython\n"
     ]
    }
   ],
   "source": [
    "%load_ext rpy2.ipython"
   ]
  },
  {
   "cell_type": "code",
   "execution_count": 66,
   "metadata": {},
   "outputs": [
    {
     "name": "stdout",
     "output_type": "stream",
     "text": [
      "\n",
      "── Column specification ────────────────────────────────────────────────────────\n",
      "cols(\n",
      "  k1 = col_double(),\n",
      "  k2 = col_double(),\n",
      "  c = col_double(),\n",
      "  contig = col_double()\n",
      ")\n",
      "\n"
     ]
    },
    {
     "data": {
      "image/png": "[encoded data removed]"
     },
     "metadata": {},
     "output_type": "display_data"
    }
   ],
   "source": [
    "%%R\n",
    "library(readr)\n",
    "library(ggplot2)\n",
    "\n",
    "kopt <- read_table2('kopt.data',col_names = c('k1','k2','c','contig'))\n",
    "kopt$k <- paste0(kopt$k1,'_',kopt$k2)\n",
    "\n",
    "ggplot(data=kopt,aes(x=c,y=contig,colour=k)) + \n",
    "  geom_line() "
   ]
  },
  {
   "cell_type": "markdown",
   "metadata": {},
   "source": [
    "c = .94 is the winner!, look where it starts to tick up"
   ]
  },
  {
   "cell_type": "markdown",
   "metadata": {},
   "source": [
    "# MapOpt now!!!\n",
    "    This script assembles references across cutoff values and then maps 20 random samples and evaluates mappings to the reference, along with number of contigs and coverage.\n",
    "    \n",
    "    Moves fastq files from refOpt, runs dDocent to get trimmed files\n",
    "    \n",
    "    choose mapOpt sim from kopt above: 94 add (e.g. 92,94,96)"
   ]
  },
  {
   "cell_type": "code",
   "execution_count": 68,
   "metadata": {},
   "outputs": [
    {
     "name": "stdout",
     "output_type": "stream",
     "text": [
      "/data/gpfs/assoc/denovo/tfaske/rabbit/full/REDO/assembly\n"
     ]
    }
   ],
   "source": [
    "cd $assembly_dir"
   ]
  },
  {
   "cell_type": "code",
   "execution_count": 69,
   "metadata": {},
   "outputs": [],
   "source": [
    "!mkdir mapOpt"
   ]
  },
  {
   "cell_type": "code",
   "execution_count": 70,
   "metadata": {},
   "outputs": [],
   "source": [
    "mapOpt_dir = os.path.join(assembly_dir,'mapOpt')\n",
    "assert mapOpt_dir"
   ]
  },
  {
   "cell_type": "code",
   "execution_count": 71,
   "metadata": {},
   "outputs": [],
   "source": [
    "sim_val = [92,94,96]"
   ]
  },
  {
   "cell_type": "code",
   "execution_count": 72,
   "metadata": {},
   "outputs": [],
   "source": [
    "for sim in sim_val:\n",
    "    mapsim = \"mapOpt/mapOpt%d\" % (sim)\n",
    "    !mkdir $mapsim"
   ]
  },
  {
   "cell_type": "code",
   "execution_count": 73,
   "metadata": {},
   "outputs": [
    {
     "data": {
      "text/plain": [
       "(50,\n",
       " '/data/gpfs/assoc/denovo/tfaske/rabbit/full/REDO/assembly/refOpt/EN_VI_1.F.fq.gz')"
      ]
     },
     "execution_count": 73,
     "metadata": {},
     "output_type": "execute_result"
    }
   ],
   "source": [
    "### cp fastq from refOpt\n",
    "fq_files = !find $refOpt_dir -name '*fq.gz'\n",
    "fq_files = [os.path.abspath(x) for x in fq_files]\n",
    "len(fq_files),fq_files[0]"
   ]
  },
  {
   "cell_type": "code",
   "execution_count": 74,
   "metadata": {},
   "outputs": [],
   "source": [
    "for fq in fq_files:   \n",
    "    for sim in sim_val:\n",
    "        mapsim = \"mapOpt/mapOpt%d\" % (sim)\n",
    "        !cp $fq $mapsim"
   ]
  },
  {
   "cell_type": "code",
   "execution_count": 75,
   "metadata": {},
   "outputs": [],
   "source": [
    "for sim in sim_val:\n",
    "    mapsim = \"mapOpt/mapOpt%d\" % (sim)\n",
    "    logfiles = os.path.join(refOpt_dir,'logfiles')\n",
    "    !cp -r $logfiles $mapsim"
   ]
  },
  {
   "cell_type": "code",
   "execution_count": 76,
   "metadata": {},
   "outputs": [],
   "source": [
    "src_dir = '/data/gpfs/assoc/denovo/src/refOpt/./'\n",
    "mapOpt_sh = []\n",
    "for sim in sim_val:\n",
    "    sh = src_dir + \"Map%d.sh\"%(sim)\n",
    "    mapOpt_sh.append(sh)"
   ]
  },
  {
   "cell_type": "code",
   "execution_count": 77,
   "metadata": {},
   "outputs": [
    {
     "data": {
      "text/plain": [
       "(3,\n",
       " ['/data/gpfs/assoc/denovo/src/refOpt/./Map92.sh',\n",
       "  '/data/gpfs/assoc/denovo/src/refOpt/./Map94.sh',\n",
       "  '/data/gpfs/assoc/denovo/src/refOpt/./Map96.sh'])"
      ]
     },
     "execution_count": 77,
     "metadata": {},
     "output_type": "execute_result"
    }
   ],
   "source": [
    "len(mapOpt_sh), mapOpt_sh"
   ]
  },
  {
   "cell_type": "code",
   "execution_count": 78,
   "metadata": {},
   "outputs": [],
   "source": [
    "### select slurm options\n",
    "account = 'cpu-s5-denovo-0'\n",
    "partition = 'cpu-core-0'\n",
    "time = '1-00:00:00' #time limit 1 days\n",
    "cpus = 16\n",
    "mem_cpu = 9000\n",
    "\n",
    "#RefMapOpt minK1 maxK1 minK2 maxK2 cluster_similarity Assembly_Type Num_of_Processors\n",
    "minK1 = 4\n",
    "maxK1 = 10\n",
    "minK2 = 4\n",
    "maxK2 = 10\n",
    "Type = 'SE' "
   ]
  },
  {
   "cell_type": "code",
   "execution_count": 79,
   "metadata": {},
   "outputs": [
    {
     "name": "stdout",
     "output_type": "stream",
     "text": [
      "/data/gpfs/assoc/denovo/tfaske/rabbit/full/REDO/assembly/mapOpt\n"
     ]
    }
   ],
   "source": [
    "cd $mapOpt_dir"
   ]
  },
  {
   "cell_type": "code",
   "execution_count": 80,
   "metadata": {},
   "outputs": [],
   "source": [
    "def write_mapOpt_sh(account,partition,time,cpus,mem_cpu,sim,email,mapOpt_dir,\n",
    "                    mapOpt_sh,sim_val,minK1,maxK1,minK2,maxK2,Type):\n",
    "    for i in range(0,len(mapOpt_sh)):\n",
    "        sh = mapOpt_sh[i]\n",
    "        sim = sim_val[i]\n",
    "        with open(\"mapOpt%d/run_mapOpt%d.sh\" % (sim,sim), \"w\") as o:\n",
    "            o.write(\"\"\"#!/usr/bin/env bash\n",
    "#SBATCH --account=%s\n",
    "#SBATCH --partition=%s\n",
    "#SBATCH --time=%s\n",
    "#SBATCH --ntasks 1\n",
    "#SBATCH --cpus-per-task %d\n",
    "#SBATCH --mem-per-cpu=%d\n",
    "#SBATCH --job-name mapOpt%d\n",
    "#SBATCH --output output_mapOpt%d.txt\n",
    "#SBATCH --mail-type=END\n",
    "#SBATCH --mail-user=%s\n",
    "\n",
    "cd %s/mapOpt%d\\n\\n\"\"\" % (account,partition,time,int(cpus),int(mem_cpu),sim,sim,email,mapOpt_dir,sim))\n",
    "\n",
    "        #RefMapOpt minK1 maxK1 minK2 maxK2 cluster_similarity Assembly_Type Num_of_Processors\n",
    "            o.write(\"\"\"%s %d %d %d %d 0.%d %s %d\"\"\"% (sh,minK1,maxK1,minK2,maxK2,sim,Type,cpus))"
   ]
  },
  {
   "cell_type": "code",
   "execution_count": 81,
   "metadata": {},
   "outputs": [],
   "source": [
    "write_mapOpt_sh(account,partition,time,cpus,mem_cpu,sim,email,mapOpt_dir,\n",
    "                    mapOpt_sh,sim_val,minK1,maxK1,minK2,maxK2,Type)"
   ]
  },
  {
   "cell_type": "code",
   "execution_count": 82,
   "metadata": {},
   "outputs": [
    {
     "data": {
      "text/plain": [
       "['/data/gpfs/assoc/denovo/tfaske/rabbit/full/REDO/assembly/mapOpt/mapOpt94/run_mapOpt94.sh',\n",
       " '/data/gpfs/assoc/denovo/tfaske/rabbit/full/REDO/assembly/mapOpt/mapOpt96/run_mapOpt96.sh',\n",
       " '/data/gpfs/assoc/denovo/tfaske/rabbit/full/REDO/assembly/mapOpt/mapOpt92/run_mapOpt92.sh']"
      ]
     },
     "execution_count": 82,
     "metadata": {},
     "output_type": "execute_result"
    }
   ],
   "source": [
    "mapShells = !find $mapOpt_dir -name 'run_map*.sh'\n",
    "mapShells"
   ]
  },
  {
   "cell_type": "code",
   "execution_count": 83,
   "metadata": {},
   "outputs": [],
   "source": [
    "def write_sbatch_mapOpt(mapShells):\n",
    "         with open(\"sbatch_mapOpt.sh\", \"w\") as o:\n",
    "            o.write(\"\"\"#!/usr/bin/env bash \\n\"\"\")\n",
    "            for sh in mapShells:\n",
    "                o.write(\"\"\"sbatch %s\\n\"\"\" % (sh))"
   ]
  },
  {
   "cell_type": "code",
   "execution_count": 84,
   "metadata": {},
   "outputs": [],
   "source": [
    "write_sbatch_mapOpt(mapShells)"
   ]
  },
  {
   "cell_type": "code",
   "execution_count": null,
   "metadata": {},
   "outputs": [],
   "source": []
  },
  {
   "cell_type": "markdown",
   "metadata": {},
   "source": [
    "# Run all mapOpt*sh ()\n",
    "    cd /data/gpfs/assoc/denovo/PHHA/assembly/mapOpt\n",
    "    source activate ddocent_env\n",
    "    bash sbatch_mapOpt.sh"
   ]
  },
  {
   "cell_type": "markdown",
   "metadata": {},
   "source": [
    "# Read in mapping results and make decision"
   ]
  },
  {
   "cell_type": "code",
   "execution_count": 85,
   "metadata": {},
   "outputs": [
    {
     "name": "stdout",
     "output_type": "stream",
     "text": [
      "/data/gpfs/assoc/denovo/tfaske/rabbit/full/REDO\n"
     ]
    }
   ],
   "source": [
    "cd $root"
   ]
  },
  {
   "cell_type": "code",
   "execution_count": 86,
   "metadata": {},
   "outputs": [
    {
     "data": {
      "text/plain": [
       "['./assembly/mapOpt/mapOpt94/mapping94.results',\n",
       " './assembly/mapOpt/mapOpt96/mapping96.results',\n",
       " './assembly/mapOpt/mapOpt92/mapping92.results']"
      ]
     },
     "execution_count": 86,
     "metadata": {},
     "output_type": "execute_result"
    }
   ],
   "source": [
    "mapResults = !find . -name 'mapping*results'\n",
    "mapResults"
   ]
  },
  {
   "cell_type": "code",
   "execution_count": 87,
   "metadata": {},
   "outputs": [
    {
     "name": "stdout",
     "output_type": "stream",
     "text": [
      "./assembly/mapOpt/mapOpt94/mapping94.results\n",
      "Cov\tNon0Cov\tContigs\tMeanContigsMapped\tK1\tK2\tSUM Mapped\tSUM Properly\tMean Mapped\tMean Properly\tMisMatched\n",
      "53.4877\t58.2236\t32072\t29407.1\t4\t4\t29163670\t0\t1715510\t0\t0\n",
      "75.5224\t80.6166\t21788\t20374.3\t4\t5\t27974468\t0\t1.64556e+06\t0\t0\n",
      "103.529\t109.361\t15278\t14438.8\t4\t6\t26890932\t0\t1.58182e+06\t0\t0\n",
      "139.006\t145.826\t10974\t10444.1\t4\t7\t25935145\t0\t1.5256e+06\t0\t0\n",
      "183.881\t191.864\t7948\t7606.06\t4\t8\t24848443\t0\t1.46167e+06\t0\t0\n",
      "241.952\t251.885\t5771\t5536.59\t4\t9\t23741304\t0\t1.39655e+06\t0\t0\n",
      "309.818\t323.297\t4203\t4024.76\t4\t10\t22142037\t0\t1.30247e+06\t0\t0\n",
      "75.901\t80.8343\t21863\t20489.2\t5\t4\t28211481\t0\t1.6595e+06\t0\t0\n",
      "107.681\t113.008\t14773\t14050.4\t5\t5\t27044878\t0\t1.59088e+06\t0\t0\n",
      "147.698\t153.555\t10395\t9980.59\t5\t6\t26103008\t0\t1.53547e+06\t0\t0\n",
      "195.101\t201.827\t7606\t7339.76\t5\t7\t25230251\t0\t1.48413e+06\t0\t0\n",
      "252.101\t260.13\t5663\t5479.59\t5\t8\t24274308\t0\t1.4279e+06\t0\t0\n",
      "320.975\t331.14\t4239\t4103.06\t5\t9\t23135861\t0\t1360933\t0\t0\n",
      "401.743\t415.129\t3142\t3037.12\t5\t10\t21465521\t0\t1.26268e+06\t0\t0\n",
      "102.281\t107.487\t15737\t14949.1\t6\t4\t27364910\t0\t1.6097e+06\t0\t0\n",
      "144.258\t149.803\t10733\t10318.6\t6\t5\t26323883\t0\t1.54846e+06\t0\t0\n",
      "193.486\t199.463\t7760\t7515.71\t6\t6\t25527995\t0\t1.50165e+06\t0\t0\n",
      "248.851\t255.868\t5854\t5685.12\t6\t7\t24769340\t0\t1457020\t0\t0\n",
      "315.057\t323.49\t4459\t4336.82\t6\t8\t23887601\t0\t1405153\t0\t0\n",
      "391.313\t401.984\t3414\t3319.24\t6\t9\t22717693\t0\t1.33633e+06\t0\t0\n",
      "478.278\t492.064\t2594\t2518.76\t6\t10\t21099232\t0\t1.24113e+06\t0\t0\n",
      "130.282\t135.831\t12055\t11545.8\t7\t4\t26701626\t0\t1.57068e+06\t0\t0\n",
      "178.886\t184.681\t8462\t8184.94\t7\t5\t25736555\t0\t1513915\t0\t0\n",
      "233.027\t239.382\t6299\t6123.53\t7\t6\t24957220\t0\t1.46807e+06\t0\t0\n",
      "295.164\t302.506\t4816\t4693.24\t7\t7\t24170717\t0\t1.42181e+06\t0\t0\n",
      "365.822\t374.532\t3762\t3670.35\t7\t8\t23401986\t0\t1.37659e+06\t0\t0\n",
      "449.498\t460.049\t2914\t2844.47\t7\t9\t22274855\t0\t1.31029e+06\t0\t0\n",
      "538.601\t551.882\t2248\t2192.18\t7\t10\t20592313\t0\t1.21131e+06\t0\t0\n",
      "157.024\t162.809\t9814\t9453.24\t8\t4\t26200280\t0\t1.54119e+06\t0\t0\n",
      "211.892\t217.932\t7014\t6811.24\t8\t5\t25269189\t0\t1.48642e+06\t0\t0\n",
      "270.847\t277.287\t5333\t5203.12\t8\t6\t24559892\t0\t1.4447e+06\t0\t0\n",
      "339.085\t346.461\t4139\t4046.76\t8\t7\t23864820\t0\t1.40381e+06\t0\t0\n",
      "413.149\t421.374\t3279\t3212.18\t8\t8\t23037205\t0\t1.35513e+06\t0\t0\n",
      "498.355\t508.53\t2568\t2514.65\t8\t9\t21764653\t0\t1.28027e+06\t0\t0\n",
      "587.33\t600.962\t2026\t1978.82\t8\t10\t20238804\t0\t1.19052e+06\t0\t0\n",
      "183.576\t189.64\t8276\t8002.71\t9\t4\t25830778\t0\t1.51946e+06\t0\t0\n",
      "243.49\t249.611\t6018\t5864.29\t9\t5\t24914678\t0\t1.46557e+06\t0\t0\n",
      "310.324\t316.814\t4573\t4475.12\t9\t6\t24130204\t0\t1.41942e+06\t0\t0\n",
      "\n",
      "\n",
      "./assembly/mapOpt/mapOpt96/mapping96.results\n",
      "Cov\tNon0Cov\tContigs\tMeanContigsMapped\tK1\tK2\tSUM Mapped\tSUM Properly\tMean Mapped\tMean Properly\tMisMatched\n",
      "45.2398\t49.2962\t36218\t33176.1\t4\t4\t31132269\t0\t1.63854e+06\t0\t0\n",
      "64.4506\t68.6837\t24434\t22888.1\t4\t5\t29922167\t0\t1.57485e+06\t0\t0\n",
      "88.4997\t93.2308\t17178\t16278.8\t4\t6\t28886395\t0\t1.52034e+06\t0\t0\n",
      "118.263\t123.737\t12442\t11872.4\t4\t7\t27959289\t0\t1.47154e+06\t0\t0\n",
      "155.656\t161.9\t9113\t8747.63\t4\t8\t26954395\t0\t1.41865e+06\t0\t0\n",
      "203.57\t211.066\t6654\t6409.21\t4\t9\t25740414\t0\t1.35476e+06\t0\t0\n",
      "261.92\t271.989\t4856\t4672\t4\t10\t24170741\t0\t1.27214e+06\t0\t0\n",
      "63.6802\t67.8607\t24921\t23343.7\t5\t4\t30153731\t0\t1.58704e+06\t0\t0\n",
      "90.8298\t95.1894\t16817\t16018.7\t5\t5\t29023937\t0\t1.52758e+06\t0\t0\n",
      "123.962\t128.658\t11904\t11450.3\t5\t6\t28039690\t0\t1.47577e+06\t0\t0\n",
      "163.042\t168.368\t8790\t8498.26\t5\t7\t27232782\t0\t1.4333e+06\t0\t0\n",
      "210.233\t216.335\t6591\t6395.47\t5\t8\t26331200\t0\t1.38585e+06\t0\t0\n",
      "270.006\t277.632\t4927\t4785.37\t5\t9\t25281188\t0\t1.33059e+06\t0\t0\n",
      "338.935\t348.911\t3660\t3551.32\t5\t10\t23575969\t0\t1.24084e+06\t0\t0\n",
      "85.1687\t89.5641\t18136\t17218.9\t6\t4\t29349383\t0\t1.5447e+06\t0\t0\n",
      "120.214\t124.693\t12393\t11929.9\t6\t5\t28308678\t0\t1.48993e+06\t0\t0\n",
      "160.29\t164.985\t9007\t8738.21\t6\t6\t27433918\t0\t1.44389e+06\t0\t0\n",
      "204.48\t209.824\t6848\t6664.68\t6\t7\t26609173\t0\t1.40048e+06\t0\t0\n",
      "260.345\t266.638\t5218\t5088.37\t6\t8\t25816066\t0\t1.35874e+06\t0\t0\n",
      "331.637\t339.588\t3940\t3843.53\t6\t9\t24832616\t0\t1.30698e+06\t0\t0\n",
      "\n",
      "\n",
      "./assembly/mapOpt/mapOpt92/mapping92.results\n",
      "Cov\tNon0Cov\tContigs\tMeanContigsMapped\tK1\tK2\tSUM Mapped\tSUM Properly\tMean Mapped\tMean Properly\tMisMatched\n",
      "57.63\t62.4873\t30371\t27953.2\t4\t4\t31506079\t0\t1.75034e+06\t0\t0\n",
      "81.5139\t86.7423\t20613\t19332.7\t4\t5\t30245906\t0\t1.68033e+06\t0\t0\n",
      "111.504\t117.464\t14448\t13689.7\t4\t6\t29000310\t0\t1.61113e+06\t0\t0\n",
      "150.384\t157.368\t10324\t9849.44\t4\t7\t27948893\t0\t1.55272e+06\t0\t0\n",
      "200.604\t208.808\t7427\t7124.44\t4\t8\t26821577\t0\t1.49009e+06\t0\t0\n",
      "266.397\t276.621\t5338\t5134.39\t4\t9\t25601309\t0\t1.42229e+06\t0\t0\n",
      "342.807\t356.754\t3859\t3705.39\t4\t10\t23818220\t0\t1.32323e+06\t0\t0\n",
      "81.7934\t86.831\t20685\t19445.7\t5\t4\t30455609\t0\t1.69198e+06\t0\t0\n",
      "116.466\t121.907\t13948\t13299.9\t5\t5\t29242397\t0\t1.62458e+06\t0\t0\n",
      "159.376\t165.338\t9793\t9422.78\t5\t6\t28096817\t0\t1.56093e+06\t0\t0\n",
      "213.035\t219.856\t7109\t6876.44\t5\t7\t27264167\t0\t1.51468e+06\t0\t0\n",
      "277.842\t285.984\t5253\t5095.33\t5\t8\t26276050\t0\t1.45978e+06\t0\t0\n",
      "353.993\t364.295\t3916\t3799.89\t5\t9\t24958661\t0\t1.38659e+06\t0\t0\n",
      "444.537\t458.089\t2880\t2791.5\t5\t10\t23052808\t0\t1.28071e+06\t0\t0\n",
      "110.9\t116.205\t14827\t14125\t6\t4\t29599744\t0\t1.64443e+06\t0\t0\n",
      "156.582\t162.184\t10091\t9726.06\t6\t5\t28444001\t0\t1.58022e+06\t0\t0\n",
      "210.497\t216.436\t7264\t7053.61\t6\t6\t27526687\t0\t1.52926e+06\t0\t0\n",
      "271.666\t278.548\t5457\t5314.5\t6\t7\t26689549\t0\t1.48275e+06\t0\t0\n",
      "346.108\t354.396\t4134\t4031.94\t6\t8\t25760828\t0\t1.43116e+06\t0\t0\n",
      "432.819\t443.44\t3142\t3063.06\t6\t9\t24486315\t0\t1.36035e+06\t0\t0\n",
      "531.67\t545.22\t2371\t2309.83\t6\t10\t22700161\t0\t1.26112e+06\t0\t0\n",
      "141.674\t147.299\t11327\t10877.5\t7\t4\t28887800\t0\t1.60488e+06\t0\t0\n",
      "195.267\t200.976\t7901\t7665.5\t7\t5\t27773959\t0\t1.543e+06\t0\t0\n",
      "253.191\t259.342\t5875\t5728\t7\t6\t26779541\t0\t1.48775e+06\t0\t0\n",
      "323.017\t330.146\t4474\t4372.11\t7\t7\t26018996\t0\t1.4455e+06\t0\t0\n",
      "403.085\t411.695\t3478\t3401.61\t7\t8\t25241989\t0\t1.40233e+06\t0\t0\n",
      "496.117\t506.551\t2678\t2620.5\t7\t9\t23923741\t0\t1.3291e+06\t0\t0\n",
      "596.514\t609.68\t2055\t2009.11\t7\t10\t22075777\t0\t1.22643e+06\t0\t0\n",
      "173.034\t178.84\t9139\t8830.39\t8\t4\t28467567\t0\t1.58153e+06\t0\t0\n",
      "233.314\t239.132\t6511\t6344.72\t8\t5\t27348156\t0\t1519342\t0\t0\n",
      "297.379\t303.586\t4940\t4833.5\t8\t6\t26448243\t0\t1.46935e+06\t0\t0\n",
      "373.947\t381.103\t3823\t3747.56\t8\t7\t25739516\t0\t1.42997e+06\t0\t0\n",
      "454.913\t462.952\t3032\t2976.94\t8\t8\t24835497\t0\t1.37975e+06\t0\t0\n",
      "551.783\t561.927\t2361\t2316.72\t8\t9\t23459586\t0\t1.30331e+06\t0\t0\n",
      "650.299\t664.225\t1852\t1812.17\t8\t10\t21690075\t0\t1.205e+06\t0\t0\n",
      "201.744\t207.781\t7697\t7464.72\t9\t4\t27954395\t0\t1.55302e+06\t0\t0\n",
      "267.194\t273.09\t5596\t5469.39\t9\t5\t26918744\t0\t1.49549e+06\t0\t0\n",
      "340.778\t347.12\t4247\t4165.56\t9\t6\t26057243\t0\t1.44762e+06\t0\t0\n",
      "\n",
      "\n"
     ]
    }
   ],
   "source": [
    "for mR in mapResults:\n",
    "    print(mR)\n",
    "    !cat $mR\n",
    "    print('\\n')"
   ]
  },
  {
   "cell_type": "code",
   "execution_count": 88,
   "metadata": {},
   "outputs": [
    {
     "name": "stderr",
     "output_type": "stream",
     "text": [
      "R[write to console]: data.table 1.14.2 using 32 threads (see ?getDTthreads).  Latest news: r-datatable.com\n",
      "\n"
     ]
    },
    {
     "name": "stdout",
     "output_type": "stream",
     "text": [
      "\n",
      "── Column specification ────────────────────────────────────────────────────────\n",
      "cols(\n",
      "  Cov = col_double(),\n",
      "  Non0Cov = col_double(),\n",
      "  Contigs = col_double(),\n",
      "  MeanContigsMapped = col_double(),\n",
      "  K1 = col_double(),\n",
      "  K2 = col_double(),\n",
      "  SUM = col_double(),\n",
      "  Mapped = col_double(),\n",
      "  SUM_1 = col_double(),\n",
      "  Properly = col_double(),\n",
      "  Mean = col_double(),\n",
      "  Mapped_1 = col_character(),\n",
      "  Mean_1 = col_character(),\n",
      "  Properly_1 = col_character(),\n",
      "  MisMatched = col_character()\n",
      ")\n",
      "\n"
     ]
    },
    {
     "name": "stderr",
     "output_type": "stream",
     "text": [
      "R[write to console]: Warning:\n",
      "R[write to console]:  38 parsing failures.\n",
      "row col   expected     actual                         file\n",
      "  1  -- 15 columns 11 columns 'mapOpt92/mapping92.results'\n",
      "  2  -- 15 columns 11 columns 'mapOpt92/mapping92.results'\n",
      "  3  -- 15 columns 11 columns 'mapOpt92/mapping92.results'\n",
      "  4  -- 15 columns 11 columns 'mapOpt92/mapping92.results'\n",
      "  5  -- 15 columns 11 columns 'mapOpt92/mapping92.results'\n",
      "... ... .......... .......... ............................\n",
      "See problems(...) for more details.\n",
      "\n",
      "\n"
     ]
    },
    {
     "name": "stdout",
     "output_type": "stream",
     "text": [
      "\n",
      "── Column specification ────────────────────────────────────────────────────────\n",
      "cols(\n",
      "  Cov = col_double(),\n",
      "  Non0Cov = col_double(),\n",
      "  Contigs = col_double(),\n",
      "  MeanContigsMapped = col_double(),\n",
      "  K1 = col_double(),\n",
      "  K2 = col_double(),\n",
      "  SUM = col_double(),\n",
      "  Mapped = col_double(),\n",
      "  SUM_1 = col_double(),\n",
      "  Properly = col_double(),\n",
      "  Mean = col_double(),\n",
      "  Mapped_1 = col_character(),\n",
      "  Mean_1 = col_character(),\n",
      "  Properly_1 = col_character(),\n",
      "  MisMatched = col_character()\n",
      ")\n",
      "\n"
     ]
    },
    {
     "name": "stderr",
     "output_type": "stream",
     "text": [
      "R[write to console]: Warning:\n",
      "R[write to console]:  38 parsing failures.\n",
      "row col   expected     actual                         file\n",
      "  1  -- 15 columns 11 columns 'mapOpt94/mapping94.results'\n",
      "  2  -- 15 columns 11 columns 'mapOpt94/mapping94.results'\n",
      "  3  -- 15 columns 11 columns 'mapOpt94/mapping94.results'\n",
      "  4  -- 15 columns 11 columns 'mapOpt94/mapping94.results'\n",
      "  5  -- 15 columns 11 columns 'mapOpt94/mapping94.results'\n",
      "... ... .......... .......... ............................\n",
      "See problems(...) for more details.\n",
      "\n",
      "\n"
     ]
    },
    {
     "name": "stdout",
     "output_type": "stream",
     "text": [
      "\n",
      "── Column specification ────────────────────────────────────────────────────────\n",
      "cols(\n",
      "  Cov = col_double(),\n",
      "  Non0Cov = col_double(),\n",
      "  Contigs = col_double(),\n",
      "  MeanContigsMapped = col_double(),\n",
      "  K1 = col_double(),\n",
      "  K2 = col_double(),\n",
      "  SUM = col_double(),\n",
      "  Mapped = col_double(),\n",
      "  SUM_1 = col_double(),\n",
      "  Properly = col_double(),\n",
      "  Mean = col_double(),\n",
      "  Mapped_1 = col_character(),\n",
      "  Mean_1 = col_character(),\n",
      "  Properly_1 = col_character(),\n",
      "  MisMatched = col_character()\n",
      ")\n",
      "\n"
     ]
    },
    {
     "name": "stderr",
     "output_type": "stream",
     "text": [
      "R[write to console]: Warning:\n",
      "R[write to console]:  20 parsing failures.\n",
      "row col   expected     actual                         file\n",
      "  1  -- 15 columns 11 columns 'mapOpt96/mapping96.results'\n",
      "  2  -- 15 columns 11 columns 'mapOpt96/mapping96.results'\n",
      "  3  -- 15 columns 11 columns 'mapOpt96/mapping96.results'\n",
      "  4  -- 15 columns 11 columns 'mapOpt96/mapping96.results'\n",
      "  5  -- 15 columns 11 columns 'mapOpt96/mapping96.results'\n",
      "... ... .......... .......... ............................\n",
      "See problems(...) for more details.\n",
      "\n",
      "\n"
     ]
    },
    {
     "name": "stdout",
     "output_type": "stream",
     "text": [
      "        Cov  Non0Cov Contigs MeanContigsMapped K1 K2      SUM Mapped   SUM_1\n",
      "1:  57.6300  62.4873   30371          27953.20  4  4 31506079      0 1750340\n",
      "2:  81.5139  86.7423   20613          19332.70  4  5 30245906      0 1680330\n",
      "3: 111.5040 117.4640   14448          13689.70  4  6 29000310      0 1611130\n",
      "4: 150.3840 157.3680   10324           9849.44  4  7 27948893      0 1552720\n",
      "5: 200.6040 208.8080    7427           7124.44  4  8 26821577      0 1490090\n",
      "6: 266.3970 276.6210    5338           5134.39  4  9 25601309      0 1422290\n",
      "   Properly Mean Mapped_1 Mean_1 Properly_1 MisMatched   k sim     ratio\n",
      "1:        0    0     <NA>   <NA>       <NA>       <NA> 4_4  92 0.8498267\n",
      "2:        0    0     <NA>   <NA>       <NA>       <NA> 4_5  92 0.9740081\n",
      "3:        0    0     <NA>   <NA>       <NA>       <NA> 4_6  92 1.0377175\n",
      "4:        0    0     <NA>   <NA>       <NA>       <NA> 4_7  92 1.1549125\n",
      "5:        0    0     <NA>   <NA>       <NA>       <NA> 4_8  92 1.9000144\n",
      "6:        0    0     <NA>   <NA>       <NA>       <NA> 4_9  92 0.1340066\n"
     ]
    }
   ],
   "source": [
    "%%R \n",
    "library(readr)\n",
    "library(data.table)\n",
    "setwd('/data/gpfs/assoc/denovo/tfaske/rabbit/full/REDO/assembly/mapOpt')\n",
    "\n",
    "mapping92 <- read_table2('mapOpt92/mapping92.results')\n",
    "mapping92$k <- paste0(mapping92$K1,'_',mapping92$K2)\n",
    "mapping92$sim <- '92'\n",
    "mapping92$ratio <- abs( scale(mapping92$SUM_1) / (scale(mapping92$MeanContigsMapped) / scale(mapping92$Cov) ) ) \n",
    "\n",
    "\n",
    "mapping94 <- read_table2('mapOpt94/mapping94.results')\n",
    "mapping94$k <- paste0(mapping94$K1,'_',mapping94$K2)\n",
    "mapping94$sim <- '94'\n",
    "mapping94$ratio <- abs( scale(mapping94$SUM_1) / (scale(mapping94$MeanContigsMapped) / scale(mapping94$Cov) ) ) \n",
    "\n",
    "mapping96 <- read_table2('mapOpt96/mapping96.results')\n",
    "mapping96$k <- paste0(mapping96$K1,'_',mapping96$K2)\n",
    "mapping96$sim <- '96'\n",
    "mapping96$ratio <- abs( scale(mapping96$SUM_1) / (scale(mapping96$MeanContigsMapped) / scale(mapping96$Cov) ) )\n",
    "\n",
    "#print(mapping92)\n",
    "#print(mapping94)\n",
    "#print(mapping96)\n",
    "\n",
    "#map_df\n",
    "map_df <- rbindlist(list(mapping92,mapping94,mapping96))\n",
    "head(map_df)"
   ]
  },
  {
   "cell_type": "code",
   "execution_count": 89,
   "metadata": {},
   "outputs": [
    {
     "data": {
      "image/png": "[encoded data removed]"
     },
     "metadata": {},
     "output_type": "display_data"
    }
   ],
   "source": [
    "%%R\n",
    "ggplot(data=map_df,aes(x=k,y=ratio,color=as.factor(sim))) + \n",
    "    geom_line(aes(group=as.factor(sim))) + theme_bw()"
   ]
  },
  {
   "cell_type": "code",
   "execution_count": 51,
   "metadata": {},
   "outputs": [
    {
     "name": "stdout",
     "output_type": "stream",
     "text": [
      "              Cov           Non0Cov           Contigs MeanContigsMapped \n",
      "     9.809895e+02      9.887925e+02      5.584474e+03      5.410035e+03 \n",
      "               K1                K2               SUM             SUM_1 \n",
      "     7.000000e+00      7.000000e+00      2.665343e+07      1.400922e+06 \n"
     ]
    }
   ],
   "source": [
    "%%R \n",
    "colMeans(map_df[,c(1:7,9)])"
   ]
  },
  {
   "cell_type": "code",
   "execution_count": 90,
   "metadata": {},
   "outputs": [
    {
     "data": {
      "image/png": "[encoded data removed]"
     },
     "metadata": {},
     "output_type": "display_data"
    }
   ],
   "source": [
    "%%R\n",
    "map_top <- map_df[which(map_df$ratio > quantile(map_df$ratio,probs=.75)),]\n",
    "\n",
    "#SUM Properly\n",
    "ggplot(data=map_top,aes(x=k,y=ratio,color=as.factor(sim))) + \n",
    "    geom_line(aes(group=as.factor(sim))) + theme_bw()"
   ]
  },
  {
   "cell_type": "code",
   "execution_count": 93,
   "metadata": {},
   "outputs": [
    {
     "name": "stdout",
     "output_type": "stream",
     "text": [
      " [1] \"Cov\"               \"Non0Cov\"           \"Contigs\"          \n",
      " [4] \"MeanContigsMapped\" \"K1\"                \"K2\"               \n",
      " [7] \"SUM\"               \"Mapped\"            \"SUM_1\"            \n",
      "[10] \"Properly\"          \"Mean\"              \"Mapped_1\"         \n",
      "[13] \"Mean_1\"            \"Properly_1\"        \"MisMatched\"       \n",
      "[16] \"k\"                 \"sim\"               \"ratio\"            \n"
     ]
    }
   ],
   "source": [
    "%%R\n",
    "names(map_df)"
   ]
  },
  {
   "cell_type": "code",
   "execution_count": 91,
   "metadata": {},
   "outputs": [
    {
     "name": "stdout",
     "output_type": "stream",
     "text": [
      "       Cov Non0Cov Contigs MeanContigsMapped K1 K2      SUM   SUM_1 sim\n",
      "1: 201.744 207.781    7697           7464.72  9  4 27954395 1553020  92\n",
      "2: 183.576 189.640    8276           8002.71  9  4 25830778 1519460  94\n",
      "       ratio\n",
      "1: 11.828759\n",
      "2:  8.449441\n"
     ]
    }
   ],
   "source": [
    "%%R\n",
    "map_df[which(map_df$k %in% c('9_4')),c(1:7,9,17,18)]"
   ]
  },
  {
   "cell_type": "markdown",
   "metadata": {},
   "source": [
    "# Map results \n",
    "    sim=98 K1=8 k2=5 WINNER\n",
    "    \n",
    "    remake reference in fastq using these parameters. Move reference.fasta to assembly dir"
   ]
  },
  {
   "cell_type": "code",
   "execution_count": null,
   "metadata": {},
   "outputs": [],
   "source": []
  }
 ],
 "metadata": {
  "kernelspec": {
   "display_name": "Python 3 (ipykernel)",
   "language": "python",
   "name": "python3"
  },
  "language_info": {
   "codemirror_mode": {
    "name": "ipython",
    "version": 3
   },
   "file_extension": ".py",
   "mimetype": "text/x-python",
   "name": "python",
   "nbconvert_exporter": "python",
   "pygments_lexer": "ipython3",
   "version": "3.11.0"
  }
 },
 "nbformat": 4,
 "nbformat_minor": 1
}
