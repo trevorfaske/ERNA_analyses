{
 "cells": [
  {
   "cell_type": "markdown",
   "metadata": {},
   "source": [
    "# Mapping using bwa-mem  \n",
    "\n",
    "use preferred conda env  \n",
    "**Packages needed**: bwa, samtools"
   ]
  },
  {
   "cell_type": "code",
   "execution_count": 1,
   "metadata": {
    "ExecuteTime": {}
   },
   "outputs": [],
   "source": [
    "import sys\n",
    "import ipyparallel as ipp\n",
    "import os\n",
    "from os import environ\n",
    "import gzip\n",
    "import warnings\n",
    "import pandas as pd\n",
    "import numpy as np\n",
    "import scipy as sp\n",
    "import glob\n",
    "import re\n",
    "import random"
   ]
  },
  {
   "cell_type": "code",
   "execution_count": 2,
   "metadata": {
    "ExecuteTime": {}
   },
   "outputs": [],
   "source": [
    "root = \"/data/gpfs/assoc/denovo/tfaske/rabbit/full/REDO\""
   ]
  },
  {
   "cell_type": "code",
   "execution_count": 3,
   "metadata": {
    "ExecuteTime": {}
   },
   "outputs": [
    {
     "name": "stdout",
     "output_type": "stream",
     "text": [
      "/data/gpfs/assoc/denovo/PHHA\n"
     ]
    }
   ],
   "source": [
    "cd $root"
   ]
  },
  {
   "cell_type": "code",
   "execution_count": null,
   "metadata": {},
   "outputs": [],
   "source": [
    "fq_dir = '/data/gpfs/assoc/denovo/tfaske/rabbit/full/demult/fastq'"
   ]
  },
  {
   "cell_type": "code",
   "execution_count": 4,
   "metadata": {
    "ExecuteTime": {}
   },
   "outputs": [
    {
     "data": {
      "text/plain": [
       "'/data/gpfs/assoc/denovo/PHHA'"
      ]
     },
     "execution_count": 4,
     "metadata": {},
     "output_type": "execute_result"
    }
   ],
   "source": [
    "pwd"
   ]
  },
  {
   "cell_type": "markdown",
   "metadata": {},
   "source": [
    "## Assembly\n",
    "\n",
    "with dDocent c=.94, k1=8, k2=5"
   ]
  },
  {
   "cell_type": "code",
   "execution_count": 5,
   "metadata": {
    "ExecuteTime": {}
   },
   "outputs": [],
   "source": [
    "assembly = os.path.join(root,\"assembly/reference.fasta\")"
   ]
  },
  {
   "cell_type": "code",
   "execution_count": 6,
   "metadata": {},
   "outputs": [],
   "source": [
    "!samtools faidx $assembly"
   ]
  },
  {
   "cell_type": "markdown",
   "metadata": {},
   "source": [
    "## Actual Mapping \n",
    " "
   ]
  },
  {
   "cell_type": "code",
   "execution_count": 9,
   "metadata": {
    "ExecuteTime": {}
   },
   "outputs": [],
   "source": [
    "fastq_files = []\n",
    "files = !find $fq_dir -name '*fq.gz'\n",
    "files = [os.path.abspath(x) for x in files]\n",
    "for x in files:\n",
    "    fastq_files.append(x)\n",
    "fastq_files = sorted(fastq_files)"
   ]
  },
  {
   "cell_type": "code",
   "execution_count": 10,
   "metadata": {
    "ExecuteTime": {}
   },
   "outputs": [
    {
     "data": {
      "text/plain": [
       "(256, '/data/gpfs/assoc/denovo/PHHA/fastq/PH_AS_1.F.fq.gz')"
      ]
     },
     "execution_count": 10,
     "metadata": {},
     "output_type": "execute_result"
    }
   ],
   "source": [
    "len(fastq_files),fastq_files[0]"
   ]
  },
  {
   "cell_type": "code",
   "execution_count": 11,
   "metadata": {},
   "outputs": [
    {
     "name": "stdout",
     "output_type": "stream",
     "text": [
      "/data/gpfs/assoc/denovo/PHHA\n"
     ]
    }
   ],
   "source": [
    "cd $root"
   ]
  },
  {
   "cell_type": "code",
   "execution_count": 19,
   "metadata": {
    "ExecuteTime": {}
   },
   "outputs": [],
   "source": [
    "# -k INT minimum seed length [19]\n",
    "# -w INT band width for banded alignment [100]\n",
    "# -r FLOAT look for internal seeds inside a seed longer than {-k} * FLOAT [1.5]\n",
    "# -T INT minimum score to output [30]\n",
    "# -R STR read group header line such as '@RG\\tID:foo\\tSM:bar' [null]\n",
    "\n",
    "#@lview.remote()\n",
    "def run_bwamem(args):\n",
    "    import os, multiprocessing, socket\n",
    "    cpus = 1\n",
    "    assembly, fq, outdir = args\n",
    "    ID = fq.split('/')[7] ### need to change this to match your ID \n",
    "    ID = ID.split('.F.')[0] ### This too \n",
    "    sam = os.path.join(outdir, \"{}.sam\".format(os.path.basename(ID)))\n",
    "    bam = sam.replace('.sam','.bam')\n",
    "    bam_sorted = \"%s_sorted.bam\" % bam.replace(\".bam\", \"\")\n",
    "    bwa_cmd = r\"bwa mem -k 20 -w 100 -r 1.3 -T 30 -R '@RG\\tID:%s\\tLB:%s\\tSM:%s\\tPL:ILLUMINA' %s %s > %s\" % (ID,ID,ID,assembly,fq,sam)\n",
    "    s2b_cmd =  \"samtools view -b %s -o %s\\n\\nsamtools sort -@ %s %s -o %s\\n\\nsamtools index %s\\n\\n\" % (sam,bam,cpus,bam,bam_sorted,bam_sorted)                                                              \n",
    "    return  bwa_cmd,s2b_cmd "
   ]
  },
  {
   "cell_type": "code",
   "execution_count": 20,
   "metadata": {},
   "outputs": [
    {
     "name": "stdout",
     "output_type": "stream",
     "text": [
      "mkdir: cannot create directory ‘SNPcall’: File exists\r\n"
     ]
    }
   ],
   "source": [
    "!mkdir SNPcall"
   ]
  },
  {
   "cell_type": "code",
   "execution_count": 21,
   "metadata": {},
   "outputs": [
    {
     "name": "stdout",
     "output_type": "stream",
     "text": [
      "mkdir: cannot create directory ‘SNPcall/bwa’: File exists\r\n"
     ]
    }
   ],
   "source": [
    "!mkdir SNPcall/bwa"
   ]
  },
  {
   "cell_type": "code",
   "execution_count": 22,
   "metadata": {},
   "outputs": [
    {
     "name": "stdout",
     "output_type": "stream",
     "text": [
      "mkdir: cannot create directory ‘SNPcall/bwa/shdir’: File exists\r\n"
     ]
    }
   ],
   "source": [
    "!mkdir SNPcall/bwa/shdir"
   ]
  },
  {
   "cell_type": "code",
   "execution_count": 23,
   "metadata": {},
   "outputs": [],
   "source": [
    "bwa_dir = os.path.join(root,\"SNPcall/bwa/\")\n",
    "assert(bwa_dir)"
   ]
  },
  {
   "cell_type": "code",
   "execution_count": 24,
   "metadata": {},
   "outputs": [],
   "source": [
    "### creates a list of commands for bwa-mem for each fastq file\n",
    "res_bwa = []\n",
    "res_s2b = []\n",
    "for f in fastq_files:\n",
    "    r1,r2 = run_bwamem((assembly, f, bwa_dir))\n",
    "    res_bwa.append(r1)\n",
    "    res_s2b.append(r2)"
   ]
  },
  {
   "cell_type": "code",
   "execution_count": 25,
   "metadata": {},
   "outputs": [
    {
     "data": {
      "text/plain": [
       "(256,\n",
       " \"bwa mem -k 20 -w 100 -r 1.3 -T 30 -R '@RG\\\\tID:PH_AS_1\\\\tLB:PH_AS_1\\\\tSM:PH_AS_1\\\\tPL:ILLUMINA' /data/gpfs/assoc/denovo/PHHA/assembly/reference.fasta /data/gpfs/assoc/denovo/PHHA/fastq/PH_AS_1.F.fq.gz > /data/gpfs/assoc/denovo/PHHA/SNPcall/bwa/PH_AS_1.sam\")"
      ]
     },
     "execution_count": 25,
     "metadata": {},
     "output_type": "execute_result"
    }
   ],
   "source": [
    "len(res_bwa),res_bwa[0]"
   ]
  },
  {
   "cell_type": "code",
   "execution_count": 26,
   "metadata": {},
   "outputs": [
    {
     "data": {
      "text/plain": [
       "(256,\n",
       " 'samtools view -b /data/gpfs/assoc/denovo/PHHA/SNPcall/bwa/PH_AS_1.sam -o /data/gpfs/assoc/denovo/PHHA/SNPcall/bwa/PH_AS_1.bam\\n\\nsamtools sort -@ 1 /data/gpfs/assoc/denovo/PHHA/SNPcall/bwa/PH_AS_1.bam -o /data/gpfs/assoc/denovo/PHHA/SNPcall/bwa/PH_AS_1_sorted.bam\\n\\nsamtools index /data/gpfs/assoc/denovo/PHHA/SNPcall/bwa/PH_AS_1_sorted.bam\\n\\n')"
      ]
     },
     "execution_count": 26,
     "metadata": {},
     "output_type": "execute_result"
    }
   ],
   "source": [
    "len(res_s2b),res_s2b[0]"
   ]
  },
  {
   "cell_type": "code",
   "execution_count": 28,
   "metadata": {},
   "outputs": [
    {
     "name": "stdout",
     "output_type": "stream",
     "text": [
      "/data/gpfs/assoc/denovo/PHHA/SNPcall/bwa\n"
     ]
    }
   ],
   "source": [
    "cd $bwa_dir"
   ]
  },
  {
   "cell_type": "markdown",
   "metadata": {},
   "source": [
    "#### Below selects options for slurm submission and is a function for creating a slurm script per fastq"
   ]
  },
  {
   "cell_type": "code",
   "execution_count": 29,
   "metadata": {},
   "outputs": [],
   "source": [
    "fq_ID = [fq.split('/')[7].split('.F.')[0] for fq in fastq_files]"
   ]
  },
  {
   "cell_type": "code",
   "execution_count": 30,
   "metadata": {},
   "outputs": [
    {
     "data": {
      "text/plain": [
       "(256, 'PH_AS_1')"
      ]
     },
     "execution_count": 30,
     "metadata": {},
     "output_type": "execute_result"
    }
   ],
   "source": [
    "len(fq_ID), fq_ID[0]"
   ]
  },
  {
   "cell_type": "code",
   "execution_count": 31,
   "metadata": {},
   "outputs": [],
   "source": [
    "### select options for slurm submission\n",
    "account = 'cpu-s5-denovo-0'\n",
    "partition = 'cpu-core-0'\n",
    "jobname = 'bwa_PHHA'\n",
    "time = '1-00:00:00' #time limit 1 day\n",
    "cpus = 1\n",
    "mem_cpu = 10000\n",
    "email = 'tfaske@nevada.unr.edu'"
   ]
  },
  {
   "cell_type": "code",
   "execution_count": 32,
   "metadata": {},
   "outputs": [],
   "source": [
    "def write_bwamem_ind_sh(account,partition,time,jobname,cpus,mem_cpu,email,fq_ID,bwa_cmds,s2b_cmds):\n",
    "    #print(account)\n",
    "    #print(partition)\n",
    "    #print(cpus)\n",
    "    #print(email)\n",
    "    #print(cmds[0])\n",
    "    for i in range(0,len(bwa_cmds)):\n",
    "        with open(\"shdir/run_bwamem_%s.sh\" % (fq_ID[i]), \"w\") as o:\n",
    "            o.write(\"\"\"#!/usr/bin/env bash\n",
    "#SBATCH --account=%s\n",
    "#SBATCH --partition=%s\n",
    "#SBATCH --time=%s\n",
    "#SBATCH --ntasks 1\n",
    "#SBATCH --cpus-per-task %d\n",
    "#SBATCH --mem-per-cpu=%d\n",
    "#SBATCH --job-name %s_bwamem\n",
    "#SBATCH --output bwa/shdir/output_bwamem_%s.txt\n",
    "#SBATCH --mail-type=FAIL\n",
    "#SBATCH --mail-user=%s \\n\\n\n",
    "    \n",
    "%s \\n\\n\n",
    "%s \\n\"\"\" % (account,partition,time,int(cpus),int(mem_cpu),fq_ID[i],fq_ID[i],email,bwa_cmds[i],s2b_cmds[i]))"
   ]
  },
  {
   "cell_type": "code",
   "execution_count": 33,
   "metadata": {},
   "outputs": [],
   "source": [
    "write_bwamem_ind_sh(account,partition,time,jobname,cpus,mem_cpu,email,fq_ID,res_bwa,res_s2b)"
   ]
  },
  {
   "cell_type": "markdown",
   "metadata": {},
   "source": [
    "#### finds all bwa slurm scripts and writes bash script to sbatch them"
   ]
  },
  {
   "cell_type": "code",
   "execution_count": 34,
   "metadata": {},
   "outputs": [],
   "source": [
    "shbwa_files = []\n",
    "files = !find ./shdir -name '*.sh'\n",
    "files = [os.path.abspath(x) for x in files]\n",
    "for x in files:\n",
    "        shbwa_files.append(x)\n",
    "shbwa_files = sorted(shbwa_files)"
   ]
  },
  {
   "cell_type": "code",
   "execution_count": 35,
   "metadata": {},
   "outputs": [
    {
     "data": {
      "text/plain": [
       "(256, '/data/gpfs/assoc/denovo/PHHA/SNPcall/bwa/shdir/run_bwamem_PH_AS_1.sh')"
      ]
     },
     "execution_count": 35,
     "metadata": {},
     "output_type": "execute_result"
    }
   ],
   "source": [
    "len(shbwa_files),shbwa_files[0]"
   ]
  },
  {
   "cell_type": "code",
   "execution_count": 36,
   "metadata": {},
   "outputs": [],
   "source": [
    "def write_bash_bwamem_sh(sh_files):\n",
    "    with open(\"SNPcall/run_bash_bwa.sh\", \"w\") as o:\n",
    "        o.write(\"\"\"#!/usr/bin/env bash \\n\\n\"\"\")\n",
    "        for f in sh_files:\n",
    "            o.write(\"sbatch %s \\n\" % (f))    "
   ]
  },
  {
   "cell_type": "code",
   "execution_count": 37,
   "metadata": {},
   "outputs": [
    {
     "name": "stdout",
     "output_type": "stream",
     "text": [
      "/data/gpfs/assoc/denovo/PHHA\n"
     ]
    }
   ],
   "source": [
    "cd $root"
   ]
  },
  {
   "cell_type": "code",
   "execution_count": 38,
   "metadata": {},
   "outputs": [],
   "source": [
    "write_bash_bwamem_sh(shbwa_files)"
   ]
  },
  {
   "cell_type": "markdown",
   "metadata": {},
   "source": [
    "# Run run_bash_bwamem_sh locally\n",
    "    cd /data/gpfs/assoc/denovo/PHHA/SNPcall \n",
    "    source activate py36\n",
    "    bash run_bash_bwa.sh\n",
    "    \n",
    "## Remove sam files and unsorted bams\n",
    "\n",
    "       whatever, run in terminal. Move sorted bams, rm bam, mv back"
   ]
  },
  {
   "cell_type": "markdown",
   "metadata": {},
   "source": [
    "# Calculates coverage from bam_files (slowwwww)\n",
    "\n",
    "also outputs a file called \"bam_coverage.csv\" in the bam folder"
   ]
  },
  {
   "cell_type": "code",
   "execution_count": 43,
   "metadata": {},
   "outputs": [],
   "source": [
    "samtools = \"samtools\""
   ]
  },
  {
   "cell_type": "code",
   "execution_count": 44,
   "metadata": {},
   "outputs": [
    {
     "name": "stdout",
     "output_type": "stream",
     "text": [
      "/data/gpfs/assoc/denovo/PHHA/SNPcall/bwa\n"
     ]
    }
   ],
   "source": [
    "cd $bwa_dir"
   ]
  },
  {
   "cell_type": "code",
   "execution_count": 45,
   "metadata": {},
   "outputs": [
    {
     "data": {
      "text/plain": [
       "(256, 256)"
      ]
     },
     "execution_count": 45,
     "metadata": {},
     "output_type": "execute_result"
    }
   ],
   "source": [
    "bam_files = []\n",
    "files = !find . -type f -name '*sorted.bam'\n",
    "files = [os.path.abspath(x) for x in files if 'bam' in x]\n",
    "for x in files:\n",
    "    bam_files.append(x)\n",
    "bam_files = sorted(bam_files)\n",
    "\n",
    "len(bam_files), len(fastq_files)"
   ]
  },
  {
   "cell_type": "code",
   "execution_count": 46,
   "metadata": {},
   "outputs": [
    {
     "data": {
      "text/plain": [
       "(256, '/data/gpfs/assoc/denovo/PHHA/SNPcall/bwa/PH_AS_10_sorted.bam')"
      ]
     },
     "execution_count": 46,
     "metadata": {},
     "output_type": "execute_result"
    }
   ],
   "source": [
    "len(bam_files), bam_files[0]"
   ]
  },
  {
   "cell_type": "code",
   "execution_count": 48,
   "metadata": {},
   "outputs": [
    {
     "name": "stdout",
     "output_type": "stream",
     "text": [
      "/data/gpfs/assoc/denovo/PHHA/SNPcall/bwa/PH_AS_10_sorted.bam\n",
      "21.804277208992165 PH_AS_10_sorted.bam\n",
      "/data/gpfs/assoc/denovo/PHHA/SNPcall/bwa/PH_AS_11_sorted.bam\n",
      "13.93102439878142 PH_AS_11_sorted.bam\n",
      "/data/gpfs/assoc/denovo/PHHA/SNPcall/bwa/PH_AS_12_sorted.bam\n",
      "22.795914360960108 PH_AS_12_sorted.bam\n",
      "/data/gpfs/assoc/denovo/PHHA/SNPcall/bwa/PH_AS_1_sorted.bam\n",
      "24.2685911667477 PH_AS_1_sorted.bam\n",
      "/data/gpfs/assoc/denovo/PHHA/SNPcall/bwa/PH_AS_2_sorted.bam\n",
      "19.002799821089706 PH_AS_2_sorted.bam\n",
      "/data/gpfs/assoc/denovo/PHHA/SNPcall/bwa/PH_AS_3_sorted.bam\n",
      "20.092456381788107 PH_AS_3_sorted.bam\n",
      "/data/gpfs/assoc/denovo/PHHA/SNPcall/bwa/PH_AS_4_sorted.bam\n",
      "17.677707622132665 PH_AS_4_sorted.bam\n",
      "/data/gpfs/assoc/denovo/PHHA/SNPcall/bwa/PH_AS_5_sorted.bam\n",
      "22.435934330633703 PH_AS_5_sorted.bam\n",
      "/data/gpfs/assoc/denovo/PHHA/SNPcall/bwa/PH_AS_6_sorted.bam\n",
      "16.195533166270643 PH_AS_6_sorted.bam\n",
      "/data/gpfs/assoc/denovo/PHHA/SNPcall/bwa/PH_AS_7_sorted.bam\n",
      "23.944310302527796 PH_AS_7_sorted.bam\n",
      "/data/gpfs/assoc/denovo/PHHA/SNPcall/bwa/PH_AS_8_sorted.bam\n",
      "24.091887041886725 PH_AS_8_sorted.bam\n",
      "/data/gpfs/assoc/denovo/PHHA/SNPcall/bwa/PH_AS_9_sorted.bam\n",
      "19.552843539374884 PH_AS_9_sorted.bam\n",
      "/data/gpfs/assoc/denovo/PHHA/SNPcall/bwa/PH_BA_10_sorted.bam\n",
      "21.933022930185068 PH_BA_10_sorted.bam\n",
      "/data/gpfs/assoc/denovo/PHHA/SNPcall/bwa/PH_BA_11_sorted.bam\n",
      "3.710716391939788 PH_BA_11_sorted.bam\n",
      "/data/gpfs/assoc/denovo/PHHA/SNPcall/bwa/PH_BA_12_sorted.bam\n",
      "7.2203545405923215 PH_BA_12_sorted.bam\n",
      "/data/gpfs/assoc/denovo/PHHA/SNPcall/bwa/PH_BA_1_sorted.bam\n",
      "22.370225195988688 PH_BA_1_sorted.bam\n",
      "/data/gpfs/assoc/denovo/PHHA/SNPcall/bwa/PH_BA_2_sorted.bam\n",
      "16.203116575079186 PH_BA_2_sorted.bam\n",
      "/data/gpfs/assoc/denovo/PHHA/SNPcall/bwa/PH_BA_3_sorted.bam\n",
      "21.356622625899803 PH_BA_3_sorted.bam\n",
      "/data/gpfs/assoc/denovo/PHHA/SNPcall/bwa/PH_BA_4_sorted.bam\n",
      "17.181695989708405 PH_BA_4_sorted.bam\n",
      "/data/gpfs/assoc/denovo/PHHA/SNPcall/bwa/PH_BA_5_sorted.bam\n",
      "13.584026516746642 PH_BA_5_sorted.bam\n",
      "/data/gpfs/assoc/denovo/PHHA/SNPcall/bwa/PH_BA_6_sorted.bam\n",
      "2.4649163123287052 PH_BA_6_sorted.bam\n",
      "/data/gpfs/assoc/denovo/PHHA/SNPcall/bwa/PH_BA_7_sorted.bam\n",
      "25.18110401862621 PH_BA_7_sorted.bam\n",
      "/data/gpfs/assoc/denovo/PHHA/SNPcall/bwa/PH_BA_9_sorted.bam\n",
      "19.253105067581266 PH_BA_9_sorted.bam\n",
      "/data/gpfs/assoc/denovo/PHHA/SNPcall/bwa/PH_BB_10_sorted.bam\n",
      "15.646173505165038 PH_BB_10_sorted.bam\n",
      "/data/gpfs/assoc/denovo/PHHA/SNPcall/bwa/PH_BB_1_sorted.bam\n",
      "21.997895607541658 PH_BB_1_sorted.bam\n",
      "/data/gpfs/assoc/denovo/PHHA/SNPcall/bwa/PH_BB_2_sorted.bam\n",
      "16.007864559047572 PH_BB_2_sorted.bam\n",
      "/data/gpfs/assoc/denovo/PHHA/SNPcall/bwa/PH_BB_3_sorted.bam\n",
      "13.58468557564655 PH_BB_3_sorted.bam\n",
      "/data/gpfs/assoc/denovo/PHHA/SNPcall/bwa/PH_BB_4_sorted.bam\n",
      "22.052740489950907 PH_BB_4_sorted.bam\n",
      "/data/gpfs/assoc/denovo/PHHA/SNPcall/bwa/PH_BB_5_sorted.bam\n",
      "22.1539251296052 PH_BB_5_sorted.bam\n",
      "/data/gpfs/assoc/denovo/PHHA/SNPcall/bwa/PH_BB_6_sorted.bam\n",
      "17.34366913335423 PH_BB_6_sorted.bam\n",
      "/data/gpfs/assoc/denovo/PHHA/SNPcall/bwa/PH_BB_7_sorted.bam\n",
      "16.630225988514244 PH_BB_7_sorted.bam\n",
      "/data/gpfs/assoc/denovo/PHHA/SNPcall/bwa/PH_BB_8_sorted.bam\n",
      "17.694256354931774 PH_BB_8_sorted.bam\n",
      "/data/gpfs/assoc/denovo/PHHA/SNPcall/bwa/PH_BB_9_sorted.bam\n",
      "24.827383369661607 PH_BB_9_sorted.bam\n",
      "/data/gpfs/assoc/denovo/PHHA/SNPcall/bwa/PH_BC_10_sorted.bam\n",
      "23.280055646750057 PH_BC_10_sorted.bam\n",
      "/data/gpfs/assoc/denovo/PHHA/SNPcall/bwa/PH_BC_11_sorted.bam\n",
      "10.742858300929365 PH_BC_11_sorted.bam\n",
      "/data/gpfs/assoc/denovo/PHHA/SNPcall/bwa/PH_BC_12_sorted.bam\n",
      "7.840434956671786 PH_BC_12_sorted.bam\n",
      "/data/gpfs/assoc/denovo/PHHA/SNPcall/bwa/PH_BC_1_sorted.bam\n",
      "15.695058985283188 PH_BC_1_sorted.bam\n",
      "/data/gpfs/assoc/denovo/PHHA/SNPcall/bwa/PH_BC_2_sorted.bam\n",
      "11.486364963679785 PH_BC_2_sorted.bam\n",
      "/data/gpfs/assoc/denovo/PHHA/SNPcall/bwa/PH_BC_3_sorted.bam\n",
      "18.982209481086866 PH_BC_3_sorted.bam\n",
      "/data/gpfs/assoc/denovo/PHHA/SNPcall/bwa/PH_BC_4_sorted.bam\n",
      "21.32853375833092 PH_BC_4_sorted.bam\n",
      "/data/gpfs/assoc/denovo/PHHA/SNPcall/bwa/PH_BC_5_sorted.bam\n",
      "20.46685171993978 PH_BC_5_sorted.bam\n",
      "/data/gpfs/assoc/denovo/PHHA/SNPcall/bwa/PH_BC_6_sorted.bam\n",
      "18.666145656074185 PH_BC_6_sorted.bam\n",
      "/data/gpfs/assoc/denovo/PHHA/SNPcall/bwa/PH_BC_7_sorted.bam\n",
      "14.46759737125123 PH_BC_7_sorted.bam\n",
      "/data/gpfs/assoc/denovo/PHHA/SNPcall/bwa/PH_BC_8_sorted.bam\n",
      "9.838858112739983 PH_BC_8_sorted.bam\n",
      "/data/gpfs/assoc/denovo/PHHA/SNPcall/bwa/PH_BC_9_sorted.bam\n",
      "9.626421532890694 PH_BC_9_sorted.bam\n",
      "/data/gpfs/assoc/denovo/PHHA/SNPcall/bwa/PH_CA_10_sorted.bam\n",
      "18.27761365599101 PH_CA_10_sorted.bam\n",
      "/data/gpfs/assoc/denovo/PHHA/SNPcall/bwa/PH_CA_12_sorted.bam\n",
      "15.54445540585499 PH_CA_12_sorted.bam\n",
      "/data/gpfs/assoc/denovo/PHHA/SNPcall/bwa/PH_CA_1_sorted.bam\n",
      "17.473975045746005 PH_CA_1_sorted.bam\n",
      "/data/gpfs/assoc/denovo/PHHA/SNPcall/bwa/PH_CA_2_sorted.bam\n",
      "14.399347520927655 PH_CA_2_sorted.bam\n",
      "/data/gpfs/assoc/denovo/PHHA/SNPcall/bwa/PH_CA_3_sorted.bam\n",
      "21.32476078980092 PH_CA_3_sorted.bam\n",
      "/data/gpfs/assoc/denovo/PHHA/SNPcall/bwa/PH_CA_4_sorted.bam\n",
      "16.04708344754901 PH_CA_4_sorted.bam\n",
      "/data/gpfs/assoc/denovo/PHHA/SNPcall/bwa/PH_CA_6_sorted.bam\n",
      "18.07400563016884 PH_CA_6_sorted.bam\n",
      "/data/gpfs/assoc/denovo/PHHA/SNPcall/bwa/PH_CA_7_sorted.bam\n",
      "17.938400689005768 PH_CA_7_sorted.bam\n",
      "/data/gpfs/assoc/denovo/PHHA/SNPcall/bwa/PH_CA_8_sorted.bam\n",
      "17.827402483115208 PH_CA_8_sorted.bam\n",
      "/data/gpfs/assoc/denovo/PHHA/SNPcall/bwa/PH_CR_10_sorted.bam\n",
      "21.30824859418273 PH_CR_10_sorted.bam\n",
      "/data/gpfs/assoc/denovo/PHHA/SNPcall/bwa/PH_CR_11_sorted.bam\n",
      "20.206027876998427 PH_CR_11_sorted.bam\n",
      "/data/gpfs/assoc/denovo/PHHA/SNPcall/bwa/PH_CR_12_sorted.bam\n",
      "20.665268086263836 PH_CR_12_sorted.bam\n",
      "/data/gpfs/assoc/denovo/PHHA/SNPcall/bwa/PH_CR_1_sorted.bam\n",
      "18.281423903510476 PH_CR_1_sorted.bam\n",
      "/data/gpfs/assoc/denovo/PHHA/SNPcall/bwa/PH_CR_2_sorted.bam\n",
      "19.541247591390388 PH_CR_2_sorted.bam\n",
      "/data/gpfs/assoc/denovo/PHHA/SNPcall/bwa/PH_CR_3_sorted.bam\n",
      "19.86226155282786 PH_CR_3_sorted.bam\n",
      "/data/gpfs/assoc/denovo/PHHA/SNPcall/bwa/PH_CR_4_sorted.bam\n",
      "11.36136262021164 PH_CR_4_sorted.bam\n",
      "/data/gpfs/assoc/denovo/PHHA/SNPcall/bwa/PH_CR_5_sorted.bam\n",
      "21.328127506778493 PH_CR_5_sorted.bam\n",
      "/data/gpfs/assoc/denovo/PHHA/SNPcall/bwa/PH_CR_6_sorted.bam\n",
      "17.323966210586555 PH_CR_6_sorted.bam\n",
      "/data/gpfs/assoc/denovo/PHHA/SNPcall/bwa/PH_CR_7_sorted.bam\n",
      "20.93122802872533 PH_CR_7_sorted.bam\n",
      "/data/gpfs/assoc/denovo/PHHA/SNPcall/bwa/PH_CR_8_sorted.bam\n",
      "16.475620211659706 PH_CR_8_sorted.bam\n",
      "/data/gpfs/assoc/denovo/PHHA/SNPcall/bwa/PH_CR_9_sorted.bam\n",
      "14.706005512055263 PH_CR_9_sorted.bam\n",
      "/data/gpfs/assoc/denovo/PHHA/SNPcall/bwa/PH_DA_2_sorted.bam\n",
      "17.083693367125935 PH_DA_2_sorted.bam\n",
      "/data/gpfs/assoc/denovo/PHHA/SNPcall/bwa/PH_DA_5_sorted.bam\n",
      "28.211348846212083 PH_DA_5_sorted.bam\n",
      "/data/gpfs/assoc/denovo/PHHA/SNPcall/bwa/PH_DA_6_sorted.bam\n",
      "22.064166884652114 PH_DA_6_sorted.bam\n",
      "/data/gpfs/assoc/denovo/PHHA/SNPcall/bwa/PH_DA_7_sorted.bam\n",
      "25.255715764108402 PH_DA_7_sorted.bam\n",
      "/data/gpfs/assoc/denovo/PHHA/SNPcall/bwa/PH_DA_8_sorted.bam\n",
      "20.745816656945756 PH_DA_8_sorted.bam\n",
      "/data/gpfs/assoc/denovo/PHHA/SNPcall/bwa/PH_FC_10_sorted.bam\n",
      "21.902234434606118 PH_FC_10_sorted.bam\n",
      "/data/gpfs/assoc/denovo/PHHA/SNPcall/bwa/PH_FC_11_sorted.bam\n",
      "15.56205486224329 PH_FC_11_sorted.bam\n",
      "/data/gpfs/assoc/denovo/PHHA/SNPcall/bwa/PH_FC_12_sorted.bam\n",
      "20.74019064018843 PH_FC_12_sorted.bam\n",
      "/data/gpfs/assoc/denovo/PHHA/SNPcall/bwa/PH_FC_1_sorted.bam\n",
      "19.804524839364973 PH_FC_1_sorted.bam\n",
      "/data/gpfs/assoc/denovo/PHHA/SNPcall/bwa/PH_FC_2_sorted.bam\n",
      "21.10024735227602 PH_FC_2_sorted.bam\n",
      "/data/gpfs/assoc/denovo/PHHA/SNPcall/bwa/PH_FC_4_sorted.bam\n",
      "21.00906232977204 PH_FC_4_sorted.bam\n",
      "/data/gpfs/assoc/denovo/PHHA/SNPcall/bwa/PH_FC_6_sorted.bam\n",
      "16.526428455307105 PH_FC_6_sorted.bam\n",
      "/data/gpfs/assoc/denovo/PHHA/SNPcall/bwa/PH_FC_8_sorted.bam\n",
      "15.61230122412494 PH_FC_8_sorted.bam\n",
      "/data/gpfs/assoc/denovo/PHHA/SNPcall/bwa/PH_FC_9_sorted.bam\n",
      "22.191341435959146 PH_FC_9_sorted.bam\n",
      "/data/gpfs/assoc/denovo/PHHA/SNPcall/bwa/PH_FV_10_sorted.bam\n",
      "19.58010602814848 PH_FV_10_sorted.bam\n",
      "/data/gpfs/assoc/denovo/PHHA/SNPcall/bwa/PH_FV_11_sorted.bam\n",
      "18.720341610489527 PH_FV_11_sorted.bam\n",
      "/data/gpfs/assoc/denovo/PHHA/SNPcall/bwa/PH_FV_12_sorted.bam\n",
      "23.412778497569334 PH_FV_12_sorted.bam\n",
      "/data/gpfs/assoc/denovo/PHHA/SNPcall/bwa/PH_FV_1_sorted.bam\n"
     ]
    },
    {
     "name": "stdout",
     "output_type": "stream",
     "text": [
      "21.7705629286428 PH_FV_1_sorted.bam\n",
      "/data/gpfs/assoc/denovo/PHHA/SNPcall/bwa/PH_FV_2_sorted.bam\n",
      "23.48835513093123 PH_FV_2_sorted.bam\n",
      "/data/gpfs/assoc/denovo/PHHA/SNPcall/bwa/PH_FV_3_sorted.bam\n",
      "2.984570998688345 PH_FV_3_sorted.bam\n",
      "/data/gpfs/assoc/denovo/PHHA/SNPcall/bwa/PH_FV_4_sorted.bam\n",
      "16.590143813691537 PH_FV_4_sorted.bam\n",
      "/data/gpfs/assoc/denovo/PHHA/SNPcall/bwa/PH_FV_5_sorted.bam\n",
      "20.71978575810792 PH_FV_5_sorted.bam\n",
      "/data/gpfs/assoc/denovo/PHHA/SNPcall/bwa/PH_FV_6_sorted.bam\n",
      "19.13113830164006 PH_FV_6_sorted.bam\n",
      "/data/gpfs/assoc/denovo/PHHA/SNPcall/bwa/PH_FV_7_sorted.bam\n",
      "24.730418305853473 PH_FV_7_sorted.bam\n",
      "/data/gpfs/assoc/denovo/PHHA/SNPcall/bwa/PH_FV_8_sorted.bam\n",
      "22.10325064289919 PH_FV_8_sorted.bam\n",
      "/data/gpfs/assoc/denovo/PHHA/SNPcall/bwa/PH_FV_9_sorted.bam\n",
      "19.490933962159122 PH_FV_9_sorted.bam\n",
      "/data/gpfs/assoc/denovo/PHHA/SNPcall/bwa/PH_GB_10_sorted.bam\n",
      "17.21668397559506 PH_GB_10_sorted.bam\n",
      "/data/gpfs/assoc/denovo/PHHA/SNPcall/bwa/PH_GB_11_sorted.bam\n",
      "21.70903560908558 PH_GB_11_sorted.bam\n",
      "/data/gpfs/assoc/denovo/PHHA/SNPcall/bwa/PH_GB_12_sorted.bam\n",
      "13.852036695625086 PH_GB_12_sorted.bam\n",
      "/data/gpfs/assoc/denovo/PHHA/SNPcall/bwa/PH_GB_1_sorted.bam\n",
      "20.934245096858408 PH_GB_1_sorted.bam\n",
      "/data/gpfs/assoc/denovo/PHHA/SNPcall/bwa/PH_GB_2_sorted.bam\n",
      "25.862642427142863 PH_GB_2_sorted.bam\n",
      "/data/gpfs/assoc/denovo/PHHA/SNPcall/bwa/PH_GB_5_sorted.bam\n",
      "16.799009310411048 PH_GB_5_sorted.bam\n",
      "/data/gpfs/assoc/denovo/PHHA/SNPcall/bwa/PH_GB_6_sorted.bam\n",
      "18.737935830220678 PH_GB_6_sorted.bam\n",
      "/data/gpfs/assoc/denovo/PHHA/SNPcall/bwa/PH_GB_8_sorted.bam\n",
      "12.699594536462735 PH_GB_8_sorted.bam\n",
      "/data/gpfs/assoc/denovo/PHHA/SNPcall/bwa/PH_GB_9_sorted.bam\n",
      "16.29548544531988 PH_GB_9_sorted.bam\n",
      "/data/gpfs/assoc/denovo/PHHA/SNPcall/bwa/PH_KC_10_sorted.bam\n",
      "24.325516235903343 PH_KC_10_sorted.bam\n",
      "/data/gpfs/assoc/denovo/PHHA/SNPcall/bwa/PH_KC_11_sorted.bam\n",
      "18.314126769138902 PH_KC_11_sorted.bam\n",
      "/data/gpfs/assoc/denovo/PHHA/SNPcall/bwa/PH_KC_1_sorted.bam\n",
      "18.14840364929162 PH_KC_1_sorted.bam\n",
      "/data/gpfs/assoc/denovo/PHHA/SNPcall/bwa/PH_KC_2_sorted.bam\n",
      "15.537597699820637 PH_KC_2_sorted.bam\n",
      "/data/gpfs/assoc/denovo/PHHA/SNPcall/bwa/PH_KC_3_sorted.bam\n",
      "14.992318873887973 PH_KC_3_sorted.bam\n",
      "/data/gpfs/assoc/denovo/PHHA/SNPcall/bwa/PH_KC_4_sorted.bam\n",
      "18.355673988243822 PH_KC_4_sorted.bam\n",
      "/data/gpfs/assoc/denovo/PHHA/SNPcall/bwa/PH_KC_5_sorted.bam\n",
      "21.32417752418427 PH_KC_5_sorted.bam\n",
      "/data/gpfs/assoc/denovo/PHHA/SNPcall/bwa/PH_KC_6_sorted.bam\n",
      "21.549461353535875 PH_KC_6_sorted.bam\n",
      "/data/gpfs/assoc/denovo/PHHA/SNPcall/bwa/PH_KC_7_sorted.bam\n",
      "22.527637163149333 PH_KC_7_sorted.bam\n",
      "/data/gpfs/assoc/denovo/PHHA/SNPcall/bwa/PH_KC_8_sorted.bam\n",
      "16.440475927948118 PH_KC_8_sorted.bam\n",
      "/data/gpfs/assoc/denovo/PHHA/SNPcall/bwa/PH_KC_9_sorted.bam\n",
      "15.775004259805346 PH_KC_9_sorted.bam\n",
      "/data/gpfs/assoc/denovo/PHHA/SNPcall/bwa/PH_MC_10_sorted.bam\n",
      "14.05312494712469 PH_MC_10_sorted.bam\n",
      "/data/gpfs/assoc/denovo/PHHA/SNPcall/bwa/PH_MC_11_sorted.bam\n",
      "15.771462480907244 PH_MC_11_sorted.bam\n",
      "/data/gpfs/assoc/denovo/PHHA/SNPcall/bwa/PH_MC_12_sorted.bam\n",
      "13.017532471787167 PH_MC_12_sorted.bam\n",
      "/data/gpfs/assoc/denovo/PHHA/SNPcall/bwa/PH_MC_1_sorted.bam\n",
      "10.0650696639493 PH_MC_1_sorted.bam\n",
      "/data/gpfs/assoc/denovo/PHHA/SNPcall/bwa/PH_MC_2_sorted.bam\n",
      "11.479034108881024 PH_MC_2_sorted.bam\n",
      "/data/gpfs/assoc/denovo/PHHA/SNPcall/bwa/PH_MC_5_sorted.bam\n",
      "17.464880018514705 PH_MC_5_sorted.bam\n",
      "/data/gpfs/assoc/denovo/PHHA/SNPcall/bwa/PH_MC_6_sorted.bam\n",
      "16.670105219908507 PH_MC_6_sorted.bam\n",
      "/data/gpfs/assoc/denovo/PHHA/SNPcall/bwa/PH_MC_7_sorted.bam\n",
      "15.600683246106152 PH_MC_7_sorted.bam\n",
      "/data/gpfs/assoc/denovo/PHHA/SNPcall/bwa/PH_MC_8_sorted.bam\n",
      "11.046645495682625 PH_MC_8_sorted.bam\n",
      "/data/gpfs/assoc/denovo/PHHA/SNPcall/bwa/PH_MC_9_sorted.bam\n",
      "9.533117230874918 PH_MC_9_sorted.bam\n",
      "/data/gpfs/assoc/denovo/PHHA/SNPcall/bwa/PH_ML_10_sorted.bam\n",
      "20.343895340083463 PH_ML_10_sorted.bam\n",
      "/data/gpfs/assoc/denovo/PHHA/SNPcall/bwa/PH_ML_11_sorted.bam\n",
      "16.585338442785236 PH_ML_11_sorted.bam\n",
      "/data/gpfs/assoc/denovo/PHHA/SNPcall/bwa/PH_ML_12_sorted.bam\n",
      "17.98409802488257 PH_ML_12_sorted.bam\n",
      "/data/gpfs/assoc/denovo/PHHA/SNPcall/bwa/PH_ML_1_sorted.bam\n",
      "23.782430475568155 PH_ML_1_sorted.bam\n",
      "/data/gpfs/assoc/denovo/PHHA/SNPcall/bwa/PH_ML_2_sorted.bam\n",
      "14.4633386612614 PH_ML_2_sorted.bam\n",
      "/data/gpfs/assoc/denovo/PHHA/SNPcall/bwa/PH_ML_3_sorted.bam\n",
      "21.849697562545177 PH_ML_3_sorted.bam\n",
      "/data/gpfs/assoc/denovo/PHHA/SNPcall/bwa/PH_ML_4_sorted.bam\n",
      "21.661285285029646 PH_ML_4_sorted.bam\n",
      "/data/gpfs/assoc/denovo/PHHA/SNPcall/bwa/PH_ML_5_sorted.bam\n",
      "21.83932364625546 PH_ML_5_sorted.bam\n",
      "/data/gpfs/assoc/denovo/PHHA/SNPcall/bwa/PH_ML_6_sorted.bam\n",
      "21.450983001160573 PH_ML_6_sorted.bam\n",
      "/data/gpfs/assoc/denovo/PHHA/SNPcall/bwa/PH_ML_8_sorted.bam\n",
      "20.201038258331245 PH_ML_8_sorted.bam\n",
      "/data/gpfs/assoc/denovo/PHHA/SNPcall/bwa/PH_OF_10_sorted.bam\n",
      "19.349192738815592 PH_OF_10_sorted.bam\n",
      "/data/gpfs/assoc/denovo/PHHA/SNPcall/bwa/PH_OF_11_sorted.bam\n",
      "19.313115256390606 PH_OF_11_sorted.bam\n",
      "/data/gpfs/assoc/denovo/PHHA/SNPcall/bwa/PH_OF_12_sorted.bam\n",
      "19.2217880604846 PH_OF_12_sorted.bam\n",
      "/data/gpfs/assoc/denovo/PHHA/SNPcall/bwa/PH_OF_3_sorted.bam\n",
      "21.50619452971512 PH_OF_3_sorted.bam\n",
      "/data/gpfs/assoc/denovo/PHHA/SNPcall/bwa/PH_OF_4_sorted.bam\n",
      "19.41047929751894 PH_OF_4_sorted.bam\n",
      "/data/gpfs/assoc/denovo/PHHA/SNPcall/bwa/PH_OF_5_sorted.bam\n",
      "14.937103081973087 PH_OF_5_sorted.bam\n",
      "/data/gpfs/assoc/denovo/PHHA/SNPcall/bwa/PH_OF_6_sorted.bam\n",
      "14.075697156859912 PH_OF_6_sorted.bam\n",
      "/data/gpfs/assoc/denovo/PHHA/SNPcall/bwa/PH_OF_7_sorted.bam\n",
      "19.855893121764797 PH_OF_7_sorted.bam\n",
      "/data/gpfs/assoc/denovo/PHHA/SNPcall/bwa/PH_PC_10_sorted.bam\n",
      "19.998090428685188 PH_PC_10_sorted.bam\n",
      "/data/gpfs/assoc/denovo/PHHA/SNPcall/bwa/PH_PC_11_sorted.bam\n",
      "21.550156464658894 PH_PC_11_sorted.bam\n",
      "/data/gpfs/assoc/denovo/PHHA/SNPcall/bwa/PH_PC_12_sorted.bam\n",
      "21.57618119014288 PH_PC_12_sorted.bam\n",
      "/data/gpfs/assoc/denovo/PHHA/SNPcall/bwa/PH_PC_1_sorted.bam\n",
      "17.205332184847972 PH_PC_1_sorted.bam\n",
      "/data/gpfs/assoc/denovo/PHHA/SNPcall/bwa/PH_PC_2_sorted.bam\n",
      "18.736300446697296 PH_PC_2_sorted.bam\n",
      "/data/gpfs/assoc/denovo/PHHA/SNPcall/bwa/PH_PC_3_sorted.bam\n",
      "32.361156579933684 PH_PC_3_sorted.bam\n",
      "/data/gpfs/assoc/denovo/PHHA/SNPcall/bwa/PH_PC_4_sorted.bam\n",
      "26.078749721350587 PH_PC_4_sorted.bam\n",
      "/data/gpfs/assoc/denovo/PHHA/SNPcall/bwa/PH_PC_5_sorted.bam\n",
      "23.818507784872363 PH_PC_5_sorted.bam\n",
      "/data/gpfs/assoc/denovo/PHHA/SNPcall/bwa/PH_PC_6_sorted.bam\n",
      "23.614985577677828 PH_PC_6_sorted.bam\n",
      "/data/gpfs/assoc/denovo/PHHA/SNPcall/bwa/PH_PC_7_sorted.bam\n",
      "21.46401372692057 PH_PC_7_sorted.bam\n",
      "/data/gpfs/assoc/denovo/PHHA/SNPcall/bwa/PH_PC_8_sorted.bam\n",
      "19.99957493138561 PH_PC_8_sorted.bam\n",
      "/data/gpfs/assoc/denovo/PHHA/SNPcall/bwa/PH_PC_9_sorted.bam\n",
      "24.205903252345887 PH_PC_9_sorted.bam\n",
      "/data/gpfs/assoc/denovo/PHHA/SNPcall/bwa/PH_PM_10_sorted.bam\n",
      "26.841394259038513 PH_PM_10_sorted.bam\n",
      "/data/gpfs/assoc/denovo/PHHA/SNPcall/bwa/PH_PM_11_sorted.bam\n",
      "24.543777068734485 PH_PM_11_sorted.bam\n",
      "/data/gpfs/assoc/denovo/PHHA/SNPcall/bwa/PH_PM_12_sorted.bam\n",
      "24.81911306810428 PH_PM_12_sorted.bam\n",
      "/data/gpfs/assoc/denovo/PHHA/SNPcall/bwa/PH_PM_1_sorted.bam\n",
      "26.20958651380518 PH_PM_1_sorted.bam\n",
      "/data/gpfs/assoc/denovo/PHHA/SNPcall/bwa/PH_PM_2_sorted.bam\n",
      "23.901578028536527 PH_PM_2_sorted.bam\n",
      "/data/gpfs/assoc/denovo/PHHA/SNPcall/bwa/PH_PM_3_sorted.bam\n",
      "22.811680838551094 PH_PM_3_sorted.bam\n",
      "/data/gpfs/assoc/denovo/PHHA/SNPcall/bwa/PH_PM_4_sorted.bam\n",
      "25.435103115719865 PH_PM_4_sorted.bam\n",
      "/data/gpfs/assoc/denovo/PHHA/SNPcall/bwa/PH_PM_5_sorted.bam\n",
      "3.0811553077335065 PH_PM_5_sorted.bam\n",
      "/data/gpfs/assoc/denovo/PHHA/SNPcall/bwa/PH_PM_6_sorted.bam\n",
      "23.868632684179374 PH_PM_6_sorted.bam\n",
      "/data/gpfs/assoc/denovo/PHHA/SNPcall/bwa/PH_PM_7_sorted.bam\n",
      "26.89850045642295 PH_PM_7_sorted.bam\n",
      "/data/gpfs/assoc/denovo/PHHA/SNPcall/bwa/PH_PM_8_sorted.bam\n",
      "24.688956317352634 PH_PM_8_sorted.bam\n",
      "/data/gpfs/assoc/denovo/PHHA/SNPcall/bwa/PH_PM_9_sorted.bam\n",
      "18.416068055522228 PH_PM_9_sorted.bam\n",
      "/data/gpfs/assoc/denovo/PHHA/SNPcall/bwa/PH_PR_10_sorted.bam\n",
      "3.9163808159565163 PH_PR_10_sorted.bam\n",
      "/data/gpfs/assoc/denovo/PHHA/SNPcall/bwa/PH_PR_11_sorted.bam\n",
      "19.74620523746881 PH_PR_11_sorted.bam\n",
      "/data/gpfs/assoc/denovo/PHHA/SNPcall/bwa/PH_PR_12_sorted.bam\n",
      "22.280320257114536 PH_PR_12_sorted.bam\n",
      "/data/gpfs/assoc/denovo/PHHA/SNPcall/bwa/PH_PR_1_sorted.bam\n"
     ]
    },
    {
     "name": "stdout",
     "output_type": "stream",
     "text": [
      "17.84235915115863 PH_PR_1_sorted.bam\n",
      "/data/gpfs/assoc/denovo/PHHA/SNPcall/bwa/PH_PR_2_sorted.bam\n",
      "16.260994230356022 PH_PR_2_sorted.bam\n",
      "/data/gpfs/assoc/denovo/PHHA/SNPcall/bwa/PH_PR_3_sorted.bam\n",
      "16.684890207650152 PH_PR_3_sorted.bam\n",
      "/data/gpfs/assoc/denovo/PHHA/SNPcall/bwa/PH_PR_4_sorted.bam\n",
      "20.740470712185388 PH_PR_4_sorted.bam\n",
      "/data/gpfs/assoc/denovo/PHHA/SNPcall/bwa/PH_PR_5_sorted.bam\n",
      "21.814198251665562 PH_PR_5_sorted.bam\n",
      "/data/gpfs/assoc/denovo/PHHA/SNPcall/bwa/PH_PR_6_sorted.bam\n",
      "20.169520836666543 PH_PR_6_sorted.bam\n",
      "/data/gpfs/assoc/denovo/PHHA/SNPcall/bwa/PH_PR_8_sorted.bam\n",
      "22.289744943387042 PH_PR_8_sorted.bam\n",
      "/data/gpfs/assoc/denovo/PHHA/SNPcall/bwa/PH_PT_12_sorted.bam\n",
      "17.43886771838014 PH_PT_12_sorted.bam\n",
      "/data/gpfs/assoc/denovo/PHHA/SNPcall/bwa/PH_PT_2_sorted.bam\n",
      "20.19678381622173 PH_PT_2_sorted.bam\n",
      "/data/gpfs/assoc/denovo/PHHA/SNPcall/bwa/PH_PT_9_sorted.bam\n",
      "20.142814274524056 PH_PT_9_sorted.bam\n",
      "/data/gpfs/assoc/denovo/PHHA/SNPcall/bwa/PH_SB_10_sorted.bam\n",
      "14.487166886214837 PH_SB_10_sorted.bam\n",
      "/data/gpfs/assoc/denovo/PHHA/SNPcall/bwa/PH_SB_1_sorted.bam\n",
      "16.446858593942604 PH_SB_1_sorted.bam\n",
      "/data/gpfs/assoc/denovo/PHHA/SNPcall/bwa/PH_SB_2_sorted.bam\n",
      "15.331845398416258 PH_SB_2_sorted.bam\n",
      "/data/gpfs/assoc/denovo/PHHA/SNPcall/bwa/PH_SB_3_sorted.bam\n",
      "13.048667838779767 PH_SB_3_sorted.bam\n",
      "/data/gpfs/assoc/denovo/PHHA/SNPcall/bwa/PH_SB_4_sorted.bam\n",
      "20.432309632631227 PH_SB_4_sorted.bam\n",
      "/data/gpfs/assoc/denovo/PHHA/SNPcall/bwa/PH_SB_6_sorted.bam\n",
      "15.625016592293587 PH_SB_6_sorted.bam\n",
      "/data/gpfs/assoc/denovo/PHHA/SNPcall/bwa/PH_SB_7_sorted.bam\n",
      "18.789855598726653 PH_SB_7_sorted.bam\n",
      "/data/gpfs/assoc/denovo/PHHA/SNPcall/bwa/PH_SB_9_sorted.bam\n",
      "14.712759551329164 PH_SB_9_sorted.bam\n",
      "/data/gpfs/assoc/denovo/PHHA/SNPcall/bwa/PH_SC_10_sorted.bam\n",
      "15.943665631994838 PH_SC_10_sorted.bam\n",
      "/data/gpfs/assoc/denovo/PHHA/SNPcall/bwa/PH_SC_11_sorted.bam\n",
      "13.772174340513827 PH_SC_11_sorted.bam\n",
      "/data/gpfs/assoc/denovo/PHHA/SNPcall/bwa/PH_SC_12_sorted.bam\n",
      "18.81818871892259 PH_SC_12_sorted.bam\n",
      "/data/gpfs/assoc/denovo/PHHA/SNPcall/bwa/PH_SC_1_sorted.bam\n",
      "19.226812275256066 PH_SC_1_sorted.bam\n",
      "/data/gpfs/assoc/denovo/PHHA/SNPcall/bwa/PH_SC_2_sorted.bam\n",
      "22.32161881374619 PH_SC_2_sorted.bam\n",
      "/data/gpfs/assoc/denovo/PHHA/SNPcall/bwa/PH_SC_3_sorted.bam\n",
      "15.009321903244413 PH_SC_3_sorted.bam\n",
      "/data/gpfs/assoc/denovo/PHHA/SNPcall/bwa/PH_SC_7_sorted.bam\n",
      "19.52402823763132 PH_SC_7_sorted.bam\n",
      "/data/gpfs/assoc/denovo/PHHA/SNPcall/bwa/PH_SC_8_sorted.bam\n",
      "20.40821362882189 PH_SC_8_sorted.bam\n",
      "/data/gpfs/assoc/denovo/PHHA/SNPcall/bwa/PH_SC_9_sorted.bam\n",
      "17.72158607638791 PH_SC_9_sorted.bam\n",
      "/data/gpfs/assoc/denovo/PHHA/SNPcall/bwa/PH_SH_10_sorted.bam\n",
      "9.962120635496726 PH_SH_10_sorted.bam\n",
      "/data/gpfs/assoc/denovo/PHHA/SNPcall/bwa/PH_SH_1_sorted.bam\n",
      "21.34839796328751 PH_SH_1_sorted.bam\n",
      "/data/gpfs/assoc/denovo/PHHA/SNPcall/bwa/PH_SH_2_sorted.bam\n",
      "21.53195063451429 PH_SH_2_sorted.bam\n",
      "/data/gpfs/assoc/denovo/PHHA/SNPcall/bwa/PH_SH_3_sorted.bam\n",
      "15.985920891355246 PH_SH_3_sorted.bam\n",
      "/data/gpfs/assoc/denovo/PHHA/SNPcall/bwa/PH_SH_5_sorted.bam\n",
      "14.21734016366742 PH_SH_5_sorted.bam\n",
      "/data/gpfs/assoc/denovo/PHHA/SNPcall/bwa/PH_SH_6_sorted.bam\n",
      "11.270744509038883 PH_SH_6_sorted.bam\n",
      "/data/gpfs/assoc/denovo/PHHA/SNPcall/bwa/PH_SH_7_sorted.bam\n",
      "15.442309975216112 PH_SH_7_sorted.bam\n",
      "/data/gpfs/assoc/denovo/PHHA/SNPcall/bwa/PH_SL_10_sorted.bam\n",
      "12.25051522967765 PH_SL_10_sorted.bam\n",
      "/data/gpfs/assoc/denovo/PHHA/SNPcall/bwa/PH_SL_11_sorted.bam\n",
      "17.332829518355275 PH_SL_11_sorted.bam\n",
      "/data/gpfs/assoc/denovo/PHHA/SNPcall/bwa/PH_SL_12_sorted.bam\n",
      "19.029220195642093 PH_SL_12_sorted.bam\n",
      "/data/gpfs/assoc/denovo/PHHA/SNPcall/bwa/PH_SL_1_sorted.bam\n",
      "16.53976006464267 PH_SL_1_sorted.bam\n",
      "/data/gpfs/assoc/denovo/PHHA/SNPcall/bwa/PH_SL_2_sorted.bam\n",
      "10.173480941374542 PH_SL_2_sorted.bam\n",
      "/data/gpfs/assoc/denovo/PHHA/SNPcall/bwa/PH_SL_3_sorted.bam\n",
      "15.8971328730393 PH_SL_3_sorted.bam\n",
      "/data/gpfs/assoc/denovo/PHHA/SNPcall/bwa/PH_SL_4_sorted.bam\n",
      "16.765364129286436 PH_SL_4_sorted.bam\n",
      "/data/gpfs/assoc/denovo/PHHA/SNPcall/bwa/PH_SL_6_sorted.bam\n",
      "17.460079630952222 PH_SL_6_sorted.bam\n",
      "/data/gpfs/assoc/denovo/PHHA/SNPcall/bwa/PH_SL_7_sorted.bam\n",
      "8.809529108261273 PH_SL_7_sorted.bam\n",
      "/data/gpfs/assoc/denovo/PHHA/SNPcall/bwa/PH_SL_8_sorted.bam\n",
      "16.846744495441037 PH_SL_8_sorted.bam\n",
      "/data/gpfs/assoc/denovo/PHHA/SNPcall/bwa/PH_SL_9_sorted.bam\n",
      "14.815190663025204 PH_SL_9_sorted.bam\n",
      "/data/gpfs/assoc/denovo/PHHA/SNPcall/bwa/PH_TB_10_sorted.bam\n",
      "18.31761361358686 PH_TB_10_sorted.bam\n",
      "/data/gpfs/assoc/denovo/PHHA/SNPcall/bwa/PH_TB_12_sorted.bam\n",
      "18.918773582114785 PH_TB_12_sorted.bam\n",
      "/data/gpfs/assoc/denovo/PHHA/SNPcall/bwa/PH_TB_1_sorted.bam\n",
      "20.458775094280366 PH_TB_1_sorted.bam\n",
      "/data/gpfs/assoc/denovo/PHHA/SNPcall/bwa/PH_TB_2_sorted.bam\n",
      "20.539973370706633 PH_TB_2_sorted.bam\n",
      "/data/gpfs/assoc/denovo/PHHA/SNPcall/bwa/PH_TB_3_sorted.bam\n",
      "21.297121266203515 PH_TB_3_sorted.bam\n",
      "/data/gpfs/assoc/denovo/PHHA/SNPcall/bwa/PH_TB_4_sorted.bam\n",
      "16.386569280144304 PH_TB_4_sorted.bam\n",
      "/data/gpfs/assoc/denovo/PHHA/SNPcall/bwa/PH_TB_6_sorted.bam\n",
      "22.26218577003029 PH_TB_6_sorted.bam\n",
      "/data/gpfs/assoc/denovo/PHHA/SNPcall/bwa/PH_TB_7_sorted.bam\n",
      "19.27261313380284 PH_TB_7_sorted.bam\n",
      "/data/gpfs/assoc/denovo/PHHA/SNPcall/bwa/PH_TB_8_sorted.bam\n",
      "22.770873204544056 PH_TB_8_sorted.bam\n",
      "/data/gpfs/assoc/denovo/PHHA/SNPcall/bwa/PH_TB_9_sorted.bam\n",
      "15.828981787723137 PH_TB_9_sorted.bam\n",
      "/data/gpfs/assoc/denovo/PHHA/SNPcall/bwa/PH_WC_10_sorted.bam\n",
      "14.747239386336767 PH_WC_10_sorted.bam\n",
      "/data/gpfs/assoc/denovo/PHHA/SNPcall/bwa/PH_WC_11_sorted.bam\n",
      "20.37960310696156 PH_WC_11_sorted.bam\n",
      "/data/gpfs/assoc/denovo/PHHA/SNPcall/bwa/PH_WC_1_sorted.bam\n",
      "17.972631850271362 PH_WC_1_sorted.bam\n",
      "/data/gpfs/assoc/denovo/PHHA/SNPcall/bwa/PH_WC_2_sorted.bam\n",
      "19.965850392413884 PH_WC_2_sorted.bam\n",
      "/data/gpfs/assoc/denovo/PHHA/SNPcall/bwa/PH_WC_3_sorted.bam\n",
      "21.042508619233406 PH_WC_3_sorted.bam\n",
      "/data/gpfs/assoc/denovo/PHHA/SNPcall/bwa/PH_WC_4_sorted.bam\n",
      "1.7437157926161808 PH_WC_4_sorted.bam\n",
      "/data/gpfs/assoc/denovo/PHHA/SNPcall/bwa/PH_WC_5_sorted.bam\n",
      "19.291670255825853 PH_WC_5_sorted.bam\n",
      "/data/gpfs/assoc/denovo/PHHA/SNPcall/bwa/PH_WC_6_sorted.bam\n",
      "18.07306503494843 PH_WC_6_sorted.bam\n",
      "/data/gpfs/assoc/denovo/PHHA/SNPcall/bwa/PH_WC_7_sorted.bam\n",
      "19.533180110908237 PH_WC_7_sorted.bam\n",
      "/data/gpfs/assoc/denovo/PHHA/SNPcall/bwa/PH_WC_8_sorted.bam\n",
      "13.386115196132444 PH_WC_8_sorted.bam\n",
      "/data/gpfs/assoc/denovo/PHHA/SNPcall/bwa/PH_WC_9_sorted.bam\n",
      "20.088716394781255 PH_WC_9_sorted.bam\n",
      "/data/gpfs/assoc/denovo/PHHA/SNPcall/bwa/PH_WF_10_sorted.bam\n",
      "16.90825131604296 PH_WF_10_sorted.bam\n",
      "/data/gpfs/assoc/denovo/PHHA/SNPcall/bwa/PH_WF_11_sorted.bam\n",
      "14.030827503505465 PH_WF_11_sorted.bam\n",
      "/data/gpfs/assoc/denovo/PHHA/SNPcall/bwa/PH_WF_12_sorted.bam\n",
      "16.30851964814317 PH_WF_12_sorted.bam\n",
      "/data/gpfs/assoc/denovo/PHHA/SNPcall/bwa/PH_WF_1_sorted.bam\n",
      "13.565829949512807 PH_WF_1_sorted.bam\n",
      "/data/gpfs/assoc/denovo/PHHA/SNPcall/bwa/PH_WF_2_sorted.bam\n",
      "21.059353287135178 PH_WF_2_sorted.bam\n",
      "/data/gpfs/assoc/denovo/PHHA/SNPcall/bwa/PH_WF_3_sorted.bam\n",
      "19.928709125113034 PH_WF_3_sorted.bam\n",
      "/data/gpfs/assoc/denovo/PHHA/SNPcall/bwa/PH_WF_4_sorted.bam\n",
      "14.58773447587711 PH_WF_4_sorted.bam\n",
      "/data/gpfs/assoc/denovo/PHHA/SNPcall/bwa/PH_WF_5_sorted.bam\n",
      "17.675900674731416 PH_WF_5_sorted.bam\n",
      "/data/gpfs/assoc/denovo/PHHA/SNPcall/bwa/PH_WF_6_sorted.bam\n",
      "16.1768117447518 PH_WF_6_sorted.bam\n",
      "/data/gpfs/assoc/denovo/PHHA/SNPcall/bwa/PH_WF_8_sorted.bam\n",
      "17.960682873550176 PH_WF_8_sorted.bam\n",
      "/data/gpfs/assoc/denovo/PHHA/SNPcall/bwa/PH_WF_9_sorted.bam\n",
      "23.901947742494734 PH_WF_9_sorted.bam\n",
      "/data/gpfs/assoc/denovo/PHHA/SNPcall/bwa/PH_WH_10_sorted.bam\n",
      "14.801350781357655 PH_WH_10_sorted.bam\n",
      "/data/gpfs/assoc/denovo/PHHA/SNPcall/bwa/PH_WH_11_sorted.bam\n",
      "20.089671497403614 PH_WH_11_sorted.bam\n",
      "/data/gpfs/assoc/denovo/PHHA/SNPcall/bwa/PH_WH_12_sorted.bam\n",
      "15.329719078209935 PH_WH_12_sorted.bam\n",
      "/data/gpfs/assoc/denovo/PHHA/SNPcall/bwa/PH_WH_1_sorted.bam\n",
      "16.84797700354634 PH_WH_1_sorted.bam\n",
      "/data/gpfs/assoc/denovo/PHHA/SNPcall/bwa/PH_WH_2_sorted.bam\n",
      "17.289651875666554 PH_WH_2_sorted.bam\n",
      "/data/gpfs/assoc/denovo/PHHA/SNPcall/bwa/PH_WH_3_sorted.bam\n",
      "18.038339799677104 PH_WH_3_sorted.bam\n",
      "/data/gpfs/assoc/denovo/PHHA/SNPcall/bwa/PH_WH_4_sorted.bam\n",
      "17.87087902797477 PH_WH_4_sorted.bam\n",
      "/data/gpfs/assoc/denovo/PHHA/SNPcall/bwa/PH_WH_5_sorted.bam\n"
     ]
    },
    {
     "name": "stdout",
     "output_type": "stream",
     "text": [
      "19.062972909058917 PH_WH_5_sorted.bam\n",
      "/data/gpfs/assoc/denovo/PHHA/SNPcall/bwa/PH_WH_6_sorted.bam\n",
      "20.50415630701822 PH_WH_6_sorted.bam\n",
      "/data/gpfs/assoc/denovo/PHHA/SNPcall/bwa/PH_WH_7_sorted.bam\n",
      "16.18186940803984 PH_WH_7_sorted.bam\n",
      "/data/gpfs/assoc/denovo/PHHA/SNPcall/bwa/PH_WH_8_sorted.bam\n",
      "16.639962462796923 PH_WH_8_sorted.bam\n",
      "/data/gpfs/assoc/denovo/PHHA/SNPcall/bwa/PH_WH_9_sorted.bam\n",
      "15.827366619807272 PH_WH_9_sorted.bam\n"
     ]
    },
    {
     "ename": "TypeError",
     "evalue": "__init__() got an unexpected keyword argument 'bam'",
     "output_type": "error",
     "traceback": [
      "\u001b[0;31m---------------------------------------------------------------------------\u001b[0m",
      "\u001b[0;31mTypeError\u001b[0m                                 Traceback (most recent call last)",
      "\u001b[0;32m<ipython-input-48-e9fe986aab5f>\u001b[0m in \u001b[0;36m<module>\u001b[0;34m\u001b[0m\n\u001b[1;32m     14\u001b[0m     \u001b[0mcov_list\u001b[0m\u001b[0;34m.\u001b[0m\u001b[0mappend\u001b[0m\u001b[0;34m(\u001b[0m\u001b[0mcoverage\u001b[0m\u001b[0;34m)\u001b[0m\u001b[0;34m\u001b[0m\u001b[0;34m\u001b[0m\u001b[0m\n\u001b[1;32m     15\u001b[0m     \u001b[0mprint\u001b[0m\u001b[0;34m(\u001b[0m\u001b[0mcoverage\u001b[0m\u001b[0;34m,\u001b[0m\u001b[0mname\u001b[0m\u001b[0;34m)\u001b[0m\u001b[0;34m\u001b[0m\u001b[0;34m\u001b[0m\u001b[0m\n\u001b[0;32m---> 16\u001b[0;31m \u001b[0mcov_df\u001b[0m \u001b[0;34m=\u001b[0m \u001b[0mpd\u001b[0m\u001b[0;34m.\u001b[0m\u001b[0mDataFrame\u001b[0m\u001b[0;34m(\u001b[0m\u001b[0mbam\u001b[0m\u001b[0;34m=\u001b[0m\u001b[0mbam_names\u001b[0m\u001b[0;34m,\u001b[0m\u001b[0mcoverage\u001b[0m\u001b[0;34m=\u001b[0m\u001b[0mcov_list\u001b[0m\u001b[0;34m)\u001b[0m\u001b[0;34m\u001b[0m\u001b[0;34m\u001b[0m\u001b[0m\n\u001b[0m\u001b[1;32m     17\u001b[0m \u001b[0mcov_df\u001b[0m\u001b[0;34m.\u001b[0m\u001b[0mhead\u001b[0m\u001b[0;34m(\u001b[0m\u001b[0;34m)\u001b[0m\u001b[0;34m\u001b[0m\u001b[0;34m\u001b[0m\u001b[0m\n",
      "\u001b[0;31mTypeError\u001b[0m: __init__() got an unexpected keyword argument 'bam'"
     ]
    }
   ],
   "source": [
    "bam_names = []\n",
    "cov_list = []\n",
    "for i in range(0,len(bam_files)):\n",
    "    bam = bam_files[i]\n",
    "    print(bam)\n",
    "    b = bam.split('/')[8] #set this \n",
    "    #print (b)\n",
    "    !$samtools depth -a $b > $'cov.txt'\n",
    "    cov = pd.read_csv('cov.txt', sep=\"\\t\",header=None)\n",
    "    coverage = sum(cov.iloc[:,2])/len(cov.index)\n",
    "    name = b.split('.F')[0]\n",
    "    #print(name)\n",
    "    bam_names.append(name)\n",
    "    cov_list.append(coverage)\n",
    "    print(coverage,name)\n",
    "cov_df = pd.DataFrame(bam=bam_names,coverage=cov_list)\n",
    "cov_df.head()"
   ]
  },
  {
   "cell_type": "code",
   "execution_count": 49,
   "metadata": {},
   "outputs": [
    {
     "data": {
      "text/html": [
       "<div>\n",
       "<style scoped>\n",
       "    .dataframe tbody tr th:only-of-type {\n",
       "        vertical-align: middle;\n",
       "    }\n",
       "\n",
       "    .dataframe tbody tr th {\n",
       "        vertical-align: top;\n",
       "    }\n",
       "\n",
       "    .dataframe thead th {\n",
       "        text-align: right;\n",
       "    }\n",
       "</style>\n",
       "<table border=\"1\" class=\"dataframe\">\n",
       "  <thead>\n",
       "    <tr style=\"text-align: right;\">\n",
       "      <th></th>\n",
       "      <th>bam</th>\n",
       "      <th>coverage</th>\n",
       "    </tr>\n",
       "  </thead>\n",
       "  <tbody>\n",
       "    <tr>\n",
       "      <th>0</th>\n",
       "      <td>PH_AS_10_sorted.bam</td>\n",
       "      <td>21.804277</td>\n",
       "    </tr>\n",
       "    <tr>\n",
       "      <th>1</th>\n",
       "      <td>PH_AS_11_sorted.bam</td>\n",
       "      <td>13.931024</td>\n",
       "    </tr>\n",
       "    <tr>\n",
       "      <th>2</th>\n",
       "      <td>PH_AS_12_sorted.bam</td>\n",
       "      <td>22.795914</td>\n",
       "    </tr>\n",
       "    <tr>\n",
       "      <th>3</th>\n",
       "      <td>PH_AS_1_sorted.bam</td>\n",
       "      <td>24.268591</td>\n",
       "    </tr>\n",
       "    <tr>\n",
       "      <th>4</th>\n",
       "      <td>PH_AS_2_sorted.bam</td>\n",
       "      <td>19.002800</td>\n",
       "    </tr>\n",
       "  </tbody>\n",
       "</table>\n",
       "</div>"
      ],
      "text/plain": [
       "                   bam   coverage\n",
       "0  PH_AS_10_sorted.bam  21.804277\n",
       "1  PH_AS_11_sorted.bam  13.931024\n",
       "2  PH_AS_12_sorted.bam  22.795914\n",
       "3   PH_AS_1_sorted.bam  24.268591\n",
       "4   PH_AS_2_sorted.bam  19.002800"
      ]
     },
     "execution_count": 49,
     "metadata": {},
     "output_type": "execute_result"
    }
   ],
   "source": [
    "cov_dict = {\"bam\":bam_names,'coverage':cov_list}\n",
    "cov_df = pd.DataFrame(cov_dict)\n",
    "cov_df.head()\n",
    "#len(cov_df)"
   ]
  },
  {
   "cell_type": "code",
   "execution_count": 50,
   "metadata": {},
   "outputs": [],
   "source": [
    "cov_out = os.path.join(bwa_dir,'bam_coverage.csv')\n",
    "cov_df.to_csv(path_or_buf=cov_out)"
   ]
  },
  {
   "cell_type": "code",
   "execution_count": 51,
   "metadata": {
    "scrolled": true
   },
   "outputs": [
    {
     "data": {
      "text/plain": [
       "count    256.000000\n",
       "mean      18.249158\n",
       "std        4.562428\n",
       "min        1.743716\n",
       "25%       15.880095\n",
       "50%       18.728321\n",
       "75%       21.328229\n",
       "max       32.361157\n",
       "Name: coverage, dtype: float64"
      ]
     },
     "execution_count": 51,
     "metadata": {},
     "output_type": "execute_result"
    }
   ],
   "source": [
    "cov_df.coverage.describe()\n"
   ]
  },
  {
   "cell_type": "code",
   "execution_count": 52,
   "metadata": {},
   "outputs": [
    {
     "data": {
      "text/plain": [
       "256"
      ]
     },
     "execution_count": 52,
     "metadata": {},
     "output_type": "execute_result"
    }
   ],
   "source": [
    "len(cov_df.coverage)"
   ]
  },
  {
   "cell_type": "markdown",
   "metadata": {},
   "source": [
    "# Keep bam files over some specificed amount of coverage"
   ]
  },
  {
   "cell_type": "code",
   "execution_count": 54,
   "metadata": {},
   "outputs": [
    {
     "data": {
      "text/plain": [
       "(243, 248, 250)"
      ]
     },
     "execution_count": 54,
     "metadata": {},
     "output_type": "execute_result"
    }
   ],
   "source": [
    "len(cov_df[cov_df.coverage > 10]),len(cov_df[cov_df.coverage >= 8]),len(cov_df[cov_df.coverage >= 5])"
   ]
  },
  {
   "cell_type": "code",
   "execution_count": 55,
   "metadata": {},
   "outputs": [
    {
     "data": {
      "text/plain": [
       "(248, 'PH_AS_10_sorted.bam')"
      ]
     },
     "execution_count": 55,
     "metadata": {},
     "output_type": "execute_result"
    }
   ],
   "source": [
    "good_bam = cov_df.bam[cov_df.coverage >= 8]\n",
    "good_bam = good_bam.tolist()\n",
    "len(good_bam),good_bam[0]"
   ]
  },
  {
   "cell_type": "code",
   "execution_count": 57,
   "metadata": {},
   "outputs": [
    {
     "data": {
      "text/plain": [
       "(248, '/data/gpfs/assoc/denovo/PHHA/SNPcall/bwa/PH_AS_11_sorted.bam')"
      ]
     },
     "execution_count": 57,
     "metadata": {},
     "output_type": "execute_result"
    }
   ],
   "source": [
    "good_bam_files = []\n",
    "for i in range(0,len(good_bam)):\n",
    "    bam = bwa_dir + good_bam[i]\n",
    "    good_bam_files.append(bam)\n",
    "len(good_bam_files), good_bam_files[1]"
   ]
  },
  {
   "cell_type": "code",
   "execution_count": 58,
   "metadata": {},
   "outputs": [],
   "source": [
    "snp_dir = os.path.join(root,'SNPcall')"
   ]
  },
  {
   "cell_type": "code",
   "execution_count": 59,
   "metadata": {},
   "outputs": [
    {
     "name": "stdout",
     "output_type": "stream",
     "text": [
      "/data/gpfs/assoc/denovo/PHHA/SNPcall\n"
     ]
    }
   ],
   "source": [
    "cd $snp_dir"
   ]
  },
  {
   "cell_type": "code",
   "execution_count": 60,
   "metadata": {},
   "outputs": [],
   "source": [
    "!mkdir 'good_bams'"
   ]
  },
  {
   "cell_type": "code",
   "execution_count": 61,
   "metadata": {},
   "outputs": [],
   "source": [
    "good_bam_dir = os.path.join(snp_dir,'good_bams')\n",
    "assert good_bam_dir"
   ]
  },
  {
   "cell_type": "code",
   "execution_count": 62,
   "metadata": {},
   "outputs": [],
   "source": [
    "for i in range(0,len(good_bam_files)):\n",
    "    good_bam = str(good_bam_files[i])\n",
    "    !cp $good_bam $good_bam_dir"
   ]
  },
  {
   "cell_type": "code",
   "execution_count": 63,
   "metadata": {},
   "outputs": [
    {
     "name": "stdout",
     "output_type": "stream",
     "text": [
      "/data/gpfs/assoc/denovo/PHHA/SNPcall/good_bams\n"
     ]
    }
   ],
   "source": [
    "cd $good_bam_dir"
   ]
  },
  {
   "cell_type": "code",
   "execution_count": 64,
   "metadata": {},
   "outputs": [],
   "source": [
    "good_bam_cp_files = []\n",
    "files = !find . -type f -name '*sorted.bam'\n",
    "files = [os.path.abspath(x) for x in files if 'bam' in x]\n",
    "for x in files:\n",
    "    good_bam_cp_files.append(x)\n",
    "good_bam_cp_files = sorted(good_bam_files)"
   ]
  },
  {
   "cell_type": "code",
   "execution_count": 65,
   "metadata": {
    "scrolled": true
   },
   "outputs": [
    {
     "data": {
      "text/plain": [
       "(248, '/data/gpfs/assoc/denovo/PHHA/SNPcall/bwa/PH_AS_10_sorted.bam')"
      ]
     },
     "execution_count": 65,
     "metadata": {},
     "output_type": "execute_result"
    }
   ],
   "source": [
    "len(good_bam_cp_files),good_bam_cp_files[0]"
   ]
  },
  {
   "cell_type": "markdown",
   "metadata": {},
   "source": [
    "### Continue on to 4snpcalling"
   ]
  },
  {
   "cell_type": "code",
   "execution_count": null,
   "metadata": {},
   "outputs": [],
   "source": []
  }
 ],
 "metadata": {
  "kernelspec": {
   "display_name": "Python 3 (ipykernel)",
   "language": "python",
   "name": "python3"
  },
  "language_info": {
   "codemirror_mode": {
    "name": "ipython",
    "version": 3
   },
   "file_extension": ".py",
   "mimetype": "text/x-python",
   "name": "python",
   "nbconvert_exporter": "python",
   "pygments_lexer": "ipython3",
   "version": "3.11.0"
  }
 },
 "nbformat": 4,
 "nbformat_minor": 1
}
