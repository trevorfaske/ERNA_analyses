{
 "cells": [
  {
   "cell_type": "markdown",
   "metadata": {},
   "source": [
    "# Dsuite\n",
    "\n",
    "### Use Caro notes and new subsetted vcf with hybrids"
   ]
  },
  {
   "cell_type": "code",
   "execution_count": 1,
   "metadata": {},
   "outputs": [],
   "source": [
    "import sys\n",
    "import ipyparallel as ipp\n",
    "import os\n",
    "from os import environ\n",
    "import gzip\n",
    "import warnings\n",
    "import pandas as pd\n",
    "import numpy as np\n",
    "import scipy as sp\n",
    "import glob\n",
    "import re\n",
    "import random"
   ]
  },
  {
   "cell_type": "code",
   "execution_count": 2,
   "metadata": {},
   "outputs": [],
   "source": [
    "vcftools = \"vcftools\"\n",
    "bcftools = \"bcftools\"\n",
    "bgzip = \"bgzip\"\n",
    "tabix = \"tabix\""
   ]
  },
  {
   "cell_type": "code",
   "execution_count": 1,
   "metadata": {},
   "outputs": [],
   "source": [
    "root = '/data/gpfs/assoc/denovo/tfaske/rabbit/full/REDO/phylo'"
   ]
  },
  {
   "cell_type": "code",
   "execution_count": 2,
   "metadata": {},
   "outputs": [
    {
     "name": "stdout",
     "output_type": "stream",
     "text": [
      "/data/gpfs/assoc/denovo/tfaske/rabbit/full/REDO/phylo\n"
     ]
    }
   ],
   "source": [
    "cd $root"
   ]
  },
  {
   "cell_type": "code",
   "execution_count": 3,
   "metadata": {},
   "outputs": [],
   "source": [
    "!mkdir Dsuite"
   ]
  },
  {
   "cell_type": "code",
   "execution_count": 5,
   "metadata": {},
   "outputs": [],
   "source": [
    "D_dir = os.path.join(root,'Dsuite')"
   ]
  },
  {
   "cell_type": "code",
   "execution_count": 6,
   "metadata": {},
   "outputs": [
    {
     "name": "stdout",
     "output_type": "stream",
     "text": [
      "/data/gpfs/assoc/denovo/tfaske/rabbit/full/REDO/phylo/subset_vcf\n"
     ]
    }
   ],
   "source": [
    "cd $D_dir"
   ]
  },
  {
   "cell_type": "code",
   "execution_count": 7,
   "metadata": {},
   "outputs": [],
   "source": [
    "!cp ../filtering/good_snps.recode.vcf.gz . "
   ]
  },
  {
   "cell_type": "code",
   "execution_count": 8,
   "metadata": {
    "scrolled": true
   },
   "outputs": [
    {
     "data": {
      "text/plain": [
       "'/data/gpfs/assoc/denovo/tfaske/rabbit/full/REDO/phylo/subset_vcf/good_snps.recode.vcf.gz'"
      ]
     },
     "execution_count": 8,
     "metadata": {},
     "output_type": "execute_result"
    }
   ],
   "source": [
    "vcf_file = os.path.join(analysis_dir, \"good_snps.recode.vcf.gz\")\n",
    "assert os.path.exists(vcf_file)\n",
    "vcf_file"
   ]
  },
  {
   "cell_type": "markdown",
   "metadata": {},
   "source": [
    "### Make pop_id and join it with relavent info from pca_df and ERNA final"
   ]
  },
  {
   "cell_type": "code",
   "execution_count": 9,
   "metadata": {},
   "outputs": [],
   "source": [
    "%load_ext rpy2.ipython"
   ]
  },
  {
   "cell_type": "code",
   "execution_count": 10,
   "metadata": {
    "scrolled": true
   },
   "outputs": [
    {
     "name": "stdout",
     "output_type": "stream",
     "text": [
      "── Attaching packages ─────────────────────────────────────── tidyverse 1.3.2 ──\n",
      "✔ ggplot2 3.4.0      ✔ purrr   1.0.0 \n",
      "✔ tibble  3.1.8      ✔ dplyr   1.0.10\n",
      "✔ tidyr   1.2.1      ✔ stringr 1.5.0 \n",
      "✔ readr   2.1.3      ✔ forcats 0.5.2 \n",
      "── Conflicts ────────────────────────────────────────── tidyverse_conflicts() ──\n",
      "✖ dplyr::filter() masks stats::filter()\n",
      "✖ dplyr::lag()    masks stats::lag()\n"
     ]
    }
   ],
   "source": [
    "%%R\n",
    "library(tidyverse)\n",
    "\n",
    "setwd('/data/gpfs/assoc/denovo/tfaske/rabbit/full/REDO/phylo/subset_vcf')"
   ]
  },
  {
   "cell_type": "code",
   "execution_count": 11,
   "metadata": {},
   "outputs": [
    {
     "name": "stdout",
     "output_type": "stream",
     "text": [
      "  Pop ID      All\n",
      "1  AH 10 EN_AH_10\n",
      "2  AH 11 EN_AH_11\n",
      "3  AH 12 EN_AH_12\n",
      "4  AH 13 EN_AH_13\n",
      "5  AH 14 EN_AH_14\n",
      "6  AH 15 EN_AH_15\n",
      "[1] 589   3\n"
     ]
    }
   ],
   "source": [
    "%%R\n",
    "#create Pop_ID file \n",
    "\n",
    "indv<-read.table(\"../filtering/good_snps.recode.vcf.gz.012.indv\",sep=\"\\t\")\n",
    "\n",
    "Pop <- rep(NA,times=nrow(indv))\n",
    "ID <- rep(NA,times=nrow(indv))\n",
    "All <- rep(NA,times=nrow(indv))\n",
    "for (i in 1:nrow(indv)){\n",
    "  Pop[i] <- unlist(strsplit(as.character(indv$V1[i]),\"_\"))[2]\n",
    "  ID[i] <- unlist(strsplit(as.character(indv$V1[i]),\"_\"))[3]\n",
    "  All[i] <- as.character(indv$V1[i])\n",
    "}\n",
    "Pop_ID <- data.frame(Pop=Pop,ID=ID,All=All)\n",
    "print(head(Pop_ID))\n",
    "print(dim(Pop_ID))\n",
    "\n",
    "#write.csv(Pop_ID,'Pop_ID.csv',row.names=F)"
   ]
  },
  {
   "cell_type": "code",
   "execution_count": 13,
   "metadata": {},
   "outputs": [
    {
     "name": "stdout",
     "output_type": "stream",
     "text": [
      "Joining, by = \"Pop\"\n"
     ]
    }
   ],
   "source": [
    "%%R\n",
    "ERNAfinal <- read.csv('ERNA_final_sample_list.csv')\n",
    "\n",
    "Pop_ID_Sum <- left_join(Pop_ID,ERNAfinal)\n",
    "Pop_ID_Sum$Ssp <- as.character(Pop_ID_Sum$Ssp)\n",
    "Pop_ID_Sum$Variety <- as.character(Pop_ID_Sum$Variety)\n",
    "\n",
    "### Add E.discoidea Ssp \n",
    "Pop_ID_Sum$Ssp[which(Pop_ID_Sum$Pop == 'ED')] <- Pop_ID_Sum$Variety[which(Pop_ID_Sum$Pop == 'ED')]\n",
    "\n",
    "#print(dim(Pop_ID_Sum))\n",
    "#print(head(Pop_ID_Sum))\n",
    "#print(Pop_ID_Sum[which(Pop_ID_Sum$Pop == 'ED'),])\n",
    "write.csv(Pop_ID_Sum,'Pop_ID_Sum.csv',row.names = F)"
   ]
  },
  {
   "cell_type": "markdown",
   "metadata": {},
   "source": [
    "## Use subset / rarefied individuals to make 2 iqtree runs. One with and one without hybrids\n",
    "\n",
    "### with hybrids (all of em)"
   ]
  },
  {
   "cell_type": "code",
   "execution_count": 14,
   "metadata": {},
   "outputs": [
    {
     "name": "stdout",
     "output_type": "stream",
     "text": [
      "Joining, by = \"All\"\n",
      "[1] 160\n",
      "[1] 163\n"
     ]
    }
   ],
   "source": [
    "%%R\n",
    "## add pca_df info\n",
    "pca_sub_df <- read.csv('pca_sub_df.csv')\n",
    "Pop_ID_Sum <- read.csv('Pop_ID_Sum.csv')\n",
    "#head(pca_sub_df)\n",
    "#head(Pop_ID_Sum)\n",
    "\n",
    "#select important info\n",
    "pca_sub_df <- pca_sub_df[c('All','Lin')]\n",
    "\n",
    "#join \n",
    "Pop_ID_sub <- left_join(Pop_ID_Sum,pca_sub_df)\n",
    "Pop_ID_sub <- na.omit(Pop_ID_sub)\n",
    "Pop_ID_sub$Lin <- as.character(Pop_ID_sub$Lin)\n",
    "\n",
    "##add ED (outgroup)\n",
    "Pop_ID_ED <- Pop_ID_Sum[which(Pop_ID_Sum$Pop == 'ED'),]\n",
    "Pop_ID_ED$Lin <- 'outgroup'\n",
    "Pop_ID_sub <- rbind(Pop_ID_sub,Pop_ID_ED)\n",
    "\n",
    "print(nrow(pca_sub_df))\n",
    "print(nrow(Pop_ID_sub))\n",
    "\n",
    "#### Write it out! \n",
    "# write file with individuals to keep \n",
    "keep_sub <- data.frame(INDV=as.character(Pop_ID_sub$All))\n",
    "write.table(keep_sub,'keep_sub.txt',row.names=FALSE,quote=FALSE)\n",
    "write.csv(Pop_ID_sub,'Pop_ID_sub.csv',row.names = F)"
   ]
  },
  {
   "cell_type": "markdown",
   "metadata": {},
   "source": [
    "### Make vcf with everyone (including hybrids) but only has known infomation for var/ssp "
   ]
  },
  {
   "cell_type": "code",
   "execution_count": 15,
   "metadata": {
    "scrolled": true
   },
   "outputs": [
    {
     "name": "stdout",
     "output_type": "stream",
     "text": [
      "\n",
      "VCFtools - 0.1.16\n",
      "(C) Adam Auton and Anthony Marcketta 2009\n",
      "\n",
      "Parameters as interpreted:\n",
      "\t--gzvcf /data/gpfs/assoc/denovo/tfaske/rabbit/full/REDO/phylo/subset_vcf/good_snps.recode.vcf.gz\n",
      "\t--keep keep_sub.txt\n",
      "\t--recode-INFO-all\n",
      "\t--maf 0.02\n",
      "\t--max-missing 0.7\n",
      "\t--out ERNA_sub\n",
      "\t--recode\n",
      "\n",
      "Using zlib version: 1.2.11\n",
      "Warning: Expected at least 2 parts in INFO entry: ID=AC,Number=A,Type=Integer,Description=\"Allele count in genotypes for each ALT allele, in the same order as listed\">\n",
      "Warning: Expected at least 2 parts in INFO entry: ID=DP4,Number=4,Type=Integer,Description=\"Number of high-quality ref-forward , ref-reverse, alt-forward and alt-reverse bases\">\n",
      "Warning: Expected at least 2 parts in INFO entry: ID=DP4,Number=4,Type=Integer,Description=\"Number of high-quality ref-forward , ref-reverse, alt-forward and alt-reverse bases\">\n",
      "Keeping individuals in 'keep' list\n",
      "After filtering, kept 163 out of 589 Individuals\n",
      "Outputting VCF file...\n",
      "After filtering, kept 18549 out of a possible 23306 Sites\n",
      "Run Time = 11.00 seconds\n"
     ]
    }
   ],
   "source": [
    "!$vcftools --gzvcf $vcf_file \\\n",
    "--max-missing 0.7 \\\n",
    "--maf 0.02 \\\n",
    "--recode \\\n",
    "--recode-INFO-all \\\n",
    "--keep 'keep_sub.txt' \\\n",
    "--out 'ERNA_sub'"
   ]
  },
  {
   "cell_type": "code",
   "execution_count": 16,
   "metadata": {},
   "outputs": [],
   "source": [
    "vcf_sub = 'ERNA_sub.recode.vcf'\n",
    "vcf_sub_gz = vcf_sub + \".gz\"\n",
    "!$bgzip -c {vcf_sub} > {vcf_sub_gz}\n",
    "!$tabix {vcf_sub_gz}"
   ]
  },
  {
   "cell_type": "code",
   "execution_count": 17,
   "metadata": {},
   "outputs": [],
   "source": [
    "!rm 'ERNA_sub.log'\n",
    "!rm 'ERNA_sub.recode.vcf'\n",
    "!rm 'ERNA_sub.recode.vcf.gz.tbi'"
   ]
  },
  {
   "cell_type": "markdown",
   "metadata": {},
   "source": [
    "### Make vcf sub no hybrids"
   ]
  },
  {
   "cell_type": "code",
   "execution_count": 18,
   "metadata": {},
   "outputs": [
    {
     "name": "stdout",
     "output_type": "stream",
     "text": [
      "[1] 125  11\n"
     ]
    }
   ],
   "source": [
    "%%R\n",
    "Pop_ID_sub <- read.csv('Pop_ID_sub.csv')\n",
    "Pop_ID_sub_noHyb <- Pop_ID_sub[-which(Pop_ID_sub$Lin == 'hybrid'),]\n",
    "print(dim(Pop_ID_sub_noHyb))\n",
    "\n",
    "# write file with individuals to keep \n",
    "keep_sub_noHyb <- data.frame(INDV=as.character(Pop_ID_sub_noHyb$All))\n",
    "write.table(keep_sub_noHyb,'keep_sub_noHyb.txt',row.names=FALSE,quote=FALSE)\n",
    "write.csv(Pop_ID_sub_noHyb,'Pop_ID_sub_noHyb.csv',row.names = FALSE)"
   ]
  },
  {
   "cell_type": "code",
   "execution_count": 19,
   "metadata": {},
   "outputs": [
    {
     "name": "stdout",
     "output_type": "stream",
     "text": [
      "\n",
      "VCFtools - 0.1.16\n",
      "(C) Adam Auton and Anthony Marcketta 2009\n",
      "\n",
      "Parameters as interpreted:\n",
      "\t--gzvcf /data/gpfs/assoc/denovo/tfaske/rabbit/full/REDO/phylo/subset_vcf/good_snps.recode.vcf.gz\n",
      "\t--keep keep_sub_noHyb.txt\n",
      "\t--recode-INFO-all\n",
      "\t--maf 0.02\n",
      "\t--max-missing 0.7\n",
      "\t--out ERNA_sub_noHyb\n",
      "\t--recode\n",
      "\n",
      "Using zlib version: 1.2.11\n",
      "Warning: Expected at least 2 parts in INFO entry: ID=AC,Number=A,Type=Integer,Description=\"Allele count in genotypes for each ALT allele, in the same order as listed\">\n",
      "Warning: Expected at least 2 parts in INFO entry: ID=DP4,Number=4,Type=Integer,Description=\"Number of high-quality ref-forward , ref-reverse, alt-forward and alt-reverse bases\">\n",
      "Warning: Expected at least 2 parts in INFO entry: ID=DP4,Number=4,Type=Integer,Description=\"Number of high-quality ref-forward , ref-reverse, alt-forward and alt-reverse bases\">\n",
      "Keeping individuals in 'keep' list\n",
      "After filtering, kept 125 out of 589 Individuals\n",
      "Outputting VCF file...\n",
      "After filtering, kept 17894 out of a possible 23306 Sites\n",
      "Run Time = 9.00 seconds\n"
     ]
    }
   ],
   "source": [
    "!$vcftools --gzvcf $vcf_file \\\n",
    "--max-missing 0.7 \\\n",
    "--maf 0.02 \\\n",
    "--recode \\\n",
    "--recode-INFO-all \\\n",
    "--keep 'keep_sub_noHyb.txt' \\\n",
    "--out 'ERNA_sub_noHyb'"
   ]
  },
  {
   "cell_type": "code",
   "execution_count": 20,
   "metadata": {},
   "outputs": [],
   "source": [
    "vcf_sub_noHyb = 'ERNA_sub_noHyb.recode.vcf'\n",
    "vcf_sub_noHyb_gz = vcf_sub_noHyb + \".gz\"\n",
    "!$bgzip -c {vcf_sub_noHyb} > {vcf_sub_noHyb_gz}\n",
    "!$tabix {vcf_sub_noHyb_gz}"
   ]
  },
  {
   "cell_type": "code",
   "execution_count": 21,
   "metadata": {},
   "outputs": [],
   "source": [
    "!rm 'ERNA_sub_noHyb.log'\n",
    "!rm 'ERNA_sub_noHyb.recode.vcf'\n",
    "!rm 'ERNA_sub_noHyb.recode.vcf.gz.tbi'"
   ]
  },
  {
   "cell_type": "markdown",
   "metadata": {},
   "source": [
    "# Run IQtree\n",
    "\n",
    "### vcf sub (with hybrids)"
   ]
  },
  {
   "cell_type": "code",
   "execution_count": 31,
   "metadata": {},
   "outputs": [
    {
     "name": "stdout",
     "output_type": "stream",
     "text": [
      "/data/gpfs/assoc/denovo/tfaske/rabbit/full/REDO/phylo\n"
     ]
    }
   ],
   "source": [
    "cd $root"
   ]
  },
  {
   "cell_type": "code",
   "execution_count": 23,
   "metadata": {},
   "outputs": [
    {
     "name": "stdout",
     "output_type": "stream",
     "text": [
      "mkdir: cannot create directory ‘iqtree’: File exists\r\n"
     ]
    }
   ],
   "source": [
    "!mkdir iqtree"
   ]
  },
  {
   "cell_type": "code",
   "execution_count": 24,
   "metadata": {},
   "outputs": [],
   "source": [
    "iqtree_dir = os.path.join(root,'iqtree')"
   ]
  },
  {
   "cell_type": "code",
   "execution_count": 32,
   "metadata": {},
   "outputs": [],
   "source": [
    "!cp 'subset_vcf/ERNA_sub.recode.vcf.gz' $iqtree_dir"
   ]
  },
  {
   "cell_type": "code",
   "execution_count": 33,
   "metadata": {},
   "outputs": [
    {
     "name": "stdout",
     "output_type": "stream",
     "text": [
      "/data/gpfs/assoc/denovo/tfaske/rabbit/full/REDO/phylo/iqtree\n"
     ]
    }
   ],
   "source": [
    "cd $iqtree_dir"
   ]
  },
  {
   "cell_type": "code",
   "execution_count": 34,
   "metadata": {},
   "outputs": [],
   "source": [
    "!gunzip 'ERNA_sub.recode.vcf.gz'"
   ]
  },
  {
   "cell_type": "code",
   "execution_count": 35,
   "metadata": {},
   "outputs": [],
   "source": [
    "vcf2phy = '/data/gpfs/assoc/parchmanlab/tfaske/src/phylo/./vcf2phylip.py'"
   ]
  },
  {
   "cell_type": "code",
   "execution_count": 36,
   "metadata": {},
   "outputs": [],
   "source": [
    "vcf_sub = os.path.join(iqtree_dir,'ERNA_sub.recode.vcf')"
   ]
  },
  {
   "cell_type": "code",
   "execution_count": 37,
   "metadata": {},
   "outputs": [
    {
     "name": "stdout",
     "output_type": "stream",
     "text": [
      "\n",
      "Converting file '/data/gpfs/assoc/denovo/tfaske/rabbit/full/REDO/phylo/iqtree/ERNA_sub.recode.vcf':\n",
      "\n",
      "Number of samples in VCF: 163\n",
      "Total of genotypes processed: 18549\n",
      "Genotypes excluded because they exceeded the amount of missing data allowed: 0\n",
      "Genotypes that passed missing data filter but were excluded for being MNPs: 0\n",
      "SNPs that passed the filters: 18549\n",
      "\n",
      "Sample 1 of 163, 'EN_AR_2', added to the nucleotide matrix(ces).\n",
      "Sample 2 of 163, 'EN_AR_3', added to the nucleotide matrix(ces).\n",
      "Sample 3 of 163, 'EN_AR_4', added to the nucleotide matrix(ces).\n",
      "Sample 4 of 163, 'EN_AR_5', added to the nucleotide matrix(ces).\n",
      "Sample 5 of 163, 'EN_AR_6', added to the nucleotide matrix(ces).\n",
      "Sample 6 of 163, 'EN_AS_18', added to the nucleotide matrix(ces).\n",
      "Sample 7 of 163, 'EN_AS_20', added to the nucleotide matrix(ces).\n",
      "Sample 8 of 163, 'EN_AS_23', added to the nucleotide matrix(ces).\n",
      "Sample 9 of 163, 'EN_AS_24', added to the nucleotide matrix(ces).\n",
      "Sample 10 of 163, 'EN_AS_28', added to the nucleotide matrix(ces).\n",
      "Sample 11 of 163, 'EN_AS_30', added to the nucleotide matrix(ces).\n",
      "Sample 12 of 163, 'EN_BO_1', added to the nucleotide matrix(ces).\n",
      "Sample 13 of 163, 'EN_BO_2', added to the nucleotide matrix(ces).\n",
      "Sample 14 of 163, 'EN_BO_3', added to the nucleotide matrix(ces).\n",
      "Sample 15 of 163, 'EN_BO_4', added to the nucleotide matrix(ces).\n",
      "Sample 16 of 163, 'EN_BO_5', added to the nucleotide matrix(ces).\n",
      "Sample 17 of 163, 'EN_BO_6', added to the nucleotide matrix(ces).\n",
      "Sample 18 of 163, 'EN_CH_1', added to the nucleotide matrix(ces).\n",
      "Sample 19 of 163, 'EN_CH_2', added to the nucleotide matrix(ces).\n",
      "Sample 20 of 163, 'EN_CH_3', added to the nucleotide matrix(ces).\n",
      "Sample 21 of 163, 'EN_CH_4', added to the nucleotide matrix(ces).\n",
      "Sample 22 of 163, 'EN_CH_6', added to the nucleotide matrix(ces).\n",
      "Sample 23 of 163, 'EN_CH_7', added to the nucleotide matrix(ces).\n",
      "Sample 24 of 163, 'EN_CI_1', added to the nucleotide matrix(ces).\n",
      "Sample 25 of 163, 'EN_CI_2', added to the nucleotide matrix(ces).\n",
      "Sample 26 of 163, 'EN_CI_3', added to the nucleotide matrix(ces).\n",
      "Sample 27 of 163, 'EN_CI_4', added to the nucleotide matrix(ces).\n",
      "Sample 28 of 163, 'EN_CI_5', added to the nucleotide matrix(ces).\n",
      "Sample 29 of 163, 'EN_CL_1', added to the nucleotide matrix(ces).\n",
      "Sample 30 of 163, 'EN_CL_2', added to the nucleotide matrix(ces).\n",
      "Sample 31 of 163, 'EN_CL_3', added to the nucleotide matrix(ces).\n",
      "Sample 32 of 163, 'EN_CL_4', added to the nucleotide matrix(ces).\n",
      "Sample 33 of 163, 'EN_CL_5', added to the nucleotide matrix(ces).\n",
      "Sample 34 of 163, 'EN_CL_6', added to the nucleotide matrix(ces).\n",
      "Sample 35 of 163, 'EN_CN_1', added to the nucleotide matrix(ces).\n",
      "Sample 36 of 163, 'EN_CN_2', added to the nucleotide matrix(ces).\n",
      "Sample 37 of 163, 'EN_CN_4', added to the nucleotide matrix(ces).\n",
      "Sample 38 of 163, 'EN_CN_5', added to the nucleotide matrix(ces).\n",
      "Sample 39 of 163, 'EN_CN_6', added to the nucleotide matrix(ces).\n",
      "Sample 40 of 163, 'EN_CO_1', added to the nucleotide matrix(ces).\n",
      "Sample 41 of 163, 'EN_CO_2', added to the nucleotide matrix(ces).\n",
      "Sample 42 of 163, 'EN_CO_3', added to the nucleotide matrix(ces).\n",
      "Sample 43 of 163, 'EN_CO_4', added to the nucleotide matrix(ces).\n",
      "Sample 44 of 163, 'EN_CO_5', added to the nucleotide matrix(ces).\n",
      "Sample 45 of 163, 'EN_CT_1', added to the nucleotide matrix(ces).\n",
      "Sample 46 of 163, 'EN_CT_2', added to the nucleotide matrix(ces).\n",
      "Sample 47 of 163, 'EN_CT_3', added to the nucleotide matrix(ces).\n",
      "Sample 48 of 163, 'EN_CT_4', added to the nucleotide matrix(ces).\n",
      "Sample 49 of 163, 'EN_CT_5', added to the nucleotide matrix(ces).\n",
      "Sample 50 of 163, 'EN_CT_6', added to the nucleotide matrix(ces).\n",
      "Sample 51 of 163, 'EN_DH_16', added to the nucleotide matrix(ces).\n",
      "Sample 52 of 163, 'EN_DH_17', added to the nucleotide matrix(ces).\n",
      "Sample 53 of 163, 'EN_DH_19', added to the nucleotide matrix(ces).\n",
      "Sample 54 of 163, 'EN_DH_20', added to the nucleotide matrix(ces).\n",
      "Sample 55 of 163, 'EN_DH_23', added to the nucleotide matrix(ces).\n",
      "Sample 56 of 163, 'EN_DH_28', added to the nucleotide matrix(ces).\n",
      "Sample 57 of 163, 'EN_ED_1', added to the nucleotide matrix(ces).\n",
      "Sample 58 of 163, 'EN_ED_2', added to the nucleotide matrix(ces).\n",
      "Sample 59 of 163, 'EN_ED_3', added to the nucleotide matrix(ces).\n",
      "Sample 60 of 163, 'EN_EW_1', added to the nucleotide matrix(ces).\n",
      "Sample 61 of 163, 'EN_EW_2', added to the nucleotide matrix(ces).\n",
      "Sample 62 of 163, 'EN_EW_4', added to the nucleotide matrix(ces).\n",
      "Sample 63 of 163, 'EN_EW_5', added to the nucleotide matrix(ces).\n",
      "Sample 64 of 163, 'EN_EW_6', added to the nucleotide matrix(ces).\n",
      "Sample 65 of 163, 'EN_EW_8', added to the nucleotide matrix(ces).\n",
      "Sample 66 of 163, 'EN_IO_1', added to the nucleotide matrix(ces).\n",
      "Sample 67 of 163, 'EN_IO_2', added to the nucleotide matrix(ces).\n",
      "Sample 68 of 163, 'EN_IO_3', added to the nucleotide matrix(ces).\n",
      "Sample 69 of 163, 'EN_IO_4', added to the nucleotide matrix(ces).\n",
      "Sample 70 of 163, 'EN_IO_5', added to the nucleotide matrix(ces).\n",
      "Sample 71 of 163, 'EN_JO_2', added to the nucleotide matrix(ces).\n",
      "Sample 72 of 163, 'EN_JO_3', added to the nucleotide matrix(ces).\n",
      "Sample 73 of 163, 'EN_JO_4', added to the nucleotide matrix(ces).\n",
      "Sample 74 of 163, 'EN_JO_5', added to the nucleotide matrix(ces).\n",
      "Sample 75 of 163, 'EN_JO_6', added to the nucleotide matrix(ces).\n",
      "Sample 76 of 163, 'EN_JT_1', added to the nucleotide matrix(ces).\n",
      "Sample 77 of 163, 'EN_JT_2', added to the nucleotide matrix(ces).\n",
      "Sample 78 of 163, 'EN_JT_3', added to the nucleotide matrix(ces).\n",
      "Sample 79 of 163, 'EN_JT_4', added to the nucleotide matrix(ces).\n",
      "Sample 80 of 163, 'EN_JT_5', added to the nucleotide matrix(ces).\n",
      "Sample 81 of 163, 'EN_JT_6', added to the nucleotide matrix(ces).\n",
      "Sample 82 of 163, 'EN_LA_1', added to the nucleotide matrix(ces).\n",
      "Sample 83 of 163, 'EN_LA_2', added to the nucleotide matrix(ces).\n",
      "Sample 84 of 163, 'EN_LA_3', added to the nucleotide matrix(ces).\n",
      "Sample 85 of 163, 'EN_LA_4', added to the nucleotide matrix(ces).\n",
      "Sample 86 of 163, 'EN_LA_5', added to the nucleotide matrix(ces).\n",
      "Sample 87 of 163, 'EN_LA_6', added to the nucleotide matrix(ces).\n",
      "Sample 88 of 163, 'EN_LO_1', added to the nucleotide matrix(ces).\n",
      "Sample 89 of 163, 'EN_LO_2', added to the nucleotide matrix(ces).\n",
      "Sample 90 of 163, 'EN_LO_3', added to the nucleotide matrix(ces).\n",
      "Sample 91 of 163, 'EN_LO_4', added to the nucleotide matrix(ces).\n",
      "Sample 92 of 163, 'EN_LO_5', added to the nucleotide matrix(ces).\n",
      "Sample 93 of 163, 'EN_LT_4', added to the nucleotide matrix(ces).\n",
      "Sample 94 of 163, 'EN_LT_5', added to the nucleotide matrix(ces).\n",
      "Sample 95 of 163, 'EN_LT_6', added to the nucleotide matrix(ces).\n",
      "Sample 96 of 163, 'EN_NH_2', added to the nucleotide matrix(ces).\n",
      "Sample 97 of 163, 'EN_NH_3', added to the nucleotide matrix(ces).\n",
      "Sample 98 of 163, 'EN_NH_4', added to the nucleotide matrix(ces).\n",
      "Sample 99 of 163, 'EN_NH_5', added to the nucleotide matrix(ces).\n",
      "Sample 100 of 163, 'EN_NH_6', added to the nucleotide matrix(ces).\n",
      "Sample 101 of 163, 'EN_NI_1', added to the nucleotide matrix(ces).\n",
      "Sample 102 of 163, 'EN_NI_2', added to the nucleotide matrix(ces).\n",
      "Sample 103 of 163, 'EN_NI_3', added to the nucleotide matrix(ces).\n",
      "Sample 104 of 163, 'EN_NI_4', added to the nucleotide matrix(ces).\n",
      "Sample 105 of 163, 'EN_NI_5', added to the nucleotide matrix(ces).\n",
      "Sample 106 of 163, 'EN_NI_6', added to the nucleotide matrix(ces).\n",
      "Sample 107 of 163, 'EN_NT_1', added to the nucleotide matrix(ces).\n",
      "Sample 108 of 163, 'EN_NT_2', added to the nucleotide matrix(ces).\n",
      "Sample 109 of 163, 'EN_NT_3', added to the nucleotide matrix(ces).\n",
      "Sample 110 of 163, 'EN_NT_4', added to the nucleotide matrix(ces).\n",
      "Sample 111 of 163, 'EN_NT_5', added to the nucleotide matrix(ces).\n",
      "Sample 112 of 163, 'EN_OT_1', added to the nucleotide matrix(ces).\n",
      "Sample 113 of 163, 'EN_OT_2', added to the nucleotide matrix(ces).\n",
      "Sample 114 of 163, 'EN_OT_3', added to the nucleotide matrix(ces).\n",
      "Sample 115 of 163, 'EN_OT_4', added to the nucleotide matrix(ces).\n",
      "Sample 116 of 163, 'EN_PW_15', added to the nucleotide matrix(ces).\n",
      "Sample 117 of 163, 'EN_PW_1', added to the nucleotide matrix(ces).\n",
      "Sample 118 of 163, 'EN_PW_3', added to the nucleotide matrix(ces).\n",
      "Sample 119 of 163, 'EN_PW_4', added to the nucleotide matrix(ces).\n",
      "Sample 120 of 163, 'EN_PW_5', added to the nucleotide matrix(ces).\n",
      "Sample 121 of 163, 'EN_PW_9', added to the nucleotide matrix(ces).\n",
      "Sample 122 of 163, 'EN_RL_1', added to the nucleotide matrix(ces).\n",
      "Sample 123 of 163, 'EN_RL_2', added to the nucleotide matrix(ces).\n",
      "Sample 124 of 163, 'EN_RL_3', added to the nucleotide matrix(ces).\n",
      "Sample 125 of 163, 'EN_RL_4', added to the nucleotide matrix(ces).\n",
      "Sample 126 of 163, 'EN_RL_5', added to the nucleotide matrix(ces).\n"
     ]
    },
    {
     "name": "stdout",
     "output_type": "stream",
     "text": [
      "Sample 127 of 163, 'EN_RL_6', added to the nucleotide matrix(ces).\n",
      "Sample 128 of 163, 'EN_RS_1', added to the nucleotide matrix(ces).\n",
      "Sample 129 of 163, 'EN_RS_2', added to the nucleotide matrix(ces).\n",
      "Sample 130 of 163, 'EN_RS_4', added to the nucleotide matrix(ces).\n",
      "Sample 131 of 163, 'EN_RS_5', added to the nucleotide matrix(ces).\n",
      "Sample 132 of 163, 'EN_RS_6', added to the nucleotide matrix(ces).\n",
      "Sample 133 of 163, 'EN_RS_7', added to the nucleotide matrix(ces).\n",
      "Sample 134 of 163, 'EN_RT_1', added to the nucleotide matrix(ces).\n",
      "Sample 135 of 163, 'EN_RT_2', added to the nucleotide matrix(ces).\n",
      "Sample 136 of 163, 'EN_SJ_10', added to the nucleotide matrix(ces).\n",
      "Sample 137 of 163, 'EN_SJ_12', added to the nucleotide matrix(ces).\n",
      "Sample 138 of 163, 'EN_SJ_1', added to the nucleotide matrix(ces).\n",
      "Sample 139 of 163, 'EN_SJ_2', added to the nucleotide matrix(ces).\n",
      "Sample 140 of 163, 'EN_SJ_8', added to the nucleotide matrix(ces).\n",
      "Sample 141 of 163, 'EN_SJ_9', added to the nucleotide matrix(ces).\n",
      "Sample 142 of 163, 'EN_SS_10', added to the nucleotide matrix(ces).\n",
      "Sample 143 of 163, 'EN_SS_12', added to the nucleotide matrix(ces).\n",
      "Sample 144 of 163, 'EN_SS_15', added to the nucleotide matrix(ces).\n",
      "Sample 145 of 163, 'EN_SS_3', added to the nucleotide matrix(ces).\n",
      "Sample 146 of 163, 'EN_SS_5', added to the nucleotide matrix(ces).\n",
      "Sample 147 of 163, 'EN_SS_9', added to the nucleotide matrix(ces).\n",
      "Sample 148 of 163, 'EN_TO_1', added to the nucleotide matrix(ces).\n",
      "Sample 149 of 163, 'EN_TO_2', added to the nucleotide matrix(ces).\n",
      "Sample 150 of 163, 'EN_TO_3', added to the nucleotide matrix(ces).\n",
      "Sample 151 of 163, 'EN_TO_4', added to the nucleotide matrix(ces).\n",
      "Sample 152 of 163, 'EN_TO_5', added to the nucleotide matrix(ces).\n",
      "Sample 153 of 163, 'EN_TO_6', added to the nucleotide matrix(ces).\n",
      "Sample 154 of 163, 'EN_UT_1', added to the nucleotide matrix(ces).\n",
      "Sample 155 of 163, 'EN_UT_2', added to the nucleotide matrix(ces).\n",
      "Sample 156 of 163, 'EN_UT_3', added to the nucleotide matrix(ces).\n",
      "Sample 157 of 163, 'EN_UT_4', added to the nucleotide matrix(ces).\n",
      "Sample 158 of 163, 'EN_UT_5', added to the nucleotide matrix(ces).\n",
      "Sample 159 of 163, 'EN_VI_1', added to the nucleotide matrix(ces).\n",
      "Sample 160 of 163, 'EN_VI_2', added to the nucleotide matrix(ces).\n",
      "Sample 161 of 163, 'EN_VI_3', added to the nucleotide matrix(ces).\n",
      "Sample 162 of 163, 'EN_VI_4', added to the nucleotide matrix(ces).\n",
      "Sample 163 of 163, 'EN_VI_5', added to the nucleotide matrix(ces).\n",
      "\n",
      "PHYLIP matrix saved to: ERNA_sub.recode.min4.phy\n",
      "\n",
      "Done!\n",
      "\n"
     ]
    }
   ],
   "source": [
    "!python $vcf2phy --i $vcf_sub"
   ]
  },
  {
   "cell_type": "markdown",
   "metadata": {},
   "source": [
    "#### NOTE: ran once but invariant sites. rerun with new .phy file"
   ]
  },
  {
   "cell_type": "code",
   "execution_count": 42,
   "metadata": {},
   "outputs": [],
   "source": [
    "#phy_file = os.path.join(iqtree_dir,'ERNA_sub.recode.min4.phy')\n",
    "phy_file = os.path.join(iqtree_dir,'ERNA_sub.recode.min4.phy.varsites.phy')"
   ]
  },
  {
   "cell_type": "code",
   "execution_count": 43,
   "metadata": {},
   "outputs": [],
   "source": [
    "### select options for slurm submission\n",
    "account = 'cpu-s5-denovo-0'\n",
    "partition = 'cpu-core-0'\n",
    "jobname = 'iqtree'\n",
    "time = '4-00:00:00' #time limit 1 day\n",
    "cpus = 16\n",
    "mem_cpu = 9000\n",
    "email = 'tfaske@nevada.unr.edu'\n",
    "\n",
    "### for iqtree\n",
    "model = 'GTR+ASC'\n",
    "bb = 1000 #bootstrap"
   ]
  },
  {
   "cell_type": "code",
   "execution_count": 44,
   "metadata": {},
   "outputs": [],
   "source": [
    "def write_iqtree_sh(account,partition,time,cpus,mem_cpu,email,iqtree_dir,phy,model,bb):\n",
    "    with open(\"run_sub_iqtree.sh\", \"w\") as o:\n",
    "        o.write(\"\"\"#!/usr/bin/env bash\n",
    "#SBATCH --account=%s\n",
    "#SBATCH --partition=%s\n",
    "#SBATCH --time=%s\n",
    "#SBATCH --ntasks 1\n",
    "#SBATCH --cpus-per-task %d\n",
    "#SBATCH --mem-per-cpu=%d\n",
    "#SBATCH --job-name iqtree_sub\n",
    "#SBATCH --output output_iqtree_sub.txt\n",
    "#SBATCH --mail-type=END\n",
    "#SBATCH --mail-user=%s\n",
    "\n",
    "cd %s\n",
    "    \n",
    "iqtree -s %s -nt %d -m %s -st DNA -bb %d \\n\\n\"\"\" % (account,partition,time,int(cpus),int(mem_cpu),email,iqtree_dir,phy,int(cpus),model,bb))\n",
    "        \n",
    "        "
   ]
  },
  {
   "cell_type": "code",
   "execution_count": 45,
   "metadata": {},
   "outputs": [],
   "source": [
    "write_iqtree_sh(account,partition,time,cpus,mem_cpu,email,iqtree_dir,phy_file,model,bb)"
   ]
  },
  {
   "cell_type": "markdown",
   "metadata": {},
   "source": [
    "# Run iqtree.sh\n",
    "    cd /data/gpfs/home/tfaske/d/rabbit/full/phylo/iqtree\n",
    "    source activate py311\n",
    "    sbatch run_iqtree.sh"
   ]
  },
  {
   "cell_type": "markdown",
   "metadata": {},
   "source": [
    "## Run IQtree (no hybrids)\n",
    "\n",
    "### VCF sub no hybrids"
   ]
  },
  {
   "cell_type": "code",
   "execution_count": 46,
   "metadata": {},
   "outputs": [
    {
     "name": "stdout",
     "output_type": "stream",
     "text": [
      "/data/gpfs/assoc/denovo/tfaske/rabbit/full/REDO/phylo/iqtree\n"
     ]
    }
   ],
   "source": [
    "cd $iqtree_dir"
   ]
  },
  {
   "cell_type": "code",
   "execution_count": 47,
   "metadata": {},
   "outputs": [],
   "source": [
    "!cp '../subset_vcf/ERNA_sub_noHyb.recode.vcf.gz' ."
   ]
  },
  {
   "cell_type": "code",
   "execution_count": 48,
   "metadata": {},
   "outputs": [],
   "source": [
    "!gunzip 'ERNA_sub_noHyb.recode.vcf.gz'"
   ]
  },
  {
   "cell_type": "code",
   "execution_count": 49,
   "metadata": {},
   "outputs": [],
   "source": [
    "vcf2phy = '/data/gpfs/assoc/parchmanlab/tfaske/src/phylo/./vcf2phylip.py'"
   ]
  },
  {
   "cell_type": "code",
   "execution_count": 50,
   "metadata": {},
   "outputs": [],
   "source": [
    "vcf_sub_noHyb = os.path.join(iqtree_dir,'ERNA_sub_noHyb.recode.vcf')"
   ]
  },
  {
   "cell_type": "code",
   "execution_count": 51,
   "metadata": {},
   "outputs": [
    {
     "name": "stdout",
     "output_type": "stream",
     "text": [
      "\n",
      "Converting file '/data/gpfs/assoc/denovo/tfaske/rabbit/full/REDO/phylo/iqtree/ERNA_sub_noHyb.recode.vcf':\n",
      "\n",
      "Number of samples in VCF: 125\n",
      "Total of genotypes processed: 17894\n",
      "Genotypes excluded because they exceeded the amount of missing data allowed: 0\n",
      "Genotypes that passed missing data filter but were excluded for being MNPs: 0\n",
      "SNPs that passed the filters: 17894\n",
      "\n",
      "Sample 1 of 125, 'EN_AR_2', added to the nucleotide matrix(ces).\n",
      "Sample 2 of 125, 'EN_AR_3', added to the nucleotide matrix(ces).\n",
      "Sample 3 of 125, 'EN_AR_4', added to the nucleotide matrix(ces).\n",
      "Sample 4 of 125, 'EN_AR_5', added to the nucleotide matrix(ces).\n",
      "Sample 5 of 125, 'EN_AR_6', added to the nucleotide matrix(ces).\n",
      "Sample 6 of 125, 'EN_AS_18', added to the nucleotide matrix(ces).\n",
      "Sample 7 of 125, 'EN_AS_20', added to the nucleotide matrix(ces).\n",
      "Sample 8 of 125, 'EN_AS_23', added to the nucleotide matrix(ces).\n",
      "Sample 9 of 125, 'EN_AS_24', added to the nucleotide matrix(ces).\n",
      "Sample 10 of 125, 'EN_AS_28', added to the nucleotide matrix(ces).\n",
      "Sample 11 of 125, 'EN_AS_30', added to the nucleotide matrix(ces).\n",
      "Sample 12 of 125, 'EN_BO_1', added to the nucleotide matrix(ces).\n",
      "Sample 13 of 125, 'EN_BO_2', added to the nucleotide matrix(ces).\n",
      "Sample 14 of 125, 'EN_BO_3', added to the nucleotide matrix(ces).\n",
      "Sample 15 of 125, 'EN_BO_4', added to the nucleotide matrix(ces).\n",
      "Sample 16 of 125, 'EN_BO_5', added to the nucleotide matrix(ces).\n",
      "Sample 17 of 125, 'EN_BO_6', added to the nucleotide matrix(ces).\n",
      "Sample 18 of 125, 'EN_CH_2', added to the nucleotide matrix(ces).\n",
      "Sample 19 of 125, 'EN_CH_3', added to the nucleotide matrix(ces).\n",
      "Sample 20 of 125, 'EN_CH_4', added to the nucleotide matrix(ces).\n",
      "Sample 21 of 125, 'EN_CH_6', added to the nucleotide matrix(ces).\n",
      "Sample 22 of 125, 'EN_CH_7', added to the nucleotide matrix(ces).\n",
      "Sample 23 of 125, 'EN_CI_1', added to the nucleotide matrix(ces).\n",
      "Sample 24 of 125, 'EN_CI_2', added to the nucleotide matrix(ces).\n",
      "Sample 25 of 125, 'EN_CI_3', added to the nucleotide matrix(ces).\n",
      "Sample 26 of 125, 'EN_CI_4', added to the nucleotide matrix(ces).\n",
      "Sample 27 of 125, 'EN_CI_5', added to the nucleotide matrix(ces).\n",
      "Sample 28 of 125, 'EN_CL_1', added to the nucleotide matrix(ces).\n",
      "Sample 29 of 125, 'EN_CL_2', added to the nucleotide matrix(ces).\n",
      "Sample 30 of 125, 'EN_CL_3', added to the nucleotide matrix(ces).\n",
      "Sample 31 of 125, 'EN_CL_4', added to the nucleotide matrix(ces).\n",
      "Sample 32 of 125, 'EN_CL_5', added to the nucleotide matrix(ces).\n",
      "Sample 33 of 125, 'EN_CL_6', added to the nucleotide matrix(ces).\n",
      "Sample 34 of 125, 'EN_CN_1', added to the nucleotide matrix(ces).\n",
      "Sample 35 of 125, 'EN_CN_2', added to the nucleotide matrix(ces).\n",
      "Sample 36 of 125, 'EN_CN_4', added to the nucleotide matrix(ces).\n",
      "Sample 37 of 125, 'EN_CN_5', added to the nucleotide matrix(ces).\n",
      "Sample 38 of 125, 'EN_CN_6', added to the nucleotide matrix(ces).\n",
      "Sample 39 of 125, 'EN_CO_1', added to the nucleotide matrix(ces).\n",
      "Sample 40 of 125, 'EN_CO_2', added to the nucleotide matrix(ces).\n",
      "Sample 41 of 125, 'EN_CO_3', added to the nucleotide matrix(ces).\n",
      "Sample 42 of 125, 'EN_CO_4', added to the nucleotide matrix(ces).\n",
      "Sample 43 of 125, 'EN_CO_5', added to the nucleotide matrix(ces).\n",
      "Sample 44 of 125, 'EN_CT_1', added to the nucleotide matrix(ces).\n",
      "Sample 45 of 125, 'EN_CT_2', added to the nucleotide matrix(ces).\n",
      "Sample 46 of 125, 'EN_CT_3', added to the nucleotide matrix(ces).\n",
      "Sample 47 of 125, 'EN_CT_4', added to the nucleotide matrix(ces).\n",
      "Sample 48 of 125, 'EN_CT_5', added to the nucleotide matrix(ces).\n",
      "Sample 49 of 125, 'EN_CT_6', added to the nucleotide matrix(ces).\n",
      "Sample 50 of 125, 'EN_DH_16', added to the nucleotide matrix(ces).\n",
      "Sample 51 of 125, 'EN_DH_17', added to the nucleotide matrix(ces).\n",
      "Sample 52 of 125, 'EN_DH_19', added to the nucleotide matrix(ces).\n",
      "Sample 53 of 125, 'EN_DH_20', added to the nucleotide matrix(ces).\n",
      "Sample 54 of 125, 'EN_DH_23', added to the nucleotide matrix(ces).\n",
      "Sample 55 of 125, 'EN_DH_28', added to the nucleotide matrix(ces).\n",
      "Sample 56 of 125, 'EN_ED_1', added to the nucleotide matrix(ces).\n",
      "Sample 57 of 125, 'EN_ED_2', added to the nucleotide matrix(ces).\n",
      "Sample 58 of 125, 'EN_ED_3', added to the nucleotide matrix(ces).\n",
      "Sample 59 of 125, 'EN_EW_2', added to the nucleotide matrix(ces).\n",
      "Sample 60 of 125, 'EN_EW_4', added to the nucleotide matrix(ces).\n",
      "Sample 61 of 125, 'EN_EW_5', added to the nucleotide matrix(ces).\n",
      "Sample 62 of 125, 'EN_EW_6', added to the nucleotide matrix(ces).\n",
      "Sample 63 of 125, 'EN_JO_2', added to the nucleotide matrix(ces).\n",
      "Sample 64 of 125, 'EN_JO_3', added to the nucleotide matrix(ces).\n",
      "Sample 65 of 125, 'EN_JO_4', added to the nucleotide matrix(ces).\n",
      "Sample 66 of 125, 'EN_JO_5', added to the nucleotide matrix(ces).\n",
      "Sample 67 of 125, 'EN_JO_6', added to the nucleotide matrix(ces).\n",
      "Sample 68 of 125, 'EN_JT_1', added to the nucleotide matrix(ces).\n",
      "Sample 69 of 125, 'EN_JT_2', added to the nucleotide matrix(ces).\n",
      "Sample 70 of 125, 'EN_JT_3', added to the nucleotide matrix(ces).\n",
      "Sample 71 of 125, 'EN_JT_4', added to the nucleotide matrix(ces).\n",
      "Sample 72 of 125, 'EN_JT_5', added to the nucleotide matrix(ces).\n",
      "Sample 73 of 125, 'EN_JT_6', added to the nucleotide matrix(ces).\n",
      "Sample 74 of 125, 'EN_LO_1', added to the nucleotide matrix(ces).\n",
      "Sample 75 of 125, 'EN_LO_2', added to the nucleotide matrix(ces).\n",
      "Sample 76 of 125, 'EN_LO_3', added to the nucleotide matrix(ces).\n",
      "Sample 77 of 125, 'EN_LO_4', added to the nucleotide matrix(ces).\n",
      "Sample 78 of 125, 'EN_LO_5', added to the nucleotide matrix(ces).\n",
      "Sample 79 of 125, 'EN_LT_4', added to the nucleotide matrix(ces).\n",
      "Sample 80 of 125, 'EN_LT_5', added to the nucleotide matrix(ces).\n",
      "Sample 81 of 125, 'EN_LT_6', added to the nucleotide matrix(ces).\n",
      "Sample 82 of 125, 'EN_NI_1', added to the nucleotide matrix(ces).\n",
      "Sample 83 of 125, 'EN_NI_2', added to the nucleotide matrix(ces).\n",
      "Sample 84 of 125, 'EN_NI_3', added to the nucleotide matrix(ces).\n",
      "Sample 85 of 125, 'EN_NI_4', added to the nucleotide matrix(ces).\n",
      "Sample 86 of 125, 'EN_NI_5', added to the nucleotide matrix(ces).\n",
      "Sample 87 of 125, 'EN_NI_6', added to the nucleotide matrix(ces).\n",
      "Sample 88 of 125, 'EN_OT_1', added to the nucleotide matrix(ces).\n",
      "Sample 89 of 125, 'EN_OT_2', added to the nucleotide matrix(ces).\n",
      "Sample 90 of 125, 'EN_OT_3', added to the nucleotide matrix(ces).\n",
      "Sample 91 of 125, 'EN_OT_4', added to the nucleotide matrix(ces).\n",
      "Sample 92 of 125, 'EN_PW_1', added to the nucleotide matrix(ces).\n",
      "Sample 93 of 125, 'EN_PW_3', added to the nucleotide matrix(ces).\n",
      "Sample 94 of 125, 'EN_PW_4', added to the nucleotide matrix(ces).\n",
      "Sample 95 of 125, 'EN_PW_5', added to the nucleotide matrix(ces).\n",
      "Sample 96 of 125, 'EN_PW_9', added to the nucleotide matrix(ces).\n",
      "Sample 97 of 125, 'EN_RL_1', added to the nucleotide matrix(ces).\n",
      "Sample 98 of 125, 'EN_RL_2', added to the nucleotide matrix(ces).\n",
      "Sample 99 of 125, 'EN_RL_3', added to the nucleotide matrix(ces).\n",
      "Sample 100 of 125, 'EN_RL_4', added to the nucleotide matrix(ces).\n",
      "Sample 101 of 125, 'EN_RL_5', added to the nucleotide matrix(ces).\n",
      "Sample 102 of 125, 'EN_RL_6', added to the nucleotide matrix(ces).\n",
      "Sample 103 of 125, 'EN_RS_1', added to the nucleotide matrix(ces).\n",
      "Sample 104 of 125, 'EN_RS_2', added to the nucleotide matrix(ces).\n",
      "Sample 105 of 125, 'EN_RS_4', added to the nucleotide matrix(ces).\n",
      "Sample 106 of 125, 'EN_RS_5', added to the nucleotide matrix(ces).\n",
      "Sample 107 of 125, 'EN_RS_6', added to the nucleotide matrix(ces).\n",
      "Sample 108 of 125, 'EN_RS_7', added to the nucleotide matrix(ces).\n",
      "Sample 109 of 125, 'EN_SJ_10', added to the nucleotide matrix(ces).\n",
      "Sample 110 of 125, 'EN_SJ_12', added to the nucleotide matrix(ces).\n",
      "Sample 111 of 125, 'EN_SJ_1', added to the nucleotide matrix(ces).\n",
      "Sample 112 of 125, 'EN_SJ_2', added to the nucleotide matrix(ces).\n",
      "Sample 113 of 125, 'EN_SJ_8', added to the nucleotide matrix(ces).\n",
      "Sample 114 of 125, 'EN_SJ_9', added to the nucleotide matrix(ces).\n",
      "Sample 115 of 125, 'EN_SS_10', added to the nucleotide matrix(ces).\n",
      "Sample 116 of 125, 'EN_SS_12', added to the nucleotide matrix(ces).\n",
      "Sample 117 of 125, 'EN_SS_15', added to the nucleotide matrix(ces).\n",
      "Sample 118 of 125, 'EN_SS_3', added to the nucleotide matrix(ces).\n",
      "Sample 119 of 125, 'EN_SS_5', added to the nucleotide matrix(ces).\n",
      "Sample 120 of 125, 'EN_SS_9', added to the nucleotide matrix(ces).\n",
      "Sample 121 of 125, 'EN_UT_1', added to the nucleotide matrix(ces).\n",
      "Sample 122 of 125, 'EN_UT_2', added to the nucleotide matrix(ces).\n",
      "Sample 123 of 125, 'EN_UT_3', added to the nucleotide matrix(ces).\n",
      "Sample 124 of 125, 'EN_UT_4', added to the nucleotide matrix(ces).\n",
      "Sample 125 of 125, 'EN_UT_5', added to the nucleotide matrix(ces).\n",
      "\n",
      "PHYLIP matrix saved to: ERNA_sub_noHyb.recode.min4.phy\n",
      "\n",
      "Done!\n",
      "\n"
     ]
    }
   ],
   "source": [
    "!python $vcf2phy --i $vcf_sub_noHyb"
   ]
  },
  {
   "cell_type": "markdown",
   "metadata": {},
   "source": [
    "#### NOTE: ran once but invariant sites. rerun with new .phy file"
   ]
  },
  {
   "cell_type": "code",
   "execution_count": 56,
   "metadata": {},
   "outputs": [],
   "source": [
    "#phy_file = os.path.join(iqtree_dir,'ERNA_sub_noHyb.recode.min4.phy')\n",
    "phy_file = os.path.join(iqtree_dir,'ERNA_sub_noHyb.recode.min4.phy.varsites.phy')"
   ]
  },
  {
   "cell_type": "code",
   "execution_count": 57,
   "metadata": {},
   "outputs": [],
   "source": [
    "### select options for slurm submission\n",
    "account = 'cpu-s5-denovo-0'\n",
    "partition = 'cpu-core-0'\n",
    "jobname = 'iqtree'\n",
    "time = '4-00:00:00' #time limit 1 day\n",
    "cpus = 16\n",
    "mem_cpu = 9000\n",
    "email = 'tfaske@nevada.unr.edu'\n",
    "\n",
    "### for iqtree\n",
    "model = 'GTR+ASC'\n",
    "bb = 1000 #bootstrap"
   ]
  },
  {
   "cell_type": "code",
   "execution_count": 58,
   "metadata": {},
   "outputs": [],
   "source": [
    "def write_iqtree_sh(account,partition,time,cpus,mem_cpu,email,iqtree_dir,phy,model,bb):\n",
    "    with open(\"run_sub_noHyb_iqtree.sh\", \"w\") as o:\n",
    "        o.write(\"\"\"#!/usr/bin/env bash\n",
    "#SBATCH --account=%s\n",
    "#SBATCH --partition=%s\n",
    "#SBATCH --time=%s\n",
    "#SBATCH --ntasks 1\n",
    "#SBATCH --cpus-per-task %d\n",
    "#SBATCH --mem-per-cpu=%d\n",
    "#SBATCH --job-name iqtree_sub_noHyb\n",
    "#SBATCH --output output_iqtree_sub_noHyb.txt\n",
    "#SBATCH --mail-type=END\n",
    "#SBATCH --mail-user=%s\n",
    "\n",
    "cd %s\n",
    "    \n",
    "iqtree -s %s -nt %d -m %s -st DNA -bb %d \\n\\n\"\"\" % (account,partition,time,int(cpus),int(mem_cpu),email,iqtree_dir,phy,int(cpus),model,bb))\n",
    "        \n",
    "        "
   ]
  },
  {
   "cell_type": "code",
   "execution_count": 59,
   "metadata": {},
   "outputs": [],
   "source": [
    "write_iqtree_sh(account,partition,time,cpus,mem_cpu,email,iqtree_dir,phy_file,model,bb)"
   ]
  },
  {
   "cell_type": "markdown",
   "metadata": {},
   "source": [
    "## Use all Pop_lin and 5 individuals to make 2 iqtree runs. One with and one without hybrids\n",
    "\n",
    "### with hybrids (all of em)"
   ]
  },
  {
   "cell_type": "code",
   "execution_count": 61,
   "metadata": {},
   "outputs": [
    {
     "name": "stdout",
     "output_type": "stream",
     "text": [
      "/data/gpfs/assoc/denovo/tfaske/rabbit/full/REDO/phylo/subset_vcf\n"
     ]
    }
   ],
   "source": [
    "cd $analysis_dir"
   ]
  },
  {
   "cell_type": "code",
   "execution_count": 62,
   "metadata": {},
   "outputs": [
    {
     "name": "stdout",
     "output_type": "stream",
     "text": [
      "Joining, by = \"All\"\n",
      "[1] 586\n",
      "[1] 589\n",
      "[1] 589\n"
     ]
    }
   ],
   "source": [
    "%%R\n",
    "## add pca_df info\n",
    "pca_df <- read.csv('pca_df.csv')\n",
    "Pop_ID_Sum <- read.csv('Pop_ID_Sum.csv')\n",
    "#head(pca_df)\n",
    "#head(Pop_ID_Sum)\n",
    "\n",
    "#select important info\n",
    "pca_df <- pca_df[c('All','Lin')]\n",
    "\n",
    "#join \n",
    "Pop_ID <- left_join(Pop_ID_Sum,pca_df)\n",
    "Pop_ID$Lin <- as.character(Pop_ID$Lin)\n",
    "\n",
    "##add ED (outgroup)\n",
    "Pop_ID$Lin[which(Pop_ID_Sum$Pop == 'ED')] <- 'outgroup'\n",
    "\n",
    "## make Pop_lin \n",
    "Pop_ID$Pop_lin <- paste0(Pop_ID$Pop,'_',Pop_ID$Lin)\n",
    "\n",
    "print(nrow(pca_df))\n",
    "print(nrow(Pop_ID_Sum))\n",
    "print(nrow(Pop_ID))"
   ]
  },
  {
   "cell_type": "code",
   "execution_count": 63,
   "metadata": {},
   "outputs": [
    {
     "name": "stdout",
     "output_type": "stream",
     "text": [
      "[1] 90\n",
      "   Min. 1st Qu.  Median    Mean 3rd Qu.    Max. \n",
      "  1.000   4.000   6.000   6.544   7.000  15.000 \n",
      "[1] 394\n"
     ]
    }
   ],
   "source": [
    "%%R\n",
    "\n",
    "## view unique table of Pop_lin \n",
    "pop_lin_t <- as.data.frame(table(as.character(Pop_ID$Pop_lin)))\n",
    "names(pop_lin_t) <- c('Pop_lin','n')\n",
    "print(nrow(pop_lin_t))\n",
    "print(summary(pop_lin_t$n))\n",
    "\n",
    "### loop thru and select 5 \n",
    "\n",
    "keep_all <- c()\n",
    "for (pl in pop_lin_t$Pop_lin){\n",
    "    index <- which(Pop_ID$Pop_lin == pl)\n",
    "    if (length(index) > 5){ \n",
    "        keep_all <- c(keep_all,Pop_ID$All[sample(index,5)])\n",
    "    }else{\n",
    "        keep_all <- c(keep_all,Pop_ID$All[index])\n",
    "    }\n",
    "}\n",
    "\n",
    "print(length(keep_all))"
   ]
  },
  {
   "cell_type": "code",
   "execution_count": 64,
   "metadata": {},
   "outputs": [],
   "source": [
    "%%R\n",
    "#### Write it out! \n",
    "# write file with individuals to keep \n",
    "Pop_ID_all <- Pop_ID[which(Pop_ID$All %in% keep_all),]\n",
    "keep_all_df <- data.frame(INDV=as.character(keep_all))\n",
    "write.table(keep_all_df,'keep_all.txt',row.names=FALSE,quote=FALSE)\n",
    "write.csv(Pop_ID_all,'Pop_ID_all.csv',row.names = F)"
   ]
  },
  {
   "cell_type": "markdown",
   "metadata": {},
   "source": [
    "### Make vcf with all (including hybrids) "
   ]
  },
  {
   "cell_type": "code",
   "execution_count": 65,
   "metadata": {
    "scrolled": true
   },
   "outputs": [
    {
     "name": "stdout",
     "output_type": "stream",
     "text": [
      "\n",
      "VCFtools - 0.1.16\n",
      "(C) Adam Auton and Anthony Marcketta 2009\n",
      "\n",
      "Parameters as interpreted:\n",
      "\t--gzvcf /data/gpfs/assoc/denovo/tfaske/rabbit/full/REDO/phylo/subset_vcf/good_snps.recode.vcf.gz\n",
      "\t--keep keep_all.txt\n",
      "\t--recode-INFO-all\n",
      "\t--maf 0.02\n",
      "\t--max-missing 0.7\n",
      "\t--out ERNA_all\n",
      "\t--recode\n",
      "\n",
      "Using zlib version: 1.2.11\n",
      "Warning: Expected at least 2 parts in INFO entry: ID=AC,Number=A,Type=Integer,Description=\"Allele count in genotypes for each ALT allele, in the same order as listed\">\n",
      "Warning: Expected at least 2 parts in INFO entry: ID=DP4,Number=4,Type=Integer,Description=\"Number of high-quality ref-forward , ref-reverse, alt-forward and alt-reverse bases\">\n",
      "Warning: Expected at least 2 parts in INFO entry: ID=DP4,Number=4,Type=Integer,Description=\"Number of high-quality ref-forward , ref-reverse, alt-forward and alt-reverse bases\">\n",
      "Keeping individuals in 'keep' list\n",
      "After filtering, kept 394 out of 589 Individuals\n",
      "Outputting VCF file...\n",
      "After filtering, kept 21403 out of a possible 23306 Sites\n",
      "Run Time = 20.00 seconds\n"
     ]
    }
   ],
   "source": [
    "!$vcftools --gzvcf $vcf_file \\\n",
    "--max-missing 0.7 \\\n",
    "--maf 0.02 \\\n",
    "--recode \\\n",
    "--recode-INFO-all \\\n",
    "--keep 'keep_all.txt' \\\n",
    "--out 'ERNA_all'"
   ]
  },
  {
   "cell_type": "code",
   "execution_count": 66,
   "metadata": {},
   "outputs": [],
   "source": [
    "vcf_all = 'ERNA_all.recode.vcf'\n",
    "vcf_all_gz = vcf_all + \".gz\"\n",
    "!$bgzip -c {vcf_all} > {vcf_all_gz}\n",
    "!$tabix {vcf_all_gz}"
   ]
  },
  {
   "cell_type": "code",
   "execution_count": 67,
   "metadata": {},
   "outputs": [],
   "source": [
    "!rm 'ERNA_all.log'\n",
    "!rm 'ERNA_all.recode.vcf'\n",
    "!rm 'ERNA_all.recode.vcf.gz.tbi'"
   ]
  },
  {
   "cell_type": "markdown",
   "metadata": {},
   "source": [
    "### Make vcf sub no hybrids"
   ]
  },
  {
   "cell_type": "code",
   "execution_count": 68,
   "metadata": {},
   "outputs": [
    {
     "name": "stdout",
     "output_type": "stream",
     "text": [
      "[1] 287  12\n"
     ]
    }
   ],
   "source": [
    "%%R\n",
    "Pop_ID_all <- read.csv('Pop_ID_all.csv')\n",
    "Pop_ID_all_noHyb <- Pop_ID_all[-which(Pop_ID_all$Lin == 'hybrid'),]\n",
    "print(dim(Pop_ID_all_noHyb))\n",
    "\n",
    "# write file with individuals to keep \n",
    "keep_all_noHyb <- data.frame(INDV=as.character(Pop_ID_all_noHyb$All))\n",
    "write.table(keep_all_noHyb,'keep_all_noHyb.txt',row.names=FALSE,quote=FALSE)\n",
    "write.csv(Pop_ID_all_noHyb,'Pop_ID_all_noHyb.csv',row.names = FALSE)"
   ]
  },
  {
   "cell_type": "code",
   "execution_count": 69,
   "metadata": {},
   "outputs": [
    {
     "name": "stdout",
     "output_type": "stream",
     "text": [
      "\n",
      "VCFtools - 0.1.16\n",
      "(C) Adam Auton and Anthony Marcketta 2009\n",
      "\n",
      "Parameters as interpreted:\n",
      "\t--gzvcf /data/gpfs/assoc/denovo/tfaske/rabbit/full/REDO/phylo/subset_vcf/good_snps.recode.vcf.gz\n",
      "\t--keep keep_all_noHyb.txt\n",
      "\t--recode-INFO-all\n",
      "\t--maf 0.02\n",
      "\t--max-missing 0.7\n",
      "\t--out ERNA_all_noHyb\n",
      "\t--recode\n",
      "\n",
      "Using zlib version: 1.2.11\n",
      "Warning: Expected at least 2 parts in INFO entry: ID=AC,Number=A,Type=Integer,Description=\"Allele count in genotypes for each ALT allele, in the same order as listed\">\n",
      "Warning: Expected at least 2 parts in INFO entry: ID=DP4,Number=4,Type=Integer,Description=\"Number of high-quality ref-forward , ref-reverse, alt-forward and alt-reverse bases\">\n",
      "Warning: Expected at least 2 parts in INFO entry: ID=DP4,Number=4,Type=Integer,Description=\"Number of high-quality ref-forward , ref-reverse, alt-forward and alt-reverse bases\">\n",
      "Keeping individuals in 'keep' list\n",
      "After filtering, kept 287 out of 589 Individuals\n",
      "Outputting VCF file...\n",
      "After filtering, kept 20518 out of a possible 23306 Sites\n",
      "Run Time = 16.00 seconds\n"
     ]
    }
   ],
   "source": [
    "!$vcftools --gzvcf $vcf_file \\\n",
    "--max-missing 0.7 \\\n",
    "--maf 0.02 \\\n",
    "--recode \\\n",
    "--recode-INFO-all \\\n",
    "--keep 'keep_all_noHyb.txt' \\\n",
    "--out 'ERNA_all_noHyb'"
   ]
  },
  {
   "cell_type": "code",
   "execution_count": 70,
   "metadata": {},
   "outputs": [],
   "source": [
    "vcf_all_noHyb = 'ERNA_all_noHyb.recode.vcf'\n",
    "vcf_all_noHyb_gz = vcf_all_noHyb + \".gz\"\n",
    "!$bgzip -c {vcf_all_noHyb} > {vcf_all_noHyb_gz}\n",
    "!$tabix {vcf_all_noHyb_gz}"
   ]
  },
  {
   "cell_type": "code",
   "execution_count": 71,
   "metadata": {},
   "outputs": [],
   "source": [
    "!rm 'ERNA_all_noHyb.log'\n",
    "!rm 'ERNA_all_noHyb.recode.vcf'\n",
    "!rm 'ERNA_all_noHyb.recode.vcf.gz.tbi'"
   ]
  },
  {
   "cell_type": "markdown",
   "metadata": {},
   "source": [
    "# Run IQtree\n",
    "\n",
    "### vcf all (with hybrids)"
   ]
  },
  {
   "cell_type": "code",
   "execution_count": 72,
   "metadata": {},
   "outputs": [
    {
     "name": "stdout",
     "output_type": "stream",
     "text": [
      "/data/gpfs/assoc/denovo/tfaske/rabbit/full/REDO/phylo\n"
     ]
    }
   ],
   "source": [
    "cd $root"
   ]
  },
  {
   "cell_type": "code",
   "execution_count": 73,
   "metadata": {},
   "outputs": [],
   "source": [
    "!cp 'subset_vcf/ERNA_all.recode.vcf.gz' $iqtree_dir"
   ]
  },
  {
   "cell_type": "code",
   "execution_count": 74,
   "metadata": {},
   "outputs": [
    {
     "name": "stdout",
     "output_type": "stream",
     "text": [
      "/data/gpfs/assoc/denovo/tfaske/rabbit/full/REDO/phylo/iqtree\n"
     ]
    }
   ],
   "source": [
    "cd $iqtree_dir"
   ]
  },
  {
   "cell_type": "code",
   "execution_count": 75,
   "metadata": {},
   "outputs": [],
   "source": [
    "!gunzip 'ERNA_all.recode.vcf.gz'"
   ]
  },
  {
   "cell_type": "code",
   "execution_count": 76,
   "metadata": {},
   "outputs": [],
   "source": [
    "vcf2phy = '/data/gpfs/assoc/parchmanlab/tfaske/src/phylo/./vcf2phylip.py'"
   ]
  },
  {
   "cell_type": "code",
   "execution_count": 77,
   "metadata": {},
   "outputs": [],
   "source": [
    "vcf_all = os.path.join(iqtree_dir,'ERNA_all.recode.vcf')"
   ]
  },
  {
   "cell_type": "code",
   "execution_count": 78,
   "metadata": {},
   "outputs": [
    {
     "name": "stdout",
     "output_type": "stream",
     "text": [
      "\n",
      "Converting file '/data/gpfs/assoc/denovo/tfaske/rabbit/full/REDO/phylo/iqtree/ERNA_all.recode.vcf':\n",
      "\n",
      "Number of samples in VCF: 394\n",
      "Total of genotypes processed: 21403\n",
      "Genotypes excluded because they exceeded the amount of missing data allowed: 0\n",
      "Genotypes that passed missing data filter but were excluded for being MNPs: 0\n",
      "SNPs that passed the filters: 21403\n",
      "\n",
      "Sample 1 of 394, 'EN_AH_15', added to the nucleotide matrix(ces).\n",
      "Sample 2 of 394, 'EN_AH_2', added to the nucleotide matrix(ces).\n",
      "Sample 3 of 394, 'EN_AH_4', added to the nucleotide matrix(ces).\n",
      "Sample 4 of 394, 'EN_AH_5', added to the nucleotide matrix(ces).\n",
      "Sample 5 of 394, 'EN_AH_9', added to the nucleotide matrix(ces).\n",
      "Sample 6 of 394, 'EN_AR_2', added to the nucleotide matrix(ces).\n",
      "Sample 7 of 394, 'EN_AR_3', added to the nucleotide matrix(ces).\n",
      "Sample 8 of 394, 'EN_AR_4', added to the nucleotide matrix(ces).\n",
      "Sample 9 of 394, 'EN_AR_5', added to the nucleotide matrix(ces).\n",
      "Sample 10 of 394, 'EN_AR_6', added to the nucleotide matrix(ces).\n",
      "Sample 11 of 394, 'EN_AS_16', added to the nucleotide matrix(ces).\n",
      "Sample 12 of 394, 'EN_AS_19', added to the nucleotide matrix(ces).\n",
      "Sample 13 of 394, 'EN_AS_20', added to the nucleotide matrix(ces).\n",
      "Sample 14 of 394, 'EN_AS_29', added to the nucleotide matrix(ces).\n",
      "Sample 15 of 394, 'EN_AS_30', added to the nucleotide matrix(ces).\n",
      "Sample 16 of 394, 'EN_BC_11', added to the nucleotide matrix(ces).\n",
      "Sample 17 of 394, 'EN_BC_12', added to the nucleotide matrix(ces).\n",
      "Sample 18 of 394, 'EN_BC_13', added to the nucleotide matrix(ces).\n",
      "Sample 19 of 394, 'EN_BC_2', added to the nucleotide matrix(ces).\n",
      "Sample 20 of 394, 'EN_BC_3', added to the nucleotide matrix(ces).\n",
      "Sample 21 of 394, 'EN_BC_4', added to the nucleotide matrix(ces).\n",
      "Sample 22 of 394, 'EN_BC_5', added to the nucleotide matrix(ces).\n",
      "Sample 23 of 394, 'EN_BC_6', added to the nucleotide matrix(ces).\n",
      "Sample 24 of 394, 'EN_BC_7', added to the nucleotide matrix(ces).\n",
      "Sample 25 of 394, 'EN_BC_8', added to the nucleotide matrix(ces).\n",
      "Sample 26 of 394, 'EN_BH_1', added to the nucleotide matrix(ces).\n",
      "Sample 27 of 394, 'EN_BH_2', added to the nucleotide matrix(ces).\n",
      "Sample 28 of 394, 'EN_BH_4', added to the nucleotide matrix(ces).\n",
      "Sample 29 of 394, 'EN_BH_5', added to the nucleotide matrix(ces).\n",
      "Sample 30 of 394, 'EN_BH_6', added to the nucleotide matrix(ces).\n",
      "Sample 31 of 394, 'EN_BL_1', added to the nucleotide matrix(ces).\n",
      "Sample 32 of 394, 'EN_BL_2', added to the nucleotide matrix(ces).\n",
      "Sample 33 of 394, 'EN_BL_4', added to the nucleotide matrix(ces).\n",
      "Sample 34 of 394, 'EN_BL_5', added to the nucleotide matrix(ces).\n",
      "Sample 35 of 394, 'EN_BL_6', added to the nucleotide matrix(ces).\n",
      "Sample 36 of 394, 'EN_BM_18', added to the nucleotide matrix(ces).\n",
      "Sample 37 of 394, 'EN_BM_21', added to the nucleotide matrix(ces).\n",
      "Sample 38 of 394, 'EN_BM_23', added to the nucleotide matrix(ces).\n",
      "Sample 39 of 394, 'EN_BM_24', added to the nucleotide matrix(ces).\n",
      "Sample 40 of 394, 'EN_BM_30', added to the nucleotide matrix(ces).\n",
      "Sample 41 of 394, 'EN_BO_2', added to the nucleotide matrix(ces).\n",
      "Sample 42 of 394, 'EN_BO_3', added to the nucleotide matrix(ces).\n",
      "Sample 43 of 394, 'EN_BO_4', added to the nucleotide matrix(ces).\n",
      "Sample 44 of 394, 'EN_BO_5', added to the nucleotide matrix(ces).\n",
      "Sample 45 of 394, 'EN_BO_6', added to the nucleotide matrix(ces).\n",
      "Sample 46 of 394, 'EN_BT_1', added to the nucleotide matrix(ces).\n",
      "Sample 47 of 394, 'EN_BT_3', added to the nucleotide matrix(ces).\n",
      "Sample 48 of 394, 'EN_BT_4', added to the nucleotide matrix(ces).\n",
      "Sample 49 of 394, 'EN_BT_5', added to the nucleotide matrix(ces).\n",
      "Sample 50 of 394, 'EN_BT_6', added to the nucleotide matrix(ces).\n",
      "Sample 51 of 394, 'EN_BV_18', added to the nucleotide matrix(ces).\n",
      "Sample 52 of 394, 'EN_BV_20', added to the nucleotide matrix(ces).\n",
      "Sample 53 of 394, 'EN_BV_26', added to the nucleotide matrix(ces).\n",
      "Sample 54 of 394, 'EN_BV_27', added to the nucleotide matrix(ces).\n",
      "Sample 55 of 394, 'EN_BV_30', added to the nucleotide matrix(ces).\n",
      "Sample 56 of 394, 'EN_CC_1', added to the nucleotide matrix(ces).\n",
      "Sample 57 of 394, 'EN_CC_2', added to the nucleotide matrix(ces).\n",
      "Sample 58 of 394, 'EN_CC_4', added to the nucleotide matrix(ces).\n",
      "Sample 59 of 394, 'EN_CH_1', added to the nucleotide matrix(ces).\n",
      "Sample 60 of 394, 'EN_CH_2', added to the nucleotide matrix(ces).\n",
      "Sample 61 of 394, 'EN_CH_3', added to the nucleotide matrix(ces).\n",
      "Sample 62 of 394, 'EN_CH_4', added to the nucleotide matrix(ces).\n",
      "Sample 63 of 394, 'EN_CH_5', added to the nucleotide matrix(ces).\n",
      "Sample 64 of 394, 'EN_CH_7', added to the nucleotide matrix(ces).\n",
      "Sample 65 of 394, 'EN_CI_1', added to the nucleotide matrix(ces).\n",
      "Sample 66 of 394, 'EN_CI_2', added to the nucleotide matrix(ces).\n",
      "Sample 67 of 394, 'EN_CI_3', added to the nucleotide matrix(ces).\n",
      "Sample 68 of 394, 'EN_CI_4', added to the nucleotide matrix(ces).\n",
      "Sample 69 of 394, 'EN_CI_5', added to the nucleotide matrix(ces).\n",
      "Sample 70 of 394, 'EN_CL_1', added to the nucleotide matrix(ces).\n",
      "Sample 71 of 394, 'EN_CL_2', added to the nucleotide matrix(ces).\n",
      "Sample 72 of 394, 'EN_CL_3', added to the nucleotide matrix(ces).\n",
      "Sample 73 of 394, 'EN_CL_4', added to the nucleotide matrix(ces).\n",
      "Sample 74 of 394, 'EN_CL_5', added to the nucleotide matrix(ces).\n",
      "Sample 75 of 394, 'EN_CN_1', added to the nucleotide matrix(ces).\n",
      "Sample 76 of 394, 'EN_CN_2', added to the nucleotide matrix(ces).\n",
      "Sample 77 of 394, 'EN_CN_4', added to the nucleotide matrix(ces).\n",
      "Sample 78 of 394, 'EN_CN_5', added to the nucleotide matrix(ces).\n",
      "Sample 79 of 394, 'EN_CN_6', added to the nucleotide matrix(ces).\n",
      "Sample 80 of 394, 'EN_CO_1', added to the nucleotide matrix(ces).\n",
      "Sample 81 of 394, 'EN_CO_2', added to the nucleotide matrix(ces).\n",
      "Sample 82 of 394, 'EN_CO_3', added to the nucleotide matrix(ces).\n",
      "Sample 83 of 394, 'EN_CO_4', added to the nucleotide matrix(ces).\n",
      "Sample 84 of 394, 'EN_CO_5', added to the nucleotide matrix(ces).\n",
      "Sample 85 of 394, 'EN_CS_1', added to the nucleotide matrix(ces).\n",
      "Sample 86 of 394, 'EN_CS_2', added to the nucleotide matrix(ces).\n",
      "Sample 87 of 394, 'EN_CS_3', added to the nucleotide matrix(ces).\n",
      "Sample 88 of 394, 'EN_CS_4', added to the nucleotide matrix(ces).\n",
      "Sample 89 of 394, 'EN_CS_5', added to the nucleotide matrix(ces).\n",
      "Sample 90 of 394, 'EN_CT_1', added to the nucleotide matrix(ces).\n",
      "Sample 91 of 394, 'EN_CT_2', added to the nucleotide matrix(ces).\n",
      "Sample 92 of 394, 'EN_CT_3', added to the nucleotide matrix(ces).\n",
      "Sample 93 of 394, 'EN_CT_4', added to the nucleotide matrix(ces).\n",
      "Sample 94 of 394, 'EN_CT_6', added to the nucleotide matrix(ces).\n",
      "Sample 95 of 394, 'EN_CV_1', added to the nucleotide matrix(ces).\n",
      "Sample 96 of 394, 'EN_CV_3', added to the nucleotide matrix(ces).\n",
      "Sample 97 of 394, 'EN_CV_4', added to the nucleotide matrix(ces).\n",
      "Sample 98 of 394, 'EN_CV_5', added to the nucleotide matrix(ces).\n",
      "Sample 99 of 394, 'EN_CV_6', added to the nucleotide matrix(ces).\n",
      "Sample 100 of 394, 'EN_DC_11', added to the nucleotide matrix(ces).\n",
      "Sample 101 of 394, 'EN_DC_12', added to the nucleotide matrix(ces).\n",
      "Sample 102 of 394, 'EN_DC_3', added to the nucleotide matrix(ces).\n",
      "Sample 103 of 394, 'EN_DC_5', added to the nucleotide matrix(ces).\n",
      "Sample 104 of 394, 'EN_DC_6', added to the nucleotide matrix(ces).\n",
      "Sample 105 of 394, 'EN_DC_8', added to the nucleotide matrix(ces).\n",
      "Sample 106 of 394, 'EN_DH_13', added to the nucleotide matrix(ces).\n",
      "Sample 107 of 394, 'EN_DH_14', added to the nucleotide matrix(ces).\n",
      "Sample 108 of 394, 'EN_DH_16', added to the nucleotide matrix(ces).\n",
      "Sample 109 of 394, 'EN_DH_19', added to the nucleotide matrix(ces).\n",
      "Sample 110 of 394, 'EN_DH_23', added to the nucleotide matrix(ces).\n",
      "Sample 111 of 394, 'EN_DM_1', added to the nucleotide matrix(ces).\n",
      "Sample 112 of 394, 'EN_DM_3', added to the nucleotide matrix(ces).\n",
      "Sample 113 of 394, 'EN_DM_4', added to the nucleotide matrix(ces).\n",
      "Sample 114 of 394, 'EN_DM_5', added to the nucleotide matrix(ces).\n",
      "Sample 115 of 394, 'EN_DT_1', added to the nucleotide matrix(ces).\n",
      "Sample 116 of 394, 'EN_DT_2', added to the nucleotide matrix(ces).\n",
      "Sample 117 of 394, 'EN_DT_3', added to the nucleotide matrix(ces).\n",
      "Sample 118 of 394, 'EN_DT_4', added to the nucleotide matrix(ces).\n",
      "Sample 119 of 394, 'EN_DT_6', added to the nucleotide matrix(ces).\n",
      "Sample 120 of 394, 'EN_ED_1', added to the nucleotide matrix(ces).\n",
      "Sample 121 of 394, 'EN_ED_2', added to the nucleotide matrix(ces).\n"
     ]
    },
    {
     "name": "stdout",
     "output_type": "stream",
     "text": [
      "Sample 122 of 394, 'EN_ED_3', added to the nucleotide matrix(ces).\n",
      "Sample 123 of 394, 'EN_EW_11', added to the nucleotide matrix(ces).\n",
      "Sample 124 of 394, 'EN_EW_12', added to the nucleotide matrix(ces).\n",
      "Sample 125 of 394, 'EN_EW_13', added to the nucleotide matrix(ces).\n",
      "Sample 126 of 394, 'EN_EW_14', added to the nucleotide matrix(ces).\n",
      "Sample 127 of 394, 'EN_EW_1', added to the nucleotide matrix(ces).\n",
      "Sample 128 of 394, 'EN_EW_2', added to the nucleotide matrix(ces).\n",
      "Sample 129 of 394, 'EN_EW_4', added to the nucleotide matrix(ces).\n",
      "Sample 130 of 394, 'EN_EW_5', added to the nucleotide matrix(ces).\n",
      "Sample 131 of 394, 'EN_EW_8', added to the nucleotide matrix(ces).\n",
      "Sample 132 of 394, 'EN_EW_9', added to the nucleotide matrix(ces).\n",
      "Sample 133 of 394, 'EN_FR_12', added to the nucleotide matrix(ces).\n",
      "Sample 134 of 394, 'EN_FR_14', added to the nucleotide matrix(ces).\n",
      "Sample 135 of 394, 'EN_FR_2', added to the nucleotide matrix(ces).\n",
      "Sample 136 of 394, 'EN_FR_4', added to the nucleotide matrix(ces).\n",
      "Sample 137 of 394, 'EN_FR_9', added to the nucleotide matrix(ces).\n",
      "Sample 138 of 394, 'EN_GB_16', added to the nucleotide matrix(ces).\n",
      "Sample 139 of 394, 'EN_GB_20', added to the nucleotide matrix(ces).\n",
      "Sample 140 of 394, 'EN_GB_21', added to the nucleotide matrix(ces).\n",
      "Sample 141 of 394, 'EN_GB_26', added to the nucleotide matrix(ces).\n",
      "Sample 142 of 394, 'EN_GB_28', added to the nucleotide matrix(ces).\n",
      "Sample 143 of 394, 'EN_GB_29', added to the nucleotide matrix(ces).\n",
      "Sample 144 of 394, 'EN_GB_30', added to the nucleotide matrix(ces).\n",
      "Sample 145 of 394, 'EN_GO_2', added to the nucleotide matrix(ces).\n",
      "Sample 146 of 394, 'EN_GO_3', added to the nucleotide matrix(ces).\n",
      "Sample 147 of 394, 'EN_GO_4', added to the nucleotide matrix(ces).\n",
      "Sample 148 of 394, 'EN_GO_5', added to the nucleotide matrix(ces).\n",
      "Sample 149 of 394, 'EN_GO_6', added to the nucleotide matrix(ces).\n",
      "Sample 150 of 394, 'EN_HL_1', added to the nucleotide matrix(ces).\n",
      "Sample 151 of 394, 'EN_HL_2', added to the nucleotide matrix(ces).\n",
      "Sample 152 of 394, 'EN_HL_3', added to the nucleotide matrix(ces).\n",
      "Sample 153 of 394, 'EN_HL_4', added to the nucleotide matrix(ces).\n",
      "Sample 154 of 394, 'EN_HL_5', added to the nucleotide matrix(ces).\n",
      "Sample 155 of 394, 'EN_HO_10', added to the nucleotide matrix(ces).\n",
      "Sample 156 of 394, 'EN_HO_13', added to the nucleotide matrix(ces).\n",
      "Sample 157 of 394, 'EN_HO_2', added to the nucleotide matrix(ces).\n",
      "Sample 158 of 394, 'EN_HO_3', added to the nucleotide matrix(ces).\n",
      "Sample 159 of 394, 'EN_HO_4', added to the nucleotide matrix(ces).\n",
      "Sample 160 of 394, 'EN_HO_9', added to the nucleotide matrix(ces).\n",
      "Sample 161 of 394, 'EN_HW_1', added to the nucleotide matrix(ces).\n",
      "Sample 162 of 394, 'EN_HW_2', added to the nucleotide matrix(ces).\n",
      "Sample 163 of 394, 'EN_HW_3', added to the nucleotide matrix(ces).\n",
      "Sample 164 of 394, 'EN_HW_4', added to the nucleotide matrix(ces).\n",
      "Sample 165 of 394, 'EN_HW_5', added to the nucleotide matrix(ces).\n",
      "Sample 166 of 394, 'EN_IH_1', added to the nucleotide matrix(ces).\n",
      "Sample 167 of 394, 'EN_IH_2', added to the nucleotide matrix(ces).\n",
      "Sample 168 of 394, 'EN_IH_3', added to the nucleotide matrix(ces).\n",
      "Sample 169 of 394, 'EN_IH_4', added to the nucleotide matrix(ces).\n",
      "Sample 170 of 394, 'EN_IH_5', added to the nucleotide matrix(ces).\n",
      "Sample 171 of 394, 'EN_IO_1', added to the nucleotide matrix(ces).\n",
      "Sample 172 of 394, 'EN_IO_2', added to the nucleotide matrix(ces).\n",
      "Sample 173 of 394, 'EN_IO_3', added to the nucleotide matrix(ces).\n",
      "Sample 174 of 394, 'EN_IO_4', added to the nucleotide matrix(ces).\n",
      "Sample 175 of 394, 'EN_IO_5', added to the nucleotide matrix(ces).\n",
      "Sample 176 of 394, 'EN_IT_1', added to the nucleotide matrix(ces).\n",
      "Sample 177 of 394, 'EN_IT_2', added to the nucleotide matrix(ces).\n",
      "Sample 178 of 394, 'EN_IT_3', added to the nucleotide matrix(ces).\n",
      "Sample 179 of 394, 'EN_IT_4', added to the nucleotide matrix(ces).\n",
      "Sample 180 of 394, 'EN_IT_5', added to the nucleotide matrix(ces).\n",
      "Sample 181 of 394, 'EN_JC_11', added to the nucleotide matrix(ces).\n",
      "Sample 182 of 394, 'EN_JC_12', added to the nucleotide matrix(ces).\n",
      "Sample 183 of 394, 'EN_JC_1', added to the nucleotide matrix(ces).\n",
      "Sample 184 of 394, 'EN_JC_5', added to the nucleotide matrix(ces).\n",
      "Sample 185 of 394, 'EN_JC_6', added to the nucleotide matrix(ces).\n",
      "Sample 186 of 394, 'EN_JO_2', added to the nucleotide matrix(ces).\n",
      "Sample 187 of 394, 'EN_JO_3', added to the nucleotide matrix(ces).\n",
      "Sample 188 of 394, 'EN_JO_4', added to the nucleotide matrix(ces).\n",
      "Sample 189 of 394, 'EN_JO_5', added to the nucleotide matrix(ces).\n",
      "Sample 190 of 394, 'EN_JO_6', added to the nucleotide matrix(ces).\n",
      "Sample 191 of 394, 'EN_JT_1', added to the nucleotide matrix(ces).\n",
      "Sample 192 of 394, 'EN_JT_2', added to the nucleotide matrix(ces).\n",
      "Sample 193 of 394, 'EN_JT_3', added to the nucleotide matrix(ces).\n",
      "Sample 194 of 394, 'EN_JT_4', added to the nucleotide matrix(ces).\n",
      "Sample 195 of 394, 'EN_JT_6', added to the nucleotide matrix(ces).\n",
      "Sample 196 of 394, 'EN_LA_2', added to the nucleotide matrix(ces).\n",
      "Sample 197 of 394, 'EN_LA_3', added to the nucleotide matrix(ces).\n",
      "Sample 198 of 394, 'EN_LA_4', added to the nucleotide matrix(ces).\n",
      "Sample 199 of 394, 'EN_LA_5', added to the nucleotide matrix(ces).\n",
      "Sample 200 of 394, 'EN_LA_6', added to the nucleotide matrix(ces).\n",
      "Sample 201 of 394, 'EN_LO_1', added to the nucleotide matrix(ces).\n",
      "Sample 202 of 394, 'EN_LO_2', added to the nucleotide matrix(ces).\n",
      "Sample 203 of 394, 'EN_LO_3', added to the nucleotide matrix(ces).\n",
      "Sample 204 of 394, 'EN_LO_4', added to the nucleotide matrix(ces).\n",
      "Sample 205 of 394, 'EN_LO_5', added to the nucleotide matrix(ces).\n",
      "Sample 206 of 394, 'EN_LR_2', added to the nucleotide matrix(ces).\n",
      "Sample 207 of 394, 'EN_LR_3', added to the nucleotide matrix(ces).\n",
      "Sample 208 of 394, 'EN_LR_4', added to the nucleotide matrix(ces).\n",
      "Sample 209 of 394, 'EN_LR_5', added to the nucleotide matrix(ces).\n",
      "Sample 210 of 394, 'EN_LR_7', added to the nucleotide matrix(ces).\n",
      "Sample 211 of 394, 'EN_LT_4', added to the nucleotide matrix(ces).\n",
      "Sample 212 of 394, 'EN_LT_5', added to the nucleotide matrix(ces).\n",
      "Sample 213 of 394, 'EN_LT_6', added to the nucleotide matrix(ces).\n",
      "Sample 214 of 394, 'EN_LV_16', added to the nucleotide matrix(ces).\n",
      "Sample 215 of 394, 'EN_LV_17', added to the nucleotide matrix(ces).\n",
      "Sample 216 of 394, 'EN_LV_22', added to the nucleotide matrix(ces).\n",
      "Sample 217 of 394, 'EN_LV_24', added to the nucleotide matrix(ces).\n",
      "Sample 218 of 394, 'EN_LV_26', added to the nucleotide matrix(ces).\n",
      "Sample 219 of 394, 'EN_LV_27', added to the nucleotide matrix(ces).\n",
      "Sample 220 of 394, 'EN_LV_28', added to the nucleotide matrix(ces).\n",
      "Sample 221 of 394, 'EN_LV_29', added to the nucleotide matrix(ces).\n",
      "Sample 222 of 394, 'EN_MC_2', added to the nucleotide matrix(ces).\n",
      "Sample 223 of 394, 'EN_MC_3', added to the nucleotide matrix(ces).\n",
      "Sample 224 of 394, 'EN_MC_4', added to the nucleotide matrix(ces).\n",
      "Sample 225 of 394, 'EN_MC_5', added to the nucleotide matrix(ces).\n",
      "Sample 226 of 394, 'EN_MC_6', added to the nucleotide matrix(ces).\n",
      "Sample 227 of 394, 'EN_MD_10', added to the nucleotide matrix(ces).\n",
      "Sample 228 of 394, 'EN_MD_12', added to the nucleotide matrix(ces).\n",
      "Sample 229 of 394, 'EN_MD_15', added to the nucleotide matrix(ces).\n",
      "Sample 230 of 394, 'EN_MD_3', added to the nucleotide matrix(ces).\n",
      "Sample 231 of 394, 'EN_MD_8', added to the nucleotide matrix(ces).\n",
      "Sample 232 of 394, 'EN_MR_3', added to the nucleotide matrix(ces).\n",
      "Sample 233 of 394, 'EN_MR_5', added to the nucleotide matrix(ces).\n",
      "Sample 234 of 394, 'EN_NH_2', added to the nucleotide matrix(ces).\n",
      "Sample 235 of 394, 'EN_NH_3', added to the nucleotide matrix(ces).\n",
      "Sample 236 of 394, 'EN_NH_4', added to the nucleotide matrix(ces).\n",
      "Sample 237 of 394, 'EN_NH_5', added to the nucleotide matrix(ces).\n",
      "Sample 238 of 394, 'EN_NH_6', added to the nucleotide matrix(ces).\n",
      "Sample 239 of 394, 'EN_NI_2', added to the nucleotide matrix(ces).\n",
      "Sample 240 of 394, 'EN_NI_3', added to the nucleotide matrix(ces).\n",
      "Sample 241 of 394, 'EN_NI_4', added to the nucleotide matrix(ces).\n",
      "Sample 242 of 394, 'EN_NI_5', added to the nucleotide matrix(ces).\n",
      "Sample 243 of 394, 'EN_NI_6', added to the nucleotide matrix(ces).\n"
     ]
    },
    {
     "name": "stdout",
     "output_type": "stream",
     "text": [
      "Sample 244 of 394, 'EN_NN_1', added to the nucleotide matrix(ces).\n",
      "Sample 245 of 394, 'EN_NN_2', added to the nucleotide matrix(ces).\n",
      "Sample 246 of 394, 'EN_NN_3', added to the nucleotide matrix(ces).\n",
      "Sample 247 of 394, 'EN_NN_4', added to the nucleotide matrix(ces).\n",
      "Sample 248 of 394, 'EN_NN_5', added to the nucleotide matrix(ces).\n",
      "Sample 249 of 394, 'EN_NN_6', added to the nucleotide matrix(ces).\n",
      "Sample 250 of 394, 'EN_NN_7', added to the nucleotide matrix(ces).\n",
      "Sample 251 of 394, 'EN_NN_8', added to the nucleotide matrix(ces).\n",
      "Sample 252 of 394, 'EN_NO_1', added to the nucleotide matrix(ces).\n",
      "Sample 253 of 394, 'EN_NO_2', added to the nucleotide matrix(ces).\n",
      "Sample 254 of 394, 'EN_NO_3', added to the nucleotide matrix(ces).\n",
      "Sample 255 of 394, 'EN_NO_4', added to the nucleotide matrix(ces).\n",
      "Sample 256 of 394, 'EN_NO_5', added to the nucleotide matrix(ces).\n",
      "Sample 257 of 394, 'EN_NT_1', added to the nucleotide matrix(ces).\n",
      "Sample 258 of 394, 'EN_NT_2', added to the nucleotide matrix(ces).\n",
      "Sample 259 of 394, 'EN_NT_3', added to the nucleotide matrix(ces).\n",
      "Sample 260 of 394, 'EN_NT_4', added to the nucleotide matrix(ces).\n",
      "Sample 261 of 394, 'EN_NT_5', added to the nucleotide matrix(ces).\n",
      "Sample 262 of 394, 'EN_NV_1', added to the nucleotide matrix(ces).\n",
      "Sample 263 of 394, 'EN_NV_2', added to the nucleotide matrix(ces).\n",
      "Sample 264 of 394, 'EN_NV_3', added to the nucleotide matrix(ces).\n",
      "Sample 265 of 394, 'EN_NV_4', added to the nucleotide matrix(ces).\n",
      "Sample 266 of 394, 'EN_NV_5', added to the nucleotide matrix(ces).\n",
      "Sample 267 of 394, 'EN_NV_6', added to the nucleotide matrix(ces).\n",
      "Sample 268 of 394, 'EN_OO_1', added to the nucleotide matrix(ces).\n",
      "Sample 269 of 394, 'EN_OO_2', added to the nucleotide matrix(ces).\n",
      "Sample 270 of 394, 'EN_OO_3', added to the nucleotide matrix(ces).\n",
      "Sample 271 of 394, 'EN_OO_5', added to the nucleotide matrix(ces).\n",
      "Sample 272 of 394, 'EN_OO_6', added to the nucleotide matrix(ces).\n",
      "Sample 273 of 394, 'EN_OT_1', added to the nucleotide matrix(ces).\n",
      "Sample 274 of 394, 'EN_OT_2', added to the nucleotide matrix(ces).\n",
      "Sample 275 of 394, 'EN_OT_3', added to the nucleotide matrix(ces).\n",
      "Sample 276 of 394, 'EN_OT_4', added to the nucleotide matrix(ces).\n",
      "Sample 277 of 394, 'EN_PB_1', added to the nucleotide matrix(ces).\n",
      "Sample 278 of 394, 'EN_PB_2', added to the nucleotide matrix(ces).\n",
      "Sample 279 of 394, 'EN_PB_3', added to the nucleotide matrix(ces).\n",
      "Sample 280 of 394, 'EN_PB_4', added to the nucleotide matrix(ces).\n",
      "Sample 281 of 394, 'EN_PB_5', added to the nucleotide matrix(ces).\n",
      "Sample 282 of 394, 'EN_PL_1', added to the nucleotide matrix(ces).\n",
      "Sample 283 of 394, 'EN_PL_20', added to the nucleotide matrix(ces).\n",
      "Sample 284 of 394, 'EN_PL_21', added to the nucleotide matrix(ces).\n",
      "Sample 285 of 394, 'EN_PL_25', added to the nucleotide matrix(ces).\n",
      "Sample 286 of 394, 'EN_PL_27', added to the nucleotide matrix(ces).\n",
      "Sample 287 of 394, 'EN_PT_10', added to the nucleotide matrix(ces).\n",
      "Sample 288 of 394, 'EN_PT_12', added to the nucleotide matrix(ces).\n",
      "Sample 289 of 394, 'EN_PT_13', added to the nucleotide matrix(ces).\n",
      "Sample 290 of 394, 'EN_PT_15', added to the nucleotide matrix(ces).\n",
      "Sample 291 of 394, 'EN_PT_2', added to the nucleotide matrix(ces).\n",
      "Sample 292 of 394, 'EN_PT_3', added to the nucleotide matrix(ces).\n",
      "Sample 293 of 394, 'EN_PT_4', added to the nucleotide matrix(ces).\n",
      "Sample 294 of 394, 'EN_PT_5', added to the nucleotide matrix(ces).\n",
      "Sample 295 of 394, 'EN_PT_7', added to the nucleotide matrix(ces).\n",
      "Sample 296 of 394, 'EN_PT_9', added to the nucleotide matrix(ces).\n",
      "Sample 297 of 394, 'EN_PW_13', added to the nucleotide matrix(ces).\n",
      "Sample 298 of 394, 'EN_PW_15', added to the nucleotide matrix(ces).\n",
      "Sample 299 of 394, 'EN_PW_1', added to the nucleotide matrix(ces).\n",
      "Sample 300 of 394, 'EN_PW_2', added to the nucleotide matrix(ces).\n",
      "Sample 301 of 394, 'EN_PW_3', added to the nucleotide matrix(ces).\n",
      "Sample 302 of 394, 'EN_PW_5', added to the nucleotide matrix(ces).\n",
      "Sample 303 of 394, 'EN_PW_7', added to the nucleotide matrix(ces).\n",
      "Sample 304 of 394, 'EN_PW_8', added to the nucleotide matrix(ces).\n",
      "Sample 305 of 394, 'EN_RH_2', added to the nucleotide matrix(ces).\n",
      "Sample 306 of 394, 'EN_RH_3', added to the nucleotide matrix(ces).\n",
      "Sample 307 of 394, 'EN_RH_4', added to the nucleotide matrix(ces).\n",
      "Sample 308 of 394, 'EN_RH_5', added to the nucleotide matrix(ces).\n",
      "Sample 309 of 394, 'EN_RH_6', added to the nucleotide matrix(ces).\n",
      "Sample 310 of 394, 'EN_RL_1', added to the nucleotide matrix(ces).\n",
      "Sample 311 of 394, 'EN_RL_2', added to the nucleotide matrix(ces).\n",
      "Sample 312 of 394, 'EN_RL_3', added to the nucleotide matrix(ces).\n",
      "Sample 313 of 394, 'EN_RL_4', added to the nucleotide matrix(ces).\n",
      "Sample 314 of 394, 'EN_RL_6', added to the nucleotide matrix(ces).\n",
      "Sample 315 of 394, 'EN_RO_1', added to the nucleotide matrix(ces).\n",
      "Sample 316 of 394, 'EN_RO_2', added to the nucleotide matrix(ces).\n",
      "Sample 317 of 394, 'EN_RO_4', added to the nucleotide matrix(ces).\n",
      "Sample 318 of 394, 'EN_RO_5', added to the nucleotide matrix(ces).\n",
      "Sample 319 of 394, 'EN_RO_6', added to the nucleotide matrix(ces).\n",
      "Sample 320 of 394, 'EN_RS_2', added to the nucleotide matrix(ces).\n",
      "Sample 321 of 394, 'EN_RS_4', added to the nucleotide matrix(ces).\n",
      "Sample 322 of 394, 'EN_RS_5', added to the nucleotide matrix(ces).\n",
      "Sample 323 of 394, 'EN_RS_6', added to the nucleotide matrix(ces).\n",
      "Sample 324 of 394, 'EN_RS_7', added to the nucleotide matrix(ces).\n",
      "Sample 325 of 394, 'EN_RT_1', added to the nucleotide matrix(ces).\n",
      "Sample 326 of 394, 'EN_RT_2', added to the nucleotide matrix(ces).\n",
      "Sample 327 of 394, 'EN_SC_10', added to the nucleotide matrix(ces).\n",
      "Sample 328 of 394, 'EN_SC_12', added to the nucleotide matrix(ces).\n",
      "Sample 329 of 394, 'EN_SC_1', added to the nucleotide matrix(ces).\n",
      "Sample 330 of 394, 'EN_SC_4', added to the nucleotide matrix(ces).\n",
      "Sample 331 of 394, 'EN_SC_6', added to the nucleotide matrix(ces).\n",
      "Sample 332 of 394, 'EN_SH_1', added to the nucleotide matrix(ces).\n",
      "Sample 333 of 394, 'EN_SH_2', added to the nucleotide matrix(ces).\n",
      "Sample 334 of 394, 'EN_SH_3', added to the nucleotide matrix(ces).\n",
      "Sample 335 of 394, 'EN_SH_4', added to the nucleotide matrix(ces).\n",
      "Sample 336 of 394, 'EN_SH_5', added to the nucleotide matrix(ces).\n",
      "Sample 337 of 394, 'EN_SJ_11', added to the nucleotide matrix(ces).\n",
      "Sample 338 of 394, 'EN_SJ_1', added to the nucleotide matrix(ces).\n",
      "Sample 339 of 394, 'EN_SJ_5', added to the nucleotide matrix(ces).\n",
      "Sample 340 of 394, 'EN_SJ_8', added to the nucleotide matrix(ces).\n",
      "Sample 341 of 394, 'EN_SJ_9', added to the nucleotide matrix(ces).\n",
      "Sample 342 of 394, 'EN_SL_2', added to the nucleotide matrix(ces).\n",
      "Sample 343 of 394, 'EN_SL_3', added to the nucleotide matrix(ces).\n",
      "Sample 344 of 394, 'EN_SL_4', added to the nucleotide matrix(ces).\n",
      "Sample 345 of 394, 'EN_SL_5', added to the nucleotide matrix(ces).\n",
      "Sample 346 of 394, 'EN_SL_6', added to the nucleotide matrix(ces).\n",
      "Sample 347 of 394, 'EN_SS_11', added to the nucleotide matrix(ces).\n",
      "Sample 348 of 394, 'EN_SS_13', added to the nucleotide matrix(ces).\n",
      "Sample 349 of 394, 'EN_SS_14', added to the nucleotide matrix(ces).\n",
      "Sample 350 of 394, 'EN_SS_2', added to the nucleotide matrix(ces).\n",
      "Sample 351 of 394, 'EN_SS_3', added to the nucleotide matrix(ces).\n",
      "Sample 352 of 394, 'EN_SS_6', added to the nucleotide matrix(ces).\n",
      "Sample 353 of 394, 'EN_SS_7', added to the nucleotide matrix(ces).\n",
      "Sample 354 of 394, 'EN_SS_8', added to the nucleotide matrix(ces).\n",
      "Sample 355 of 394, 'EN_SS_9', added to the nucleotide matrix(ces).\n",
      "Sample 356 of 394, 'EN_TO_2', added to the nucleotide matrix(ces).\n",
      "Sample 357 of 394, 'EN_TO_3', added to the nucleotide matrix(ces).\n",
      "Sample 358 of 394, 'EN_TO_4', added to the nucleotide matrix(ces).\n",
      "Sample 359 of 394, 'EN_TO_5', added to the nucleotide matrix(ces).\n",
      "Sample 360 of 394, 'EN_TO_6', added to the nucleotide matrix(ces).\n",
      "Sample 361 of 394, 'EN_TU_1', added to the nucleotide matrix(ces).\n",
      "Sample 362 of 394, 'EN_TU_2', added to the nucleotide matrix(ces).\n",
      "Sample 363 of 394, 'EN_TU_3', added to the nucleotide matrix(ces).\n",
      "Sample 364 of 394, 'EN_TU_4', added to the nucleotide matrix(ces).\n",
      "Sample 365 of 394, 'EN_TU_5', added to the nucleotide matrix(ces).\n",
      "Sample 366 of 394, 'EN_UN_1', added to the nucleotide matrix(ces).\n",
      "Sample 367 of 394, 'EN_UN_2', added to the nucleotide matrix(ces).\n",
      "Sample 368 of 394, 'EN_UO_1', added to the nucleotide matrix(ces).\n",
      "Sample 369 of 394, 'EN_UO_3', added to the nucleotide matrix(ces).\n"
     ]
    },
    {
     "name": "stdout",
     "output_type": "stream",
     "text": [
      "Sample 370 of 394, 'EN_UO_4', added to the nucleotide matrix(ces).\n",
      "Sample 371 of 394, 'EN_UO_5', added to the nucleotide matrix(ces).\n",
      "Sample 372 of 394, 'EN_UT_1', added to the nucleotide matrix(ces).\n",
      "Sample 373 of 394, 'EN_UT_2', added to the nucleotide matrix(ces).\n",
      "Sample 374 of 394, 'EN_UT_3', added to the nucleotide matrix(ces).\n",
      "Sample 375 of 394, 'EN_UT_4', added to the nucleotide matrix(ces).\n",
      "Sample 376 of 394, 'EN_UT_5', added to the nucleotide matrix(ces).\n",
      "Sample 377 of 394, 'EN_VI_1', added to the nucleotide matrix(ces).\n",
      "Sample 378 of 394, 'EN_VI_2', added to the nucleotide matrix(ces).\n",
      "Sample 379 of 394, 'EN_VI_3', added to the nucleotide matrix(ces).\n",
      "Sample 380 of 394, 'EN_VI_4', added to the nucleotide matrix(ces).\n",
      "Sample 381 of 394, 'EN_VI_5', added to the nucleotide matrix(ces).\n",
      "Sample 382 of 394, 'EN_VM_14', added to the nucleotide matrix(ces).\n",
      "Sample 383 of 394, 'EN_VM_2', added to the nucleotide matrix(ces).\n",
      "Sample 384 of 394, 'EN_VM_3', added to the nucleotide matrix(ces).\n",
      "Sample 385 of 394, 'EN_VM_7', added to the nucleotide matrix(ces).\n",
      "Sample 386 of 394, 'EN_VM_9', added to the nucleotide matrix(ces).\n",
      "Sample 387 of 394, 'EN_WA_1', added to the nucleotide matrix(ces).\n",
      "Sample 388 of 394, 'EN_WA_3', added to the nucleotide matrix(ces).\n",
      "Sample 389 of 394, 'EN_WA_6', added to the nucleotide matrix(ces).\n",
      "Sample 390 of 394, 'EN_YL_1', added to the nucleotide matrix(ces).\n",
      "Sample 391 of 394, 'EN_YL_3', added to the nucleotide matrix(ces).\n",
      "Sample 392 of 394, 'EN_YL_4', added to the nucleotide matrix(ces).\n",
      "Sample 393 of 394, 'EN_YL_5', added to the nucleotide matrix(ces).\n",
      "Sample 394 of 394, 'EN_YL_6', added to the nucleotide matrix(ces).\n",
      "\n",
      "PHYLIP matrix saved to: ERNA_all.recode.min4.phy\n",
      "\n",
      "Done!\n",
      "\n"
     ]
    }
   ],
   "source": [
    "!python $vcf2phy --i $vcf_all"
   ]
  },
  {
   "cell_type": "markdown",
   "metadata": {},
   "source": [
    "#### NOTE: ran once but invariant sites. rerun with new .phy file"
   ]
  },
  {
   "cell_type": "code",
   "execution_count": 85,
   "metadata": {},
   "outputs": [],
   "source": [
    "#phy_file = os.path.join(iqtree_dir,'ERNA_all.recode.min4.phy')\n",
    "phy_file = os.path.join(iqtree_dir,'ERNA_all.recode.min4.phy.varsites.phy')"
   ]
  },
  {
   "cell_type": "code",
   "execution_count": 86,
   "metadata": {},
   "outputs": [],
   "source": [
    "### select options for slurm allmission\n",
    "account = 'cpu-s5-denovo-0'\n",
    "partition = 'cpu-core-0'\n",
    "jobname = 'iqtree'\n",
    "time = '1-00:00:00' #time limit 1 day\n",
    "cpus = 16\n",
    "mem_cpu = 9000\n",
    "email = 'tfaske@nevada.unr.edu'\n",
    "\n",
    "### for iqtree\n",
    "model = 'GTR+ASC'\n",
    "bb = 1000 #bootstrap"
   ]
  },
  {
   "cell_type": "code",
   "execution_count": 87,
   "metadata": {},
   "outputs": [],
   "source": [
    "def write_iqtree_sh(account,partition,time,cpus,mem_cpu,email,iqtree_dir,phy,model,bb):\n",
    "    with open(\"run_all_iqtree.sh\", \"w\") as o:\n",
    "        o.write(\"\"\"#!/usr/bin/env bash\n",
    "#SBATCH --account=%s\n",
    "#SBATCH --partition=%s\n",
    "#SBATCH --time=%s\n",
    "#SBATCH --ntasks 1\n",
    "#SBATCH --cpus-per-task %d\n",
    "#SBATCH --mem-per-cpu=%d\n",
    "#SBATCH --job-name iqtree_all\n",
    "#SBATCH --output output_iqtree_all.txt\n",
    "#SBATCH --mail-type=END\n",
    "#SBATCH --mail-user=%s\n",
    "\n",
    "cd %s\n",
    "    \n",
    "iqtree -s %s -nt %d -m %s -st DNA -bb %d \\n\\n\"\"\" % (account,partition,time,int(cpus),int(mem_cpu),email,iqtree_dir,phy,int(cpus),model,bb))\n",
    "        \n",
    "        "
   ]
  },
  {
   "cell_type": "code",
   "execution_count": 88,
   "metadata": {},
   "outputs": [],
   "source": [
    "write_iqtree_sh(account,partition,time,cpus,mem_cpu,email,iqtree_dir,phy_file,model,bb)"
   ]
  },
  {
   "cell_type": "markdown",
   "metadata": {},
   "source": [
    "## Run IQtree (no hybrids)\n",
    "\n",
    "### VCF all no hybrids"
   ]
  },
  {
   "cell_type": "code",
   "execution_count": 89,
   "metadata": {},
   "outputs": [
    {
     "name": "stdout",
     "output_type": "stream",
     "text": [
      "/data/gpfs/assoc/denovo/tfaske/rabbit/full/REDO/phylo/iqtree\n"
     ]
    }
   ],
   "source": [
    "cd $iqtree_dir"
   ]
  },
  {
   "cell_type": "code",
   "execution_count": 90,
   "metadata": {},
   "outputs": [],
   "source": [
    "!cp '../subset_vcf/ERNA_all_noHyb.recode.vcf.gz' ."
   ]
  },
  {
   "cell_type": "code",
   "execution_count": 91,
   "metadata": {},
   "outputs": [],
   "source": [
    "!gunzip 'ERNA_all_noHyb.recode.vcf.gz'"
   ]
  },
  {
   "cell_type": "code",
   "execution_count": 92,
   "metadata": {},
   "outputs": [],
   "source": [
    "vcf2phy = '/data/gpfs/assoc/parchmanlab/tfaske/src/phylo/./vcf2phylip.py'"
   ]
  },
  {
   "cell_type": "code",
   "execution_count": 93,
   "metadata": {},
   "outputs": [],
   "source": [
    "vcf_all_noHyb = os.path.join(iqtree_dir,'ERNA_all_noHyb.recode.vcf')"
   ]
  },
  {
   "cell_type": "code",
   "execution_count": 94,
   "metadata": {},
   "outputs": [
    {
     "name": "stdout",
     "output_type": "stream",
     "text": [
      "\n",
      "Converting file '/data/gpfs/assoc/denovo/tfaske/rabbit/full/REDO/phylo/iqtree/ERNA_all_noHyb.recode.vcf':\n",
      "\n",
      "Number of samples in VCF: 287\n",
      "Total of genotypes processed: 20518\n",
      "Genotypes excluded because they exceeded the amount of missing data allowed: 0\n",
      "Genotypes that passed missing data filter but were excluded for being MNPs: 0\n",
      "SNPs that passed the filters: 20518\n",
      "\n",
      "Sample 1 of 287, 'EN_AH_15', added to the nucleotide matrix(ces).\n",
      "Sample 2 of 287, 'EN_AH_2', added to the nucleotide matrix(ces).\n",
      "Sample 3 of 287, 'EN_AH_4', added to the nucleotide matrix(ces).\n",
      "Sample 4 of 287, 'EN_AH_5', added to the nucleotide matrix(ces).\n",
      "Sample 5 of 287, 'EN_AH_9', added to the nucleotide matrix(ces).\n",
      "Sample 6 of 287, 'EN_AR_2', added to the nucleotide matrix(ces).\n",
      "Sample 7 of 287, 'EN_AR_3', added to the nucleotide matrix(ces).\n",
      "Sample 8 of 287, 'EN_AR_4', added to the nucleotide matrix(ces).\n",
      "Sample 9 of 287, 'EN_AR_5', added to the nucleotide matrix(ces).\n",
      "Sample 10 of 287, 'EN_AR_6', added to the nucleotide matrix(ces).\n",
      "Sample 11 of 287, 'EN_AS_16', added to the nucleotide matrix(ces).\n",
      "Sample 12 of 287, 'EN_AS_19', added to the nucleotide matrix(ces).\n",
      "Sample 13 of 287, 'EN_AS_20', added to the nucleotide matrix(ces).\n",
      "Sample 14 of 287, 'EN_AS_29', added to the nucleotide matrix(ces).\n",
      "Sample 15 of 287, 'EN_AS_30', added to the nucleotide matrix(ces).\n",
      "Sample 16 of 287, 'EN_BC_11', added to the nucleotide matrix(ces).\n",
      "Sample 17 of 287, 'EN_BC_12', added to the nucleotide matrix(ces).\n",
      "Sample 18 of 287, 'EN_BC_13', added to the nucleotide matrix(ces).\n",
      "Sample 19 of 287, 'EN_BC_7', added to the nucleotide matrix(ces).\n",
      "Sample 20 of 287, 'EN_BC_8', added to the nucleotide matrix(ces).\n",
      "Sample 21 of 287, 'EN_BH_1', added to the nucleotide matrix(ces).\n",
      "Sample 22 of 287, 'EN_BH_2', added to the nucleotide matrix(ces).\n",
      "Sample 23 of 287, 'EN_BH_4', added to the nucleotide matrix(ces).\n",
      "Sample 24 of 287, 'EN_BH_5', added to the nucleotide matrix(ces).\n",
      "Sample 25 of 287, 'EN_BH_6', added to the nucleotide matrix(ces).\n",
      "Sample 26 of 287, 'EN_BL_1', added to the nucleotide matrix(ces).\n",
      "Sample 27 of 287, 'EN_BL_2', added to the nucleotide matrix(ces).\n",
      "Sample 28 of 287, 'EN_BL_4', added to the nucleotide matrix(ces).\n",
      "Sample 29 of 287, 'EN_BL_5', added to the nucleotide matrix(ces).\n",
      "Sample 30 of 287, 'EN_BL_6', added to the nucleotide matrix(ces).\n",
      "Sample 31 of 287, 'EN_BM_18', added to the nucleotide matrix(ces).\n",
      "Sample 32 of 287, 'EN_BM_21', added to the nucleotide matrix(ces).\n",
      "Sample 33 of 287, 'EN_BM_23', added to the nucleotide matrix(ces).\n",
      "Sample 34 of 287, 'EN_BM_24', added to the nucleotide matrix(ces).\n",
      "Sample 35 of 287, 'EN_BM_30', added to the nucleotide matrix(ces).\n",
      "Sample 36 of 287, 'EN_BO_2', added to the nucleotide matrix(ces).\n",
      "Sample 37 of 287, 'EN_BO_3', added to the nucleotide matrix(ces).\n",
      "Sample 38 of 287, 'EN_BO_4', added to the nucleotide matrix(ces).\n",
      "Sample 39 of 287, 'EN_BO_5', added to the nucleotide matrix(ces).\n",
      "Sample 40 of 287, 'EN_BO_6', added to the nucleotide matrix(ces).\n",
      "Sample 41 of 287, 'EN_BT_1', added to the nucleotide matrix(ces).\n",
      "Sample 42 of 287, 'EN_BT_3', added to the nucleotide matrix(ces).\n",
      "Sample 43 of 287, 'EN_BT_4', added to the nucleotide matrix(ces).\n",
      "Sample 44 of 287, 'EN_BT_5', added to the nucleotide matrix(ces).\n",
      "Sample 45 of 287, 'EN_BT_6', added to the nucleotide matrix(ces).\n",
      "Sample 46 of 287, 'EN_BV_18', added to the nucleotide matrix(ces).\n",
      "Sample 47 of 287, 'EN_BV_20', added to the nucleotide matrix(ces).\n",
      "Sample 48 of 287, 'EN_BV_26', added to the nucleotide matrix(ces).\n",
      "Sample 49 of 287, 'EN_BV_27', added to the nucleotide matrix(ces).\n",
      "Sample 50 of 287, 'EN_BV_30', added to the nucleotide matrix(ces).\n",
      "Sample 51 of 287, 'EN_CH_2', added to the nucleotide matrix(ces).\n",
      "Sample 52 of 287, 'EN_CH_3', added to the nucleotide matrix(ces).\n",
      "Sample 53 of 287, 'EN_CH_4', added to the nucleotide matrix(ces).\n",
      "Sample 54 of 287, 'EN_CH_5', added to the nucleotide matrix(ces).\n",
      "Sample 55 of 287, 'EN_CH_7', added to the nucleotide matrix(ces).\n",
      "Sample 56 of 287, 'EN_CI_1', added to the nucleotide matrix(ces).\n",
      "Sample 57 of 287, 'EN_CI_2', added to the nucleotide matrix(ces).\n",
      "Sample 58 of 287, 'EN_CI_3', added to the nucleotide matrix(ces).\n",
      "Sample 59 of 287, 'EN_CI_4', added to the nucleotide matrix(ces).\n",
      "Sample 60 of 287, 'EN_CI_5', added to the nucleotide matrix(ces).\n",
      "Sample 61 of 287, 'EN_CL_1', added to the nucleotide matrix(ces).\n",
      "Sample 62 of 287, 'EN_CL_2', added to the nucleotide matrix(ces).\n",
      "Sample 63 of 287, 'EN_CL_3', added to the nucleotide matrix(ces).\n",
      "Sample 64 of 287, 'EN_CL_4', added to the nucleotide matrix(ces).\n",
      "Sample 65 of 287, 'EN_CL_5', added to the nucleotide matrix(ces).\n",
      "Sample 66 of 287, 'EN_CN_1', added to the nucleotide matrix(ces).\n",
      "Sample 67 of 287, 'EN_CN_2', added to the nucleotide matrix(ces).\n",
      "Sample 68 of 287, 'EN_CN_4', added to the nucleotide matrix(ces).\n",
      "Sample 69 of 287, 'EN_CN_5', added to the nucleotide matrix(ces).\n",
      "Sample 70 of 287, 'EN_CN_6', added to the nucleotide matrix(ces).\n",
      "Sample 71 of 287, 'EN_CO_1', added to the nucleotide matrix(ces).\n",
      "Sample 72 of 287, 'EN_CO_2', added to the nucleotide matrix(ces).\n",
      "Sample 73 of 287, 'EN_CO_3', added to the nucleotide matrix(ces).\n",
      "Sample 74 of 287, 'EN_CO_4', added to the nucleotide matrix(ces).\n",
      "Sample 75 of 287, 'EN_CO_5', added to the nucleotide matrix(ces).\n",
      "Sample 76 of 287, 'EN_CS_1', added to the nucleotide matrix(ces).\n",
      "Sample 77 of 287, 'EN_CS_2', added to the nucleotide matrix(ces).\n",
      "Sample 78 of 287, 'EN_CS_3', added to the nucleotide matrix(ces).\n",
      "Sample 79 of 287, 'EN_CS_4', added to the nucleotide matrix(ces).\n",
      "Sample 80 of 287, 'EN_CS_5', added to the nucleotide matrix(ces).\n",
      "Sample 81 of 287, 'EN_CT_1', added to the nucleotide matrix(ces).\n",
      "Sample 82 of 287, 'EN_CT_2', added to the nucleotide matrix(ces).\n",
      "Sample 83 of 287, 'EN_CT_3', added to the nucleotide matrix(ces).\n",
      "Sample 84 of 287, 'EN_CT_4', added to the nucleotide matrix(ces).\n",
      "Sample 85 of 287, 'EN_CT_6', added to the nucleotide matrix(ces).\n",
      "Sample 86 of 287, 'EN_DC_11', added to the nucleotide matrix(ces).\n",
      "Sample 87 of 287, 'EN_DC_12', added to the nucleotide matrix(ces).\n",
      "Sample 88 of 287, 'EN_DC_5', added to the nucleotide matrix(ces).\n",
      "Sample 89 of 287, 'EN_DC_6', added to the nucleotide matrix(ces).\n",
      "Sample 90 of 287, 'EN_DC_8', added to the nucleotide matrix(ces).\n",
      "Sample 91 of 287, 'EN_DH_13', added to the nucleotide matrix(ces).\n",
      "Sample 92 of 287, 'EN_DH_14', added to the nucleotide matrix(ces).\n",
      "Sample 93 of 287, 'EN_DH_16', added to the nucleotide matrix(ces).\n",
      "Sample 94 of 287, 'EN_DH_19', added to the nucleotide matrix(ces).\n",
      "Sample 95 of 287, 'EN_DH_23', added to the nucleotide matrix(ces).\n",
      "Sample 96 of 287, 'EN_DM_1', added to the nucleotide matrix(ces).\n",
      "Sample 97 of 287, 'EN_DM_3', added to the nucleotide matrix(ces).\n",
      "Sample 98 of 287, 'EN_DM_4', added to the nucleotide matrix(ces).\n",
      "Sample 99 of 287, 'EN_DM_5', added to the nucleotide matrix(ces).\n",
      "Sample 100 of 287, 'EN_DT_1', added to the nucleotide matrix(ces).\n",
      "Sample 101 of 287, 'EN_DT_2', added to the nucleotide matrix(ces).\n",
      "Sample 102 of 287, 'EN_DT_3', added to the nucleotide matrix(ces).\n",
      "Sample 103 of 287, 'EN_DT_4', added to the nucleotide matrix(ces).\n",
      "Sample 104 of 287, 'EN_DT_6', added to the nucleotide matrix(ces).\n",
      "Sample 105 of 287, 'EN_ED_1', added to the nucleotide matrix(ces).\n",
      "Sample 106 of 287, 'EN_ED_2', added to the nucleotide matrix(ces).\n",
      "Sample 107 of 287, 'EN_ED_3', added to the nucleotide matrix(ces).\n",
      "Sample 108 of 287, 'EN_EW_11', added to the nucleotide matrix(ces).\n",
      "Sample 109 of 287, 'EN_EW_12', added to the nucleotide matrix(ces).\n",
      "Sample 110 of 287, 'EN_EW_13', added to the nucleotide matrix(ces).\n",
      "Sample 111 of 287, 'EN_EW_14', added to the nucleotide matrix(ces).\n",
      "Sample 112 of 287, 'EN_EW_2', added to the nucleotide matrix(ces).\n",
      "Sample 113 of 287, 'EN_EW_4', added to the nucleotide matrix(ces).\n",
      "Sample 114 of 287, 'EN_EW_5', added to the nucleotide matrix(ces).\n",
      "Sample 115 of 287, 'EN_EW_9', added to the nucleotide matrix(ces).\n",
      "Sample 116 of 287, 'EN_FR_12', added to the nucleotide matrix(ces).\n",
      "Sample 117 of 287, 'EN_FR_14', added to the nucleotide matrix(ces).\n",
      "Sample 118 of 287, 'EN_FR_2', added to the nucleotide matrix(ces).\n"
     ]
    },
    {
     "name": "stdout",
     "output_type": "stream",
     "text": [
      "Sample 119 of 287, 'EN_FR_4', added to the nucleotide matrix(ces).\n",
      "Sample 120 of 287, 'EN_FR_9', added to the nucleotide matrix(ces).\n",
      "Sample 121 of 287, 'EN_GB_16', added to the nucleotide matrix(ces).\n",
      "Sample 122 of 287, 'EN_GB_26', added to the nucleotide matrix(ces).\n",
      "Sample 123 of 287, 'EN_GO_2', added to the nucleotide matrix(ces).\n",
      "Sample 124 of 287, 'EN_GO_3', added to the nucleotide matrix(ces).\n",
      "Sample 125 of 287, 'EN_GO_4', added to the nucleotide matrix(ces).\n",
      "Sample 126 of 287, 'EN_GO_5', added to the nucleotide matrix(ces).\n",
      "Sample 127 of 287, 'EN_GO_6', added to the nucleotide matrix(ces).\n",
      "Sample 128 of 287, 'EN_HO_10', added to the nucleotide matrix(ces).\n",
      "Sample 129 of 287, 'EN_HO_13', added to the nucleotide matrix(ces).\n",
      "Sample 130 of 287, 'EN_HO_2', added to the nucleotide matrix(ces).\n",
      "Sample 131 of 287, 'EN_HO_4', added to the nucleotide matrix(ces).\n",
      "Sample 132 of 287, 'EN_HO_9', added to the nucleotide matrix(ces).\n",
      "Sample 133 of 287, 'EN_HW_1', added to the nucleotide matrix(ces).\n",
      "Sample 134 of 287, 'EN_HW_2', added to the nucleotide matrix(ces).\n",
      "Sample 135 of 287, 'EN_HW_3', added to the nucleotide matrix(ces).\n",
      "Sample 136 of 287, 'EN_HW_4', added to the nucleotide matrix(ces).\n",
      "Sample 137 of 287, 'EN_IH_1', added to the nucleotide matrix(ces).\n",
      "Sample 138 of 287, 'EN_IH_2', added to the nucleotide matrix(ces).\n",
      "Sample 139 of 287, 'EN_IH_3', added to the nucleotide matrix(ces).\n",
      "Sample 140 of 287, 'EN_IH_4', added to the nucleotide matrix(ces).\n",
      "Sample 141 of 287, 'EN_IH_5', added to the nucleotide matrix(ces).\n",
      "Sample 142 of 287, 'EN_JC_11', added to the nucleotide matrix(ces).\n",
      "Sample 143 of 287, 'EN_JC_12', added to the nucleotide matrix(ces).\n",
      "Sample 144 of 287, 'EN_JC_1', added to the nucleotide matrix(ces).\n",
      "Sample 145 of 287, 'EN_JC_5', added to the nucleotide matrix(ces).\n",
      "Sample 146 of 287, 'EN_JC_6', added to the nucleotide matrix(ces).\n",
      "Sample 147 of 287, 'EN_JO_2', added to the nucleotide matrix(ces).\n",
      "Sample 148 of 287, 'EN_JO_3', added to the nucleotide matrix(ces).\n",
      "Sample 149 of 287, 'EN_JO_4', added to the nucleotide matrix(ces).\n",
      "Sample 150 of 287, 'EN_JO_5', added to the nucleotide matrix(ces).\n",
      "Sample 151 of 287, 'EN_JO_6', added to the nucleotide matrix(ces).\n",
      "Sample 152 of 287, 'EN_JT_1', added to the nucleotide matrix(ces).\n",
      "Sample 153 of 287, 'EN_JT_2', added to the nucleotide matrix(ces).\n",
      "Sample 154 of 287, 'EN_JT_3', added to the nucleotide matrix(ces).\n",
      "Sample 155 of 287, 'EN_JT_4', added to the nucleotide matrix(ces).\n",
      "Sample 156 of 287, 'EN_JT_6', added to the nucleotide matrix(ces).\n",
      "Sample 157 of 287, 'EN_LO_1', added to the nucleotide matrix(ces).\n",
      "Sample 158 of 287, 'EN_LO_2', added to the nucleotide matrix(ces).\n",
      "Sample 159 of 287, 'EN_LO_3', added to the nucleotide matrix(ces).\n",
      "Sample 160 of 287, 'EN_LO_4', added to the nucleotide matrix(ces).\n",
      "Sample 161 of 287, 'EN_LO_5', added to the nucleotide matrix(ces).\n",
      "Sample 162 of 287, 'EN_LR_2', added to the nucleotide matrix(ces).\n",
      "Sample 163 of 287, 'EN_LR_3', added to the nucleotide matrix(ces).\n",
      "Sample 164 of 287, 'EN_LR_4', added to the nucleotide matrix(ces).\n",
      "Sample 165 of 287, 'EN_LR_5', added to the nucleotide matrix(ces).\n",
      "Sample 166 of 287, 'EN_LR_7', added to the nucleotide matrix(ces).\n",
      "Sample 167 of 287, 'EN_LT_4', added to the nucleotide matrix(ces).\n",
      "Sample 168 of 287, 'EN_LT_5', added to the nucleotide matrix(ces).\n",
      "Sample 169 of 287, 'EN_LT_6', added to the nucleotide matrix(ces).\n",
      "Sample 170 of 287, 'EN_LV_17', added to the nucleotide matrix(ces).\n",
      "Sample 171 of 287, 'EN_LV_22', added to the nucleotide matrix(ces).\n",
      "Sample 172 of 287, 'EN_LV_24', added to the nucleotide matrix(ces).\n",
      "Sample 173 of 287, 'EN_LV_28', added to the nucleotide matrix(ces).\n",
      "Sample 174 of 287, 'EN_LV_29', added to the nucleotide matrix(ces).\n",
      "Sample 175 of 287, 'EN_MC_2', added to the nucleotide matrix(ces).\n",
      "Sample 176 of 287, 'EN_MC_3', added to the nucleotide matrix(ces).\n",
      "Sample 177 of 287, 'EN_MC_4', added to the nucleotide matrix(ces).\n",
      "Sample 178 of 287, 'EN_MC_5', added to the nucleotide matrix(ces).\n",
      "Sample 179 of 287, 'EN_MC_6', added to the nucleotide matrix(ces).\n",
      "Sample 180 of 287, 'EN_MD_10', added to the nucleotide matrix(ces).\n",
      "Sample 181 of 287, 'EN_MD_12', added to the nucleotide matrix(ces).\n",
      "Sample 182 of 287, 'EN_MD_15', added to the nucleotide matrix(ces).\n",
      "Sample 183 of 287, 'EN_MD_3', added to the nucleotide matrix(ces).\n",
      "Sample 184 of 287, 'EN_MD_8', added to the nucleotide matrix(ces).\n",
      "Sample 185 of 287, 'EN_MR_3', added to the nucleotide matrix(ces).\n",
      "Sample 186 of 287, 'EN_MR_5', added to the nucleotide matrix(ces).\n",
      "Sample 187 of 287, 'EN_NI_2', added to the nucleotide matrix(ces).\n",
      "Sample 188 of 287, 'EN_NI_3', added to the nucleotide matrix(ces).\n",
      "Sample 189 of 287, 'EN_NI_4', added to the nucleotide matrix(ces).\n",
      "Sample 190 of 287, 'EN_NI_5', added to the nucleotide matrix(ces).\n",
      "Sample 191 of 287, 'EN_NI_6', added to the nucleotide matrix(ces).\n",
      "Sample 192 of 287, 'EN_NN_1', added to the nucleotide matrix(ces).\n",
      "Sample 193 of 287, 'EN_NN_2', added to the nucleotide matrix(ces).\n",
      "Sample 194 of 287, 'EN_NN_3', added to the nucleotide matrix(ces).\n",
      "Sample 195 of 287, 'EN_NN_4', added to the nucleotide matrix(ces).\n",
      "Sample 196 of 287, 'EN_NN_5', added to the nucleotide matrix(ces).\n",
      "Sample 197 of 287, 'EN_NN_6', added to the nucleotide matrix(ces).\n",
      "Sample 198 of 287, 'EN_NN_7', added to the nucleotide matrix(ces).\n",
      "Sample 199 of 287, 'EN_NN_8', added to the nucleotide matrix(ces).\n",
      "Sample 200 of 287, 'EN_NV_1', added to the nucleotide matrix(ces).\n",
      "Sample 201 of 287, 'EN_NV_2', added to the nucleotide matrix(ces).\n",
      "Sample 202 of 287, 'EN_NV_3', added to the nucleotide matrix(ces).\n",
      "Sample 203 of 287, 'EN_NV_4', added to the nucleotide matrix(ces).\n",
      "Sample 204 of 287, 'EN_NV_5', added to the nucleotide matrix(ces).\n",
      "Sample 205 of 287, 'EN_NV_6', added to the nucleotide matrix(ces).\n",
      "Sample 206 of 287, 'EN_OT_1', added to the nucleotide matrix(ces).\n",
      "Sample 207 of 287, 'EN_OT_2', added to the nucleotide matrix(ces).\n",
      "Sample 208 of 287, 'EN_OT_3', added to the nucleotide matrix(ces).\n",
      "Sample 209 of 287, 'EN_OT_4', added to the nucleotide matrix(ces).\n",
      "Sample 210 of 287, 'EN_PB_1', added to the nucleotide matrix(ces).\n",
      "Sample 211 of 287, 'EN_PB_2', added to the nucleotide matrix(ces).\n",
      "Sample 212 of 287, 'EN_PB_3', added to the nucleotide matrix(ces).\n",
      "Sample 213 of 287, 'EN_PB_4', added to the nucleotide matrix(ces).\n",
      "Sample 214 of 287, 'EN_PB_5', added to the nucleotide matrix(ces).\n",
      "Sample 215 of 287, 'EN_PL_1', added to the nucleotide matrix(ces).\n",
      "Sample 216 of 287, 'EN_PL_20', added to the nucleotide matrix(ces).\n",
      "Sample 217 of 287, 'EN_PL_21', added to the nucleotide matrix(ces).\n",
      "Sample 218 of 287, 'EN_PL_25', added to the nucleotide matrix(ces).\n",
      "Sample 219 of 287, 'EN_PL_27', added to the nucleotide matrix(ces).\n",
      "Sample 220 of 287, 'EN_PT_15', added to the nucleotide matrix(ces).\n",
      "Sample 221 of 287, 'EN_PT_3', added to the nucleotide matrix(ces).\n",
      "Sample 222 of 287, 'EN_PT_4', added to the nucleotide matrix(ces).\n",
      "Sample 223 of 287, 'EN_PT_5', added to the nucleotide matrix(ces).\n",
      "Sample 224 of 287, 'EN_PT_7', added to the nucleotide matrix(ces).\n",
      "Sample 225 of 287, 'EN_PW_1', added to the nucleotide matrix(ces).\n",
      "Sample 226 of 287, 'EN_PW_2', added to the nucleotide matrix(ces).\n",
      "Sample 227 of 287, 'EN_PW_3', added to the nucleotide matrix(ces).\n",
      "Sample 228 of 287, 'EN_PW_5', added to the nucleotide matrix(ces).\n",
      "Sample 229 of 287, 'EN_PW_8', added to the nucleotide matrix(ces).\n",
      "Sample 230 of 287, 'EN_RL_1', added to the nucleotide matrix(ces).\n",
      "Sample 231 of 287, 'EN_RL_2', added to the nucleotide matrix(ces).\n",
      "Sample 232 of 287, 'EN_RL_3', added to the nucleotide matrix(ces).\n",
      "Sample 233 of 287, 'EN_RL_4', added to the nucleotide matrix(ces).\n",
      "Sample 234 of 287, 'EN_RL_6', added to the nucleotide matrix(ces).\n",
      "Sample 235 of 287, 'EN_RS_2', added to the nucleotide matrix(ces).\n",
      "Sample 236 of 287, 'EN_RS_4', added to the nucleotide matrix(ces).\n",
      "Sample 237 of 287, 'EN_RS_5', added to the nucleotide matrix(ces).\n",
      "Sample 238 of 287, 'EN_RS_6', added to the nucleotide matrix(ces).\n",
      "Sample 239 of 287, 'EN_RS_7', added to the nucleotide matrix(ces).\n",
      "Sample 240 of 287, 'EN_SC_10', added to the nucleotide matrix(ces).\n",
      "Sample 241 of 287, 'EN_SC_12', added to the nucleotide matrix(ces).\n",
      "Sample 242 of 287, 'EN_SC_1', added to the nucleotide matrix(ces).\n",
      "Sample 243 of 287, 'EN_SC_4', added to the nucleotide matrix(ces).\n"
     ]
    },
    {
     "name": "stdout",
     "output_type": "stream",
     "text": [
      "Sample 244 of 287, 'EN_SC_6', added to the nucleotide matrix(ces).\n",
      "Sample 245 of 287, 'EN_SH_1', added to the nucleotide matrix(ces).\n",
      "Sample 246 of 287, 'EN_SH_2', added to the nucleotide matrix(ces).\n",
      "Sample 247 of 287, 'EN_SH_3', added to the nucleotide matrix(ces).\n",
      "Sample 248 of 287, 'EN_SH_4', added to the nucleotide matrix(ces).\n",
      "Sample 249 of 287, 'EN_SH_5', added to the nucleotide matrix(ces).\n",
      "Sample 250 of 287, 'EN_SJ_11', added to the nucleotide matrix(ces).\n",
      "Sample 251 of 287, 'EN_SJ_1', added to the nucleotide matrix(ces).\n",
      "Sample 252 of 287, 'EN_SJ_5', added to the nucleotide matrix(ces).\n",
      "Sample 253 of 287, 'EN_SJ_8', added to the nucleotide matrix(ces).\n",
      "Sample 254 of 287, 'EN_SJ_9', added to the nucleotide matrix(ces).\n",
      "Sample 255 of 287, 'EN_SL_2', added to the nucleotide matrix(ces).\n",
      "Sample 256 of 287, 'EN_SL_3', added to the nucleotide matrix(ces).\n",
      "Sample 257 of 287, 'EN_SL_4', added to the nucleotide matrix(ces).\n",
      "Sample 258 of 287, 'EN_SL_5', added to the nucleotide matrix(ces).\n",
      "Sample 259 of 287, 'EN_SL_6', added to the nucleotide matrix(ces).\n",
      "Sample 260 of 287, 'EN_SS_13', added to the nucleotide matrix(ces).\n",
      "Sample 261 of 287, 'EN_SS_2', added to the nucleotide matrix(ces).\n",
      "Sample 262 of 287, 'EN_SS_3', added to the nucleotide matrix(ces).\n",
      "Sample 263 of 287, 'EN_SS_6', added to the nucleotide matrix(ces).\n",
      "Sample 264 of 287, 'EN_SS_9', added to the nucleotide matrix(ces).\n",
      "Sample 265 of 287, 'EN_TU_1', added to the nucleotide matrix(ces).\n",
      "Sample 266 of 287, 'EN_TU_2', added to the nucleotide matrix(ces).\n",
      "Sample 267 of 287, 'EN_TU_3', added to the nucleotide matrix(ces).\n",
      "Sample 268 of 287, 'EN_TU_4', added to the nucleotide matrix(ces).\n",
      "Sample 269 of 287, 'EN_TU_5', added to the nucleotide matrix(ces).\n",
      "Sample 270 of 287, 'EN_UT_1', added to the nucleotide matrix(ces).\n",
      "Sample 271 of 287, 'EN_UT_2', added to the nucleotide matrix(ces).\n",
      "Sample 272 of 287, 'EN_UT_3', added to the nucleotide matrix(ces).\n",
      "Sample 273 of 287, 'EN_UT_4', added to the nucleotide matrix(ces).\n",
      "Sample 274 of 287, 'EN_UT_5', added to the nucleotide matrix(ces).\n",
      "Sample 275 of 287, 'EN_VM_14', added to the nucleotide matrix(ces).\n",
      "Sample 276 of 287, 'EN_VM_2', added to the nucleotide matrix(ces).\n",
      "Sample 277 of 287, 'EN_VM_3', added to the nucleotide matrix(ces).\n",
      "Sample 278 of 287, 'EN_VM_7', added to the nucleotide matrix(ces).\n",
      "Sample 279 of 287, 'EN_VM_9', added to the nucleotide matrix(ces).\n",
      "Sample 280 of 287, 'EN_WA_1', added to the nucleotide matrix(ces).\n",
      "Sample 281 of 287, 'EN_WA_3', added to the nucleotide matrix(ces).\n",
      "Sample 282 of 287, 'EN_WA_6', added to the nucleotide matrix(ces).\n",
      "Sample 283 of 287, 'EN_YL_1', added to the nucleotide matrix(ces).\n",
      "Sample 284 of 287, 'EN_YL_3', added to the nucleotide matrix(ces).\n",
      "Sample 285 of 287, 'EN_YL_4', added to the nucleotide matrix(ces).\n",
      "Sample 286 of 287, 'EN_YL_5', added to the nucleotide matrix(ces).\n",
      "Sample 287 of 287, 'EN_YL_6', added to the nucleotide matrix(ces).\n",
      "\n",
      "PHYLIP matrix saved to: ERNA_all_noHyb.recode.min4.phy\n",
      "\n",
      "Done!\n",
      "\n"
     ]
    }
   ],
   "source": [
    "!python $vcf2phy --i $vcf_all_noHyb"
   ]
  },
  {
   "cell_type": "markdown",
   "metadata": {},
   "source": [
    "#### NOTE: ran once but invariant sites. rerun with new .phy file"
   ]
  },
  {
   "cell_type": "code",
   "execution_count": 99,
   "metadata": {},
   "outputs": [],
   "source": [
    "#phy_file = os.path.join(iqtree_dir,'ERNA_all_noHyb.recode.min4.phy')\n",
    "phy_file = os.path.join(iqtree_dir,'ERNA_all_noHyb.recode.min4.phy.varsites.phy')"
   ]
  },
  {
   "cell_type": "code",
   "execution_count": 100,
   "metadata": {},
   "outputs": [],
   "source": [
    "### select options for slurm allmission\n",
    "account = 'cpu-s5-denovo-0'\n",
    "partition = 'cpu-core-0'\n",
    "jobname = 'iqtree'\n",
    "time = '4-00:00:00' #time limit 1 day\n",
    "cpus = 16\n",
    "mem_cpu = 9000\n",
    "email = 'tfaske@nevada.unr.edu'\n",
    "\n",
    "### for iqtree\n",
    "model = 'GTR+ASC'\n",
    "bb = 1000 #bootstrap"
   ]
  },
  {
   "cell_type": "code",
   "execution_count": 101,
   "metadata": {},
   "outputs": [],
   "source": [
    "def write_iqtree_sh(account,partition,time,cpus,mem_cpu,email,iqtree_dir,phy,model,bb):\n",
    "    with open(\"run_all_noHyb_iqtree.sh\", \"w\") as o:\n",
    "        o.write(\"\"\"#!/usr/bin/env bash\n",
    "#SBATCH --account=%s\n",
    "#SBATCH --partition=%s\n",
    "#SBATCH --time=%s\n",
    "#SBATCH --ntasks 1\n",
    "#SBATCH --cpus-per-task %d\n",
    "#SBATCH --mem-per-cpu=%d\n",
    "#SBATCH --job-name iqtree_all_noHyb\n",
    "#SBATCH --output output_iqtree_all_noHyb.txt\n",
    "#SBATCH --mail-type=END\n",
    "#SBATCH --mail-user=%s\n",
    "\n",
    "cd %s\n",
    "    \n",
    "iqtree -s %s -nt %d -m %s -st DNA -bb %d \\n\\n\"\"\" % (account,partition,time,int(cpus),int(mem_cpu),email,iqtree_dir,phy,int(cpus),model,bb))\n",
    "        \n",
    "        "
   ]
  },
  {
   "cell_type": "code",
   "execution_count": 102,
   "metadata": {},
   "outputs": [],
   "source": [
    "write_iqtree_sh(account,partition,time,cpus,mem_cpu,email,iqtree_dir,phy_file,model,bb)"
   ]
  },
  {
   "cell_type": "markdown",
   "metadata": {},
   "source": [
    "# Run iqtree.sh\n",
    "    cd /data/gpfs/home/tfaske/d/rabbit/full/phylo/iqtree\n",
    "    source activate py311\n",
    "    sbatch run_iqtree.sh"
   ]
  },
  {
   "cell_type": "code",
   "execution_count": null,
   "metadata": {},
   "outputs": [],
   "source": []
  },
  {
   "cell_type": "markdown",
   "metadata": {},
   "source": [
    "## SUBSET2: Use subset / rarefied individuals to make 2 iqtree runs. One with and one without hybrids\n",
    "\n",
    "### with hybrids (all of em)\n",
    "\n",
    "Need to change the names of good_snps"
   ]
  },
  {
   "cell_type": "code",
   "execution_count": 108,
   "metadata": {},
   "outputs": [],
   "source": [
    "sample_names = !bcftools query -l good_snps.recode.vcf.gz"
   ]
  },
  {
   "cell_type": "code",
   "execution_count": 110,
   "metadata": {},
   "outputs": [
    {
     "data": {
      "text/plain": [
       "(589, 'EN_AH_10')"
      ]
     },
     "execution_count": 110,
     "metadata": {},
     "output_type": "execute_result"
    }
   ],
   "source": [
    "len(sample_names),sample_names[0]"
   ]
  },
  {
   "cell_type": "code",
   "execution_count": 111,
   "metadata": {},
   "outputs": [
    {
     "data": {
      "text/html": [
       "<div>\n",
       "<style scoped>\n",
       "    .dataframe tbody tr th:only-of-type {\n",
       "        vertical-align: middle;\n",
       "    }\n",
       "\n",
       "    .dataframe tbody tr th {\n",
       "        vertical-align: top;\n",
       "    }\n",
       "\n",
       "    .dataframe thead th {\n",
       "        text-align: right;\n",
       "    }\n",
       "</style>\n",
       "<table border=\"1\" class=\"dataframe\">\n",
       "  <thead>\n",
       "    <tr style=\"text-align: right;\">\n",
       "      <th></th>\n",
       "      <th>Old</th>\n",
       "      <th>New</th>\n",
       "    </tr>\n",
       "  </thead>\n",
       "  <tbody>\n",
       "    <tr>\n",
       "      <th>0</th>\n",
       "      <td>EN_AH_10</td>\n",
       "      <td>EN_AH_10</td>\n",
       "    </tr>\n",
       "    <tr>\n",
       "      <th>1</th>\n",
       "      <td>EN_AH_11</td>\n",
       "      <td>EN_AH_11</td>\n",
       "    </tr>\n",
       "    <tr>\n",
       "      <th>2</th>\n",
       "      <td>EN_AH_12</td>\n",
       "      <td>EN_AH_12</td>\n",
       "    </tr>\n",
       "    <tr>\n",
       "      <th>3</th>\n",
       "      <td>EN_AH_13</td>\n",
       "      <td>EN_AH_13</td>\n",
       "    </tr>\n",
       "    <tr>\n",
       "      <th>4</th>\n",
       "      <td>EN_AH_14</td>\n",
       "      <td>EN_AH_14</td>\n",
       "    </tr>\n",
       "  </tbody>\n",
       "</table>\n",
       "</div>"
      ],
      "text/plain": [
       "        Old       New\n",
       "0  EN_AH_10  EN_AH_10\n",
       "1  EN_AH_11  EN_AH_11\n",
       "2  EN_AH_12  EN_AH_12\n",
       "3  EN_AH_13  EN_AH_13\n",
       "4  EN_AH_14  EN_AH_14"
      ]
     },
     "execution_count": 111,
     "metadata": {},
     "output_type": "execute_result"
    }
   ],
   "source": [
    "indv = pd.DataFrame(data={'Old': sample_names,'New': sample_names})\n",
    "indv.head()"
   ]
  },
  {
   "cell_type": "code",
   "execution_count": 112,
   "metadata": {},
   "outputs": [
    {
     "data": {
      "text/html": [
       "<div>\n",
       "<style scoped>\n",
       "    .dataframe tbody tr th:only-of-type {\n",
       "        vertical-align: middle;\n",
       "    }\n",
       "\n",
       "    .dataframe tbody tr th {\n",
       "        vertical-align: top;\n",
       "    }\n",
       "\n",
       "    .dataframe thead th {\n",
       "        text-align: right;\n",
       "    }\n",
       "</style>\n",
       "<table border=\"1\" class=\"dataframe\">\n",
       "  <thead>\n",
       "    <tr style=\"text-align: right;\">\n",
       "      <th></th>\n",
       "      <th>Old</th>\n",
       "      <th>New</th>\n",
       "    </tr>\n",
       "  </thead>\n",
       "  <tbody>\n",
       "    <tr>\n",
       "      <th>506</th>\n",
       "      <td>EN_SJ_10</td>\n",
       "      <td>EN_ST_10</td>\n",
       "    </tr>\n",
       "    <tr>\n",
       "      <th>507</th>\n",
       "      <td>EN_SJ_11</td>\n",
       "      <td>EN_ST_11</td>\n",
       "    </tr>\n",
       "    <tr>\n",
       "      <th>508</th>\n",
       "      <td>EN_SJ_12</td>\n",
       "      <td>EN_ST_12</td>\n",
       "    </tr>\n",
       "    <tr>\n",
       "      <th>515</th>\n",
       "      <td>EN_SJ_7</td>\n",
       "      <td>EN_ST_7</td>\n",
       "    </tr>\n",
       "    <tr>\n",
       "      <th>516</th>\n",
       "      <td>EN_SJ_8</td>\n",
       "      <td>EN_ST_8</td>\n",
       "    </tr>\n",
       "    <tr>\n",
       "      <th>517</th>\n",
       "      <td>EN_SJ_9</td>\n",
       "      <td>EN_ST_9</td>\n",
       "    </tr>\n",
       "  </tbody>\n",
       "</table>\n",
       "</div>"
      ],
      "text/plain": [
       "          Old       New\n",
       "506  EN_SJ_10  EN_ST_10\n",
       "507  EN_SJ_11  EN_ST_11\n",
       "508  EN_SJ_12  EN_ST_12\n",
       "515   EN_SJ_7   EN_ST_7\n",
       "516   EN_SJ_8   EN_ST_8\n",
       "517   EN_SJ_9   EN_ST_9"
      ]
     },
     "execution_count": 112,
     "metadata": {},
     "output_type": "execute_result"
    }
   ],
   "source": [
    "indv['New'][indv['Old']=='EN_SJ_7'] = 'EN_ST_7'\n",
    "indv['New'][indv['Old']=='EN_SJ_8'] = 'EN_ST_8'\n",
    "indv['New'][indv['Old']=='EN_SJ_9'] = 'EN_ST_9'\n",
    "indv['New'][indv['Old']=='EN_SJ_10'] = 'EN_ST_10'\n",
    "indv['New'][indv['Old']=='EN_SJ_11'] = 'EN_ST_11'\n",
    "indv['New'][indv['Old']=='EN_SJ_12'] = 'EN_ST_12'\n",
    "\n",
    "indv[indv['Old'].isin(['EN_SJ_7','EN_SJ_8','EN_SJ_9','EN_SJ_10','EN_SJ_11','EN_SJ_12'])] \n",
    "\n"
   ]
  },
  {
   "cell_type": "code",
   "execution_count": 113,
   "metadata": {},
   "outputs": [],
   "source": [
    "indv['New'].to_csv('change_names.txt',header=None,index=False)"
   ]
  },
  {
   "cell_type": "code",
   "execution_count": 114,
   "metadata": {},
   "outputs": [
    {
     "name": "stdout",
     "output_type": "stream",
     "text": [
      "EN_AH_10\r\n",
      "EN_AH_11\r\n",
      "EN_AH_12\r\n",
      "EN_AH_13\r\n",
      "EN_AH_14\r\n",
      "EN_AH_15\r\n",
      "EN_AH_1\r\n",
      "EN_AH_2\r\n",
      "EN_AH_3\r\n",
      "EN_AH_4\r\n"
     ]
    }
   ],
   "source": [
    "!head change_names.txt"
   ]
  },
  {
   "cell_type": "code",
   "execution_count": 115,
   "metadata": {},
   "outputs": [],
   "source": [
    "!bcftools reheader -s change_names.txt good_snps.recode.vcf.gz > good_snps_sub.recode.vcf.gz"
   ]
  },
  {
   "cell_type": "code",
   "execution_count": 116,
   "metadata": {},
   "outputs": [],
   "source": [
    "%%R\n",
    "setwd('~/d/rabbit/full/REDO/phylo/subset_vcf')"
   ]
  },
  {
   "cell_type": "code",
   "execution_count": 119,
   "metadata": {},
   "outputs": [
    {
     "name": "stdout",
     "output_type": "stream",
     "text": [
      "Joining, by = \"All\"\n",
      "[1] 228\n",
      "[1] 231\n"
     ]
    }
   ],
   "source": [
    "%%R\n",
    "## add pca_df info\n",
    "pca_sub2_df <- read.csv('pca_sub2_df.csv')\n",
    "Pop_ID_Sum <- read.csv('Pop_ID_Sum.csv')\n",
    "Pop_ID_Sum$Pop[which(Pop_ID_Sum$Pop =='SJ')] <- 'ST'\n",
    "Pop_ID_Sum$All[which(Pop_ID_Sum$All =='EN_SJ_7')] <- 'EN_ST_7'\n",
    "Pop_ID_Sum$All[which(Pop_ID_Sum$All =='EN_SJ_8')] <- 'EN_ST_8'\n",
    "Pop_ID_Sum$All[which(Pop_ID_Sum$All =='EN_SJ_9')] <- 'EN_ST_9'\n",
    "Pop_ID_Sum$All[which(Pop_ID_Sum$All =='EN_SJ_10')] <- 'EN_ST_10'\n",
    "Pop_ID_Sum$All[which(Pop_ID_Sum$All =='EN_SJ_11')] <- 'EN_ST_11'\n",
    "Pop_ID_Sum$All[which(Pop_ID_Sum$All =='EN_SJ_12')] <- 'EN_ST_12'\n",
    "#head(pca_sub2_df)\n",
    "#head(Pop_ID_Sum)\n",
    "\n",
    "#select important info\n",
    "pca_sub2_df <- pca_sub2_df[c('All','Lin')]\n",
    "\n",
    "#join \n",
    "Pop_ID_sub2 <- left_join(Pop_ID_Sum,pca_sub2_df)\n",
    "Pop_ID_sub2 <- na.omit(Pop_ID_sub2)\n",
    "Pop_ID_sub2$Lin <- as.character(Pop_ID_sub2$Lin)\n",
    "\n",
    "##add ED (outgroup)\n",
    "Pop_ID_ED <- Pop_ID_Sum[which(Pop_ID_Sum$Pop == 'ED'),]\n",
    "Pop_ID_ED$Lin <- 'outgroup'\n",
    "Pop_ID_sub2 <- rbind(Pop_ID_sub2,Pop_ID_ED)\n",
    "\n",
    "print(nrow(pca_sub2_df))\n",
    "print(nrow(Pop_ID_sub2))\n",
    "\n",
    "#### Write it out! \n",
    "# write file with individuals to keep \n",
    "keep_sub2 <- data.frame(INDV=as.character(Pop_ID_sub2$All))\n",
    "write.table(keep_sub2,'keep_sub2.txt',row.names=FALSE,quote=FALSE)\n",
    "write.csv(Pop_ID_sub2,'Pop_ID_sub2.csv',row.names = F)"
   ]
  },
  {
   "cell_type": "markdown",
   "metadata": {},
   "source": [
    "### Make vcf with everyone (including hybrids) but only has known infomation for var/ssp "
   ]
  },
  {
   "cell_type": "code",
   "execution_count": 120,
   "metadata": {
    "scrolled": true
   },
   "outputs": [
    {
     "name": "stdout",
     "output_type": "stream",
     "text": [
      "\n",
      "VCFtools - 0.1.16\n",
      "(C) Adam Auton and Anthony Marcketta 2009\n",
      "\n",
      "Parameters as interpreted:\n",
      "\t--gzvcf good_snps_sub.recode.vcf.gz\n",
      "\t--keep keep_sub2.txt\n",
      "\t--recode-INFO-all\n",
      "\t--maf 0.02\n",
      "\t--max-missing 0.7\n",
      "\t--out ERNA_sub2\n",
      "\t--recode\n",
      "\n",
      "Using zlib version: 1.2.11\n",
      "Warning: Expected at least 2 parts in INFO entry: ID=AC,Number=A,Type=Integer,Description=\"Allele count in genotypes for each ALT allele, in the same order as listed\">\n",
      "Warning: Expected at least 2 parts in INFO entry: ID=DP4,Number=4,Type=Integer,Description=\"Number of high-quality ref-forward , ref-reverse, alt-forward and alt-reverse bases\">\n",
      "Warning: Expected at least 2 parts in INFO entry: ID=DP4,Number=4,Type=Integer,Description=\"Number of high-quality ref-forward , ref-reverse, alt-forward and alt-reverse bases\">\n",
      "Keeping individuals in 'keep' list\n",
      "After filtering, kept 231 out of 589 Individuals\n",
      "Outputting VCF file...\n",
      "After filtering, kept 19828 out of a possible 23306 Sites\n",
      "Run Time = 13.00 seconds\n"
     ]
    }
   ],
   "source": [
    "!$vcftools --gzvcf good_snps_sub.recode.vcf.gz \\\n",
    "--max-missing 0.7 \\\n",
    "--maf 0.02 \\\n",
    "--recode \\\n",
    "--recode-INFO-all \\\n",
    "--keep 'keep_sub2.txt' \\\n",
    "--out 'ERNA_sub2'"
   ]
  },
  {
   "cell_type": "code",
   "execution_count": 121,
   "metadata": {},
   "outputs": [],
   "source": [
    "vcf_sub2 = 'ERNA_sub2.recode.vcf'\n",
    "vcf_sub2_gz = vcf_sub2 + \".gz\"\n",
    "!$bgzip -c {vcf_sub2} > {vcf_sub2_gz}\n",
    "!$tabix {vcf_sub2_gz}"
   ]
  },
  {
   "cell_type": "code",
   "execution_count": 122,
   "metadata": {},
   "outputs": [],
   "source": [
    "!rm 'ERNA_sub2.log'\n",
    "!rm 'ERNA_sub2.recode.vcf'\n",
    "!rm 'ERNA_sub2.recode.vcf.gz.tbi'"
   ]
  },
  {
   "cell_type": "markdown",
   "metadata": {},
   "source": [
    "### Make vcf sub no hybrids"
   ]
  },
  {
   "cell_type": "code",
   "execution_count": 123,
   "metadata": {},
   "outputs": [
    {
     "name": "stdout",
     "output_type": "stream",
     "text": [
      "[1] 158  11\n"
     ]
    }
   ],
   "source": [
    "%%R\n",
    "Pop_ID_sub2 <- read.csv('Pop_ID_sub2.csv')\n",
    "Pop_ID_sub2_noHyb <- Pop_ID_sub2[-which(Pop_ID_sub2$Lin == 'hybrid'),]\n",
    "print(dim(Pop_ID_sub2_noHyb))\n",
    "\n",
    "# write file with individuals to keep \n",
    "keep_sub2_noHyb <- data.frame(INDV=as.character(Pop_ID_sub2_noHyb$All))\n",
    "write.table(keep_sub2_noHyb,'keep_sub2_noHyb.txt',row.names=FALSE,quote=FALSE)\n",
    "write.csv(Pop_ID_sub2_noHyb,'Pop_ID_sub2_noHyb.csv',row.names = FALSE)"
   ]
  },
  {
   "cell_type": "code",
   "execution_count": 124,
   "metadata": {},
   "outputs": [
    {
     "name": "stdout",
     "output_type": "stream",
     "text": [
      "\n",
      "VCFtools - 0.1.16\n",
      "(C) Adam Auton and Anthony Marcketta 2009\n",
      "\n",
      "Parameters as interpreted:\n",
      "\t--gzvcf good_snps_sub.recode.vcf.gz\n",
      "\t--keep keep_sub2_noHyb.txt\n",
      "\t--recode-INFO-all\n",
      "\t--maf 0.02\n",
      "\t--max-missing 0.7\n",
      "\t--out ERNA_sub2_noHyb\n",
      "\t--recode\n",
      "\n",
      "Using zlib version: 1.2.11\n",
      "Warning: Expected at least 2 parts in INFO entry: ID=AC,Number=A,Type=Integer,Description=\"Allele count in genotypes for each ALT allele, in the same order as listed\">\n",
      "Warning: Expected at least 2 parts in INFO entry: ID=DP4,Number=4,Type=Integer,Description=\"Number of high-quality ref-forward , ref-reverse, alt-forward and alt-reverse bases\">\n",
      "Warning: Expected at least 2 parts in INFO entry: ID=DP4,Number=4,Type=Integer,Description=\"Number of high-quality ref-forward , ref-reverse, alt-forward and alt-reverse bases\">\n",
      "Keeping individuals in 'keep' list\n",
      "After filtering, kept 158 out of 589 Individuals\n",
      "Outputting VCF file...\n",
      "After filtering, kept 18929 out of a possible 23306 Sites\n",
      "Run Time = 11.00 seconds\n"
     ]
    }
   ],
   "source": [
    "!$vcftools --gzvcf good_snps_sub.recode.vcf.gz \\\n",
    "--max-missing 0.7 \\\n",
    "--maf 0.02 \\\n",
    "--recode \\\n",
    "--recode-INFO-all \\\n",
    "--keep 'keep_sub2_noHyb.txt' \\\n",
    "--out 'ERNA_sub2_noHyb'"
   ]
  },
  {
   "cell_type": "code",
   "execution_count": 125,
   "metadata": {},
   "outputs": [],
   "source": [
    "vcf_sub2_noHyb = 'ERNA_sub2_noHyb.recode.vcf'\n",
    "vcf_sub2_noHyb_gz = vcf_sub2_noHyb + \".gz\"\n",
    "!$bgzip -c {vcf_sub2_noHyb} > {vcf_sub2_noHyb_gz}\n",
    "!$tabix {vcf_sub2_noHyb_gz}"
   ]
  },
  {
   "cell_type": "code",
   "execution_count": 126,
   "metadata": {},
   "outputs": [],
   "source": [
    "!rm 'ERNA_sub2_noHyb.log'\n",
    "!rm 'ERNA_sub2_noHyb.recode.vcf'\n",
    "!rm 'ERNA_sub2_noHyb.recode.vcf.gz.tbi'"
   ]
  },
  {
   "cell_type": "markdown",
   "metadata": {},
   "source": [
    "# Run IQtree\n",
    "\n",
    "### vcf sub (with hybrids)"
   ]
  },
  {
   "cell_type": "code",
   "execution_count": 127,
   "metadata": {},
   "outputs": [
    {
     "name": "stdout",
     "output_type": "stream",
     "text": [
      "/data/gpfs/assoc/denovo/tfaske/rabbit/full/REDO/phylo\n"
     ]
    }
   ],
   "source": [
    "cd $root"
   ]
  },
  {
   "cell_type": "code",
   "execution_count": 128,
   "metadata": {},
   "outputs": [
    {
     "name": "stdout",
     "output_type": "stream",
     "text": [
      "mkdir: cannot create directory ‘iqtree’: File exists\r\n"
     ]
    }
   ],
   "source": [
    "!mkdir iqtree"
   ]
  },
  {
   "cell_type": "code",
   "execution_count": 129,
   "metadata": {},
   "outputs": [],
   "source": [
    "iqtree_dir = os.path.join(root,'iqtree')"
   ]
  },
  {
   "cell_type": "code",
   "execution_count": 130,
   "metadata": {},
   "outputs": [],
   "source": [
    "!cp 'subset_vcf/ERNA_sub2.recode.vcf.gz' $iqtree_dir"
   ]
  },
  {
   "cell_type": "code",
   "execution_count": 131,
   "metadata": {},
   "outputs": [
    {
     "name": "stdout",
     "output_type": "stream",
     "text": [
      "/data/gpfs/assoc/denovo/tfaske/rabbit/full/REDO/phylo/iqtree\n"
     ]
    }
   ],
   "source": [
    "cd $iqtree_dir"
   ]
  },
  {
   "cell_type": "code",
   "execution_count": 132,
   "metadata": {},
   "outputs": [],
   "source": [
    "!gunzip 'ERNA_sub2.recode.vcf.gz'"
   ]
  },
  {
   "cell_type": "code",
   "execution_count": 133,
   "metadata": {},
   "outputs": [],
   "source": [
    "vcf2phy = '/data/gpfs/assoc/parchmanlab/tfaske/src/phylo/./vcf2phylip.py'"
   ]
  },
  {
   "cell_type": "code",
   "execution_count": 134,
   "metadata": {},
   "outputs": [],
   "source": [
    "vcf_sub2 = os.path.join(iqtree_dir,'ERNA_sub2.recode.vcf')"
   ]
  },
  {
   "cell_type": "code",
   "execution_count": 135,
   "metadata": {},
   "outputs": [
    {
     "name": "stdout",
     "output_type": "stream",
     "text": [
      "\n",
      "Converting file '/data/gpfs/assoc/denovo/tfaske/rabbit/full/REDO/phylo/iqtree/ERNA_sub2.recode.vcf':\n",
      "\n",
      "Number of samples in VCF: 231\n",
      "Total of genotypes processed: 19828\n",
      "Genotypes excluded because they exceeded the amount of missing data allowed: 0\n",
      "Genotypes that passed missing data filter but were excluded for being MNPs: 0\n",
      "SNPs that passed the filters: 19828\n",
      "\n",
      "Sample 1 of 231, 'EN_AR_2', added to the nucleotide matrix(ces).\n",
      "Sample 2 of 231, 'EN_AR_3', added to the nucleotide matrix(ces).\n",
      "Sample 3 of 231, 'EN_AR_4', added to the nucleotide matrix(ces).\n",
      "Sample 4 of 231, 'EN_AR_5', added to the nucleotide matrix(ces).\n",
      "Sample 5 of 231, 'EN_AR_6', added to the nucleotide matrix(ces).\n",
      "Sample 6 of 231, 'EN_AS_19', added to the nucleotide matrix(ces).\n",
      "Sample 7 of 231, 'EN_AS_22', added to the nucleotide matrix(ces).\n",
      "Sample 8 of 231, 'EN_AS_24', added to the nucleotide matrix(ces).\n",
      "Sample 9 of 231, 'EN_AS_28', added to the nucleotide matrix(ces).\n",
      "Sample 10 of 231, 'EN_AS_29', added to the nucleotide matrix(ces).\n",
      "Sample 11 of 231, 'EN_AS_30', added to the nucleotide matrix(ces).\n",
      "Sample 12 of 231, 'EN_BC_10', added to the nucleotide matrix(ces).\n",
      "Sample 13 of 231, 'EN_BC_11', added to the nucleotide matrix(ces).\n",
      "Sample 14 of 231, 'EN_BC_12', added to the nucleotide matrix(ces).\n",
      "Sample 15 of 231, 'EN_BC_1', added to the nucleotide matrix(ces).\n",
      "Sample 16 of 231, 'EN_BC_2', added to the nucleotide matrix(ces).\n",
      "Sample 17 of 231, 'EN_BC_3', added to the nucleotide matrix(ces).\n",
      "Sample 18 of 231, 'EN_BC_4', added to the nucleotide matrix(ces).\n",
      "Sample 19 of 231, 'EN_BC_5', added to the nucleotide matrix(ces).\n",
      "Sample 20 of 231, 'EN_BC_6', added to the nucleotide matrix(ces).\n",
      "Sample 21 of 231, 'EN_BC_7', added to the nucleotide matrix(ces).\n",
      "Sample 22 of 231, 'EN_BC_8', added to the nucleotide matrix(ces).\n",
      "Sample 23 of 231, 'EN_BC_9', added to the nucleotide matrix(ces).\n",
      "Sample 24 of 231, 'EN_BH_1', added to the nucleotide matrix(ces).\n",
      "Sample 25 of 231, 'EN_BH_2', added to the nucleotide matrix(ces).\n",
      "Sample 26 of 231, 'EN_BH_3', added to the nucleotide matrix(ces).\n",
      "Sample 27 of 231, 'EN_BH_4', added to the nucleotide matrix(ces).\n",
      "Sample 28 of 231, 'EN_BH_5', added to the nucleotide matrix(ces).\n",
      "Sample 29 of 231, 'EN_BH_6', added to the nucleotide matrix(ces).\n",
      "Sample 30 of 231, 'EN_BO_1', added to the nucleotide matrix(ces).\n",
      "Sample 31 of 231, 'EN_BO_2', added to the nucleotide matrix(ces).\n",
      "Sample 32 of 231, 'EN_BO_3', added to the nucleotide matrix(ces).\n",
      "Sample 33 of 231, 'EN_BO_4', added to the nucleotide matrix(ces).\n",
      "Sample 34 of 231, 'EN_BO_5', added to the nucleotide matrix(ces).\n",
      "Sample 35 of 231, 'EN_BO_6', added to the nucleotide matrix(ces).\n",
      "Sample 36 of 231, 'EN_BT_1', added to the nucleotide matrix(ces).\n",
      "Sample 37 of 231, 'EN_BT_2', added to the nucleotide matrix(ces).\n",
      "Sample 38 of 231, 'EN_BT_3', added to the nucleotide matrix(ces).\n",
      "Sample 39 of 231, 'EN_BT_4', added to the nucleotide matrix(ces).\n",
      "Sample 40 of 231, 'EN_BT_5', added to the nucleotide matrix(ces).\n",
      "Sample 41 of 231, 'EN_BT_6', added to the nucleotide matrix(ces).\n",
      "Sample 42 of 231, 'EN_BV_19', added to the nucleotide matrix(ces).\n",
      "Sample 43 of 231, 'EN_BV_20', added to the nucleotide matrix(ces).\n",
      "Sample 44 of 231, 'EN_BV_24', added to the nucleotide matrix(ces).\n",
      "Sample 45 of 231, 'EN_BV_26', added to the nucleotide matrix(ces).\n",
      "Sample 46 of 231, 'EN_BV_27', added to the nucleotide matrix(ces).\n",
      "Sample 47 of 231, 'EN_BV_28', added to the nucleotide matrix(ces).\n",
      "Sample 48 of 231, 'EN_CH_2', added to the nucleotide matrix(ces).\n",
      "Sample 49 of 231, 'EN_CH_3', added to the nucleotide matrix(ces).\n",
      "Sample 50 of 231, 'EN_CH_4', added to the nucleotide matrix(ces).\n",
      "Sample 51 of 231, 'EN_CH_5', added to the nucleotide matrix(ces).\n",
      "Sample 52 of 231, 'EN_CH_6', added to the nucleotide matrix(ces).\n",
      "Sample 53 of 231, 'EN_CH_7', added to the nucleotide matrix(ces).\n",
      "Sample 54 of 231, 'EN_CI_1', added to the nucleotide matrix(ces).\n",
      "Sample 55 of 231, 'EN_CI_2', added to the nucleotide matrix(ces).\n",
      "Sample 56 of 231, 'EN_CI_3', added to the nucleotide matrix(ces).\n",
      "Sample 57 of 231, 'EN_CI_4', added to the nucleotide matrix(ces).\n",
      "Sample 58 of 231, 'EN_CI_5', added to the nucleotide matrix(ces).\n",
      "Sample 59 of 231, 'EN_CN_1', added to the nucleotide matrix(ces).\n",
      "Sample 60 of 231, 'EN_CN_2', added to the nucleotide matrix(ces).\n",
      "Sample 61 of 231, 'EN_CN_4', added to the nucleotide matrix(ces).\n",
      "Sample 62 of 231, 'EN_CN_5', added to the nucleotide matrix(ces).\n",
      "Sample 63 of 231, 'EN_CN_6', added to the nucleotide matrix(ces).\n",
      "Sample 64 of 231, 'EN_CO_1', added to the nucleotide matrix(ces).\n",
      "Sample 65 of 231, 'EN_CO_2', added to the nucleotide matrix(ces).\n",
      "Sample 66 of 231, 'EN_CO_3', added to the nucleotide matrix(ces).\n",
      "Sample 67 of 231, 'EN_CO_4', added to the nucleotide matrix(ces).\n",
      "Sample 68 of 231, 'EN_CO_5', added to the nucleotide matrix(ces).\n",
      "Sample 69 of 231, 'EN_DC_11', added to the nucleotide matrix(ces).\n",
      "Sample 70 of 231, 'EN_DC_12', added to the nucleotide matrix(ces).\n",
      "Sample 71 of 231, 'EN_DC_15', added to the nucleotide matrix(ces).\n",
      "Sample 72 of 231, 'EN_DC_1', added to the nucleotide matrix(ces).\n",
      "Sample 73 of 231, 'EN_DC_5', added to the nucleotide matrix(ces).\n",
      "Sample 74 of 231, 'EN_DC_8', added to the nucleotide matrix(ces).\n",
      "Sample 75 of 231, 'EN_ED_1', added to the nucleotide matrix(ces).\n",
      "Sample 76 of 231, 'EN_ED_2', added to the nucleotide matrix(ces).\n",
      "Sample 77 of 231, 'EN_ED_3', added to the nucleotide matrix(ces).\n",
      "Sample 78 of 231, 'EN_EW_11', added to the nucleotide matrix(ces).\n",
      "Sample 79 of 231, 'EN_EW_12', added to the nucleotide matrix(ces).\n",
      "Sample 80 of 231, 'EN_EW_3', added to the nucleotide matrix(ces).\n",
      "Sample 81 of 231, 'EN_EW_4', added to the nucleotide matrix(ces).\n",
      "Sample 82 of 231, 'EN_EW_7', added to the nucleotide matrix(ces).\n",
      "Sample 83 of 231, 'EN_EW_9', added to the nucleotide matrix(ces).\n",
      "Sample 84 of 231, 'EN_GB_17', added to the nucleotide matrix(ces).\n",
      "Sample 85 of 231, 'EN_GB_18', added to the nucleotide matrix(ces).\n",
      "Sample 86 of 231, 'EN_GB_20', added to the nucleotide matrix(ces).\n",
      "Sample 87 of 231, 'EN_GB_21', added to the nucleotide matrix(ces).\n",
      "Sample 88 of 231, 'EN_GB_23', added to the nucleotide matrix(ces).\n",
      "Sample 89 of 231, 'EN_GB_30', added to the nucleotide matrix(ces).\n",
      "Sample 90 of 231, 'EN_HL_1', added to the nucleotide matrix(ces).\n",
      "Sample 91 of 231, 'EN_HL_2', added to the nucleotide matrix(ces).\n",
      "Sample 92 of 231, 'EN_HL_3', added to the nucleotide matrix(ces).\n",
      "Sample 93 of 231, 'EN_HL_4', added to the nucleotide matrix(ces).\n",
      "Sample 94 of 231, 'EN_HL_5', added to the nucleotide matrix(ces).\n",
      "Sample 95 of 231, 'EN_HO_10', added to the nucleotide matrix(ces).\n",
      "Sample 96 of 231, 'EN_HO_15', added to the nucleotide matrix(ces).\n",
      "Sample 97 of 231, 'EN_HO_1', added to the nucleotide matrix(ces).\n",
      "Sample 98 of 231, 'EN_HO_4', added to the nucleotide matrix(ces).\n",
      "Sample 99 of 231, 'EN_HO_6', added to the nucleotide matrix(ces).\n",
      "Sample 100 of 231, 'EN_HO_7', added to the nucleotide matrix(ces).\n",
      "Sample 101 of 231, 'EN_IO_1', added to the nucleotide matrix(ces).\n",
      "Sample 102 of 231, 'EN_IO_2', added to the nucleotide matrix(ces).\n",
      "Sample 103 of 231, 'EN_IO_3', added to the nucleotide matrix(ces).\n",
      "Sample 104 of 231, 'EN_IO_4', added to the nucleotide matrix(ces).\n",
      "Sample 105 of 231, 'EN_IO_5', added to the nucleotide matrix(ces).\n",
      "Sample 106 of 231, 'EN_JO_2', added to the nucleotide matrix(ces).\n",
      "Sample 107 of 231, 'EN_JO_3', added to the nucleotide matrix(ces).\n",
      "Sample 108 of 231, 'EN_JO_4', added to the nucleotide matrix(ces).\n",
      "Sample 109 of 231, 'EN_JO_5', added to the nucleotide matrix(ces).\n",
      "Sample 110 of 231, 'EN_JO_6', added to the nucleotide matrix(ces).\n",
      "Sample 111 of 231, 'EN_JT_1', added to the nucleotide matrix(ces).\n",
      "Sample 112 of 231, 'EN_JT_2', added to the nucleotide matrix(ces).\n",
      "Sample 113 of 231, 'EN_JT_3', added to the nucleotide matrix(ces).\n",
      "Sample 114 of 231, 'EN_JT_4', added to the nucleotide matrix(ces).\n",
      "Sample 115 of 231, 'EN_JT_5', added to the nucleotide matrix(ces).\n",
      "Sample 116 of 231, 'EN_JT_6', added to the nucleotide matrix(ces).\n",
      "Sample 117 of 231, 'EN_LA_1', added to the nucleotide matrix(ces).\n",
      "Sample 118 of 231, 'EN_LA_2', added to the nucleotide matrix(ces).\n",
      "Sample 119 of 231, 'EN_LA_3', added to the nucleotide matrix(ces).\n",
      "Sample 120 of 231, 'EN_LA_4', added to the nucleotide matrix(ces).\n",
      "Sample 121 of 231, 'EN_LA_5', added to the nucleotide matrix(ces).\n",
      "Sample 122 of 231, 'EN_LA_6', added to the nucleotide matrix(ces).\n"
     ]
    },
    {
     "name": "stdout",
     "output_type": "stream",
     "text": [
      "Sample 123 of 231, 'EN_LO_1', added to the nucleotide matrix(ces).\n",
      "Sample 124 of 231, 'EN_LO_2', added to the nucleotide matrix(ces).\n",
      "Sample 125 of 231, 'EN_LO_3', added to the nucleotide matrix(ces).\n",
      "Sample 126 of 231, 'EN_LO_4', added to the nucleotide matrix(ces).\n",
      "Sample 127 of 231, 'EN_LO_5', added to the nucleotide matrix(ces).\n",
      "Sample 128 of 231, 'EN_LR_1', added to the nucleotide matrix(ces).\n",
      "Sample 129 of 231, 'EN_LR_2', added to the nucleotide matrix(ces).\n",
      "Sample 130 of 231, 'EN_LR_3', added to the nucleotide matrix(ces).\n",
      "Sample 131 of 231, 'EN_LR_4', added to the nucleotide matrix(ces).\n",
      "Sample 132 of 231, 'EN_LR_5', added to the nucleotide matrix(ces).\n",
      "Sample 133 of 231, 'EN_LR_6', added to the nucleotide matrix(ces).\n",
      "Sample 134 of 231, 'EN_LT_4', added to the nucleotide matrix(ces).\n",
      "Sample 135 of 231, 'EN_LT_5', added to the nucleotide matrix(ces).\n",
      "Sample 136 of 231, 'EN_LT_6', added to the nucleotide matrix(ces).\n",
      "Sample 137 of 231, 'EN_LV_16', added to the nucleotide matrix(ces).\n",
      "Sample 138 of 231, 'EN_LV_17', added to the nucleotide matrix(ces).\n",
      "Sample 139 of 231, 'EN_LV_18', added to the nucleotide matrix(ces).\n",
      "Sample 140 of 231, 'EN_LV_25', added to the nucleotide matrix(ces).\n",
      "Sample 141 of 231, 'EN_LV_26', added to the nucleotide matrix(ces).\n",
      "Sample 142 of 231, 'EN_LV_27', added to the nucleotide matrix(ces).\n",
      "Sample 143 of 231, 'EN_MD_11', added to the nucleotide matrix(ces).\n",
      "Sample 144 of 231, 'EN_MD_13', added to the nucleotide matrix(ces).\n",
      "Sample 145 of 231, 'EN_MD_15', added to the nucleotide matrix(ces).\n",
      "Sample 146 of 231, 'EN_MD_2', added to the nucleotide matrix(ces).\n",
      "Sample 147 of 231, 'EN_MD_3', added to the nucleotide matrix(ces).\n",
      "Sample 148 of 231, 'EN_MD_9', added to the nucleotide matrix(ces).\n",
      "Sample 149 of 231, 'EN_NH_2', added to the nucleotide matrix(ces).\n",
      "Sample 150 of 231, 'EN_NH_3', added to the nucleotide matrix(ces).\n",
      "Sample 151 of 231, 'EN_NH_4', added to the nucleotide matrix(ces).\n",
      "Sample 152 of 231, 'EN_NH_5', added to the nucleotide matrix(ces).\n",
      "Sample 153 of 231, 'EN_NH_6', added to the nucleotide matrix(ces).\n",
      "Sample 154 of 231, 'EN_NI_1', added to the nucleotide matrix(ces).\n",
      "Sample 155 of 231, 'EN_NI_2', added to the nucleotide matrix(ces).\n",
      "Sample 156 of 231, 'EN_NI_3', added to the nucleotide matrix(ces).\n",
      "Sample 157 of 231, 'EN_NI_4', added to the nucleotide matrix(ces).\n",
      "Sample 158 of 231, 'EN_NI_5', added to the nucleotide matrix(ces).\n",
      "Sample 159 of 231, 'EN_NI_6', added to the nucleotide matrix(ces).\n",
      "Sample 160 of 231, 'EN_NO_1', added to the nucleotide matrix(ces).\n",
      "Sample 161 of 231, 'EN_NO_2', added to the nucleotide matrix(ces).\n",
      "Sample 162 of 231, 'EN_NO_3', added to the nucleotide matrix(ces).\n",
      "Sample 163 of 231, 'EN_NO_4', added to the nucleotide matrix(ces).\n",
      "Sample 164 of 231, 'EN_NO_5', added to the nucleotide matrix(ces).\n",
      "Sample 165 of 231, 'EN_NT_1', added to the nucleotide matrix(ces).\n",
      "Sample 166 of 231, 'EN_NT_2', added to the nucleotide matrix(ces).\n",
      "Sample 167 of 231, 'EN_NT_3', added to the nucleotide matrix(ces).\n",
      "Sample 168 of 231, 'EN_NT_4', added to the nucleotide matrix(ces).\n",
      "Sample 169 of 231, 'EN_NT_5', added to the nucleotide matrix(ces).\n",
      "Sample 170 of 231, 'EN_OO_1', added to the nucleotide matrix(ces).\n",
      "Sample 171 of 231, 'EN_OO_2', added to the nucleotide matrix(ces).\n",
      "Sample 172 of 231, 'EN_OO_3', added to the nucleotide matrix(ces).\n",
      "Sample 173 of 231, 'EN_OO_4', added to the nucleotide matrix(ces).\n",
      "Sample 174 of 231, 'EN_OO_5', added to the nucleotide matrix(ces).\n",
      "Sample 175 of 231, 'EN_OO_6', added to the nucleotide matrix(ces).\n",
      "Sample 176 of 231, 'EN_OT_1', added to the nucleotide matrix(ces).\n",
      "Sample 177 of 231, 'EN_OT_2', added to the nucleotide matrix(ces).\n",
      "Sample 178 of 231, 'EN_OT_3', added to the nucleotide matrix(ces).\n",
      "Sample 179 of 231, 'EN_OT_4', added to the nucleotide matrix(ces).\n",
      "Sample 180 of 231, 'EN_PT_10', added to the nucleotide matrix(ces).\n",
      "Sample 181 of 231, 'EN_PT_12', added to the nucleotide matrix(ces).\n",
      "Sample 182 of 231, 'EN_PT_13', added to the nucleotide matrix(ces).\n",
      "Sample 183 of 231, 'EN_PT_4', added to the nucleotide matrix(ces).\n",
      "Sample 184 of 231, 'EN_PT_5', added to the nucleotide matrix(ces).\n",
      "Sample 185 of 231, 'EN_PT_8', added to the nucleotide matrix(ces).\n",
      "Sample 186 of 231, 'EN_PW_13', added to the nucleotide matrix(ces).\n",
      "Sample 187 of 231, 'EN_PW_15', added to the nucleotide matrix(ces).\n",
      "Sample 188 of 231, 'EN_PW_2', added to the nucleotide matrix(ces).\n",
      "Sample 189 of 231, 'EN_PW_3', added to the nucleotide matrix(ces).\n",
      "Sample 190 of 231, 'EN_PW_5', added to the nucleotide matrix(ces).\n",
      "Sample 191 of 231, 'EN_PW_7', added to the nucleotide matrix(ces).\n",
      "Sample 192 of 231, 'EN_RH_1', added to the nucleotide matrix(ces).\n",
      "Sample 193 of 231, 'EN_RH_2', added to the nucleotide matrix(ces).\n",
      "Sample 194 of 231, 'EN_RH_3', added to the nucleotide matrix(ces).\n",
      "Sample 195 of 231, 'EN_RH_4', added to the nucleotide matrix(ces).\n",
      "Sample 196 of 231, 'EN_RH_5', added to the nucleotide matrix(ces).\n",
      "Sample 197 of 231, 'EN_RH_6', added to the nucleotide matrix(ces).\n",
      "Sample 198 of 231, 'EN_RS_1', added to the nucleotide matrix(ces).\n",
      "Sample 199 of 231, 'EN_RS_2', added to the nucleotide matrix(ces).\n",
      "Sample 200 of 231, 'EN_RS_4', added to the nucleotide matrix(ces).\n",
      "Sample 201 of 231, 'EN_RS_5', added to the nucleotide matrix(ces).\n",
      "Sample 202 of 231, 'EN_RS_6', added to the nucleotide matrix(ces).\n",
      "Sample 203 of 231, 'EN_RS_7', added to the nucleotide matrix(ces).\n",
      "Sample 204 of 231, 'EN_ST_10', added to the nucleotide matrix(ces).\n",
      "Sample 205 of 231, 'EN_ST_11', added to the nucleotide matrix(ces).\n",
      "Sample 206 of 231, 'EN_ST_12', added to the nucleotide matrix(ces).\n",
      "Sample 207 of 231, 'EN_ST_7', added to the nucleotide matrix(ces).\n",
      "Sample 208 of 231, 'EN_ST_8', added to the nucleotide matrix(ces).\n",
      "Sample 209 of 231, 'EN_ST_9', added to the nucleotide matrix(ces).\n",
      "Sample 210 of 231, 'EN_SS_12', added to the nucleotide matrix(ces).\n",
      "Sample 211 of 231, 'EN_SS_14', added to the nucleotide matrix(ces).\n",
      "Sample 212 of 231, 'EN_SS_15', added to the nucleotide matrix(ces).\n",
      "Sample 213 of 231, 'EN_SS_2', added to the nucleotide matrix(ces).\n",
      "Sample 214 of 231, 'EN_SS_7', added to the nucleotide matrix(ces).\n",
      "Sample 215 of 231, 'EN_SS_8', added to the nucleotide matrix(ces).\n",
      "Sample 216 of 231, 'EN_TO_1', added to the nucleotide matrix(ces).\n",
      "Sample 217 of 231, 'EN_TO_2', added to the nucleotide matrix(ces).\n",
      "Sample 218 of 231, 'EN_TO_3', added to the nucleotide matrix(ces).\n",
      "Sample 219 of 231, 'EN_TO_4', added to the nucleotide matrix(ces).\n",
      "Sample 220 of 231, 'EN_TO_5', added to the nucleotide matrix(ces).\n",
      "Sample 221 of 231, 'EN_TO_6', added to the nucleotide matrix(ces).\n",
      "Sample 222 of 231, 'EN_UT_1', added to the nucleotide matrix(ces).\n",
      "Sample 223 of 231, 'EN_UT_2', added to the nucleotide matrix(ces).\n",
      "Sample 224 of 231, 'EN_UT_3', added to the nucleotide matrix(ces).\n",
      "Sample 225 of 231, 'EN_UT_4', added to the nucleotide matrix(ces).\n",
      "Sample 226 of 231, 'EN_UT_5', added to the nucleotide matrix(ces).\n",
      "Sample 227 of 231, 'EN_YL_1', added to the nucleotide matrix(ces).\n",
      "Sample 228 of 231, 'EN_YL_3', added to the nucleotide matrix(ces).\n",
      "Sample 229 of 231, 'EN_YL_4', added to the nucleotide matrix(ces).\n",
      "Sample 230 of 231, 'EN_YL_5', added to the nucleotide matrix(ces).\n",
      "Sample 231 of 231, 'EN_YL_6', added to the nucleotide matrix(ces).\n",
      "\n",
      "PHYLIP matrix saved to: ERNA_sub2.recode.min4.phy\n",
      "\n",
      "Done!\n",
      "\n"
     ]
    }
   ],
   "source": [
    "!python $vcf2phy --i $vcf_sub2"
   ]
  },
  {
   "cell_type": "markdown",
   "metadata": {},
   "source": [
    "#### NOTE: ran once but invariant sites. rerun with new .phy file"
   ]
  },
  {
   "cell_type": "code",
   "execution_count": 140,
   "metadata": {},
   "outputs": [],
   "source": [
    "#phy_file = os.path.join(iqtree_dir,'ERNA_sub2.recode.min4.phy')\n",
    "phy_file = os.path.join(iqtree_dir,'ERNA_sub2.recode.min4.phy.varsites.phy')"
   ]
  },
  {
   "cell_type": "code",
   "execution_count": 141,
   "metadata": {},
   "outputs": [],
   "source": [
    "### select options for slurm submission\n",
    "account = 'cpu-s5-denovo-0'\n",
    "partition = 'cpu-core-0'\n",
    "jobname = 'iqtree'\n",
    "time = '4-00:00:00' #time limit 1 day\n",
    "cpus = 16\n",
    "mem_cpu = 9000\n",
    "email = 'tfaske@nevada.unr.edu'\n",
    "\n",
    "### for iqtree\n",
    "model = 'GTR+ASC'\n",
    "bb = 1000 #bootstrap"
   ]
  },
  {
   "cell_type": "code",
   "execution_count": 142,
   "metadata": {},
   "outputs": [],
   "source": [
    "def write_iqtree_sh(account,partition,time,cpus,mem_cpu,email,iqtree_dir,phy,model,bb):\n",
    "    with open(\"run_sub2_iqtree.sh\", \"w\") as o:\n",
    "        o.write(\"\"\"#!/usr/bin/env bash\n",
    "#SBATCH --account=%s\n",
    "#SBATCH --partition=%s\n",
    "#SBATCH --time=%s\n",
    "#SBATCH --ntasks 1\n",
    "#SBATCH --cpus-per-task %d\n",
    "#SBATCH --mem-per-cpu=%d\n",
    "#SBATCH --job-name iqtree_sub\n",
    "#SBATCH --output output_iqtree_sub2.txt\n",
    "#SBATCH --mail-type=END\n",
    "#SBATCH --mail-user=%s\n",
    "\n",
    "cd %s\n",
    "    \n",
    "iqtree -s %s -nt %d -m %s -st DNA -bb %d \\n\\n\"\"\" % (account,partition,time,int(cpus),int(mem_cpu),email,iqtree_dir,phy,int(cpus),model,bb))\n",
    "        \n",
    "        "
   ]
  },
  {
   "cell_type": "code",
   "execution_count": 143,
   "metadata": {},
   "outputs": [],
   "source": [
    "write_iqtree_sh(account,partition,time,cpus,mem_cpu,email,iqtree_dir,phy_file,model,bb)"
   ]
  },
  {
   "cell_type": "markdown",
   "metadata": {},
   "source": [
    "# Run iqtree.sh\n",
    "    cd /data/gpfs/home/tfaske/d/rabbit/full/phylo/iqtree\n",
    "    source activate py311\n",
    "    sbatch run_iqtree.sh"
   ]
  },
  {
   "cell_type": "markdown",
   "metadata": {},
   "source": [
    "## Run IQtree (no hybrids)\n",
    "\n",
    "### VCF sub no hybrids"
   ]
  },
  {
   "cell_type": "code",
   "execution_count": 144,
   "metadata": {},
   "outputs": [
    {
     "name": "stdout",
     "output_type": "stream",
     "text": [
      "/data/gpfs/assoc/denovo/tfaske/rabbit/full/REDO/phylo/iqtree\n"
     ]
    }
   ],
   "source": [
    "cd $iqtree_dir"
   ]
  },
  {
   "cell_type": "code",
   "execution_count": 145,
   "metadata": {},
   "outputs": [],
   "source": [
    "!cp '../subset_vcf/ERNA_sub2_noHyb.recode.vcf.gz' ."
   ]
  },
  {
   "cell_type": "code",
   "execution_count": 146,
   "metadata": {},
   "outputs": [],
   "source": [
    "!gunzip 'ERNA_sub2_noHyb.recode.vcf.gz'"
   ]
  },
  {
   "cell_type": "code",
   "execution_count": 147,
   "metadata": {},
   "outputs": [],
   "source": [
    "vcf2phy = '/data/gpfs/assoc/parchmanlab/tfaske/src/phylo/./vcf2phylip.py'"
   ]
  },
  {
   "cell_type": "code",
   "execution_count": 148,
   "metadata": {},
   "outputs": [],
   "source": [
    "vcf_sub2_noHyb = os.path.join(iqtree_dir,'ERNA_sub2_noHyb.recode.vcf')"
   ]
  },
  {
   "cell_type": "code",
   "execution_count": 149,
   "metadata": {},
   "outputs": [
    {
     "name": "stdout",
     "output_type": "stream",
     "text": [
      "\n",
      "Converting file '/data/gpfs/assoc/denovo/tfaske/rabbit/full/REDO/phylo/iqtree/ERNA_sub2_noHyb.recode.vcf':\n",
      "\n",
      "Number of samples in VCF: 158\n",
      "Total of genotypes processed: 18929\n",
      "Genotypes excluded because they exceeded the amount of missing data allowed: 0\n",
      "Genotypes that passed missing data filter but were excluded for being MNPs: 0\n",
      "SNPs that passed the filters: 18929\n",
      "\n",
      "Sample 1 of 158, 'EN_AR_2', added to the nucleotide matrix(ces).\n",
      "Sample 2 of 158, 'EN_AR_3', added to the nucleotide matrix(ces).\n",
      "Sample 3 of 158, 'EN_AR_4', added to the nucleotide matrix(ces).\n",
      "Sample 4 of 158, 'EN_AR_5', added to the nucleotide matrix(ces).\n",
      "Sample 5 of 158, 'EN_AR_6', added to the nucleotide matrix(ces).\n",
      "Sample 6 of 158, 'EN_AS_19', added to the nucleotide matrix(ces).\n",
      "Sample 7 of 158, 'EN_AS_22', added to the nucleotide matrix(ces).\n",
      "Sample 8 of 158, 'EN_AS_24', added to the nucleotide matrix(ces).\n",
      "Sample 9 of 158, 'EN_AS_28', added to the nucleotide matrix(ces).\n",
      "Sample 10 of 158, 'EN_AS_29', added to the nucleotide matrix(ces).\n",
      "Sample 11 of 158, 'EN_AS_30', added to the nucleotide matrix(ces).\n",
      "Sample 12 of 158, 'EN_BC_10', added to the nucleotide matrix(ces).\n",
      "Sample 13 of 158, 'EN_BC_11', added to the nucleotide matrix(ces).\n",
      "Sample 14 of 158, 'EN_BC_12', added to the nucleotide matrix(ces).\n",
      "Sample 15 of 158, 'EN_BC_7', added to the nucleotide matrix(ces).\n",
      "Sample 16 of 158, 'EN_BC_8', added to the nucleotide matrix(ces).\n",
      "Sample 17 of 158, 'EN_BC_9', added to the nucleotide matrix(ces).\n",
      "Sample 18 of 158, 'EN_BH_1', added to the nucleotide matrix(ces).\n",
      "Sample 19 of 158, 'EN_BH_2', added to the nucleotide matrix(ces).\n",
      "Sample 20 of 158, 'EN_BH_3', added to the nucleotide matrix(ces).\n",
      "Sample 21 of 158, 'EN_BH_4', added to the nucleotide matrix(ces).\n",
      "Sample 22 of 158, 'EN_BH_5', added to the nucleotide matrix(ces).\n",
      "Sample 23 of 158, 'EN_BH_6', added to the nucleotide matrix(ces).\n",
      "Sample 24 of 158, 'EN_BO_1', added to the nucleotide matrix(ces).\n",
      "Sample 25 of 158, 'EN_BO_2', added to the nucleotide matrix(ces).\n",
      "Sample 26 of 158, 'EN_BO_3', added to the nucleotide matrix(ces).\n",
      "Sample 27 of 158, 'EN_BO_4', added to the nucleotide matrix(ces).\n",
      "Sample 28 of 158, 'EN_BO_5', added to the nucleotide matrix(ces).\n",
      "Sample 29 of 158, 'EN_BO_6', added to the nucleotide matrix(ces).\n",
      "Sample 30 of 158, 'EN_BT_1', added to the nucleotide matrix(ces).\n",
      "Sample 31 of 158, 'EN_BT_2', added to the nucleotide matrix(ces).\n",
      "Sample 32 of 158, 'EN_BT_3', added to the nucleotide matrix(ces).\n",
      "Sample 33 of 158, 'EN_BT_4', added to the nucleotide matrix(ces).\n",
      "Sample 34 of 158, 'EN_BT_5', added to the nucleotide matrix(ces).\n",
      "Sample 35 of 158, 'EN_BT_6', added to the nucleotide matrix(ces).\n",
      "Sample 36 of 158, 'EN_BV_19', added to the nucleotide matrix(ces).\n",
      "Sample 37 of 158, 'EN_BV_20', added to the nucleotide matrix(ces).\n",
      "Sample 38 of 158, 'EN_BV_24', added to the nucleotide matrix(ces).\n",
      "Sample 39 of 158, 'EN_BV_26', added to the nucleotide matrix(ces).\n",
      "Sample 40 of 158, 'EN_BV_27', added to the nucleotide matrix(ces).\n",
      "Sample 41 of 158, 'EN_BV_28', added to the nucleotide matrix(ces).\n",
      "Sample 42 of 158, 'EN_CH_2', added to the nucleotide matrix(ces).\n",
      "Sample 43 of 158, 'EN_CH_3', added to the nucleotide matrix(ces).\n",
      "Sample 44 of 158, 'EN_CH_4', added to the nucleotide matrix(ces).\n",
      "Sample 45 of 158, 'EN_CH_5', added to the nucleotide matrix(ces).\n",
      "Sample 46 of 158, 'EN_CH_6', added to the nucleotide matrix(ces).\n",
      "Sample 47 of 158, 'EN_CH_7', added to the nucleotide matrix(ces).\n",
      "Sample 48 of 158, 'EN_CI_1', added to the nucleotide matrix(ces).\n",
      "Sample 49 of 158, 'EN_CI_2', added to the nucleotide matrix(ces).\n",
      "Sample 50 of 158, 'EN_CI_3', added to the nucleotide matrix(ces).\n",
      "Sample 51 of 158, 'EN_CI_4', added to the nucleotide matrix(ces).\n",
      "Sample 52 of 158, 'EN_CI_5', added to the nucleotide matrix(ces).\n",
      "Sample 53 of 158, 'EN_CN_1', added to the nucleotide matrix(ces).\n",
      "Sample 54 of 158, 'EN_CN_2', added to the nucleotide matrix(ces).\n",
      "Sample 55 of 158, 'EN_CN_4', added to the nucleotide matrix(ces).\n",
      "Sample 56 of 158, 'EN_CN_5', added to the nucleotide matrix(ces).\n",
      "Sample 57 of 158, 'EN_CN_6', added to the nucleotide matrix(ces).\n",
      "Sample 58 of 158, 'EN_CO_1', added to the nucleotide matrix(ces).\n",
      "Sample 59 of 158, 'EN_CO_2', added to the nucleotide matrix(ces).\n",
      "Sample 60 of 158, 'EN_CO_3', added to the nucleotide matrix(ces).\n",
      "Sample 61 of 158, 'EN_CO_4', added to the nucleotide matrix(ces).\n",
      "Sample 62 of 158, 'EN_CO_5', added to the nucleotide matrix(ces).\n",
      "Sample 63 of 158, 'EN_DC_11', added to the nucleotide matrix(ces).\n",
      "Sample 64 of 158, 'EN_DC_12', added to the nucleotide matrix(ces).\n",
      "Sample 65 of 158, 'EN_DC_15', added to the nucleotide matrix(ces).\n",
      "Sample 66 of 158, 'EN_DC_1', added to the nucleotide matrix(ces).\n",
      "Sample 67 of 158, 'EN_DC_5', added to the nucleotide matrix(ces).\n",
      "Sample 68 of 158, 'EN_DC_8', added to the nucleotide matrix(ces).\n",
      "Sample 69 of 158, 'EN_ED_1', added to the nucleotide matrix(ces).\n",
      "Sample 70 of 158, 'EN_ED_2', added to the nucleotide matrix(ces).\n",
      "Sample 71 of 158, 'EN_ED_3', added to the nucleotide matrix(ces).\n",
      "Sample 72 of 158, 'EN_EW_11', added to the nucleotide matrix(ces).\n",
      "Sample 73 of 158, 'EN_EW_12', added to the nucleotide matrix(ces).\n",
      "Sample 74 of 158, 'EN_EW_3', added to the nucleotide matrix(ces).\n",
      "Sample 75 of 158, 'EN_EW_4', added to the nucleotide matrix(ces).\n",
      "Sample 76 of 158, 'EN_EW_7', added to the nucleotide matrix(ces).\n",
      "Sample 77 of 158, 'EN_EW_9', added to the nucleotide matrix(ces).\n",
      "Sample 78 of 158, 'EN_HO_10', added to the nucleotide matrix(ces).\n",
      "Sample 79 of 158, 'EN_HO_15', added to the nucleotide matrix(ces).\n",
      "Sample 80 of 158, 'EN_HO_1', added to the nucleotide matrix(ces).\n",
      "Sample 81 of 158, 'EN_HO_4', added to the nucleotide matrix(ces).\n",
      "Sample 82 of 158, 'EN_HO_6', added to the nucleotide matrix(ces).\n",
      "Sample 83 of 158, 'EN_HO_7', added to the nucleotide matrix(ces).\n",
      "Sample 84 of 158, 'EN_JO_2', added to the nucleotide matrix(ces).\n",
      "Sample 85 of 158, 'EN_JO_3', added to the nucleotide matrix(ces).\n",
      "Sample 86 of 158, 'EN_JO_4', added to the nucleotide matrix(ces).\n",
      "Sample 87 of 158, 'EN_JO_5', added to the nucleotide matrix(ces).\n",
      "Sample 88 of 158, 'EN_JO_6', added to the nucleotide matrix(ces).\n",
      "Sample 89 of 158, 'EN_JT_1', added to the nucleotide matrix(ces).\n",
      "Sample 90 of 158, 'EN_JT_2', added to the nucleotide matrix(ces).\n",
      "Sample 91 of 158, 'EN_JT_3', added to the nucleotide matrix(ces).\n",
      "Sample 92 of 158, 'EN_JT_4', added to the nucleotide matrix(ces).\n",
      "Sample 93 of 158, 'EN_JT_5', added to the nucleotide matrix(ces).\n",
      "Sample 94 of 158, 'EN_JT_6', added to the nucleotide matrix(ces).\n",
      "Sample 95 of 158, 'EN_LO_1', added to the nucleotide matrix(ces).\n",
      "Sample 96 of 158, 'EN_LO_2', added to the nucleotide matrix(ces).\n",
      "Sample 97 of 158, 'EN_LO_3', added to the nucleotide matrix(ces).\n",
      "Sample 98 of 158, 'EN_LO_4', added to the nucleotide matrix(ces).\n",
      "Sample 99 of 158, 'EN_LO_5', added to the nucleotide matrix(ces).\n",
      "Sample 100 of 158, 'EN_LR_1', added to the nucleotide matrix(ces).\n",
      "Sample 101 of 158, 'EN_LR_2', added to the nucleotide matrix(ces).\n",
      "Sample 102 of 158, 'EN_LR_3', added to the nucleotide matrix(ces).\n",
      "Sample 103 of 158, 'EN_LR_4', added to the nucleotide matrix(ces).\n",
      "Sample 104 of 158, 'EN_LR_5', added to the nucleotide matrix(ces).\n",
      "Sample 105 of 158, 'EN_LR_6', added to the nucleotide matrix(ces).\n",
      "Sample 106 of 158, 'EN_LT_4', added to the nucleotide matrix(ces).\n",
      "Sample 107 of 158, 'EN_LT_5', added to the nucleotide matrix(ces).\n",
      "Sample 108 of 158, 'EN_LT_6', added to the nucleotide matrix(ces).\n",
      "Sample 109 of 158, 'EN_LV_17', added to the nucleotide matrix(ces).\n",
      "Sample 110 of 158, 'EN_LV_18', added to the nucleotide matrix(ces).\n",
      "Sample 111 of 158, 'EN_LV_25', added to the nucleotide matrix(ces).\n",
      "Sample 112 of 158, 'EN_MD_11', added to the nucleotide matrix(ces).\n",
      "Sample 113 of 158, 'EN_MD_13', added to the nucleotide matrix(ces).\n",
      "Sample 114 of 158, 'EN_MD_15', added to the nucleotide matrix(ces).\n",
      "Sample 115 of 158, 'EN_MD_2', added to the nucleotide matrix(ces).\n",
      "Sample 116 of 158, 'EN_MD_3', added to the nucleotide matrix(ces).\n",
      "Sample 117 of 158, 'EN_MD_9', added to the nucleotide matrix(ces).\n",
      "Sample 118 of 158, 'EN_NI_1', added to the nucleotide matrix(ces).\n",
      "Sample 119 of 158, 'EN_NI_2', added to the nucleotide matrix(ces).\n",
      "Sample 120 of 158, 'EN_NI_3', added to the nucleotide matrix(ces).\n",
      "Sample 121 of 158, 'EN_NI_4', added to the nucleotide matrix(ces).\n"
     ]
    },
    {
     "name": "stdout",
     "output_type": "stream",
     "text": [
      "Sample 122 of 158, 'EN_NI_5', added to the nucleotide matrix(ces).\n",
      "Sample 123 of 158, 'EN_NI_6', added to the nucleotide matrix(ces).\n",
      "Sample 124 of 158, 'EN_OT_1', added to the nucleotide matrix(ces).\n",
      "Sample 125 of 158, 'EN_OT_2', added to the nucleotide matrix(ces).\n",
      "Sample 126 of 158, 'EN_OT_3', added to the nucleotide matrix(ces).\n",
      "Sample 127 of 158, 'EN_OT_4', added to the nucleotide matrix(ces).\n",
      "Sample 128 of 158, 'EN_PT_4', added to the nucleotide matrix(ces).\n",
      "Sample 129 of 158, 'EN_PT_5', added to the nucleotide matrix(ces).\n",
      "Sample 130 of 158, 'EN_PT_8', added to the nucleotide matrix(ces).\n",
      "Sample 131 of 158, 'EN_PW_2', added to the nucleotide matrix(ces).\n",
      "Sample 132 of 158, 'EN_PW_3', added to the nucleotide matrix(ces).\n",
      "Sample 133 of 158, 'EN_PW_5', added to the nucleotide matrix(ces).\n",
      "Sample 134 of 158, 'EN_RS_1', added to the nucleotide matrix(ces).\n",
      "Sample 135 of 158, 'EN_RS_2', added to the nucleotide matrix(ces).\n",
      "Sample 136 of 158, 'EN_RS_4', added to the nucleotide matrix(ces).\n",
      "Sample 137 of 158, 'EN_RS_5', added to the nucleotide matrix(ces).\n",
      "Sample 138 of 158, 'EN_RS_6', added to the nucleotide matrix(ces).\n",
      "Sample 139 of 158, 'EN_RS_7', added to the nucleotide matrix(ces).\n",
      "Sample 140 of 158, 'EN_ST_10', added to the nucleotide matrix(ces).\n",
      "Sample 141 of 158, 'EN_ST_11', added to the nucleotide matrix(ces).\n",
      "Sample 142 of 158, 'EN_ST_12', added to the nucleotide matrix(ces).\n",
      "Sample 143 of 158, 'EN_ST_7', added to the nucleotide matrix(ces).\n",
      "Sample 144 of 158, 'EN_ST_8', added to the nucleotide matrix(ces).\n",
      "Sample 145 of 158, 'EN_ST_9', added to the nucleotide matrix(ces).\n",
      "Sample 146 of 158, 'EN_SS_12', added to the nucleotide matrix(ces).\n",
      "Sample 147 of 158, 'EN_SS_15', added to the nucleotide matrix(ces).\n",
      "Sample 148 of 158, 'EN_SS_2', added to the nucleotide matrix(ces).\n",
      "Sample 149 of 158, 'EN_UT_1', added to the nucleotide matrix(ces).\n",
      "Sample 150 of 158, 'EN_UT_2', added to the nucleotide matrix(ces).\n",
      "Sample 151 of 158, 'EN_UT_3', added to the nucleotide matrix(ces).\n",
      "Sample 152 of 158, 'EN_UT_4', added to the nucleotide matrix(ces).\n",
      "Sample 153 of 158, 'EN_UT_5', added to the nucleotide matrix(ces).\n",
      "Sample 154 of 158, 'EN_YL_1', added to the nucleotide matrix(ces).\n",
      "Sample 155 of 158, 'EN_YL_3', added to the nucleotide matrix(ces).\n",
      "Sample 156 of 158, 'EN_YL_4', added to the nucleotide matrix(ces).\n",
      "Sample 157 of 158, 'EN_YL_5', added to the nucleotide matrix(ces).\n",
      "Sample 158 of 158, 'EN_YL_6', added to the nucleotide matrix(ces).\n",
      "\n",
      "PHYLIP matrix saved to: ERNA_sub2_noHyb.recode.min4.phy\n",
      "\n",
      "Done!\n",
      "\n"
     ]
    }
   ],
   "source": [
    "!python $vcf2phy --i $vcf_sub2_noHyb"
   ]
  },
  {
   "cell_type": "markdown",
   "metadata": {},
   "source": [
    "#### NOTE: ran once but invariant sites. rerun with new .phy file"
   ]
  },
  {
   "cell_type": "code",
   "execution_count": 154,
   "metadata": {},
   "outputs": [],
   "source": [
    "#phy_file = os.path.join(iqtree_dir,'ERNA_sub2_noHyb.recode.min4.phy')\n",
    "phy_file = os.path.join(iqtree_dir,'ERNA_sub2_noHyb.recode.min4.phy.varsites.phy')"
   ]
  },
  {
   "cell_type": "code",
   "execution_count": 155,
   "metadata": {},
   "outputs": [],
   "source": [
    "### select options for slurm submission\n",
    "account = 'cpu-s5-denovo-0'\n",
    "partition = 'cpu-core-0'\n",
    "jobname = 'iqtree'\n",
    "time = '4-00:00:00' #time limit 1 day\n",
    "cpus = 16\n",
    "mem_cpu = 9000\n",
    "email = 'tfaske@nevada.unr.edu'\n",
    "\n",
    "### for iqtree\n",
    "model = 'GTR+ASC'\n",
    "bb = 1000 #bootstrap"
   ]
  },
  {
   "cell_type": "code",
   "execution_count": 156,
   "metadata": {},
   "outputs": [],
   "source": [
    "def write_iqtree_sh(account,partition,time,cpus,mem_cpu,email,iqtree_dir,phy,model,bb):\n",
    "    with open(\"run_sub2_noHyb_iqtree.sh\", \"w\") as o:\n",
    "        o.write(\"\"\"#!/usr/bin/env bash\n",
    "#SBATCH --account=%s\n",
    "#SBATCH --partition=%s\n",
    "#SBATCH --time=%s\n",
    "#SBATCH --ntasks 1\n",
    "#SBATCH --cpus-per-task %d\n",
    "#SBATCH --mem-per-cpu=%d\n",
    "#SBATCH --job-name iqtree_sub2_noHyb\n",
    "#SBATCH --output output_iqtree_sub2_noHyb.txt\n",
    "#SBATCH --mail-type=END\n",
    "#SBATCH --mail-user=%s\n",
    "\n",
    "cd %s\n",
    "    \n",
    "iqtree -s %s -nt %d -m %s -st DNA -bb %d \\n\\n\"\"\" % (account,partition,time,int(cpus),int(mem_cpu),email,iqtree_dir,phy,int(cpus),model,bb))\n",
    "        \n",
    "        "
   ]
  },
  {
   "cell_type": "code",
   "execution_count": 157,
   "metadata": {},
   "outputs": [],
   "source": [
    "write_iqtree_sh(account,partition,time,cpus,mem_cpu,email,iqtree_dir,phy_file,model,bb)"
   ]
  },
  {
   "cell_type": "code",
   "execution_count": null,
   "metadata": {},
   "outputs": [],
   "source": []
  },
  {
   "cell_type": "code",
   "execution_count": null,
   "metadata": {},
   "outputs": [],
   "source": []
  },
  {
   "cell_type": "code",
   "execution_count": null,
   "metadata": {},
   "outputs": [],
   "source": []
  },
  {
   "cell_type": "code",
   "execution_count": null,
   "metadata": {},
   "outputs": [],
   "source": []
  }
 ],
 "metadata": {
  "kernelspec": {
   "display_name": "Python 3 (ipykernel)",
   "language": "python",
   "name": "python3"
  },
  "language_info": {
   "codemirror_mode": {
    "name": "ipython",
    "version": 3
   },
   "file_extension": ".py",
   "mimetype": "text/x-python",
   "name": "python",
   "nbconvert_exporter": "python",
   "pygments_lexer": "ipython3",
   "version": "3.11.0"
  }
 },
 "nbformat": 4,
 "nbformat_minor": 4
}
