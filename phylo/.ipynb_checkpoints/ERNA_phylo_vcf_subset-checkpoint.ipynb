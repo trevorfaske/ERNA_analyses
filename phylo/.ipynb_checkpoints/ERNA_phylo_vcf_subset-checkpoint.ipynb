{
 "cells": [
  {
   "cell_type": "markdown",
   "metadata": {},
   "source": [
    "# Subset vcf file with outgroup for phylo   \n",
    "\n",
    "### move over ERNA_final and pca_df from local and SUBSET \n",
    "\n",
    "#### Make 2 vcfs, one with everyone known. Another with everyone known minus hybrids\n",
    "\n",
    "\n",
    "use preferred conda env  \n",
    "**Packages needed**: vcftools, bgzip, tabix"
   ]
  },
  {
   "cell_type": "code",
   "execution_count": 19,
   "metadata": {},
   "outputs": [],
   "source": [
    "import sys\n",
    "import ipyparallel as ipp\n",
    "import os\n",
    "from os import environ\n",
    "import gzip\n",
    "import warnings\n",
    "import pandas as pd\n",
    "import numpy as np\n",
    "import scipy as sp\n",
    "import glob\n",
    "import re\n",
    "import random"
   ]
  },
  {
   "cell_type": "code",
   "execution_count": 20,
   "metadata": {},
   "outputs": [],
   "source": [
    "vcftools = \"vcftools\"\n",
    "bcftools = \"bcftools\"\n",
    "bgzip = \"bgzip\"\n",
    "tabix = \"tabix\""
   ]
  },
  {
   "cell_type": "code",
   "execution_count": 21,
   "metadata": {},
   "outputs": [],
   "source": [
    "root = '/data/gpfs/assoc/denovo/tfaske/rabbit/full/phylo'"
   ]
  },
  {
   "cell_type": "code",
   "execution_count": 22,
   "metadata": {},
   "outputs": [
    {
     "name": "stdout",
     "output_type": "stream",
     "text": [
      "/data/gpfs/assoc/denovo/tfaske/rabbit/full/phylo\n"
     ]
    }
   ],
   "source": [
    "cd $root"
   ]
  },
  {
   "cell_type": "code",
   "execution_count": 23,
   "metadata": {},
   "outputs": [],
   "source": [
    "analysis_dir = os.path.join(root,'subset_vcf')"
   ]
  },
  {
   "cell_type": "code",
   "execution_count": 24,
   "metadata": {},
   "outputs": [
    {
     "name": "stdout",
     "output_type": "stream",
     "text": [
      "/data/gpfs/assoc/denovo/tfaske/rabbit/full/phylo/subset_vcf\n"
     ]
    }
   ],
   "source": [
    "cd $analysis_dir"
   ]
  },
  {
   "cell_type": "code",
   "execution_count": 25,
   "metadata": {},
   "outputs": [],
   "source": [
    "!cp ../filtering/good_snps.recode.vcf.gz . "
   ]
  },
  {
   "cell_type": "code",
   "execution_count": 26,
   "metadata": {
    "scrolled": true
   },
   "outputs": [
    {
     "data": {
      "text/plain": [
       "'/data/gpfs/assoc/denovo/tfaske/rabbit/full/phylo/subset_vcf/good_snps.recode.vcf.gz'"
      ]
     },
     "execution_count": 26,
     "metadata": {},
     "output_type": "execute_result"
    }
   ],
   "source": [
    "vcf_file = os.path.join(analysis_dir, \"good_snps.recode.vcf.gz\")\n",
    "assert os.path.exists(vcf_file)\n",
    "vcf_file"
   ]
  },
  {
   "cell_type": "markdown",
   "metadata": {},
   "source": [
    "### Make pop_id and join it with relavent info from pca_df and ERNA final"
   ]
  },
  {
   "cell_type": "code",
   "execution_count": 10,
   "metadata": {},
   "outputs": [],
   "source": [
    "%load_ext rpy2.ipython"
   ]
  },
  {
   "cell_type": "code",
   "execution_count": 12,
   "metadata": {
    "scrolled": true
   },
   "outputs": [],
   "source": [
    "%%R\n",
    "library(tidyverse)\n",
    "\n",
    "setwd('/data/gpfs/assoc/denovo/tfaske/rabbit/full/phylo/subset_vcf')"
   ]
  },
  {
   "cell_type": "code",
   "execution_count": 15,
   "metadata": {},
   "outputs": [
    {
     "name": "stdout",
     "output_type": "stream",
     "text": [
      "  Pop ID      All\n",
      "1  AH 10 EN_AH_10\n",
      "2  AH 11 EN_AH_11\n",
      "3  AH 12 EN_AH_12\n",
      "4  AH 13 EN_AH_13\n",
      "5  AH 14 EN_AH_14\n",
      "6  AH 15 EN_AH_15\n",
      "[1] 588   3\n"
     ]
    }
   ],
   "source": [
    "%%R\n",
    "#create Pop_ID file \n",
    "\n",
    "indv<-read.table(\"../filtering/good_snps.recode.vcf.012.indv\",sep=\"\\t\")\n",
    "\n",
    "Pop <- rep(NA,times=nrow(indv))\n",
    "ID <- rep(NA,times=nrow(indv))\n",
    "All <- rep(NA,times=nrow(indv))\n",
    "for (i in 1:nrow(indv)){\n",
    "  Pop[i] <- unlist(strsplit(as.character(indv$V1[i]),\"_\"))[2]\n",
    "  ID[i] <- unlist(strsplit(as.character(indv$V1[i]),\"_\"))[3]\n",
    "  All[i] <- as.character(indv$V1[i])\n",
    "}\n",
    "Pop_ID <- data.frame(Pop=Pop,ID=ID,All=All)\n",
    "print(head(Pop_ID))\n",
    "print(dim(Pop_ID))\n",
    "\n",
    "#write.csv(Pop_ID,'Pop_ID.csv',row.names=F)"
   ]
  },
  {
   "cell_type": "code",
   "execution_count": 44,
   "metadata": {},
   "outputs": [
    {
     "name": "stderr",
     "output_type": "stream",
     "text": [
      "R[write to console]: \u001b[1m\u001b[22mJoining, by = \"Pop\"\n",
      "\n"
     ]
    }
   ],
   "source": [
    "%%R\n",
    "ERNAfinal <- read.csv('ERNA_final_sample_list.csv')\n",
    "\n",
    "Pop_ID_Sum <- left_join(Pop_ID,ERNAfinal)\n",
    "Pop_ID_Sum$Ssp <- as.character(Pop_ID_Sum$Ssp)\n",
    "Pop_ID_Sum$Variety <- as.character(Pop_ID_Sum$Variety)\n",
    "\n",
    "### Add E.discoidea Ssp \n",
    "Pop_ID_Sum$Ssp[which(Pop_ID_Sum$Pop == 'ED')] <- Pop_ID_Sum$Variety[which(Pop_ID_Sum$Pop == 'ED')]\n",
    "\n",
    "#print(dim(Pop_ID_Sum))\n",
    "#print(head(Pop_ID_Sum))\n",
    "#print(Pop_ID_Sum[which(Pop_ID_Sum$Pop == 'ED'),])"
   ]
  },
  {
   "cell_type": "code",
   "execution_count": 45,
   "metadata": {},
   "outputs": [
    {
     "name": "stderr",
     "output_type": "stream",
     "text": [
      "R[write to console]: \u001b[1m\u001b[22mJoining, by = \"All\"\n",
      "\n"
     ]
    }
   ],
   "source": [
    "%%R\n",
    "\n",
    "## add pca_df info\n",
    "pca_df <- read.csv('pca_df.csv')\n",
    "\n",
    "#head(pca_df)\n",
    "\n",
    "#select important info\n",
    "pca_df <- pca_df[c('All','A1','Color')]\n",
    "names(pca_df)[c(2,3)] <- c('Anc','Lineage')\n",
    "\n",
    "#join \n",
    "Pop_ID_Sum <- left_join(Pop_ID_Sum,pca_df)\n",
    "Pop_ID_Sum$Lineage <- as.character(Pop_ID_Sum$Lineage)\n",
    "\n",
    "#add lineage to ED \n",
    "Pop_ID_Sum$Lineage[which(Pop_ID_Sum$Pop == 'ED')] <- 'outgroup'\n",
    "\n",
    "#### Write it out! \n",
    "write.csv(Pop_ID_Sum,'Pop_ID_Sum.csv',row.names = F)"
   ]
  },
  {
   "cell_type": "markdown",
   "metadata": {},
   "source": [
    "### Make vcf with everyone (including hybrids) but only has known infomation for var/ssp "
   ]
  },
  {
   "cell_type": "code",
   "execution_count": 52,
   "metadata": {},
   "outputs": [
    {
     "name": "stdout",
     "output_type": "stream",
     "text": [
      "[1] 513  12\n"
     ]
    }
   ],
   "source": [
    "%%R\n",
    "Pop_ID_known <- Pop_ID_Sum[-which(is.na(Pop_ID_Sum$Ssp)),]\n",
    "print(dim(Pop_ID_known))\n",
    "\n",
    "# write file with individuals to keep \n",
    "keep_all <- data.frame(INDV=as.character(Pop_ID_known$All))\n",
    "write.table(keep_all,'keep_known.txt',row.names=FALSE,quote=FALSE)\n",
    "write.csv(Pop_ID_known,'Pop_ID_known.csv',row.names = FALSE)"
   ]
  },
  {
   "cell_type": "code",
   "execution_count": 53,
   "metadata": {
    "scrolled": true
   },
   "outputs": [
    {
     "name": "stdout",
     "output_type": "stream",
     "text": [
      "\n",
      "VCFtools - 0.1.16\n",
      "(C) Adam Auton and Anthony Marcketta 2009\n",
      "\n",
      "Parameters as interpreted:\n",
      "\t--gzvcf /data/gpfs/home/tfaske/d/rabbit/full/phylo/subset_vcf/good_snps.recode.vcf.gz\n",
      "\t--keep keep_known.txt\n",
      "\t--recode-INFO-all\n",
      "\t--out ERNA_known\n",
      "\t--recode\n",
      "\n",
      "Using zlib version: 1.2.11\n",
      "Warning: Expected at least 2 parts in INFO entry: ID=AC,Number=A,Type=Integer,Description=\"Allele count in genotypes for each ALT allele, in the same order as listed\">\n",
      "Warning: Expected at least 2 parts in INFO entry: ID=DP4,Number=4,Type=Integer,Description=\"Number of high-quality ref-forward , ref-reverse, alt-forward and alt-reverse bases\">\n",
      "Warning: Expected at least 2 parts in INFO entry: ID=DP4,Number=4,Type=Integer,Description=\"Number of high-quality ref-forward , ref-reverse, alt-forward and alt-reverse bases\">\n",
      "Keeping individuals in 'keep' list\n",
      "After filtering, kept 513 out of 588 Individuals\n",
      "Outputting VCF file...\n",
      "After filtering, kept 23832 out of a possible 23832 Sites\n",
      "Run Time = 25.00 seconds\n"
     ]
    }
   ],
   "source": [
    "!$vcftools --gzvcf $vcf_file \\\n",
    "--recode \\\n",
    "--recode-INFO-all \\\n",
    "--keep 'keep_known.txt' \\\n",
    "--out 'ERNA_known'"
   ]
  },
  {
   "cell_type": "code",
   "execution_count": 55,
   "metadata": {},
   "outputs": [],
   "source": [
    "vcf_known = 'ERNA_known.recode.vcf'\n",
    "vcf_known_gz = vcf_known + \".gz\"\n",
    "!$bgzip -c {vcf_known} > {vcf_known_gz}\n",
    "!$tabix {vcf_known_gz}"
   ]
  },
  {
   "cell_type": "code",
   "execution_count": 56,
   "metadata": {},
   "outputs": [],
   "source": [
    "!rm 'ERNA_known.log'\n",
    "!rm 'ERNA_known.recode.vcf'\n",
    "!rm 'ERNA_known.recode.vcf.gz.tbi'"
   ]
  },
  {
   "cell_type": "markdown",
   "metadata": {},
   "source": [
    "### Make vcf with only pure subspecies AND only has known infomation for var/ssp "
   ]
  },
  {
   "cell_type": "code",
   "execution_count": 59,
   "metadata": {},
   "outputs": [
    {
     "name": "stdout",
     "output_type": "stream",
     "text": [
      "[1] 391  12\n"
     ]
    }
   ],
   "source": [
    "%%R\n",
    "Pop_ID_noHybrid <- Pop_ID_Sum[-which(is.na(Pop_ID_Sum$Ssp)),]\n",
    "Pop_ID_noHybrid <- Pop_ID_noHybrid[-which(Pop_ID_noHybrid$Lineage == 'hybrid'),]\n",
    "print(dim(Pop_ID_noHybrid))\n",
    "\n",
    "# write file with individuals to keep \n",
    "keep_noHybrid <- data.frame(INDV=as.character(Pop_ID_noHybrid$All))\n",
    "write.table(keep_noHybrid,'keep_noHybrid.txt',row.names=FALSE,quote=FALSE)\n",
    "write.csv(Pop_ID_noHybrid,'Pop_ID_noHybrid.csv',row.names = FALSE)"
   ]
  },
  {
   "cell_type": "code",
   "execution_count": 60,
   "metadata": {},
   "outputs": [
    {
     "name": "stdout",
     "output_type": "stream",
     "text": [
      "\n",
      "VCFtools - 0.1.16\n",
      "(C) Adam Auton and Anthony Marcketta 2009\n",
      "\n",
      "Parameters as interpreted:\n",
      "\t--gzvcf /data/gpfs/home/tfaske/d/rabbit/full/phylo/subset_vcf/good_snps.recode.vcf.gz\n",
      "\t--keep keep_noHybrid.txt\n",
      "\t--recode-INFO-all\n",
      "\t--out ERNA_noHybrid\n",
      "\t--recode\n",
      "\n",
      "Using zlib version: 1.2.11\n",
      "Warning: Expected at least 2 parts in INFO entry: ID=AC,Number=A,Type=Integer,Description=\"Allele count in genotypes for each ALT allele, in the same order as listed\">\n",
      "Warning: Expected at least 2 parts in INFO entry: ID=DP4,Number=4,Type=Integer,Description=\"Number of high-quality ref-forward , ref-reverse, alt-forward and alt-reverse bases\">\n",
      "Warning: Expected at least 2 parts in INFO entry: ID=DP4,Number=4,Type=Integer,Description=\"Number of high-quality ref-forward , ref-reverse, alt-forward and alt-reverse bases\">\n",
      "Keeping individuals in 'keep' list\n",
      "After filtering, kept 391 out of 588 Individuals\n",
      "Outputting VCF file...\n",
      "After filtering, kept 23832 out of a possible 23832 Sites\n",
      "Run Time = 20.00 seconds\n"
     ]
    }
   ],
   "source": [
    "!$vcftools --gzvcf $vcf_file \\\n",
    "--recode \\\n",
    "--recode-INFO-all \\\n",
    "--keep 'keep_noHybrid.txt' \\\n",
    "--out 'ERNA_noHybrid'"
   ]
  },
  {
   "cell_type": "code",
   "execution_count": 61,
   "metadata": {},
   "outputs": [],
   "source": [
    "vcf_noHybrid = 'ERNA_noHybrid.recode.vcf'\n",
    "vcf_noHybrid_gz = vcf_noHybrid + \".gz\"\n",
    "!$bgzip -c {vcf_noHybrid} > {vcf_noHybrid_gz}\n",
    "!$tabix {vcf_noHybrid_gz}"
   ]
  },
  {
   "cell_type": "code",
   "execution_count": 62,
   "metadata": {},
   "outputs": [],
   "source": [
    "!rm 'ERNA_noHybrid.log'\n",
    "!rm 'ERNA_noHybrid.recode.vcf'\n",
    "!rm 'ERNA_noHybrid.recode.vcf.gz.tbi'"
   ]
  },
  {
   "cell_type": "markdown",
   "metadata": {},
   "source": [
    "# Run IQtree\n",
    "\n",
    "### for each pop_known, select 3 individuals and run iqtree"
   ]
  },
  {
   "cell_type": "code",
   "execution_count": 67,
   "metadata": {},
   "outputs": [],
   "source": [
    "%%R \n",
    "\n",
    "Pop_ID_known <- read.csv('Pop_ID_known.csv')\n",
    "#table(Pop_ID_known$Pop)\n",
    "Pop_ID_known$Pop <- as.character(Pop_ID_known$Pop)\n",
    "\n",
    "pop_known <- unique(Pop_ID_known$Pop)\n",
    "Pop_ID_known_iqtree <- Pop_ID_known[1,]\n",
    "\n",
    "for (p in pop_known){\n",
    "    df <- Pop_ID_known[which(Pop_ID_known$Pop == p),]\n",
    "    if(nrow(df) >= 3){\n",
    "        index <- sample(1:nrow(df),3)\n",
    "        df <- df[index,]\n",
    "        Pop_ID_known_iqtree <- rbind(Pop_ID_known_iqtree,df)\n",
    "    }else{\n",
    "        Pop_ID_known_iqtree <- rbind(Pop_ID_known_iqtree,df)\n",
    "    }\n",
    "}\n",
    "Pop_ID_known_iqtree <- Pop_ID_known_iqtree[-1,]"
   ]
  },
  {
   "cell_type": "code",
   "execution_count": 72,
   "metadata": {},
   "outputs": [],
   "source": [
    "%%R \n",
    "# write file with individuals to keep \n",
    "keep_known_iqtree <- data.frame(INDV=as.character(Pop_ID_known_iqtree$All))\n",
    "write.table(keep_known_iqtree,'keep_known_iqtree.txt',row.names=FALSE,quote=FALSE)\n",
    "write.csv(Pop_ID_known_iqtree,'Pop_ID_known_iqtree.csv',row.names = FALSE)\n",
    "\n",
    "#print(length(unique(Pop_ID_known_iqtree$Pop)))\n",
    "#table(Pop_ID_known_iqtree$Pop)\n",
    "#print(nrow(Pop_ID_known_iqtree))\n",
    "#table(Pop_ID_known$Pop)"
   ]
  },
  {
   "cell_type": "code",
   "execution_count": 73,
   "metadata": {
    "scrolled": true
   },
   "outputs": [
    {
     "name": "stdout",
     "output_type": "stream",
     "text": [
      "\n",
      "VCFtools - 0.1.16\n",
      "(C) Adam Auton and Anthony Marcketta 2009\n",
      "\n",
      "Parameters as interpreted:\n",
      "\t--gzvcf /data/gpfs/home/tfaske/d/rabbit/full/phylo/subset_vcf/good_snps.recode.vcf.gz\n",
      "\t--keep keep_known_iqtree.txt\n",
      "\t--recode-INFO-all\n",
      "\t--out ERNA_known_iqtree\n",
      "\t--recode\n",
      "\n",
      "Using zlib version: 1.2.11\n",
      "Warning: Expected at least 2 parts in INFO entry: ID=AC,Number=A,Type=Integer,Description=\"Allele count in genotypes for each ALT allele, in the same order as listed\">\n",
      "Warning: Expected at least 2 parts in INFO entry: ID=DP4,Number=4,Type=Integer,Description=\"Number of high-quality ref-forward , ref-reverse, alt-forward and alt-reverse bases\">\n",
      "Warning: Expected at least 2 parts in INFO entry: ID=DP4,Number=4,Type=Integer,Description=\"Number of high-quality ref-forward , ref-reverse, alt-forward and alt-reverse bases\">\n",
      "Keeping individuals in 'keep' list\n",
      "After filtering, kept 182 out of 588 Individuals\n",
      "Outputting VCF file...\n",
      "After filtering, kept 23832 out of a possible 23832 Sites\n",
      "Run Time = 13.00 seconds\n"
     ]
    }
   ],
   "source": [
    "!$vcftools --gzvcf $vcf_file \\\n",
    "--recode \\\n",
    "--recode-INFO-all \\\n",
    "--keep 'keep_known_iqtree.txt' \\\n",
    "--out 'ERNA_known_iqtree'"
   ]
  },
  {
   "cell_type": "code",
   "execution_count": 74,
   "metadata": {},
   "outputs": [],
   "source": [
    "vcf_known_iqtree = 'ERNA_known_iqtree.recode.vcf'\n",
    "vcf_known_iqtree_gz = vcf_known_iqtree + \".gz\"\n",
    "!$bgzip -c {vcf_known_iqtree} > {vcf_known_iqtree_gz}\n",
    "!$tabix {vcf_known_iqtree_gz}"
   ]
  },
  {
   "cell_type": "code",
   "execution_count": 76,
   "metadata": {},
   "outputs": [],
   "source": [
    "!rm 'ERNA_known_iqtree.log'\n",
    "!rm 'ERNA_known_iqtree.recode.vcf'\n",
    "!rm 'ERNA_known_iqtree.recode.vcf.gz.tbi'"
   ]
  },
  {
   "cell_type": "markdown",
   "metadata": {},
   "source": [
    "## Run iqtree"
   ]
  },
  {
   "cell_type": "code",
   "execution_count": 97,
   "metadata": {},
   "outputs": [
    {
     "name": "stdout",
     "output_type": "stream",
     "text": [
      "/data/gpfs/assoc/denovo/tfaske/rabbit/full/phylo\n"
     ]
    }
   ],
   "source": [
    "cd $root"
   ]
  },
  {
   "cell_type": "code",
   "execution_count": 98,
   "metadata": {},
   "outputs": [],
   "source": [
    "!mkdir iqtree"
   ]
  },
  {
   "cell_type": "code",
   "execution_count": 124,
   "metadata": {},
   "outputs": [],
   "source": [
    "iqtree_dir = os.path.join(root,'iqtree')"
   ]
  },
  {
   "cell_type": "code",
   "execution_count": 100,
   "metadata": {},
   "outputs": [],
   "source": [
    "!cp 'subset_vcf/ERNA_known_iqtree.recode.vcf.gz' $iqtree_dir"
   ]
  },
  {
   "cell_type": "code",
   "execution_count": 125,
   "metadata": {},
   "outputs": [
    {
     "name": "stdout",
     "output_type": "stream",
     "text": [
      "/data/gpfs/assoc/denovo/tfaske/rabbit/full/phylo/iqtree\n"
     ]
    }
   ],
   "source": [
    "cd $iqtree_dir"
   ]
  },
  {
   "cell_type": "code",
   "execution_count": 102,
   "metadata": {},
   "outputs": [],
   "source": [
    "!gunzip 'ERNA_known_iqtree.recode.vcf.gz'"
   ]
  },
  {
   "cell_type": "code",
   "execution_count": 106,
   "metadata": {},
   "outputs": [],
   "source": [
    "vcf2phy = '/data/gpfs/assoc/parchmanlab/tfaske/src/phylo/./vcf2phylip.py'"
   ]
  },
  {
   "cell_type": "code",
   "execution_count": 126,
   "metadata": {},
   "outputs": [],
   "source": [
    "vcf_iqtree = os.path.join(iqtree_dir,'ERNA_known_iqtree.recode.vcf')"
   ]
  },
  {
   "cell_type": "code",
   "execution_count": 115,
   "metadata": {},
   "outputs": [
    {
     "name": "stdout",
     "output_type": "stream",
     "text": [
      "\n",
      "Converting file '/data/gpfs/home/tfaske/d/rabbit/full/phylo/iqtree/ERNA_known_iqtree.recode.vcf':\n",
      "\n",
      "Number of samples in VCF: 182\n",
      "Total of genotypes processed: 23832\n",
      "Genotypes excluded because they exceeded the amount of missing data allowed: 0\n",
      "Genotypes that passed missing data filter but were excluded for being MNPs: 0\n",
      "SNPs that passed the filters: 23832\n",
      "\n",
      "Sample 1 of 182, 'EN_AH_10', added to the nucleotide matrix(ces).\n",
      "Sample 2 of 182, 'EN_AH_15', added to the nucleotide matrix(ces).\n",
      "Sample 3 of 182, 'EN_AH_3', added to the nucleotide matrix(ces).\n",
      "Sample 4 of 182, 'EN_AR_4', added to the nucleotide matrix(ces).\n",
      "Sample 5 of 182, 'EN_AR_5', added to the nucleotide matrix(ces).\n",
      "Sample 6 of 182, 'EN_AR_6', added to the nucleotide matrix(ces).\n",
      "Sample 7 of 182, 'EN_AS_18', added to the nucleotide matrix(ces).\n",
      "Sample 8 of 182, 'EN_AS_22', added to the nucleotide matrix(ces).\n",
      "Sample 9 of 182, 'EN_AS_26', added to the nucleotide matrix(ces).\n",
      "Sample 10 of 182, 'EN_BC_12', added to the nucleotide matrix(ces).\n",
      "Sample 11 of 182, 'EN_BC_5', added to the nucleotide matrix(ces).\n",
      "Sample 12 of 182, 'EN_BC_9', added to the nucleotide matrix(ces).\n",
      "Sample 13 of 182, 'EN_BH_1', added to the nucleotide matrix(ces).\n",
      "Sample 14 of 182, 'EN_BH_4', added to the nucleotide matrix(ces).\n",
      "Sample 15 of 182, 'EN_BH_5', added to the nucleotide matrix(ces).\n",
      "Sample 16 of 182, 'EN_BM_25', added to the nucleotide matrix(ces).\n",
      "Sample 17 of 182, 'EN_BM_26', added to the nucleotide matrix(ces).\n",
      "Sample 18 of 182, 'EN_BM_30', added to the nucleotide matrix(ces).\n",
      "Sample 19 of 182, 'EN_BO_2', added to the nucleotide matrix(ces).\n",
      "Sample 20 of 182, 'EN_BO_3', added to the nucleotide matrix(ces).\n",
      "Sample 21 of 182, 'EN_BO_4', added to the nucleotide matrix(ces).\n",
      "Sample 22 of 182, 'EN_BT_1', added to the nucleotide matrix(ces).\n",
      "Sample 23 of 182, 'EN_BT_4', added to the nucleotide matrix(ces).\n",
      "Sample 24 of 182, 'EN_BT_6', added to the nucleotide matrix(ces).\n",
      "Sample 25 of 182, 'EN_BV_16', added to the nucleotide matrix(ces).\n",
      "Sample 26 of 182, 'EN_BV_28', added to the nucleotide matrix(ces).\n",
      "Sample 27 of 182, 'EN_BV_30', added to the nucleotide matrix(ces).\n",
      "Sample 28 of 182, 'EN_CH_2', added to the nucleotide matrix(ces).\n",
      "Sample 29 of 182, 'EN_CH_4', added to the nucleotide matrix(ces).\n",
      "Sample 30 of 182, 'EN_CH_6', added to the nucleotide matrix(ces).\n",
      "Sample 31 of 182, 'EN_CI_1', added to the nucleotide matrix(ces).\n",
      "Sample 32 of 182, 'EN_CI_4', added to the nucleotide matrix(ces).\n",
      "Sample 33 of 182, 'EN_CI_5', added to the nucleotide matrix(ces).\n",
      "Sample 34 of 182, 'EN_CL_1', added to the nucleotide matrix(ces).\n",
      "Sample 35 of 182, 'EN_CL_3', added to the nucleotide matrix(ces).\n",
      "Sample 36 of 182, 'EN_CL_6', added to the nucleotide matrix(ces).\n",
      "Sample 37 of 182, 'EN_CN_1', added to the nucleotide matrix(ces).\n",
      "Sample 38 of 182, 'EN_CN_2', added to the nucleotide matrix(ces).\n",
      "Sample 39 of 182, 'EN_CN_4', added to the nucleotide matrix(ces).\n",
      "Sample 40 of 182, 'EN_CO_2', added to the nucleotide matrix(ces).\n",
      "Sample 41 of 182, 'EN_CO_3', added to the nucleotide matrix(ces).\n",
      "Sample 42 of 182, 'EN_CO_4', added to the nucleotide matrix(ces).\n",
      "Sample 43 of 182, 'EN_CT_2', added to the nucleotide matrix(ces).\n",
      "Sample 44 of 182, 'EN_CT_3', added to the nucleotide matrix(ces).\n",
      "Sample 45 of 182, 'EN_CT_4', added to the nucleotide matrix(ces).\n",
      "Sample 46 of 182, 'EN_DC_13', added to the nucleotide matrix(ces).\n",
      "Sample 47 of 182, 'EN_DC_1', added to the nucleotide matrix(ces).\n",
      "Sample 48 of 182, 'EN_DC_6', added to the nucleotide matrix(ces).\n",
      "Sample 49 of 182, 'EN_DH_16', added to the nucleotide matrix(ces).\n",
      "Sample 50 of 182, 'EN_DH_22', added to the nucleotide matrix(ces).\n",
      "Sample 51 of 182, 'EN_DH_23', added to the nucleotide matrix(ces).\n",
      "Sample 52 of 182, 'EN_DT_1', added to the nucleotide matrix(ces).\n",
      "Sample 53 of 182, 'EN_DT_4', added to the nucleotide matrix(ces).\n",
      "Sample 54 of 182, 'EN_DT_5', added to the nucleotide matrix(ces).\n",
      "Sample 55 of 182, 'EN_ED_1', added to the nucleotide matrix(ces).\n",
      "Sample 56 of 182, 'EN_ED_2', added to the nucleotide matrix(ces).\n",
      "Sample 57 of 182, 'EN_ED_3', added to the nucleotide matrix(ces).\n",
      "Sample 58 of 182, 'EN_EW_7', added to the nucleotide matrix(ces).\n",
      "Sample 59 of 182, 'EN_EW_8', added to the nucleotide matrix(ces).\n",
      "Sample 60 of 182, 'EN_EW_9', added to the nucleotide matrix(ces).\n",
      "Sample 61 of 182, 'EN_FR_13', added to the nucleotide matrix(ces).\n",
      "Sample 62 of 182, 'EN_FR_4', added to the nucleotide matrix(ces).\n",
      "Sample 63 of 182, 'EN_FR_5', added to the nucleotide matrix(ces).\n",
      "Sample 64 of 182, 'EN_GB_16', added to the nucleotide matrix(ces).\n",
      "Sample 65 of 182, 'EN_GB_18', added to the nucleotide matrix(ces).\n",
      "Sample 66 of 182, 'EN_GB_29', added to the nucleotide matrix(ces).\n",
      "Sample 67 of 182, 'EN_GO_4', added to the nucleotide matrix(ces).\n",
      "Sample 68 of 182, 'EN_GO_5', added to the nucleotide matrix(ces).\n",
      "Sample 69 of 182, 'EN_GO_6', added to the nucleotide matrix(ces).\n",
      "Sample 70 of 182, 'EN_HL_1', added to the nucleotide matrix(ces).\n",
      "Sample 71 of 182, 'EN_HL_3', added to the nucleotide matrix(ces).\n",
      "Sample 72 of 182, 'EN_HL_5', added to the nucleotide matrix(ces).\n",
      "Sample 73 of 182, 'EN_HO_2', added to the nucleotide matrix(ces).\n",
      "Sample 74 of 182, 'EN_HO_7', added to the nucleotide matrix(ces).\n",
      "Sample 75 of 182, 'EN_HO_9', added to the nucleotide matrix(ces).\n",
      "Sample 76 of 182, 'EN_IO_1', added to the nucleotide matrix(ces).\n",
      "Sample 77 of 182, 'EN_IO_4', added to the nucleotide matrix(ces).\n",
      "Sample 78 of 182, 'EN_IO_5', added to the nucleotide matrix(ces).\n",
      "Sample 79 of 182, 'EN_JC_11', added to the nucleotide matrix(ces).\n",
      "Sample 80 of 182, 'EN_JC_15', added to the nucleotide matrix(ces).\n",
      "Sample 81 of 182, 'EN_JC_6', added to the nucleotide matrix(ces).\n",
      "Sample 82 of 182, 'EN_JO_2', added to the nucleotide matrix(ces).\n",
      "Sample 83 of 182, 'EN_JO_3', added to the nucleotide matrix(ces).\n",
      "Sample 84 of 182, 'EN_JO_4', added to the nucleotide matrix(ces).\n",
      "Sample 85 of 182, 'EN_JT_4', added to the nucleotide matrix(ces).\n",
      "Sample 86 of 182, 'EN_JT_5', added to the nucleotide matrix(ces).\n",
      "Sample 87 of 182, 'EN_JT_6', added to the nucleotide matrix(ces).\n",
      "Sample 88 of 182, 'EN_LA_2', added to the nucleotide matrix(ces).\n",
      "Sample 89 of 182, 'EN_LA_3', added to the nucleotide matrix(ces).\n",
      "Sample 90 of 182, 'EN_LA_5', added to the nucleotide matrix(ces).\n",
      "Sample 91 of 182, 'EN_LO_2', added to the nucleotide matrix(ces).\n",
      "Sample 92 of 182, 'EN_LO_4', added to the nucleotide matrix(ces).\n",
      "Sample 93 of 182, 'EN_LO_5', added to the nucleotide matrix(ces).\n",
      "Sample 94 of 182, 'EN_LR_1', added to the nucleotide matrix(ces).\n",
      "Sample 95 of 182, 'EN_LR_5', added to the nucleotide matrix(ces).\n",
      "Sample 96 of 182, 'EN_LR_6', added to the nucleotide matrix(ces).\n",
      "Sample 97 of 182, 'EN_LT_3', added to the nucleotide matrix(ces).\n",
      "Sample 98 of 182, 'EN_LT_4', added to the nucleotide matrix(ces).\n",
      "Sample 99 of 182, 'EN_LT_6', added to the nucleotide matrix(ces).\n",
      "Sample 100 of 182, 'EN_LV_17', added to the nucleotide matrix(ces).\n",
      "Sample 101 of 182, 'EN_LV_18', added to the nucleotide matrix(ces).\n",
      "Sample 102 of 182, 'EN_LV_24', added to the nucleotide matrix(ces).\n",
      "Sample 103 of 182, 'EN_MD_13', added to the nucleotide matrix(ces).\n",
      "Sample 104 of 182, 'EN_MD_1', added to the nucleotide matrix(ces).\n",
      "Sample 105 of 182, 'EN_MD_4', added to the nucleotide matrix(ces).\n",
      "Sample 106 of 182, 'EN_NH_2', added to the nucleotide matrix(ces).\n",
      "Sample 107 of 182, 'EN_NH_4', added to the nucleotide matrix(ces).\n",
      "Sample 108 of 182, 'EN_NH_5', added to the nucleotide matrix(ces).\n",
      "Sample 109 of 182, 'EN_NI_1', added to the nucleotide matrix(ces).\n",
      "Sample 110 of 182, 'EN_NI_2', added to the nucleotide matrix(ces).\n",
      "Sample 111 of 182, 'EN_NI_5', added to the nucleotide matrix(ces).\n",
      "Sample 112 of 182, 'EN_NO_2', added to the nucleotide matrix(ces).\n",
      "Sample 113 of 182, 'EN_NO_4', added to the nucleotide matrix(ces).\n",
      "Sample 114 of 182, 'EN_NO_5', added to the nucleotide matrix(ces).\n",
      "Sample 115 of 182, 'EN_NT_1', added to the nucleotide matrix(ces).\n",
      "Sample 116 of 182, 'EN_NT_2', added to the nucleotide matrix(ces).\n",
      "Sample 117 of 182, 'EN_NT_4', added to the nucleotide matrix(ces).\n",
      "Sample 118 of 182, 'EN_NV_1', added to the nucleotide matrix(ces).\n",
      "Sample 119 of 182, 'EN_NV_2', added to the nucleotide matrix(ces).\n",
      "Sample 120 of 182, 'EN_NV_3', added to the nucleotide matrix(ces).\n"
     ]
    },
    {
     "name": "stdout",
     "output_type": "stream",
     "text": [
      "Sample 121 of 182, 'EN_OO_2', added to the nucleotide matrix(ces).\n",
      "Sample 122 of 182, 'EN_OO_4', added to the nucleotide matrix(ces).\n",
      "Sample 123 of 182, 'EN_OO_6', added to the nucleotide matrix(ces).\n",
      "Sample 124 of 182, 'EN_OT_1', added to the nucleotide matrix(ces).\n",
      "Sample 125 of 182, 'EN_OT_3', added to the nucleotide matrix(ces).\n",
      "Sample 126 of 182, 'EN_OT_4', added to the nucleotide matrix(ces).\n",
      "Sample 127 of 182, 'EN_PB_2', added to the nucleotide matrix(ces).\n",
      "Sample 128 of 182, 'EN_PB_3', added to the nucleotide matrix(ces).\n",
      "Sample 129 of 182, 'EN_PB_5', added to the nucleotide matrix(ces).\n",
      "Sample 130 of 182, 'EN_PL_16', added to the nucleotide matrix(ces).\n",
      "Sample 131 of 182, 'EN_PL_22', added to the nucleotide matrix(ces).\n",
      "Sample 132 of 182, 'EN_PL_26', added to the nucleotide matrix(ces).\n",
      "Sample 133 of 182, 'EN_PT_13', added to the nucleotide matrix(ces).\n",
      "Sample 134 of 182, 'EN_PT_1', added to the nucleotide matrix(ces).\n",
      "Sample 135 of 182, 'EN_PT_4', added to the nucleotide matrix(ces).\n",
      "Sample 136 of 182, 'EN_PW_5', added to the nucleotide matrix(ces).\n",
      "Sample 137 of 182, 'EN_PW_7', added to the nucleotide matrix(ces).\n",
      "Sample 138 of 182, 'EN_PW_8', added to the nucleotide matrix(ces).\n",
      "Sample 139 of 182, 'EN_RH_2', added to the nucleotide matrix(ces).\n",
      "Sample 140 of 182, 'EN_RH_3', added to the nucleotide matrix(ces).\n",
      "Sample 141 of 182, 'EN_RH_5', added to the nucleotide matrix(ces).\n",
      "Sample 142 of 182, 'EN_RL_3', added to the nucleotide matrix(ces).\n",
      "Sample 143 of 182, 'EN_RL_5', added to the nucleotide matrix(ces).\n",
      "Sample 144 of 182, 'EN_RL_6', added to the nucleotide matrix(ces).\n",
      "Sample 145 of 182, 'EN_RO_1', added to the nucleotide matrix(ces).\n",
      "Sample 146 of 182, 'EN_RO_3', added to the nucleotide matrix(ces).\n",
      "Sample 147 of 182, 'EN_RO_6', added to the nucleotide matrix(ces).\n",
      "Sample 148 of 182, 'EN_RS_1', added to the nucleotide matrix(ces).\n",
      "Sample 149 of 182, 'EN_RS_4', added to the nucleotide matrix(ces).\n",
      "Sample 150 of 182, 'EN_RS_6', added to the nucleotide matrix(ces).\n",
      "Sample 151 of 182, 'EN_RT_1', added to the nucleotide matrix(ces).\n",
      "Sample 152 of 182, 'EN_RT_2', added to the nucleotide matrix(ces).\n",
      "Sample 153 of 182, 'EN_SC_13', added to the nucleotide matrix(ces).\n",
      "Sample 154 of 182, 'EN_SC_2', added to the nucleotide matrix(ces).\n",
      "Sample 155 of 182, 'EN_SC_4', added to the nucleotide matrix(ces).\n",
      "Sample 156 of 182, 'EN_SJ_5', added to the nucleotide matrix(ces).\n",
      "Sample 157 of 182, 'EN_SJ_6', added to the nucleotide matrix(ces).\n",
      "Sample 158 of 182, 'EN_SJ_7', added to the nucleotide matrix(ces).\n",
      "Sample 159 of 182, 'EN_SS_15', added to the nucleotide matrix(ces).\n",
      "Sample 160 of 182, 'EN_SS_8', added to the nucleotide matrix(ces).\n",
      "Sample 161 of 182, 'EN_SS_9', added to the nucleotide matrix(ces).\n",
      "Sample 162 of 182, 'EN_TO_1', added to the nucleotide matrix(ces).\n",
      "Sample 163 of 182, 'EN_TO_4', added to the nucleotide matrix(ces).\n",
      "Sample 164 of 182, 'EN_TO_5', added to the nucleotide matrix(ces).\n",
      "Sample 165 of 182, 'EN_UO_1', added to the nucleotide matrix(ces).\n",
      "Sample 166 of 182, 'EN_UO_4', added to the nucleotide matrix(ces).\n",
      "Sample 167 of 182, 'EN_UO_5', added to the nucleotide matrix(ces).\n",
      "Sample 168 of 182, 'EN_UT_2', added to the nucleotide matrix(ces).\n",
      "Sample 169 of 182, 'EN_UT_3', added to the nucleotide matrix(ces).\n",
      "Sample 170 of 182, 'EN_UT_5', added to the nucleotide matrix(ces).\n",
      "Sample 171 of 182, 'EN_VI_1', added to the nucleotide matrix(ces).\n",
      "Sample 172 of 182, 'EN_VI_3', added to the nucleotide matrix(ces).\n",
      "Sample 173 of 182, 'EN_VI_5', added to the nucleotide matrix(ces).\n",
      "Sample 174 of 182, 'EN_VM_12', added to the nucleotide matrix(ces).\n",
      "Sample 175 of 182, 'EN_VM_3', added to the nucleotide matrix(ces).\n",
      "Sample 176 of 182, 'EN_VM_5', added to the nucleotide matrix(ces).\n",
      "Sample 177 of 182, 'EN_WA_1', added to the nucleotide matrix(ces).\n",
      "Sample 178 of 182, 'EN_WA_3', added to the nucleotide matrix(ces).\n",
      "Sample 179 of 182, 'EN_WA_6', added to the nucleotide matrix(ces).\n",
      "Sample 180 of 182, 'EN_YL_3', added to the nucleotide matrix(ces).\n",
      "Sample 181 of 182, 'EN_YL_5', added to the nucleotide matrix(ces).\n",
      "Sample 182 of 182, 'EN_YL_6', added to the nucleotide matrix(ces).\n",
      "\n",
      "PHYLIP matrix saved to: ERNA_known_iqtree.recode.min4.phy\n",
      "\n",
      "Done!\n",
      "\n"
     ]
    }
   ],
   "source": [
    "!python $vcf2phy --i $vcf_iqtree"
   ]
  },
  {
   "cell_type": "markdown",
   "metadata": {},
   "source": [
    "#### NOTE: ran once but invariant sites. rerun with new .phy file"
   ]
  },
  {
   "cell_type": "code",
   "execution_count": 151,
   "metadata": {},
   "outputs": [],
   "source": [
    "phy_file = os.path.join(iqtree_dir,'ERNA_known_iqtree.recode.min4.phy.varsites.phy')"
   ]
  },
  {
   "cell_type": "code",
   "execution_count": 152,
   "metadata": {},
   "outputs": [],
   "source": [
    "### select options for slurm submission\n",
    "account = 'cpu-s5-denovo-0'\n",
    "partition = 'cpu-core-0'\n",
    "jobname = 'iqtree'\n",
    "time = '4-00:00:00' #time limit 1 day\n",
    "cpus = 16\n",
    "mem_cpu = 9000\n",
    "email = 'tfaske@nevada.unr.edu'\n",
    "\n",
    "### for iqtree\n",
    "model = 'GTR+ASC'\n",
    "bb = 1000 #bootstrap"
   ]
  },
  {
   "cell_type": "code",
   "execution_count": 153,
   "metadata": {},
   "outputs": [],
   "source": [
    "def write_iqtree_sh(account,partition,time,cpus,mem_cpu,email,iqtree_dir,phy,model,bb):\n",
    "    with open(\"run_known_iqtree.sh\", \"w\") as o:\n",
    "        o.write(\"\"\"#!/usr/bin/env bash\n",
    "#SBATCH --account=%s\n",
    "#SBATCH --partition=%s\n",
    "#SBATCH --time=%s\n",
    "#SBATCH --ntasks 1\n",
    "#SBATCH --cpus-per-task %d\n",
    "#SBATCH --mem-per-cpu=%d\n",
    "#SBATCH --job-name iqtree\n",
    "#SBATCH --output output_iqtree.txt\n",
    "#SBATCH --mail-type=END\n",
    "#SBATCH --mail-user=%s\n",
    "\n",
    "cd %s\n",
    "    \n",
    "iqtree -s %s -nt %d -m %s -st DNA -bb %d \\n\\n\"\"\" % (account,partition,time,int(cpus),int(mem_cpu),email,iqtree_dir,phy,int(cpus),model,bb))\n",
    "        \n",
    "        "
   ]
  },
  {
   "cell_type": "code",
   "execution_count": 154,
   "metadata": {},
   "outputs": [],
   "source": [
    "write_iqtree_sh(account,partition,time,cpus,mem_cpu,email,iqtree_dir,phy_file,model,bb)"
   ]
  },
  {
   "cell_type": "markdown",
   "metadata": {},
   "source": [
    "# Run iqtree.sh\n",
    "    cd /data/gpfs/home/tfaske/d/rabbit/full/phylo/iqtree\n",
    "    source activate py311\n",
    "    sbatch run_iqtree.sh"
   ]
  },
  {
   "cell_type": "markdown",
   "metadata": {},
   "source": [
    "# Run IQtree (no hybrids)\n",
    "\n",
    "### for each pop_noHybrid, select 3 individuals and run iqtree"
   ]
  },
  {
   "cell_type": "code",
   "execution_count": 2,
   "metadata": {},
   "outputs": [],
   "source": [
    "%load_ext rpy2.ipython"
   ]
  },
  {
   "cell_type": "code",
   "execution_count": 4,
   "metadata": {
    "scrolled": true
   },
   "outputs": [],
   "source": [
    "%%R\n",
    "library(tidyverse)\n",
    "\n",
    "setwd('/data/gpfs/assoc/denovo/tfaske/rabbit/full/phylo/subset_vcf')"
   ]
  },
  {
   "cell_type": "code",
   "execution_count": 5,
   "metadata": {},
   "outputs": [],
   "source": [
    "%%R \n",
    "\n",
    "Pop_ID_noHybrid <- read.csv('Pop_ID_noHybrid.csv')\n",
    "#table(Pop_ID_noHybrid$Pop)\n",
    "Pop_ID_noHybrid$Pop <- as.character(Pop_ID_noHybrid$Pop)\n",
    "\n",
    "pop_noHybrid <- unique(Pop_ID_noHybrid$Pop)\n",
    "Pop_ID_noHybrid_iqtree <- Pop_ID_noHybrid[1,]\n",
    "\n",
    "for (p in pop_noHybrid){\n",
    "    df <- Pop_ID_noHybrid[which(Pop_ID_noHybrid$Pop == p),]\n",
    "    if(nrow(df) >= 3){\n",
    "        index <- sample(1:nrow(df),3)\n",
    "        df <- df[index,]\n",
    "        Pop_ID_noHybrid_iqtree <- rbind(Pop_ID_noHybrid_iqtree,df)\n",
    "    }else{\n",
    "        Pop_ID_noHybrid_iqtree <- rbind(Pop_ID_noHybrid_iqtree,df)\n",
    "    }\n",
    "}\n",
    "Pop_ID_noHybrid_iqtree <- Pop_ID_noHybrid_iqtree[-1,]"
   ]
  },
  {
   "cell_type": "code",
   "execution_count": 9,
   "metadata": {},
   "outputs": [
    {
     "name": "stdout",
     "output_type": "stream",
     "text": [
      "[1] 135  12\n",
      "[1] 47\n"
     ]
    }
   ],
   "source": [
    "%%R \n",
    "\n",
    "print(dim(Pop_ID_noHybrid_iqtree))\n",
    "print(length(unique(Pop_ID_noHybrid_iqtree$Pop)))"
   ]
  },
  {
   "cell_type": "code",
   "execution_count": 10,
   "metadata": {},
   "outputs": [],
   "source": [
    "%%R \n",
    "# write file with individuals to keep \n",
    "keep_noHybrid_iqtree <- data.frame(INDV=as.character(Pop_ID_noHybrid_iqtree$All))\n",
    "write.table(keep_noHybrid_iqtree,'keep_noHybrid_iqtree.txt',row.names=FALSE,quote=FALSE)\n",
    "write.csv(Pop_ID_noHybrid_iqtree,'Pop_ID_noHybrid_iqtree.csv',row.names = FALSE)\n",
    "\n",
    "#print(length(unique(Pop_ID_noHybrid_iqtree$Pop)))\n",
    "#table(Pop_ID_noHybrid_iqtree$Pop)\n",
    "#print(nrow(Pop_ID_noHybrid_iqtree))\n",
    "#table(Pop_ID_noHybrid$Pop)"
   ]
  },
  {
   "cell_type": "code",
   "execution_count": 27,
   "metadata": {
    "scrolled": true
   },
   "outputs": [
    {
     "name": "stdout",
     "output_type": "stream",
     "text": [
      "\n",
      "VCFtools - 0.1.16\n",
      "(C) Adam Auton and Anthony Marcketta 2009\n",
      "\n",
      "Parameters as interpreted:\n",
      "\t--gzvcf /data/gpfs/assoc/denovo/tfaske/rabbit/full/phylo/subset_vcf/good_snps.recode.vcf.gz\n",
      "\t--keep keep_noHybrid_iqtree.txt\n",
      "\t--recode-INFO-all\n",
      "\t--out ERNA_noHybrid_iqtree\n",
      "\t--recode\n",
      "\n",
      "Using zlib version: 1.2.11\n",
      "Warning: Expected at least 2 parts in INFO entry: ID=AC,Number=A,Type=Integer,Description=\"Allele count in genotypes for each ALT allele, in the same order as listed\">\n",
      "Warning: Expected at least 2 parts in INFO entry: ID=DP4,Number=4,Type=Integer,Description=\"Number of high-quality ref-forward , ref-reverse, alt-forward and alt-reverse bases\">\n",
      "Warning: Expected at least 2 parts in INFO entry: ID=DP4,Number=4,Type=Integer,Description=\"Number of high-quality ref-forward , ref-reverse, alt-forward and alt-reverse bases\">\n",
      "Keeping individuals in 'keep' list\n",
      "After filtering, kept 135 out of 588 Individuals\n",
      "Outputting VCF file...\n",
      "After filtering, kept 23832 out of a possible 23832 Sites\n",
      "Run Time = 11.00 seconds\n"
     ]
    }
   ],
   "source": [
    "!$vcftools --gzvcf $vcf_file \\\n",
    "--recode \\\n",
    "--recode-INFO-all \\\n",
    "--keep 'keep_noHybrid_iqtree.txt' \\\n",
    "--out 'ERNA_noHybrid_iqtree'"
   ]
  },
  {
   "cell_type": "code",
   "execution_count": 28,
   "metadata": {},
   "outputs": [],
   "source": [
    "vcf_noHybrid_iqtree = 'ERNA_noHybrid_iqtree.recode.vcf'\n",
    "vcf_noHybrid_iqtree_gz = vcf_noHybrid_iqtree + \".gz\"\n",
    "!$bgzip -c {vcf_noHybrid_iqtree} > {vcf_noHybrid_iqtree_gz}\n",
    "!$tabix {vcf_noHybrid_iqtree_gz}"
   ]
  },
  {
   "cell_type": "code",
   "execution_count": 29,
   "metadata": {},
   "outputs": [],
   "source": [
    "!rm 'ERNA_noHybrid_iqtree.log'\n",
    "!rm 'ERNA_noHybrid_iqtree.recode.vcf'\n",
    "!rm 'ERNA_noHybrid_iqtree.recode.vcf.gz.tbi'"
   ]
  },
  {
   "cell_type": "markdown",
   "metadata": {},
   "source": [
    "## Run iqtree"
   ]
  },
  {
   "cell_type": "code",
   "execution_count": 30,
   "metadata": {},
   "outputs": [
    {
     "name": "stdout",
     "output_type": "stream",
     "text": [
      "/data/gpfs/assoc/denovo/tfaske/rabbit/full/phylo\n"
     ]
    }
   ],
   "source": [
    "cd $root"
   ]
  },
  {
   "cell_type": "code",
   "execution_count": 31,
   "metadata": {},
   "outputs": [
    {
     "name": "stdout",
     "output_type": "stream",
     "text": [
      "mkdir: cannot create directory ‘iqtree’: File exists\r\n"
     ]
    }
   ],
   "source": [
    "!mkdir iqtree"
   ]
  },
  {
   "cell_type": "code",
   "execution_count": 32,
   "metadata": {},
   "outputs": [],
   "source": [
    "iqtree_dir = os.path.join(root,'iqtree')"
   ]
  },
  {
   "cell_type": "code",
   "execution_count": 33,
   "metadata": {},
   "outputs": [],
   "source": [
    "!cp 'subset_vcf/ERNA_noHybrid_iqtree.recode.vcf.gz' $iqtree_dir"
   ]
  },
  {
   "cell_type": "code",
   "execution_count": 34,
   "metadata": {},
   "outputs": [
    {
     "name": "stdout",
     "output_type": "stream",
     "text": [
      "/data/gpfs/assoc/denovo/tfaske/rabbit/full/phylo/iqtree\n"
     ]
    }
   ],
   "source": [
    "cd $iqtree_dir"
   ]
  },
  {
   "cell_type": "code",
   "execution_count": 35,
   "metadata": {},
   "outputs": [],
   "source": [
    "!gunzip 'ERNA_noHybrid_iqtree.recode.vcf.gz'"
   ]
  },
  {
   "cell_type": "code",
   "execution_count": 36,
   "metadata": {},
   "outputs": [],
   "source": [
    "vcf2phy = '/data/gpfs/assoc/parchmanlab/tfaske/src/phylo/./vcf2phylip.py'"
   ]
  },
  {
   "cell_type": "code",
   "execution_count": 37,
   "metadata": {},
   "outputs": [],
   "source": [
    "vcf_iqtree = os.path.join(iqtree_dir,'ERNA_noHybrid_iqtree.recode.vcf')"
   ]
  },
  {
   "cell_type": "code",
   "execution_count": 38,
   "metadata": {},
   "outputs": [
    {
     "name": "stdout",
     "output_type": "stream",
     "text": [
      "\n",
      "Converting file '/data/gpfs/assoc/denovo/tfaske/rabbit/full/phylo/iqtree/ERNA_noHybrid_iqtree.recode.vcf':\n",
      "\n",
      "Number of samples in VCF: 135\n",
      "Total of genotypes processed: 23832\n",
      "Genotypes excluded because they exceeded the amount of missing data allowed: 0\n",
      "Genotypes that passed missing data filter but were excluded for being MNPs: 0\n",
      "SNPs that passed the filters: 23832\n",
      "\n",
      "Sample 1 of 135, 'EN_AH_12', added to the nucleotide matrix(ces).\n",
      "Sample 2 of 135, 'EN_AH_2', added to the nucleotide matrix(ces).\n",
      "Sample 3 of 135, 'EN_AH_5', added to the nucleotide matrix(ces).\n",
      "Sample 4 of 135, 'EN_AR_2', added to the nucleotide matrix(ces).\n",
      "Sample 5 of 135, 'EN_AR_3', added to the nucleotide matrix(ces).\n",
      "Sample 6 of 135, 'EN_AR_6', added to the nucleotide matrix(ces).\n",
      "Sample 7 of 135, 'EN_AS_16', added to the nucleotide matrix(ces).\n",
      "Sample 8 of 135, 'EN_AS_23', added to the nucleotide matrix(ces).\n",
      "Sample 9 of 135, 'EN_AS_27', added to the nucleotide matrix(ces).\n",
      "Sample 10 of 135, 'EN_BC_10', added to the nucleotide matrix(ces).\n",
      "Sample 11 of 135, 'EN_BC_11', added to the nucleotide matrix(ces).\n",
      "Sample 12 of 135, 'EN_BC_8', added to the nucleotide matrix(ces).\n",
      "Sample 13 of 135, 'EN_BH_4', added to the nucleotide matrix(ces).\n",
      "Sample 14 of 135, 'EN_BH_5', added to the nucleotide matrix(ces).\n",
      "Sample 15 of 135, 'EN_BH_6', added to the nucleotide matrix(ces).\n",
      "Sample 16 of 135, 'EN_BM_19', added to the nucleotide matrix(ces).\n",
      "Sample 17 of 135, 'EN_BM_22', added to the nucleotide matrix(ces).\n",
      "Sample 18 of 135, 'EN_BM_29', added to the nucleotide matrix(ces).\n",
      "Sample 19 of 135, 'EN_BO_1', added to the nucleotide matrix(ces).\n",
      "Sample 20 of 135, 'EN_BO_2', added to the nucleotide matrix(ces).\n",
      "Sample 21 of 135, 'EN_BO_4', added to the nucleotide matrix(ces).\n",
      "Sample 22 of 135, 'EN_BT_3', added to the nucleotide matrix(ces).\n",
      "Sample 23 of 135, 'EN_BT_4', added to the nucleotide matrix(ces).\n",
      "Sample 24 of 135, 'EN_BT_5', added to the nucleotide matrix(ces).\n",
      "Sample 25 of 135, 'EN_BV_19', added to the nucleotide matrix(ces).\n",
      "Sample 26 of 135, 'EN_BV_22', added to the nucleotide matrix(ces).\n",
      "Sample 27 of 135, 'EN_BV_24', added to the nucleotide matrix(ces).\n",
      "Sample 28 of 135, 'EN_CH_2', added to the nucleotide matrix(ces).\n",
      "Sample 29 of 135, 'EN_CH_6', added to the nucleotide matrix(ces).\n",
      "Sample 30 of 135, 'EN_CH_7', added to the nucleotide matrix(ces).\n",
      "Sample 31 of 135, 'EN_CI_1', added to the nucleotide matrix(ces).\n",
      "Sample 32 of 135, 'EN_CI_4', added to the nucleotide matrix(ces).\n",
      "Sample 33 of 135, 'EN_CI_5', added to the nucleotide matrix(ces).\n",
      "Sample 34 of 135, 'EN_CL_1', added to the nucleotide matrix(ces).\n",
      "Sample 35 of 135, 'EN_CL_2', added to the nucleotide matrix(ces).\n",
      "Sample 36 of 135, 'EN_CL_5', added to the nucleotide matrix(ces).\n",
      "Sample 37 of 135, 'EN_CN_1', added to the nucleotide matrix(ces).\n",
      "Sample 38 of 135, 'EN_CN_4', added to the nucleotide matrix(ces).\n",
      "Sample 39 of 135, 'EN_CN_6', added to the nucleotide matrix(ces).\n",
      "Sample 40 of 135, 'EN_CO_1', added to the nucleotide matrix(ces).\n",
      "Sample 41 of 135, 'EN_CO_2', added to the nucleotide matrix(ces).\n",
      "Sample 42 of 135, 'EN_CO_4', added to the nucleotide matrix(ces).\n",
      "Sample 43 of 135, 'EN_CT_1', added to the nucleotide matrix(ces).\n",
      "Sample 44 of 135, 'EN_CT_2', added to the nucleotide matrix(ces).\n",
      "Sample 45 of 135, 'EN_CT_6', added to the nucleotide matrix(ces).\n",
      "Sample 46 of 135, 'EN_DC_11', added to the nucleotide matrix(ces).\n",
      "Sample 47 of 135, 'EN_DC_2', added to the nucleotide matrix(ces).\n",
      "Sample 48 of 135, 'EN_DC_4', added to the nucleotide matrix(ces).\n",
      "Sample 49 of 135, 'EN_DH_18', added to the nucleotide matrix(ces).\n",
      "Sample 50 of 135, 'EN_DH_19', added to the nucleotide matrix(ces).\n",
      "Sample 51 of 135, 'EN_DH_22', added to the nucleotide matrix(ces).\n",
      "Sample 52 of 135, 'EN_DT_2', added to the nucleotide matrix(ces).\n",
      "Sample 53 of 135, 'EN_DT_4', added to the nucleotide matrix(ces).\n",
      "Sample 54 of 135, 'EN_DT_5', added to the nucleotide matrix(ces).\n",
      "Sample 55 of 135, 'EN_ED_1', added to the nucleotide matrix(ces).\n",
      "Sample 56 of 135, 'EN_ED_2', added to the nucleotide matrix(ces).\n",
      "Sample 57 of 135, 'EN_ED_3', added to the nucleotide matrix(ces).\n",
      "Sample 58 of 135, 'EN_EW_13', added to the nucleotide matrix(ces).\n",
      "Sample 59 of 135, 'EN_EW_2', added to the nucleotide matrix(ces).\n",
      "Sample 60 of 135, 'EN_EW_6', added to the nucleotide matrix(ces).\n",
      "Sample 61 of 135, 'EN_FR_10', added to the nucleotide matrix(ces).\n",
      "Sample 62 of 135, 'EN_FR_14', added to the nucleotide matrix(ces).\n",
      "Sample 63 of 135, 'EN_FR_9', added to the nucleotide matrix(ces).\n",
      "Sample 64 of 135, 'EN_GB_16', added to the nucleotide matrix(ces).\n",
      "Sample 65 of 135, 'EN_GO_1', added to the nucleotide matrix(ces).\n",
      "Sample 66 of 135, 'EN_GO_4', added to the nucleotide matrix(ces).\n",
      "Sample 67 of 135, 'EN_GO_6', added to the nucleotide matrix(ces).\n",
      "Sample 68 of 135, 'EN_HO_11', added to the nucleotide matrix(ces).\n",
      "Sample 69 of 135, 'EN_HO_15', added to the nucleotide matrix(ces).\n",
      "Sample 70 of 135, 'EN_HO_5', added to the nucleotide matrix(ces).\n",
      "Sample 71 of 135, 'EN_JC_10', added to the nucleotide matrix(ces).\n",
      "Sample 72 of 135, 'EN_JC_13', added to the nucleotide matrix(ces).\n",
      "Sample 73 of 135, 'EN_JC_8', added to the nucleotide matrix(ces).\n",
      "Sample 74 of 135, 'EN_LO_2', added to the nucleotide matrix(ces).\n",
      "Sample 75 of 135, 'EN_LO_4', added to the nucleotide matrix(ces).\n",
      "Sample 76 of 135, 'EN_LO_5', added to the nucleotide matrix(ces).\n",
      "Sample 77 of 135, 'EN_LR_3', added to the nucleotide matrix(ces).\n",
      "Sample 78 of 135, 'EN_LR_4', added to the nucleotide matrix(ces).\n",
      "Sample 79 of 135, 'EN_LR_7', added to the nucleotide matrix(ces).\n",
      "Sample 80 of 135, 'EN_LT_3', added to the nucleotide matrix(ces).\n",
      "Sample 81 of 135, 'EN_LT_4', added to the nucleotide matrix(ces).\n",
      "Sample 82 of 135, 'EN_LT_5', added to the nucleotide matrix(ces).\n",
      "Sample 83 of 135, 'EN_LV_18', added to the nucleotide matrix(ces).\n",
      "Sample 84 of 135, 'EN_LV_24', added to the nucleotide matrix(ces).\n",
      "Sample 85 of 135, 'EN_LV_30', added to the nucleotide matrix(ces).\n",
      "Sample 86 of 135, 'EN_MD_1', added to the nucleotide matrix(ces).\n",
      "Sample 87 of 135, 'EN_MD_4', added to the nucleotide matrix(ces).\n",
      "Sample 88 of 135, 'EN_MD_8', added to the nucleotide matrix(ces).\n",
      "Sample 89 of 135, 'EN_NI_4', added to the nucleotide matrix(ces).\n",
      "Sample 90 of 135, 'EN_NI_5', added to the nucleotide matrix(ces).\n",
      "Sample 91 of 135, 'EN_NI_6', added to the nucleotide matrix(ces).\n",
      "Sample 92 of 135, 'EN_NV_1', added to the nucleotide matrix(ces).\n",
      "Sample 93 of 135, 'EN_NV_3', added to the nucleotide matrix(ces).\n",
      "Sample 94 of 135, 'EN_NV_5', added to the nucleotide matrix(ces).\n",
      "Sample 95 of 135, 'EN_OT_4', added to the nucleotide matrix(ces).\n",
      "Sample 96 of 135, 'EN_PB_2', added to the nucleotide matrix(ces).\n",
      "Sample 97 of 135, 'EN_PB_3', added to the nucleotide matrix(ces).\n",
      "Sample 98 of 135, 'EN_PB_5', added to the nucleotide matrix(ces).\n",
      "Sample 99 of 135, 'EN_PL_1', added to the nucleotide matrix(ces).\n",
      "Sample 100 of 135, 'EN_PL_22', added to the nucleotide matrix(ces).\n",
      "Sample 101 of 135, 'EN_PL_23', added to the nucleotide matrix(ces).\n",
      "Sample 102 of 135, 'EN_PT_3', added to the nucleotide matrix(ces).\n",
      "Sample 103 of 135, 'EN_PT_7', added to the nucleotide matrix(ces).\n",
      "Sample 104 of 135, 'EN_PT_8', added to the nucleotide matrix(ces).\n",
      "Sample 105 of 135, 'EN_PW_1', added to the nucleotide matrix(ces).\n",
      "Sample 106 of 135, 'EN_PW_3', added to the nucleotide matrix(ces).\n",
      "Sample 107 of 135, 'EN_PW_9', added to the nucleotide matrix(ces).\n",
      "Sample 108 of 135, 'EN_RL_3', added to the nucleotide matrix(ces).\n",
      "Sample 109 of 135, 'EN_RL_4', added to the nucleotide matrix(ces).\n",
      "Sample 110 of 135, 'EN_RL_5', added to the nucleotide matrix(ces).\n",
      "Sample 111 of 135, 'EN_RO_5', added to the nucleotide matrix(ces).\n",
      "Sample 112 of 135, 'EN_RS_1', added to the nucleotide matrix(ces).\n",
      "Sample 113 of 135, 'EN_RS_4', added to the nucleotide matrix(ces).\n",
      "Sample 114 of 135, 'EN_RS_5', added to the nucleotide matrix(ces).\n",
      "Sample 115 of 135, 'EN_SC_14', added to the nucleotide matrix(ces).\n",
      "Sample 116 of 135, 'EN_SC_3', added to the nucleotide matrix(ces).\n",
      "Sample 117 of 135, 'EN_SC_6', added to the nucleotide matrix(ces).\n",
      "Sample 118 of 135, 'EN_SJ_12', added to the nucleotide matrix(ces).\n",
      "Sample 119 of 135, 'EN_SJ_6', added to the nucleotide matrix(ces).\n",
      "Sample 120 of 135, 'EN_SJ_8', added to the nucleotide matrix(ces).\n",
      "Sample 121 of 135, 'EN_SS_10', added to the nucleotide matrix(ces).\n",
      "Sample 122 of 135, 'EN_SS_3', added to the nucleotide matrix(ces).\n",
      "Sample 123 of 135, 'EN_SS_9', added to the nucleotide matrix(ces).\n"
     ]
    },
    {
     "name": "stdout",
     "output_type": "stream",
     "text": [
      "Sample 124 of 135, 'EN_UT_1', added to the nucleotide matrix(ces).\n",
      "Sample 125 of 135, 'EN_UT_2', added to the nucleotide matrix(ces).\n",
      "Sample 126 of 135, 'EN_UT_3', added to the nucleotide matrix(ces).\n",
      "Sample 127 of 135, 'EN_VM_11', added to the nucleotide matrix(ces).\n",
      "Sample 128 of 135, 'EN_VM_13', added to the nucleotide matrix(ces).\n",
      "Sample 129 of 135, 'EN_VM_4', added to the nucleotide matrix(ces).\n",
      "Sample 130 of 135, 'EN_WA_1', added to the nucleotide matrix(ces).\n",
      "Sample 131 of 135, 'EN_WA_3', added to the nucleotide matrix(ces).\n",
      "Sample 132 of 135, 'EN_WA_6', added to the nucleotide matrix(ces).\n",
      "Sample 133 of 135, 'EN_YL_3', added to the nucleotide matrix(ces).\n",
      "Sample 134 of 135, 'EN_YL_5', added to the nucleotide matrix(ces).\n",
      "Sample 135 of 135, 'EN_YL_6', added to the nucleotide matrix(ces).\n",
      "\n",
      "PHYLIP matrix saved to: ERNA_noHybrid_iqtree.recode.min4.phy\n",
      "\n",
      "Done!\n",
      "\n"
     ]
    }
   ],
   "source": [
    "!python $vcf2phy --i $vcf_iqtree"
   ]
  },
  {
   "cell_type": "markdown",
   "metadata": {},
   "source": [
    "#### NOTE: ran once but invariant sites. rerun with new .phy file"
   ]
  },
  {
   "cell_type": "code",
   "execution_count": 43,
   "metadata": {},
   "outputs": [],
   "source": [
    "#phy_file = os.path.join(iqtree_dir,'ERNA_noHybrid_iqtree.recode.min4.phy')\n",
    "phy_file = os.path.join(iqtree_dir,'ERNA_noHybrid_iqtree.recode.min4.phy.varsites.phy')"
   ]
  },
  {
   "cell_type": "code",
   "execution_count": 44,
   "metadata": {},
   "outputs": [],
   "source": [
    "### select options for slurm submission\n",
    "account = 'cpu-s5-denovo-0'\n",
    "partition = 'cpu-core-0'\n",
    "jobname = 'iqtree'\n",
    "time = '4-00:00:00' #time limit 1 day\n",
    "cpus = 16\n",
    "mem_cpu = 9000\n",
    "email = 'tfaske@nevada.unr.edu'\n",
    "\n",
    "### for iqtree\n",
    "model = 'GTR+ASC'\n",
    "bb = 1000 #bootstrap"
   ]
  },
  {
   "cell_type": "code",
   "execution_count": 45,
   "metadata": {},
   "outputs": [],
   "source": [
    "def write_iqtree_sh(account,partition,time,cpus,mem_cpu,email,iqtree_dir,phy,model,bb):\n",
    "    with open(\"run_noHybrid_iqtree.sh\", \"w\") as o:\n",
    "        o.write(\"\"\"#!/usr/bin/env bash\n",
    "#SBATCH --account=%s\n",
    "#SBATCH --partition=%s\n",
    "#SBATCH --time=%s\n",
    "#SBATCH --ntasks 1\n",
    "#SBATCH --cpus-per-task %d\n",
    "#SBATCH --mem-per-cpu=%d\n",
    "#SBATCH --job-name iqtree\n",
    "#SBATCH --output output_iqtree_noHybrid.txt\n",
    "#SBATCH --mail-type=END\n",
    "#SBATCH --mail-user=%s\n",
    "\n",
    "cd %s\n",
    "    \n",
    "iqtree -s %s -nt %d -m %s -st DNA -bb %d \\n\\n\"\"\" % (account,partition,time,int(cpus),int(mem_cpu),email,iqtree_dir,phy,int(cpus),model,bb))\n",
    "        \n",
    "        "
   ]
  },
  {
   "cell_type": "code",
   "execution_count": 46,
   "metadata": {},
   "outputs": [],
   "source": [
    "write_iqtree_sh(account,partition,time,cpus,mem_cpu,email,iqtree_dir,phy_file,model,bb)"
   ]
  },
  {
   "cell_type": "markdown",
   "metadata": {},
   "source": [
    "# Run IQtree (no hybrids / more individuals)\n",
    "\n",
    "### for each pop_noHybrid, select  8 individuals and run iqtree"
   ]
  },
  {
   "cell_type": "code",
   "execution_count": 65,
   "metadata": {},
   "outputs": [
    {
     "name": "stdout",
     "output_type": "stream",
     "text": [
      "The rpy2.ipython extension is already loaded. To reload it, use:\n",
      "  %reload_ext rpy2.ipython\n"
     ]
    }
   ],
   "source": [
    "%load_ext rpy2.ipython"
   ]
  },
  {
   "cell_type": "code",
   "execution_count": 66,
   "metadata": {
    "scrolled": true
   },
   "outputs": [],
   "source": [
    "%%R\n",
    "library(tidyverse)\n",
    "\n",
    "setwd('/data/gpfs/assoc/denovo/tfaske/rabbit/full/phylo/subset_vcf')"
   ]
  },
  {
   "cell_type": "code",
   "execution_count": 67,
   "metadata": {},
   "outputs": [
    {
     "name": "stdout",
     "output_type": "stream",
     "text": [
      "\n",
      "AH AR AS BC BH BM BO BT BV CH CI CL CN CO CT DC DH DT ED EW FR GB GO HO JC LO \n",
      "15  5 15  7  5 14  6  6 15  6  5  6  5  5  6 14 15  6  3 13 15  1  6 14 15  5 \n",
      "LR LT LV MD NI NV OT PB PL PT PW RL RO RS SC SJ SS UT VM WA YL \n",
      " 7  4 12 15  6  6  1  6 14  7  8  6  1  6 14 12 10  5 15  3  5 \n"
     ]
    }
   ],
   "source": [
    "%%R \n",
    "\n",
    "Pop_ID_noHybrid <- read.csv('Pop_ID_noHybrid.csv')\n",
    "table(Pop_ID_noHybrid$Pop)"
   ]
  },
  {
   "cell_type": "code",
   "execution_count": 69,
   "metadata": {},
   "outputs": [],
   "source": [
    "%%R \n",
    "\n",
    "Pop_ID_noHybrid <- read.csv('Pop_ID_noHybrid.csv')\n",
    "#table(Pop_ID_noHybrid$Pop)\n",
    "Pop_ID_noHybrid$Pop <- as.character(Pop_ID_noHybrid$Pop)\n",
    "\n",
    "pop_noHybrid <- unique(Pop_ID_noHybrid$Pop)\n",
    "Pop_ID_noHybrid_iqtree <- Pop_ID_noHybrid[1,]\n",
    "\n",
    "for (p in pop_noHybrid){\n",
    "    df <- Pop_ID_noHybrid[which(Pop_ID_noHybrid$Pop == p),]\n",
    "    if(nrow(df) >= 9){\n",
    "        index <- sample(1:nrow(df),8)\n",
    "        df <- df[index,]\n",
    "        Pop_ID_noHybrid_iqtree <- rbind(Pop_ID_noHybrid_iqtree,df)\n",
    "    }else{\n",
    "        Pop_ID_noHybrid_iqtree <- rbind(Pop_ID_noHybrid_iqtree,df)\n",
    "    }\n",
    "}\n",
    "Pop_ID_noHybrid_iqtree <- Pop_ID_noHybrid_iqtree[-1,]"
   ]
  },
  {
   "cell_type": "code",
   "execution_count": 70,
   "metadata": {},
   "outputs": [
    {
     "name": "stdout",
     "output_type": "stream",
     "text": [
      "[1] 290  12\n",
      "[1] 47\n"
     ]
    }
   ],
   "source": [
    "%%R \n",
    "\n",
    "print(dim(Pop_ID_noHybrid_iqtree))\n",
    "print(length(unique(Pop_ID_noHybrid_iqtree$Pop)))"
   ]
  },
  {
   "cell_type": "code",
   "execution_count": 71,
   "metadata": {},
   "outputs": [],
   "source": [
    "%%R \n",
    "# write file with individuals to keep \n",
    "keep_noHybrid_iqtree <- data.frame(INDV=as.character(Pop_ID_noHybrid_iqtree$All))\n",
    "write.table(keep_noHybrid_iqtree,'keep_noHybrid8_iqtree.txt',row.names=FALSE,quote=FALSE)\n",
    "write.csv(Pop_ID_noHybrid_iqtree,'Pop_ID_noHybrid8_iqtree.csv',row.names = FALSE)\n",
    "\n",
    "#print(length(unique(Pop_ID_noHybrid_iqtree$Pop)))\n",
    "#table(Pop_ID_noHybrid_iqtree$Pop)\n",
    "#print(nrow(Pop_ID_noHybrid_iqtree))\n",
    "#table(Pop_ID_noHybrid$Pop)"
   ]
  },
  {
   "cell_type": "code",
   "execution_count": 72,
   "metadata": {
    "scrolled": true
   },
   "outputs": [
    {
     "name": "stdout",
     "output_type": "stream",
     "text": [
      "\n",
      "VCFtools - 0.1.16\n",
      "(C) Adam Auton and Anthony Marcketta 2009\n",
      "\n",
      "Parameters as interpreted:\n",
      "\t--gzvcf /data/gpfs/assoc/denovo/tfaske/rabbit/full/phylo/subset_vcf/good_snps.recode.vcf.gz\n",
      "\t--keep keep_noHybrid8_iqtree.txt\n",
      "\t--recode-INFO-all\n",
      "\t--out ERNA_noHybrid8_iqtree\n",
      "\t--recode\n",
      "\n",
      "Using zlib version: 1.2.11\n",
      "Warning: Expected at least 2 parts in INFO entry: ID=AC,Number=A,Type=Integer,Description=\"Allele count in genotypes for each ALT allele, in the same order as listed\">\n",
      "Warning: Expected at least 2 parts in INFO entry: ID=DP4,Number=4,Type=Integer,Description=\"Number of high-quality ref-forward , ref-reverse, alt-forward and alt-reverse bases\">\n",
      "Warning: Expected at least 2 parts in INFO entry: ID=DP4,Number=4,Type=Integer,Description=\"Number of high-quality ref-forward , ref-reverse, alt-forward and alt-reverse bases\">\n",
      "Keeping individuals in 'keep' list\n",
      "After filtering, kept 290 out of 588 Individuals\n",
      "Outputting VCF file...\n",
      "After filtering, kept 23832 out of a possible 23832 Sites\n",
      "Run Time = 17.00 seconds\n"
     ]
    }
   ],
   "source": [
    "!$vcftools --gzvcf $vcf_file \\\n",
    "--recode \\\n",
    "--recode-INFO-all \\\n",
    "--keep 'keep_noHybrid8_iqtree.txt' \\\n",
    "--out 'ERNA_noHybrid8_iqtree'"
   ]
  },
  {
   "cell_type": "code",
   "execution_count": 73,
   "metadata": {},
   "outputs": [],
   "source": [
    "vcf_noHybrid_iqtree = 'ERNA_noHybrid8_iqtree.recode.vcf'\n",
    "vcf_noHybrid_iqtree_gz = vcf_noHybrid_iqtree + \".gz\"\n",
    "!$bgzip -c {vcf_noHybrid_iqtree} > {vcf_noHybrid_iqtree_gz}\n",
    "!$tabix {vcf_noHybrid_iqtree_gz}"
   ]
  },
  {
   "cell_type": "code",
   "execution_count": 74,
   "metadata": {},
   "outputs": [],
   "source": [
    "!rm 'ERNA_noHybrid8_iqtree.log'\n",
    "!rm 'ERNA_noHybrid8_iqtree.recode.vcf'\n",
    "!rm 'ERNA_noHybrid8_iqtree.recode.vcf.gz.tbi'"
   ]
  },
  {
   "cell_type": "markdown",
   "metadata": {},
   "source": [
    "## Run iqtree"
   ]
  },
  {
   "cell_type": "code",
   "execution_count": 75,
   "metadata": {},
   "outputs": [
    {
     "name": "stdout",
     "output_type": "stream",
     "text": [
      "/data/gpfs/assoc/denovo/tfaske/rabbit/full/phylo\n"
     ]
    }
   ],
   "source": [
    "cd $root"
   ]
  },
  {
   "cell_type": "code",
   "execution_count": 76,
   "metadata": {},
   "outputs": [
    {
     "name": "stdout",
     "output_type": "stream",
     "text": [
      "mkdir: cannot create directory ‘iqtree’: File exists\r\n"
     ]
    }
   ],
   "source": [
    "!mkdir iqtree"
   ]
  },
  {
   "cell_type": "code",
   "execution_count": 77,
   "metadata": {},
   "outputs": [],
   "source": [
    "iqtree_dir = os.path.join(root,'iqtree')"
   ]
  },
  {
   "cell_type": "code",
   "execution_count": 79,
   "metadata": {},
   "outputs": [],
   "source": [
    "!cp 'subset_vcf/ERNA_noHybrid8_iqtree.recode.vcf.gz' $iqtree_dir"
   ]
  },
  {
   "cell_type": "code",
   "execution_count": 80,
   "metadata": {},
   "outputs": [
    {
     "name": "stdout",
     "output_type": "stream",
     "text": [
      "/data/gpfs/assoc/denovo/tfaske/rabbit/full/phylo/iqtree\n"
     ]
    }
   ],
   "source": [
    "cd $iqtree_dir"
   ]
  },
  {
   "cell_type": "code",
   "execution_count": 81,
   "metadata": {},
   "outputs": [],
   "source": [
    "!gunzip 'ERNA_noHybrid8_iqtree.recode.vcf.gz'"
   ]
  },
  {
   "cell_type": "code",
   "execution_count": 82,
   "metadata": {},
   "outputs": [],
   "source": [
    "vcf2phy = '/data/gpfs/assoc/parchmanlab/tfaske/src/phylo/./vcf2phylip.py'"
   ]
  },
  {
   "cell_type": "code",
   "execution_count": 83,
   "metadata": {},
   "outputs": [],
   "source": [
    "vcf_iqtree = os.path.join(iqtree_dir,'ERNA_noHybrid8_iqtree.recode.vcf')"
   ]
  },
  {
   "cell_type": "code",
   "execution_count": 84,
   "metadata": {},
   "outputs": [
    {
     "name": "stdout",
     "output_type": "stream",
     "text": [
      "\n",
      "Converting file '/data/gpfs/assoc/denovo/tfaske/rabbit/full/phylo/iqtree/ERNA_noHybrid8_iqtree.recode.vcf':\n",
      "\n",
      "Number of samples in VCF: 290\n",
      "Total of genotypes processed: 23832\n",
      "Genotypes excluded because they exceeded the amount of missing data allowed: 0\n",
      "Genotypes that passed missing data filter but were excluded for being MNPs: 0\n",
      "SNPs that passed the filters: 23832\n",
      "\n",
      "Sample 1 of 290, 'EN_AH_10', added to the nucleotide matrix(ces).\n",
      "Sample 2 of 290, 'EN_AH_11', added to the nucleotide matrix(ces).\n",
      "Sample 3 of 290, 'EN_AH_14', added to the nucleotide matrix(ces).\n",
      "Sample 4 of 290, 'EN_AH_1', added to the nucleotide matrix(ces).\n",
      "Sample 5 of 290, 'EN_AH_4', added to the nucleotide matrix(ces).\n",
      "Sample 6 of 290, 'EN_AH_7', added to the nucleotide matrix(ces).\n",
      "Sample 7 of 290, 'EN_AH_8', added to the nucleotide matrix(ces).\n",
      "Sample 8 of 290, 'EN_AH_9', added to the nucleotide matrix(ces).\n",
      "Sample 9 of 290, 'EN_AR_2', added to the nucleotide matrix(ces).\n",
      "Sample 10 of 290, 'EN_AR_3', added to the nucleotide matrix(ces).\n",
      "Sample 11 of 290, 'EN_AR_4', added to the nucleotide matrix(ces).\n",
      "Sample 12 of 290, 'EN_AR_5', added to the nucleotide matrix(ces).\n",
      "Sample 13 of 290, 'EN_AR_6', added to the nucleotide matrix(ces).\n",
      "Sample 14 of 290, 'EN_AS_16', added to the nucleotide matrix(ces).\n",
      "Sample 15 of 290, 'EN_AS_18', added to the nucleotide matrix(ces).\n",
      "Sample 16 of 290, 'EN_AS_20', added to the nucleotide matrix(ces).\n",
      "Sample 17 of 290, 'EN_AS_22', added to the nucleotide matrix(ces).\n",
      "Sample 18 of 290, 'EN_AS_23', added to the nucleotide matrix(ces).\n",
      "Sample 19 of 290, 'EN_AS_24', added to the nucleotide matrix(ces).\n",
      "Sample 20 of 290, 'EN_AS_26', added to the nucleotide matrix(ces).\n",
      "Sample 21 of 290, 'EN_AS_28', added to the nucleotide matrix(ces).\n",
      "Sample 22 of 290, 'EN_BC_10', added to the nucleotide matrix(ces).\n",
      "Sample 23 of 290, 'EN_BC_11', added to the nucleotide matrix(ces).\n",
      "Sample 24 of 290, 'EN_BC_12', added to the nucleotide matrix(ces).\n",
      "Sample 25 of 290, 'EN_BC_13', added to the nucleotide matrix(ces).\n",
      "Sample 26 of 290, 'EN_BC_7', added to the nucleotide matrix(ces).\n",
      "Sample 27 of 290, 'EN_BC_8', added to the nucleotide matrix(ces).\n",
      "Sample 28 of 290, 'EN_BC_9', added to the nucleotide matrix(ces).\n",
      "Sample 29 of 290, 'EN_BH_1', added to the nucleotide matrix(ces).\n",
      "Sample 30 of 290, 'EN_BH_3', added to the nucleotide matrix(ces).\n",
      "Sample 31 of 290, 'EN_BH_4', added to the nucleotide matrix(ces).\n",
      "Sample 32 of 290, 'EN_BH_5', added to the nucleotide matrix(ces).\n",
      "Sample 33 of 290, 'EN_BH_6', added to the nucleotide matrix(ces).\n",
      "Sample 34 of 290, 'EN_BM_19', added to the nucleotide matrix(ces).\n",
      "Sample 35 of 290, 'EN_BM_20', added to the nucleotide matrix(ces).\n",
      "Sample 36 of 290, 'EN_BM_21', added to the nucleotide matrix(ces).\n",
      "Sample 37 of 290, 'EN_BM_22', added to the nucleotide matrix(ces).\n",
      "Sample 38 of 290, 'EN_BM_26', added to the nucleotide matrix(ces).\n",
      "Sample 39 of 290, 'EN_BM_27', added to the nucleotide matrix(ces).\n",
      "Sample 40 of 290, 'EN_BM_29', added to the nucleotide matrix(ces).\n",
      "Sample 41 of 290, 'EN_BM_30', added to the nucleotide matrix(ces).\n",
      "Sample 42 of 290, 'EN_BO_1', added to the nucleotide matrix(ces).\n",
      "Sample 43 of 290, 'EN_BO_2', added to the nucleotide matrix(ces).\n",
      "Sample 44 of 290, 'EN_BO_3', added to the nucleotide matrix(ces).\n",
      "Sample 45 of 290, 'EN_BO_4', added to the nucleotide matrix(ces).\n",
      "Sample 46 of 290, 'EN_BO_5', added to the nucleotide matrix(ces).\n",
      "Sample 47 of 290, 'EN_BO_6', added to the nucleotide matrix(ces).\n",
      "Sample 48 of 290, 'EN_BT_1', added to the nucleotide matrix(ces).\n",
      "Sample 49 of 290, 'EN_BT_2', added to the nucleotide matrix(ces).\n",
      "Sample 50 of 290, 'EN_BT_3', added to the nucleotide matrix(ces).\n",
      "Sample 51 of 290, 'EN_BT_4', added to the nucleotide matrix(ces).\n",
      "Sample 52 of 290, 'EN_BT_5', added to the nucleotide matrix(ces).\n",
      "Sample 53 of 290, 'EN_BT_6', added to the nucleotide matrix(ces).\n",
      "Sample 54 of 290, 'EN_BV_18', added to the nucleotide matrix(ces).\n",
      "Sample 55 of 290, 'EN_BV_20', added to the nucleotide matrix(ces).\n",
      "Sample 56 of 290, 'EN_BV_21', added to the nucleotide matrix(ces).\n",
      "Sample 57 of 290, 'EN_BV_23', added to the nucleotide matrix(ces).\n",
      "Sample 58 of 290, 'EN_BV_25', added to the nucleotide matrix(ces).\n",
      "Sample 59 of 290, 'EN_BV_27', added to the nucleotide matrix(ces).\n",
      "Sample 60 of 290, 'EN_BV_28', added to the nucleotide matrix(ces).\n",
      "Sample 61 of 290, 'EN_BV_29', added to the nucleotide matrix(ces).\n",
      "Sample 62 of 290, 'EN_CH_2', added to the nucleotide matrix(ces).\n",
      "Sample 63 of 290, 'EN_CH_3', added to the nucleotide matrix(ces).\n",
      "Sample 64 of 290, 'EN_CH_4', added to the nucleotide matrix(ces).\n",
      "Sample 65 of 290, 'EN_CH_5', added to the nucleotide matrix(ces).\n",
      "Sample 66 of 290, 'EN_CH_6', added to the nucleotide matrix(ces).\n",
      "Sample 67 of 290, 'EN_CH_7', added to the nucleotide matrix(ces).\n",
      "Sample 68 of 290, 'EN_CI_1', added to the nucleotide matrix(ces).\n",
      "Sample 69 of 290, 'EN_CI_2', added to the nucleotide matrix(ces).\n",
      "Sample 70 of 290, 'EN_CI_3', added to the nucleotide matrix(ces).\n",
      "Sample 71 of 290, 'EN_CI_4', added to the nucleotide matrix(ces).\n",
      "Sample 72 of 290, 'EN_CI_5', added to the nucleotide matrix(ces).\n",
      "Sample 73 of 290, 'EN_CL_1', added to the nucleotide matrix(ces).\n",
      "Sample 74 of 290, 'EN_CL_2', added to the nucleotide matrix(ces).\n",
      "Sample 75 of 290, 'EN_CL_3', added to the nucleotide matrix(ces).\n",
      "Sample 76 of 290, 'EN_CL_4', added to the nucleotide matrix(ces).\n",
      "Sample 77 of 290, 'EN_CL_5', added to the nucleotide matrix(ces).\n",
      "Sample 78 of 290, 'EN_CL_6', added to the nucleotide matrix(ces).\n",
      "Sample 79 of 290, 'EN_CN_1', added to the nucleotide matrix(ces).\n",
      "Sample 80 of 290, 'EN_CN_2', added to the nucleotide matrix(ces).\n",
      "Sample 81 of 290, 'EN_CN_4', added to the nucleotide matrix(ces).\n",
      "Sample 82 of 290, 'EN_CN_5', added to the nucleotide matrix(ces).\n",
      "Sample 83 of 290, 'EN_CN_6', added to the nucleotide matrix(ces).\n",
      "Sample 84 of 290, 'EN_CO_1', added to the nucleotide matrix(ces).\n",
      "Sample 85 of 290, 'EN_CO_2', added to the nucleotide matrix(ces).\n",
      "Sample 86 of 290, 'EN_CO_3', added to the nucleotide matrix(ces).\n",
      "Sample 87 of 290, 'EN_CO_4', added to the nucleotide matrix(ces).\n",
      "Sample 88 of 290, 'EN_CO_5', added to the nucleotide matrix(ces).\n",
      "Sample 89 of 290, 'EN_CT_1', added to the nucleotide matrix(ces).\n",
      "Sample 90 of 290, 'EN_CT_2', added to the nucleotide matrix(ces).\n",
      "Sample 91 of 290, 'EN_CT_3', added to the nucleotide matrix(ces).\n",
      "Sample 92 of 290, 'EN_CT_4', added to the nucleotide matrix(ces).\n",
      "Sample 93 of 290, 'EN_CT_5', added to the nucleotide matrix(ces).\n",
      "Sample 94 of 290, 'EN_CT_6', added to the nucleotide matrix(ces).\n",
      "Sample 95 of 290, 'EN_DC_11', added to the nucleotide matrix(ces).\n",
      "Sample 96 of 290, 'EN_DC_13', added to the nucleotide matrix(ces).\n",
      "Sample 97 of 290, 'EN_DC_14', added to the nucleotide matrix(ces).\n",
      "Sample 98 of 290, 'EN_DC_15', added to the nucleotide matrix(ces).\n",
      "Sample 99 of 290, 'EN_DC_1', added to the nucleotide matrix(ces).\n",
      "Sample 100 of 290, 'EN_DC_2', added to the nucleotide matrix(ces).\n",
      "Sample 101 of 290, 'EN_DC_7', added to the nucleotide matrix(ces).\n",
      "Sample 102 of 290, 'EN_DC_8', added to the nucleotide matrix(ces).\n",
      "Sample 103 of 290, 'EN_DH_14', added to the nucleotide matrix(ces).\n",
      "Sample 104 of 290, 'EN_DH_15', added to the nucleotide matrix(ces).\n",
      "Sample 105 of 290, 'EN_DH_17', added to the nucleotide matrix(ces).\n",
      "Sample 106 of 290, 'EN_DH_20', added to the nucleotide matrix(ces).\n",
      "Sample 107 of 290, 'EN_DH_23', added to the nucleotide matrix(ces).\n",
      "Sample 108 of 290, 'EN_DH_24', added to the nucleotide matrix(ces).\n",
      "Sample 109 of 290, 'EN_DH_25', added to the nucleotide matrix(ces).\n",
      "Sample 110 of 290, 'EN_DH_26', added to the nucleotide matrix(ces).\n",
      "Sample 111 of 290, 'EN_DT_1', added to the nucleotide matrix(ces).\n",
      "Sample 112 of 290, 'EN_DT_2', added to the nucleotide matrix(ces).\n",
      "Sample 113 of 290, 'EN_DT_3', added to the nucleotide matrix(ces).\n",
      "Sample 114 of 290, 'EN_DT_4', added to the nucleotide matrix(ces).\n",
      "Sample 115 of 290, 'EN_DT_5', added to the nucleotide matrix(ces).\n",
      "Sample 116 of 290, 'EN_DT_6', added to the nucleotide matrix(ces).\n",
      "Sample 117 of 290, 'EN_ED_1', added to the nucleotide matrix(ces).\n",
      "Sample 118 of 290, 'EN_ED_2', added to the nucleotide matrix(ces).\n",
      "Sample 119 of 290, 'EN_ED_3', added to the nucleotide matrix(ces).\n",
      "Sample 120 of 290, 'EN_EW_12', added to the nucleotide matrix(ces).\n"
     ]
    },
    {
     "name": "stdout",
     "output_type": "stream",
     "text": [
      "Sample 121 of 290, 'EN_EW_13', added to the nucleotide matrix(ces).\n",
      "Sample 122 of 290, 'EN_EW_15', added to the nucleotide matrix(ces).\n",
      "Sample 123 of 290, 'EN_EW_16', added to the nucleotide matrix(ces).\n",
      "Sample 124 of 290, 'EN_EW_3', added to the nucleotide matrix(ces).\n",
      "Sample 125 of 290, 'EN_EW_4', added to the nucleotide matrix(ces).\n",
      "Sample 126 of 290, 'EN_EW_5', added to the nucleotide matrix(ces).\n",
      "Sample 127 of 290, 'EN_EW_7', added to the nucleotide matrix(ces).\n",
      "Sample 128 of 290, 'EN_FR_10', added to the nucleotide matrix(ces).\n",
      "Sample 129 of 290, 'EN_FR_12', added to the nucleotide matrix(ces).\n",
      "Sample 130 of 290, 'EN_FR_14', added to the nucleotide matrix(ces).\n",
      "Sample 131 of 290, 'EN_FR_1', added to the nucleotide matrix(ces).\n",
      "Sample 132 of 290, 'EN_FR_2', added to the nucleotide matrix(ces).\n",
      "Sample 133 of 290, 'EN_FR_3', added to the nucleotide matrix(ces).\n",
      "Sample 134 of 290, 'EN_FR_4', added to the nucleotide matrix(ces).\n",
      "Sample 135 of 290, 'EN_FR_7', added to the nucleotide matrix(ces).\n",
      "Sample 136 of 290, 'EN_GB_16', added to the nucleotide matrix(ces).\n",
      "Sample 137 of 290, 'EN_GO_1', added to the nucleotide matrix(ces).\n",
      "Sample 138 of 290, 'EN_GO_2', added to the nucleotide matrix(ces).\n",
      "Sample 139 of 290, 'EN_GO_3', added to the nucleotide matrix(ces).\n",
      "Sample 140 of 290, 'EN_GO_4', added to the nucleotide matrix(ces).\n",
      "Sample 141 of 290, 'EN_GO_5', added to the nucleotide matrix(ces).\n",
      "Sample 142 of 290, 'EN_GO_6', added to the nucleotide matrix(ces).\n",
      "Sample 143 of 290, 'EN_HO_10', added to the nucleotide matrix(ces).\n",
      "Sample 144 of 290, 'EN_HO_11', added to the nucleotide matrix(ces).\n",
      "Sample 145 of 290, 'EN_HO_12', added to the nucleotide matrix(ces).\n",
      "Sample 146 of 290, 'EN_HO_13', added to the nucleotide matrix(ces).\n",
      "Sample 147 of 290, 'EN_HO_1', added to the nucleotide matrix(ces).\n",
      "Sample 148 of 290, 'EN_HO_5', added to the nucleotide matrix(ces).\n",
      "Sample 149 of 290, 'EN_HO_6', added to the nucleotide matrix(ces).\n",
      "Sample 150 of 290, 'EN_HO_9', added to the nucleotide matrix(ces).\n",
      "Sample 151 of 290, 'EN_JC_10', added to the nucleotide matrix(ces).\n",
      "Sample 152 of 290, 'EN_JC_11', added to the nucleotide matrix(ces).\n",
      "Sample 153 of 290, 'EN_JC_12', added to the nucleotide matrix(ces).\n",
      "Sample 154 of 290, 'EN_JC_13', added to the nucleotide matrix(ces).\n",
      "Sample 155 of 290, 'EN_JC_1', added to the nucleotide matrix(ces).\n",
      "Sample 156 of 290, 'EN_JC_2', added to the nucleotide matrix(ces).\n",
      "Sample 157 of 290, 'EN_JC_3', added to the nucleotide matrix(ces).\n",
      "Sample 158 of 290, 'EN_JC_8', added to the nucleotide matrix(ces).\n",
      "Sample 159 of 290, 'EN_LO_1', added to the nucleotide matrix(ces).\n",
      "Sample 160 of 290, 'EN_LO_2', added to the nucleotide matrix(ces).\n",
      "Sample 161 of 290, 'EN_LO_3', added to the nucleotide matrix(ces).\n",
      "Sample 162 of 290, 'EN_LO_4', added to the nucleotide matrix(ces).\n",
      "Sample 163 of 290, 'EN_LO_5', added to the nucleotide matrix(ces).\n",
      "Sample 164 of 290, 'EN_LR_1', added to the nucleotide matrix(ces).\n",
      "Sample 165 of 290, 'EN_LR_2', added to the nucleotide matrix(ces).\n",
      "Sample 166 of 290, 'EN_LR_3', added to the nucleotide matrix(ces).\n",
      "Sample 167 of 290, 'EN_LR_4', added to the nucleotide matrix(ces).\n",
      "Sample 168 of 290, 'EN_LR_5', added to the nucleotide matrix(ces).\n",
      "Sample 169 of 290, 'EN_LR_6', added to the nucleotide matrix(ces).\n",
      "Sample 170 of 290, 'EN_LR_7', added to the nucleotide matrix(ces).\n",
      "Sample 171 of 290, 'EN_LT_3', added to the nucleotide matrix(ces).\n",
      "Sample 172 of 290, 'EN_LT_4', added to the nucleotide matrix(ces).\n",
      "Sample 173 of 290, 'EN_LT_5', added to the nucleotide matrix(ces).\n",
      "Sample 174 of 290, 'EN_LT_6', added to the nucleotide matrix(ces).\n",
      "Sample 175 of 290, 'EN_LV_17', added to the nucleotide matrix(ces).\n",
      "Sample 176 of 290, 'EN_LV_19', added to the nucleotide matrix(ces).\n",
      "Sample 177 of 290, 'EN_LV_21', added to the nucleotide matrix(ces).\n",
      "Sample 178 of 290, 'EN_LV_22', added to the nucleotide matrix(ces).\n",
      "Sample 179 of 290, 'EN_LV_23', added to the nucleotide matrix(ces).\n",
      "Sample 180 of 290, 'EN_LV_25', added to the nucleotide matrix(ces).\n",
      "Sample 181 of 290, 'EN_LV_28', added to the nucleotide matrix(ces).\n",
      "Sample 182 of 290, 'EN_LV_29', added to the nucleotide matrix(ces).\n",
      "Sample 183 of 290, 'EN_MD_10', added to the nucleotide matrix(ces).\n",
      "Sample 184 of 290, 'EN_MD_11', added to the nucleotide matrix(ces).\n",
      "Sample 185 of 290, 'EN_MD_13', added to the nucleotide matrix(ces).\n",
      "Sample 186 of 290, 'EN_MD_14', added to the nucleotide matrix(ces).\n",
      "Sample 187 of 290, 'EN_MD_1', added to the nucleotide matrix(ces).\n",
      "Sample 188 of 290, 'EN_MD_2', added to the nucleotide matrix(ces).\n",
      "Sample 189 of 290, 'EN_MD_4', added to the nucleotide matrix(ces).\n",
      "Sample 190 of 290, 'EN_MD_8', added to the nucleotide matrix(ces).\n",
      "Sample 191 of 290, 'EN_NI_1', added to the nucleotide matrix(ces).\n",
      "Sample 192 of 290, 'EN_NI_2', added to the nucleotide matrix(ces).\n",
      "Sample 193 of 290, 'EN_NI_3', added to the nucleotide matrix(ces).\n",
      "Sample 194 of 290, 'EN_NI_4', added to the nucleotide matrix(ces).\n",
      "Sample 195 of 290, 'EN_NI_5', added to the nucleotide matrix(ces).\n",
      "Sample 196 of 290, 'EN_NI_6', added to the nucleotide matrix(ces).\n",
      "Sample 197 of 290, 'EN_NV_1', added to the nucleotide matrix(ces).\n",
      "Sample 198 of 290, 'EN_NV_2', added to the nucleotide matrix(ces).\n",
      "Sample 199 of 290, 'EN_NV_3', added to the nucleotide matrix(ces).\n",
      "Sample 200 of 290, 'EN_NV_4', added to the nucleotide matrix(ces).\n",
      "Sample 201 of 290, 'EN_NV_5', added to the nucleotide matrix(ces).\n",
      "Sample 202 of 290, 'EN_NV_6', added to the nucleotide matrix(ces).\n",
      "Sample 203 of 290, 'EN_OT_4', added to the nucleotide matrix(ces).\n",
      "Sample 204 of 290, 'EN_PB_1', added to the nucleotide matrix(ces).\n",
      "Sample 205 of 290, 'EN_PB_2', added to the nucleotide matrix(ces).\n",
      "Sample 206 of 290, 'EN_PB_3', added to the nucleotide matrix(ces).\n",
      "Sample 207 of 290, 'EN_PB_4', added to the nucleotide matrix(ces).\n",
      "Sample 208 of 290, 'EN_PB_5', added to the nucleotide matrix(ces).\n",
      "Sample 209 of 290, 'EN_PB_6', added to the nucleotide matrix(ces).\n",
      "Sample 210 of 290, 'EN_PL_16', added to the nucleotide matrix(ces).\n",
      "Sample 211 of 290, 'EN_PL_17', added to the nucleotide matrix(ces).\n",
      "Sample 212 of 290, 'EN_PL_1', added to the nucleotide matrix(ces).\n",
      "Sample 213 of 290, 'EN_PL_21', added to the nucleotide matrix(ces).\n",
      "Sample 214 of 290, 'EN_PL_24', added to the nucleotide matrix(ces).\n",
      "Sample 215 of 290, 'EN_PL_25', added to the nucleotide matrix(ces).\n",
      "Sample 216 of 290, 'EN_PL_27', added to the nucleotide matrix(ces).\n",
      "Sample 217 of 290, 'EN_PL_5', added to the nucleotide matrix(ces).\n",
      "Sample 218 of 290, 'EN_PT_15', added to the nucleotide matrix(ces).\n",
      "Sample 219 of 290, 'EN_PT_3', added to the nucleotide matrix(ces).\n",
      "Sample 220 of 290, 'EN_PT_4', added to the nucleotide matrix(ces).\n",
      "Sample 221 of 290, 'EN_PT_5', added to the nucleotide matrix(ces).\n",
      "Sample 222 of 290, 'EN_PT_6', added to the nucleotide matrix(ces).\n",
      "Sample 223 of 290, 'EN_PT_7', added to the nucleotide matrix(ces).\n",
      "Sample 224 of 290, 'EN_PT_8', added to the nucleotide matrix(ces).\n",
      "Sample 225 of 290, 'EN_PW_14', added to the nucleotide matrix(ces).\n",
      "Sample 226 of 290, 'EN_PW_1', added to the nucleotide matrix(ces).\n",
      "Sample 227 of 290, 'EN_PW_2', added to the nucleotide matrix(ces).\n",
      "Sample 228 of 290, 'EN_PW_3', added to the nucleotide matrix(ces).\n",
      "Sample 229 of 290, 'EN_PW_4', added to the nucleotide matrix(ces).\n",
      "Sample 230 of 290, 'EN_PW_5', added to the nucleotide matrix(ces).\n",
      "Sample 231 of 290, 'EN_PW_8', added to the nucleotide matrix(ces).\n",
      "Sample 232 of 290, 'EN_PW_9', added to the nucleotide matrix(ces).\n",
      "Sample 233 of 290, 'EN_RL_1', added to the nucleotide matrix(ces).\n",
      "Sample 234 of 290, 'EN_RL_2', added to the nucleotide matrix(ces).\n",
      "Sample 235 of 290, 'EN_RL_3', added to the nucleotide matrix(ces).\n",
      "Sample 236 of 290, 'EN_RL_4', added to the nucleotide matrix(ces).\n",
      "Sample 237 of 290, 'EN_RL_5', added to the nucleotide matrix(ces).\n",
      "Sample 238 of 290, 'EN_RL_6', added to the nucleotide matrix(ces).\n",
      "Sample 239 of 290, 'EN_RO_5', added to the nucleotide matrix(ces).\n",
      "Sample 240 of 290, 'EN_RS_1', added to the nucleotide matrix(ces).\n",
      "Sample 241 of 290, 'EN_RS_2', added to the nucleotide matrix(ces).\n",
      "Sample 242 of 290, 'EN_RS_4', added to the nucleotide matrix(ces).\n",
      "Sample 243 of 290, 'EN_RS_5', added to the nucleotide matrix(ces).\n",
      "Sample 244 of 290, 'EN_RS_6', added to the nucleotide matrix(ces).\n",
      "Sample 245 of 290, 'EN_RS_7', added to the nucleotide matrix(ces).\n"
     ]
    },
    {
     "name": "stdout",
     "output_type": "stream",
     "text": [
      "Sample 246 of 290, 'EN_SC_10', added to the nucleotide matrix(ces).\n",
      "Sample 247 of 290, 'EN_SC_15', added to the nucleotide matrix(ces).\n",
      "Sample 248 of 290, 'EN_SC_2', added to the nucleotide matrix(ces).\n",
      "Sample 249 of 290, 'EN_SC_3', added to the nucleotide matrix(ces).\n",
      "Sample 250 of 290, 'EN_SC_4', added to the nucleotide matrix(ces).\n",
      "Sample 251 of 290, 'EN_SC_5', added to the nucleotide matrix(ces).\n",
      "Sample 252 of 290, 'EN_SC_7', added to the nucleotide matrix(ces).\n",
      "Sample 253 of 290, 'EN_SC_9', added to the nucleotide matrix(ces).\n",
      "Sample 254 of 290, 'EN_SJ_10', added to the nucleotide matrix(ces).\n",
      "Sample 255 of 290, 'EN_SJ_1', added to the nucleotide matrix(ces).\n",
      "Sample 256 of 290, 'EN_SJ_2', added to the nucleotide matrix(ces).\n",
      "Sample 257 of 290, 'EN_SJ_5', added to the nucleotide matrix(ces).\n",
      "Sample 258 of 290, 'EN_SJ_6', added to the nucleotide matrix(ces).\n",
      "Sample 259 of 290, 'EN_SJ_7', added to the nucleotide matrix(ces).\n",
      "Sample 260 of 290, 'EN_SJ_8', added to the nucleotide matrix(ces).\n",
      "Sample 261 of 290, 'EN_SJ_9', added to the nucleotide matrix(ces).\n",
      "Sample 262 of 290, 'EN_SS_10', added to the nucleotide matrix(ces).\n",
      "Sample 263 of 290, 'EN_SS_12', added to the nucleotide matrix(ces).\n",
      "Sample 264 of 290, 'EN_SS_13', added to the nucleotide matrix(ces).\n",
      "Sample 265 of 290, 'EN_SS_15', added to the nucleotide matrix(ces).\n",
      "Sample 266 of 290, 'EN_SS_2', added to the nucleotide matrix(ces).\n",
      "Sample 267 of 290, 'EN_SS_3', added to the nucleotide matrix(ces).\n",
      "Sample 268 of 290, 'EN_SS_6', added to the nucleotide matrix(ces).\n",
      "Sample 269 of 290, 'EN_SS_9', added to the nucleotide matrix(ces).\n",
      "Sample 270 of 290, 'EN_UT_1', added to the nucleotide matrix(ces).\n",
      "Sample 271 of 290, 'EN_UT_2', added to the nucleotide matrix(ces).\n",
      "Sample 272 of 290, 'EN_UT_3', added to the nucleotide matrix(ces).\n",
      "Sample 273 of 290, 'EN_UT_4', added to the nucleotide matrix(ces).\n",
      "Sample 274 of 290, 'EN_UT_5', added to the nucleotide matrix(ces).\n",
      "Sample 275 of 290, 'EN_VM_10', added to the nucleotide matrix(ces).\n",
      "Sample 276 of 290, 'EN_VM_14', added to the nucleotide matrix(ces).\n",
      "Sample 277 of 290, 'EN_VM_15', added to the nucleotide matrix(ces).\n",
      "Sample 278 of 290, 'EN_VM_1', added to the nucleotide matrix(ces).\n",
      "Sample 279 of 290, 'EN_VM_2', added to the nucleotide matrix(ces).\n",
      "Sample 280 of 290, 'EN_VM_6', added to the nucleotide matrix(ces).\n",
      "Sample 281 of 290, 'EN_VM_7', added to the nucleotide matrix(ces).\n",
      "Sample 282 of 290, 'EN_VM_8', added to the nucleotide matrix(ces).\n",
      "Sample 283 of 290, 'EN_WA_1', added to the nucleotide matrix(ces).\n",
      "Sample 284 of 290, 'EN_WA_3', added to the nucleotide matrix(ces).\n",
      "Sample 285 of 290, 'EN_WA_6', added to the nucleotide matrix(ces).\n",
      "Sample 286 of 290, 'EN_YL_1', added to the nucleotide matrix(ces).\n",
      "Sample 287 of 290, 'EN_YL_3', added to the nucleotide matrix(ces).\n",
      "Sample 288 of 290, 'EN_YL_4', added to the nucleotide matrix(ces).\n",
      "Sample 289 of 290, 'EN_YL_5', added to the nucleotide matrix(ces).\n",
      "Sample 290 of 290, 'EN_YL_6', added to the nucleotide matrix(ces).\n",
      "\n",
      "PHYLIP matrix saved to: ERNA_noHybrid8_iqtree.recode.min4.phy\n",
      "\n",
      "Done!\n",
      "\n"
     ]
    }
   ],
   "source": [
    "!python $vcf2phy --i $vcf_iqtree"
   ]
  },
  {
   "cell_type": "markdown",
   "metadata": {},
   "source": [
    "#### NOTE: ran once but invariant sites. rerun with new .phy file"
   ]
  },
  {
   "cell_type": "code",
   "execution_count": 97,
   "metadata": {},
   "outputs": [],
   "source": [
    "#phy_file = os.path.join(iqtree_dir,'ERNA_noHybrid8_iqtree.recode.min4.phy')\n",
    "phy_file = os.path.join(iqtree_dir,'ERNA_noHybrid8_iqtree.recode.min4.phy.varsites.phy')"
   ]
  },
  {
   "cell_type": "code",
   "execution_count": 98,
   "metadata": {},
   "outputs": [],
   "source": [
    "### select options for slurm submission\n",
    "account = 'cpu-s5-denovo-0'\n",
    "partition = 'cpu-core-0'\n",
    "jobname = 'iqtree'\n",
    "time = '4-00:00:00' #time limit 1 day\n",
    "cpus = 16\n",
    "mem_cpu = 9000\n",
    "email = 'tfaske@nevada.unr.edu'\n",
    "\n",
    "### for iqtree\n",
    "model = 'GTR+ASC'\n",
    "bb = 1000 #bootstrap"
   ]
  },
  {
   "cell_type": "code",
   "execution_count": 99,
   "metadata": {},
   "outputs": [],
   "source": [
    "def write_iqtree_sh(account,partition,time,cpus,mem_cpu,email,iqtree_dir,phy,model,bb):\n",
    "    with open(\"run_noHybrid8_iqtree.sh\", \"w\") as o:\n",
    "        o.write(\"\"\"#!/usr/bin/env bash\n",
    "#SBATCH --account=%s\n",
    "#SBATCH --partition=%s\n",
    "#SBATCH --time=%s\n",
    "#SBATCH --ntasks 1\n",
    "#SBATCH --cpus-per-task %d\n",
    "#SBATCH --mem-per-cpu=%d\n",
    "#SBATCH --job-name iqtree\n",
    "#SBATCH --output output_iqtree_noHybrid8.txt\n",
    "#SBATCH --mail-type=END\n",
    "#SBATCH --mail-user=%s\n",
    "\n",
    "cd %s\n",
    "    \n",
    "iqtree -s %s -nt %d -m %s -st DNA -bb %d \\n\\n\"\"\" % (account,partition,time,int(cpus),int(mem_cpu),email,iqtree_dir,phy,int(cpus),model,bb))\n",
    "        \n",
    "        "
   ]
  },
  {
   "cell_type": "code",
   "execution_count": 100,
   "metadata": {},
   "outputs": [],
   "source": [
    "write_iqtree_sh(account,partition,time,cpus,mem_cpu,email,iqtree_dir,phy_file,model,bb)"
   ]
  },
  {
   "cell_type": "code",
   "execution_count": null,
   "metadata": {},
   "outputs": [],
   "source": []
  },
  {
   "cell_type": "code",
   "execution_count": null,
   "metadata": {},
   "outputs": [],
   "source": []
  },
  {
   "cell_type": "code",
   "execution_count": null,
   "metadata": {},
   "outputs": [],
   "source": []
  },
  {
   "cell_type": "markdown",
   "metadata": {},
   "source": [
    "# Run IQtree (no hybrids / no weird var / rarefied)\n",
    "\n",
    "### for each pop_noHybrid, select 3 individuals and run iqtree\n",
    "\n",
    "#### Remove: arenaria, bigelovii, graveolens, iridis, turbinata (keep nitida to see)"
   ]
  },
  {
   "cell_type": "code",
   "execution_count": 53,
   "metadata": {},
   "outputs": [
    {
     "name": "stdout",
     "output_type": "stream",
     "text": [
      "The rpy2.ipython extension is already loaded. To reload it, use:\n",
      "  %reload_ext rpy2.ipython\n"
     ]
    }
   ],
   "source": [
    "%load_ext rpy2.ipython"
   ]
  },
  {
   "cell_type": "code",
   "execution_count": 54,
   "metadata": {
    "scrolled": true
   },
   "outputs": [],
   "source": [
    "%%R\n",
    "library(tidyverse)\n",
    "\n",
    "setwd('/data/gpfs/assoc/denovo/tfaske/rabbit/full/phylo/subset_vcf')"
   ]
  },
  {
   "cell_type": "code",
   "execution_count": 64,
   "metadata": {},
   "outputs": [
    {
     "name": "stdout",
     "output_type": "stream",
     "text": [
      "\n",
      "   arenaria   bigelovii E.discoidea  graveolens   hololueca      iridis \n",
      "          5           9           3          11         219           6 \n",
      "     nitida   oreophila salicifolia    speciosa   turbinata \n",
      "          6          64          26          25          17 \n",
      "\n",
      " consimilis E.discoidea    nauseosa \n",
      "         75           3         313 \n",
      "\n",
      "   arenaria   bigelovii E.discoidea  graveolens   hololueca      iridis \n",
      "          1           2           1           2          17           1 \n",
      "     nitida   oreophila salicifolia    speciosa   turbinata \n",
      "          1          11           5           4           2 \n",
      "\n",
      " consimilis E.discoidea    nauseosa \n",
      "         13           1          33 \n"
     ]
    }
   ],
   "source": [
    "%%R \n",
    "\n",
    "Pop_ID_noHybrid <- read.csv('Pop_ID_noHybrid.csv')\n",
    "print(table(Pop_ID_noHybrid$Variety))\n",
    "print(table(Pop_ID_noHybrid$Ssp))\n",
    "\n",
    "t <- Pop_ID_noHybrid %>%\n",
    "    group_by(Pop) %>%\n",
    "    summarize(Variety=unique(Variety),Ssp=unique(Ssp))\n",
    "\n",
    "print(table(t$Variety))\n",
    "print(table(t$Ssp))"
   ]
  },
  {
   "cell_type": "code",
   "execution_count": 5,
   "metadata": {},
   "outputs": [],
   "source": [
    "%%R \n",
    "\n",
    "Pop_ID_noHybrid <- read.csv('Pop_ID_noHybrid.csv')\n",
    "#table(Pop_ID_noHybrid$Pop)\n",
    "Pop_ID_noHybrid$Pop <- as.character(Pop_ID_noHybrid$Pop)\n",
    "\n",
    "pop_noHybrid <- unique(Pop_ID_noHybrid$Pop)\n",
    "Pop_ID_noHybrid_iqtree <- Pop_ID_noHybrid[1,]\n",
    "\n",
    "for (p in pop_noHybrid){\n",
    "    df <- Pop_ID_noHybrid[which(Pop_ID_noHybrid$Pop == p),]\n",
    "    if(nrow(df) >= 3){\n",
    "        index <- sample(1:nrow(df),3)\n",
    "        df <- df[index,]\n",
    "        Pop_ID_noHybrid_iqtree <- rbind(Pop_ID_noHybrid_iqtree,df)\n",
    "    }else{\n",
    "        Pop_ID_noHybrid_iqtree <- rbind(Pop_ID_noHybrid_iqtree,df)\n",
    "    }\n",
    "}\n",
    "Pop_ID_noHybrid_iqtree <- Pop_ID_noHybrid_iqtree[-1,]"
   ]
  },
  {
   "cell_type": "code",
   "execution_count": 9,
   "metadata": {},
   "outputs": [
    {
     "name": "stdout",
     "output_type": "stream",
     "text": [
      "[1] 135  12\n",
      "[1] 47\n"
     ]
    }
   ],
   "source": [
    "%%R \n",
    "\n",
    "print(dim(Pop_ID_noHybrid_iqtree))\n",
    "print(length(unique(Pop_ID_noHybrid_iqtree$Pop)))"
   ]
  },
  {
   "cell_type": "code",
   "execution_count": 10,
   "metadata": {},
   "outputs": [],
   "source": [
    "%%R \n",
    "# write file with individuals to keep \n",
    "keep_noHybrid_iqtree <- data.frame(INDV=as.character(Pop_ID_noHybrid_iqtree$All))\n",
    "write.table(keep_noHybrid_iqtree,'keep_noHybrid_iqtree.txt',row.names=FALSE,quote=FALSE)\n",
    "write.csv(Pop_ID_noHybrid_iqtree,'Pop_ID_noHybrid_iqtree.csv',row.names = FALSE)\n",
    "\n",
    "#print(length(unique(Pop_ID_noHybrid_iqtree$Pop)))\n",
    "#table(Pop_ID_noHybrid_iqtree$Pop)\n",
    "#print(nrow(Pop_ID_noHybrid_iqtree))\n",
    "#table(Pop_ID_noHybrid$Pop)"
   ]
  },
  {
   "cell_type": "code",
   "execution_count": 27,
   "metadata": {
    "scrolled": true
   },
   "outputs": [
    {
     "name": "stdout",
     "output_type": "stream",
     "text": [
      "\n",
      "VCFtools - 0.1.16\n",
      "(C) Adam Auton and Anthony Marcketta 2009\n",
      "\n",
      "Parameters as interpreted:\n",
      "\t--gzvcf /data/gpfs/assoc/denovo/tfaske/rabbit/full/phylo/subset_vcf/good_snps.recode.vcf.gz\n",
      "\t--keep keep_noHybrid_iqtree.txt\n",
      "\t--recode-INFO-all\n",
      "\t--out ERNA_noHybrid_iqtree\n",
      "\t--recode\n",
      "\n",
      "Using zlib version: 1.2.11\n",
      "Warning: Expected at least 2 parts in INFO entry: ID=AC,Number=A,Type=Integer,Description=\"Allele count in genotypes for each ALT allele, in the same order as listed\">\n",
      "Warning: Expected at least 2 parts in INFO entry: ID=DP4,Number=4,Type=Integer,Description=\"Number of high-quality ref-forward , ref-reverse, alt-forward and alt-reverse bases\">\n",
      "Warning: Expected at least 2 parts in INFO entry: ID=DP4,Number=4,Type=Integer,Description=\"Number of high-quality ref-forward , ref-reverse, alt-forward and alt-reverse bases\">\n",
      "Keeping individuals in 'keep' list\n",
      "After filtering, kept 135 out of 588 Individuals\n",
      "Outputting VCF file...\n",
      "After filtering, kept 23832 out of a possible 23832 Sites\n",
      "Run Time = 11.00 seconds\n"
     ]
    }
   ],
   "source": [
    "!$vcftools --gzvcf $vcf_file \\\n",
    "--recode \\\n",
    "--recode-INFO-all \\\n",
    "--keep 'keep_noHybrid_iqtree.txt' \\\n",
    "--out 'ERNA_noHybrid_iqtree'"
   ]
  },
  {
   "cell_type": "code",
   "execution_count": 28,
   "metadata": {},
   "outputs": [],
   "source": [
    "vcf_noHybrid_iqtree = 'ERNA_noHybrid_iqtree.recode.vcf'\n",
    "vcf_noHybrid_iqtree_gz = vcf_noHybrid_iqtree + \".gz\"\n",
    "!$bgzip -c {vcf_noHybrid_iqtree} > {vcf_noHybrid_iqtree_gz}\n",
    "!$tabix {vcf_noHybrid_iqtree_gz}"
   ]
  },
  {
   "cell_type": "code",
   "execution_count": 29,
   "metadata": {},
   "outputs": [],
   "source": [
    "!rm 'ERNA_noHybrid_iqtree.log'\n",
    "!rm 'ERNA_noHybrid_iqtree.recode.vcf'\n",
    "!rm 'ERNA_noHybrid_iqtree.recode.vcf.gz.tbi'"
   ]
  },
  {
   "cell_type": "markdown",
   "metadata": {},
   "source": [
    "## Run iqtree"
   ]
  },
  {
   "cell_type": "code",
   "execution_count": 30,
   "metadata": {},
   "outputs": [
    {
     "name": "stdout",
     "output_type": "stream",
     "text": [
      "/data/gpfs/assoc/denovo/tfaske/rabbit/full/phylo\n"
     ]
    }
   ],
   "source": [
    "cd $root"
   ]
  },
  {
   "cell_type": "code",
   "execution_count": 31,
   "metadata": {},
   "outputs": [
    {
     "name": "stdout",
     "output_type": "stream",
     "text": [
      "mkdir: cannot create directory ‘iqtree’: File exists\r\n"
     ]
    }
   ],
   "source": [
    "!mkdir iqtree"
   ]
  },
  {
   "cell_type": "code",
   "execution_count": 32,
   "metadata": {},
   "outputs": [],
   "source": [
    "iqtree_dir = os.path.join(root,'iqtree')"
   ]
  },
  {
   "cell_type": "code",
   "execution_count": 33,
   "metadata": {},
   "outputs": [],
   "source": [
    "!cp 'subset_vcf/ERNA_noHybrid_iqtree.recode.vcf.gz' $iqtree_dir"
   ]
  },
  {
   "cell_type": "code",
   "execution_count": 34,
   "metadata": {},
   "outputs": [
    {
     "name": "stdout",
     "output_type": "stream",
     "text": [
      "/data/gpfs/assoc/denovo/tfaske/rabbit/full/phylo/iqtree\n"
     ]
    }
   ],
   "source": [
    "cd $iqtree_dir"
   ]
  },
  {
   "cell_type": "code",
   "execution_count": 35,
   "metadata": {},
   "outputs": [],
   "source": [
    "!gunzip 'ERNA_noHybrid_iqtree.recode.vcf.gz'"
   ]
  },
  {
   "cell_type": "code",
   "execution_count": 36,
   "metadata": {},
   "outputs": [],
   "source": [
    "vcf2phy = '/data/gpfs/assoc/parchmanlab/tfaske/src/phylo/./vcf2phylip.py'"
   ]
  },
  {
   "cell_type": "code",
   "execution_count": 37,
   "metadata": {},
   "outputs": [],
   "source": [
    "vcf_iqtree = os.path.join(iqtree_dir,'ERNA_noHybrid_iqtree.recode.vcf')"
   ]
  },
  {
   "cell_type": "code",
   "execution_count": 38,
   "metadata": {},
   "outputs": [
    {
     "name": "stdout",
     "output_type": "stream",
     "text": [
      "\n",
      "Converting file '/data/gpfs/assoc/denovo/tfaske/rabbit/full/phylo/iqtree/ERNA_noHybrid_iqtree.recode.vcf':\n",
      "\n",
      "Number of samples in VCF: 135\n",
      "Total of genotypes processed: 23832\n",
      "Genotypes excluded because they exceeded the amount of missing data allowed: 0\n",
      "Genotypes that passed missing data filter but were excluded for being MNPs: 0\n",
      "SNPs that passed the filters: 23832\n",
      "\n",
      "Sample 1 of 135, 'EN_AH_12', added to the nucleotide matrix(ces).\n",
      "Sample 2 of 135, 'EN_AH_2', added to the nucleotide matrix(ces).\n",
      "Sample 3 of 135, 'EN_AH_5', added to the nucleotide matrix(ces).\n",
      "Sample 4 of 135, 'EN_AR_2', added to the nucleotide matrix(ces).\n",
      "Sample 5 of 135, 'EN_AR_3', added to the nucleotide matrix(ces).\n",
      "Sample 6 of 135, 'EN_AR_6', added to the nucleotide matrix(ces).\n",
      "Sample 7 of 135, 'EN_AS_16', added to the nucleotide matrix(ces).\n",
      "Sample 8 of 135, 'EN_AS_23', added to the nucleotide matrix(ces).\n",
      "Sample 9 of 135, 'EN_AS_27', added to the nucleotide matrix(ces).\n",
      "Sample 10 of 135, 'EN_BC_10', added to the nucleotide matrix(ces).\n",
      "Sample 11 of 135, 'EN_BC_11', added to the nucleotide matrix(ces).\n",
      "Sample 12 of 135, 'EN_BC_8', added to the nucleotide matrix(ces).\n",
      "Sample 13 of 135, 'EN_BH_4', added to the nucleotide matrix(ces).\n",
      "Sample 14 of 135, 'EN_BH_5', added to the nucleotide matrix(ces).\n",
      "Sample 15 of 135, 'EN_BH_6', added to the nucleotide matrix(ces).\n",
      "Sample 16 of 135, 'EN_BM_19', added to the nucleotide matrix(ces).\n",
      "Sample 17 of 135, 'EN_BM_22', added to the nucleotide matrix(ces).\n",
      "Sample 18 of 135, 'EN_BM_29', added to the nucleotide matrix(ces).\n",
      "Sample 19 of 135, 'EN_BO_1', added to the nucleotide matrix(ces).\n",
      "Sample 20 of 135, 'EN_BO_2', added to the nucleotide matrix(ces).\n",
      "Sample 21 of 135, 'EN_BO_4', added to the nucleotide matrix(ces).\n",
      "Sample 22 of 135, 'EN_BT_3', added to the nucleotide matrix(ces).\n",
      "Sample 23 of 135, 'EN_BT_4', added to the nucleotide matrix(ces).\n",
      "Sample 24 of 135, 'EN_BT_5', added to the nucleotide matrix(ces).\n",
      "Sample 25 of 135, 'EN_BV_19', added to the nucleotide matrix(ces).\n",
      "Sample 26 of 135, 'EN_BV_22', added to the nucleotide matrix(ces).\n",
      "Sample 27 of 135, 'EN_BV_24', added to the nucleotide matrix(ces).\n",
      "Sample 28 of 135, 'EN_CH_2', added to the nucleotide matrix(ces).\n",
      "Sample 29 of 135, 'EN_CH_6', added to the nucleotide matrix(ces).\n",
      "Sample 30 of 135, 'EN_CH_7', added to the nucleotide matrix(ces).\n",
      "Sample 31 of 135, 'EN_CI_1', added to the nucleotide matrix(ces).\n",
      "Sample 32 of 135, 'EN_CI_4', added to the nucleotide matrix(ces).\n",
      "Sample 33 of 135, 'EN_CI_5', added to the nucleotide matrix(ces).\n",
      "Sample 34 of 135, 'EN_CL_1', added to the nucleotide matrix(ces).\n",
      "Sample 35 of 135, 'EN_CL_2', added to the nucleotide matrix(ces).\n",
      "Sample 36 of 135, 'EN_CL_5', added to the nucleotide matrix(ces).\n",
      "Sample 37 of 135, 'EN_CN_1', added to the nucleotide matrix(ces).\n",
      "Sample 38 of 135, 'EN_CN_4', added to the nucleotide matrix(ces).\n",
      "Sample 39 of 135, 'EN_CN_6', added to the nucleotide matrix(ces).\n",
      "Sample 40 of 135, 'EN_CO_1', added to the nucleotide matrix(ces).\n",
      "Sample 41 of 135, 'EN_CO_2', added to the nucleotide matrix(ces).\n",
      "Sample 42 of 135, 'EN_CO_4', added to the nucleotide matrix(ces).\n",
      "Sample 43 of 135, 'EN_CT_1', added to the nucleotide matrix(ces).\n",
      "Sample 44 of 135, 'EN_CT_2', added to the nucleotide matrix(ces).\n",
      "Sample 45 of 135, 'EN_CT_6', added to the nucleotide matrix(ces).\n",
      "Sample 46 of 135, 'EN_DC_11', added to the nucleotide matrix(ces).\n",
      "Sample 47 of 135, 'EN_DC_2', added to the nucleotide matrix(ces).\n",
      "Sample 48 of 135, 'EN_DC_4', added to the nucleotide matrix(ces).\n",
      "Sample 49 of 135, 'EN_DH_18', added to the nucleotide matrix(ces).\n",
      "Sample 50 of 135, 'EN_DH_19', added to the nucleotide matrix(ces).\n",
      "Sample 51 of 135, 'EN_DH_22', added to the nucleotide matrix(ces).\n",
      "Sample 52 of 135, 'EN_DT_2', added to the nucleotide matrix(ces).\n",
      "Sample 53 of 135, 'EN_DT_4', added to the nucleotide matrix(ces).\n",
      "Sample 54 of 135, 'EN_DT_5', added to the nucleotide matrix(ces).\n",
      "Sample 55 of 135, 'EN_ED_1', added to the nucleotide matrix(ces).\n",
      "Sample 56 of 135, 'EN_ED_2', added to the nucleotide matrix(ces).\n",
      "Sample 57 of 135, 'EN_ED_3', added to the nucleotide matrix(ces).\n",
      "Sample 58 of 135, 'EN_EW_13', added to the nucleotide matrix(ces).\n",
      "Sample 59 of 135, 'EN_EW_2', added to the nucleotide matrix(ces).\n",
      "Sample 60 of 135, 'EN_EW_6', added to the nucleotide matrix(ces).\n",
      "Sample 61 of 135, 'EN_FR_10', added to the nucleotide matrix(ces).\n",
      "Sample 62 of 135, 'EN_FR_14', added to the nucleotide matrix(ces).\n",
      "Sample 63 of 135, 'EN_FR_9', added to the nucleotide matrix(ces).\n",
      "Sample 64 of 135, 'EN_GB_16', added to the nucleotide matrix(ces).\n",
      "Sample 65 of 135, 'EN_GO_1', added to the nucleotide matrix(ces).\n",
      "Sample 66 of 135, 'EN_GO_4', added to the nucleotide matrix(ces).\n",
      "Sample 67 of 135, 'EN_GO_6', added to the nucleotide matrix(ces).\n",
      "Sample 68 of 135, 'EN_HO_11', added to the nucleotide matrix(ces).\n",
      "Sample 69 of 135, 'EN_HO_15', added to the nucleotide matrix(ces).\n",
      "Sample 70 of 135, 'EN_HO_5', added to the nucleotide matrix(ces).\n",
      "Sample 71 of 135, 'EN_JC_10', added to the nucleotide matrix(ces).\n",
      "Sample 72 of 135, 'EN_JC_13', added to the nucleotide matrix(ces).\n",
      "Sample 73 of 135, 'EN_JC_8', added to the nucleotide matrix(ces).\n",
      "Sample 74 of 135, 'EN_LO_2', added to the nucleotide matrix(ces).\n",
      "Sample 75 of 135, 'EN_LO_4', added to the nucleotide matrix(ces).\n",
      "Sample 76 of 135, 'EN_LO_5', added to the nucleotide matrix(ces).\n",
      "Sample 77 of 135, 'EN_LR_3', added to the nucleotide matrix(ces).\n",
      "Sample 78 of 135, 'EN_LR_4', added to the nucleotide matrix(ces).\n",
      "Sample 79 of 135, 'EN_LR_7', added to the nucleotide matrix(ces).\n",
      "Sample 80 of 135, 'EN_LT_3', added to the nucleotide matrix(ces).\n",
      "Sample 81 of 135, 'EN_LT_4', added to the nucleotide matrix(ces).\n",
      "Sample 82 of 135, 'EN_LT_5', added to the nucleotide matrix(ces).\n",
      "Sample 83 of 135, 'EN_LV_18', added to the nucleotide matrix(ces).\n",
      "Sample 84 of 135, 'EN_LV_24', added to the nucleotide matrix(ces).\n",
      "Sample 85 of 135, 'EN_LV_30', added to the nucleotide matrix(ces).\n",
      "Sample 86 of 135, 'EN_MD_1', added to the nucleotide matrix(ces).\n",
      "Sample 87 of 135, 'EN_MD_4', added to the nucleotide matrix(ces).\n",
      "Sample 88 of 135, 'EN_MD_8', added to the nucleotide matrix(ces).\n",
      "Sample 89 of 135, 'EN_NI_4', added to the nucleotide matrix(ces).\n",
      "Sample 90 of 135, 'EN_NI_5', added to the nucleotide matrix(ces).\n",
      "Sample 91 of 135, 'EN_NI_6', added to the nucleotide matrix(ces).\n",
      "Sample 92 of 135, 'EN_NV_1', added to the nucleotide matrix(ces).\n",
      "Sample 93 of 135, 'EN_NV_3', added to the nucleotide matrix(ces).\n",
      "Sample 94 of 135, 'EN_NV_5', added to the nucleotide matrix(ces).\n",
      "Sample 95 of 135, 'EN_OT_4', added to the nucleotide matrix(ces).\n",
      "Sample 96 of 135, 'EN_PB_2', added to the nucleotide matrix(ces).\n",
      "Sample 97 of 135, 'EN_PB_3', added to the nucleotide matrix(ces).\n",
      "Sample 98 of 135, 'EN_PB_5', added to the nucleotide matrix(ces).\n",
      "Sample 99 of 135, 'EN_PL_1', added to the nucleotide matrix(ces).\n",
      "Sample 100 of 135, 'EN_PL_22', added to the nucleotide matrix(ces).\n",
      "Sample 101 of 135, 'EN_PL_23', added to the nucleotide matrix(ces).\n",
      "Sample 102 of 135, 'EN_PT_3', added to the nucleotide matrix(ces).\n",
      "Sample 103 of 135, 'EN_PT_7', added to the nucleotide matrix(ces).\n",
      "Sample 104 of 135, 'EN_PT_8', added to the nucleotide matrix(ces).\n",
      "Sample 105 of 135, 'EN_PW_1', added to the nucleotide matrix(ces).\n",
      "Sample 106 of 135, 'EN_PW_3', added to the nucleotide matrix(ces).\n",
      "Sample 107 of 135, 'EN_PW_9', added to the nucleotide matrix(ces).\n",
      "Sample 108 of 135, 'EN_RL_3', added to the nucleotide matrix(ces).\n",
      "Sample 109 of 135, 'EN_RL_4', added to the nucleotide matrix(ces).\n",
      "Sample 110 of 135, 'EN_RL_5', added to the nucleotide matrix(ces).\n",
      "Sample 111 of 135, 'EN_RO_5', added to the nucleotide matrix(ces).\n",
      "Sample 112 of 135, 'EN_RS_1', added to the nucleotide matrix(ces).\n",
      "Sample 113 of 135, 'EN_RS_4', added to the nucleotide matrix(ces).\n",
      "Sample 114 of 135, 'EN_RS_5', added to the nucleotide matrix(ces).\n",
      "Sample 115 of 135, 'EN_SC_14', added to the nucleotide matrix(ces).\n",
      "Sample 116 of 135, 'EN_SC_3', added to the nucleotide matrix(ces).\n",
      "Sample 117 of 135, 'EN_SC_6', added to the nucleotide matrix(ces).\n",
      "Sample 118 of 135, 'EN_SJ_12', added to the nucleotide matrix(ces).\n",
      "Sample 119 of 135, 'EN_SJ_6', added to the nucleotide matrix(ces).\n",
      "Sample 120 of 135, 'EN_SJ_8', added to the nucleotide matrix(ces).\n",
      "Sample 121 of 135, 'EN_SS_10', added to the nucleotide matrix(ces).\n",
      "Sample 122 of 135, 'EN_SS_3', added to the nucleotide matrix(ces).\n",
      "Sample 123 of 135, 'EN_SS_9', added to the nucleotide matrix(ces).\n"
     ]
    },
    {
     "name": "stdout",
     "output_type": "stream",
     "text": [
      "Sample 124 of 135, 'EN_UT_1', added to the nucleotide matrix(ces).\n",
      "Sample 125 of 135, 'EN_UT_2', added to the nucleotide matrix(ces).\n",
      "Sample 126 of 135, 'EN_UT_3', added to the nucleotide matrix(ces).\n",
      "Sample 127 of 135, 'EN_VM_11', added to the nucleotide matrix(ces).\n",
      "Sample 128 of 135, 'EN_VM_13', added to the nucleotide matrix(ces).\n",
      "Sample 129 of 135, 'EN_VM_4', added to the nucleotide matrix(ces).\n",
      "Sample 130 of 135, 'EN_WA_1', added to the nucleotide matrix(ces).\n",
      "Sample 131 of 135, 'EN_WA_3', added to the nucleotide matrix(ces).\n",
      "Sample 132 of 135, 'EN_WA_6', added to the nucleotide matrix(ces).\n",
      "Sample 133 of 135, 'EN_YL_3', added to the nucleotide matrix(ces).\n",
      "Sample 134 of 135, 'EN_YL_5', added to the nucleotide matrix(ces).\n",
      "Sample 135 of 135, 'EN_YL_6', added to the nucleotide matrix(ces).\n",
      "\n",
      "PHYLIP matrix saved to: ERNA_noHybrid_iqtree.recode.min4.phy\n",
      "\n",
      "Done!\n",
      "\n"
     ]
    }
   ],
   "source": [
    "!python $vcf2phy --i $vcf_iqtree"
   ]
  },
  {
   "cell_type": "markdown",
   "metadata": {},
   "source": [
    "#### NOTE: ran once but invariant sites. rerun with new .phy file"
   ]
  },
  {
   "cell_type": "code",
   "execution_count": 43,
   "metadata": {},
   "outputs": [],
   "source": [
    "#phy_file = os.path.join(iqtree_dir,'ERNA_noHybrid_iqtree.recode.min4.phy')\n",
    "phy_file = os.path.join(iqtree_dir,'ERNA_noHybrid_iqtree.recode.min4.phy.varsites.phy')"
   ]
  },
  {
   "cell_type": "code",
   "execution_count": 44,
   "metadata": {},
   "outputs": [],
   "source": [
    "### select options for slurm submission\n",
    "account = 'cpu-s5-denovo-0'\n",
    "partition = 'cpu-core-0'\n",
    "jobname = 'iqtree'\n",
    "time = '4-00:00:00' #time limit 1 day\n",
    "cpus = 16\n",
    "mem_cpu = 9000\n",
    "email = 'tfaske@nevada.unr.edu'\n",
    "\n",
    "### for iqtree\n",
    "model = 'GTR+ASC'\n",
    "bb = 1000 #bootstrap"
   ]
  },
  {
   "cell_type": "code",
   "execution_count": 45,
   "metadata": {},
   "outputs": [],
   "source": [
    "def write_iqtree_sh(account,partition,time,cpus,mem_cpu,email,iqtree_dir,phy,model,bb):\n",
    "    with open(\"run_noHybrid_iqtree.sh\", \"w\") as o:\n",
    "        o.write(\"\"\"#!/usr/bin/env bash\n",
    "#SBATCH --account=%s\n",
    "#SBATCH --partition=%s\n",
    "#SBATCH --time=%s\n",
    "#SBATCH --ntasks 1\n",
    "#SBATCH --cpus-per-task %d\n",
    "#SBATCH --mem-per-cpu=%d\n",
    "#SBATCH --job-name iqtree\n",
    "#SBATCH --output output_iqtree_noHybrid.txt\n",
    "#SBATCH --mail-type=END\n",
    "#SBATCH --mail-user=%s\n",
    "\n",
    "cd %s\n",
    "    \n",
    "iqtree -s %s -nt %d -m %s -st DNA -bb %d \\n\\n\"\"\" % (account,partition,time,int(cpus),int(mem_cpu),email,iqtree_dir,phy,int(cpus),model,bb))\n",
    "        \n",
    "        "
   ]
  },
  {
   "cell_type": "code",
   "execution_count": 46,
   "metadata": {},
   "outputs": [],
   "source": [
    "write_iqtree_sh(account,partition,time,cpus,mem_cpu,email,iqtree_dir,phy_file,model,bb)"
   ]
  },
  {
   "cell_type": "markdown",
   "metadata": {},
   "source": [
    "# Run iqtree.sh\n",
    "    cd /data/gpfs/home/tfaske/d/rabbit/full/phylo/iqtree\n",
    "    source activate py311\n",
    "    sbatch run_iqtree.sh"
   ]
  },
  {
   "cell_type": "code",
   "execution_count": null,
   "metadata": {},
   "outputs": [],
   "source": []
  }
 ],
 "metadata": {
  "kernelspec": {
   "display_name": "Python 3 (ipykernel)",
   "language": "python",
   "name": "python3"
  },
  "language_info": {
   "codemirror_mode": {
    "name": "ipython",
    "version": 3
   },
   "file_extension": ".py",
   "mimetype": "text/x-python",
   "name": "python",
   "nbconvert_exporter": "python",
   "pygments_lexer": "ipython3",
   "version": "3.11.0"
  }
 },
 "nbformat": 4,
 "nbformat_minor": 4
}
