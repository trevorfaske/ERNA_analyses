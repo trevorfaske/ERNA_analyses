{
 "cells": [
  {
   "cell_type": "markdown",
   "metadata": {},
   "source": [
    "# make new VCF for phylogenetics\n",
    "\n",
    "### Need to do:     \n",
    "\n",
    "- create bam files for ED outgroup  \n",
    "- move bam files for only those kept in Pop_ID\n",
    "- filter snps same as original file"
   ]
  },
  {
   "cell_type": "code",
   "execution_count": 5,
   "metadata": {
    "ExecuteTime": {}
   },
   "outputs": [],
   "source": [
    "import sys\n",
    "import ipyparallel as ipp\n",
    "import os\n",
    "from os import environ\n",
    "import gzip\n",
    "import warnings\n",
    "import pandas as pd\n",
    "import numpy as np\n",
    "import scipy as sp\n",
    "import glob\n",
    "import re\n",
    "import random"
   ]
  },
  {
   "cell_type": "markdown",
   "metadata": {},
   "source": [
    "## Mapping of ED outgroup"
   ]
  },
  {
   "cell_type": "code",
   "execution_count": 1,
   "metadata": {
    "ExecuteTime": {}
   },
   "outputs": [],
   "source": [
    "root = \"/data/gpfs/assoc/denovo/tfaske/rabbit/full/REDO\""
   ]
  },
  {
   "cell_type": "code",
   "execution_count": 2,
   "metadata": {
    "ExecuteTime": {}
   },
   "outputs": [
    {
     "name": "stdout",
     "output_type": "stream",
     "text": [
      "/data/gpfs/assoc/denovo/tfaske/rabbit/full/REDO\n"
     ]
    }
   ],
   "source": [
    "cd $root"
   ]
  },
  {
   "cell_type": "code",
   "execution_count": 3,
   "metadata": {
    "ExecuteTime": {}
   },
   "outputs": [
    {
     "data": {
      "text/plain": [
       "'/data/gpfs/assoc/denovo/tfaske/rabbit/full/REDO'"
      ]
     },
     "execution_count": 3,
     "metadata": {},
     "output_type": "execute_result"
    }
   ],
   "source": [
    "pwd"
   ]
  },
  {
   "cell_type": "markdown",
   "metadata": {},
   "source": [
    "## Assembly"
   ]
  },
  {
   "cell_type": "code",
   "execution_count": 6,
   "metadata": {
    "ExecuteTime": {}
   },
   "outputs": [],
   "source": [
    "assembly = os.path.join(root,\"assembly/reference.fasta\")"
   ]
  },
  {
   "cell_type": "markdown",
   "metadata": {},
   "source": [
    "## Actual Mapping \n",
    " "
   ]
  },
  {
   "cell_type": "code",
   "execution_count": 7,
   "metadata": {
    "ExecuteTime": {}
   },
   "outputs": [],
   "source": [
    "files = !find ../demult/outgroup_fq/ -name 'EN_ED*'\n",
    "ED_fq_files = [os.path.abspath(x) for x in files]"
   ]
  },
  {
   "cell_type": "code",
   "execution_count": 8,
   "metadata": {
    "ExecuteTime": {}
   },
   "outputs": [
    {
     "data": {
      "text/plain": [
       "(3,\n",
       " ['/data/gpfs/assoc/denovo/tfaske/rabbit/full/demult/outgroup_fq/EN_ED_3.fastq.gz',\n",
       "  '/data/gpfs/assoc/denovo/tfaske/rabbit/full/demult/outgroup_fq/EN_ED_1.fastq.gz',\n",
       "  '/data/gpfs/assoc/denovo/tfaske/rabbit/full/demult/outgroup_fq/EN_ED_2.fastq.gz'])"
      ]
     },
     "execution_count": 8,
     "metadata": {},
     "output_type": "execute_result"
    }
   ],
   "source": [
    "len(ED_fq_files),ED_fq_files"
   ]
  },
  {
   "cell_type": "code",
   "execution_count": 9,
   "metadata": {},
   "outputs": [],
   "source": [
    "phylo_dir = os.path.join(root,\"phylo\")"
   ]
  },
  {
   "cell_type": "code",
   "execution_count": 10,
   "metadata": {},
   "outputs": [
    {
     "name": "stdout",
     "output_type": "stream",
     "text": [
      "/data/gpfs/assoc/denovo/tfaske/rabbit/full/REDO/phylo\n"
     ]
    }
   ],
   "source": [
    "cd $phylo_dir"
   ]
  },
  {
   "cell_type": "code",
   "execution_count": 11,
   "metadata": {
    "ExecuteTime": {}
   },
   "outputs": [],
   "source": [
    "# -k INT minimum seed length [19]\n",
    "# -w INT band width for banded alignment [100]\n",
    "# -r FLOAT look for internal seeds inside a seed longer than {-k} * FLOAT [1.5]\n",
    "# -T INT minimum score to output [30]\n",
    "# -R STR read group header line such as '@RG\\tID:foo\\tSM:bar' [null]\n",
    "\n",
    "#@lview.remote()\n",
    "def run_bwamem(args):\n",
    "    import os, multiprocessing, socket\n",
    "    cpus = 1\n",
    "    assembly, fq, outdir = args\n",
    "    ID = fq.split('/')[10] ### need to change this to match your ID \n",
    "    ID = ID.split('.fastq.')[0] ### This too \n",
    "    sam = os.path.join(outdir, \"{}.sam\".format(os.path.basename(ID)))\n",
    "    bam = sam.replace('.sam','.bam')\n",
    "    bam_sorted = \"%s_sorted.bam\" % bam.replace(\".bam\", \"\")\n",
    "    bwa_cmd = r\"bwa mem -k 20 -w 100 -r 1.3 -T 30 -R '@RG\\tID:%s\\tLB:%s\\tSM:%s\\tPL:ILLUMINA' %s %s > %s\" % (ID,ID,ID,assembly,fq,sam)\n",
    "    s2b_cmd =  \"samtools view -b %s -o %s\\n\\nsamtools sort -@ %s %s -o %s\\n\\nsamtools index %s\\n\\n\" % (sam,bam,cpus,bam,bam_sorted,bam_sorted)                                                              \n",
    "    return  bwa_cmd,s2b_cmd "
   ]
  },
  {
   "cell_type": "code",
   "execution_count": 12,
   "metadata": {},
   "outputs": [],
   "source": [
    "!mkdir bam_files"
   ]
  },
  {
   "cell_type": "code",
   "execution_count": 13,
   "metadata": {},
   "outputs": [],
   "source": [
    "!mkdir bam_files/shdir"
   ]
  },
  {
   "cell_type": "code",
   "execution_count": 14,
   "metadata": {},
   "outputs": [],
   "source": [
    "bam_dir = os.path.join(phylo_dir,\"bam_files\")\n",
    "assert(bam_dir)"
   ]
  },
  {
   "cell_type": "code",
   "execution_count": 15,
   "metadata": {},
   "outputs": [],
   "source": [
    "### creates a list of commands for bwa-mem for each fastq file\n",
    "res_bwa = []\n",
    "res_s2b = []\n",
    "for f in ED_fq_files:\n",
    "    r1,r2 = run_bwamem((assembly, f, bam_dir))\n",
    "    res_bwa.append(r1)\n",
    "    res_s2b.append(r2)"
   ]
  },
  {
   "cell_type": "code",
   "execution_count": 16,
   "metadata": {},
   "outputs": [
    {
     "data": {
      "text/plain": [
       "(3,\n",
       " \"bwa mem -k 20 -w 100 -r 1.3 -T 30 -R '@RG\\\\tID:EN_ED_3\\\\tLB:EN_ED_3\\\\tSM:EN_ED_3\\\\tPL:ILLUMINA' /data/gpfs/assoc/denovo/tfaske/rabbit/full/REDO/assembly/reference.fasta /data/gpfs/assoc/denovo/tfaske/rabbit/full/demult/outgroup_fq/EN_ED_3.fastq.gz > /data/gpfs/assoc/denovo/tfaske/rabbit/full/REDO/phylo/bam_files/EN_ED_3.sam\")"
      ]
     },
     "execution_count": 16,
     "metadata": {},
     "output_type": "execute_result"
    }
   ],
   "source": [
    "len(res_bwa),res_bwa[0]"
   ]
  },
  {
   "cell_type": "code",
   "execution_count": 17,
   "metadata": {},
   "outputs": [
    {
     "data": {
      "text/plain": [
       "(3,\n",
       " 'samtools view -b /data/gpfs/assoc/denovo/tfaske/rabbit/full/REDO/phylo/bam_files/EN_ED_3.sam -o /data/gpfs/assoc/denovo/tfaske/rabbit/full/REDO/phylo/bam_files/EN_ED_3.bam\\n\\nsamtools sort -@ 1 /data/gpfs/assoc/denovo/tfaske/rabbit/full/REDO/phylo/bam_files/EN_ED_3.bam -o /data/gpfs/assoc/denovo/tfaske/rabbit/full/REDO/phylo/bam_files/EN_ED_3_sorted.bam\\n\\nsamtools index /data/gpfs/assoc/denovo/tfaske/rabbit/full/REDO/phylo/bam_files/EN_ED_3_sorted.bam\\n\\n')"
      ]
     },
     "execution_count": 17,
     "metadata": {},
     "output_type": "execute_result"
    }
   ],
   "source": [
    "len(res_s2b),res_s2b[0]"
   ]
  },
  {
   "cell_type": "code",
   "execution_count": 18,
   "metadata": {},
   "outputs": [
    {
     "name": "stdout",
     "output_type": "stream",
     "text": [
      "/data/gpfs/assoc/denovo/tfaske/rabbit/full/REDO/phylo/bam_files\n"
     ]
    }
   ],
   "source": [
    "cd $bam_dir"
   ]
  },
  {
   "cell_type": "markdown",
   "metadata": {},
   "source": [
    "#### Below selects options for slurm submission and is a function for creating a slurm script per fastq"
   ]
  },
  {
   "cell_type": "code",
   "execution_count": 19,
   "metadata": {},
   "outputs": [],
   "source": [
    "fq_ID = [fq.split('/')[10].split('.fastq.')[0] for fq in ED_fq_files]"
   ]
  },
  {
   "cell_type": "code",
   "execution_count": 21,
   "metadata": {},
   "outputs": [
    {
     "data": {
      "text/plain": [
       "(3, ['EN_ED_3', 'EN_ED_1', 'EN_ED_2'])"
      ]
     },
     "execution_count": 21,
     "metadata": {},
     "output_type": "execute_result"
    }
   ],
   "source": [
    "len(fq_ID), fq_ID"
   ]
  },
  {
   "cell_type": "code",
   "execution_count": 22,
   "metadata": {},
   "outputs": [],
   "source": [
    "### select options for slurm submission\n",
    "account = 'cpu-s5-denovo-0'\n",
    "partition = 'cpu-core-0'\n",
    "jobname = 'bwa_ED'\n",
    "time = '1-00:00:00' #time limit 1 day\n",
    "cpus = 1\n",
    "mem_cpu = 10000\n",
    "email = 'tfaske@nevada.unr.edu'"
   ]
  },
  {
   "cell_type": "code",
   "execution_count": 23,
   "metadata": {},
   "outputs": [],
   "source": [
    "def write_bwamem_ind_sh(account,partition,time,jobname,cpus,mem_cpu,email,fq_ID,bwa_cmds,s2b_cmds):\n",
    "    #print(account)\n",
    "    #print(partition)\n",
    "    #print(cpus)\n",
    "    #print(email)\n",
    "    #print(cmds[0])\n",
    "    for i in range(0,len(bwa_cmds)):\n",
    "        with open(\"shdir/run_bwamem_%s.sh\" % (fq_ID[i]), \"w\") as o:\n",
    "            o.write(\"\"\"#!/usr/bin/env bash\n",
    "#SBATCH --account=%s\n",
    "#SBATCH --partition=%s\n",
    "#SBATCH --time=%s\n",
    "#SBATCH --ntasks 1\n",
    "#SBATCH --cpus-per-task %d\n",
    "#SBATCH --mem-per-cpu=%d\n",
    "#SBATCH --job-name %s_bwamem\n",
    "#SBATCH --output bam_files/shdir/output_bwamem_%s.txt\n",
    "#SBATCH --mail-type=FAIL\n",
    "#SBATCH --mail-user=%s \\n\\n\n",
    "    \n",
    "%s \\n\\n\n",
    "%s \\n\"\"\" % (account,partition,time,int(cpus),int(mem_cpu),fq_ID[i],fq_ID[i],email,bwa_cmds[i],s2b_cmds[i]))"
   ]
  },
  {
   "cell_type": "code",
   "execution_count": 24,
   "metadata": {},
   "outputs": [],
   "source": [
    "write_bwamem_ind_sh(account,partition,time,jobname,cpus,mem_cpu,email,fq_ID,res_bwa,res_s2b)"
   ]
  },
  {
   "cell_type": "markdown",
   "metadata": {},
   "source": [
    "### Move Pop_ID sorted bams to bam_files dir   \n",
    "\n",
    "also, remove unnecessary sam/bams from ED "
   ]
  },
  {
   "cell_type": "code",
   "execution_count": 39,
   "metadata": {},
   "outputs": [
    {
     "name": "stdout",
     "output_type": "stream",
     "text": [
      "/data/gpfs/assoc/denovo/tfaske/rabbit/full/phylo\n"
     ]
    }
   ],
   "source": [
    "cd $phylo_dir"
   ]
  },
  {
   "cell_type": "code",
   "execution_count": 44,
   "metadata": {},
   "outputs": [
    {
     "name": "stdout",
     "output_type": "stream",
     "text": [
      "(585, 10)\n"
     ]
    },
    {
     "data": {
      "text/html": [
       "<div>\n",
       "<style scoped>\n",
       "    .dataframe tbody tr th:only-of-type {\n",
       "        vertical-align: middle;\n",
       "    }\n",
       "\n",
       "    .dataframe tbody tr th {\n",
       "        vertical-align: top;\n",
       "    }\n",
       "\n",
       "    .dataframe thead th {\n",
       "        text-align: right;\n",
       "    }\n",
       "</style>\n",
       "<table border=\"1\" class=\"dataframe\">\n",
       "  <thead>\n",
       "    <tr style=\"text-align: right;\">\n",
       "      <th></th>\n",
       "      <th>Pop</th>\n",
       "      <th>ID</th>\n",
       "      <th>All</th>\n",
       "      <th>Name</th>\n",
       "      <th>Lat</th>\n",
       "      <th>Long</th>\n",
       "      <th>State</th>\n",
       "      <th>Elevation</th>\n",
       "      <th>Ssp</th>\n",
       "      <th>Variety</th>\n",
       "    </tr>\n",
       "  </thead>\n",
       "  <tbody>\n",
       "    <tr>\n",
       "      <th>0</th>\n",
       "      <td>AH</td>\n",
       "      <td>10</td>\n",
       "      <td>EN_AH_10</td>\n",
       "      <td>Austin Hwy</td>\n",
       "      <td>39.600807</td>\n",
       "      <td>-117.159999</td>\n",
       "      <td>NV</td>\n",
       "      <td>1754</td>\n",
       "      <td>consilimis</td>\n",
       "      <td>oreophila</td>\n",
       "    </tr>\n",
       "    <tr>\n",
       "      <th>1</th>\n",
       "      <td>AH</td>\n",
       "      <td>11</td>\n",
       "      <td>EN_AH_11</td>\n",
       "      <td>Austin Hwy</td>\n",
       "      <td>39.600807</td>\n",
       "      <td>-117.159999</td>\n",
       "      <td>NV</td>\n",
       "      <td>1754</td>\n",
       "      <td>consilimis</td>\n",
       "      <td>oreophila</td>\n",
       "    </tr>\n",
       "    <tr>\n",
       "      <th>2</th>\n",
       "      <td>AH</td>\n",
       "      <td>12</td>\n",
       "      <td>EN_AH_12</td>\n",
       "      <td>Austin Hwy</td>\n",
       "      <td>39.600807</td>\n",
       "      <td>-117.159999</td>\n",
       "      <td>NV</td>\n",
       "      <td>1754</td>\n",
       "      <td>consilimis</td>\n",
       "      <td>oreophila</td>\n",
       "    </tr>\n",
       "    <tr>\n",
       "      <th>3</th>\n",
       "      <td>AH</td>\n",
       "      <td>13</td>\n",
       "      <td>EN_AH_13</td>\n",
       "      <td>Austin Hwy</td>\n",
       "      <td>39.600807</td>\n",
       "      <td>-117.159999</td>\n",
       "      <td>NV</td>\n",
       "      <td>1754</td>\n",
       "      <td>consilimis</td>\n",
       "      <td>oreophila</td>\n",
       "    </tr>\n",
       "    <tr>\n",
       "      <th>4</th>\n",
       "      <td>AH</td>\n",
       "      <td>14</td>\n",
       "      <td>EN_AH_14</td>\n",
       "      <td>Austin Hwy</td>\n",
       "      <td>39.600807</td>\n",
       "      <td>-117.159999</td>\n",
       "      <td>NV</td>\n",
       "      <td>1754</td>\n",
       "      <td>consilimis</td>\n",
       "      <td>oreophila</td>\n",
       "    </tr>\n",
       "  </tbody>\n",
       "</table>\n",
       "</div>"
      ],
      "text/plain": [
       "  Pop  ID       All        Name        Lat        Long State  Elevation  \\\n",
       "0  AH  10  EN_AH_10  Austin Hwy  39.600807 -117.159999    NV       1754   \n",
       "1  AH  11  EN_AH_11  Austin Hwy  39.600807 -117.159999    NV       1754   \n",
       "2  AH  12  EN_AH_12  Austin Hwy  39.600807 -117.159999    NV       1754   \n",
       "3  AH  13  EN_AH_13  Austin Hwy  39.600807 -117.159999    NV       1754   \n",
       "4  AH  14  EN_AH_14  Austin Hwy  39.600807 -117.159999    NV       1754   \n",
       "\n",
       "          Ssp    Variety  \n",
       "0  consilimis  oreophila  \n",
       "1  consilimis  oreophila  \n",
       "2  consilimis  oreophila  \n",
       "3  consilimis  oreophila  \n",
       "4  consilimis  oreophila  "
      ]
     },
     "execution_count": 44,
     "metadata": {},
     "output_type": "execute_result"
    }
   ],
   "source": [
    "Pop_ID = pd.read_csv('Pop_ID_Sum.csv')\n",
    "print(Pop_ID.shape)\n",
    "Pop_ID.head()"
   ]
  },
  {
   "cell_type": "code",
   "execution_count": 45,
   "metadata": {},
   "outputs": [],
   "source": [
    "for a in Pop_ID['All']:\n",
    "    bam_cp = '../SNPcall/good_bams/' + a + '_sorted.bam'\n",
    "    !cp $bam_cp $bam_dir"
   ]
  },
  {
   "cell_type": "code",
   "execution_count": 46,
   "metadata": {},
   "outputs": [
    {
     "name": "stdout",
     "output_type": "stream",
     "text": [
      "588\r\n"
     ]
    }
   ],
   "source": [
    "!ls -l bam_files/*bam | wc -l "
   ]
  },
  {
   "cell_type": "markdown",
   "metadata": {},
   "source": [
    "# Variant calling using bcftools   \n",
    "\n",
    "use preferred conda env  \n",
    "**Packages needed**: bcftools"
   ]
  },
  {
   "cell_type": "markdown",
   "metadata": {},
   "source": [
    "### Assembly"
   ]
  },
  {
   "cell_type": "code",
   "execution_count": 47,
   "metadata": {},
   "outputs": [
    {
     "name": "stdout",
     "output_type": "stream",
     "text": [
      "/data/gpfs/assoc/denovo/tfaske/rabbit/full/phylo\n"
     ]
    }
   ],
   "source": [
    "cd $phylo_dir"
   ]
  },
  {
   "cell_type": "code",
   "execution_count": 48,
   "metadata": {},
   "outputs": [],
   "source": [
    "bam_files = []\n",
    "files = !find bam_files/ -type f -name '*sorted.bam'\n",
    "files = [os.path.abspath(x) for x in files if 'bam' in x]\n",
    "for x in files:\n",
    "    bam_files.append(x)\n",
    "bam_files = sorted(bam_files)"
   ]
  },
  {
   "cell_type": "code",
   "execution_count": 49,
   "metadata": {
    "scrolled": true
   },
   "outputs": [
    {
     "data": {
      "text/plain": [
       "(588,\n",
       " '/data/gpfs/assoc/denovo/tfaske/rabbit/full/phylo/bam_files/EN_AH_10_sorted.bam')"
      ]
     },
     "execution_count": 49,
     "metadata": {},
     "output_type": "execute_result"
    }
   ],
   "source": [
    "len(bam_files), bam_files[0]"
   ]
  },
  {
   "cell_type": "markdown",
   "metadata": {},
   "source": [
    "# Call snps\n",
    "\n",
    "    "
   ]
  },
  {
   "cell_type": "code",
   "execution_count": 50,
   "metadata": {},
   "outputs": [],
   "source": [
    "!mkdir vcf"
   ]
  },
  {
   "cell_type": "code",
   "execution_count": 52,
   "metadata": {},
   "outputs": [],
   "source": [
    "vcf_dir = os.path.join(phylo_dir,\"vcf\")\n",
    "assert(vcf_dir)"
   ]
  },
  {
   "cell_type": "code",
   "execution_count": 53,
   "metadata": {},
   "outputs": [
    {
     "name": "stdout",
     "output_type": "stream",
     "text": [
      "/data/gpfs/assoc/denovo/tfaske/rabbit/full/phylo/vcf\n"
     ]
    }
   ],
   "source": [
    "cd $vcf_dir"
   ]
  },
  {
   "cell_type": "markdown",
   "metadata": {},
   "source": [
    "#### make a bam_list"
   ]
  },
  {
   "cell_type": "code",
   "execution_count": 54,
   "metadata": {},
   "outputs": [],
   "source": [
    "with open('bam_list.txt', \"w\") as o:\n",
    "    for b in bam_files:\n",
    "        o.write(\"%s\\n\" % (b))"
   ]
  },
  {
   "cell_type": "code",
   "execution_count": 62,
   "metadata": {},
   "outputs": [],
   "source": [
    "### select options for slurm submission\n",
    "#account = 'cpu-s1-bionres-0'\n",
    "#partition = 'cpu-s1-bionres-0'\n",
    "account = 'cpu-s5-denovo-0'\n",
    "partition = 'cpu-core-0'\n",
    "jobname = 'rabbit_bcftools'\n",
    "time = '8-00:00:00' #time limit 2 day\n",
    "cpus = 1\n",
    "mem_cpu = 100000\n",
    "email = 'tfaske@nevada.unr.edu'"
   ]
  },
  {
   "cell_type": "code",
   "execution_count": 63,
   "metadata": {},
   "outputs": [],
   "source": [
    "def write_bcftools_sh(account,partition,time,cpus,mem_cpu,email,assembly):\n",
    "        with open(\"run_bcftools.sh\" , \"w\") as o:\n",
    "            o.write(\"\"\"#!/usr/bin/env bash\n",
    "#SBATCH --account=%s\n",
    "#SBATCH --partition=%s\n",
    "#SBATCH --time=%s\n",
    "#SBATCH --ntasks 1\n",
    "#SBATCH --cpus-per-task %d\n",
    "#SBATCH --mem-per-cpu=%d\n",
    "#SBATCH --job-name rabbit_bcftools\n",
    "#SBATCH --output output_bcftools.txt\n",
    "#SBATCH --mail-type=FAIL,END\n",
    "#SBATCH --mail-user=%s \\n\\n\n",
    "    \n",
    "bcftools mpileup -a DP,AD,INFO/AD -C 50 -d 250 -f %s -q 30 -Q 20 -I -b bam_list.txt | bcftools call -v -m -f GQ -O z -o rabbit_phylo.vcf.gz\n",
    " \\n\"\"\" % (account,partition,time,int(cpus),int(mem_cpu),email,assembly))"
   ]
  },
  {
   "cell_type": "code",
   "execution_count": 64,
   "metadata": {},
   "outputs": [],
   "source": [
    "write_bcftools_sh(account,partition,time,cpus,mem_cpu,email,assembly)"
   ]
  },
  {
   "cell_type": "markdown",
   "metadata": {},
   "source": [
    "# Run run_bcftools.sh locally\n",
    "    cd /data/gpfs/assoc/denovo/tfaske/rabbit/full/phylo/vcf\n",
    "    source activate py36\n",
    "    bash run_bcftools.sh"
   ]
  },
  {
   "cell_type": "code",
   "execution_count": null,
   "metadata": {},
   "outputs": [],
   "source": []
  }
 ],
 "metadata": {
  "kernelspec": {
   "display_name": "Python 3 (ipykernel)",
   "language": "python",
   "name": "python3"
  },
  "language_info": {
   "codemirror_mode": {
    "name": "ipython",
    "version": 3
   },
   "file_extension": ".py",
   "mimetype": "text/x-python",
   "name": "python",
   "nbconvert_exporter": "python",
   "pygments_lexer": "ipython3",
   "version": "3.11.0"
  }
 },
 "nbformat": 4,
 "nbformat_minor": 1
}
