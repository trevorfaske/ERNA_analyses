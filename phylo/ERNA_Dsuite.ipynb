{
 "cells": [
  {
   "cell_type": "markdown",
   "metadata": {},
   "source": [
    "# Dsuite\n",
    "\n",
    "### Use Caro notes and new subsetted vcf with hybrids\n",
    "\n",
    "\n",
    "### INSTALLED in /data/gpfs/assoc/denovo/src/Dsuite\n",
    "https://github.com/millanek/Dsuite/blob/master/README.md\n",
    "\n",
    "### NOTE!!!! Make sure you module load gcc/9.2.0 or some verison first"
   ]
  },
  {
   "cell_type": "code",
   "execution_count": 96,
   "metadata": {},
   "outputs": [],
   "source": [
    "!module load gcc/9.2.0"
   ]
  },
  {
   "cell_type": "code",
   "execution_count": 12,
   "metadata": {},
   "outputs": [],
   "source": [
    "import sys\n",
    "import ipyparallel as ipp\n",
    "import os\n",
    "from os import environ\n",
    "import gzip\n",
    "import warnings\n",
    "import pandas as pd\n",
    "import numpy as np\n",
    "import scipy as sp\n",
    "import glob\n",
    "import re\n",
    "import random"
   ]
  },
  {
   "cell_type": "code",
   "execution_count": 7,
   "metadata": {},
   "outputs": [],
   "source": [
    "Dsuite = '/data/gpfs/assoc/denovo/src/Dsuite/Build/./Dsuite'"
   ]
  },
  {
   "cell_type": "code",
   "execution_count": 8,
   "metadata": {},
   "outputs": [],
   "source": [
    "root = '/data/gpfs/assoc/denovo/tfaske/rabbit/full/REDO/phylo'"
   ]
  },
  {
   "cell_type": "code",
   "execution_count": 9,
   "metadata": {},
   "outputs": [
    {
     "name": "stdout",
     "output_type": "stream",
     "text": [
      "/data/gpfs/assoc/denovo/tfaske/rabbit/full/REDO/phylo\n"
     ]
    }
   ],
   "source": [
    "cd $root"
   ]
  },
  {
   "cell_type": "code",
   "execution_count": 10,
   "metadata": {},
   "outputs": [
    {
     "name": "stdout",
     "output_type": "stream",
     "text": [
      "mkdir: cannot create directory ‘Dsuite’: File exists\r\n"
     ]
    }
   ],
   "source": [
    "!mkdir Dsuite"
   ]
  },
  {
   "cell_type": "code",
   "execution_count": 13,
   "metadata": {},
   "outputs": [],
   "source": [
    "D_dir = os.path.join(root,'Dsuite')"
   ]
  },
  {
   "cell_type": "code",
   "execution_count": 14,
   "metadata": {},
   "outputs": [
    {
     "name": "stdout",
     "output_type": "stream",
     "text": [
      "/data/gpfs/assoc/denovo/tfaske/rabbit/full/REDO/phylo/Dsuite\n"
     ]
    }
   ],
   "source": [
    "cd $D_dir"
   ]
  },
  {
   "cell_type": "code",
   "execution_count": 15,
   "metadata": {},
   "outputs": [],
   "source": [
    "!cp ../subset_vcf/ERNA_sub2.recode.vcf.gz . "
   ]
  },
  {
   "cell_type": "code",
   "execution_count": 16,
   "metadata": {},
   "outputs": [],
   "source": [
    "!cp ../subset_vcf/Pop_ID_sub2.csv . "
   ]
  },
  {
   "cell_type": "code",
   "execution_count": 17,
   "metadata": {},
   "outputs": [],
   "source": [
    "!cp ../iqtree/ERNA_sub2.recode.min4.phy.varsites.phy.contree . "
   ]
  },
  {
   "cell_type": "markdown",
   "metadata": {},
   "source": [
    "### Make SETS.txt"
   ]
  },
  {
   "cell_type": "code",
   "execution_count": 23,
   "metadata": {},
   "outputs": [
    {
     "data": {
      "text/html": [
       "<div>\n",
       "<style scoped>\n",
       "    .dataframe tbody tr th:only-of-type {\n",
       "        vertical-align: middle;\n",
       "    }\n",
       "\n",
       "    .dataframe tbody tr th {\n",
       "        vertical-align: top;\n",
       "    }\n",
       "\n",
       "    .dataframe thead th {\n",
       "        text-align: right;\n",
       "    }\n",
       "</style>\n",
       "<table border=\"1\" class=\"dataframe\">\n",
       "  <thead>\n",
       "    <tr style=\"text-align: right;\">\n",
       "      <th></th>\n",
       "      <th>Pop</th>\n",
       "      <th>ID</th>\n",
       "      <th>All</th>\n",
       "      <th>Name</th>\n",
       "      <th>Lat</th>\n",
       "      <th>Long</th>\n",
       "      <th>State</th>\n",
       "      <th>Elevation</th>\n",
       "      <th>Variety</th>\n",
       "      <th>Ssp</th>\n",
       "      <th>Lin</th>\n",
       "      <th>Pop_lin</th>\n",
       "    </tr>\n",
       "  </thead>\n",
       "  <tbody>\n",
       "    <tr>\n",
       "      <th>0</th>\n",
       "      <td>AR</td>\n",
       "      <td>2</td>\n",
       "      <td>EN_AR_2</td>\n",
       "      <td>Arenaria1</td>\n",
       "      <td>37.17384</td>\n",
       "      <td>-112.61817</td>\n",
       "      <td>UT</td>\n",
       "      <td>1870</td>\n",
       "      <td>arenaria</td>\n",
       "      <td>consimilis</td>\n",
       "      <td>green</td>\n",
       "      <td>AR_green</td>\n",
       "    </tr>\n",
       "    <tr>\n",
       "      <th>1</th>\n",
       "      <td>AR</td>\n",
       "      <td>3</td>\n",
       "      <td>EN_AR_3</td>\n",
       "      <td>Arenaria1</td>\n",
       "      <td>37.17384</td>\n",
       "      <td>-112.61817</td>\n",
       "      <td>UT</td>\n",
       "      <td>1870</td>\n",
       "      <td>arenaria</td>\n",
       "      <td>consimilis</td>\n",
       "      <td>green</td>\n",
       "      <td>AR_green</td>\n",
       "    </tr>\n",
       "    <tr>\n",
       "      <th>2</th>\n",
       "      <td>AR</td>\n",
       "      <td>4</td>\n",
       "      <td>EN_AR_4</td>\n",
       "      <td>Arenaria1</td>\n",
       "      <td>37.17384</td>\n",
       "      <td>-112.61817</td>\n",
       "      <td>UT</td>\n",
       "      <td>1870</td>\n",
       "      <td>arenaria</td>\n",
       "      <td>consimilis</td>\n",
       "      <td>green</td>\n",
       "      <td>AR_green</td>\n",
       "    </tr>\n",
       "    <tr>\n",
       "      <th>3</th>\n",
       "      <td>AR</td>\n",
       "      <td>5</td>\n",
       "      <td>EN_AR_5</td>\n",
       "      <td>Arenaria1</td>\n",
       "      <td>37.17384</td>\n",
       "      <td>-112.61817</td>\n",
       "      <td>UT</td>\n",
       "      <td>1870</td>\n",
       "      <td>arenaria</td>\n",
       "      <td>consimilis</td>\n",
       "      <td>green</td>\n",
       "      <td>AR_green</td>\n",
       "    </tr>\n",
       "    <tr>\n",
       "      <th>4</th>\n",
       "      <td>AR</td>\n",
       "      <td>6</td>\n",
       "      <td>EN_AR_6</td>\n",
       "      <td>Arenaria1</td>\n",
       "      <td>37.17384</td>\n",
       "      <td>-112.61817</td>\n",
       "      <td>UT</td>\n",
       "      <td>1870</td>\n",
       "      <td>arenaria</td>\n",
       "      <td>consimilis</td>\n",
       "      <td>green</td>\n",
       "      <td>AR_green</td>\n",
       "    </tr>\n",
       "    <tr>\n",
       "      <th>...</th>\n",
       "      <td>...</td>\n",
       "      <td>...</td>\n",
       "      <td>...</td>\n",
       "      <td>...</td>\n",
       "      <td>...</td>\n",
       "      <td>...</td>\n",
       "      <td>...</td>\n",
       "      <td>...</td>\n",
       "      <td>...</td>\n",
       "      <td>...</td>\n",
       "      <td>...</td>\n",
       "      <td>...</td>\n",
       "    </tr>\n",
       "    <tr>\n",
       "      <th>226</th>\n",
       "      <td>YL</td>\n",
       "      <td>5</td>\n",
       "      <td>EN_YL_5</td>\n",
       "      <td>10-3 yellow</td>\n",
       "      <td>43.53928</td>\n",
       "      <td>-119.43722</td>\n",
       "      <td>OR</td>\n",
       "      <td>1307</td>\n",
       "      <td>speciosa</td>\n",
       "      <td>nauseosa</td>\n",
       "      <td>grey</td>\n",
       "      <td>YL_grey</td>\n",
       "    </tr>\n",
       "    <tr>\n",
       "      <th>227</th>\n",
       "      <td>YL</td>\n",
       "      <td>6</td>\n",
       "      <td>EN_YL_6</td>\n",
       "      <td>10-3 yellow</td>\n",
       "      <td>43.53928</td>\n",
       "      <td>-119.43722</td>\n",
       "      <td>OR</td>\n",
       "      <td>1307</td>\n",
       "      <td>speciosa</td>\n",
       "      <td>nauseosa</td>\n",
       "      <td>grey</td>\n",
       "      <td>YL_grey</td>\n",
       "    </tr>\n",
       "    <tr>\n",
       "      <th>228</th>\n",
       "      <td>ED</td>\n",
       "      <td>1</td>\n",
       "      <td>EN_ED_1</td>\n",
       "      <td>E.discoidea</td>\n",
       "      <td>45.64621</td>\n",
       "      <td>-111.52273</td>\n",
       "      <td>NV</td>\n",
       "      <td>1334</td>\n",
       "      <td>E.discoidea</td>\n",
       "      <td>E.discoidea</td>\n",
       "      <td>outgroup</td>\n",
       "      <td>ED_outgroup</td>\n",
       "    </tr>\n",
       "    <tr>\n",
       "      <th>229</th>\n",
       "      <td>ED</td>\n",
       "      <td>2</td>\n",
       "      <td>EN_ED_2</td>\n",
       "      <td>E.discoidea</td>\n",
       "      <td>45.64621</td>\n",
       "      <td>-111.52273</td>\n",
       "      <td>NV</td>\n",
       "      <td>1334</td>\n",
       "      <td>E.discoidea</td>\n",
       "      <td>E.discoidea</td>\n",
       "      <td>outgroup</td>\n",
       "      <td>ED_outgroup</td>\n",
       "    </tr>\n",
       "    <tr>\n",
       "      <th>230</th>\n",
       "      <td>ED</td>\n",
       "      <td>3</td>\n",
       "      <td>EN_ED_3</td>\n",
       "      <td>E.discoidea</td>\n",
       "      <td>45.64621</td>\n",
       "      <td>-111.52273</td>\n",
       "      <td>NV</td>\n",
       "      <td>1334</td>\n",
       "      <td>E.discoidea</td>\n",
       "      <td>E.discoidea</td>\n",
       "      <td>outgroup</td>\n",
       "      <td>ED_outgroup</td>\n",
       "    </tr>\n",
       "  </tbody>\n",
       "</table>\n",
       "<p>231 rows × 12 columns</p>\n",
       "</div>"
      ],
      "text/plain": [
       "    Pop  ID      All         Name       Lat       Long State  Elevation  \\\n",
       "0    AR   2  EN_AR_2    Arenaria1  37.17384 -112.61817    UT       1870   \n",
       "1    AR   3  EN_AR_3    Arenaria1  37.17384 -112.61817    UT       1870   \n",
       "2    AR   4  EN_AR_4    Arenaria1  37.17384 -112.61817    UT       1870   \n",
       "3    AR   5  EN_AR_5    Arenaria1  37.17384 -112.61817    UT       1870   \n",
       "4    AR   6  EN_AR_6    Arenaria1  37.17384 -112.61817    UT       1870   \n",
       "..   ..  ..      ...          ...       ...        ...   ...        ...   \n",
       "226  YL   5  EN_YL_5  10-3 yellow  43.53928 -119.43722    OR       1307   \n",
       "227  YL   6  EN_YL_6  10-3 yellow  43.53928 -119.43722    OR       1307   \n",
       "228  ED   1  EN_ED_1  E.discoidea  45.64621 -111.52273    NV       1334   \n",
       "229  ED   2  EN_ED_2  E.discoidea  45.64621 -111.52273    NV       1334   \n",
       "230  ED   3  EN_ED_3  E.discoidea  45.64621 -111.52273    NV       1334   \n",
       "\n",
       "         Variety          Ssp       Lin      Pop_lin  \n",
       "0       arenaria   consimilis     green     AR_green  \n",
       "1       arenaria   consimilis     green     AR_green  \n",
       "2       arenaria   consimilis     green     AR_green  \n",
       "3       arenaria   consimilis     green     AR_green  \n",
       "4       arenaria   consimilis     green     AR_green  \n",
       "..           ...          ...       ...          ...  \n",
       "226     speciosa     nauseosa      grey      YL_grey  \n",
       "227     speciosa     nauseosa      grey      YL_grey  \n",
       "228  E.discoidea  E.discoidea  outgroup  ED_outgroup  \n",
       "229  E.discoidea  E.discoidea  outgroup  ED_outgroup  \n",
       "230  E.discoidea  E.discoidea  outgroup  ED_outgroup  \n",
       "\n",
       "[231 rows x 12 columns]"
      ]
     },
     "execution_count": 23,
     "metadata": {},
     "output_type": "execute_result"
    }
   ],
   "source": [
    "Pop_ID_sub2 = pd.read_csv('Pop_ID_sub2.csv')\n",
    "Pop_ID_sub2['Pop_lin'] = Pop_ID_sub2['Pop'] + '_' + Pop_ID_sub2['Lin']\n",
    "Pop_ID_sub2"
   ]
  },
  {
   "cell_type": "code",
   "execution_count": 43,
   "metadata": {
    "scrolled": true
   },
   "outputs": [],
   "source": [
    "sets_sub2 = pd.DataFrame(data={'indv': Pop_ID_sub2['All'],\n",
    "                               'pop': Pop_ID_sub2['All']})"
   ]
  },
  {
   "cell_type": "code",
   "execution_count": 45,
   "metadata": {},
   "outputs": [],
   "source": [
    "sets_sub2['pop'][sets_sub2['pop'].isin(['EN_ED_1','EN_ED_2','EN_ED_3'])] = 'Outgroup'"
   ]
  },
  {
   "cell_type": "code",
   "execution_count": 46,
   "metadata": {},
   "outputs": [],
   "source": [
    "sets_sub2.to_csv('sets_sub2.txt',header=None,index=False,sep='\\t')"
   ]
  },
  {
   "cell_type": "code",
   "execution_count": 48,
   "metadata": {},
   "outputs": [
    {
     "name": "stdout",
     "output_type": "stream",
     "text": [
      "EN_UT_4\tEN_UT_4\r\n",
      "EN_UT_5\tEN_UT_5\r\n",
      "EN_YL_1\tEN_YL_1\r\n",
      "EN_YL_3\tEN_YL_3\r\n",
      "EN_YL_4\tEN_YL_4\r\n",
      "EN_YL_5\tEN_YL_5\r\n",
      "EN_YL_6\tEN_YL_6\r\n",
      "EN_ED_1\tOutgroup\r\n",
      "EN_ED_2\tOutgroup\r\n",
      "EN_ED_3\tOutgroup\r\n"
     ]
    }
   ],
   "source": [
    "!tail sets_sub2.txt"
   ]
  },
  {
   "cell_type": "markdown",
   "metadata": {},
   "source": [
    "### Convert tree from iqtree to correct Newick format \n",
    "\n",
    "remove nodelabels / bootstraps "
   ]
  },
  {
   "cell_type": "code",
   "execution_count": 38,
   "metadata": {},
   "outputs": [],
   "source": [
    "%load_ext rpy2.ipython"
   ]
  },
  {
   "cell_type": "code",
   "execution_count": 91,
   "metadata": {},
   "outputs": [],
   "source": [
    "%%R\n",
    "setwd('/data/gpfs/assoc/denovo/tfaske/rabbit/full/REDO/phylo/Dsuite')\n",
    "library(ape)\n",
    "\n",
    "\n",
    "tree <- read.tree(\"ERNA_sub2.recode.min4.phy.varsites.phy.contree\")\n",
    "tree <- root(tree,outgroup = c('EN_ED_1','EN_ED_2','EN_ED_3'), resolve.root = TRUE)\n",
    "tree$node.label <- NULL\n",
    "tree$edge.length <- NULL\n",
    "write.tree(tree, file = \"ERNA_sub2.nwk.tree\")"
   ]
  },
  {
   "cell_type": "markdown",
   "metadata": {},
   "source": [
    "## Run Dtrios\n",
    "./Dsuite Dtrios erna_sub.vcf SETS.txt -t tree_sub_all.tree"
   ]
  },
  {
   "cell_type": "code",
   "execution_count": 32,
   "metadata": {},
   "outputs": [
    {
     "name": "stdout",
     "output_type": "stream",
     "text": [
      "/data/gpfs/assoc/denovo/tfaske/rabbit/full/REDO/phylo/Dsuite\n"
     ]
    }
   ],
   "source": [
    "cd $D_dir"
   ]
  },
  {
   "cell_type": "markdown",
   "metadata": {},
   "source": [
    "#### NOTE: ran once but invariant sites. rerun with new .phy file"
   ]
  },
  {
   "cell_type": "code",
   "execution_count": 49,
   "metadata": {},
   "outputs": [],
   "source": [
    "### select options for slurm submission\n",
    "account = 'cpu-s5-denovo-0'\n",
    "partition = 'cpu-core-0'\n",
    "jobname = 'Dtrios'\n",
    "time = '8-00:00:00' #time limit 1 day\n",
    "cpus = 16\n",
    "mem_cpu = 9000\n",
    "email = 'tfaske@nevada.unr.edu'\n",
    "\n",
    "### for Dtrios\n",
    "Dsuite = '/data/gpfs/assoc/denovo/src/Dsuite/Build/./Dsuite'\n",
    "vcf_file = os.path.join(D_dir,'ERNA_sub2.recode.vcf.gz')\n",
    "sets_file = os.path.join(D_dir,'sets_sub2.txt')\n",
    "tree_file = os.path.join(D_dir,'ERNA_sub2.nwk.tree')"
   ]
  },
  {
   "cell_type": "code",
   "execution_count": 50,
   "metadata": {},
   "outputs": [],
   "source": [
    "def write_Dtrios_sh(account,partition,time,cpus,mem_cpu,email,D_dir,Dsuite,vcf_file,sets_file,tree_file):\n",
    "    with open(\"run_Dtrios_sub2.sh\", \"w\") as o:\n",
    "        o.write(\"\"\"#!/usr/bin/env bash\n",
    "#SBATCH --account=%s\n",
    "#SBATCH --partition=%s\n",
    "#SBATCH --time=%s\n",
    "#SBATCH --ntasks 1\n",
    "#SBATCH --cpus-per-task %d\n",
    "#SBATCH --mem-per-cpu=%d\n",
    "#SBATCH --job-name Dtrios_sub2\n",
    "#SBATCH --output output_Dtrios_sub2.txt\n",
    "#SBATCH --mail-type=END\n",
    "#SBATCH --mail-user=%s\n",
    "\n",
    "cd %s\n",
    "    \n",
    "%s Dtrios %s %s -t %s \\n\\n\"\"\" % (account,partition,time,int(cpus),int(mem_cpu),email,\n",
    "                                 D_dir,Dsuite,vcf_file,sets_file,tree_file))\n",
    "        "
   ]
  },
  {
   "cell_type": "code",
   "execution_count": 51,
   "metadata": {},
   "outputs": [],
   "source": [
    "write_Dtrios_sh(account,partition,time,cpus,mem_cpu,email,D_dir,Dsuite,vcf_file,sets_file,tree_file)"
   ]
  },
  {
   "cell_type": "markdown",
   "metadata": {},
   "source": [
    "### Run Dtrios.sh\n",
    "    cd /data/gpfs/home/tfaske/d/rabbit/full/phylo/Dsuite\n",
    "    source activate py311\n",
    "    module load gcc/9.2.0\n",
    "    sbatch run_iqtree.sh"
   ]
  },
  {
   "cell_type": "markdown",
   "metadata": {},
   "source": [
    "# Run Fbranch (do not need slurm)\n",
    "./Dsuite Fbranch -Z --Pb-matrix tree_sub_all.tree SETS_tree.txt > fbranch_collapsed_p.txt"
   ]
  },
  {
   "cell_type": "code",
   "execution_count": 32,
   "metadata": {},
   "outputs": [
    {
     "name": "stdout",
     "output_type": "stream",
     "text": [
      "/data/gpfs/assoc/denovo/tfaske/rabbit/full/REDO/phylo/Dsuite\n"
     ]
    }
   ],
   "source": [
    "cd $D_dir"
   ]
  },
  {
   "cell_type": "code",
   "execution_count": 98,
   "metadata": {},
   "outputs": [],
   "source": [
    "### for Dtrios\n",
    "Dsuite = '/data/gpfs/assoc/denovo/src/Dsuite/Build/./Dsuite'\n",
    "sets_tree_file = os.path.join(D_dir,'sets_sub2_tree.txt')\n",
    "tree_file = os.path.join(D_dir,'ERNA_sub2.nwk.tree')\n",
    "out_file = os.path.join(D_dir,'fbranch_sub2.txt')\n",
    "\n",
    "### command \n",
    "fb_cmd = '%s Fbranch --Zb-matrix --Pb-matrix %s %s > %s' % (Dsuite,tree_file,sets_tree_file,out_file)"
   ]
  },
  {
   "cell_type": "code",
   "execution_count": 99,
   "metadata": {},
   "outputs": [
    {
     "data": {
      "text/plain": [
       "'/data/gpfs/assoc/denovo/src/Dsuite/Build/./Dsuite Fbranch --Zb-matrix --Pb-matrix /data/gpfs/assoc/denovo/tfaske/rabbit/full/REDO/phylo/Dsuite/ERNA_sub2.nwk.tree /data/gpfs/assoc/denovo/tfaske/rabbit/full/REDO/phylo/Dsuite/sets_sub2_tree.txt > /data/gpfs/assoc/denovo/tfaske/rabbit/full/REDO/phylo/Dsuite/fbranch_sub2.txt'"
      ]
     },
     "execution_count": 99,
     "metadata": {},
     "output_type": "execute_result"
    }
   ],
   "source": [
    "fb_cmd"
   ]
  },
  {
   "cell_type": "markdown",
   "metadata": {},
   "source": [
    "#### whatever, run in command line"
   ]
  },
  {
   "cell_type": "markdown",
   "metadata": {},
   "source": [
    "# Run Dsuite on onetip! "
   ]
  },
  {
   "cell_type": "code",
   "execution_count": 52,
   "metadata": {},
   "outputs": [
    {
     "name": "stdout",
     "output_type": "stream",
     "text": [
      "/data/gpfs/assoc/denovo/tfaske/rabbit/full/REDO/phylo/Dsuite\n"
     ]
    }
   ],
   "source": [
    "cd $D_dir"
   ]
  },
  {
   "cell_type": "code",
   "execution_count": 53,
   "metadata": {},
   "outputs": [],
   "source": [
    "!cp ../subset_vcf/ERNA_onetip.recode.vcf.gz . "
   ]
  },
  {
   "cell_type": "code",
   "execution_count": 54,
   "metadata": {},
   "outputs": [],
   "source": [
    "!cp ../subset_vcf/Pop_ID_onetip.csv . "
   ]
  },
  {
   "cell_type": "code",
   "execution_count": 55,
   "metadata": {},
   "outputs": [],
   "source": [
    "!cp ../iqtree/ERNA_onetip.recode.min4.phy.varsites.phy.contree . "
   ]
  },
  {
   "cell_type": "markdown",
   "metadata": {},
   "source": [
    "### Make SETS.txt"
   ]
  },
  {
   "cell_type": "code",
   "execution_count": 57,
   "metadata": {},
   "outputs": [
    {
     "data": {
      "text/html": [
       "<div>\n",
       "<style scoped>\n",
       "    .dataframe tbody tr th:only-of-type {\n",
       "        vertical-align: middle;\n",
       "    }\n",
       "\n",
       "    .dataframe tbody tr th {\n",
       "        vertical-align: top;\n",
       "    }\n",
       "\n",
       "    .dataframe thead th {\n",
       "        text-align: right;\n",
       "    }\n",
       "</style>\n",
       "<table border=\"1\" class=\"dataframe\">\n",
       "  <thead>\n",
       "    <tr style=\"text-align: right;\">\n",
       "      <th></th>\n",
       "      <th>Pop</th>\n",
       "      <th>ID</th>\n",
       "      <th>All</th>\n",
       "      <th>Name</th>\n",
       "      <th>Lat</th>\n",
       "      <th>Long</th>\n",
       "      <th>State</th>\n",
       "      <th>Elevation</th>\n",
       "      <th>Variety</th>\n",
       "      <th>Ssp</th>\n",
       "      <th>Lin</th>\n",
       "      <th>Pop_lin</th>\n",
       "    </tr>\n",
       "  </thead>\n",
       "  <tbody>\n",
       "    <tr>\n",
       "      <th>0</th>\n",
       "      <td>AR</td>\n",
       "      <td>4</td>\n",
       "      <td>EN_AR_4</td>\n",
       "      <td>Arenaria1</td>\n",
       "      <td>37.173840</td>\n",
       "      <td>-112.618170</td>\n",
       "      <td>UT</td>\n",
       "      <td>1870</td>\n",
       "      <td>arenaria</td>\n",
       "      <td>consimilis</td>\n",
       "      <td>green</td>\n",
       "      <td>AR_green</td>\n",
       "    </tr>\n",
       "    <tr>\n",
       "      <th>1</th>\n",
       "      <td>AS</td>\n",
       "      <td>29</td>\n",
       "      <td>EN_AS_29</td>\n",
       "      <td>Austin Summit</td>\n",
       "      <td>39.473104</td>\n",
       "      <td>-117.049449</td>\n",
       "      <td>NV</td>\n",
       "      <td>2408</td>\n",
       "      <td>hololueca</td>\n",
       "      <td>nauseosa</td>\n",
       "      <td>grey</td>\n",
       "      <td>AS_grey</td>\n",
       "    </tr>\n",
       "    <tr>\n",
       "      <th>2</th>\n",
       "      <td>BC</td>\n",
       "      <td>10</td>\n",
       "      <td>EN_BC_10</td>\n",
       "      <td>beaver canyon</td>\n",
       "      <td>38.279820</td>\n",
       "      <td>-112.568070</td>\n",
       "      <td>UT</td>\n",
       "      <td>1887</td>\n",
       "      <td>salicifolia</td>\n",
       "      <td>nauseosa</td>\n",
       "      <td>green</td>\n",
       "      <td>BC_green</td>\n",
       "    </tr>\n",
       "    <tr>\n",
       "      <th>3</th>\n",
       "      <td>BC</td>\n",
       "      <td>5</td>\n",
       "      <td>EN_BC_5</td>\n",
       "      <td>beaver canyon</td>\n",
       "      <td>38.279820</td>\n",
       "      <td>-112.568070</td>\n",
       "      <td>UT</td>\n",
       "      <td>1887</td>\n",
       "      <td>salicifolia</td>\n",
       "      <td>nauseosa</td>\n",
       "      <td>hybrid</td>\n",
       "      <td>BC_hybrid</td>\n",
       "    </tr>\n",
       "    <tr>\n",
       "      <th>4</th>\n",
       "      <td>BH</td>\n",
       "      <td>5</td>\n",
       "      <td>EN_BH_5</td>\n",
       "      <td>Baker Hwy</td>\n",
       "      <td>45.089070</td>\n",
       "      <td>-117.848370</td>\n",
       "      <td>OR</td>\n",
       "      <td>1007</td>\n",
       "      <td>oreophila</td>\n",
       "      <td>consimilis</td>\n",
       "      <td>green</td>\n",
       "      <td>BH_green</td>\n",
       "    </tr>\n",
       "  </tbody>\n",
       "</table>\n",
       "</div>"
      ],
      "text/plain": [
       "  Pop  ID       All           Name        Lat        Long State  Elevation  \\\n",
       "0  AR   4   EN_AR_4      Arenaria1  37.173840 -112.618170    UT       1870   \n",
       "1  AS  29  EN_AS_29  Austin Summit  39.473104 -117.049449    NV       2408   \n",
       "2  BC  10  EN_BC_10  beaver canyon  38.279820 -112.568070    UT       1887   \n",
       "3  BC   5   EN_BC_5  beaver canyon  38.279820 -112.568070    UT       1887   \n",
       "4  BH   5   EN_BH_5      Baker Hwy  45.089070 -117.848370    OR       1007   \n",
       "\n",
       "       Variety         Ssp     Lin    Pop_lin  \n",
       "0     arenaria  consimilis   green   AR_green  \n",
       "1    hololueca    nauseosa    grey    AS_grey  \n",
       "2  salicifolia    nauseosa   green   BC_green  \n",
       "3  salicifolia    nauseosa  hybrid  BC_hybrid  \n",
       "4    oreophila  consimilis   green   BH_green  "
      ]
     },
     "execution_count": 57,
     "metadata": {},
     "output_type": "execute_result"
    }
   ],
   "source": [
    "Pop_ID_onetip = pd.read_csv('Pop_ID_onetip.csv')\n",
    "Pop_ID_onetip.head()"
   ]
  },
  {
   "cell_type": "code",
   "execution_count": 59,
   "metadata": {
    "scrolled": true
   },
   "outputs": [],
   "source": [
    "sets_onetip = pd.DataFrame(data={'indv': Pop_ID_onetip['All'],\n",
    "                                 'pop': Pop_ID_onetip['All']})"
   ]
  },
  {
   "cell_type": "code",
   "execution_count": 60,
   "metadata": {},
   "outputs": [],
   "source": [
    "sets_onetip['pop'][sets_onetip['pop']=='EN_ED_1'] = 'Outgroup'"
   ]
  },
  {
   "cell_type": "code",
   "execution_count": 61,
   "metadata": {},
   "outputs": [],
   "source": [
    "sets_onetip.to_csv('sets_onetip.txt',header=None,index=False,sep='\\t')"
   ]
  },
  {
   "cell_type": "code",
   "execution_count": 62,
   "metadata": {},
   "outputs": [
    {
     "name": "stdout",
     "output_type": "stream",
     "text": [
      "EN_PW_2\tEN_PW_2\r\n",
      "EN_RH_5\tEN_RH_5\r\n",
      "EN_RS_2\tEN_RS_2\r\n",
      "EN_ST_9\tEN_ST_9\r\n",
      "EN_SS_2\tEN_SS_2\r\n",
      "EN_SS_14\tEN_SS_14\r\n",
      "EN_TO_5\tEN_TO_5\r\n",
      "EN_UT_3\tEN_UT_3\r\n",
      "EN_YL_4\tEN_YL_4\r\n",
      "EN_ED_1\tOutgroup\r\n"
     ]
    }
   ],
   "source": [
    "!tail sets_onetip.txt"
   ]
  },
  {
   "cell_type": "markdown",
   "metadata": {},
   "source": [
    "### Convert tree from iqtree to correct Newick format \n",
    "\n",
    "remove nodelabels / bootstraps and edge lengths and ROOT"
   ]
  },
  {
   "cell_type": "code",
   "execution_count": 63,
   "metadata": {},
   "outputs": [
    {
     "name": "stdout",
     "output_type": "stream",
     "text": [
      "The rpy2.ipython extension is already loaded. To reload it, use:\n",
      "  %reload_ext rpy2.ipython\n"
     ]
    }
   ],
   "source": [
    "%load_ext rpy2.ipython"
   ]
  },
  {
   "cell_type": "code",
   "execution_count": 130,
   "metadata": {},
   "outputs": [],
   "source": [
    "%%R\n",
    "setwd('/data/gpfs/assoc/denovo/tfaske/rabbit/full/REDO/phylo/Dsuite')\n",
    "library(ape)\n",
    "\n",
    "\n",
    "tree <- read.tree(\"ERNA_onetip.recode.min4.phy.varsites.phy.contree\")\n",
    "tree <- root(tree,outgroup = c('EN_ED_1'), resolve.root = TRUE)\n",
    "tree$node.label <- NULL\n",
    "tree$edge.length <- NULL\n",
    "#str(tree)\n",
    "write.tree(tree, file = \"ERNA_onetip.nwk.tree\")"
   ]
  },
  {
   "cell_type": "markdown",
   "metadata": {},
   "source": [
    "## Run Dtrios\n",
    "./Dsuite Dtrios erna_sub.vcf SETS.txt -t tree_sub_all.tree"
   ]
  },
  {
   "cell_type": "code",
   "execution_count": 65,
   "metadata": {},
   "outputs": [
    {
     "name": "stdout",
     "output_type": "stream",
     "text": [
      "/data/gpfs/assoc/denovo/tfaske/rabbit/full/REDO/phylo/Dsuite\n"
     ]
    }
   ],
   "source": [
    "cd $D_dir"
   ]
  },
  {
   "cell_type": "markdown",
   "metadata": {},
   "source": [
    "#### NOTE: ran once but invariant sites. rerun with new .phy file"
   ]
  },
  {
   "cell_type": "code",
   "execution_count": 66,
   "metadata": {},
   "outputs": [],
   "source": [
    "### select options for slurm submission\n",
    "account = 'cpu-s5-denovo-0'\n",
    "partition = 'cpu-core-0'\n",
    "jobname = 'Dtrios'\n",
    "time = '8-00:00:00' #time limit 1 day\n",
    "cpus = 16\n",
    "mem_cpu = 9000\n",
    "email = 'tfaske@nevada.unr.edu'\n",
    "\n",
    "### for Dtrios\n",
    "Dsuite = '/data/gpfs/assoc/denovo/src/Dsuite/Build/./Dsuite'\n",
    "vcf_file = os.path.join(D_dir,'ERNA_onetip.recode.vcf.gz')\n",
    "sets_file = os.path.join(D_dir,'sets_onetip.txt')\n",
    "tree_file = os.path.join(D_dir,'ERNA_onetip.nwk.tree')"
   ]
  },
  {
   "cell_type": "code",
   "execution_count": 67,
   "metadata": {},
   "outputs": [],
   "source": [
    "def write_Dtrios_sh(account,partition,time,cpus,mem_cpu,email,D_dir,Dsuite,vcf_file,sets_file,tree_file):\n",
    "    with open(\"run_Dtrios_onetip.sh\", \"w\") as o:\n",
    "        o.write(\"\"\"#!/usr/bin/env bash\n",
    "#SBATCH --account=%s\n",
    "#SBATCH --partition=%s\n",
    "#SBATCH --time=%s\n",
    "#SBATCH --ntasks 1\n",
    "#SBATCH --cpus-per-task %d\n",
    "#SBATCH --mem-per-cpu=%d\n",
    "#SBATCH --job-name Dtrios_onetip\n",
    "#SBATCH --output output_Dtrios_onetip.txt\n",
    "#SBATCH --mail-type=END\n",
    "#SBATCH --mail-user=%s\n",
    "\n",
    "cd %s\n",
    "    \n",
    "%s Dtrios %s %s -t %s \\n\\n\"\"\" % (account,partition,time,int(cpus),int(mem_cpu),email,\n",
    "                                 D_dir,Dsuite,vcf_file,sets_file,tree_file))\n",
    "        "
   ]
  },
  {
   "cell_type": "code",
   "execution_count": 68,
   "metadata": {},
   "outputs": [],
   "source": [
    "write_Dtrios_sh(account,partition,time,cpus,mem_cpu,email,D_dir,Dsuite,vcf_file,sets_file,tree_file)"
   ]
  },
  {
   "cell_type": "markdown",
   "metadata": {},
   "source": [
    "### Run Dtrios.sh\n",
    "    cd /data/gpfs/home/tfaske/d/rabbit/full/phylo/Dsuite\n",
    "    source activate py311\n",
    "    module load gcc/9.2.0\n",
    "    sbatch run_iqtree.sh"
   ]
  },
  {
   "cell_type": "markdown",
   "metadata": {},
   "source": [
    "# Run Fbranch (do not need slurm)\n",
    "./Dsuite Fbranch -Z --Pb-matrix tree_sub_all.tree SETS_tree.txt > fbranch_collapsed_p.txt\n",
    "\n",
    "#### Note, sets_tree from Dsuite"
   ]
  },
  {
   "cell_type": "code",
   "execution_count": 101,
   "metadata": {},
   "outputs": [
    {
     "name": "stdout",
     "output_type": "stream",
     "text": [
      "/data/gpfs/assoc/denovo/tfaske/rabbit/full/REDO/phylo/Dsuite\n"
     ]
    }
   ],
   "source": [
    "cd $D_dir"
   ]
  },
  {
   "cell_type": "code",
   "execution_count": 109,
   "metadata": {},
   "outputs": [],
   "source": [
    "### for Fbranch \n",
    "Dsuite = '/data/gpfs/assoc/denovo/src/Dsuite/Build/./Dsuite'\n",
    "sets_tree_file = os.path.join(D_dir,'sets_onetip_tree.txt')\n",
    "tree_file = os.path.join(D_dir,'ERNA_onetip.nwk.tree')\n",
    "out_p_file = 'p_onetip.txt'\n",
    "out_z_file = 'z_onetip.txt'\n",
    "\n",
    "### command \n",
    "fb_p_cmd = '%s Fbranch --Pb-matrix %s %s > fbranch_%s' % (Dsuite,tree_file,sets_tree_file,out_p_file)\n",
    "fb_z_cmd = '%s Fbranch --Zb-matrix %s %s > fbranch_%s' % (Dsuite,tree_file,sets_tree_file,out_z_file)"
   ]
  },
  {
   "cell_type": "code",
   "execution_count": 110,
   "metadata": {},
   "outputs": [
    {
     "data": {
      "text/plain": [
       "'/data/gpfs/assoc/denovo/src/Dsuite/Build/./Dsuite Fbranch --Pb-matrix /data/gpfs/assoc/denovo/tfaske/rabbit/full/REDO/phylo/Dsuite/ERNA_onetip.nwk.tree /data/gpfs/assoc/denovo/tfaske/rabbit/full/REDO/phylo/Dsuite/sets_onetip_tree.txt > fbranch_p_onetip.txt'"
      ]
     },
     "execution_count": 110,
     "metadata": {},
     "output_type": "execute_result"
    }
   ],
   "source": [
    "fb_p_cmd"
   ]
  },
  {
   "cell_type": "code",
   "execution_count": 111,
   "metadata": {},
   "outputs": [
    {
     "data": {
      "text/plain": [
       "'/data/gpfs/assoc/denovo/src/Dsuite/Build/./Dsuite Fbranch --Zb-matrix /data/gpfs/assoc/denovo/tfaske/rabbit/full/REDO/phylo/Dsuite/ERNA_onetip.nwk.tree /data/gpfs/assoc/denovo/tfaske/rabbit/full/REDO/phylo/Dsuite/sets_onetip_tree.txt > fbranch_z_onetip.txt'"
      ]
     },
     "execution_count": 111,
     "metadata": {},
     "output_type": "execute_result"
    }
   ],
   "source": [
    "fb_z_cmd"
   ]
  },
  {
   "cell_type": "markdown",
   "metadata": {},
   "source": [
    "#### whatever, run in command line"
   ]
  },
  {
   "cell_type": "markdown",
   "metadata": {},
   "source": [
    "#### Select just z for plotting, only keep those above 0.05 or 5%"
   ]
  },
  {
   "cell_type": "code",
   "execution_count": 115,
   "metadata": {},
   "outputs": [
    {
     "name": "stdout",
     "output_type": "stream",
     "text": [
      "/data/gpfs/assoc/denovo/tfaske/rabbit/full/REDO/phylo/Dsuite\n"
     ]
    }
   ],
   "source": [
    "cd $D_dir"
   ]
  },
  {
   "cell_type": "code",
   "execution_count": 118,
   "metadata": {},
   "outputs": [],
   "source": [
    "!head -n 91 fbranch_z_onetip.txt > fbranch_plotting_onetip.txt"
   ]
  },
  {
   "cell_type": "code",
   "execution_count": 122,
   "metadata": {},
   "outputs": [],
   "source": [
    "%%R\n",
    "zscores <- read.csv(\"fbranch_plotting_onetip.txt\", sep = \"\\t\")\n",
    "#head(zscores)\n",
    "zscores[zscores < 0.05] <- 0\n",
    "write.table(zscores, \"fbranch_onetip_5.txt\", sep='\\t',row.names=F, quote=F)"
   ]
  },
  {
   "cell_type": "markdown",
   "metadata": {},
   "source": [
    "## Run dtools to get figure\n",
    "./dtools.py f_5_percent_plotting_trimmed.txt tree_sub_trimmed.tree --outgroup EN_ED --ladderize"
   ]
  },
  {
   "cell_type": "code",
   "execution_count": 123,
   "metadata": {},
   "outputs": [
    {
     "name": "stdout",
     "output_type": "stream",
     "text": [
      "/data/gpfs/assoc/denovo/tfaske/rabbit/full/REDO/phylo/Dsuite\n"
     ]
    }
   ],
   "source": [
    "cd $D_dir"
   ]
  },
  {
   "cell_type": "code",
   "execution_count": 128,
   "metadata": {},
   "outputs": [],
   "source": [
    "dtools = '/data/gpfs/home/tfaske/ad/src/Dsuite/utils/./dtools.py'\n",
    "z_5_file = os.path.join(D_dir,'fbranch_onetip_5.txt')\n",
    "tree_file = os.path.join(D_dir,'ERNA_onetip.nwk.tree')\n",
    "outgroup = 'EN_ED_1'\n",
    "out_plot = 'fb_onetip_plot'\n",
    "\n",
    "### command \n",
    "dtools_cmd = 'python3 %s  %s %s --outgroup %s --ladderize -n %s' % (dtools,z_5_file,tree_file,outgroup,out_plot)"
   ]
  },
  {
   "cell_type": "code",
   "execution_count": 129,
   "metadata": {},
   "outputs": [
    {
     "data": {
      "text/plain": [
       "'python3 /data/gpfs/home/tfaske/ad/src/Dsuite/utils/./dtools.py  /data/gpfs/assoc/denovo/tfaske/rabbit/full/REDO/phylo/Dsuite/fbranch_onetip_5.txt /data/gpfs/assoc/denovo/tfaske/rabbit/full/REDO/phylo/Dsuite/ERNA_onetip.nwk.tree --outgroup EN_ED_1 --ladderize -n fb_onetip_plot'"
      ]
     },
     "execution_count": 129,
     "metadata": {},
     "output_type": "execute_result"
    }
   ],
   "source": [
    "dtools_cmd"
   ]
  },
  {
   "cell_type": "markdown",
   "metadata": {},
   "source": [
    "### DOES NOT WORK WITH PY311, ust run with py3.6\n",
    "#### whatever run in command line"
   ]
  },
  {
   "cell_type": "code",
   "execution_count": null,
   "metadata": {},
   "outputs": [],
   "source": [
    "/data/gpfs/home/tfaske/ad/src/Dsuite/utils/./dtools.py  /data/gpfs/assoc/denovo/tfaske/rabbit/full/REDO/phylo/Dsuite/fbranch_onetip_5.txt /data/gpfs/assoc/denovo/tfaske/rabbit/full/REDO/phylo/Dsuite/ERNA_onetip.nwk.tree --outgroup EN_ED_1 --ladderize -n fb_onetip_plot"
   ]
  }
 ],
 "metadata": {
  "kernelspec": {
   "display_name": "Python 3 (ipykernel)",
   "language": "python",
   "name": "python3"
  },
  "language_info": {
   "codemirror_mode": {
    "name": "ipython",
    "version": 3
   },
   "file_extension": ".py",
   "mimetype": "text/x-python",
   "name": "python",
   "nbconvert_exporter": "python",
   "pygments_lexer": "ipython3",
   "version": "3.11.0"
  }
 },
 "nbformat": 4,
 "nbformat_minor": 4
}
