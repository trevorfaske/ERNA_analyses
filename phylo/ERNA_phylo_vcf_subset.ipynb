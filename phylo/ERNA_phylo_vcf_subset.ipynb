{
 "cells": [
  {
   "cell_type": "markdown",
   "metadata": {},
   "source": [
    "# Subset vcf file with outgroup for phylo   \n",
    "\n",
    "### move over ERNA_final and pca_df from local and SUBSET \n",
    "\n",
    "#### Make 2 vcfs, one with everyone known. Another with everyone known minus hybrids\n",
    "\n",
    "\n",
    "use preferred conda env  \n",
    "**Packages needed**: vcftools, bgzip, tabix"
   ]
  },
  {
   "cell_type": "code",
   "execution_count": 1,
   "metadata": {},
   "outputs": [],
   "source": [
    "import sys\n",
    "import ipyparallel as ipp\n",
    "import os\n",
    "from os import environ\n",
    "import gzip\n",
    "import warnings\n",
    "import pandas as pd\n",
    "import numpy as np\n",
    "import scipy as sp\n",
    "import glob\n",
    "import re\n",
    "import random"
   ]
  },
  {
   "cell_type": "code",
   "execution_count": 2,
   "metadata": {},
   "outputs": [],
   "source": [
    "vcftools = \"vcftools\"\n",
    "bcftools = \"bcftools\"\n",
    "bgzip = \"bgzip\"\n",
    "tabix = \"tabix\""
   ]
  },
  {
   "cell_type": "code",
   "execution_count": 3,
   "metadata": {},
   "outputs": [],
   "source": [
    "root = '/data/gpfs/assoc/denovo/tfaske/rabbit/full/REDO/phylo'"
   ]
  },
  {
   "cell_type": "code",
   "execution_count": 4,
   "metadata": {},
   "outputs": [
    {
     "name": "stdout",
     "output_type": "stream",
     "text": [
      "/data/gpfs/assoc/denovo/tfaske/rabbit/full/REDO/phylo\n"
     ]
    }
   ],
   "source": [
    "cd $root"
   ]
  },
  {
   "cell_type": "code",
   "execution_count": 5,
   "metadata": {},
   "outputs": [],
   "source": [
    "analysis_dir = os.path.join(root,'subset_vcf')"
   ]
  },
  {
   "cell_type": "code",
   "execution_count": 6,
   "metadata": {},
   "outputs": [
    {
     "name": "stdout",
     "output_type": "stream",
     "text": [
      "/data/gpfs/assoc/denovo/tfaske/rabbit/full/REDO/phylo/subset_vcf\n"
     ]
    }
   ],
   "source": [
    "cd $analysis_dir"
   ]
  },
  {
   "cell_type": "code",
   "execution_count": 7,
   "metadata": {},
   "outputs": [],
   "source": [
    "!cp ../filtering/good_snps.recode.vcf.gz . "
   ]
  },
  {
   "cell_type": "code",
   "execution_count": 8,
   "metadata": {
    "scrolled": true
   },
   "outputs": [
    {
     "data": {
      "text/plain": [
       "'/data/gpfs/assoc/denovo/tfaske/rabbit/full/REDO/phylo/subset_vcf/good_snps.recode.vcf.gz'"
      ]
     },
     "execution_count": 8,
     "metadata": {},
     "output_type": "execute_result"
    }
   ],
   "source": [
    "vcf_file = os.path.join(analysis_dir, \"good_snps.recode.vcf.gz\")\n",
    "assert os.path.exists(vcf_file)\n",
    "vcf_file"
   ]
  },
  {
   "cell_type": "markdown",
   "metadata": {},
   "source": [
    "### Make pop_id and join it with relavent info from pca_df and ERNA final"
   ]
  },
  {
   "cell_type": "code",
   "execution_count": 9,
   "metadata": {},
   "outputs": [],
   "source": [
    "%load_ext rpy2.ipython"
   ]
  },
  {
   "cell_type": "code",
   "execution_count": 14,
   "metadata": {
    "scrolled": true
   },
   "outputs": [],
   "source": [
    "%%R\n",
    "library(tidyverse)\n",
    "\n",
    "setwd('/data/gpfs/assoc/denovo/tfaske/rabbit/full/REDO/phylo/subset_vcf')"
   ]
  },
  {
   "cell_type": "code",
   "execution_count": 15,
   "metadata": {},
   "outputs": [
    {
     "name": "stdout",
     "output_type": "stream",
     "text": [
      "  Pop ID      All\n",
      "1  AH 10 EN_AH_10\n",
      "2  AH 11 EN_AH_11\n",
      "3  AH 12 EN_AH_12\n",
      "4  AH 13 EN_AH_13\n",
      "5  AH 14 EN_AH_14\n",
      "6  AH 15 EN_AH_15\n",
      "[1] 589   3\n"
     ]
    }
   ],
   "source": [
    "%%R\n",
    "#create Pop_ID file \n",
    "\n",
    "indv<-read.table(\"../filtering/good_snps.recode.vcf.gz.012.indv\",sep=\"\\t\")\n",
    "\n",
    "Pop <- rep(NA,times=nrow(indv))\n",
    "ID <- rep(NA,times=nrow(indv))\n",
    "All <- rep(NA,times=nrow(indv))\n",
    "for (i in 1:nrow(indv)){\n",
    "  Pop[i] <- unlist(strsplit(as.character(indv$V1[i]),\"_\"))[2]\n",
    "  ID[i] <- unlist(strsplit(as.character(indv$V1[i]),\"_\"))[3]\n",
    "  All[i] <- as.character(indv$V1[i])\n",
    "}\n",
    "Pop_ID <- data.frame(Pop=Pop,ID=ID,All=All)\n",
    "print(head(Pop_ID))\n",
    "print(dim(Pop_ID))\n",
    "\n",
    "#write.csv(Pop_ID,'Pop_ID.csv',row.names=F)"
   ]
  },
  {
   "cell_type": "code",
   "execution_count": 16,
   "metadata": {},
   "outputs": [
    {
     "name": "stdout",
     "output_type": "stream",
     "text": [
      "Joining, by = \"Pop\"\n"
     ]
    }
   ],
   "source": [
    "%%R\n",
    "ERNAfinal <- read.csv('ERNA_final_sample_list.csv')\n",
    "\n",
    "Pop_ID_Sum <- left_join(Pop_ID,ERNAfinal)\n",
    "Pop_ID_Sum$Ssp <- as.character(Pop_ID_Sum$Ssp)\n",
    "Pop_ID_Sum$Variety <- as.character(Pop_ID_Sum$Variety)\n",
    "\n",
    "### Add E.discoidea Ssp \n",
    "Pop_ID_Sum$Ssp[which(Pop_ID_Sum$Pop == 'ED')] <- Pop_ID_Sum$Variety[which(Pop_ID_Sum$Pop == 'ED')]\n",
    "\n",
    "#print(dim(Pop_ID_Sum))\n",
    "#print(head(Pop_ID_Sum))\n",
    "#print(Pop_ID_Sum[which(Pop_ID_Sum$Pop == 'ED'),])\n",
    "write.csv(Pop_ID_Sum,'Pop_ID_Sum.csv',row.names = F)"
   ]
  },
  {
   "cell_type": "markdown",
   "metadata": {},
   "source": [
    "## Use subset / rarefied individuals to make 2 iqtree runs. One with and one without hybrids\n",
    "\n",
    "### with hybrids (all of em)"
   ]
  },
  {
   "cell_type": "code",
   "execution_count": 25,
   "metadata": {},
   "outputs": [
    {
     "name": "stdout",
     "output_type": "stream",
     "text": [
      "Joining, by = \"All\"\n",
      "[1] 160\n",
      "[1] 163\n"
     ]
    }
   ],
   "source": [
    "%%R\n",
    "## add pca_df info\n",
    "pca_sub_df <- read.csv('pca_sub_df.csv')\n",
    "Pop_ID_Sum <- read.csv('Pop_ID_Sum.csv')\n",
    "#head(pca_sub_df)\n",
    "#head(Pop_ID_Sum)\n",
    "\n",
    "#select important info\n",
    "pca_sub_df <- pca_sub_df[c('All','Lin')]\n",
    "\n",
    "#join \n",
    "Pop_ID_sub <- left_join(Pop_ID_Sum,pca_sub_df)\n",
    "Pop_ID_sub <- na.omit(Pop_ID_sub)\n",
    "Pop_ID_sub$Lin <- as.character(Pop_ID_sub$Lin)\n",
    "\n",
    "##add ED (outgroup)\n",
    "Pop_ID_ED <- Pop_ID_Sum[which(Pop_ID_Sum$Pop == 'ED'),]\n",
    "Pop_ID_ED$Lin <- 'outgroup'\n",
    "Pop_ID_sub <- rbind(Pop_ID_sub,Pop_ID_ED)\n",
    "\n",
    "print(nrow(pca_sub_df))\n",
    "print(nrow(Pop_ID_sub))\n",
    "\n",
    "#### Write it out! \n",
    "# write file with individuals to keep \n",
    "keep_sub <- data.frame(INDV=as.character(Pop_ID_sub$All))\n",
    "write.table(keep_sub,'keep_sub.txt',row.names=FALSE,quote=FALSE)\n",
    "write.csv(Pop_ID_sub,'Pop_ID_sub.csv',row.names = F)"
   ]
  },
  {
   "cell_type": "markdown",
   "metadata": {},
   "source": [
    "### Make vcf with everyone (including hybrids) but only has known infomation for var/ssp "
   ]
  },
  {
   "cell_type": "code",
   "execution_count": 26,
   "metadata": {
    "scrolled": true
   },
   "outputs": [
    {
     "name": "stdout",
     "output_type": "stream",
     "text": [
      "\n",
      "VCFtools - 0.1.16\n",
      "(C) Adam Auton and Anthony Marcketta 2009\n",
      "\n",
      "Parameters as interpreted:\n",
      "\t--gzvcf /data/gpfs/assoc/denovo/tfaske/rabbit/full/REDO/phylo/subset_vcf/good_snps.recode.vcf.gz\n",
      "\t--keep keep_sub.txt\n",
      "\t--recode-INFO-all\n",
      "\t--maf 0.02\n",
      "\t--max-missing 0.7\n",
      "\t--out ERNA_sub\n",
      "\t--recode\n",
      "\n",
      "Using zlib version: 1.2.11\n",
      "Warning: Expected at least 2 parts in INFO entry: ID=AC,Number=A,Type=Integer,Description=\"Allele count in genotypes for each ALT allele, in the same order as listed\">\n",
      "Warning: Expected at least 2 parts in INFO entry: ID=DP4,Number=4,Type=Integer,Description=\"Number of high-quality ref-forward , ref-reverse, alt-forward and alt-reverse bases\">\n",
      "Warning: Expected at least 2 parts in INFO entry: ID=DP4,Number=4,Type=Integer,Description=\"Number of high-quality ref-forward , ref-reverse, alt-forward and alt-reverse bases\">\n",
      "Keeping individuals in 'keep' list\n",
      "After filtering, kept 163 out of 589 Individuals\n",
      "Outputting VCF file...\n",
      "After filtering, kept 18549 out of a possible 23306 Sites\n",
      "Run Time = 11.00 seconds\n"
     ]
    }
   ],
   "source": [
    "!$vcftools --gzvcf $vcf_file \\\n",
    "--max-missing 0.7 \\\n",
    "--maf 0.02 \\\n",
    "--recode \\\n",
    "--recode-INFO-all \\\n",
    "--keep 'keep_sub.txt' \\\n",
    "--out 'ERNA_sub'"
   ]
  },
  {
   "cell_type": "code",
   "execution_count": 27,
   "metadata": {},
   "outputs": [],
   "source": [
    "vcf_sub = 'ERNA_sub.recode.vcf'\n",
    "vcf_sub_gz = vcf_sub + \".gz\"\n",
    "!$bgzip -c {vcf_sub} > {vcf_sub_gz}\n",
    "!$tabix {vcf_sub_gz}"
   ]
  },
  {
   "cell_type": "code",
   "execution_count": 28,
   "metadata": {},
   "outputs": [],
   "source": [
    "!rm 'ERNA_sub.log'\n",
    "!rm 'ERNA_sub.recode.vcf'\n",
    "!rm 'ERNA_sub.recode.vcf.gz.tbi'"
   ]
  },
  {
   "cell_type": "markdown",
   "metadata": {},
   "source": [
    "### Make vcf sub no hybrids"
   ]
  },
  {
   "cell_type": "code",
   "execution_count": 32,
   "metadata": {},
   "outputs": [
    {
     "name": "stdout",
     "output_type": "stream",
     "text": [
      "[1] 131  11\n"
     ]
    }
   ],
   "source": [
    "%%R\n",
    "Pop_ID_sub <- read.csv('Pop_ID_sub.csv')\n",
    "Pop_ID_sub_noHyb <- Pop_ID_sub[-which(Pop_ID_sub$Lin == 'hybrid'),]\n",
    "print(dim(Pop_ID_sub_noHyb))\n",
    "\n",
    "# write file with individuals to keep \n",
    "keep_sub_noHyb <- data.frame(INDV=as.character(Pop_ID_sub_noHyb$All))\n",
    "write.table(keep_sub_noHyb,'keep_sub_noHyb.txt',row.names=FALSE,quote=FALSE)\n",
    "write.csv(Pop_ID_sub_noHyb,'Pop_ID_sub_noHyb.csv',row.names = FALSE)"
   ]
  },
  {
   "cell_type": "code",
   "execution_count": 36,
   "metadata": {},
   "outputs": [
    {
     "name": "stdout",
     "output_type": "stream",
     "text": [
      "\n",
      "VCFtools - 0.1.16\n",
      "(C) Adam Auton and Anthony Marcketta 2009\n",
      "\n",
      "Parameters as interpreted:\n",
      "\t--gzvcf /data/gpfs/assoc/denovo/tfaske/rabbit/full/REDO/phylo/subset_vcf/good_snps.recode.vcf.gz\n",
      "\t--keep keep_sub_noHyb.txt\n",
      "\t--recode-INFO-all\n",
      "\t--maf 0.02\n",
      "\t--max-missing 0.7\n",
      "\t--out ERNA_sub_noHyb\n",
      "\t--recode\n",
      "\n",
      "Using zlib version: 1.2.11\n",
      "Warning: Expected at least 2 parts in INFO entry: ID=AC,Number=A,Type=Integer,Description=\"Allele count in genotypes for each ALT allele, in the same order as listed\">\n",
      "Warning: Expected at least 2 parts in INFO entry: ID=DP4,Number=4,Type=Integer,Description=\"Number of high-quality ref-forward , ref-reverse, alt-forward and alt-reverse bases\">\n",
      "Warning: Expected at least 2 parts in INFO entry: ID=DP4,Number=4,Type=Integer,Description=\"Number of high-quality ref-forward , ref-reverse, alt-forward and alt-reverse bases\">\n",
      "Keeping individuals in 'keep' list\n",
      "After filtering, kept 131 out of 589 Individuals\n",
      "Outputting VCF file...\n",
      "After filtering, kept 18268 out of a possible 23306 Sites\n",
      "Run Time = 10.00 seconds\n"
     ]
    }
   ],
   "source": [
    "!$vcftools --gzvcf $vcf_file \\\n",
    "--max-missing 0.7 \\\n",
    "--maf 0.02 \\\n",
    "--recode \\\n",
    "--recode-INFO-all \\\n",
    "--keep 'keep_sub_noHyb.txt' \\\n",
    "--out 'ERNA_sub_noHyb'"
   ]
  },
  {
   "cell_type": "code",
   "execution_count": 37,
   "metadata": {},
   "outputs": [],
   "source": [
    "vcf_sub_noHyb = 'ERNA_sub_noHyb.recode.vcf'\n",
    "vcf_sub_noHyb_gz = vcf_sub_noHyb + \".gz\"\n",
    "!$bgzip -c {vcf_sub_noHyb} > {vcf_sub_noHyb_gz}\n",
    "!$tabix {vcf_sub_noHyb_gz}"
   ]
  },
  {
   "cell_type": "code",
   "execution_count": 38,
   "metadata": {},
   "outputs": [],
   "source": [
    "!rm 'ERNA_sub_noHyb.log'\n",
    "!rm 'ERNA_sub_noHyb.recode.vcf'\n",
    "!rm 'ERNA_sub_noHyb.recode.vcf.gz.tbi'"
   ]
  },
  {
   "cell_type": "markdown",
   "metadata": {},
   "source": [
    "# Run IQtree\n",
    "\n",
    "### vcf sub (with hybrids)"
   ]
  },
  {
   "cell_type": "code",
   "execution_count": 39,
   "metadata": {},
   "outputs": [
    {
     "name": "stdout",
     "output_type": "stream",
     "text": [
      "/data/gpfs/assoc/denovo/tfaske/rabbit/full/REDO/phylo\n"
     ]
    }
   ],
   "source": [
    "cd $root"
   ]
  },
  {
   "cell_type": "code",
   "execution_count": 40,
   "metadata": {},
   "outputs": [],
   "source": [
    "!mkdir iqtree"
   ]
  },
  {
   "cell_type": "code",
   "execution_count": 41,
   "metadata": {},
   "outputs": [],
   "source": [
    "iqtree_dir = os.path.join(root,'iqtree')"
   ]
  },
  {
   "cell_type": "code",
   "execution_count": 42,
   "metadata": {},
   "outputs": [],
   "source": [
    "!cp 'subset_vcf/ERNA_sub.recode.vcf.gz' $iqtree_dir"
   ]
  },
  {
   "cell_type": "code",
   "execution_count": 43,
   "metadata": {},
   "outputs": [
    {
     "name": "stdout",
     "output_type": "stream",
     "text": [
      "/data/gpfs/assoc/denovo/tfaske/rabbit/full/REDO/phylo/iqtree\n"
     ]
    }
   ],
   "source": [
    "cd $iqtree_dir"
   ]
  },
  {
   "cell_type": "code",
   "execution_count": 44,
   "metadata": {},
   "outputs": [],
   "source": [
    "!gunzip 'ERNA_sub.recode.vcf.gz'"
   ]
  },
  {
   "cell_type": "code",
   "execution_count": 45,
   "metadata": {},
   "outputs": [],
   "source": [
    "vcf2phy = '/data/gpfs/assoc/parchmanlab/tfaske/src/phylo/./vcf2phylip.py'"
   ]
  },
  {
   "cell_type": "code",
   "execution_count": 46,
   "metadata": {},
   "outputs": [],
   "source": [
    "vcf_sub = os.path.join(iqtree_dir,'ERNA_sub.recode.vcf')"
   ]
  },
  {
   "cell_type": "code",
   "execution_count": 47,
   "metadata": {},
   "outputs": [
    {
     "name": "stdout",
     "output_type": "stream",
     "text": [
      "\n",
      "Converting file '/data/gpfs/assoc/denovo/tfaske/rabbit/full/REDO/phylo/iqtree/ERNA_sub.recode.vcf':\n",
      "\n",
      "Number of samples in VCF: 163\n",
      "Total of genotypes processed: 18549\n",
      "Genotypes excluded because they exceeded the amount of missing data allowed: 0\n",
      "Genotypes that passed missing data filter but were excluded for being MNPs: 0\n",
      "SNPs that passed the filters: 18549\n",
      "\n",
      "Sample 1 of 163, 'EN_AR_2', added to the nucleotide matrix(ces).\n",
      "Sample 2 of 163, 'EN_AR_3', added to the nucleotide matrix(ces).\n",
      "Sample 3 of 163, 'EN_AR_4', added to the nucleotide matrix(ces).\n",
      "Sample 4 of 163, 'EN_AR_5', added to the nucleotide matrix(ces).\n",
      "Sample 5 of 163, 'EN_AR_6', added to the nucleotide matrix(ces).\n",
      "Sample 6 of 163, 'EN_AS_18', added to the nucleotide matrix(ces).\n",
      "Sample 7 of 163, 'EN_AS_20', added to the nucleotide matrix(ces).\n",
      "Sample 8 of 163, 'EN_AS_23', added to the nucleotide matrix(ces).\n",
      "Sample 9 of 163, 'EN_AS_24', added to the nucleotide matrix(ces).\n",
      "Sample 10 of 163, 'EN_AS_28', added to the nucleotide matrix(ces).\n",
      "Sample 11 of 163, 'EN_AS_30', added to the nucleotide matrix(ces).\n",
      "Sample 12 of 163, 'EN_BO_1', added to the nucleotide matrix(ces).\n",
      "Sample 13 of 163, 'EN_BO_2', added to the nucleotide matrix(ces).\n",
      "Sample 14 of 163, 'EN_BO_3', added to the nucleotide matrix(ces).\n",
      "Sample 15 of 163, 'EN_BO_4', added to the nucleotide matrix(ces).\n",
      "Sample 16 of 163, 'EN_BO_5', added to the nucleotide matrix(ces).\n",
      "Sample 17 of 163, 'EN_BO_6', added to the nucleotide matrix(ces).\n",
      "Sample 18 of 163, 'EN_CH_1', added to the nucleotide matrix(ces).\n",
      "Sample 19 of 163, 'EN_CH_2', added to the nucleotide matrix(ces).\n",
      "Sample 20 of 163, 'EN_CH_3', added to the nucleotide matrix(ces).\n",
      "Sample 21 of 163, 'EN_CH_4', added to the nucleotide matrix(ces).\n",
      "Sample 22 of 163, 'EN_CH_6', added to the nucleotide matrix(ces).\n",
      "Sample 23 of 163, 'EN_CH_7', added to the nucleotide matrix(ces).\n",
      "Sample 24 of 163, 'EN_CI_1', added to the nucleotide matrix(ces).\n",
      "Sample 25 of 163, 'EN_CI_2', added to the nucleotide matrix(ces).\n",
      "Sample 26 of 163, 'EN_CI_3', added to the nucleotide matrix(ces).\n",
      "Sample 27 of 163, 'EN_CI_4', added to the nucleotide matrix(ces).\n",
      "Sample 28 of 163, 'EN_CI_5', added to the nucleotide matrix(ces).\n",
      "Sample 29 of 163, 'EN_CL_1', added to the nucleotide matrix(ces).\n",
      "Sample 30 of 163, 'EN_CL_2', added to the nucleotide matrix(ces).\n",
      "Sample 31 of 163, 'EN_CL_3', added to the nucleotide matrix(ces).\n",
      "Sample 32 of 163, 'EN_CL_4', added to the nucleotide matrix(ces).\n",
      "Sample 33 of 163, 'EN_CL_5', added to the nucleotide matrix(ces).\n",
      "Sample 34 of 163, 'EN_CL_6', added to the nucleotide matrix(ces).\n",
      "Sample 35 of 163, 'EN_CN_1', added to the nucleotide matrix(ces).\n",
      "Sample 36 of 163, 'EN_CN_2', added to the nucleotide matrix(ces).\n",
      "Sample 37 of 163, 'EN_CN_4', added to the nucleotide matrix(ces).\n",
      "Sample 38 of 163, 'EN_CN_5', added to the nucleotide matrix(ces).\n",
      "Sample 39 of 163, 'EN_CN_6', added to the nucleotide matrix(ces).\n",
      "Sample 40 of 163, 'EN_CO_1', added to the nucleotide matrix(ces).\n",
      "Sample 41 of 163, 'EN_CO_2', added to the nucleotide matrix(ces).\n",
      "Sample 42 of 163, 'EN_CO_3', added to the nucleotide matrix(ces).\n",
      "Sample 43 of 163, 'EN_CO_4', added to the nucleotide matrix(ces).\n",
      "Sample 44 of 163, 'EN_CO_5', added to the nucleotide matrix(ces).\n",
      "Sample 45 of 163, 'EN_CT_1', added to the nucleotide matrix(ces).\n",
      "Sample 46 of 163, 'EN_CT_2', added to the nucleotide matrix(ces).\n",
      "Sample 47 of 163, 'EN_CT_3', added to the nucleotide matrix(ces).\n",
      "Sample 48 of 163, 'EN_CT_4', added to the nucleotide matrix(ces).\n",
      "Sample 49 of 163, 'EN_CT_5', added to the nucleotide matrix(ces).\n",
      "Sample 50 of 163, 'EN_CT_6', added to the nucleotide matrix(ces).\n",
      "Sample 51 of 163, 'EN_DH_16', added to the nucleotide matrix(ces).\n",
      "Sample 52 of 163, 'EN_DH_17', added to the nucleotide matrix(ces).\n",
      "Sample 53 of 163, 'EN_DH_19', added to the nucleotide matrix(ces).\n",
      "Sample 54 of 163, 'EN_DH_20', added to the nucleotide matrix(ces).\n",
      "Sample 55 of 163, 'EN_DH_23', added to the nucleotide matrix(ces).\n",
      "Sample 56 of 163, 'EN_DH_28', added to the nucleotide matrix(ces).\n",
      "Sample 57 of 163, 'EN_ED_1', added to the nucleotide matrix(ces).\n",
      "Sample 58 of 163, 'EN_ED_2', added to the nucleotide matrix(ces).\n",
      "Sample 59 of 163, 'EN_ED_3', added to the nucleotide matrix(ces).\n",
      "Sample 60 of 163, 'EN_EW_1', added to the nucleotide matrix(ces).\n",
      "Sample 61 of 163, 'EN_EW_2', added to the nucleotide matrix(ces).\n",
      "Sample 62 of 163, 'EN_EW_4', added to the nucleotide matrix(ces).\n",
      "Sample 63 of 163, 'EN_EW_5', added to the nucleotide matrix(ces).\n",
      "Sample 64 of 163, 'EN_EW_6', added to the nucleotide matrix(ces).\n",
      "Sample 65 of 163, 'EN_EW_8', added to the nucleotide matrix(ces).\n",
      "Sample 66 of 163, 'EN_IO_1', added to the nucleotide matrix(ces).\n",
      "Sample 67 of 163, 'EN_IO_2', added to the nucleotide matrix(ces).\n",
      "Sample 68 of 163, 'EN_IO_3', added to the nucleotide matrix(ces).\n",
      "Sample 69 of 163, 'EN_IO_4', added to the nucleotide matrix(ces).\n",
      "Sample 70 of 163, 'EN_IO_5', added to the nucleotide matrix(ces).\n",
      "Sample 71 of 163, 'EN_JO_2', added to the nucleotide matrix(ces).\n",
      "Sample 72 of 163, 'EN_JO_3', added to the nucleotide matrix(ces).\n",
      "Sample 73 of 163, 'EN_JO_4', added to the nucleotide matrix(ces).\n",
      "Sample 74 of 163, 'EN_JO_5', added to the nucleotide matrix(ces).\n",
      "Sample 75 of 163, 'EN_JO_6', added to the nucleotide matrix(ces).\n",
      "Sample 76 of 163, 'EN_JT_1', added to the nucleotide matrix(ces).\n",
      "Sample 77 of 163, 'EN_JT_2', added to the nucleotide matrix(ces).\n",
      "Sample 78 of 163, 'EN_JT_3', added to the nucleotide matrix(ces).\n",
      "Sample 79 of 163, 'EN_JT_4', added to the nucleotide matrix(ces).\n",
      "Sample 80 of 163, 'EN_JT_5', added to the nucleotide matrix(ces).\n",
      "Sample 81 of 163, 'EN_JT_6', added to the nucleotide matrix(ces).\n",
      "Sample 82 of 163, 'EN_LA_1', added to the nucleotide matrix(ces).\n",
      "Sample 83 of 163, 'EN_LA_2', added to the nucleotide matrix(ces).\n",
      "Sample 84 of 163, 'EN_LA_3', added to the nucleotide matrix(ces).\n",
      "Sample 85 of 163, 'EN_LA_4', added to the nucleotide matrix(ces).\n",
      "Sample 86 of 163, 'EN_LA_5', added to the nucleotide matrix(ces).\n",
      "Sample 87 of 163, 'EN_LA_6', added to the nucleotide matrix(ces).\n",
      "Sample 88 of 163, 'EN_LO_1', added to the nucleotide matrix(ces).\n",
      "Sample 89 of 163, 'EN_LO_2', added to the nucleotide matrix(ces).\n",
      "Sample 90 of 163, 'EN_LO_3', added to the nucleotide matrix(ces).\n",
      "Sample 91 of 163, 'EN_LO_4', added to the nucleotide matrix(ces).\n",
      "Sample 92 of 163, 'EN_LO_5', added to the nucleotide matrix(ces).\n",
      "Sample 93 of 163, 'EN_LT_4', added to the nucleotide matrix(ces).\n",
      "Sample 94 of 163, 'EN_LT_5', added to the nucleotide matrix(ces).\n",
      "Sample 95 of 163, 'EN_LT_6', added to the nucleotide matrix(ces).\n",
      "Sample 96 of 163, 'EN_NH_2', added to the nucleotide matrix(ces).\n",
      "Sample 97 of 163, 'EN_NH_3', added to the nucleotide matrix(ces).\n",
      "Sample 98 of 163, 'EN_NH_4', added to the nucleotide matrix(ces).\n",
      "Sample 99 of 163, 'EN_NH_5', added to the nucleotide matrix(ces).\n",
      "Sample 100 of 163, 'EN_NH_6', added to the nucleotide matrix(ces).\n",
      "Sample 101 of 163, 'EN_NI_1', added to the nucleotide matrix(ces).\n",
      "Sample 102 of 163, 'EN_NI_2', added to the nucleotide matrix(ces).\n",
      "Sample 103 of 163, 'EN_NI_3', added to the nucleotide matrix(ces).\n",
      "Sample 104 of 163, 'EN_NI_4', added to the nucleotide matrix(ces).\n",
      "Sample 105 of 163, 'EN_NI_5', added to the nucleotide matrix(ces).\n",
      "Sample 106 of 163, 'EN_NI_6', added to the nucleotide matrix(ces).\n",
      "Sample 107 of 163, 'EN_NT_1', added to the nucleotide matrix(ces).\n",
      "Sample 108 of 163, 'EN_NT_2', added to the nucleotide matrix(ces).\n",
      "Sample 109 of 163, 'EN_NT_3', added to the nucleotide matrix(ces).\n",
      "Sample 110 of 163, 'EN_NT_4', added to the nucleotide matrix(ces).\n",
      "Sample 111 of 163, 'EN_NT_5', added to the nucleotide matrix(ces).\n",
      "Sample 112 of 163, 'EN_OT_1', added to the nucleotide matrix(ces).\n",
      "Sample 113 of 163, 'EN_OT_2', added to the nucleotide matrix(ces).\n",
      "Sample 114 of 163, 'EN_OT_3', added to the nucleotide matrix(ces).\n",
      "Sample 115 of 163, 'EN_OT_4', added to the nucleotide matrix(ces).\n",
      "Sample 116 of 163, 'EN_PW_15', added to the nucleotide matrix(ces).\n",
      "Sample 117 of 163, 'EN_PW_1', added to the nucleotide matrix(ces).\n",
      "Sample 118 of 163, 'EN_PW_3', added to the nucleotide matrix(ces).\n",
      "Sample 119 of 163, 'EN_PW_4', added to the nucleotide matrix(ces).\n",
      "Sample 120 of 163, 'EN_PW_5', added to the nucleotide matrix(ces).\n",
      "Sample 121 of 163, 'EN_PW_9', added to the nucleotide matrix(ces).\n",
      "Sample 122 of 163, 'EN_RL_1', added to the nucleotide matrix(ces).\n",
      "Sample 123 of 163, 'EN_RL_2', added to the nucleotide matrix(ces).\n",
      "Sample 124 of 163, 'EN_RL_3', added to the nucleotide matrix(ces).\n",
      "Sample 125 of 163, 'EN_RL_4', added to the nucleotide matrix(ces).\n",
      "Sample 126 of 163, 'EN_RL_5', added to the nucleotide matrix(ces).\n"
     ]
    },
    {
     "name": "stdout",
     "output_type": "stream",
     "text": [
      "Sample 127 of 163, 'EN_RL_6', added to the nucleotide matrix(ces).\n",
      "Sample 128 of 163, 'EN_RS_1', added to the nucleotide matrix(ces).\n",
      "Sample 129 of 163, 'EN_RS_2', added to the nucleotide matrix(ces).\n",
      "Sample 130 of 163, 'EN_RS_4', added to the nucleotide matrix(ces).\n",
      "Sample 131 of 163, 'EN_RS_5', added to the nucleotide matrix(ces).\n",
      "Sample 132 of 163, 'EN_RS_6', added to the nucleotide matrix(ces).\n",
      "Sample 133 of 163, 'EN_RS_7', added to the nucleotide matrix(ces).\n",
      "Sample 134 of 163, 'EN_RT_1', added to the nucleotide matrix(ces).\n",
      "Sample 135 of 163, 'EN_RT_2', added to the nucleotide matrix(ces).\n",
      "Sample 136 of 163, 'EN_SJ_10', added to the nucleotide matrix(ces).\n",
      "Sample 137 of 163, 'EN_SJ_12', added to the nucleotide matrix(ces).\n",
      "Sample 138 of 163, 'EN_SJ_1', added to the nucleotide matrix(ces).\n",
      "Sample 139 of 163, 'EN_SJ_2', added to the nucleotide matrix(ces).\n",
      "Sample 140 of 163, 'EN_SJ_8', added to the nucleotide matrix(ces).\n",
      "Sample 141 of 163, 'EN_SJ_9', added to the nucleotide matrix(ces).\n",
      "Sample 142 of 163, 'EN_SS_10', added to the nucleotide matrix(ces).\n",
      "Sample 143 of 163, 'EN_SS_12', added to the nucleotide matrix(ces).\n",
      "Sample 144 of 163, 'EN_SS_15', added to the nucleotide matrix(ces).\n",
      "Sample 145 of 163, 'EN_SS_3', added to the nucleotide matrix(ces).\n",
      "Sample 146 of 163, 'EN_SS_5', added to the nucleotide matrix(ces).\n",
      "Sample 147 of 163, 'EN_SS_9', added to the nucleotide matrix(ces).\n",
      "Sample 148 of 163, 'EN_TO_1', added to the nucleotide matrix(ces).\n",
      "Sample 149 of 163, 'EN_TO_2', added to the nucleotide matrix(ces).\n",
      "Sample 150 of 163, 'EN_TO_3', added to the nucleotide matrix(ces).\n",
      "Sample 151 of 163, 'EN_TO_4', added to the nucleotide matrix(ces).\n",
      "Sample 152 of 163, 'EN_TO_5', added to the nucleotide matrix(ces).\n",
      "Sample 153 of 163, 'EN_TO_6', added to the nucleotide matrix(ces).\n",
      "Sample 154 of 163, 'EN_UT_1', added to the nucleotide matrix(ces).\n",
      "Sample 155 of 163, 'EN_UT_2', added to the nucleotide matrix(ces).\n",
      "Sample 156 of 163, 'EN_UT_3', added to the nucleotide matrix(ces).\n",
      "Sample 157 of 163, 'EN_UT_4', added to the nucleotide matrix(ces).\n",
      "Sample 158 of 163, 'EN_UT_5', added to the nucleotide matrix(ces).\n",
      "Sample 159 of 163, 'EN_VI_1', added to the nucleotide matrix(ces).\n",
      "Sample 160 of 163, 'EN_VI_2', added to the nucleotide matrix(ces).\n",
      "Sample 161 of 163, 'EN_VI_3', added to the nucleotide matrix(ces).\n",
      "Sample 162 of 163, 'EN_VI_4', added to the nucleotide matrix(ces).\n",
      "Sample 163 of 163, 'EN_VI_5', added to the nucleotide matrix(ces).\n",
      "\n",
      "PHYLIP matrix saved to: ERNA_sub.recode.min4.phy\n",
      "\n",
      "Done!\n",
      "\n"
     ]
    }
   ],
   "source": [
    "!python $vcf2phy --i $vcf_sub"
   ]
  },
  {
   "cell_type": "markdown",
   "metadata": {},
   "source": [
    "#### NOTE: ran once but invariant sites. rerun with new .phy file"
   ]
  },
  {
   "cell_type": "code",
   "execution_count": 58,
   "metadata": {},
   "outputs": [],
   "source": [
    "#phy_file = os.path.join(iqtree_dir,'ERNA_sub.recode.min4.phy')\n",
    "phy_file = os.path.join(iqtree_dir,'ERNA_sub.recode.min4.phy.varsites.phy')"
   ]
  },
  {
   "cell_type": "code",
   "execution_count": 59,
   "metadata": {},
   "outputs": [],
   "source": [
    "### select options for slurm submission\n",
    "account = 'cpu-s5-denovo-0'\n",
    "partition = 'cpu-core-0'\n",
    "jobname = 'iqtree'\n",
    "time = '4-00:00:00' #time limit 1 day\n",
    "cpus = 16\n",
    "mem_cpu = 9000\n",
    "email = 'tfaske@nevada.unr.edu'\n",
    "\n",
    "### for iqtree\n",
    "model = 'GTR+ASC'\n",
    "bb = 1000 #bootstrap"
   ]
  },
  {
   "cell_type": "code",
   "execution_count": 60,
   "metadata": {},
   "outputs": [],
   "source": [
    "def write_iqtree_sh(account,partition,time,cpus,mem_cpu,email,iqtree_dir,phy,model,bb):\n",
    "    with open(\"run_sub_iqtree.sh\", \"w\") as o:\n",
    "        o.write(\"\"\"#!/usr/bin/env bash\n",
    "#SBATCH --account=%s\n",
    "#SBATCH --partition=%s\n",
    "#SBATCH --time=%s\n",
    "#SBATCH --ntasks 1\n",
    "#SBATCH --cpus-per-task %d\n",
    "#SBATCH --mem-per-cpu=%d\n",
    "#SBATCH --job-name iqtree_sub\n",
    "#SBATCH --output output_iqtree_sub.txt\n",
    "#SBATCH --mail-type=END\n",
    "#SBATCH --mail-user=%s\n",
    "\n",
    "cd %s\n",
    "    \n",
    "iqtree -s %s -nt %d -m %s -st DNA -bb %d \\n\\n\"\"\" % (account,partition,time,int(cpus),int(mem_cpu),email,iqtree_dir,phy,int(cpus),model,bb))\n",
    "        \n",
    "        "
   ]
  },
  {
   "cell_type": "code",
   "execution_count": 61,
   "metadata": {},
   "outputs": [],
   "source": [
    "write_iqtree_sh(account,partition,time,cpus,mem_cpu,email,iqtree_dir,phy_file,model,bb)"
   ]
  },
  {
   "cell_type": "markdown",
   "metadata": {},
   "source": [
    "# Run iqtree.sh\n",
    "    cd /data/gpfs/home/tfaske/d/rabbit/full/phylo/iqtree\n",
    "    source activate py311\n",
    "    sbatch run_iqtree.sh"
   ]
  },
  {
   "cell_type": "markdown",
   "metadata": {},
   "source": [
    "## Run IQtree (no hybrids)\n",
    "\n",
    "### VCF sub no hybrids"
   ]
  },
  {
   "cell_type": "code",
   "execution_count": 62,
   "metadata": {},
   "outputs": [
    {
     "name": "stdout",
     "output_type": "stream",
     "text": [
      "/data/gpfs/assoc/denovo/tfaske/rabbit/full/REDO/phylo/iqtree\n"
     ]
    }
   ],
   "source": [
    "cd $iqtree_dir"
   ]
  },
  {
   "cell_type": "code",
   "execution_count": 63,
   "metadata": {},
   "outputs": [],
   "source": [
    "!cp '../subset_vcf/ERNA_sub_noHyb.recode.vcf.gz' ."
   ]
  },
  {
   "cell_type": "code",
   "execution_count": 64,
   "metadata": {},
   "outputs": [],
   "source": [
    "!gunzip 'ERNA_sub_noHyb.recode.vcf.gz'"
   ]
  },
  {
   "cell_type": "code",
   "execution_count": 65,
   "metadata": {},
   "outputs": [],
   "source": [
    "vcf2phy = '/data/gpfs/assoc/parchmanlab/tfaske/src/phylo/./vcf2phylip.py'"
   ]
  },
  {
   "cell_type": "code",
   "execution_count": 66,
   "metadata": {},
   "outputs": [],
   "source": [
    "vcf_sub_noHyb = os.path.join(iqtree_dir,'ERNA_sub_noHyb.recode.vcf')"
   ]
  },
  {
   "cell_type": "code",
   "execution_count": 67,
   "metadata": {},
   "outputs": [
    {
     "name": "stdout",
     "output_type": "stream",
     "text": [
      "\n",
      "Converting file '/data/gpfs/assoc/denovo/tfaske/rabbit/full/REDO/phylo/iqtree/ERNA_sub_noHyb.recode.vcf':\n",
      "\n",
      "Number of samples in VCF: 131\n",
      "Total of genotypes processed: 18268\n",
      "Genotypes excluded because they exceeded the amount of missing data allowed: 0\n",
      "Genotypes that passed missing data filter but were excluded for being MNPs: 0\n",
      "SNPs that passed the filters: 18268\n",
      "\n",
      "Sample 1 of 131, 'EN_AR_2', added to the nucleotide matrix(ces).\n",
      "Sample 2 of 131, 'EN_AR_3', added to the nucleotide matrix(ces).\n",
      "Sample 3 of 131, 'EN_AR_4', added to the nucleotide matrix(ces).\n",
      "Sample 4 of 131, 'EN_AR_5', added to the nucleotide matrix(ces).\n",
      "Sample 5 of 131, 'EN_AR_6', added to the nucleotide matrix(ces).\n",
      "Sample 6 of 131, 'EN_AS_18', added to the nucleotide matrix(ces).\n",
      "Sample 7 of 131, 'EN_AS_20', added to the nucleotide matrix(ces).\n",
      "Sample 8 of 131, 'EN_AS_23', added to the nucleotide matrix(ces).\n",
      "Sample 9 of 131, 'EN_AS_24', added to the nucleotide matrix(ces).\n",
      "Sample 10 of 131, 'EN_AS_28', added to the nucleotide matrix(ces).\n",
      "Sample 11 of 131, 'EN_AS_30', added to the nucleotide matrix(ces).\n",
      "Sample 12 of 131, 'EN_BO_1', added to the nucleotide matrix(ces).\n",
      "Sample 13 of 131, 'EN_BO_2', added to the nucleotide matrix(ces).\n",
      "Sample 14 of 131, 'EN_BO_3', added to the nucleotide matrix(ces).\n",
      "Sample 15 of 131, 'EN_BO_4', added to the nucleotide matrix(ces).\n",
      "Sample 16 of 131, 'EN_BO_5', added to the nucleotide matrix(ces).\n",
      "Sample 17 of 131, 'EN_BO_6', added to the nucleotide matrix(ces).\n",
      "Sample 18 of 131, 'EN_CH_2', added to the nucleotide matrix(ces).\n",
      "Sample 19 of 131, 'EN_CH_3', added to the nucleotide matrix(ces).\n",
      "Sample 20 of 131, 'EN_CH_4', added to the nucleotide matrix(ces).\n",
      "Sample 21 of 131, 'EN_CH_6', added to the nucleotide matrix(ces).\n",
      "Sample 22 of 131, 'EN_CH_7', added to the nucleotide matrix(ces).\n",
      "Sample 23 of 131, 'EN_CI_1', added to the nucleotide matrix(ces).\n",
      "Sample 24 of 131, 'EN_CI_2', added to the nucleotide matrix(ces).\n",
      "Sample 25 of 131, 'EN_CI_3', added to the nucleotide matrix(ces).\n",
      "Sample 26 of 131, 'EN_CI_4', added to the nucleotide matrix(ces).\n",
      "Sample 27 of 131, 'EN_CI_5', added to the nucleotide matrix(ces).\n",
      "Sample 28 of 131, 'EN_CL_1', added to the nucleotide matrix(ces).\n",
      "Sample 29 of 131, 'EN_CL_2', added to the nucleotide matrix(ces).\n",
      "Sample 30 of 131, 'EN_CL_3', added to the nucleotide matrix(ces).\n",
      "Sample 31 of 131, 'EN_CL_4', added to the nucleotide matrix(ces).\n",
      "Sample 32 of 131, 'EN_CL_5', added to the nucleotide matrix(ces).\n",
      "Sample 33 of 131, 'EN_CL_6', added to the nucleotide matrix(ces).\n",
      "Sample 34 of 131, 'EN_CO_1', added to the nucleotide matrix(ces).\n",
      "Sample 35 of 131, 'EN_CO_2', added to the nucleotide matrix(ces).\n",
      "Sample 36 of 131, 'EN_CO_3', added to the nucleotide matrix(ces).\n",
      "Sample 37 of 131, 'EN_CO_4', added to the nucleotide matrix(ces).\n",
      "Sample 38 of 131, 'EN_CO_5', added to the nucleotide matrix(ces).\n",
      "Sample 39 of 131, 'EN_CT_1', added to the nucleotide matrix(ces).\n",
      "Sample 40 of 131, 'EN_CT_2', added to the nucleotide matrix(ces).\n",
      "Sample 41 of 131, 'EN_CT_3', added to the nucleotide matrix(ces).\n",
      "Sample 42 of 131, 'EN_CT_4', added to the nucleotide matrix(ces).\n",
      "Sample 43 of 131, 'EN_CT_5', added to the nucleotide matrix(ces).\n",
      "Sample 44 of 131, 'EN_CT_6', added to the nucleotide matrix(ces).\n",
      "Sample 45 of 131, 'EN_DH_16', added to the nucleotide matrix(ces).\n",
      "Sample 46 of 131, 'EN_DH_17', added to the nucleotide matrix(ces).\n",
      "Sample 47 of 131, 'EN_DH_19', added to the nucleotide matrix(ces).\n",
      "Sample 48 of 131, 'EN_DH_20', added to the nucleotide matrix(ces).\n",
      "Sample 49 of 131, 'EN_DH_23', added to the nucleotide matrix(ces).\n",
      "Sample 50 of 131, 'EN_DH_28', added to the nucleotide matrix(ces).\n",
      "Sample 51 of 131, 'EN_ED_1', added to the nucleotide matrix(ces).\n",
      "Sample 52 of 131, 'EN_ED_2', added to the nucleotide matrix(ces).\n",
      "Sample 53 of 131, 'EN_ED_3', added to the nucleotide matrix(ces).\n",
      "Sample 54 of 131, 'EN_EW_2', added to the nucleotide matrix(ces).\n",
      "Sample 55 of 131, 'EN_EW_4', added to the nucleotide matrix(ces).\n",
      "Sample 56 of 131, 'EN_EW_5', added to the nucleotide matrix(ces).\n",
      "Sample 57 of 131, 'EN_EW_6', added to the nucleotide matrix(ces).\n",
      "Sample 58 of 131, 'EN_JO_2', added to the nucleotide matrix(ces).\n",
      "Sample 59 of 131, 'EN_JO_3', added to the nucleotide matrix(ces).\n",
      "Sample 60 of 131, 'EN_JO_4', added to the nucleotide matrix(ces).\n",
      "Sample 61 of 131, 'EN_JO_5', added to the nucleotide matrix(ces).\n",
      "Sample 62 of 131, 'EN_JO_6', added to the nucleotide matrix(ces).\n",
      "Sample 63 of 131, 'EN_JT_1', added to the nucleotide matrix(ces).\n",
      "Sample 64 of 131, 'EN_JT_2', added to the nucleotide matrix(ces).\n",
      "Sample 65 of 131, 'EN_JT_3', added to the nucleotide matrix(ces).\n",
      "Sample 66 of 131, 'EN_JT_4', added to the nucleotide matrix(ces).\n",
      "Sample 67 of 131, 'EN_JT_5', added to the nucleotide matrix(ces).\n",
      "Sample 68 of 131, 'EN_JT_6', added to the nucleotide matrix(ces).\n",
      "Sample 69 of 131, 'EN_LO_1', added to the nucleotide matrix(ces).\n",
      "Sample 70 of 131, 'EN_LO_2', added to the nucleotide matrix(ces).\n",
      "Sample 71 of 131, 'EN_LO_3', added to the nucleotide matrix(ces).\n",
      "Sample 72 of 131, 'EN_LO_4', added to the nucleotide matrix(ces).\n",
      "Sample 73 of 131, 'EN_LO_5', added to the nucleotide matrix(ces).\n",
      "Sample 74 of 131, 'EN_LT_4', added to the nucleotide matrix(ces).\n",
      "Sample 75 of 131, 'EN_LT_5', added to the nucleotide matrix(ces).\n",
      "Sample 76 of 131, 'EN_LT_6', added to the nucleotide matrix(ces).\n",
      "Sample 77 of 131, 'EN_NI_1', added to the nucleotide matrix(ces).\n",
      "Sample 78 of 131, 'EN_NI_2', added to the nucleotide matrix(ces).\n",
      "Sample 79 of 131, 'EN_NI_3', added to the nucleotide matrix(ces).\n",
      "Sample 80 of 131, 'EN_NI_4', added to the nucleotide matrix(ces).\n",
      "Sample 81 of 131, 'EN_NI_5', added to the nucleotide matrix(ces).\n",
      "Sample 82 of 131, 'EN_NI_6', added to the nucleotide matrix(ces).\n",
      "Sample 83 of 131, 'EN_NT_1', added to the nucleotide matrix(ces).\n",
      "Sample 84 of 131, 'EN_NT_2', added to the nucleotide matrix(ces).\n",
      "Sample 85 of 131, 'EN_NT_3', added to the nucleotide matrix(ces).\n",
      "Sample 86 of 131, 'EN_NT_4', added to the nucleotide matrix(ces).\n",
      "Sample 87 of 131, 'EN_NT_5', added to the nucleotide matrix(ces).\n",
      "Sample 88 of 131, 'EN_PW_15', added to the nucleotide matrix(ces).\n",
      "Sample 89 of 131, 'EN_PW_1', added to the nucleotide matrix(ces).\n",
      "Sample 90 of 131, 'EN_PW_3', added to the nucleotide matrix(ces).\n",
      "Sample 91 of 131, 'EN_PW_4', added to the nucleotide matrix(ces).\n",
      "Sample 92 of 131, 'EN_PW_5', added to the nucleotide matrix(ces).\n",
      "Sample 93 of 131, 'EN_PW_9', added to the nucleotide matrix(ces).\n",
      "Sample 94 of 131, 'EN_RL_1', added to the nucleotide matrix(ces).\n",
      "Sample 95 of 131, 'EN_RL_2', added to the nucleotide matrix(ces).\n",
      "Sample 96 of 131, 'EN_RL_3', added to the nucleotide matrix(ces).\n",
      "Sample 97 of 131, 'EN_RL_4', added to the nucleotide matrix(ces).\n",
      "Sample 98 of 131, 'EN_RL_5', added to the nucleotide matrix(ces).\n",
      "Sample 99 of 131, 'EN_RL_6', added to the nucleotide matrix(ces).\n",
      "Sample 100 of 131, 'EN_RS_1', added to the nucleotide matrix(ces).\n",
      "Sample 101 of 131, 'EN_RS_2', added to the nucleotide matrix(ces).\n",
      "Sample 102 of 131, 'EN_RS_4', added to the nucleotide matrix(ces).\n",
      "Sample 103 of 131, 'EN_RS_5', added to the nucleotide matrix(ces).\n",
      "Sample 104 of 131, 'EN_RS_6', added to the nucleotide matrix(ces).\n",
      "Sample 105 of 131, 'EN_RS_7', added to the nucleotide matrix(ces).\n",
      "Sample 106 of 131, 'EN_SJ_10', added to the nucleotide matrix(ces).\n",
      "Sample 107 of 131, 'EN_SJ_12', added to the nucleotide matrix(ces).\n",
      "Sample 108 of 131, 'EN_SJ_8', added to the nucleotide matrix(ces).\n",
      "Sample 109 of 131, 'EN_SJ_9', added to the nucleotide matrix(ces).\n",
      "Sample 110 of 131, 'EN_SS_10', added to the nucleotide matrix(ces).\n",
      "Sample 111 of 131, 'EN_SS_12', added to the nucleotide matrix(ces).\n",
      "Sample 112 of 131, 'EN_SS_15', added to the nucleotide matrix(ces).\n",
      "Sample 113 of 131, 'EN_SS_3', added to the nucleotide matrix(ces).\n",
      "Sample 114 of 131, 'EN_SS_5', added to the nucleotide matrix(ces).\n",
      "Sample 115 of 131, 'EN_SS_9', added to the nucleotide matrix(ces).\n",
      "Sample 116 of 131, 'EN_TO_1', added to the nucleotide matrix(ces).\n",
      "Sample 117 of 131, 'EN_TO_2', added to the nucleotide matrix(ces).\n",
      "Sample 118 of 131, 'EN_TO_3', added to the nucleotide matrix(ces).\n",
      "Sample 119 of 131, 'EN_TO_4', added to the nucleotide matrix(ces).\n",
      "Sample 120 of 131, 'EN_TO_5', added to the nucleotide matrix(ces).\n",
      "Sample 121 of 131, 'EN_TO_6', added to the nucleotide matrix(ces).\n",
      "Sample 122 of 131, 'EN_UT_1', added to the nucleotide matrix(ces).\n",
      "Sample 123 of 131, 'EN_UT_2', added to the nucleotide matrix(ces).\n",
      "Sample 124 of 131, 'EN_UT_3', added to the nucleotide matrix(ces).\n",
      "Sample 125 of 131, 'EN_UT_4', added to the nucleotide matrix(ces).\n",
      "Sample 126 of 131, 'EN_UT_5', added to the nucleotide matrix(ces).\n",
      "Sample 127 of 131, 'EN_VI_1', added to the nucleotide matrix(ces).\n",
      "Sample 128 of 131, 'EN_VI_2', added to the nucleotide matrix(ces).\n",
      "Sample 129 of 131, 'EN_VI_3', added to the nucleotide matrix(ces).\n"
     ]
    },
    {
     "name": "stdout",
     "output_type": "stream",
     "text": [
      "Sample 130 of 131, 'EN_VI_4', added to the nucleotide matrix(ces).\r\n",
      "Sample 131 of 131, 'EN_VI_5', added to the nucleotide matrix(ces).\r\n",
      "\r\n",
      "PHYLIP matrix saved to: ERNA_sub_noHyb.recode.min4.phy\r\n",
      "\r\n",
      "Done!\r\n",
      "\r\n"
     ]
    }
   ],
   "source": [
    "!python $vcf2phy --i $vcf_sub_noHyb"
   ]
  },
  {
   "cell_type": "markdown",
   "metadata": {},
   "source": [
    "#### NOTE: ran once but invariant sites. rerun with new .phy file"
   ]
  },
  {
   "cell_type": "code",
   "execution_count": 72,
   "metadata": {},
   "outputs": [],
   "source": [
    "#phy_file = os.path.join(iqtree_dir,'ERNA_sub_noHyb.recode.min4.phy')\n",
    "phy_file = os.path.join(iqtree_dir,'ERNA_sub_noHyb.recode.min4.phy.varsites.phy')"
   ]
  },
  {
   "cell_type": "code",
   "execution_count": 73,
   "metadata": {},
   "outputs": [],
   "source": [
    "### select options for slurm submission\n",
    "account = 'cpu-s5-denovo-0'\n",
    "partition = 'cpu-core-0'\n",
    "jobname = 'iqtree'\n",
    "time = '4-00:00:00' #time limit 1 day\n",
    "cpus = 16\n",
    "mem_cpu = 9000\n",
    "email = 'tfaske@nevada.unr.edu'\n",
    "\n",
    "### for iqtree\n",
    "model = 'GTR+ASC'\n",
    "bb = 1000 #bootstrap"
   ]
  },
  {
   "cell_type": "code",
   "execution_count": 74,
   "metadata": {},
   "outputs": [],
   "source": [
    "def write_iqtree_sh(account,partition,time,cpus,mem_cpu,email,iqtree_dir,phy,model,bb):\n",
    "    with open(\"run_sub_noHyb_iqtree.sh\", \"w\") as o:\n",
    "        o.write(\"\"\"#!/usr/bin/env bash\n",
    "#SBATCH --account=%s\n",
    "#SBATCH --partition=%s\n",
    "#SBATCH --time=%s\n",
    "#SBATCH --ntasks 1\n",
    "#SBATCH --cpus-per-task %d\n",
    "#SBATCH --mem-per-cpu=%d\n",
    "#SBATCH --job-name iqtree_sub_noHyb\n",
    "#SBATCH --output output_iqtree_sub_noHyb.txt\n",
    "#SBATCH --mail-type=END\n",
    "#SBATCH --mail-user=%s\n",
    "\n",
    "cd %s\n",
    "    \n",
    "iqtree -s %s -nt %d -m %s -st DNA -bb %d \\n\\n\"\"\" % (account,partition,time,int(cpus),int(mem_cpu),email,iqtree_dir,phy,int(cpus),model,bb))\n",
    "        \n",
    "        "
   ]
  },
  {
   "cell_type": "code",
   "execution_count": 75,
   "metadata": {},
   "outputs": [],
   "source": [
    "write_iqtree_sh(account,partition,time,cpus,mem_cpu,email,iqtree_dir,phy_file,model,bb)"
   ]
  },
  {
   "cell_type": "code",
   "execution_count": null,
   "metadata": {},
   "outputs": [],
   "source": []
  },
  {
   "cell_type": "code",
   "execution_count": null,
   "metadata": {},
   "outputs": [],
   "source": []
  }
 ],
 "metadata": {
  "kernelspec": {
   "display_name": "Python 3 (ipykernel)",
   "language": "python",
   "name": "python3"
  },
  "language_info": {
   "codemirror_mode": {
    "name": "ipython",
    "version": 3
   },
   "file_extension": ".py",
   "mimetype": "text/x-python",
   "name": "python",
   "nbconvert_exporter": "python",
   "pygments_lexer": "ipython3",
   "version": "3.11.0"
  }
 },
 "nbformat": 4,
 "nbformat_minor": 4
}
